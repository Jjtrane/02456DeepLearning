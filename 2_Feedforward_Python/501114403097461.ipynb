{
  "cells": [
    {
      "cell_type": "markdown",
      "metadata": {
        "id": "HAva8TnYFtFu"
      },
      "source": [
        "# Contents and why we need this lab\n",
        "\n",
        "This lab is about implementing neural networks yourself before we start using other frameworks that hide some of the computation from you. It builds on the first lab, where you derived the equations for neural network forward and backward propagation and gradient descent parameter updates. \n",
        "\n",
        "All the frameworks for deep learning you will meet from now on use automatic differentiation (autodiff), so you do not have to code the backward step yourself. In this version of this lab, you will develop your own autodif implementation. We also have an optional [version](https://github.com/DeepLearningDTU/02456-deep-learning-with-PyTorch/blob/master/2_Feedforward_Python/2.2-FNN-NumPy.ipynb) of this lab where you have to code the backward pass explicitly in Numpy."
      ]
    },
    {
      "cell_type": "markdown",
      "metadata": {
        "id": "sCa7HzwpFtFy"
      },
      "source": [
        "# External sources of information\n",
        "\n",
        "1. Jupyter notebook. You can find more information about Jupyter notebooks [here](https://jupyter.org/). It will come as part of the [Anaconda](https://www.anaconda.com/) Python installation. \n",
        "2. [NumPy](https://numpy.org/). Part of Anaconda distribution.  If you already know how to program, most things about Python and NumPy can be found with Google searches.\n",
        "3. [Nanograd](https://github.com/rasmusbergpalm/nanograd) is a minimalistic version of autodiff developed by Rasmus Berg Palm that we use for our framework.\n"
      ]
    },
    {
      "cell_type": "markdown",
      "metadata": {
        "id": "1SjiIp-TFtF0"
      },
      "source": [
        "# This notebook will follow the next steps:\n",
        "\n",
        "1. Nanograd automatic differentiation framework\n",
        "2. Finite difference method\n",
        "3. Data generation\n",
        "4. Defining and initializing the network\n",
        "5. Forward pass\n",
        "6. Training loop \n",
        "7. Testing your model\n",
        "8. Further extensions"
      ]
    },
    {
      "cell_type": "markdown",
      "metadata": {
        "id": "OyXeAA-HuT7s"
      },
      "source": [
        "# Nanograd automatic differention framework"
      ]
    },
    {
      "cell_type": "markdown",
      "metadata": {
        "id": "k6UWKCLKubgA"
      },
      "source": [
        "The [Nanograd](https://github.com/rasmusbergpalm/nanograd) framework defines a class Var which both holds a value and gradient value that we can use to store the intermediate values when we apply the chain rule of differentiation."
      ]
    },
    {
      "cell_type": "code",
      "execution_count": null,
      "metadata": {
        "id": "Jd4CoEBNzNWS"
      },
      "outputs": [],
      "source": [
        "# Copy and pasted from https://github.com/rasmusbergpalm/nanograd/blob/3a1bf9e9e724da813bfccf91a6f309abdade9f39/nanograd.py\n",
        "\n",
        "from math import exp, log\n",
        "\n",
        "class Var:\n",
        "    \"\"\"\n",
        "    A variable which holds a float and enables gradient computations.\n",
        "    \"\"\"\n",
        "\n",
        "    def __init__(self, val: float, grad_fn=lambda: []):\n",
        "        assert type(val) == float\n",
        "        self.v = val\n",
        "        self.grad_fn = grad_fn\n",
        "        self.grad = 0.0\n",
        "\n",
        "    def backprop(self, bp):\n",
        "        self.grad += bp\n",
        "        for input, grad in self.grad_fn():\n",
        "            input.backprop(grad * bp)\n",
        "\n",
        "    def backward(self):\n",
        "        self.backprop(1.0)\n",
        "\n",
        "    def __add__(self: 'Var', other: 'Var') -> 'Var':\n",
        "        return Var(self.v + other.v, lambda: [(self, 1.0), (other, 1.0)])\n",
        "\n",
        "    def __mul__(self: 'Var', other: 'Var') -> 'Var':\n",
        "        return Var(self.v * other.v, lambda: [(self, other.v), (other, self.v)])\n",
        "\n",
        "    def __pow__(self, power):\n",
        "        assert type(power) in {float, int}, \"power must be float or int\"\n",
        "        return Var(self.v ** power, lambda: [(self, power * self.v ** (power - 1))])\n",
        "\n",
        "    def __neg__(self: 'Var') -> 'Var':\n",
        "        return Var(-1.0) * self\n",
        "\n",
        "    def __sub__(self: 'Var', other: 'Var') -> 'Var':\n",
        "        return self + (-other)\n",
        "\n",
        "    def __truediv__(self: 'Var', other: 'Var') -> 'Var':\n",
        "        return self * other ** -1\n",
        "\n",
        "    def exp(self):\n",
        "        return Var(exp(self.v), lambda: [(self, exp(self.v))])\n",
        "\n",
        "    def log(self):\n",
        "        return Var(log(self.v), lambda: [(self, self.v ** -1)])\n",
        "\n",
        "    def __repr__(self):\n",
        "        return \"Var(v=%.4f, grad=%.4f)\" % (self.v, self.grad)\n",
        "\n",
        "    def relu(self):\n",
        "        return Var(self.v if self.v > 0.0 else 0.0, lambda: [(self, 1.0 if self.v > 0.0 else 0.0)])\n",
        "\n",
        "    def identity(self):\n",
        "        return Var(self.v, lambda: [(self, 1.0)])\n",
        "    \n",
        "    def tanh(self):\n",
        "        t = (exp(2 * self.v) - 1) / (exp(2 * self.v) + 1)\n",
        "        return Var(t, lambda: [(self, 1 - t**2)])\n",
        "    \n",
        "    def sigmoid(self):\n",
        "        s = 1 / (1 + exp(-self.v))\n",
        "        return Var(s, lambda: [(self, s * (1 - s))])"
      ]
    },
    {
      "cell_type": "markdown",
      "metadata": {
        "id": "yDX67D6jzcte"
      },
      "source": [
        "A few examples illustrate how we can use this:"
      ]
    },
    {
      "cell_type": "code",
      "execution_count": null,
      "metadata": {
        "id": "xk6PeLc3zwPT",
        "colab": {
          "base_uri": "https://localhost:8080/"
        },
        "outputId": "3416717b-7e2b-43b1-f58b-229bf40b5388"
      },
      "outputs": [
        {
          "output_type": "stream",
          "name": "stdout",
          "text": [
            "Var(v=3.0000, grad=5.0000)\n",
            "Var(v=5.0000, grad=3.0000)\n",
            "Var(v=15.0000, grad=1.0000)\n"
          ]
        }
      ],
      "source": [
        "a = Var(3.0)\n",
        "b = Var(5.0)\n",
        "f = a * b\n",
        "\n",
        "f.backward()\n",
        "\n",
        "for v in [a, b, f]:\n",
        "    print(v)"
      ]
    },
    {
      "cell_type": "code",
      "execution_count": null,
      "metadata": {
        "id": "JmKhYgsY0g_o",
        "colab": {
          "base_uri": "https://localhost:8080/"
        },
        "outputId": "6e9da88f-04b8-49f6-f12d-1875d9adc234"
      },
      "outputs": [
        {
          "output_type": "stream",
          "name": "stdout",
          "text": [
            "Var(v=3.0000, grad=14.0000)\n",
            "Var(v=5.0000, grad=3.0000)\n",
            "Var(v=15.0000, grad=1.0000)\n",
            "Var(v=9.0000, grad=3.0000)\n",
            "Var(v=27.0000, grad=1.0000)\n",
            "Var(v=42.0000, grad=1.0000)\n"
          ]
        }
      ],
      "source": [
        "a = Var(3.0)\n",
        "b = Var(5.0)\n",
        "c = a * b\n",
        "d = Var(9.0)\n",
        "e = a * d\n",
        "f = c + e\n",
        "\n",
        "f.backward()\n",
        "\n",
        "for v in [a, b, c, d, e, f]:\n",
        "    print(v)"
      ]
    },
    {
      "cell_type": "markdown",
      "metadata": {
        "id": "Fe3B6uEH140p"
      },
      "source": [
        "## Exercise a) What is being calculated?\n",
        "\n",
        "Explain briefly the output of the code? What is the expression we differentiate and with respect to what variables?\n",
        "\n",
        "The output of the code is the representation of all the variables in the 2 expressions after the backward pass, with the value and the gradient.\n",
        "\n",
        "The first expression is $ f = a *b$ with $ a = 3, b = 5 $. Here we differentiate $a$ and $b$ with respect to $f$.\n",
        "\n",
        "The second expression is $ f = c + e = a*b + a*d $ with $ a=3, b=5, d=9 $. Here we differentiate $c$ and $e$ with respect to $f$ and subsequently we differentiate $b$ with respect to $c$, $a$ with respect to $c$ and $e$, $d$ with respect to $e$.\n"
      ]
    },
    {
      "cell_type": "markdown",
      "metadata": {
        "id": "q8_Q0t2I3Ruj"
      },
      "source": [
        "## Exercise b) How does the backward function work?\n",
        "\n",
        "You need to understand how the backward function calculates the gradients. We can use the two examples above to help with that.\n",
        "\n",
        "Go through the following four steps and answer the questions on the way:\n",
        "\n",
        "1. We represent the two expressions as graphs as shown below. Fill in the missing expressions for the different derivatives.\n",
        "\n",
        "2. In the remainder consider the first expression. Make a schematic of the data structure which is generated when we define the expression for f. \n",
        "\n",
        "3. Then execute the backward function by hand to convince yourself that it indeed calculates the gradients with respect to the variables. \n",
        "\n",
        "4. Write down the sequence of calls to backprop.\n",
        "\n",
        "f.backward() ->\n",
        "\n",
        "&nbsp;&nbsp;&nbsp;&nbsp;&nbsp;&nbsp;f.backprop(1.0) [f.grad=1.0] -> \n",
        "\n",
        "&nbsp;&nbsp;&nbsp;&nbsp;&nbsp;&nbsp;&nbsp;&nbsp;&nbsp;&nbsp;&nbsp;&nbsp;a.backprop(5.0 * 1.0) [a.grad = 5.0]\n",
        "\n",
        "&nbsp;&nbsp;&nbsp;&nbsp;&nbsp;&nbsp;&nbsp;&nbsp;&nbsp;&nbsp;&nbsp;&nbsp;b.backprop(3.0 * 1.0) [b.grad = 3.0]\n"
      ]
    },
    {
      "cell_type": "code",
      "execution_count": null,
      "metadata": {
        "id": "idGr71jYXl26"
      },
      "outputs": [],
      "source": [
        "# import logging\n",
        "import graphviz\n",
        "\n",
        "#logging.basicConfig(format='[%(levelname)s@%(name)s] %(message)s', level=logging.DEBUG)\n",
        "\n",
        "#graphviz.__version__, graphviz.version()"
      ]
    },
    {
      "cell_type": "code",
      "execution_count": null,
      "metadata": {
        "id": "KPe30Q2QXzeG",
        "colab": {
          "base_uri": "https://localhost:8080/",
          "height": 152
        },
        "outputId": "a2e8fb7b-f1ba-4224-a63b-507a81939013"
      },
      "outputs": [
        {
          "output_type": "execute_result",
          "data": {
            "text/plain": [
              "<graphviz.dot.Digraph at 0x7f5b9de6a750>"
            ],
            "image/svg+xml": "<?xml version=\"1.0\" encoding=\"UTF-8\" standalone=\"no\"?>\n<!DOCTYPE svg PUBLIC \"-//W3C//DTD SVG 1.1//EN\"\n \"http://www.w3.org/Graphics/SVG/1.1/DTD/svg11.dtd\">\n<!-- Generated by graphviz version 2.40.1 (20161225.0304)\n -->\n<!-- Title: first expression Pages: 1 -->\n<svg width=\"206pt\" height=\"98pt\"\n viewBox=\"0.00 0.00 205.99 98.00\" xmlns=\"http://www.w3.org/2000/svg\" xmlns:xlink=\"http://www.w3.org/1999/xlink\">\n<g id=\"graph0\" class=\"graph\" transform=\"scale(1 1) rotate(0) translate(4 94)\">\n<title>first expression</title>\n<polygon fill=\"#ffffff\" stroke=\"transparent\" points=\"-4,4 -4,-94 201.9942,-94 201.9942,4 -4,4\"/>\n<!-- a -->\n<g id=\"node1\" class=\"node\">\n<title>a</title>\n<ellipse fill=\"none\" stroke=\"#000000\" cx=\"18\" cy=\"-72\" rx=\"18\" ry=\"18\"/>\n<text text-anchor=\"middle\" x=\"18\" y=\"-68.3\" font-family=\"Times,serif\" font-size=\"14.00\" fill=\"#000000\">a</text>\n</g>\n<!-- f=a*b -->\n<g id=\"node2\" class=\"node\">\n<title>f=a*b</title>\n<ellipse fill=\"none\" stroke=\"#000000\" cx=\"165.4971\" cy=\"-45\" rx=\"32.4942\" ry=\"32.4942\"/>\n<text text-anchor=\"middle\" x=\"165.4971\" y=\"-41.3\" font-family=\"Times,serif\" font-size=\"14.00\" fill=\"#000000\">f=a*b</text>\n</g>\n<!-- a&#45;&gt;f=a*b -->\n<g id=\"edge1\" class=\"edge\">\n<title>a&#45;&gt;f=a*b</title>\n<path fill=\"none\" stroke=\"#000000\" d=\"M35.7916,-68.7432C57.3815,-64.791 94.4929,-57.9976 123.5023,-52.6873\"/>\n<polygon fill=\"#000000\" stroke=\"#000000\" points=\"124.1803,-56.1215 133.3866,-50.878 122.9198,-49.2359 124.1803,-56.1215\"/>\n<text text-anchor=\"middle\" x=\"84.5\" y=\"-67.8\" font-family=\"Times,serif\" font-size=\"14.00\" fill=\"#000000\">df/da=b=5</text>\n</g>\n<!-- b -->\n<g id=\"node3\" class=\"node\">\n<title>b</title>\n<ellipse fill=\"none\" stroke=\"#000000\" cx=\"18\" cy=\"-18\" rx=\"18\" ry=\"18\"/>\n<text text-anchor=\"middle\" x=\"18\" y=\"-14.3\" font-family=\"Times,serif\" font-size=\"14.00\" fill=\"#000000\">b</text>\n</g>\n<!-- b&#45;&gt;f=a*b -->\n<g id=\"edge2\" class=\"edge\">\n<title>b&#45;&gt;f=a*b</title>\n<path fill=\"none\" stroke=\"#000000\" d=\"M35.8992,-21.0156C55.3802,-24.326 87.4369,-29.8561 115,-35 117.8004,-35.5226 120.6862,-36.0701 123.5929,-36.6282\"/>\n<polygon fill=\"#000000\" stroke=\"#000000\" points=\"122.9775,-40.074 133.4615,-38.5457 124.3127,-33.2025 122.9775,-40.074\"/>\n<text text-anchor=\"middle\" x=\"84.5\" y=\"-38.8\" font-family=\"Times,serif\" font-size=\"14.00\" fill=\"#000000\">df/db=a=3</text>\n</g>\n</g>\n</svg>\n"
          },
          "metadata": {},
          "execution_count": 5
        }
      ],
      "source": [
        "e1 = graphviz.Digraph('first expression', filename='fsm.gv')\n",
        "\n",
        "e1.attr(rankdir='LR', size='8,5')\n",
        "\n",
        "e1.attr('node', shape='circle')\n",
        "e1.edge('a', 'f=a*b', label='df/da=b=5')\n",
        "e1.edge('b', 'f=a*b', label='df/db=a=3')\n",
        "\n",
        "e1"
      ]
    },
    {
      "cell_type": "code",
      "execution_count": null,
      "metadata": {
        "id": "0nittR-mZFeX",
        "colab": {
          "base_uri": "https://localhost:8080/",
          "height": 232
        },
        "outputId": "955e7fdf-fe44-48e3-bdb2-2954b5483e74"
      },
      "outputs": [
        {
          "output_type": "execute_result",
          "data": {
            "text/plain": [
              "<graphviz.dot.Digraph at 0x7f5b9de0b450>"
            ],
            "image/svg+xml": "<?xml version=\"1.0\" encoding=\"UTF-8\" standalone=\"no\"?>\n<!DOCTYPE svg PUBLIC \"-//W3C//DTD SVG 1.1//EN\"\n \"http://www.w3.org/Graphics/SVG/1.1/DTD/svg11.dtd\">\n<!-- Generated by graphviz version 2.40.1 (20161225.0304)\n -->\n<!-- Title: second expression Pages: 1 -->\n<svg width=\"281pt\" height=\"158pt\"\n viewBox=\"0.00 0.00 281.00 158.00\" xmlns=\"http://www.w3.org/2000/svg\" xmlns:xlink=\"http://www.w3.org/1999/xlink\">\n<g id=\"graph0\" class=\"graph\" transform=\"scale(1 1) rotate(0) translate(4 154)\">\n<title>second expression</title>\n<polygon fill=\"#ffffff\" stroke=\"transparent\" points=\"-4,4 -4,-154 277,-154 277,4 -4,4\"/>\n<!-- a -->\n<g id=\"node1\" class=\"node\">\n<title>a</title>\n<ellipse fill=\"none\" stroke=\"#000000\" cx=\"18\" cy=\"-75\" rx=\"18\" ry=\"18\"/>\n<text text-anchor=\"middle\" x=\"18\" y=\"-71.3\" font-family=\"Times,serif\" font-size=\"14.00\" fill=\"#000000\">a</text>\n</g>\n<!-- c -->\n<g id=\"node2\" class=\"node\">\n<title>c</title>\n<ellipse fill=\"none\" stroke=\"#000000\" cx=\"137\" cy=\"-102\" rx=\"18\" ry=\"18\"/>\n<text text-anchor=\"middle\" x=\"137\" y=\"-98.3\" font-family=\"Times,serif\" font-size=\"14.00\" fill=\"#000000\">c</text>\n</g>\n<!-- a&#45;&gt;c -->\n<g id=\"edge1\" class=\"edge\">\n<title>a&#45;&gt;c</title>\n<path fill=\"none\" stroke=\"#000000\" d=\"M35.5589,-78.9839C55.0696,-83.4108 86.8223,-90.6151 109.6075,-95.7849\"/>\n<polygon fill=\"#000000\" stroke=\"#000000\" points=\"108.8425,-99.2002 119.3691,-97.9997 110.3914,-92.3737 108.8425,-99.2002\"/>\n<text text-anchor=\"middle\" x=\"77.5\" y=\"-96.8\" font-family=\"Times,serif\" font-size=\"14.00\" fill=\"#000000\">dc/da=b</text>\n</g>\n<!-- e -->\n<g id=\"node4\" class=\"node\">\n<title>e</title>\n<ellipse fill=\"none\" stroke=\"#000000\" cx=\"137\" cy=\"-48\" rx=\"18\" ry=\"18\"/>\n<text text-anchor=\"middle\" x=\"137\" y=\"-44.3\" font-family=\"Times,serif\" font-size=\"14.00\" fill=\"#000000\">e</text>\n</g>\n<!-- a&#45;&gt;e -->\n<g id=\"edge3\" class=\"edge\">\n<title>a&#45;&gt;e</title>\n<path fill=\"none\" stroke=\"#000000\" d=\"M35.1093,-69.3663C41.0519,-67.518 47.7844,-65.5441 54,-64 72.2255,-59.4724 92.9698,-55.4733 109.1606,-52.6056\"/>\n<polygon fill=\"#000000\" stroke=\"#000000\" points=\"109.8139,-56.0446 119.0705,-50.8903 108.62,-49.1472 109.8139,-56.0446\"/>\n<text text-anchor=\"middle\" x=\"77.5\" y=\"-67.8\" font-family=\"Times,serif\" font-size=\"14.00\" fill=\"#000000\">de/da=d</text>\n</g>\n<!-- f -->\n<g id=\"node6\" class=\"node\">\n<title>f</title>\n<ellipse fill=\"none\" stroke=\"#000000\" cx=\"255\" cy=\"-75\" rx=\"18\" ry=\"18\"/>\n<text text-anchor=\"middle\" x=\"255\" y=\"-71.3\" font-family=\"Times,serif\" font-size=\"14.00\" fill=\"#000000\">f</text>\n</g>\n<!-- c&#45;&gt;f -->\n<g id=\"edge5\" class=\"edge\">\n<title>c&#45;&gt;f</title>\n<path fill=\"none\" stroke=\"#000000\" d=\"M154.6658,-97.9578C173.8698,-93.5637 204.8151,-86.483 227.2661,-81.3459\"/>\n<polygon fill=\"#000000\" stroke=\"#000000\" points=\"228.2461,-84.7122 237.2134,-79.0698 226.6847,-77.8885 228.2461,-84.7122\"/>\n<text text-anchor=\"middle\" x=\"196\" y=\"-96.8\" font-family=\"Times,serif\" font-size=\"14.00\" fill=\"#000000\">df/dc=1</text>\n</g>\n<!-- b -->\n<g id=\"node3\" class=\"node\">\n<title>b</title>\n<ellipse fill=\"none\" stroke=\"#000000\" cx=\"18\" cy=\"-132\" rx=\"18\" ry=\"18\"/>\n<text text-anchor=\"middle\" x=\"18\" y=\"-128.3\" font-family=\"Times,serif\" font-size=\"14.00\" fill=\"#000000\">b</text>\n</g>\n<!-- b&#45;&gt;c -->\n<g id=\"edge2\" class=\"edge\">\n<title>b&#45;&gt;c</title>\n<path fill=\"none\" stroke=\"#000000\" d=\"M35.5589,-127.5734C55.0696,-122.6547 86.8223,-114.6498 109.6075,-108.9057\"/>\n<polygon fill=\"#000000\" stroke=\"#000000\" points=\"110.5281,-112.2832 119.3691,-106.4448 108.8169,-105.4955 110.5281,-112.2832\"/>\n<text text-anchor=\"middle\" x=\"77.5\" y=\"-125.8\" font-family=\"Times,serif\" font-size=\"14.00\" fill=\"#000000\">dc/db=a</text>\n</g>\n<!-- e&#45;&gt;f -->\n<g id=\"edge6\" class=\"edge\">\n<title>e&#45;&gt;f</title>\n<path fill=\"none\" stroke=\"#000000\" d=\"M155.0339,-50.9637C171.7278,-53.8381 197.1872,-58.555 219,-64 222.0098,-64.7513 225.1413,-65.6022 228.2457,-66.4899\"/>\n<polygon fill=\"#000000\" stroke=\"#000000\" points=\"227.3051,-69.8618 237.8887,-69.3744 229.3112,-63.1554 227.3051,-69.8618\"/>\n<text text-anchor=\"middle\" x=\"196\" y=\"-67.8\" font-family=\"Times,serif\" font-size=\"14.00\" fill=\"#000000\">df/de=1</text>\n</g>\n<!-- d -->\n<g id=\"node5\" class=\"node\">\n<title>d</title>\n<ellipse fill=\"none\" stroke=\"#000000\" cx=\"18\" cy=\"-18\" rx=\"18\" ry=\"18\"/>\n<text text-anchor=\"middle\" x=\"18\" y=\"-14.3\" font-family=\"Times,serif\" font-size=\"14.00\" fill=\"#000000\">d</text>\n</g>\n<!-- d&#45;&gt;e -->\n<g id=\"edge4\" class=\"edge\">\n<title>d&#45;&gt;e</title>\n<path fill=\"none\" stroke=\"#000000\" d=\"M35.9889,-20.9104C52.9226,-23.8318 78.9119,-28.785 101,-35 104.0364,-35.8544 107.1845,-36.8389 110.2985,-37.8758\"/>\n<polygon fill=\"#000000\" stroke=\"#000000\" points=\"109.3565,-41.2547 119.9514,-41.2723 111.68,-34.6515 109.3565,-41.2547\"/>\n<text text-anchor=\"middle\" x=\"77.5\" y=\"-38.8\" font-family=\"Times,serif\" font-size=\"14.00\" fill=\"#000000\">de/dd=a</text>\n</g>\n</g>\n</svg>\n"
          },
          "metadata": {},
          "execution_count": 6
        }
      ],
      "source": [
        "e2 = graphviz.Digraph('second expression', filename='fsm.gv')\n",
        "\n",
        "e2.attr(rankdir='LR', size='8,5')\n",
        "\n",
        "e2.attr('node', shape='circle')\n",
        "e2.edge('a', 'c', label='dc/da=b')\n",
        "e2.edge('b', 'c', label='dc/db=a')\n",
        "e2.edge('a', 'e', label='de/da=d')\n",
        "e2.edge('d', 'e', label='de/dd=a')\n",
        "e2.edge('c', 'f', label='df/dc=1')\n",
        "e2.edge('e', 'f', label='df/de=1')\n",
        "\n",
        "e2"
      ]
    },
    {
      "cell_type": "markdown",
      "metadata": {
        "id": "A5oi21W4gpeM"
      },
      "source": [
        "## Exercise c) What happens if we run backward again?\n",
        "\n",
        "Try to execute the code below. Explain what happens.\n",
        "\n",
        "The gradient value increases each time by the first gradient value because for each backward run we are adding to the previous gradient (self.grad += bp). \n",
        "E.g. the gradient value of a goes like this: 14, 28, 42, ..."
      ]
    },
    {
      "cell_type": "code",
      "execution_count": null,
      "metadata": {
        "id": "DCtpJyr-gyX1",
        "colab": {
          "base_uri": "https://localhost:8080/"
        },
        "outputId": "80ed28e0-dd72-43ad-e1a7-974d50845e56"
      },
      "outputs": [
        {
          "output_type": "stream",
          "name": "stdout",
          "text": [
            "Var(v=3.0000, grad=28.0000)\n",
            "Var(v=5.0000, grad=6.0000)\n",
            "Var(v=15.0000, grad=2.0000)\n",
            "Var(v=9.0000, grad=6.0000)\n",
            "Var(v=27.0000, grad=2.0000)\n",
            "Var(v=42.0000, grad=2.0000)\n"
          ]
        }
      ],
      "source": [
        "f.backward()\n",
        "\n",
        "for v in [a, b, c, d, e, f]:\n",
        "    print(v)"
      ]
    },
    {
      "cell_type": "markdown",
      "metadata": {
        "id": "e8bPVq2VhsP-"
      },
      "source": [
        "## Exercise d) Zero gradient\n",
        "\n",
        "We can zero the gradient by backpropagating a -1.0 as is shown in the example below. (If you have run backward multiple time then you also have to run the cell below an equal amount of times.) Explain what is going on.\n",
        "\n",
        "By backpropagating a -1.0 we are subtracting the same amount as the previous gradient value, so each Var's gradient becomes zero. "
      ]
    },
    {
      "cell_type": "code",
      "execution_count": null,
      "metadata": {
        "id": "OnyPDQx9lJe0",
        "colab": {
          "base_uri": "https://localhost:8080/"
        },
        "outputId": "7a065c14-9f10-49da-fe9f-cb8059362fca"
      },
      "outputs": [
        {
          "output_type": "stream",
          "name": "stdout",
          "text": [
            "Var(v=2.0000, grad=0.0000)\n",
            "Var(v=5.0000, grad=6.0000)\n",
            "Var(v=15.0000, grad=2.0000)\n",
            "Var(v=9.0000, grad=6.0000)\n",
            "Var(v=27.0000, grad=2.0000)\n",
            "Var(v=42.0000, grad=2.0000)\n",
            "Var(v=2.0000, grad=0.0000)\n",
            "Var(v=5.0000, grad=3.0000)\n",
            "Var(v=15.0000, grad=1.0000)\n",
            "Var(v=9.0000, grad=3.0000)\n",
            "Var(v=27.0000, grad=1.0000)\n",
            "Var(v=42.0000, grad=1.0000)\n"
          ]
        }
      ],
      "source": [
        "a = Var(2.0)\n",
        "\n",
        "for v in [a, b, c, d, e, f]:\n",
        "    print(v)\n",
        "\n",
        "f.backprop(-1.0)\n",
        "\n",
        "for v in [a, b, c, d, e, f]:\n",
        "    print(v)"
      ]
    },
    {
      "cell_type": "markdown",
      "metadata": {
        "id": "U4057_ljNvWB"
      },
      "source": [
        "## Exercise e) Test correctness of derivatives with the finite difference method\n",
        "\n",
        "Write a small function that uses [the finite difference method](https://en.wikipedia.org/wiki/Finite_difference_method) to numerically test that backpropation implementation is working. In short we will use\n",
        "$$\n",
        "\\frac{\\partial f(a)}{\\partial a} \\approx \\frac{f(a+da)-f(a)}{da}\n",
        "$$\n",
        "for $da \\ll 1$.\n",
        "\n",
        "As an example, we could approximate the derivative of the function $f(a)=a^2$ in e.g. the value $a=4$ using the finite difference method. This amounts to inserting the relevant values and approximating the gradient $f'(4)$ with the fraction above. \n"
      ]
    },
    {
      "cell_type": "code",
      "execution_count": null,
      "metadata": {
        "id": "9TGil92lSXDN",
        "colab": {
          "base_uri": "https://localhost:8080/"
        },
        "outputId": "3eee37cb-4276-4b73-fde0-75880a4aa082"
      },
      "outputs": [
        {
          "output_type": "stream",
          "name": "stdout",
          "text": [
            "Var(v=3.0000, grad=5.0000)\n",
            "Var(v=5.0000, grad=3.0000)\n",
            "Var(v=2.0000, grad=1.0000)\n",
            "Var(v=17.0000, grad=1.0000)\n",
            "8.000000661922968\n"
          ]
        }
      ],
      "source": [
        "# f function - try to change the code to test other types of functions as well (such as different polynomials etc.)\n",
        "def f_function(a):\n",
        "  a = Var(a)\n",
        "  b = Var(5.0)\n",
        "  c = Var(2.0)\n",
        "  f = a * b + c\n",
        "  f.backward()\n",
        "  return a,b,c,f\n",
        "\n",
        "for v in f_function(3.0):\n",
        "  print(v)\n",
        "\n",
        "# Insert your finite difference code here\n",
        "def finite_difference(da=1e-10):\n",
        "    \"\"\"\n",
        "    This function compute the finite difference between\n",
        "    \n",
        "    Input:\n",
        "    da:          The finite difference                           (float)\n",
        "    \n",
        "    Output:\n",
        "    finite_difference: numerical approximation to the derivative (float) \n",
        "    \"\"\"\n",
        "    \n",
        "    a = 4.0\n",
        "    fa_da = (a+da)**2         # <- Insert correct expression\n",
        "    fa = a**2               # <- Insert correct expression\n",
        "\n",
        "    finite_difference = (fa_da - fa) / da\n",
        "    \n",
        "    return finite_difference\n",
        "\n",
        "print(finite_difference())"
      ]
    },
    {
      "cell_type": "markdown",
      "metadata": {
        "id": "6pZar5RKaUkg"
      },
      "source": [
        "# Create an artificial dataset to play with\n",
        "\n",
        "We create a non-linear 1d regression task. The generator supports various noise levels and it creates train, validation and test sets. You can modify it yourself if you want more or less challenging tasks."
      ]
    },
    {
      "cell_type": "code",
      "execution_count": null,
      "metadata": {
        "id": "Y6yfMAQ8aduj"
      },
      "outputs": [],
      "source": [
        "import numpy as np\n",
        "import matplotlib.pyplot as plt\n",
        "\n",
        "np.random.seed(42)"
      ]
    },
    {
      "cell_type": "code",
      "execution_count": null,
      "metadata": {
        "id": "4YabfD43ajNh"
      },
      "outputs": [],
      "source": [
        "def data_generator(noise=0.1, n_samples=300, D1=True):\n",
        "    # Create covariates and response variable\n",
        "    if D1:\n",
        "        X = np.linspace(-3, 3, num=n_samples).reshape(-1,1) # 1-D\n",
        "        np.random.shuffle(X)\n",
        "        y = np.random.normal((0.5*np.sin(X[:,0]*3) + X[:,0]), noise) # 1-D with trend\n",
        "    else:\n",
        "        X = np.random.multivariate_normal(np.zeros(3), noise*np.eye(3), size = n_samples) # 3-D\n",
        "        np.random.shuffle(X)    \n",
        "        y = np.sin(X[:,0]) - 5*(X[:,1]**2) + 0.5*X[:,2] # 3-D\n",
        "\n",
        "    # Stack them together vertically to split data set\n",
        "    data_set = np.vstack((X.T,y)).T\n",
        "    \n",
        "    train, validation, test = np.split(data_set, [int(0.35*n_samples), int(0.7*n_samples)], axis=0)\n",
        "    \n",
        "    # Standardization of the data, remember we do the standardization with the training set mean and standard deviation\n",
        "    train_mu = np.mean(train, axis=0)\n",
        "    train_sigma = np.std(train, axis=0)\n",
        "    \n",
        "    train = (train-train_mu)/train_sigma\n",
        "    validation = (validation-train_mu)/train_sigma\n",
        "    test = (test-train_mu)/train_sigma\n",
        "    \n",
        "    x_train, x_validation, x_test = train[:,:-1], validation[:,:-1], test[:,:-1]\n",
        "    y_train, y_validation, y_test = train[:,-1], validation[:,-1], test[:,-1]\n",
        "\n",
        "    return x_train, y_train,  x_validation, y_validation, x_test, y_test"
      ]
    },
    {
      "cell_type": "code",
      "execution_count": null,
      "metadata": {
        "id": "u1oDngHLapIz"
      },
      "outputs": [],
      "source": [
        "D1 = True\n",
        "x_train, y_train,  x_validation, y_validation, x_test, y_test = data_generator(noise=0.5, D1=D1)"
      ]
    },
    {
      "cell_type": "code",
      "execution_count": null,
      "metadata": {
        "id": "Ysfa3FsBavlm",
        "colab": {
          "base_uri": "https://localhost:8080/",
          "height": 265
        },
        "outputId": "24aaf961-a7db-4e1f-91df-95879558f25e"
      },
      "outputs": [
        {
          "output_type": "display_data",
          "data": {
            "text/plain": [
              "<Figure size 432x288 with 1 Axes>"
            ],
            "image/png": "[encoded data removed]"
          },
          "metadata": {
            "needs_background": "light"
          }
        }
      ],
      "source": [
        "if D1:\n",
        "    plt.scatter(x_train[:,0], y_train);\n",
        "    plt.scatter(x_validation[:,0], y_validation);\n",
        "    plt.scatter(x_test[:,0], y_test);\n",
        "else:\n",
        "    plt.scatter(x_train[:,1], y_train);\n",
        "    plt.scatter(x_validation[:,1], y_validation);\n",
        "    plt.scatter(x_test[:,1], y_test);\n",
        "plt.show()"
      ]
    },
    {
      "cell_type": "code",
      "execution_count": null,
      "metadata": {
        "id": "zac2HHNlgbpm"
      },
      "outputs": [],
      "source": [
        "# convert from nparray to Var\n",
        "def nparray_to_Var(x):\n",
        "  if x.ndim==1:\n",
        "    y = [[Var(float(x[i]))] for i in range(x.shape[0])] # always work with list of list\n",
        "  else:\n",
        "    y = [[Var(float(x[i,j])) for j in range(x.shape[1])] for i in range(x.shape[0])]\n",
        "  return y\n",
        "   \n",
        "x_train = nparray_to_Var(x_train)\n",
        "y_train = nparray_to_Var(y_train)\n",
        "x_validation = nparray_to_Var(x_validation)\n",
        "y_validation = nparray_to_Var(y_validation)\n",
        "x_test = nparray_to_Var(x_test)\n",
        "y_test = nparray_to_Var(y_test)\n"
      ]
    },
    {
      "cell_type": "markdown",
      "metadata": {
        "id": "VbjrqcpVFtGe"
      },
      "source": [
        "# Defining and initializing the network\n",
        "\n",
        "The steps to create a feed forward neural network are the following:\n",
        "\n",
        "1. **Number of hidden layer and hidden units**. We have to define the number of hidden units in each layer. The number of features in X and the output dimensionality (the size of Y) are given but the numbers in between are set by the researcher. Remember that for each unit in each layer beside in the input has a bias term.\n",
        "2. **Activation functions** for each hidden layer. Each hidden layer in your list must have an activation function (it can also be the linear activation which is equivalent to identity function). The power of neural networks comes from non-linear activation functions that learn representations (features) from the data allowing us to learn from it. \n",
        "3. **Parameter initialization**. We will initialize the weights to have random values. This is done in practice by drawing pseudo random numbers from a Gaussian or uniform distribution. It turns out that for deeper models we have to be careful about how we scale the random numbers. This will be the topic of the exercise below. For now we will just use unit variance Gaussians.  \n",
        "\n",
        "In order to make life easier for ourselves we define a DenseLayer class that takes care of initialization and the forward pass. We can also extend it later with print and advanced initialization capabilities. For the latter we have introduced a Initializer class.\n",
        "\n",
        "Note that we use Sequence in the code below. A Sequence is an ordered list. This means the order we insert and access items are the same."
      ]
    },
    {
      "cell_type": "code",
      "execution_count": null,
      "metadata": {
        "id": "ij_ieRsAt7Xt"
      },
      "outputs": [],
      "source": [
        "class Initializer:\n",
        "\n",
        "  def init_weights(self, n_in, n_out):\n",
        "    raise NotImplementedError\n",
        "\n",
        "  def init_bias(self, n_out):\n",
        "    raise NotImplementedError"
      ]
    },
    {
      "cell_type": "code",
      "execution_count": null,
      "metadata": {
        "id": "eb18N5phuIha"
      },
      "outputs": [],
      "source": [
        "import random\n",
        "\n",
        "class NormalInitializer(Initializer):\n",
        "\n",
        "  def __init__(self, mean=0, std=0.1):\n",
        "    self.mean = mean\n",
        "    self.std = std\n",
        "\n",
        "  def init_weights(self, n_in, n_out):\n",
        "    return [[Var(random.gauss(self.mean, self.std)) for _ in range(n_out)] for _ in range(n_in)]\n",
        "\n",
        "  def init_bias(self, n_out):\n",
        "    return [Var(0.0) for _ in range(n_out)]\n",
        "\n",
        "class ConstantInitializer(Initializer):\n",
        "\n",
        "  def __init__(self, weight=1.0, bias=0.0):\n",
        "    self.weight = weight\n",
        "    self.bias = bias\n",
        "\n",
        "  def init_weights(self, n_in, n_out):\n",
        "    return [[Var(self.weight) for _ in range(n_out)] for _ in range(n_in)]\n",
        "\n",
        "  def init_bias(self, n_out):\n",
        "    return [Var(self.bias) for _ in range(n_out)]"
      ]
    },
    {
      "cell_type": "code",
      "execution_count": null,
      "metadata": {
        "id": "jOLYGnZKuM6W"
      },
      "outputs": [],
      "source": [
        "from typing import Sequence\n",
        "\n",
        "class DenseLayer:\n",
        "    def __init__(self, n_in: int, n_out: int, act_fn, initializer = NormalInitializer()):\n",
        "        self.weights = initializer.init_weights(n_in, n_out)\n",
        "        self.bias = initializer.init_bias(n_out)\n",
        "        self.act_fn = act_fn\n",
        "    \n",
        "    def __repr__(self):    \n",
        "        return 'Weights: ' + repr(self.weights) + ' Biases: ' + repr(self.bias)\n",
        "\n",
        "    def parameters(self) -> Sequence[Var]:\n",
        "      params = []\n",
        "      for r in self.weights:\n",
        "        params += r\n",
        "\n",
        "      return params + self.bias\n",
        "\n",
        "    def forward(self, single_input: Sequence[Var]) -> Sequence[Var]:\n",
        "        # self.weights is a matrix with dimension n_in x n_out. We check that the dimensionality of the input \n",
        "        # to the current layer matches the number of nodes in the current layer\n",
        "        assert len(self.weights) == len(single_input), \"weights and single_input must match in first dimension\"\n",
        "        weights = self.weights\n",
        "        out = []\n",
        "        # For some given data point single_input, we now want to calculate the resulting value in each node in the current layer\n",
        "        # We therefore loop over the (number of) nodes in the current layer:\n",
        "        for j in range(len(weights[0])): \n",
        "            # Initialize the node value depending on its corresponding parameters.\n",
        "            node = self.bias[j] # <- Insert code\n",
        "            # We now finish the linear transformation corresponding to the parameters of the currently considered node.\n",
        "            for i in range(len(single_input)):\n",
        "                node += weights[i][j] * single_input[i]  # <- Insert code\n",
        "            node = self.act_fn(node)\n",
        "            out.append(node)\n",
        "\n",
        "        return out"
      ]
    },
    {
      "cell_type": "markdown",
      "metadata": {
        "id": "jpIZPBpNI0pO"
      },
      "source": [
        "## Exercise f) Add more activation functions\n",
        "\n",
        "To have a full definition of the neural network, we must define an activation function for every layer. Several activation functions have been proposed and have different characteristics. In the Var class we have already defined the rectified linear init (relu). \n",
        " \n",
        "Implement the following activation functions in the Var class:\n",
        "\n",
        "* Identity: $$\\mathrm{identity}(x) = x$$\n",
        "* Hyperbolic tangent: $$\\tanh(x)$$\n",
        "* Sigmoid (or logistic function): $$\\mathrm{sigmoid}(x) = \\frac{1}{1.0 + \\exp(-x ) }$$  Hint: $\\mathrm{sigmoid}'(x)= \\mathrm{sigmoid}(x)(1-\\mathrm{sigmoid}(x))$.  \n",
        "\n",
        "Hint: You can seek inspiration in the relu method in the Var class."
      ]
    },
    {
      "cell_type": "markdown",
      "metadata": {
        "id": "p_8n_SKnIW2F"
      },
      "source": [
        "## Exercise g) Complete the forward pass\n",
        "\n",
        "In the code below we initialize a 1-5-1 network and pass the training set through it. *The forward method in DenseLayer is **not** complete*. It just outputs zeros right now. The method forward should perform an [affine transformation](https://en.wikipedia.org/wiki/Affine_transformation) on the input followed by an application of the activation function."
      ]
    },
    {
      "cell_type": "code",
      "execution_count": null,
      "metadata": {
        "id": "xDEjtePxE7Mv",
        "colab": {
          "base_uri": "https://localhost:8080/"
        },
        "outputId": "e8aa02c0-d634-46e4-f4b0-a53863d75242"
      },
      "outputs": [
        {
          "output_type": "stream",
          "name": "stdout",
          "text": [
            "[[Var(v=-0.0200, grad=0.0000)], [Var(v=-0.0403, grad=0.0000)], [Var(v=-0.0037, grad=0.0000)], [Var(v=-0.0007, grad=0.0000)], [Var(v=-0.0297, grad=0.0000)], [Var(v=-0.0274, grad=0.0000)], [Var(v=-0.0178, grad=0.0000)], [Var(v=-0.0002, grad=0.0000)], [Var(v=-0.0007, grad=0.0000)], [Var(v=-0.0110, grad=0.0000)], [Var(v=-0.0309, grad=0.0000)], [Var(v=-0.0004, grad=0.0000)], [Var(v=-0.0248, grad=0.0000)], [Var(v=-0.0005, grad=0.0000)], [Var(v=-0.0133, grad=0.0000)], [Var(v=-0.0258, grad=0.0000)], [Var(v=-0.0476, grad=0.0000)], [Var(v=-0.0226, grad=0.0000)], [Var(v=-0.0024, grad=0.0000)], [Var(v=-0.0078, grad=0.0000)], [Var(v=-0.0003, grad=0.0000)], [Var(v=-0.0001, grad=0.0000)], [Var(v=-0.0348, grad=0.0000)], [Var(v=-0.0351, grad=0.0000)], [Var(v=-0.0002, grad=0.0000)], [Var(v=-0.0005, grad=0.0000)], [Var(v=-0.0451, grad=0.0000)], [Var(v=-0.0496, grad=0.0000)], [Var(v=-0.0053, grad=0.0000)], [Var(v=-0.0313, grad=0.0000)], [Var(v=-0.0006, grad=0.0000)], [Var(v=-0.0075, grad=0.0000)], [Var(v=-0.0006, grad=0.0000)], [Var(v=-0.0006, grad=0.0000)], [Var(v=-0.0239, grad=0.0000)], [Var(v=-0.0001, grad=0.0000)], [Var(v=-0.0007, grad=0.0000)], [Var(v=-0.0003, grad=0.0000)], [Var(v=-0.0005, grad=0.0000)], [Var(v=-0.0004, grad=0.0000)], [Var(v=-0.0002, grad=0.0000)], [Var(v=-0.0003, grad=0.0000)], [Var(v=-0.0467, grad=0.0000)], [Var(v=-0.0004, grad=0.0000)], [Var(v=-0.0003, grad=0.0000)], [Var(v=-0.0004, grad=0.0000)], [Var(v=-0.0300, grad=0.0000)], [Var(v=-0.0284, grad=0.0000)], [Var(v=-0.0002, grad=0.0000)], [Var(v=-0.0290, grad=0.0000)], [Var(v=-0.0126, grad=0.0000)], [Var(v=-0.0011, grad=0.0000)], [Var(v=-0.0316, grad=0.0000)], [Var(v=-0.0003, grad=0.0000)], [Var(v=-0.0502, grad=0.0000)], [Var(v=-0.0441, grad=0.0000)], [Var(v=-0.0002, grad=0.0000)], [Var(v=-0.0003, grad=0.0000)], [Var(v=-0.0165, grad=0.0000)], [Var(v=-0.0006, grad=0.0000)], [Var(v=-0.0293, grad=0.0000)], [Var(v=-0.0004, grad=0.0000)], [Var(v=-0.0007, grad=0.0000)], [Var(v=-0.0142, grad=0.0000)], [Var(v=-0.0104, grad=0.0000)], [Var(v=-0.0006, grad=0.0000)], [Var(v=-0.0006, grad=0.0000)], [Var(v=-0.0370, grad=0.0000)], [Var(v=-0.0004, grad=0.0000)], [Var(v=-0.0146, grad=0.0000)], [Var(v=-0.0002, grad=0.0000)], [Var(v=-0.0001, grad=0.0000)], [Var(v=-0.0287, grad=0.0000)], [Var(v=-0.0168, grad=0.0000)], [Var(v=-0.0001, grad=0.0000)], [Var(v=-0.0454, grad=0.0000)], [Var(v=-0.0003, grad=0.0000)], [Var(v=-0.0003, grad=0.0000)], [Var(v=-0.0004, grad=0.0000)], [Var(v=-0.0473, grad=0.0000)], [Var(v=-0.0072, grad=0.0000)], [Var(v=-0.0043, grad=0.0000)], [Var(v=-0.0006, grad=0.0000)], [Var(v=-0.0001, grad=0.0000)], [Var(v=-0.0003, grad=0.0000)], [Var(v=-0.0001, grad=0.0000)], [Var(v=-0.0001, grad=0.0000)], [Var(v=-0.0004, grad=0.0000)], [Var(v=-0.0007, grad=0.0000)], [Var(v=-0.0007, grad=0.0000)], [Var(v=-0.0171, grad=0.0000)], [Var(v=-0.0002, grad=0.0000)], [Var(v=-0.0004, grad=0.0000)], [Var(v=-0.0268, grad=0.0000)], [Var(v=-0.0005, grad=0.0000)], [Var(v=-0.0007, grad=0.0000)], [Var(v=-0.0123, grad=0.0000)], [Var(v=-0.0020, grad=0.0000)], [Var(v=-0.0428, grad=0.0000)], [Var(v=-0.0004, grad=0.0000)], [Var(v=-0.0281, grad=0.0000)], [Var(v=-0.0004, grad=0.0000)], [Var(v=-0.0006, grad=0.0000)], [Var(v=-0.0136, grad=0.0000)], [Var(v=-0.0399, grad=0.0000)]]\n"
          ]
        }
      ],
      "source": [
        "NN = [\n",
        "    DenseLayer(1, 5, lambda x: x.relu()),\n",
        "    DenseLayer(5, 1, lambda x: x.identity())\n",
        "]\n",
        "\n",
        "def forward(input, network):\n",
        "\n",
        "  def forward_single(x, network):\n",
        "    for layer in network:\n",
        "        x = layer.forward(x)\n",
        "    return x\n",
        "\n",
        "  output = [ forward_single(input[n], network) for n in range(len(input))]\n",
        "  return output\n",
        "\n",
        "print(forward(x_train, NN))\n"
      ]
    },
    {
      "cell_type": "markdown",
      "metadata": {
        "id": "oLrGJytZFtGm"
      },
      "source": [
        "## Exercise h) Print all network parameters\n",
        "\n",
        "Make a function that prints all the parameters of the network (weights and biases) with information about in which layer the appear. In the object oriented spirit you should introduce a method in the DenseLayer class to print the parameters of a layer. Hint: You can take inspiration from the corresponding method in Var. \n",
        "\n",
        "Here we are using the __repr__ method in the DenseLayer class to print the weights and the biases for each layer."
      ]
    },
    {
      "cell_type": "code",
      "execution_count": null,
      "metadata": {
        "id": "iac-VwYGFtGm",
        "colab": {
          "base_uri": "https://localhost:8080/"
        },
        "outputId": "ccf37f74-50ee-4088-92db-1686a6384ee2"
      },
      "outputs": [
        {
          "output_type": "stream",
          "name": "stdout",
          "text": [
            "Layer 0:\n",
            "Weights: [[Var(v=0.0668, grad=0.0000), Var(v=0.0562, grad=0.0000), Var(v=0.0732, grad=0.0000), Var(v=-0.0030, grad=0.0000), Var(v=0.1414, grad=0.0000)]] Biases: [Var(v=0.0000, grad=0.0000), Var(v=0.0000, grad=0.0000), Var(v=0.0000, grad=0.0000), Var(v=0.0000, grad=0.0000), Var(v=0.0000, grad=0.0000)]\n",
            "Layer 1:\n",
            "Weights: [[Var(v=-0.0794, grad=0.0000)], [Var(v=-0.0218, grad=0.0000)], [Var(v=-0.2058, grad=0.0000)], [Var(v=-0.1522, grad=0.0000)], [Var(v=-0.0436, grad=0.0000)]] Biases: [Var(v=0.0000, grad=0.0000)]\n"
          ]
        }
      ],
      "source": [
        "# Insert code here and in the DenseLayer class\n",
        "for i in range(len(NN)):\n",
        "  print(f\"Layer {i}:\")\n",
        "  print(NN[i])"
      ]
    },
    {
      "cell_type": "markdown",
      "metadata": {
        "id": "_79HOAXrFtHK"
      },
      "source": [
        "## Visualization\n",
        "\n",
        "Now that we have defined our activation functions we can visualize them to see what they look like:"
      ]
    },
    {
      "cell_type": "code",
      "execution_count": null,
      "metadata": {
        "id": "1FcylHqLTl-Z",
        "colab": {
          "base_uri": "https://localhost:8080/",
          "height": 282
        },
        "outputId": "fe49dd37-4233-4272-a919-ed0046175b21"
      },
      "outputs": [
        {
          "output_type": "execute_result",
          "data": {
            "text/plain": [
              "[<matplotlib.lines.Line2D at 0x7f5b9d8a52d0>]"
            ]
          },
          "metadata": {},
          "execution_count": 20
        },
        {
          "output_type": "display_data",
          "data": {
            "text/plain": [
              "<Figure size 432x288 with 1 Axes>"
            ],
            "image/png": "[encoded data removed]"
          },
          "metadata": {
            "needs_background": "light"
          }
        }
      ],
      "source": [
        "x = np.linspace(-6, 6, 100)\n",
        "\n",
        "# convert from Var to ndarray  \n",
        "def Var_to_nparray(x):\n",
        "  y = np.zeros((len(x),len(x[0])))\n",
        "  for i in range(len(x)):\n",
        "    for j in range(len(x[0])):\n",
        "      y[i,j] = x[i][j].v\n",
        "  return y\n",
        "\n",
        "# define 1-1 network with weight = 1 and relu activation \n",
        "NN = [ DenseLayer(1, 1, lambda x: x.relu(), initializer = ConstantInitializer(1.0)) ] \n",
        "y = Var_to_nparray(forward(nparray_to_Var(x), NN))\n",
        "\n",
        "#y = Var_to_nparray(relu(nparray_to_Var(x)))\n",
        "plt.plot(x,y)"
      ]
    },
    {
      "cell_type": "code",
      "execution_count": null,
      "metadata": {
        "id": "oOL2UolJFtHL",
        "colab": {
          "base_uri": "https://localhost:8080/",
          "height": 341
        },
        "outputId": "5e78ba7d-76eb-4b90-aa94-2e6a290f279c"
      },
      "outputs": [
        {
          "output_type": "display_data",
          "data": {
            "text/plain": [
              "<Figure size 360x360 with 1 Axes>"
            ],
            "image/png": "[encoded data removed]"
          },
          "metadata": {
            "needs_background": "light"
          }
        }
      ],
      "source": [
        "# Testing all activation layers\n",
        "\n",
        "x = np.linspace(-6, 6, 100)\n",
        "units = {\n",
        "    \"identity\": lambda x: x.identity(),\n",
        "    \"sigmoid\": lambda x: x.sigmoid(),\n",
        "    \"relu\": lambda x: x.relu(),\n",
        "    \"tanh\": lambda x: x.tanh()\n",
        "}\n",
        "\n",
        "plt.figure(figsize=(5, 5))\n",
        "[plt.plot(x, Var_to_nparray(forward(nparray_to_Var(x), [DenseLayer(1, 1, unit, initializer = ConstantInitializer(1.0))]) ), label=unit_name, lw=2) for unit_name, unit in units.items()] # unit(nparray_to_Var(x))), label=unit_name, lw=2) for unit_name, unit in units.items()]\n",
        "plt.legend(loc=2, fontsize=16)\n",
        "plt.title('Our activation functions', fontsize=20)\n",
        "plt.ylim([-2, 5])\n",
        "plt.xlim([-6, 6])\n",
        "plt.show()"
      ]
    },
    {
      "cell_type": "markdown",
      "metadata": {
        "id": "b-jdEl-7FtGs"
      },
      "source": [
        "# Advanced initialization schemes\n",
        "\n",
        "If we are not careful with initialization, the signals we propagate forward ($a^{(l)}$, $l=1,\\ldots,L$) and backward ($\\delta^l$, $l=L,L-1,\\ldots,1$) can blow up or shrink to zero. A statistical analysis of the variance of the signals for different activation functions can be found in these two papers: [Glorot initialization](http://proceedings.mlr.press/v9/glorot10a/glorot10a.pdf) and [He initialization](https://arxiv.org/pdf/1502.01852v1.pdf). \n",
        "\n",
        "The result of the analyses are proposals for how to make the initialization such that the variance of the signals (forward and backward) are kept approxmimatly constant when propagating from layer to layer. The exact expressions depend upon the non-linear activation function used. In Glorot initialization, the aim is to keep both the forward and backward variances constant whereas He only aims at keeping the variance in the forward pass constant.\n",
        "\n",
        "We define $n_{in}$ and $n_{out}$ as the number of input units and output units of a particular layer. \n",
        "\n",
        "The Glorot initialization has the form: \n",
        "\n",
        "$$w_{ij} \\sim N \\bigg( 0, \\, \\frac{2 \\alpha }{n_{in} + n_{out}} \\bigg) \\ . $$\n",
        "\n",
        "where $N(\\mu,\\sigma^2)$ is a Gaussian distribution with mean $\\mu$ and variance $\\sigma^2$ and $\\alpha$ is a parameter that depends upon the activation function used. For $\\tanh$, $\\alpha=1$ and for Rectified Linear Unit (ReLU) activations, $\\alpha=2$. (It is also possible to use a uniform distribution for initialization, see [this blog post](https://mmuratarat.github.io/2019-02-25/xavier-glorot-he-weight-init).) \n",
        "\n",
        "The He initialization is very similar\n",
        "\n",
        "$$w_{ij} \\sim N \\bigg( 0, \\, \\frac{\\alpha}{n_{in}} \\bigg) \\ . $$"
      ]
    },
    {
      "cell_type": "markdown",
      "metadata": {
        "id": "mqeyab9qFtGs"
      },
      "source": [
        "## Exercise i) Glorot and He initialization\n",
        " \n",
        "Using the Initializer class, implement functions that implement Glorot and He \n",
        "\n",
        "Explain briefly how you would test numerically that these initializations have the sought after property. Hint: See plots in Glorot paper.\n",
        "\n",
        "We could plot the weight gradients and see for example that with the Glorot initialization both the forward and backward variances remain constant.\n",
        "\n",
        "Comment: If you want to be more advanced then try to make a universal initializer taking both the activation function and type (Glorot or He) as argument."
      ]
    },
    {
      "cell_type": "code",
      "execution_count": null,
      "metadata": {
        "id": "Qyk01CgaFtGt"
      },
      "outputs": [],
      "source": [
        "## Glorot\n",
        "def DenseLayer_Glorot_tanh(n_in: int, n_out: int):\n",
        "  std = (2 / (n_in + n_out)) ** (1 / 2) # <- replace with proper initialization\n",
        "  return DenseLayer(n_in, n_out, lambda x: x.tanh(), initializer = NormalInitializer(std))\n",
        "\n",
        "## He\n",
        "def DenseLayer_He_relu(n_in: int, n_out: int):\n",
        "  std = (2 / n_in) ** (1 / 2) # <- replace with proper initialization\n",
        "  return DenseLayer(n_in, n_out, lambda x: x.relu(), initializer = NormalInitializer(std))"
      ]
    },
    {
      "cell_type": "markdown",
      "metadata": {
        "id": "-XyXBD37FtHk"
      },
      "source": [
        "## Exercise j) Forward pass unit test\n",
        "\n",
        "Write a bit of code to make a unit test that the forward pass works. This can be done by defining a simple network with for example all weights equal to one (using the ConstantInitializer method) and identity activation functions. \n",
        "\n",
        "Hints: Use the [assert](https://www.w3schools.com/python/ref_keyword_assert.asp), the nparray_to_Var and the Var_to_nparray commands. "
      ]
    },
    {
      "cell_type": "code",
      "execution_count": null,
      "metadata": {
        "id": "k0miqRUAFtHl"
      },
      "outputs": [],
      "source": [
        "# Insert code here\n",
        "x = np.linspace(-6, 6, 100)\n",
        "NN = [ DenseLayer(1, 1, lambda x: x.identity(), initializer = ConstantInitializer(1.0)) ] \n",
        "y = Var_to_nparray(forward(nparray_to_Var(x), NN))\n",
        "assert y.all() == x.all()"
      ]
    },
    {
      "cell_type": "markdown",
      "metadata": {
        "id": "faCxhfFnFtHp"
      },
      "source": [
        "# Loss functions\n",
        "\n",
        "We are only missing a loss function to we need to define a loss function and its derivative with respect to the output of the neural network $y$"
      ]
    },
    {
      "cell_type": "code",
      "execution_count": null,
      "metadata": {
        "id": "I2eDYKvAFtHq"
      },
      "outputs": [],
      "source": [
        "def squared_loss(t, y):\n",
        "  \n",
        "  # add check that sizes agree\n",
        "  assert len(t) == len(y)\n",
        "  \n",
        "  def squared_loss_single(t, y):\n",
        "    Loss = Var(0.0)\n",
        "    for i in range(len(t)): # sum over outputs\n",
        "      Loss += (t[i]-y[i]) ** 2\n",
        "    return Loss\n",
        "\n",
        "  Loss = Var(0.0)\n",
        "  for n in range(len(t)): # sum over training data\n",
        "    Loss += squared_loss_single(t[n],y[n])\n",
        "  return Loss"
      ]
    },
    {
      "cell_type": "markdown",
      "metadata": {
        "id": "SrwSJ2UWFtHu"
      },
      "source": [
        "## Exercise k) Implement cross entropy loss\n",
        "\n",
        "Insert code below to implement cross-entropy loss for general dimensionality of $t$. Use a logits formulation:\n",
        "$$\n",
        "\\rm{Loss} = - \\sum_i t_i \\, log \\, p_i \n",
        "$$\n",
        "with $p$ given by the the softmax function in terms of the logits $h$:\n",
        "$$\n",
        "p_i = \\frac{\\exp(h_i)}{\\sum_{i'} \\exp(h_{i'})} .\n",
        "$$\n",
        "Inserting $p$ in the expression for the loss gives\n",
        "$$\n",
        "\\rm{Loss} = - \\sum_i t_i h_i + \\rm{LogSumExp}(h) \\ ,\n",
        "$$\n",
        "where \n",
        "$$\n",
        "\\rm{LogSumExp}(h) = \\log \\sum_i \\exp h_i \\ .\n",
        "$$\n",
        "This is true for $t$ being a one-hot vector. \n",
        "\n",
        "Call the function to convince yourself it works. \n",
        "\n",
        "In practice you want to implement a [numerically stable](https://leimao.github.io/blog/LogSumExp/) version of LogSumExp. But we will not bother about that here.\n",
        "\n",
        "Help: You can add these methods in the Var class:\n",
        "\n",
        "    def exp(self):\n",
        "        return Var(exp(self.v), lambda: [(self, exp(self.v))])\n",
        "    \n",
        "    def log(self):\n",
        "        return Var(log(self.v), lambda: [(self, self.v ** -1)])"
      ]
    },
    {
      "cell_type": "code",
      "execution_count": null,
      "metadata": {
        "id": "6nMuxyfzFtHv"
      },
      "outputs": [],
      "source": [
        "def cross_entropy_loss(t, h):\n",
        "     \n",
        "    Loss = Var(0.0)\n",
        "    # Insert code here\n",
        "    def cross_entropy_loss_single(t, h):\n",
        "      Loss = Var(0.0)\n",
        "      sum_exp_h = Var(0.0)\n",
        "      for i in range(len(h)):\n",
        "        sum_exp_h += h[i].exp()\n",
        "      for i in range(len(h)):\n",
        "        Loss += -t[i]*h[i]\n",
        "      return Loss + sum_exp_h.log()\n",
        "\n",
        "    Loss = Var(0.0)\n",
        "    for n in range(len(t)): # sum over training data\n",
        "      Loss += cross_entropy_loss_single(t[n], h[n])\n",
        "    \n",
        "    return Loss"
      ]
    },
    {
      "cell_type": "markdown",
      "metadata": {
        "id": "8fAF5ew4FtHy"
      },
      "source": [
        "# Backward pass\n",
        "\n",
        "Now the magic happens! We get the calculation of the gradients for free. Just do:"
      ]
    },
    {
      "cell_type": "code",
      "execution_count": null,
      "metadata": {
        "id": "iHyfPPI9Qqwu"
      },
      "outputs": [],
      "source": [
        "NN = [\n",
        "    DenseLayer(1, 5, lambda x: x.relu()),\n",
        "    DenseLayer(5, 1, lambda x: x.identity())\n",
        "]\n",
        "\n",
        "output = forward(x_train, NN)\n",
        "\n",
        "Loss = squared_loss(y_train,output)\n",
        "Loss.backward()"
      ]
    },
    {
      "cell_type": "markdown",
      "metadata": {
        "id": "49biIAYKQ1oG"
      },
      "source": [
        "and the gradients will be calculated:"
      ]
    },
    {
      "cell_type": "code",
      "execution_count": null,
      "metadata": {
        "id": "_rGt1bq_Q7uk",
        "colab": {
          "base_uri": "https://localhost:8080/"
        },
        "outputId": "1c40a8ef-4208-465e-a340-e422f656d694"
      },
      "outputs": [
        {
          "output_type": "stream",
          "name": "stdout",
          "text": [
            "Layer 0 \n",
            " Weights: [[Var(v=-0.0077, grad=11.9970), Var(v=-0.0593, grad=3.2464), Var(v=-0.0091, grad=-8.5910), Var(v=0.1103, grad=11.4368), Var(v=-0.0039, grad=6.3598)]] Biases: [Var(v=0.0000, grad=-10.9042), Var(v=0.0000, grad=-2.9507), Var(v=0.0000, grad=7.8084), Var(v=0.0000, grad=9.8218), Var(v=0.0000, grad=-5.7805)]\n",
            "Layer 1 \n",
            " Weights: [[Var(v=-0.1253, grad=0.7350)], [Var(v=-0.0339, grad=5.6819)], [Var(v=0.0897, grad=0.8720)], [Var(v=-0.1111, grad=-11.3538)], [Var(v=-0.0664, grad=0.3698)]] Biases: [Var(v=0.0000, grad=-1.3583)]\n"
          ]
        },
        {
          "output_type": "execute_result",
          "data": {
            "text/plain": [
              "[None, None]"
            ]
          },
          "metadata": {},
          "execution_count": 27
        }
      ],
      "source": [
        "[print('Layer', i, '\\n', NN[i]) for i in range(len(NN))] "
      ]
    },
    {
      "cell_type": "markdown",
      "metadata": {
        "id": "D7d7qK0uFtH9"
      },
      "source": [
        "# Backward pass unit test\n",
        "\n",
        "Above we used finite differences to test that Nanograd is actually doing what it is supposed to do. We can in principle try the same for the neural network. But we will trust that the test above is enough."
      ]
    },
    {
      "cell_type": "markdown",
      "metadata": {
        "id": "WgBi8GOSFtIN"
      },
      "source": [
        "# Training and validation\n",
        "\n",
        "We are ready to train some neural networks!\n",
        "\n",
        "We initialize again:"
      ]
    },
    {
      "cell_type": "code",
      "execution_count": null,
      "metadata": {
        "id": "01ePmzBzRtdh"
      },
      "outputs": [],
      "source": [
        "NN = [\n",
        "    DenseLayer(1, 15, lambda x: x.relu()),\n",
        "    DenseLayer(15, 50, lambda x: x.relu()),\n",
        "    DenseLayer(50, 1, lambda x: x.identity())\n",
        "]\n",
        "\n",
        "output = forward(x_train, NN)\n",
        "\n",
        "Loss = squared_loss(y_train,output)\n",
        "Loss.backward()"
      ]
    },
    {
      "cell_type": "markdown",
      "metadata": {
        "id": "10iRPiQ1ISHw"
      },
      "source": [
        "and make an update:\n",
        "\n",
        "We introduce a help function parameters to have a handle in all parameters in the network."
      ]
    },
    {
      "cell_type": "code",
      "execution_count": null,
      "metadata": {
        "id": "dhAI7eyeznia",
        "colab": {
          "base_uri": "https://localhost:8080/"
        },
        "outputId": "bc62e45d-0ec2-484a-a8f9-0a939c3f9a78"
      },
      "outputs": [
        {
          "output_type": "stream",
          "name": "stdout",
          "text": [
            "Network before update:\n",
            "Layer 0 \n",
            " Weights: [[Var(v=-0.2576, grad=-0.9637), Var(v=0.0182, grad=4.3745), Var(v=0.1423, grad=-6.3533), Var(v=-0.1186, grad=-3.9889), Var(v=-0.0184, grad=3.0956), Var(v=-0.0718, grad=2.0043), Var(v=-0.0897, grad=2.7483), Var(v=0.0356, grad=-8.3909), Var(v=-0.0041, grad=-4.6719), Var(v=0.1343, grad=-0.0225), Var(v=-0.0737, grad=-1.7055), Var(v=-0.0375, grad=3.3485), Var(v=-0.0441, grad=5.5311), Var(v=0.0312, grad=-4.3999), Var(v=0.1000, grad=-0.5867)]] Biases: [Var(v=0.0000, grad=0.8760), Var(v=0.0000, grad=3.7587), Var(v=0.0000, grad=-5.4590), Var(v=0.0000, grad=3.6257), Var(v=0.0000, grad=-2.8137), Var(v=0.0000, grad=-1.8218), Var(v=0.0000, grad=-2.4981), Var(v=0.0000, grad=-7.2098), Var(v=0.0000, grad=4.2466), Var(v=0.0000, grad=-0.0193), Var(v=0.0000, grad=1.5503), Var(v=0.0000, grad=-3.0437), Var(v=0.0000, grad=-5.0276), Var(v=0.0000, grad=-3.7805), Var(v=0.0000, grad=-0.5041)]\n",
            "Layer 1 \n",
            " Weights: [[Var(v=-0.0041, grad=0.0000), Var(v=-0.0904, grad=0.0000), Var(v=0.2036, grad=3.0602), Var(v=0.0188, grad=0.0000), Var(v=-0.0237, grad=-1.7465), Var(v=-0.1363, grad=0.0000), Var(v=-0.0500, grad=0.0000), Var(v=0.0834, grad=0.7736), Var(v=-0.1443, grad=0.0000), Var(v=-0.0363, grad=3.7686), Var(v=-0.0770, grad=0.0000), Var(v=-0.0590, grad=-3.0856), Var(v=-0.0732, grad=3.2791), Var(v=0.0478, grad=-1.1436), Var(v=-0.2103, grad=0.0000), Var(v=-0.0262, grad=0.0000), Var(v=0.0737, grad=2.5645), Var(v=-0.1888, grad=0.0000), Var(v=-0.0710, grad=3.2124), Var(v=-0.0008, grad=2.7965), Var(v=-0.0205, grad=0.0000), Var(v=-0.1016, grad=0.0000), Var(v=-0.0461, grad=0.0000), Var(v=-0.1150, grad=0.0000), Var(v=0.0373, grad=-0.9338), Var(v=0.0162, grad=0.0000), Var(v=0.0265, grad=3.3299), Var(v=-0.0723, grad=0.0000), Var(v=0.1901, grad=-4.9368), Var(v=0.0204, grad=0.0000), Var(v=-0.0390, grad=0.0000), Var(v=0.1319, grad=-0.1170), Var(v=0.0380, grad=0.0000), Var(v=0.1925, grad=3.4066), Var(v=-0.0387, grad=-2.3481), Var(v=0.0215, grad=-0.4792), Var(v=0.0715, grad=-1.2507), Var(v=-0.0084, grad=0.0000), Var(v=0.0877, grad=-1.7437), Var(v=0.0138, grad=-2.0088), Var(v=0.1772, grad=1.7304), Var(v=0.0021, grad=0.0000), Var(v=0.0150, grad=0.0000), Var(v=0.0099, grad=-1.8044), Var(v=0.0284, grad=-1.0651), Var(v=0.0235, grad=3.6483), Var(v=-0.1414, grad=0.0000), Var(v=0.1391, grad=-1.0609), Var(v=-0.2004, grad=0.0000), Var(v=-0.0194, grad=-2.4745)], [Var(v=-0.0285, grad=0.0000), Var(v=-0.0001, grad=-0.0790), Var(v=-0.0692, grad=0.0000), Var(v=0.0203, grad=-0.3424), Var(v=0.0958, grad=0.1289), Var(v=0.0375, grad=0.0000), Var(v=0.0597, grad=0.0000), Var(v=0.0423, grad=0.0000), Var(v=-0.0013, grad=0.1786), Var(v=-0.1504, grad=-0.2782), Var(v=-0.0088, grad=0.0000), Var(v=-0.0258, grad=0.2278), Var(v=-0.1054, grad=0.0000), Var(v=-0.0028, grad=0.0844), Var(v=0.0266, grad=0.0000), Var(v=-0.0780, grad=0.2754), Var(v=0.1450, grad=0.0000), Var(v=-0.3748, grad=0.0000), Var(v=0.1169, grad=-0.2372), Var(v=-0.0895, grad=-0.2065), Var(v=-0.0449, grad=-0.2693), Var(v=0.1507, grad=0.2114), Var(v=0.1083, grad=0.0549), Var(v=-0.0492, grad=0.0010), Var(v=-0.0905, grad=0.0000), Var(v=0.0390, grad=0.0000), Var(v=0.1409, grad=-0.2459), Var(v=-0.0489, grad=0.0000), Var(v=0.1042, grad=0.3645), Var(v=0.0281, grad=0.0000), Var(v=-0.0549, grad=0.1215), Var(v=-0.0283, grad=0.0000), Var(v=0.0235, grad=-0.2302), Var(v=-0.0823, grad=-0.2515), Var(v=0.0519, grad=0.1734), Var(v=-0.0447, grad=0.0354), Var(v=0.0527, grad=0.0000), Var(v=0.0564, grad=-0.0399), Var(v=0.1237, grad=0.1287), Var(v=-0.1543, grad=0.0000), Var(v=0.0654, grad=-0.1278), Var(v=0.3049, grad=0.0000), Var(v=0.1663, grad=0.0144), Var(v=-0.1218, grad=0.0000), Var(v=-0.0135, grad=0.0786), Var(v=0.0820, grad=-0.2694), Var(v=-0.1331, grad=0.0000), Var(v=0.0482, grad=0.0000), Var(v=0.0691, grad=0.0000), Var(v=0.0869, grad=0.1827)], [Var(v=-0.0246, grad=0.0000), Var(v=0.0586, grad=-0.6166), Var(v=-0.0880, grad=0.0000), Var(v=0.1736, grad=-2.6709), Var(v=0.1178, grad=1.0059), Var(v=-0.1184, grad=0.0000), Var(v=-0.0834, grad=0.0000), Var(v=-0.0114, grad=0.0000), Var(v=-0.0928, grad=1.3931), Var(v=0.0828, grad=-2.1706), Var(v=-0.1222, grad=0.0000), Var(v=0.0076, grad=1.7773), Var(v=-0.0973, grad=0.0000), Var(v=0.0491, grad=0.6587), Var(v=-0.1636, grad=0.0000), Var(v=0.0101, grad=2.1486), Var(v=-0.1772, grad=0.0000), Var(v=-0.0057, grad=0.0000), Var(v=0.0237, grad=-1.8503), Var(v=0.1476, grad=-1.6107), Var(v=0.1351, grad=-2.1007), Var(v=0.0414, grad=1.6494), Var(v=0.1151, grad=0.4285), Var(v=0.1339, grad=0.0078), Var(v=0.0826, grad=0.0000), Var(v=-0.2547, grad=0.0000), Var(v=0.0956, grad=-1.9180), Var(v=-0.0667, grad=0.0000), Var(v=0.0369, grad=2.8435), Var(v=-0.2351, grad=0.0000), Var(v=-0.0148, grad=0.9480), Var(v=-0.0427, grad=0.0000), Var(v=0.0299, grad=-1.7960), Var(v=0.0209, grad=-1.9622), Var(v=0.0872, grad=1.3525), Var(v=0.0454, grad=0.2760), Var(v=0.0122, grad=0.0000), Var(v=0.1858, grad=-0.3111), Var(v=0.1092, grad=1.0044), Var(v=0.0919, grad=0.0000), Var(v=0.0678, grad=-0.9967), Var(v=-0.0673, grad=0.0000), Var(v=0.0683, grad=0.1124), Var(v=-0.1465, grad=0.0000), Var(v=0.1023, grad=0.6135), Var(v=0.0091, grad=-2.1014), Var(v=0.1312, grad=0.0000), Var(v=0.0307, grad=0.0000), Var(v=-0.1236, grad=0.0000), Var(v=0.1308, grad=1.4253)], [Var(v=-0.0325, grad=0.0000), Var(v=-0.1205, grad=0.0000), Var(v=0.0233, grad=1.4093), Var(v=-0.2196, grad=0.0000), Var(v=0.0912, grad=-0.8043), Var(v=0.1337, grad=0.0000), Var(v=-0.1130, grad=0.0000), Var(v=0.0073, grad=0.3563), Var(v=0.0406, grad=0.0000), Var(v=0.1805, grad=1.7355), Var(v=-0.0723, grad=0.0000), Var(v=0.0006, grad=-1.4210), Var(v=0.0987, grad=1.5101), Var(v=0.0602, grad=-0.5266), Var(v=0.0337, grad=0.0000), Var(v=-0.0062, grad=0.0000), Var(v=-0.0908, grad=1.1810), Var(v=-0.0521, grad=0.0000), Var(v=0.0275, grad=1.4793), Var(v=0.1359, grad=1.2878), Var(v=0.0269, grad=0.0000), Var(v=0.1218, grad=0.0000), Var(v=0.0245, grad=0.0000), Var(v=-0.1514, grad=0.0000), Var(v=-0.0114, grad=-0.4300), Var(v=-0.0355, grad=0.0000), Var(v=0.1612, grad=1.5335), Var(v=-0.1638, grad=0.0000), Var(v=0.0564, grad=-2.2734), Var(v=-0.1226, grad=0.0000), Var(v=-0.1305, grad=0.0000), Var(v=-0.0640, grad=-0.0539), Var(v=-0.0408, grad=0.0000), Var(v=0.0721, grad=1.5688), Var(v=0.0608, grad=-1.0813), Var(v=0.0927, grad=-0.2207), Var(v=-0.0554, grad=-0.5760), Var(v=0.0510, grad=0.0000), Var(v=0.0653, grad=-0.8030), Var(v=-0.0527, grad=-0.9251), Var(v=0.0440, grad=0.7969), Var(v=-0.0110, grad=0.0000), Var(v=-0.0328, grad=0.0000), Var(v=0.0135, grad=-0.8310), Var(v=0.0998, grad=-0.4905), Var(v=-0.0145, grad=1.6801), Var(v=0.0316, grad=0.0000), Var(v=-0.2746, grad=-0.4885), Var(v=-0.0208, grad=0.0000), Var(v=0.2582, grad=-1.1395)], [Var(v=-0.0485, grad=0.0000), Var(v=-0.0910, grad=0.0000), Var(v=-0.1626, grad=0.2189), Var(v=-0.0520, grad=0.0000), Var(v=-0.0355, grad=-0.1249), Var(v=0.0005, grad=0.0000), Var(v=0.0276, grad=0.0000), Var(v=0.0099, grad=0.0553), Var(v=0.1118, grad=0.0000), Var(v=-0.1060, grad=0.2695), Var(v=0.0315, grad=0.0000), Var(v=0.0554, grad=-0.2207), Var(v=-0.0139, grad=0.2345), Var(v=0.0548, grad=-0.0818), Var(v=-0.0301, grad=0.0000), Var(v=0.2480, grad=0.0000), Var(v=-0.0607, grad=0.1834), Var(v=0.0160, grad=0.0000), Var(v=0.1160, grad=0.2298), Var(v=-0.0078, grad=0.2000), Var(v=-0.1986, grad=0.0000), Var(v=0.0138, grad=0.0000), Var(v=0.0513, grad=0.0000), Var(v=0.1333, grad=0.0000), Var(v=0.0503, grad=-0.0668), Var(v=0.0447, grad=0.0000), Var(v=-0.0978, grad=0.2382), Var(v=-0.0628, grad=0.0000), Var(v=-0.1658, grad=-0.3531), Var(v=-0.1566, grad=0.0000), Var(v=0.0219, grad=0.0000), Var(v=-0.0344, grad=-0.0084), Var(v=0.1226, grad=0.0000), Var(v=0.0583, grad=0.2437), Var(v=0.0887, grad=-0.1679), Var(v=-0.1084, grad=-0.0343), Var(v=0.0141, grad=-0.0895), Var(v=-0.1120, grad=0.0000), Var(v=0.1310, grad=-0.1247), Var(v=-0.0108, grad=-0.1437), Var(v=-0.0879, grad=0.1238), Var(v=0.2348, grad=0.0000), Var(v=-0.0403, grad=0.0000), Var(v=0.1763, grad=-0.1291), Var(v=0.0977, grad=-0.0762), Var(v=0.1170, grad=0.2609), Var(v=0.0624, grad=0.0000), Var(v=0.1968, grad=-0.0759), Var(v=-0.0767, grad=0.0000), Var(v=-0.0820, grad=-0.1770)], [Var(v=-0.1277, grad=0.0000), Var(v=0.1632, grad=0.0000), Var(v=-0.0201, grad=0.8527), Var(v=-0.0175, grad=0.0000), Var(v=0.1703, grad=-0.4866), Var(v=0.0381, grad=0.0000), Var(v=-0.1618, grad=0.0000), Var(v=-0.0874, grad=0.2156), Var(v=-0.0123, grad=0.0000), Var(v=-0.0199, grad=1.0500), Var(v=-0.0821, grad=0.0000), Var(v=0.1501, grad=-0.8597), Var(v=0.0303, grad=0.9136), Var(v=-0.1220, grad=-0.3186), Var(v=0.0256, grad=0.0000), Var(v=0.0336, grad=0.0000), Var(v=0.0862, grad=0.7145), Var(v=0.1002, grad=0.0000), Var(v=0.1473, grad=0.8950), Var(v=-0.0640, grad=0.7792), Var(v=-0.0187, grad=0.0000), Var(v=0.0742, grad=0.0000), Var(v=-0.1355, grad=0.0000), Var(v=-0.1713, grad=0.0000), Var(v=0.0634, grad=-0.2602), Var(v=-0.0613, grad=0.0000), Var(v=-0.0910, grad=0.9278), Var(v=0.0369, grad=0.0000), Var(v=0.0569, grad=-1.3755), Var(v=0.0260, grad=0.0000), Var(v=0.0124, grad=0.0000), Var(v=-0.0254, grad=-0.0326), Var(v=-0.1436, grad=0.0000), Var(v=-0.0148, grad=0.9492), Var(v=-0.0226, grad=-0.6542), Var(v=0.0504, grad=-0.1335), Var(v=-0.1716, grad=-0.3485), Var(v=-0.0673, grad=0.0000), Var(v=0.0371, grad=-0.4858), Var(v=-0.0468, grad=-0.5597), Var(v=0.0071, grad=0.4821), Var(v=-0.0273, grad=0.0000), Var(v=-0.1181, grad=0.0000), Var(v=0.0553, grad=-0.5028), Var(v=-0.1317, grad=-0.2968), Var(v=-0.0411, grad=1.0165), Var(v=0.0593, grad=0.0000), Var(v=0.0674, grad=-0.2956), Var(v=-0.2140, grad=0.0000), Var(v=-0.1131, grad=-0.6895)], [Var(v=0.0382, grad=0.0000), Var(v=-0.0167, grad=0.0000), Var(v=0.0148, grad=1.0660), Var(v=-0.1109, grad=0.0000), Var(v=0.0958, grad=-0.6084), Var(v=-0.1744, grad=0.0000), Var(v=-0.0791, grad=0.0000), Var(v=-0.0567, grad=0.2695), Var(v=-0.1071, grad=0.0000), Var(v=0.0218, grad=1.3128), Var(v=-0.0864, grad=0.0000), Var(v=0.1037, grad=-1.0749), Var(v=-0.0071, grad=1.1422), Var(v=0.0613, grad=-0.3984), Var(v=0.0069, grad=0.0000), Var(v=-0.2317, grad=0.0000), Var(v=0.1403, grad=0.8933), Var(v=-0.0045, grad=0.0000), Var(v=0.1302, grad=1.1190), Var(v=0.0150, grad=0.9741), Var(v=-0.0314, grad=0.0000), Var(v=0.1707, grad=0.0000), Var(v=-0.0518, grad=0.0000), Var(v=0.1495, grad=0.0000), Var(v=-0.0453, grad=-0.3253), Var(v=-0.1896, grad=0.0000), Var(v=-0.0924, grad=1.1600), Var(v=-0.0995, grad=0.0000), Var(v=0.0173, grad=-1.7197), Var(v=-0.0267, grad=0.0000), Var(v=-0.0805, grad=0.0000), Var(v=-0.0171, grad=-0.0408), Var(v=-0.0091, grad=0.0000), Var(v=-0.0430, grad=1.1867), Var(v=0.0788, grad=-0.8179), Var(v=0.2238, grad=-0.1669), Var(v=-0.0300, grad=-0.4357), Var(v=-0.1826, grad=0.0000), Var(v=-0.1139, grad=-0.6074), Var(v=0.1090, grad=-0.6998), Var(v=0.0441, grad=0.6028), Var(v=-0.1312, grad=0.0000), Var(v=-0.0721, grad=0.0000), Var(v=-0.0202, grad=-0.6286), Var(v=-0.0214, grad=-0.3710), Var(v=-0.0006, grad=1.2709), Var(v=-0.0772, grad=0.0000), Var(v=0.1003, grad=-0.3695), Var(v=-0.1435, grad=0.0000), Var(v=0.1161, grad=-0.8620)], [Var(v=-0.0678, grad=0.0000), Var(v=-0.2289, grad=-0.1544), Var(v=-0.0194, grad=0.0000), Var(v=0.1472, grad=-0.6688), Var(v=-0.0665, grad=0.2519), Var(v=0.0034, grad=0.0000), Var(v=0.0028, grad=0.0000), Var(v=0.1695, grad=0.0000), Var(v=-0.1601, grad=0.3488), Var(v=-0.0351, grad=-0.5435), Var(v=-0.0574, grad=0.0000), Var(v=0.1626, grad=0.4450), Var(v=-0.0479, grad=0.0000), Var(v=0.1587, grad=0.1649), Var(v=-0.0512, grad=0.0000), Var(v=-0.0645, grad=0.5380), Var(v=-0.1293, grad=0.0000), Var(v=0.0188, grad=0.0000), Var(v=0.1873, grad=-0.4633), Var(v=0.1758, grad=-0.4033), Var(v=0.0659, grad=-0.5260), Var(v=0.0801, grad=0.4130), Var(v=0.1120, grad=0.1073), Var(v=0.0066, grad=0.0020), Var(v=-0.0262, grad=0.0000), Var(v=0.0242, grad=0.0000), Var(v=-0.0624, grad=-0.4803), Var(v=0.0166, grad=0.0000), Var(v=0.0359, grad=0.7120), Var(v=-0.0433, grad=0.0000), Var(v=-0.0813, grad=0.2374), Var(v=-0.1046, grad=0.0000), Var(v=-0.0851, grad=-0.4497), Var(v=-0.0525, grad=-0.4913), Var(v=-0.1277, grad=0.3386), Var(v=0.0662, grad=0.0691), Var(v=-0.0703, grad=0.0000), Var(v=0.0921, grad=-0.0779), Var(v=-0.0477, grad=0.2515), Var(v=0.1512, grad=0.0000), Var(v=0.0341, grad=-0.2496), Var(v=-0.2140, grad=0.0000), Var(v=-0.0672, grad=0.0281), Var(v=0.0649, grad=0.0000), Var(v=-0.0713, grad=0.1536), Var(v=0.1535, grad=-0.5262), Var(v=-0.0122, grad=0.0000), Var(v=-0.1954, grad=0.0000), Var(v=0.0343, grad=0.0000), Var(v=-0.1101, grad=0.3569)], [Var(v=-0.0813, grad=0.0000), Var(v=0.0924, grad=0.0000), Var(v=-0.0202, grad=0.0482), Var(v=0.0004, grad=0.0000), Var(v=0.0022, grad=-0.0275), Var(v=-0.1260, grad=0.0000), Var(v=0.1035, grad=0.0000), Var(v=0.1514, grad=0.0122), Var(v=-0.0923, grad=0.0000), Var(v=0.0126, grad=0.0594), Var(v=0.0353, grad=0.0000), Var(v=-0.0131, grad=-0.0486), Var(v=0.0312, grad=0.0517), Var(v=-0.1120, grad=-0.0180), Var(v=-0.0792, grad=0.0000), Var(v=-0.1545, grad=0.0000), Var(v=-0.0167, grad=0.0404), Var(v=0.0030, grad=0.0000), Var(v=0.0477, grad=0.0506), Var(v=-0.0626, grad=0.0441), Var(v=0.0139, grad=0.0000), Var(v=0.0116, grad=0.0000), Var(v=0.1419, grad=0.0000), Var(v=0.0989, grad=0.0000), Var(v=-0.1970, grad=-0.0147), Var(v=0.0626, grad=0.0000), Var(v=0.0072, grad=0.0525), Var(v=0.1502, grad=0.0000), Var(v=-0.0330, grad=-0.0778), Var(v=0.0590, grad=0.0000), Var(v=0.0262, grad=0.0000), Var(v=0.0883, grad=-0.0018), Var(v=0.0493, grad=0.0000), Var(v=-0.0677, grad=0.0537), Var(v=-0.0455, grad=-0.0370), Var(v=0.1195, grad=-0.0076), Var(v=0.0741, grad=-0.0197), Var(v=0.1545, grad=0.0000), Var(v=0.1350, grad=-0.0275), Var(v=-0.0586, grad=-0.0317), Var(v=-0.0188, grad=0.0273), Var(v=0.0911, grad=0.0000), Var(v=-0.0256, grad=0.0000), Var(v=0.1966, grad=-0.0284), Var(v=-0.0560, grad=-0.0168), Var(v=0.2827, grad=0.0575), Var(v=0.0665, grad=0.0000), Var(v=0.0039, grad=-0.0167), Var(v=0.0646, grad=0.0000), Var(v=-0.0930, grad=-0.0390)], [Var(v=-0.1410, grad=0.0000), Var(v=0.1393, grad=-0.5820), Var(v=-0.0403, grad=0.0000), Var(v=-0.0521, grad=-2.5207), Var(v=-0.0616, grad=0.9494), Var(v=0.1510, grad=0.0000), Var(v=0.0460, grad=0.0000), Var(v=-0.1218, grad=0.0000), Var(v=0.1578, grad=1.3148), Var(v=0.0883, grad=-2.0486), Var(v=-0.0891, grad=0.0000), Var(v=0.0281, grad=1.6774), Var(v=-0.1346, grad=0.0000), Var(v=-0.1185, grad=0.6217), Var(v=0.0354, grad=0.0000), Var(v=0.2231, grad=2.0279), Var(v=0.1338, grad=0.0000), Var(v=0.0658, grad=0.0000), Var(v=-0.0187, grad=-1.7463), Var(v=-0.1616, grad=-1.5202), Var(v=0.0488, grad=-1.9826), Var(v=-0.1032, grad=1.5567), Var(v=-0.1003, grad=0.4044), Var(v=-0.0982, grad=0.0074), Var(v=-0.0980, grad=0.0000), Var(v=-0.0238, grad=0.0000), Var(v=0.0846, grad=-1.8102), Var(v=-0.0310, grad=0.0000), Var(v=-0.0011, grad=2.6837), Var(v=0.1276, grad=0.0000), Var(v=0.1385, grad=0.8947), Var(v=0.0793, grad=0.0000), Var(v=0.0677, grad=-1.6951), Var(v=0.1427, grad=-1.8519), Var(v=0.0777, grad=1.2764), Var(v=0.1135, grad=0.2605), Var(v=-0.1131, grad=0.0000), Var(v=0.0729, grad=-0.2936), Var(v=0.0748, grad=0.9479), Var(v=-0.1344, grad=0.0000), Var(v=-0.0634, grad=-0.9407), Var(v=-0.1124, grad=0.0000), Var(v=0.2109, grad=0.1061), Var(v=0.0492, grad=0.0000), Var(v=0.0382, grad=0.5790), Var(v=0.1207, grad=-1.9833), Var(v=-0.0450, grad=0.0000), Var(v=0.0310, grad=0.0000), Var(v=-0.0809, grad=0.0000), Var(v=-0.0435, grad=1.3452)], [Var(v=0.0180, grad=0.0000), Var(v=0.0053, grad=0.0000), Var(v=-0.0054, grad=0.8751), Var(v=-0.1866, grad=0.0000), Var(v=-0.1513, grad=-0.4994), Var(v=0.1177, grad=0.0000), Var(v=-0.0163, grad=0.0000), Var(v=-0.0503, grad=0.2212), Var(v=-0.1684, grad=0.0000), Var(v=-0.1960, grad=1.0777), Var(v=-0.2002, grad=0.0000), Var(v=0.1571, grad=-0.8824), Var(v=0.1135, grad=0.9377), Var(v=-0.0295, grad=-0.3270), Var(v=0.0284, grad=0.0000), Var(v=0.0294, grad=0.0000), Var(v=0.0389, grad=0.7334), Var(v=0.0557, grad=0.0000), Var(v=0.1802, grad=0.9186), Var(v=-0.0487, grad=0.7997), Var(v=0.0871, grad=0.0000), Var(v=-0.2544, grad=0.0000), Var(v=-0.0793, grad=0.0000), Var(v=0.0140, grad=0.0000), Var(v=-0.0797, grad=-0.2670), Var(v=0.1245, grad=0.0000), Var(v=0.0883, grad=0.9522), Var(v=-0.1244, grad=0.0000), Var(v=0.0201, grad=-1.4117), Var(v=0.0668, grad=0.0000), Var(v=-0.1175, grad=0.0000), Var(v=0.2530, grad=-0.0335), Var(v=-0.0452, grad=0.0000), Var(v=-0.0463, grad=0.9742), Var(v=0.0048, grad=-0.6715), Var(v=0.0183, grad=-0.1370), Var(v=0.0253, grad=-0.3577), Var(v=-0.1136, grad=0.0000), Var(v=-0.0094, grad=-0.4986), Var(v=-0.0446, grad=-0.5744), Var(v=-0.0561, grad=0.4948), Var(v=0.0954, grad=0.0000), Var(v=0.1029, grad=0.0000), Var(v=-0.0092, grad=-0.5160), Var(v=-0.0186, grad=-0.3046), Var(v=0.0686, grad=1.0433), Var(v=0.0447, grad=0.0000), Var(v=-0.0660, grad=-0.3034), Var(v=-0.0424, grad=0.0000), Var(v=-0.0444, grad=-0.7076)], [Var(v=0.1217, grad=0.0000), Var(v=-0.0701, grad=0.0000), Var(v=-0.1131, grad=0.4456), Var(v=-0.1082, grad=0.0000), Var(v=0.1065, grad=-0.2543), Var(v=-0.0275, grad=0.0000), Var(v=-0.0139, grad=0.0000), Var(v=0.0488, grad=0.1127), Var(v=0.0807, grad=0.0000), Var(v=0.0255, grad=0.5488), Var(v=-0.1079, grad=0.0000), Var(v=0.1314, grad=-0.4493), Var(v=-0.0022, grad=0.4775), Var(v=-0.1939, grad=-0.1665), Var(v=-0.0427, grad=0.0000), Var(v=-0.0259, grad=0.0000), Var(v=-0.1213, grad=0.3735), Var(v=-0.0778, grad=0.0000), Var(v=-0.0321, grad=0.4678), Var(v=0.1063, grad=0.4072), Var(v=-0.0315, grad=0.0000), Var(v=-0.0715, grad=0.0000), Var(v=-0.0731, grad=0.0000), Var(v=-0.0926, grad=0.0000), Var(v=-0.0349, grad=-0.1360), Var(v=-0.0685, grad=0.0000), Var(v=-0.3023, grad=0.4849), Var(v=-0.1867, grad=0.0000), Var(v=-0.0522, grad=-0.7189), Var(v=0.0433, grad=0.0000), Var(v=0.2106, grad=0.0000), Var(v=-0.1370, grad=-0.0170), Var(v=-0.0985, grad=0.0000), Var(v=0.1795, grad=0.4961), Var(v=0.0903, grad=-0.3419), Var(v=-0.0449, grad=-0.0698), Var(v=0.1645, grad=-0.1821), Var(v=-0.0453, grad=0.0000), Var(v=-0.0381, grad=-0.2539), Var(v=0.0148, grad=-0.2925), Var(v=-0.2603, grad=0.2520), Var(v=-0.0903, grad=0.0000), Var(v=0.1531, grad=0.0000), Var(v=-0.1227, grad=-0.2628), Var(v=-0.1589, grad=-0.1551), Var(v=0.0842, grad=0.5313), Var(v=0.0694, grad=0.0000), Var(v=0.0587, grad=-0.1545), Var(v=-0.0888, grad=0.0000), Var(v=-0.0432, grad=-0.3603)], [Var(v=-0.1800, grad=0.0000), Var(v=-0.0102, grad=0.0000), Var(v=-0.1794, grad=0.5242), Var(v=-0.0277, grad=0.0000), Var(v=0.1591, grad=-0.2992), Var(v=0.1367, grad=0.0000), Var(v=0.0126, grad=0.0000), Var(v=-0.0585, grad=0.1325), Var(v=-0.0222, grad=0.0000), Var(v=0.1893, grad=0.6455), Var(v=0.0440, grad=0.0000), Var(v=-0.0142, grad=-0.5286), Var(v=0.0158, grad=0.5617), Var(v=0.0362, grad=-0.1959), Var(v=-0.0652, grad=0.0000), Var(v=0.0770, grad=0.0000), Var(v=-0.0452, grad=0.4393), Var(v=0.1316, grad=0.0000), Var(v=-0.0595, grad=0.5503), Var(v=-0.1210, grad=0.4790), Var(v=0.0588, grad=0.0000), Var(v=-0.1811, grad=0.0000), Var(v=-0.0226, grad=0.0000), Var(v=0.0187, grad=0.0000), Var(v=0.0018, grad=-0.1600), Var(v=-0.1500, grad=0.0000), Var(v=0.0039, grad=0.5704), Var(v=0.0849, grad=0.0000), Var(v=0.0301, grad=-0.8456), Var(v=0.0388, grad=0.0000), Var(v=0.1768, grad=0.0000), Var(v=0.0092, grad=-0.0200), Var(v=0.0213, grad=0.0000), Var(v=0.0330, grad=0.5835), Var(v=0.0981, grad=-0.4022), Var(v=0.0653, grad=-0.0821), Var(v=0.1238, grad=-0.2142), Var(v=-0.0395, grad=0.0000), Var(v=-0.0600, grad=-0.2987), Var(v=0.1110, grad=-0.3441), Var(v=0.0271, grad=0.2964), Var(v=-0.0257, grad=0.0000), Var(v=0.0134, grad=0.0000), Var(v=0.0763, grad=-0.3091), Var(v=0.1342, grad=-0.1824), Var(v=-0.0064, grad=0.6249), Var(v=-0.0938, grad=0.0000), Var(v=0.0544, grad=-0.1817), Var(v=0.0534, grad=0.0000), Var(v=-0.0812, grad=-0.4239)], [Var(v=-0.0702, grad=0.0000), Var(v=-0.0114, grad=-0.1354), Var(v=0.0272, grad=0.0000), Var(v=0.1497, grad=-0.5864), Var(v=-0.0119, grad=0.2208), Var(v=0.0615, grad=0.0000), Var(v=-0.0624, grad=0.0000), Var(v=-0.0404, grad=0.0000), Var(v=0.1052, grad=0.3058), Var(v=-0.0525, grad=-0.4765), Var(v=0.0190, grad=0.0000), Var(v=-0.1472, grad=0.3902), Var(v=0.2092, grad=0.0000), Var(v=0.1437, grad=0.1446), Var(v=-0.0012, grad=0.0000), Var(v=0.0956, grad=0.4717), Var(v=0.1141, grad=0.0000), Var(v=0.0053, grad=0.0000), Var(v=-0.1152, grad=-0.4062), Var(v=0.0204, grad=-0.3536), Var(v=0.1223, grad=-0.4612), Var(v=-0.0238, grad=0.3621), Var(v=-0.1339, grad=0.0941), Var(v=0.0788, grad=0.0017), Var(v=-0.1120, grad=0.0000), Var(v=0.1700, grad=0.0000), Var(v=0.1950, grad=-0.4211), Var(v=-0.1152, grad=0.0000), Var(v=-0.0238, grad=0.6243), Var(v=0.0619, grad=0.0000), Var(v=0.0522, grad=0.2081), Var(v=0.1708, grad=0.0000), Var(v=-0.0650, grad=-0.3943), Var(v=-0.0791, grad=-0.4308), Var(v=-0.0309, grad=0.2969), Var(v=-0.2467, grad=0.0606), Var(v=-0.2401, grad=0.0000), Var(v=0.0027, grad=-0.0683), Var(v=0.0008, grad=0.2205), Var(v=-0.1162, grad=0.0000), Var(v=0.0728, grad=-0.2188), Var(v=-0.1281, grad=0.0000), Var(v=-0.1130, grad=0.0247), Var(v=0.0595, grad=0.0000), Var(v=0.0347, grad=0.1347), Var(v=-0.0180, grad=-0.4613), Var(v=-0.0250, grad=0.0000), Var(v=-0.1540, grad=0.0000), Var(v=-0.0671, grad=0.0000), Var(v=-0.0645, grad=0.3129)], [Var(v=0.0142, grad=0.0000), Var(v=-0.0465, grad=-0.4332), Var(v=0.0621, grad=0.0000), Var(v=-0.1047, grad=-1.8762), Var(v=0.0702, grad=0.7067), Var(v=-0.2445, grad=0.0000), Var(v=-0.0193, grad=0.0000), Var(v=-0.1481, grad=0.0000), Var(v=0.0742, grad=0.9786), Var(v=0.0657, grad=-1.5248), Var(v=0.0759, grad=0.0000), Var(v=0.0207, grad=1.2485), Var(v=0.1192, grad=0.0000), Var(v=0.1562, grad=0.4627), Var(v=-0.1376, grad=0.0000), Var(v=0.0600, grad=1.5094), Var(v=0.0278, grad=0.0000), Var(v=-0.0991, grad=0.0000), Var(v=0.0301, grad=-1.2998), Var(v=0.0184, grad=-1.1315), Var(v=0.0141, grad=-1.4757), Var(v=0.1179, grad=1.1587), Var(v=-0.0403, grad=0.3010), Var(v=-0.0749, grad=0.0055), Var(v=-0.1141, grad=0.0000), Var(v=-0.0835, grad=0.0000), Var(v=-0.0553, grad=-1.3474), Var(v=-0.0684, grad=0.0000), Var(v=-0.0093, grad=1.9975), Var(v=0.0037, grad=0.0000), Var(v=0.0303, grad=0.6659), Var(v=-0.0668, grad=0.0000), Var(v=0.0399, grad=-1.2617), Var(v=0.0410, grad=-1.3784), Var(v=-0.1277, grad=0.9501), Var(v=0.0588, grad=0.1939), Var(v=0.1713, grad=0.0000), Var(v=0.0452, grad=-0.2185), Var(v=-0.0204, grad=0.7055), Var(v=-0.0858, grad=0.0000), Var(v=0.1110, grad=-0.7002), Var(v=0.0075, grad=0.0000), Var(v=-0.1074, grad=0.0789), Var(v=-0.0650, grad=0.0000), Var(v=0.1222, grad=0.4310), Var(v=0.1840, grad=-1.4762), Var(v=-0.1761, grad=0.0000), Var(v=-0.0966, grad=0.0000), Var(v=0.0367, grad=0.0000), Var(v=-0.0589, grad=1.0012)]] Biases: [Var(v=0.0000, grad=0.0000), Var(v=0.0000, grad=-3.7223), Var(v=0.0000, grad=10.7974), Var(v=0.0000, grad=-16.1228), Var(v=0.0000, grad=-0.0897), Var(v=0.0000, grad=0.0000), Var(v=0.0000, grad=0.0000), Var(v=0.0000, grad=2.7296), Var(v=0.0000, grad=8.4095), Var(v=0.0000, grad=0.1935), Var(v=0.0000, grad=0.0000), Var(v=0.0000, grad=-0.1584), Var(v=0.0000, grad=11.5696), Var(v=0.0000, grad=-0.0587), Var(v=0.0000, grad=0.0000), Var(v=0.0000, grad=12.9703), Var(v=0.0000, grad=9.0484), Var(v=0.0000, grad=0.0000), Var(v=0.0000, grad=0.1649), Var(v=0.0000, grad=0.1436), Var(v=0.0000, grad=-12.6810), Var(v=0.0000, grad=9.9568), Var(v=0.0000, grad=2.5867), Var(v=0.0000, grad=0.0471), Var(v=0.0000, grad=-3.2949), Var(v=0.0000, grad=0.0000), Var(v=0.0000, grad=0.1709), Var(v=0.0000, grad=0.0000), Var(v=0.0000, grad=-0.2534), Var(v=0.0000, grad=0.0000), Var(v=0.0000, grad=5.7225), Var(v=0.0000, grad=-0.4128), Var(v=0.0000, grad=-10.8418), Var(v=0.0000, grad=0.1749), Var(v=0.0000, grad=-0.1205), Var(v=0.0000, grad=-0.0246), Var(v=0.0000, grad=-4.4129), Var(v=0.0000, grad=-1.8777), Var(v=0.0000, grad=-0.0895), Var(v=0.0000, grad=-7.0877), Var(v=0.0000, grad=0.0888), Var(v=0.0000, grad=0.0000), Var(v=0.0000, grad=0.6783), Var(v=0.0000, grad=-6.3665), Var(v=0.0000, grad=-0.0547), Var(v=0.0000, grad=0.1873), Var(v=0.0000, grad=0.0000), Var(v=0.0000, grad=-3.7430), Var(v=0.0000, grad=0.0000), Var(v=0.0000, grad=-0.1270)]\n",
            "Layer 2 \n",
            " Weights: [[Var(v=-0.0648, grad=0.0000)], [Var(v=0.0433, grad=-1.3909)], [Var(v=0.1237, grad=3.7911)], [Var(v=0.1874, grad=-1.7564)], [Var(v=-0.0706, grad=0.9242)], [Var(v=0.0653, grad=0.0000)], [Var(v=-0.1895, grad=0.0000)], [Var(v=0.0313, grad=0.7029)], [Var(v=-0.0977, grad=-1.2982)], [Var(v=0.1523, grad=-1.9289)], [Var(v=0.0050, grad=0.0000)], [Var(v=-0.1247, grad=1.3288)], [Var(v=0.1325, grad=0.3109)], [Var(v=-0.0462, grad=-0.8252)], [Var(v=0.0319, grad=0.0000)], [Var(v=-0.1507, grad=-3.6724)], [Var(v=0.1036, grad=2.1260)], [Var(v=0.0329, grad=0.0000)], [Var(v=0.1298, grad=0.9145)], [Var(v=0.1130, grad=0.0620)], [Var(v=0.1474, grad=-3.2583)], [Var(v=-0.1157, grad=-0.8693)], [Var(v=-0.0301, grad=-0.0663)], [Var(v=-0.0005, grad=-0.0180)], [Var(v=-0.0377, grad=0.1706)], [Var(v=-0.1125, grad=0.0000)], [Var(v=0.1346, grad=-2.1416)], [Var(v=-0.0008, grad=0.0000)], [Var(v=-0.1995, grad=5.0009)], [Var(v=-0.0794, grad=0.0000)], [Var(v=-0.0665, grad=-1.7280)], [Var(v=-0.0047, grad=3.5219)], [Var(v=0.1260, grad=-1.2731)], [Var(v=0.1377, grad=3.6065)], [Var(v=-0.0949, grad=0.6228)], [Var(v=-0.0194, grad=1.8196)], [Var(v=-0.0505, grad=1.0457)], [Var(v=0.0218, grad=-4.5225)], [Var(v=-0.0705, grad=-0.4017)], [Var(v=-0.0812, grad=0.5235)], [Var(v=0.0699, grad=2.2374)], [Var(v=-0.0004, grad=0.0000)], [Var(v=-0.0079, grad=-2.4445)], [Var(v=-0.0729, grad=0.8112)], [Var(v=-0.0430, grad=-2.2608)], [Var(v=0.1474, grad=-3.0325)], [Var(v=-0.0139, grad=0.0000)], [Var(v=-0.0429, grad=1.9672)], [Var(v=-0.0512, grad=0.0000)], [Var(v=-0.1000, grad=1.4347)]] Biases: [Var(v=0.0000, grad=1.2704)]\n",
            "\n",
            "Network after update:\n",
            "Layer 0 \n",
            " Weights: [[Var(v=-0.2480, grad=-0.9637), Var(v=-0.0255, grad=4.3745), Var(v=0.2059, grad=-6.3533), Var(v=-0.0787, grad=-3.9889), Var(v=-0.0494, grad=3.0956), Var(v=-0.0918, grad=2.0043), Var(v=-0.1172, grad=2.7483), Var(v=0.1195, grad=-8.3909), Var(v=0.0427, grad=-4.6719), Var(v=0.1346, grad=-0.0225), Var(v=-0.0566, grad=-1.7055), Var(v=-0.0710, grad=3.3485), Var(v=-0.0994, grad=5.5311), Var(v=0.0752, grad=-4.3999), Var(v=0.1059, grad=-0.5867)]] Biases: [Var(v=-0.0088, grad=0.8760), Var(v=-0.0376, grad=3.7587), Var(v=0.0546, grad=-5.4590), Var(v=-0.0363, grad=3.6257), Var(v=0.0281, grad=-2.8137), Var(v=0.0182, grad=-1.8218), Var(v=0.0250, grad=-2.4981), Var(v=0.0721, grad=-7.2098), Var(v=-0.0425, grad=4.2466), Var(v=0.0002, grad=-0.0193), Var(v=-0.0155, grad=1.5503), Var(v=0.0304, grad=-3.0437), Var(v=0.0503, grad=-5.0276), Var(v=0.0378, grad=-3.7805), Var(v=0.0050, grad=-0.5041)]\n",
            "Layer 1 \n",
            " Weights: [[Var(v=-0.0041, grad=0.0000), Var(v=-0.0904, grad=0.0000), Var(v=0.1730, grad=3.0602), Var(v=0.0188, grad=0.0000), Var(v=-0.0063, grad=-1.7465), Var(v=-0.1363, grad=0.0000), Var(v=-0.0500, grad=0.0000), Var(v=0.0756, grad=0.7736), Var(v=-0.1443, grad=0.0000), Var(v=-0.0740, grad=3.7686), Var(v=-0.0770, grad=0.0000), Var(v=-0.0281, grad=-3.0856), Var(v=-0.1060, grad=3.2791), Var(v=0.0593, grad=-1.1436), Var(v=-0.2103, grad=0.0000), Var(v=-0.0262, grad=0.0000), Var(v=0.0481, grad=2.5645), Var(v=-0.1888, grad=0.0000), Var(v=-0.1032, grad=3.2124), Var(v=-0.0288, grad=2.7965), Var(v=-0.0205, grad=0.0000), Var(v=-0.1016, grad=0.0000), Var(v=-0.0461, grad=0.0000), Var(v=-0.1150, grad=0.0000), Var(v=0.0467, grad=-0.9338), Var(v=0.0162, grad=0.0000), Var(v=-0.0068, grad=3.3299), Var(v=-0.0723, grad=0.0000), Var(v=0.2395, grad=-4.9368), Var(v=0.0204, grad=0.0000), Var(v=-0.0390, grad=0.0000), Var(v=0.1331, grad=-0.1170), Var(v=0.0380, grad=0.0000), Var(v=0.1585, grad=3.4066), Var(v=-0.0152, grad=-2.3481), Var(v=0.0263, grad=-0.4792), Var(v=0.0840, grad=-1.2507), Var(v=-0.0084, grad=0.0000), Var(v=0.1052, grad=-1.7437), Var(v=0.0339, grad=-2.0088), Var(v=0.1599, grad=1.7304), Var(v=0.0021, grad=0.0000), Var(v=0.0150, grad=0.0000), Var(v=0.0279, grad=-1.8044), Var(v=0.0391, grad=-1.0651), Var(v=-0.0130, grad=3.6483), Var(v=-0.1414, grad=0.0000), Var(v=0.1497, grad=-1.0609), Var(v=-0.2004, grad=0.0000), Var(v=0.0053, grad=-2.4745)], [Var(v=-0.0285, grad=0.0000), Var(v=0.0007, grad=-0.0790), Var(v=-0.0692, grad=0.0000), Var(v=0.0237, grad=-0.3424), Var(v=0.0945, grad=0.1289), Var(v=0.0375, grad=0.0000), Var(v=0.0597, grad=0.0000), Var(v=0.0423, grad=0.0000), Var(v=-0.0031, grad=0.1786), Var(v=-0.1476, grad=-0.2782), Var(v=-0.0088, grad=0.0000), Var(v=-0.0281, grad=0.2278), Var(v=-0.1054, grad=0.0000), Var(v=-0.0036, grad=0.0844), Var(v=0.0266, grad=0.0000), Var(v=-0.0808, grad=0.2754), Var(v=0.1450, grad=0.0000), Var(v=-0.3748, grad=0.0000), Var(v=0.1193, grad=-0.2372), Var(v=-0.0874, grad=-0.2065), Var(v=-0.0422, grad=-0.2693), Var(v=0.1486, grad=0.2114), Var(v=0.1077, grad=0.0549), Var(v=-0.0492, grad=0.0010), Var(v=-0.0905, grad=0.0000), Var(v=0.0390, grad=0.0000), Var(v=0.1434, grad=-0.2459), Var(v=-0.0489, grad=0.0000), Var(v=0.1006, grad=0.3645), Var(v=0.0281, grad=0.0000), Var(v=-0.0561, grad=0.1215), Var(v=-0.0283, grad=0.0000), Var(v=0.0258, grad=-0.2302), Var(v=-0.0798, grad=-0.2515), Var(v=0.0502, grad=0.1734), Var(v=-0.0451, grad=0.0354), Var(v=0.0527, grad=0.0000), Var(v=0.0568, grad=-0.0399), Var(v=0.1224, grad=0.1287), Var(v=-0.1543, grad=0.0000), Var(v=0.0667, grad=-0.1278), Var(v=0.3049, grad=0.0000), Var(v=0.1661, grad=0.0144), Var(v=-0.1218, grad=0.0000), Var(v=-0.0143, grad=0.0786), Var(v=0.0847, grad=-0.2694), Var(v=-0.1331, grad=0.0000), Var(v=0.0482, grad=0.0000), Var(v=0.0691, grad=0.0000), Var(v=0.0851, grad=0.1827)], [Var(v=-0.0246, grad=0.0000), Var(v=0.0648, grad=-0.6166), Var(v=-0.0880, grad=0.0000), Var(v=0.2003, grad=-2.6709), Var(v=0.1077, grad=1.0059), Var(v=-0.1184, grad=0.0000), Var(v=-0.0834, grad=0.0000), Var(v=-0.0114, grad=0.0000), Var(v=-0.1067, grad=1.3931), Var(v=0.1045, grad=-2.1706), Var(v=-0.1222, grad=0.0000), Var(v=-0.0102, grad=1.7773), Var(v=-0.0973, grad=0.0000), Var(v=0.0425, grad=0.6587), Var(v=-0.1636, grad=0.0000), Var(v=-0.0114, grad=2.1486), Var(v=-0.1772, grad=0.0000), Var(v=-0.0057, grad=0.0000), Var(v=0.0422, grad=-1.8503), Var(v=0.1638, grad=-1.6107), Var(v=0.1561, grad=-2.1007), Var(v=0.0249, grad=1.6494), Var(v=0.1108, grad=0.4285), Var(v=0.1339, grad=0.0078), Var(v=0.0826, grad=0.0000), Var(v=-0.2547, grad=0.0000), Var(v=0.1148, grad=-1.9180), Var(v=-0.0667, grad=0.0000), Var(v=0.0085, grad=2.8435), Var(v=-0.2351, grad=0.0000), Var(v=-0.0243, grad=0.9480), Var(v=-0.0427, grad=0.0000), Var(v=0.0479, grad=-1.7960), Var(v=0.0405, grad=-1.9622), Var(v=0.0736, grad=1.3525), Var(v=0.0426, grad=0.2760), Var(v=0.0122, grad=0.0000), Var(v=0.1889, grad=-0.3111), Var(v=0.0992, grad=1.0044), Var(v=0.0919, grad=0.0000), Var(v=0.0778, grad=-0.9967), Var(v=-0.0673, grad=0.0000), Var(v=0.0671, grad=0.1124), Var(v=-0.1465, grad=0.0000), Var(v=0.0962, grad=0.6135), Var(v=0.0301, grad=-2.1014), Var(v=0.1312, grad=0.0000), Var(v=0.0307, grad=0.0000), Var(v=-0.1236, grad=0.0000), Var(v=0.1165, grad=1.4253)], [Var(v=-0.0325, grad=0.0000), Var(v=-0.1205, grad=0.0000), Var(v=0.0092, grad=1.4093), Var(v=-0.2196, grad=0.0000), Var(v=0.0992, grad=-0.8043), Var(v=0.1337, grad=0.0000), Var(v=-0.1130, grad=0.0000), Var(v=0.0037, grad=0.3563), Var(v=0.0406, grad=0.0000), Var(v=0.1631, grad=1.7355), Var(v=-0.0723, grad=0.0000), Var(v=0.0148, grad=-1.4210), Var(v=0.0836, grad=1.5101), Var(v=0.0655, grad=-0.5266), Var(v=0.0337, grad=0.0000), Var(v=-0.0062, grad=0.0000), Var(v=-0.1026, grad=1.1810), Var(v=-0.0521, grad=0.0000), Var(v=0.0127, grad=1.4793), Var(v=0.1231, grad=1.2878), Var(v=0.0269, grad=0.0000), Var(v=0.1218, grad=0.0000), Var(v=0.0245, grad=0.0000), Var(v=-0.1514, grad=0.0000), Var(v=-0.0071, grad=-0.4300), Var(v=-0.0355, grad=0.0000), Var(v=0.1458, grad=1.5335), Var(v=-0.1638, grad=0.0000), Var(v=0.0791, grad=-2.2734), Var(v=-0.1226, grad=0.0000), Var(v=-0.1305, grad=0.0000), Var(v=-0.0635, grad=-0.0539), Var(v=-0.0408, grad=0.0000), Var(v=0.0565, grad=1.5688), Var(v=0.0716, grad=-1.0813), Var(v=0.0949, grad=-0.2207), Var(v=-0.0496, grad=-0.5760), Var(v=0.0510, grad=0.0000), Var(v=0.0733, grad=-0.8030), Var(v=-0.0435, grad=-0.9251), Var(v=0.0360, grad=0.7969), Var(v=-0.0110, grad=0.0000), Var(v=-0.0328, grad=0.0000), Var(v=0.0218, grad=-0.8310), Var(v=0.1047, grad=-0.4905), Var(v=-0.0313, grad=1.6801), Var(v=0.0316, grad=0.0000), Var(v=-0.2697, grad=-0.4885), Var(v=-0.0208, grad=0.0000), Var(v=0.2696, grad=-1.1395)], [Var(v=-0.0485, grad=0.0000), Var(v=-0.0910, grad=0.0000), Var(v=-0.1648, grad=0.2189), Var(v=-0.0520, grad=0.0000), Var(v=-0.0342, grad=-0.1249), Var(v=0.0005, grad=0.0000), Var(v=0.0276, grad=0.0000), Var(v=0.0093, grad=0.0553), Var(v=0.1118, grad=0.0000), Var(v=-0.1087, grad=0.2695), Var(v=0.0315, grad=0.0000), Var(v=0.0576, grad=-0.2207), Var(v=-0.0163, grad=0.2345), Var(v=0.0557, grad=-0.0818), Var(v=-0.0301, grad=0.0000), Var(v=0.2480, grad=0.0000), Var(v=-0.0625, grad=0.1834), Var(v=0.0160, grad=0.0000), Var(v=0.1137, grad=0.2298), Var(v=-0.0098, grad=0.2000), Var(v=-0.1986, grad=0.0000), Var(v=0.0138, grad=0.0000), Var(v=0.0513, grad=0.0000), Var(v=0.1333, grad=0.0000), Var(v=0.0510, grad=-0.0668), Var(v=0.0447, grad=0.0000), Var(v=-0.1002, grad=0.2382), Var(v=-0.0628, grad=0.0000), Var(v=-0.1623, grad=-0.3531), Var(v=-0.1566, grad=0.0000), Var(v=0.0219, grad=0.0000), Var(v=-0.0343, grad=-0.0084), Var(v=0.1226, grad=0.0000), Var(v=0.0558, grad=0.2437), Var(v=0.0904, grad=-0.1679), Var(v=-0.1081, grad=-0.0343), Var(v=0.0150, grad=-0.0895), Var(v=-0.1120, grad=0.0000), Var(v=0.1322, grad=-0.1247), Var(v=-0.0094, grad=-0.1437), Var(v=-0.0891, grad=0.1238), Var(v=0.2348, grad=0.0000), Var(v=-0.0403, grad=0.0000), Var(v=0.1776, grad=-0.1291), Var(v=0.0985, grad=-0.0762), Var(v=0.1144, grad=0.2609), Var(v=0.0624, grad=0.0000), Var(v=0.1976, grad=-0.0759), Var(v=-0.0767, grad=0.0000), Var(v=-0.0802, grad=-0.1770)], [Var(v=-0.1277, grad=0.0000), Var(v=0.1632, grad=0.0000), Var(v=-0.0286, grad=0.8527), Var(v=-0.0175, grad=0.0000), Var(v=0.1751, grad=-0.4866), Var(v=0.0381, grad=0.0000), Var(v=-0.1618, grad=0.0000), Var(v=-0.0895, grad=0.2156), Var(v=-0.0123, grad=0.0000), Var(v=-0.0304, grad=1.0500), Var(v=-0.0821, grad=0.0000), Var(v=0.1587, grad=-0.8597), Var(v=0.0212, grad=0.9136), Var(v=-0.1188, grad=-0.3186), Var(v=0.0256, grad=0.0000), Var(v=0.0336, grad=0.0000), Var(v=0.0790, grad=0.7145), Var(v=0.1002, grad=0.0000), Var(v=0.1384, grad=0.8950), Var(v=-0.0718, grad=0.7792), Var(v=-0.0187, grad=0.0000), Var(v=0.0742, grad=0.0000), Var(v=-0.1355, grad=0.0000), Var(v=-0.1713, grad=0.0000), Var(v=0.0660, grad=-0.2602), Var(v=-0.0613, grad=0.0000), Var(v=-0.1003, grad=0.9278), Var(v=0.0369, grad=0.0000), Var(v=0.0707, grad=-1.3755), Var(v=0.0260, grad=0.0000), Var(v=0.0124, grad=0.0000), Var(v=-0.0251, grad=-0.0326), Var(v=-0.1436, grad=0.0000), Var(v=-0.0242, grad=0.9492), Var(v=-0.0160, grad=-0.6542), Var(v=0.0517, grad=-0.1335), Var(v=-0.1681, grad=-0.3485), Var(v=-0.0673, grad=0.0000), Var(v=0.0419, grad=-0.4858), Var(v=-0.0412, grad=-0.5597), Var(v=0.0023, grad=0.4821), Var(v=-0.0273, grad=0.0000), Var(v=-0.1181, grad=0.0000), Var(v=0.0604, grad=-0.5028), Var(v=-0.1287, grad=-0.2968), Var(v=-0.0512, grad=1.0165), Var(v=0.0593, grad=0.0000), Var(v=0.0703, grad=-0.2956), Var(v=-0.2140, grad=0.0000), Var(v=-0.1063, grad=-0.6895)], [Var(v=0.0382, grad=0.0000), Var(v=-0.0167, grad=0.0000), Var(v=0.0041, grad=1.0660), Var(v=-0.1109, grad=0.0000), Var(v=0.1019, grad=-0.6084), Var(v=-0.1744, grad=0.0000), Var(v=-0.0791, grad=0.0000), Var(v=-0.0594, grad=0.2695), Var(v=-0.1071, grad=0.0000), Var(v=0.0087, grad=1.3128), Var(v=-0.0864, grad=0.0000), Var(v=0.1144, grad=-1.0749), Var(v=-0.0186, grad=1.1422), Var(v=0.0653, grad=-0.3984), Var(v=0.0069, grad=0.0000), Var(v=-0.2317, grad=0.0000), Var(v=0.1314, grad=0.8933), Var(v=-0.0045, grad=0.0000), Var(v=0.1190, grad=1.1190), Var(v=0.0052, grad=0.9741), Var(v=-0.0314, grad=0.0000), Var(v=0.1707, grad=0.0000), Var(v=-0.0518, grad=0.0000), Var(v=0.1495, grad=0.0000), Var(v=-0.0420, grad=-0.3253), Var(v=-0.1896, grad=0.0000), Var(v=-0.1040, grad=1.1600), Var(v=-0.0995, grad=0.0000), Var(v=0.0345, grad=-1.7197), Var(v=-0.0267, grad=0.0000), Var(v=-0.0805, grad=0.0000), Var(v=-0.0167, grad=-0.0408), Var(v=-0.0091, grad=0.0000), Var(v=-0.0549, grad=1.1867), Var(v=0.0870, grad=-0.8179), Var(v=0.2254, grad=-0.1669), Var(v=-0.0257, grad=-0.4357), Var(v=-0.1826, grad=0.0000), Var(v=-0.1079, grad=-0.6074), Var(v=0.1160, grad=-0.6998), Var(v=0.0380, grad=0.6028), Var(v=-0.1312, grad=0.0000), Var(v=-0.0721, grad=0.0000), Var(v=-0.0139, grad=-0.6286), Var(v=-0.0177, grad=-0.3710), Var(v=-0.0133, grad=1.2709), Var(v=-0.0772, grad=0.0000), Var(v=0.1040, grad=-0.3695), Var(v=-0.1435, grad=0.0000), Var(v=0.1247, grad=-0.8620)], [Var(v=-0.0678, grad=0.0000), Var(v=-0.2273, grad=-0.1544), Var(v=-0.0194, grad=0.0000), Var(v=0.1539, grad=-0.6688), Var(v=-0.0690, grad=0.2519), Var(v=0.0034, grad=0.0000), Var(v=0.0028, grad=0.0000), Var(v=0.1695, grad=0.0000), Var(v=-0.1636, grad=0.3488), Var(v=-0.0296, grad=-0.5435), Var(v=-0.0574, grad=0.0000), Var(v=0.1581, grad=0.4450), Var(v=-0.0479, grad=0.0000), Var(v=0.1570, grad=0.1649), Var(v=-0.0512, grad=0.0000), Var(v=-0.0699, grad=0.5380), Var(v=-0.1293, grad=0.0000), Var(v=0.0188, grad=0.0000), Var(v=0.1919, grad=-0.4633), Var(v=0.1799, grad=-0.4033), Var(v=0.0711, grad=-0.5260), Var(v=0.0760, grad=0.4130), Var(v=0.1109, grad=0.1073), Var(v=0.0066, grad=0.0020), Var(v=-0.0262, grad=0.0000), Var(v=0.0242, grad=0.0000), Var(v=-0.0576, grad=-0.4803), Var(v=0.0166, grad=0.0000), Var(v=0.0288, grad=0.7120), Var(v=-0.0433, grad=0.0000), Var(v=-0.0837, grad=0.2374), Var(v=-0.1046, grad=0.0000), Var(v=-0.0806, grad=-0.4497), Var(v=-0.0476, grad=-0.4913), Var(v=-0.1311, grad=0.3386), Var(v=0.0655, grad=0.0691), Var(v=-0.0703, grad=0.0000), Var(v=0.0929, grad=-0.0779), Var(v=-0.0502, grad=0.2515), Var(v=0.1512, grad=0.0000), Var(v=0.0366, grad=-0.2496), Var(v=-0.2140, grad=0.0000), Var(v=-0.0674, grad=0.0281), Var(v=0.0649, grad=0.0000), Var(v=-0.0728, grad=0.1536), Var(v=0.1588, grad=-0.5262), Var(v=-0.0122, grad=0.0000), Var(v=-0.1954, grad=0.0000), Var(v=0.0343, grad=0.0000), Var(v=-0.1136, grad=0.3569)], [Var(v=-0.0813, grad=0.0000), Var(v=0.0924, grad=0.0000), Var(v=-0.0207, grad=0.0482), Var(v=0.0004, grad=0.0000), Var(v=0.0025, grad=-0.0275), Var(v=-0.1260, grad=0.0000), Var(v=0.1035, grad=0.0000), Var(v=0.1513, grad=0.0122), Var(v=-0.0923, grad=0.0000), Var(v=0.0120, grad=0.0594), Var(v=0.0353, grad=0.0000), Var(v=-0.0126, grad=-0.0486), Var(v=0.0307, grad=0.0517), Var(v=-0.1118, grad=-0.0180), Var(v=-0.0792, grad=0.0000), Var(v=-0.1545, grad=0.0000), Var(v=-0.0172, grad=0.0404), Var(v=0.0030, grad=0.0000), Var(v=0.0472, grad=0.0506), Var(v=-0.0630, grad=0.0441), Var(v=0.0139, grad=0.0000), Var(v=0.0116, grad=0.0000), Var(v=0.1419, grad=0.0000), Var(v=0.0989, grad=0.0000), Var(v=-0.1968, grad=-0.0147), Var(v=0.0626, grad=0.0000), Var(v=0.0067, grad=0.0525), Var(v=0.1502, grad=0.0000), Var(v=-0.0322, grad=-0.0778), Var(v=0.0590, grad=0.0000), Var(v=0.0262, grad=0.0000), Var(v=0.0883, grad=-0.0018), Var(v=0.0493, grad=0.0000), Var(v=-0.0683, grad=0.0537), Var(v=-0.0451, grad=-0.0370), Var(v=0.1196, grad=-0.0076), Var(v=0.0743, grad=-0.0197), Var(v=0.1545, grad=0.0000), Var(v=0.1353, grad=-0.0275), Var(v=-0.0582, grad=-0.0317), Var(v=-0.0191, grad=0.0273), Var(v=0.0911, grad=0.0000), Var(v=-0.0256, grad=0.0000), Var(v=0.1969, grad=-0.0284), Var(v=-0.0558, grad=-0.0168), Var(v=0.2821, grad=0.0575), Var(v=0.0665, grad=0.0000), Var(v=0.0041, grad=-0.0167), Var(v=0.0646, grad=0.0000), Var(v=-0.0926, grad=-0.0390)], [Var(v=-0.1410, grad=0.0000), Var(v=0.1451, grad=-0.5820), Var(v=-0.0403, grad=0.0000), Var(v=-0.0269, grad=-2.5207), Var(v=-0.0711, grad=0.9494), Var(v=0.1510, grad=0.0000), Var(v=0.0460, grad=0.0000), Var(v=-0.1218, grad=0.0000), Var(v=0.1447, grad=1.3148), Var(v=0.1088, grad=-2.0486), Var(v=-0.0891, grad=0.0000), Var(v=0.0113, grad=1.6774), Var(v=-0.1346, grad=0.0000), Var(v=-0.1247, grad=0.6217), Var(v=0.0354, grad=0.0000), Var(v=0.2028, grad=2.0279), Var(v=0.1338, grad=0.0000), Var(v=0.0658, grad=0.0000), Var(v=-0.0012, grad=-1.7463), Var(v=-0.1464, grad=-1.5202), Var(v=0.0686, grad=-1.9826), Var(v=-0.1187, grad=1.5567), Var(v=-0.1044, grad=0.4044), Var(v=-0.0983, grad=0.0074), Var(v=-0.0980, grad=0.0000), Var(v=-0.0238, grad=0.0000), Var(v=0.1027, grad=-1.8102), Var(v=-0.0310, grad=0.0000), Var(v=-0.0279, grad=2.6837), Var(v=0.1276, grad=0.0000), Var(v=0.1296, grad=0.8947), Var(v=0.0793, grad=0.0000), Var(v=0.0846, grad=-1.6951), Var(v=0.1612, grad=-1.8519), Var(v=0.0649, grad=1.2764), Var(v=0.1109, grad=0.2605), Var(v=-0.1131, grad=0.0000), Var(v=0.0759, grad=-0.2936), Var(v=0.0653, grad=0.9479), Var(v=-0.1344, grad=0.0000), Var(v=-0.0540, grad=-0.9407), Var(v=-0.1124, grad=0.0000), Var(v=0.2098, grad=0.1061), Var(v=0.0492, grad=0.0000), Var(v=0.0324, grad=0.5790), Var(v=0.1406, grad=-1.9833), Var(v=-0.0450, grad=0.0000), Var(v=0.0310, grad=0.0000), Var(v=-0.0809, grad=0.0000), Var(v=-0.0570, grad=1.3452)], [Var(v=0.0180, grad=0.0000), Var(v=0.0053, grad=0.0000), Var(v=-0.0142, grad=0.8751), Var(v=-0.1866, grad=0.0000), Var(v=-0.1463, grad=-0.4994), Var(v=0.1177, grad=0.0000), Var(v=-0.0163, grad=0.0000), Var(v=-0.0525, grad=0.2212), Var(v=-0.1684, grad=0.0000), Var(v=-0.2068, grad=1.0777), Var(v=-0.2002, grad=0.0000), Var(v=0.1659, grad=-0.8824), Var(v=0.1041, grad=0.9377), Var(v=-0.0262, grad=-0.3270), Var(v=0.0284, grad=0.0000), Var(v=0.0294, grad=0.0000), Var(v=0.0316, grad=0.7334), Var(v=0.0557, grad=0.0000), Var(v=0.1710, grad=0.9186), Var(v=-0.0567, grad=0.7997), Var(v=0.0871, grad=0.0000), Var(v=-0.2544, grad=0.0000), Var(v=-0.0793, grad=0.0000), Var(v=0.0140, grad=0.0000), Var(v=-0.0770, grad=-0.2670), Var(v=0.1245, grad=0.0000), Var(v=0.0788, grad=0.9522), Var(v=-0.1244, grad=0.0000), Var(v=0.0342, grad=-1.4117), Var(v=0.0668, grad=0.0000), Var(v=-0.1175, grad=0.0000), Var(v=0.2533, grad=-0.0335), Var(v=-0.0452, grad=0.0000), Var(v=-0.0561, grad=0.9742), Var(v=0.0115, grad=-0.6715), Var(v=0.0196, grad=-0.1370), Var(v=0.0289, grad=-0.3577), Var(v=-0.1136, grad=0.0000), Var(v=-0.0044, grad=-0.4986), Var(v=-0.0389, grad=-0.5744), Var(v=-0.0610, grad=0.4948), Var(v=0.0954, grad=0.0000), Var(v=0.1029, grad=0.0000), Var(v=-0.0040, grad=-0.5160), Var(v=-0.0155, grad=-0.3046), Var(v=0.0582, grad=1.0433), Var(v=0.0447, grad=0.0000), Var(v=-0.0630, grad=-0.3034), Var(v=-0.0424, grad=0.0000), Var(v=-0.0373, grad=-0.7076)], [Var(v=0.1217, grad=0.0000), Var(v=-0.0701, grad=0.0000), Var(v=-0.1175, grad=0.4456), Var(v=-0.1082, grad=0.0000), Var(v=0.1090, grad=-0.2543), Var(v=-0.0275, grad=0.0000), Var(v=-0.0139, grad=0.0000), Var(v=0.0476, grad=0.1127), Var(v=0.0807, grad=0.0000), Var(v=0.0200, grad=0.5488), Var(v=-0.1079, grad=0.0000), Var(v=0.1359, grad=-0.4493), Var(v=-0.0070, grad=0.4775), Var(v=-0.1922, grad=-0.1665), Var(v=-0.0427, grad=0.0000), Var(v=-0.0259, grad=0.0000), Var(v=-0.1250, grad=0.3735), Var(v=-0.0778, grad=0.0000), Var(v=-0.0368, grad=0.4678), Var(v=0.1022, grad=0.4072), Var(v=-0.0315, grad=0.0000), Var(v=-0.0715, grad=0.0000), Var(v=-0.0731, grad=0.0000), Var(v=-0.0926, grad=0.0000), Var(v=-0.0336, grad=-0.1360), Var(v=-0.0685, grad=0.0000), Var(v=-0.3071, grad=0.4849), Var(v=-0.1867, grad=0.0000), Var(v=-0.0450, grad=-0.7189), Var(v=0.0433, grad=0.0000), Var(v=0.2106, grad=0.0000), Var(v=-0.1368, grad=-0.0170), Var(v=-0.0985, grad=0.0000), Var(v=0.1745, grad=0.4961), Var(v=0.0937, grad=-0.3419), Var(v=-0.0443, grad=-0.0698), Var(v=0.1663, grad=-0.1821), Var(v=-0.0453, grad=0.0000), Var(v=-0.0356, grad=-0.2539), Var(v=0.0177, grad=-0.2925), Var(v=-0.2628, grad=0.2520), Var(v=-0.0903, grad=0.0000), Var(v=0.1531, grad=0.0000), Var(v=-0.1200, grad=-0.2628), Var(v=-0.1573, grad=-0.1551), Var(v=0.0789, grad=0.5313), Var(v=0.0694, grad=0.0000), Var(v=0.0603, grad=-0.1545), Var(v=-0.0888, grad=0.0000), Var(v=-0.0396, grad=-0.3603)], [Var(v=-0.1800, grad=0.0000), Var(v=-0.0102, grad=0.0000), Var(v=-0.1847, grad=0.5242), Var(v=-0.0277, grad=0.0000), Var(v=0.1621, grad=-0.2992), Var(v=0.1367, grad=0.0000), Var(v=0.0126, grad=0.0000), Var(v=-0.0598, grad=0.1325), Var(v=-0.0222, grad=0.0000), Var(v=0.1828, grad=0.6455), Var(v=0.0440, grad=0.0000), Var(v=-0.0089, grad=-0.5286), Var(v=0.0101, grad=0.5617), Var(v=0.0382, grad=-0.1959), Var(v=-0.0652, grad=0.0000), Var(v=0.0770, grad=0.0000), Var(v=-0.0495, grad=0.4393), Var(v=0.1316, grad=0.0000), Var(v=-0.0650, grad=0.5503), Var(v=-0.1258, grad=0.4790), Var(v=0.0588, grad=0.0000), Var(v=-0.1811, grad=0.0000), Var(v=-0.0226, grad=0.0000), Var(v=0.0187, grad=0.0000), Var(v=0.0034, grad=-0.1600), Var(v=-0.1500, grad=0.0000), Var(v=-0.0018, grad=0.5704), Var(v=0.0849, grad=0.0000), Var(v=0.0386, grad=-0.8456), Var(v=0.0388, grad=0.0000), Var(v=0.1768, grad=0.0000), Var(v=0.0094, grad=-0.0200), Var(v=0.0213, grad=0.0000), Var(v=0.0271, grad=0.5835), Var(v=0.1021, grad=-0.4022), Var(v=0.0661, grad=-0.0821), Var(v=0.1259, grad=-0.2142), Var(v=-0.0395, grad=0.0000), Var(v=-0.0570, grad=-0.2987), Var(v=0.1144, grad=-0.3441), Var(v=0.0241, grad=0.2964), Var(v=-0.0257, grad=0.0000), Var(v=0.0134, grad=0.0000), Var(v=0.0794, grad=-0.3091), Var(v=0.1360, grad=-0.1824), Var(v=-0.0127, grad=0.6249), Var(v=-0.0938, grad=0.0000), Var(v=0.0563, grad=-0.1817), Var(v=0.0534, grad=0.0000), Var(v=-0.0770, grad=-0.4239)], [Var(v=-0.0702, grad=0.0000), Var(v=-0.0100, grad=-0.1354), Var(v=0.0272, grad=0.0000), Var(v=0.1555, grad=-0.5864), Var(v=-0.0142, grad=0.2208), Var(v=0.0615, grad=0.0000), Var(v=-0.0624, grad=0.0000), Var(v=-0.0404, grad=0.0000), Var(v=0.1021, grad=0.3058), Var(v=-0.0477, grad=-0.4765), Var(v=0.0190, grad=0.0000), Var(v=-0.1511, grad=0.3902), Var(v=0.2092, grad=0.0000), Var(v=0.1423, grad=0.1446), Var(v=-0.0012, grad=0.0000), Var(v=0.0909, grad=0.4717), Var(v=0.1141, grad=0.0000), Var(v=0.0053, grad=0.0000), Var(v=-0.1112, grad=-0.4062), Var(v=0.0239, grad=-0.3536), Var(v=0.1269, grad=-0.4612), Var(v=-0.0274, grad=0.3621), Var(v=-0.1348, grad=0.0941), Var(v=0.0788, grad=0.0017), Var(v=-0.1120, grad=0.0000), Var(v=0.1700, grad=0.0000), Var(v=0.1992, grad=-0.4211), Var(v=-0.1152, grad=0.0000), Var(v=-0.0300, grad=0.6243), Var(v=0.0619, grad=0.0000), Var(v=0.0501, grad=0.2081), Var(v=0.1708, grad=0.0000), Var(v=-0.0610, grad=-0.3943), Var(v=-0.0748, grad=-0.4308), Var(v=-0.0338, grad=0.2969), Var(v=-0.2473, grad=0.0606), Var(v=-0.2401, grad=0.0000), Var(v=0.0034, grad=-0.0683), Var(v=-0.0014, grad=0.2205), Var(v=-0.1162, grad=0.0000), Var(v=0.0750, grad=-0.2188), Var(v=-0.1281, grad=0.0000), Var(v=-0.1133, grad=0.0247), Var(v=0.0595, grad=0.0000), Var(v=0.0334, grad=0.1347), Var(v=-0.0134, grad=-0.4613), Var(v=-0.0250, grad=0.0000), Var(v=-0.1540, grad=0.0000), Var(v=-0.0671, grad=0.0000), Var(v=-0.0676, grad=0.3129)], [Var(v=0.0142, grad=0.0000), Var(v=-0.0422, grad=-0.4332), Var(v=0.0621, grad=0.0000), Var(v=-0.0859, grad=-1.8762), Var(v=0.0631, grad=0.7067), Var(v=-0.2445, grad=0.0000), Var(v=-0.0193, grad=0.0000), Var(v=-0.1481, grad=0.0000), Var(v=0.0644, grad=0.9786), Var(v=0.0809, grad=-1.5248), Var(v=0.0759, grad=0.0000), Var(v=0.0082, grad=1.2485), Var(v=0.1192, grad=0.0000), Var(v=0.1516, grad=0.4627), Var(v=-0.1376, grad=0.0000), Var(v=0.0449, grad=1.5094), Var(v=0.0278, grad=0.0000), Var(v=-0.0991, grad=0.0000), Var(v=0.0431, grad=-1.2998), Var(v=0.0297, grad=-1.1315), Var(v=0.0288, grad=-1.4757), Var(v=0.1063, grad=1.1587), Var(v=-0.0433, grad=0.3010), Var(v=-0.0750, grad=0.0055), Var(v=-0.1141, grad=0.0000), Var(v=-0.0835, grad=0.0000), Var(v=-0.0418, grad=-1.3474), Var(v=-0.0684, grad=0.0000), Var(v=-0.0293, grad=1.9975), Var(v=0.0037, grad=0.0000), Var(v=0.0236, grad=0.6659), Var(v=-0.0668, grad=0.0000), Var(v=0.0525, grad=-1.2617), Var(v=0.0548, grad=-1.3784), Var(v=-0.1372, grad=0.9501), Var(v=0.0569, grad=0.1939), Var(v=0.1713, grad=0.0000), Var(v=0.0474, grad=-0.2185), Var(v=-0.0275, grad=0.7055), Var(v=-0.0858, grad=0.0000), Var(v=0.1180, grad=-0.7002), Var(v=0.0075, grad=0.0000), Var(v=-0.1082, grad=0.0789), Var(v=-0.0650, grad=0.0000), Var(v=0.1179, grad=0.4310), Var(v=0.1988, grad=-1.4762), Var(v=-0.1761, grad=0.0000), Var(v=-0.0966, grad=0.0000), Var(v=0.0367, grad=0.0000), Var(v=-0.0689, grad=1.0012)]] Biases: [Var(v=0.0000, grad=0.0000), Var(v=0.0372, grad=-3.7223), Var(v=-0.1080, grad=10.7974), Var(v=0.1612, grad=-16.1228), Var(v=0.0009, grad=-0.0897), Var(v=0.0000, grad=0.0000), Var(v=0.0000, grad=0.0000), Var(v=-0.0273, grad=2.7296), Var(v=-0.0841, grad=8.4095), Var(v=-0.0019, grad=0.1935), Var(v=0.0000, grad=0.0000), Var(v=0.0016, grad=-0.1584), Var(v=-0.1157, grad=11.5696), Var(v=0.0006, grad=-0.0587), Var(v=0.0000, grad=0.0000), Var(v=-0.1297, grad=12.9703), Var(v=-0.0905, grad=9.0484), Var(v=0.0000, grad=0.0000), Var(v=-0.0016, grad=0.1649), Var(v=-0.0014, grad=0.1436), Var(v=0.1268, grad=-12.6810), Var(v=-0.0996, grad=9.9568), Var(v=-0.0259, grad=2.5867), Var(v=-0.0005, grad=0.0471), Var(v=0.0329, grad=-3.2949), Var(v=0.0000, grad=0.0000), Var(v=-0.0017, grad=0.1709), Var(v=0.0000, grad=0.0000), Var(v=0.0025, grad=-0.2534), Var(v=0.0000, grad=0.0000), Var(v=-0.0572, grad=5.7225), Var(v=0.0041, grad=-0.4128), Var(v=0.1084, grad=-10.8418), Var(v=-0.0017, grad=0.1749), Var(v=0.0012, grad=-0.1205), Var(v=0.0002, grad=-0.0246), Var(v=0.0441, grad=-4.4129), Var(v=0.0188, grad=-1.8777), Var(v=0.0009, grad=-0.0895), Var(v=0.0709, grad=-7.0877), Var(v=-0.0009, grad=0.0888), Var(v=0.0000, grad=0.0000), Var(v=-0.0068, grad=0.6783), Var(v=0.0637, grad=-6.3665), Var(v=0.0005, grad=-0.0547), Var(v=-0.0019, grad=0.1873), Var(v=0.0000, grad=0.0000), Var(v=0.0374, grad=-3.7430), Var(v=0.0000, grad=0.0000), Var(v=0.0013, grad=-0.1270)]\n",
            "Layer 2 \n",
            " Weights: [[Var(v=-0.0648, grad=0.0000)], [Var(v=0.0572, grad=-1.3909)], [Var(v=0.0857, grad=3.7911)], [Var(v=0.2049, grad=-1.7564)], [Var(v=-0.0798, grad=0.9242)], [Var(v=0.0653, grad=0.0000)], [Var(v=-0.1895, grad=0.0000)], [Var(v=0.0242, grad=0.7029)], [Var(v=-0.0848, grad=-1.2982)], [Var(v=0.1716, grad=-1.9289)], [Var(v=0.0050, grad=0.0000)], [Var(v=-0.1380, grad=1.3288)], [Var(v=0.1294, grad=0.3109)], [Var(v=-0.0380, grad=-0.8252)], [Var(v=0.0319, grad=0.0000)], [Var(v=-0.1140, grad=-3.6724)], [Var(v=0.0824, grad=2.1260)], [Var(v=0.0329, grad=0.0000)], [Var(v=0.1207, grad=0.9145)], [Var(v=0.1124, grad=0.0620)], [Var(v=0.1800, grad=-3.2583)], [Var(v=-0.1070, grad=-0.8693)], [Var(v=-0.0294, grad=-0.0663)], [Var(v=-0.0004, grad=-0.0180)], [Var(v=-0.0394, grad=0.1706)], [Var(v=-0.1125, grad=0.0000)], [Var(v=0.1560, grad=-2.1416)], [Var(v=-0.0008, grad=0.0000)], [Var(v=-0.2495, grad=5.0009)], [Var(v=-0.0794, grad=0.0000)], [Var(v=-0.0492, grad=-1.7280)], [Var(v=-0.0399, grad=3.5219)], [Var(v=0.1387, grad=-1.2731)], [Var(v=0.1016, grad=3.6065)], [Var(v=-0.1011, grad=0.6228)], [Var(v=-0.0376, grad=1.8196)], [Var(v=-0.0610, grad=1.0457)], [Var(v=0.0670, grad=-4.5225)], [Var(v=-0.0664, grad=-0.4017)], [Var(v=-0.0864, grad=0.5235)], [Var(v=0.0475, grad=2.2374)], [Var(v=-0.0004, grad=0.0000)], [Var(v=0.0166, grad=-2.4445)], [Var(v=-0.0810, grad=0.8112)], [Var(v=-0.0204, grad=-2.2608)], [Var(v=0.1777, grad=-3.0325)], [Var(v=-0.0139, grad=0.0000)], [Var(v=-0.0625, grad=1.9672)], [Var(v=-0.0512, grad=0.0000)], [Var(v=-0.1143, grad=1.4347)]] Biases: [Var(v=-0.0127, grad=1.2704)]\n",
            "\n",
            "Network after zeroing gradients:\n",
            "Layer 0 \n",
            " Weights: [[Var(v=-0.2480, grad=0.0000), Var(v=-0.0255, grad=0.0000), Var(v=0.2059, grad=0.0000), Var(v=-0.0787, grad=0.0000), Var(v=-0.0494, grad=0.0000), Var(v=-0.0918, grad=0.0000), Var(v=-0.1172, grad=0.0000), Var(v=0.1195, grad=0.0000), Var(v=0.0427, grad=0.0000), Var(v=0.1346, grad=0.0000), Var(v=-0.0566, grad=0.0000), Var(v=-0.0710, grad=0.0000), Var(v=-0.0994, grad=0.0000), Var(v=0.0752, grad=0.0000), Var(v=0.1059, grad=0.0000)]] Biases: [Var(v=-0.0088, grad=0.0000), Var(v=-0.0376, grad=0.0000), Var(v=0.0546, grad=0.0000), Var(v=-0.0363, grad=0.0000), Var(v=0.0281, grad=0.0000), Var(v=0.0182, grad=0.0000), Var(v=0.0250, grad=0.0000), Var(v=0.0721, grad=0.0000), Var(v=-0.0425, grad=0.0000), Var(v=0.0002, grad=0.0000), Var(v=-0.0155, grad=0.0000), Var(v=0.0304, grad=0.0000), Var(v=0.0503, grad=0.0000), Var(v=0.0378, grad=0.0000), Var(v=0.0050, grad=0.0000)]\n",
            "Layer 1 \n",
            " Weights: [[Var(v=-0.0041, grad=0.0000), Var(v=-0.0904, grad=0.0000), Var(v=0.1730, grad=0.0000), Var(v=0.0188, grad=0.0000), Var(v=-0.0063, grad=0.0000), Var(v=-0.1363, grad=0.0000), Var(v=-0.0500, grad=0.0000), Var(v=0.0756, grad=0.0000), Var(v=-0.1443, grad=0.0000), Var(v=-0.0740, grad=0.0000), Var(v=-0.0770, grad=0.0000), Var(v=-0.0281, grad=0.0000), Var(v=-0.1060, grad=0.0000), Var(v=0.0593, grad=0.0000), Var(v=-0.2103, grad=0.0000), Var(v=-0.0262, grad=0.0000), Var(v=0.0481, grad=0.0000), Var(v=-0.1888, grad=0.0000), Var(v=-0.1032, grad=0.0000), Var(v=-0.0288, grad=0.0000), Var(v=-0.0205, grad=0.0000), Var(v=-0.1016, grad=0.0000), Var(v=-0.0461, grad=0.0000), Var(v=-0.1150, grad=0.0000), Var(v=0.0467, grad=0.0000), Var(v=0.0162, grad=0.0000), Var(v=-0.0068, grad=0.0000), Var(v=-0.0723, grad=0.0000), Var(v=0.2395, grad=0.0000), Var(v=0.0204, grad=0.0000), Var(v=-0.0390, grad=0.0000), Var(v=0.1331, grad=0.0000), Var(v=0.0380, grad=0.0000), Var(v=0.1585, grad=0.0000), Var(v=-0.0152, grad=0.0000), Var(v=0.0263, grad=0.0000), Var(v=0.0840, grad=0.0000), Var(v=-0.0084, grad=0.0000), Var(v=0.1052, grad=0.0000), Var(v=0.0339, grad=0.0000), Var(v=0.1599, grad=0.0000), Var(v=0.0021, grad=0.0000), Var(v=0.0150, grad=0.0000), Var(v=0.0279, grad=0.0000), Var(v=0.0391, grad=0.0000), Var(v=-0.0130, grad=0.0000), Var(v=-0.1414, grad=0.0000), Var(v=0.1497, grad=0.0000), Var(v=-0.2004, grad=0.0000), Var(v=0.0053, grad=0.0000)], [Var(v=-0.0285, grad=0.0000), Var(v=0.0007, grad=0.0000), Var(v=-0.0692, grad=0.0000), Var(v=0.0237, grad=0.0000), Var(v=0.0945, grad=0.0000), Var(v=0.0375, grad=0.0000), Var(v=0.0597, grad=0.0000), Var(v=0.0423, grad=0.0000), Var(v=-0.0031, grad=0.0000), Var(v=-0.1476, grad=0.0000), Var(v=-0.0088, grad=0.0000), Var(v=-0.0281, grad=0.0000), Var(v=-0.1054, grad=0.0000), Var(v=-0.0036, grad=0.0000), Var(v=0.0266, grad=0.0000), Var(v=-0.0808, grad=0.0000), Var(v=0.1450, grad=0.0000), Var(v=-0.3748, grad=0.0000), Var(v=0.1193, grad=0.0000), Var(v=-0.0874, grad=0.0000), Var(v=-0.0422, grad=0.0000), Var(v=0.1486, grad=0.0000), Var(v=0.1077, grad=0.0000), Var(v=-0.0492, grad=0.0000), Var(v=-0.0905, grad=0.0000), Var(v=0.0390, grad=0.0000), Var(v=0.1434, grad=0.0000), Var(v=-0.0489, grad=0.0000), Var(v=0.1006, grad=0.0000), Var(v=0.0281, grad=0.0000), Var(v=-0.0561, grad=0.0000), Var(v=-0.0283, grad=0.0000), Var(v=0.0258, grad=0.0000), Var(v=-0.0798, grad=0.0000), Var(v=0.0502, grad=0.0000), Var(v=-0.0451, grad=0.0000), Var(v=0.0527, grad=0.0000), Var(v=0.0568, grad=0.0000), Var(v=0.1224, grad=0.0000), Var(v=-0.1543, grad=0.0000), Var(v=0.0667, grad=0.0000), Var(v=0.3049, grad=0.0000), Var(v=0.1661, grad=0.0000), Var(v=-0.1218, grad=0.0000), Var(v=-0.0143, grad=0.0000), Var(v=0.0847, grad=0.0000), Var(v=-0.1331, grad=0.0000), Var(v=0.0482, grad=0.0000), Var(v=0.0691, grad=0.0000), Var(v=0.0851, grad=0.0000)], [Var(v=-0.0246, grad=0.0000), Var(v=0.0648, grad=0.0000), Var(v=-0.0880, grad=0.0000), Var(v=0.2003, grad=0.0000), Var(v=0.1077, grad=0.0000), Var(v=-0.1184, grad=0.0000), Var(v=-0.0834, grad=0.0000), Var(v=-0.0114, grad=0.0000), Var(v=-0.1067, grad=0.0000), Var(v=0.1045, grad=0.0000), Var(v=-0.1222, grad=0.0000), Var(v=-0.0102, grad=0.0000), Var(v=-0.0973, grad=0.0000), Var(v=0.0425, grad=0.0000), Var(v=-0.1636, grad=0.0000), Var(v=-0.0114, grad=0.0000), Var(v=-0.1772, grad=0.0000), Var(v=-0.0057, grad=0.0000), Var(v=0.0422, grad=0.0000), Var(v=0.1638, grad=0.0000), Var(v=0.1561, grad=0.0000), Var(v=0.0249, grad=0.0000), Var(v=0.1108, grad=0.0000), Var(v=0.1339, grad=0.0000), Var(v=0.0826, grad=0.0000), Var(v=-0.2547, grad=0.0000), Var(v=0.1148, grad=0.0000), Var(v=-0.0667, grad=0.0000), Var(v=0.0085, grad=0.0000), Var(v=-0.2351, grad=0.0000), Var(v=-0.0243, grad=0.0000), Var(v=-0.0427, grad=0.0000), Var(v=0.0479, grad=0.0000), Var(v=0.0405, grad=0.0000), Var(v=0.0736, grad=0.0000), Var(v=0.0426, grad=0.0000), Var(v=0.0122, grad=0.0000), Var(v=0.1889, grad=0.0000), Var(v=0.0992, grad=0.0000), Var(v=0.0919, grad=0.0000), Var(v=0.0778, grad=0.0000), Var(v=-0.0673, grad=0.0000), Var(v=0.0671, grad=0.0000), Var(v=-0.1465, grad=0.0000), Var(v=0.0962, grad=0.0000), Var(v=0.0301, grad=0.0000), Var(v=0.1312, grad=0.0000), Var(v=0.0307, grad=0.0000), Var(v=-0.1236, grad=0.0000), Var(v=0.1165, grad=0.0000)], [Var(v=-0.0325, grad=0.0000), Var(v=-0.1205, grad=0.0000), Var(v=0.0092, grad=0.0000), Var(v=-0.2196, grad=0.0000), Var(v=0.0992, grad=0.0000), Var(v=0.1337, grad=0.0000), Var(v=-0.1130, grad=0.0000), Var(v=0.0037, grad=0.0000), Var(v=0.0406, grad=0.0000), Var(v=0.1631, grad=0.0000), Var(v=-0.0723, grad=0.0000), Var(v=0.0148, grad=0.0000), Var(v=0.0836, grad=0.0000), Var(v=0.0655, grad=0.0000), Var(v=0.0337, grad=0.0000), Var(v=-0.0062, grad=0.0000), Var(v=-0.1026, grad=0.0000), Var(v=-0.0521, grad=0.0000), Var(v=0.0127, grad=0.0000), Var(v=0.1231, grad=0.0000), Var(v=0.0269, grad=0.0000), Var(v=0.1218, grad=0.0000), Var(v=0.0245, grad=0.0000), Var(v=-0.1514, grad=0.0000), Var(v=-0.0071, grad=0.0000), Var(v=-0.0355, grad=0.0000), Var(v=0.1458, grad=0.0000), Var(v=-0.1638, grad=0.0000), Var(v=0.0791, grad=0.0000), Var(v=-0.1226, grad=0.0000), Var(v=-0.1305, grad=0.0000), Var(v=-0.0635, grad=0.0000), Var(v=-0.0408, grad=0.0000), Var(v=0.0565, grad=0.0000), Var(v=0.0716, grad=0.0000), Var(v=0.0949, grad=0.0000), Var(v=-0.0496, grad=0.0000), Var(v=0.0510, grad=0.0000), Var(v=0.0733, grad=0.0000), Var(v=-0.0435, grad=0.0000), Var(v=0.0360, grad=0.0000), Var(v=-0.0110, grad=0.0000), Var(v=-0.0328, grad=0.0000), Var(v=0.0218, grad=0.0000), Var(v=0.1047, grad=0.0000), Var(v=-0.0313, grad=0.0000), Var(v=0.0316, grad=0.0000), Var(v=-0.2697, grad=0.0000), Var(v=-0.0208, grad=0.0000), Var(v=0.2696, grad=0.0000)], [Var(v=-0.0485, grad=0.0000), Var(v=-0.0910, grad=0.0000), Var(v=-0.1648, grad=0.0000), Var(v=-0.0520, grad=0.0000), Var(v=-0.0342, grad=0.0000), Var(v=0.0005, grad=0.0000), Var(v=0.0276, grad=0.0000), Var(v=0.0093, grad=0.0000), Var(v=0.1118, grad=0.0000), Var(v=-0.1087, grad=0.0000), Var(v=0.0315, grad=0.0000), Var(v=0.0576, grad=0.0000), Var(v=-0.0163, grad=0.0000), Var(v=0.0557, grad=0.0000), Var(v=-0.0301, grad=0.0000), Var(v=0.2480, grad=0.0000), Var(v=-0.0625, grad=0.0000), Var(v=0.0160, grad=0.0000), Var(v=0.1137, grad=0.0000), Var(v=-0.0098, grad=0.0000), Var(v=-0.1986, grad=0.0000), Var(v=0.0138, grad=0.0000), Var(v=0.0513, grad=0.0000), Var(v=0.1333, grad=0.0000), Var(v=0.0510, grad=0.0000), Var(v=0.0447, grad=0.0000), Var(v=-0.1002, grad=0.0000), Var(v=-0.0628, grad=0.0000), Var(v=-0.1623, grad=0.0000), Var(v=-0.1566, grad=0.0000), Var(v=0.0219, grad=0.0000), Var(v=-0.0343, grad=0.0000), Var(v=0.1226, grad=0.0000), Var(v=0.0558, grad=0.0000), Var(v=0.0904, grad=0.0000), Var(v=-0.1081, grad=0.0000), Var(v=0.0150, grad=0.0000), Var(v=-0.1120, grad=0.0000), Var(v=0.1322, grad=0.0000), Var(v=-0.0094, grad=0.0000), Var(v=-0.0891, grad=0.0000), Var(v=0.2348, grad=0.0000), Var(v=-0.0403, grad=0.0000), Var(v=0.1776, grad=0.0000), Var(v=0.0985, grad=0.0000), Var(v=0.1144, grad=0.0000), Var(v=0.0624, grad=0.0000), Var(v=0.1976, grad=0.0000), Var(v=-0.0767, grad=0.0000), Var(v=-0.0802, grad=0.0000)], [Var(v=-0.1277, grad=0.0000), Var(v=0.1632, grad=0.0000), Var(v=-0.0286, grad=0.0000), Var(v=-0.0175, grad=0.0000), Var(v=0.1751, grad=0.0000), Var(v=0.0381, grad=0.0000), Var(v=-0.1618, grad=0.0000), Var(v=-0.0895, grad=0.0000), Var(v=-0.0123, grad=0.0000), Var(v=-0.0304, grad=0.0000), Var(v=-0.0821, grad=0.0000), Var(v=0.1587, grad=0.0000), Var(v=0.0212, grad=0.0000), Var(v=-0.1188, grad=0.0000), Var(v=0.0256, grad=0.0000), Var(v=0.0336, grad=0.0000), Var(v=0.0790, grad=0.0000), Var(v=0.1002, grad=0.0000), Var(v=0.1384, grad=0.0000), Var(v=-0.0718, grad=0.0000), Var(v=-0.0187, grad=0.0000), Var(v=0.0742, grad=0.0000), Var(v=-0.1355, grad=0.0000), Var(v=-0.1713, grad=0.0000), Var(v=0.0660, grad=0.0000), Var(v=-0.0613, grad=0.0000), Var(v=-0.1003, grad=0.0000), Var(v=0.0369, grad=0.0000), Var(v=0.0707, grad=0.0000), Var(v=0.0260, grad=0.0000), Var(v=0.0124, grad=0.0000), Var(v=-0.0251, grad=0.0000), Var(v=-0.1436, grad=0.0000), Var(v=-0.0242, grad=0.0000), Var(v=-0.0160, grad=0.0000), Var(v=0.0517, grad=0.0000), Var(v=-0.1681, grad=0.0000), Var(v=-0.0673, grad=0.0000), Var(v=0.0419, grad=0.0000), Var(v=-0.0412, grad=0.0000), Var(v=0.0023, grad=0.0000), Var(v=-0.0273, grad=0.0000), Var(v=-0.1181, grad=0.0000), Var(v=0.0604, grad=0.0000), Var(v=-0.1287, grad=0.0000), Var(v=-0.0512, grad=0.0000), Var(v=0.0593, grad=0.0000), Var(v=0.0703, grad=0.0000), Var(v=-0.2140, grad=0.0000), Var(v=-0.1063, grad=0.0000)], [Var(v=0.0382, grad=0.0000), Var(v=-0.0167, grad=0.0000), Var(v=0.0041, grad=0.0000), Var(v=-0.1109, grad=0.0000), Var(v=0.1019, grad=0.0000), Var(v=-0.1744, grad=0.0000), Var(v=-0.0791, grad=0.0000), Var(v=-0.0594, grad=0.0000), Var(v=-0.1071, grad=0.0000), Var(v=0.0087, grad=0.0000), Var(v=-0.0864, grad=0.0000), Var(v=0.1144, grad=0.0000), Var(v=-0.0186, grad=0.0000), Var(v=0.0653, grad=0.0000), Var(v=0.0069, grad=0.0000), Var(v=-0.2317, grad=0.0000), Var(v=0.1314, grad=0.0000), Var(v=-0.0045, grad=0.0000), Var(v=0.1190, grad=0.0000), Var(v=0.0052, grad=0.0000), Var(v=-0.0314, grad=0.0000), Var(v=0.1707, grad=0.0000), Var(v=-0.0518, grad=0.0000), Var(v=0.1495, grad=0.0000), Var(v=-0.0420, grad=0.0000), Var(v=-0.1896, grad=0.0000), Var(v=-0.1040, grad=0.0000), Var(v=-0.0995, grad=0.0000), Var(v=0.0345, grad=0.0000), Var(v=-0.0267, grad=0.0000), Var(v=-0.0805, grad=0.0000), Var(v=-0.0167, grad=0.0000), Var(v=-0.0091, grad=0.0000), Var(v=-0.0549, grad=0.0000), Var(v=0.0870, grad=0.0000), Var(v=0.2254, grad=0.0000), Var(v=-0.0257, grad=0.0000), Var(v=-0.1826, grad=0.0000), Var(v=-0.1079, grad=0.0000), Var(v=0.1160, grad=0.0000), Var(v=0.0380, grad=0.0000), Var(v=-0.1312, grad=0.0000), Var(v=-0.0721, grad=0.0000), Var(v=-0.0139, grad=0.0000), Var(v=-0.0177, grad=0.0000), Var(v=-0.0133, grad=0.0000), Var(v=-0.0772, grad=0.0000), Var(v=0.1040, grad=0.0000), Var(v=-0.1435, grad=0.0000), Var(v=0.1247, grad=0.0000)], [Var(v=-0.0678, grad=0.0000), Var(v=-0.2273, grad=0.0000), Var(v=-0.0194, grad=0.0000), Var(v=0.1539, grad=0.0000), Var(v=-0.0690, grad=0.0000), Var(v=0.0034, grad=0.0000), Var(v=0.0028, grad=0.0000), Var(v=0.1695, grad=0.0000), Var(v=-0.1636, grad=0.0000), Var(v=-0.0296, grad=0.0000), Var(v=-0.0574, grad=0.0000), Var(v=0.1581, grad=0.0000), Var(v=-0.0479, grad=0.0000), Var(v=0.1570, grad=0.0000), Var(v=-0.0512, grad=0.0000), Var(v=-0.0699, grad=0.0000), Var(v=-0.1293, grad=0.0000), Var(v=0.0188, grad=0.0000), Var(v=0.1919, grad=0.0000), Var(v=0.1799, grad=0.0000), Var(v=0.0711, grad=0.0000), Var(v=0.0760, grad=0.0000), Var(v=0.1109, grad=0.0000), Var(v=0.0066, grad=0.0000), Var(v=-0.0262, grad=0.0000), Var(v=0.0242, grad=0.0000), Var(v=-0.0576, grad=0.0000), Var(v=0.0166, grad=0.0000), Var(v=0.0288, grad=0.0000), Var(v=-0.0433, grad=0.0000), Var(v=-0.0837, grad=0.0000), Var(v=-0.1046, grad=0.0000), Var(v=-0.0806, grad=0.0000), Var(v=-0.0476, grad=0.0000), Var(v=-0.1311, grad=0.0000), Var(v=0.0655, grad=0.0000), Var(v=-0.0703, grad=0.0000), Var(v=0.0929, grad=0.0000), Var(v=-0.0502, grad=0.0000), Var(v=0.1512, grad=0.0000), Var(v=0.0366, grad=0.0000), Var(v=-0.2140, grad=0.0000), Var(v=-0.0674, grad=0.0000), Var(v=0.0649, grad=0.0000), Var(v=-0.0728, grad=0.0000), Var(v=0.1588, grad=0.0000), Var(v=-0.0122, grad=0.0000), Var(v=-0.1954, grad=0.0000), Var(v=0.0343, grad=0.0000), Var(v=-0.1136, grad=0.0000)], [Var(v=-0.0813, grad=0.0000), Var(v=0.0924, grad=0.0000), Var(v=-0.0207, grad=0.0000), Var(v=0.0004, grad=0.0000), Var(v=0.0025, grad=0.0000), Var(v=-0.1260, grad=0.0000), Var(v=0.1035, grad=0.0000), Var(v=0.1513, grad=0.0000), Var(v=-0.0923, grad=0.0000), Var(v=0.0120, grad=0.0000), Var(v=0.0353, grad=0.0000), Var(v=-0.0126, grad=0.0000), Var(v=0.0307, grad=0.0000), Var(v=-0.1118, grad=0.0000), Var(v=-0.0792, grad=0.0000), Var(v=-0.1545, grad=0.0000), Var(v=-0.0172, grad=0.0000), Var(v=0.0030, grad=0.0000), Var(v=0.0472, grad=0.0000), Var(v=-0.0630, grad=0.0000), Var(v=0.0139, grad=0.0000), Var(v=0.0116, grad=0.0000), Var(v=0.1419, grad=0.0000), Var(v=0.0989, grad=0.0000), Var(v=-0.1968, grad=0.0000), Var(v=0.0626, grad=0.0000), Var(v=0.0067, grad=0.0000), Var(v=0.1502, grad=0.0000), Var(v=-0.0322, grad=0.0000), Var(v=0.0590, grad=0.0000), Var(v=0.0262, grad=0.0000), Var(v=0.0883, grad=0.0000), Var(v=0.0493, grad=0.0000), Var(v=-0.0683, grad=0.0000), Var(v=-0.0451, grad=0.0000), Var(v=0.1196, grad=0.0000), Var(v=0.0743, grad=0.0000), Var(v=0.1545, grad=0.0000), Var(v=0.1353, grad=0.0000), Var(v=-0.0582, grad=0.0000), Var(v=-0.0191, grad=0.0000), Var(v=0.0911, grad=0.0000), Var(v=-0.0256, grad=0.0000), Var(v=0.1969, grad=0.0000), Var(v=-0.0558, grad=0.0000), Var(v=0.2821, grad=0.0000), Var(v=0.0665, grad=0.0000), Var(v=0.0041, grad=0.0000), Var(v=0.0646, grad=0.0000), Var(v=-0.0926, grad=0.0000)], [Var(v=-0.1410, grad=0.0000), Var(v=0.1451, grad=0.0000), Var(v=-0.0403, grad=0.0000), Var(v=-0.0269, grad=0.0000), Var(v=-0.0711, grad=0.0000), Var(v=0.1510, grad=0.0000), Var(v=0.0460, grad=0.0000), Var(v=-0.1218, grad=0.0000), Var(v=0.1447, grad=0.0000), Var(v=0.1088, grad=0.0000), Var(v=-0.0891, grad=0.0000), Var(v=0.0113, grad=0.0000), Var(v=-0.1346, grad=0.0000), Var(v=-0.1247, grad=0.0000), Var(v=0.0354, grad=0.0000), Var(v=0.2028, grad=0.0000), Var(v=0.1338, grad=0.0000), Var(v=0.0658, grad=0.0000), Var(v=-0.0012, grad=0.0000), Var(v=-0.1464, grad=0.0000), Var(v=0.0686, grad=0.0000), Var(v=-0.1187, grad=0.0000), Var(v=-0.1044, grad=0.0000), Var(v=-0.0983, grad=0.0000), Var(v=-0.0980, grad=0.0000), Var(v=-0.0238, grad=0.0000), Var(v=0.1027, grad=0.0000), Var(v=-0.0310, grad=0.0000), Var(v=-0.0279, grad=0.0000), Var(v=0.1276, grad=0.0000), Var(v=0.1296, grad=0.0000), Var(v=0.0793, grad=0.0000), Var(v=0.0846, grad=0.0000), Var(v=0.1612, grad=0.0000), Var(v=0.0649, grad=0.0000), Var(v=0.1109, grad=0.0000), Var(v=-0.1131, grad=0.0000), Var(v=0.0759, grad=0.0000), Var(v=0.0653, grad=0.0000), Var(v=-0.1344, grad=0.0000), Var(v=-0.0540, grad=0.0000), Var(v=-0.1124, grad=0.0000), Var(v=0.2098, grad=0.0000), Var(v=0.0492, grad=0.0000), Var(v=0.0324, grad=0.0000), Var(v=0.1406, grad=0.0000), Var(v=-0.0450, grad=0.0000), Var(v=0.0310, grad=0.0000), Var(v=-0.0809, grad=0.0000), Var(v=-0.0570, grad=0.0000)], [Var(v=0.0180, grad=0.0000), Var(v=0.0053, grad=0.0000), Var(v=-0.0142, grad=0.0000), Var(v=-0.1866, grad=0.0000), Var(v=-0.1463, grad=0.0000), Var(v=0.1177, grad=0.0000), Var(v=-0.0163, grad=0.0000), Var(v=-0.0525, grad=0.0000), Var(v=-0.1684, grad=0.0000), Var(v=-0.2068, grad=0.0000), Var(v=-0.2002, grad=0.0000), Var(v=0.1659, grad=0.0000), Var(v=0.1041, grad=0.0000), Var(v=-0.0262, grad=0.0000), Var(v=0.0284, grad=0.0000), Var(v=0.0294, grad=0.0000), Var(v=0.0316, grad=0.0000), Var(v=0.0557, grad=0.0000), Var(v=0.1710, grad=0.0000), Var(v=-0.0567, grad=0.0000), Var(v=0.0871, grad=0.0000), Var(v=-0.2544, grad=0.0000), Var(v=-0.0793, grad=0.0000), Var(v=0.0140, grad=0.0000), Var(v=-0.0770, grad=0.0000), Var(v=0.1245, grad=0.0000), Var(v=0.0788, grad=0.0000), Var(v=-0.1244, grad=0.0000), Var(v=0.0342, grad=0.0000), Var(v=0.0668, grad=0.0000), Var(v=-0.1175, grad=0.0000), Var(v=0.2533, grad=0.0000), Var(v=-0.0452, grad=0.0000), Var(v=-0.0561, grad=0.0000), Var(v=0.0115, grad=0.0000), Var(v=0.0196, grad=0.0000), Var(v=0.0289, grad=0.0000), Var(v=-0.1136, grad=0.0000), Var(v=-0.0044, grad=0.0000), Var(v=-0.0389, grad=0.0000), Var(v=-0.0610, grad=0.0000), Var(v=0.0954, grad=0.0000), Var(v=0.1029, grad=0.0000), Var(v=-0.0040, grad=0.0000), Var(v=-0.0155, grad=0.0000), Var(v=0.0582, grad=0.0000), Var(v=0.0447, grad=0.0000), Var(v=-0.0630, grad=0.0000), Var(v=-0.0424, grad=0.0000), Var(v=-0.0373, grad=0.0000)], [Var(v=0.1217, grad=0.0000), Var(v=-0.0701, grad=0.0000), Var(v=-0.1175, grad=0.0000), Var(v=-0.1082, grad=0.0000), Var(v=0.1090, grad=0.0000), Var(v=-0.0275, grad=0.0000), Var(v=-0.0139, grad=0.0000), Var(v=0.0476, grad=0.0000), Var(v=0.0807, grad=0.0000), Var(v=0.0200, grad=0.0000), Var(v=-0.1079, grad=0.0000), Var(v=0.1359, grad=0.0000), Var(v=-0.0070, grad=0.0000), Var(v=-0.1922, grad=0.0000), Var(v=-0.0427, grad=0.0000), Var(v=-0.0259, grad=0.0000), Var(v=-0.1250, grad=0.0000), Var(v=-0.0778, grad=0.0000), Var(v=-0.0368, grad=0.0000), Var(v=0.1022, grad=0.0000), Var(v=-0.0315, grad=0.0000), Var(v=-0.0715, grad=0.0000), Var(v=-0.0731, grad=0.0000), Var(v=-0.0926, grad=0.0000), Var(v=-0.0336, grad=0.0000), Var(v=-0.0685, grad=0.0000), Var(v=-0.3071, grad=0.0000), Var(v=-0.1867, grad=0.0000), Var(v=-0.0450, grad=0.0000), Var(v=0.0433, grad=0.0000), Var(v=0.2106, grad=0.0000), Var(v=-0.1368, grad=0.0000), Var(v=-0.0985, grad=0.0000), Var(v=0.1745, grad=0.0000), Var(v=0.0937, grad=0.0000), Var(v=-0.0443, grad=0.0000), Var(v=0.1663, grad=0.0000), Var(v=-0.0453, grad=0.0000), Var(v=-0.0356, grad=0.0000), Var(v=0.0177, grad=0.0000), Var(v=-0.2628, grad=0.0000), Var(v=-0.0903, grad=0.0000), Var(v=0.1531, grad=0.0000), Var(v=-0.1200, grad=0.0000), Var(v=-0.1573, grad=0.0000), Var(v=0.0789, grad=0.0000), Var(v=0.0694, grad=0.0000), Var(v=0.0603, grad=0.0000), Var(v=-0.0888, grad=0.0000), Var(v=-0.0396, grad=0.0000)], [Var(v=-0.1800, grad=0.0000), Var(v=-0.0102, grad=0.0000), Var(v=-0.1847, grad=0.0000), Var(v=-0.0277, grad=0.0000), Var(v=0.1621, grad=0.0000), Var(v=0.1367, grad=0.0000), Var(v=0.0126, grad=0.0000), Var(v=-0.0598, grad=0.0000), Var(v=-0.0222, grad=0.0000), Var(v=0.1828, grad=0.0000), Var(v=0.0440, grad=0.0000), Var(v=-0.0089, grad=0.0000), Var(v=0.0101, grad=0.0000), Var(v=0.0382, grad=0.0000), Var(v=-0.0652, grad=0.0000), Var(v=0.0770, grad=0.0000), Var(v=-0.0495, grad=0.0000), Var(v=0.1316, grad=0.0000), Var(v=-0.0650, grad=0.0000), Var(v=-0.1258, grad=0.0000), Var(v=0.0588, grad=0.0000), Var(v=-0.1811, grad=0.0000), Var(v=-0.0226, grad=0.0000), Var(v=0.0187, grad=0.0000), Var(v=0.0034, grad=0.0000), Var(v=-0.1500, grad=0.0000), Var(v=-0.0018, grad=0.0000), Var(v=0.0849, grad=0.0000), Var(v=0.0386, grad=0.0000), Var(v=0.0388, grad=0.0000), Var(v=0.1768, grad=0.0000), Var(v=0.0094, grad=0.0000), Var(v=0.0213, grad=0.0000), Var(v=0.0271, grad=0.0000), Var(v=0.1021, grad=0.0000), Var(v=0.0661, grad=0.0000), Var(v=0.1259, grad=0.0000), Var(v=-0.0395, grad=0.0000), Var(v=-0.0570, grad=0.0000), Var(v=0.1144, grad=0.0000), Var(v=0.0241, grad=0.0000), Var(v=-0.0257, grad=0.0000), Var(v=0.0134, grad=0.0000), Var(v=0.0794, grad=0.0000), Var(v=0.1360, grad=0.0000), Var(v=-0.0127, grad=0.0000), Var(v=-0.0938, grad=0.0000), Var(v=0.0563, grad=0.0000), Var(v=0.0534, grad=0.0000), Var(v=-0.0770, grad=0.0000)], [Var(v=-0.0702, grad=0.0000), Var(v=-0.0100, grad=0.0000), Var(v=0.0272, grad=0.0000), Var(v=0.1555, grad=0.0000), Var(v=-0.0142, grad=0.0000), Var(v=0.0615, grad=0.0000), Var(v=-0.0624, grad=0.0000), Var(v=-0.0404, grad=0.0000), Var(v=0.1021, grad=0.0000), Var(v=-0.0477, grad=0.0000), Var(v=0.0190, grad=0.0000), Var(v=-0.1511, grad=0.0000), Var(v=0.2092, grad=0.0000), Var(v=0.1423, grad=0.0000), Var(v=-0.0012, grad=0.0000), Var(v=0.0909, grad=0.0000), Var(v=0.1141, grad=0.0000), Var(v=0.0053, grad=0.0000), Var(v=-0.1112, grad=0.0000), Var(v=0.0239, grad=0.0000), Var(v=0.1269, grad=0.0000), Var(v=-0.0274, grad=0.0000), Var(v=-0.1348, grad=0.0000), Var(v=0.0788, grad=0.0000), Var(v=-0.1120, grad=0.0000), Var(v=0.1700, grad=0.0000), Var(v=0.1992, grad=0.0000), Var(v=-0.1152, grad=0.0000), Var(v=-0.0300, grad=0.0000), Var(v=0.0619, grad=0.0000), Var(v=0.0501, grad=0.0000), Var(v=0.1708, grad=0.0000), Var(v=-0.0610, grad=0.0000), Var(v=-0.0748, grad=0.0000), Var(v=-0.0338, grad=0.0000), Var(v=-0.2473, grad=0.0000), Var(v=-0.2401, grad=0.0000), Var(v=0.0034, grad=0.0000), Var(v=-0.0014, grad=0.0000), Var(v=-0.1162, grad=0.0000), Var(v=0.0750, grad=0.0000), Var(v=-0.1281, grad=0.0000), Var(v=-0.1133, grad=0.0000), Var(v=0.0595, grad=0.0000), Var(v=0.0334, grad=0.0000), Var(v=-0.0134, grad=0.0000), Var(v=-0.0250, grad=0.0000), Var(v=-0.1540, grad=0.0000), Var(v=-0.0671, grad=0.0000), Var(v=-0.0676, grad=0.0000)], [Var(v=0.0142, grad=0.0000), Var(v=-0.0422, grad=0.0000), Var(v=0.0621, grad=0.0000), Var(v=-0.0859, grad=0.0000), Var(v=0.0631, grad=0.0000), Var(v=-0.2445, grad=0.0000), Var(v=-0.0193, grad=0.0000), Var(v=-0.1481, grad=0.0000), Var(v=0.0644, grad=0.0000), Var(v=0.0809, grad=0.0000), Var(v=0.0759, grad=0.0000), Var(v=0.0082, grad=0.0000), Var(v=0.1192, grad=0.0000), Var(v=0.1516, grad=0.0000), Var(v=-0.1376, grad=0.0000), Var(v=0.0449, grad=0.0000), Var(v=0.0278, grad=0.0000), Var(v=-0.0991, grad=0.0000), Var(v=0.0431, grad=0.0000), Var(v=0.0297, grad=0.0000), Var(v=0.0288, grad=0.0000), Var(v=0.1063, grad=0.0000), Var(v=-0.0433, grad=0.0000), Var(v=-0.0750, grad=0.0000), Var(v=-0.1141, grad=0.0000), Var(v=-0.0835, grad=0.0000), Var(v=-0.0418, grad=0.0000), Var(v=-0.0684, grad=0.0000), Var(v=-0.0293, grad=0.0000), Var(v=0.0037, grad=0.0000), Var(v=0.0236, grad=0.0000), Var(v=-0.0668, grad=0.0000), Var(v=0.0525, grad=0.0000), Var(v=0.0548, grad=0.0000), Var(v=-0.1372, grad=0.0000), Var(v=0.0569, grad=0.0000), Var(v=0.1713, grad=0.0000), Var(v=0.0474, grad=0.0000), Var(v=-0.0275, grad=0.0000), Var(v=-0.0858, grad=0.0000), Var(v=0.1180, grad=0.0000), Var(v=0.0075, grad=0.0000), Var(v=-0.1082, grad=0.0000), Var(v=-0.0650, grad=0.0000), Var(v=0.1179, grad=0.0000), Var(v=0.1988, grad=0.0000), Var(v=-0.1761, grad=0.0000), Var(v=-0.0966, grad=0.0000), Var(v=0.0367, grad=0.0000), Var(v=-0.0689, grad=0.0000)]] Biases: [Var(v=0.0000, grad=0.0000), Var(v=0.0372, grad=0.0000), Var(v=-0.1080, grad=0.0000), Var(v=0.1612, grad=0.0000), Var(v=0.0009, grad=0.0000), Var(v=0.0000, grad=0.0000), Var(v=0.0000, grad=0.0000), Var(v=-0.0273, grad=0.0000), Var(v=-0.0841, grad=0.0000), Var(v=-0.0019, grad=0.0000), Var(v=0.0000, grad=0.0000), Var(v=0.0016, grad=0.0000), Var(v=-0.1157, grad=0.0000), Var(v=0.0006, grad=0.0000), Var(v=0.0000, grad=0.0000), Var(v=-0.1297, grad=0.0000), Var(v=-0.0905, grad=0.0000), Var(v=0.0000, grad=0.0000), Var(v=-0.0016, grad=0.0000), Var(v=-0.0014, grad=0.0000), Var(v=0.1268, grad=0.0000), Var(v=-0.0996, grad=0.0000), Var(v=-0.0259, grad=0.0000), Var(v=-0.0005, grad=0.0000), Var(v=0.0329, grad=0.0000), Var(v=0.0000, grad=0.0000), Var(v=-0.0017, grad=0.0000), Var(v=0.0000, grad=0.0000), Var(v=0.0025, grad=0.0000), Var(v=0.0000, grad=0.0000), Var(v=-0.0572, grad=0.0000), Var(v=0.0041, grad=0.0000), Var(v=0.1084, grad=0.0000), Var(v=-0.0017, grad=0.0000), Var(v=0.0012, grad=0.0000), Var(v=0.0002, grad=0.0000), Var(v=0.0441, grad=0.0000), Var(v=0.0188, grad=0.0000), Var(v=0.0009, grad=0.0000), Var(v=0.0709, grad=0.0000), Var(v=-0.0009, grad=0.0000), Var(v=0.0000, grad=0.0000), Var(v=-0.0068, grad=0.0000), Var(v=0.0637, grad=0.0000), Var(v=0.0005, grad=0.0000), Var(v=-0.0019, grad=0.0000), Var(v=0.0000, grad=0.0000), Var(v=0.0374, grad=0.0000), Var(v=0.0000, grad=0.0000), Var(v=0.0013, grad=0.0000)]\n",
            "Layer 2 \n",
            " Weights: [[Var(v=-0.0648, grad=0.0000)], [Var(v=0.0572, grad=0.0000)], [Var(v=0.0857, grad=0.0000)], [Var(v=0.2049, grad=0.0000)], [Var(v=-0.0798, grad=0.0000)], [Var(v=0.0653, grad=0.0000)], [Var(v=-0.1895, grad=0.0000)], [Var(v=0.0242, grad=0.0000)], [Var(v=-0.0848, grad=0.0000)], [Var(v=0.1716, grad=0.0000)], [Var(v=0.0050, grad=0.0000)], [Var(v=-0.1380, grad=0.0000)], [Var(v=0.1294, grad=0.0000)], [Var(v=-0.0380, grad=0.0000)], [Var(v=0.0319, grad=0.0000)], [Var(v=-0.1140, grad=0.0000)], [Var(v=0.0824, grad=0.0000)], [Var(v=0.0329, grad=0.0000)], [Var(v=0.1207, grad=0.0000)], [Var(v=0.1124, grad=0.0000)], [Var(v=0.1800, grad=0.0000)], [Var(v=-0.1070, grad=0.0000)], [Var(v=-0.0294, grad=0.0000)], [Var(v=-0.0004, grad=0.0000)], [Var(v=-0.0394, grad=0.0000)], [Var(v=-0.1125, grad=0.0000)], [Var(v=0.1560, grad=0.0000)], [Var(v=-0.0008, grad=0.0000)], [Var(v=-0.2495, grad=0.0000)], [Var(v=-0.0794, grad=0.0000)], [Var(v=-0.0492, grad=0.0000)], [Var(v=-0.0399, grad=0.0000)], [Var(v=0.1387, grad=0.0000)], [Var(v=0.1016, grad=0.0000)], [Var(v=-0.1011, grad=0.0000)], [Var(v=-0.0376, grad=0.0000)], [Var(v=-0.0610, grad=0.0000)], [Var(v=0.0670, grad=0.0000)], [Var(v=-0.0664, grad=0.0000)], [Var(v=-0.0864, grad=0.0000)], [Var(v=0.0475, grad=0.0000)], [Var(v=-0.0004, grad=0.0000)], [Var(v=0.0166, grad=0.0000)], [Var(v=-0.0810, grad=0.0000)], [Var(v=-0.0204, grad=0.0000)], [Var(v=0.1777, grad=0.0000)], [Var(v=-0.0139, grad=0.0000)], [Var(v=-0.0625, grad=0.0000)], [Var(v=-0.0512, grad=0.0000)], [Var(v=-0.1143, grad=0.0000)]] Biases: [Var(v=-0.0127, grad=0.0000)]\n"
          ]
        },
        {
          "output_type": "execute_result",
          "data": {
            "text/plain": [
              "[None, None, None]"
            ]
          },
          "metadata": {},
          "execution_count": 29
        }
      ],
      "source": [
        "print('Network before update:')\n",
        "[print('Layer', i, '\\n', NN[i]) for i in range(len(NN))] \n",
        "\n",
        "def parameters(network):\n",
        "  params = []\n",
        "  for layer in range(len(network)):\n",
        "    params += network[layer].parameters()\n",
        "  return params\n",
        "\n",
        "def update_parameters(params, learning_rate=0.01):\n",
        "  for p in params:\n",
        "    p.v -= learning_rate*p.grad\n",
        "\n",
        "def zero_gradients(params):\n",
        "  for p in params:\n",
        "    p.grad = 0.0\n",
        "\n",
        "update_parameters(parameters(NN))\n",
        "\n",
        "print('\\nNetwork after update:')\n",
        "[print('Layer', i, '\\n', NN[i]) for i in range(len(NN))] \n",
        "\n",
        "zero_gradients(parameters(NN))\n",
        "\n",
        "print('\\nNetwork after zeroing gradients:')\n",
        "[print('Layer', i, '\\n', NN[i]) for i in range(len(NN))] "
      ]
    },
    {
      "cell_type": "code",
      "execution_count": null,
      "metadata": {
        "id": "woWYpdw6FtIO"
      },
      "outputs": [],
      "source": [
        "# Initialize an arbitrary neural network\n",
        "NN = [\n",
        "    DenseLayer(1, 8, lambda x: x.relu()),\n",
        "    DenseLayer(8, 1, lambda x: x.identity())\n",
        "]\n",
        "\n",
        "# Recommended hyper-parameters for 3-D: \n",
        "#NN = [\n",
        "#    DenseLayer(3, 16, lambda x: x.relu()),\n",
        "#    DenseLayer(16, 1, lambda x: x.identity())\n",
        "#]\n",
        "\n",
        "\n",
        "### Notice that, when we switch from tanh to relu activation, we decrease the learning rate. This is due the stability of the gradients \n",
        "## of the activation functions."
      ]
    },
    {
      "cell_type": "code",
      "execution_count": null,
      "metadata": {
        "id": "mdqaqYBVFtIR"
      },
      "outputs": [],
      "source": [
        "# Initialize training hyperparameters\n",
        "EPOCHS = 200\n",
        "LEARN_R = 2e-3 "
      ]
    },
    {
      "cell_type": "code",
      "execution_count": null,
      "metadata": {
        "id": "5kfg76GMFtIW",
        "scrolled": true,
        "colab": {
          "base_uri": "https://localhost:8080/"
        },
        "outputId": "91c9ce8e-50ee-4a6e-bbd0-3a9fd0cb5c23"
      },
      "outputs": [
        {
          "output_type": "stream",
          "name": "stdout",
          "text": [
            "   0 ( 0.00%) Train loss: 104.525 \t Validation loss: 103.596\n",
            "  10 ( 5.00%) Train loss: 19.428 \t Validation loss: 14.111\n",
            "  20 (10.00%) Train loss: 13.812 \t Validation loss: 10.486\n",
            "  30 (15.00%) Train loss: 13.328 \t Validation loss: 10.081\n",
            "  40 (20.00%) Train loss: 12.920 \t Validation loss: 9.720\n",
            "  50 (25.00%) Train loss: 12.670 \t Validation loss: 9.454\n",
            "  60 (30.00%) Train loss: 12.472 \t Validation loss: 9.261\n",
            "  70 (35.00%) Train loss: 12.301 \t Validation loss: 9.078\n",
            "  80 (40.00%) Train loss: 12.150 \t Validation loss: 8.966\n",
            "  90 (45.00%) Train loss: 12.025 \t Validation loss: 8.878\n",
            " 100 (50.00%) Train loss: 11.967 \t Validation loss: 8.847\n",
            " 110 (55.00%) Train loss: 11.931 \t Validation loss: 8.846\n",
            " 120 (60.00%) Train loss: 11.909 \t Validation loss: 8.857\n",
            " 130 (65.00%) Train loss: 11.897 \t Validation loss: 8.877\n",
            " 140 (70.00%) Train loss: 11.890 \t Validation loss: 8.897\n",
            " 150 (75.00%) Train loss: 11.885 \t Validation loss: 8.913\n",
            " 160 (80.00%) Train loss: 11.881 \t Validation loss: 8.926\n",
            " 170 (85.00%) Train loss: 11.878 \t Validation loss: 8.935\n",
            " 180 (90.00%) Train loss: 11.876 \t Validation loss: 8.942\n",
            " 190 (95.00%) Train loss: 11.873 \t Validation loss: 8.947\n"
          ]
        }
      ],
      "source": [
        "train_loss = []\n",
        "val_loss = []\n",
        "\n",
        "for e in range(EPOCHS):\n",
        "     \n",
        "    # Forward pass and loss computation\n",
        "    Loss = squared_loss(y_train, forward(x_train, NN))\n",
        "\n",
        "    # Backward pass\n",
        "    Loss.backward()\n",
        "    \n",
        "    # gradient descent update\n",
        "    update_parameters(parameters(NN), LEARN_R)\n",
        "    zero_gradients(parameters(NN))\n",
        "    \n",
        "    # Training loss\n",
        "    train_loss.append(Loss.v)\n",
        "    \n",
        "    # Validation\n",
        "    Loss_validation = squared_loss(y_validation, forward(x_validation, NN))\n",
        "    val_loss.append(Loss_validation.v)\n",
        "    \n",
        "    if e%10==0:\n",
        "        print(\"{:4d}\".format(e),\n",
        "              \"({:5.2f}%)\".format(e/EPOCHS*100), \n",
        "              \"Train loss: {:4.3f} \\t Validation loss: {:4.3f}\".format(train_loss[-1], val_loss[-1]))\n",
        "        \n"
      ]
    },
    {
      "cell_type": "code",
      "execution_count": null,
      "metadata": {
        "id": "VetyRWFwFtIY",
        "colab": {
          "base_uri": "https://localhost:8080/",
          "height": 265
        },
        "outputId": "0d387052-d38d-4a7b-ee40-9342ba613c19"
      },
      "outputs": [
        {
          "output_type": "display_data",
          "data": {
            "text/plain": [
              "<Figure size 432x288 with 1 Axes>"
            ],
            "image/png": "[encoded data removed]"
          },
          "metadata": {
            "needs_background": "light"
          }
        }
      ],
      "source": [
        "plt.plot(range(len(train_loss)), train_loss);\n",
        "plt.plot(range(len(val_loss)), val_loss);"
      ]
    },
    {
      "cell_type": "markdown",
      "metadata": {
        "id": "8OgmIrM9FtIb"
      },
      "source": [
        "# Testing\n",
        "\n",
        "We have kept the calculation of the test error separate in order to emphasize that you should not use the test set in optimization."
      ]
    },
    {
      "cell_type": "code",
      "execution_count": null,
      "metadata": {
        "id": "HmNi7S-vFtIc"
      },
      "outputs": [],
      "source": [
        "output_test = forward(x_test, NN)"
      ]
    },
    {
      "cell_type": "code",
      "execution_count": null,
      "metadata": {
        "id": "7mmJOTSEFtIf",
        "colab": {
          "base_uri": "https://localhost:8080/",
          "height": 314
        },
        "outputId": "4e1e1743-df13-480b-e5e3-f8fdf8c36b66"
      },
      "outputs": [
        {
          "output_type": "stream",
          "name": "stdout",
          "text": [
            "Test loss:  9.767\n"
          ]
        },
        {
          "output_type": "display_data",
          "data": {
            "text/plain": [
              "<Figure size 432x288 with 1 Axes>"
            ],
            "image/png": "[encoded data removed]"
          },
          "metadata": {
            "needs_background": "light"
          }
        }
      ],
      "source": [
        "y_test_np = Var_to_nparray(y_test)\n",
        "plt.scatter(y_test_np, Var_to_nparray(output_test));\n",
        "plt.plot([np.min(y_test_np), np.max(y_test_np)], [np.min(y_test_np), np.max(y_test_np)], color='k');\n",
        "plt.xlabel(\"y\");\n",
        "plt.ylabel(\"$\\hat{y}$\");\n",
        "plt.title(\"Model prediction vs real in the test set, the close to the line the better\")\n",
        "plt.grid(True);\n",
        "plt.axis('equal');\n",
        "plt.tight_layout();\n",
        "\n",
        "Loss_test = squared_loss(y_test, forward(x_test, NN))\n",
        "\n",
        "print(\"Test loss:  {:4.3f}\".format(Loss_test.v))"
      ]
    },
    {
      "cell_type": "code",
      "execution_count": null,
      "metadata": {
        "id": "ODi0WlmQFtIh",
        "colab": {
          "base_uri": "https://localhost:8080/",
          "height": 279
        },
        "outputId": "0bdc3785-7e68-4220-965e-ac895422b1de"
      },
      "outputs": [
        {
          "output_type": "display_data",
          "data": {
            "text/plain": [
              "<Figure size 432x288 with 1 Axes>"
            ],
            "image/png": "[encoded data removed]"
          },
          "metadata": {
            "needs_background": "light"
          }
        }
      ],
      "source": [
        "x_test_np = Var_to_nparray(x_test)\n",
        "x_train_np = Var_to_nparray(x_train)\n",
        "y_train_np = Var_to_nparray(y_train)\n",
        "if D1:\n",
        "    plt.scatter(x_train_np, y_train_np, label=\"train data\");\n",
        "    plt.scatter(x_test_np, Var_to_nparray(output_test), label=\"test prediction\");\n",
        "    plt.scatter(x_test_np, y_test_np, label=\"test data\");\n",
        "    plt.legend();\n",
        "    plt.xlabel(\"x\");\n",
        "    plt.ylabel(\"y\");\n",
        "else:\n",
        "    plt.scatter(x_train_np[:,1], y_train, label=\"train data\");\n",
        "    plt.scatter(x_test_np[:,1], Var_to_nparray(output_test), label=\"test data prediction\");\n",
        "    plt.scatter(x_test_np[:,1], y_test_np, label=\"test data\");\n",
        "    plt.legend();\n",
        "    plt.xlabel(\"x\");\n",
        "    plt.ylabel(\"y\");"
      ]
    },
    {
      "cell_type": "markdown",
      "metadata": {
        "id": "zTBAmjsAFtIk"
      },
      "source": [
        "## Exercise l) Show overfitting, underfitting and just right fitting\n",
        "\n",
        "Vary the architecture and other things to show clear signs of overfitting (=training loss significantly lower than test loss) and underfitting (=not fitting enoung to training data so that test performance is also hurt).\n",
        "\n",
        "See also if you can get a good compromise which leads to a low validation loss. \n",
        "\n",
        "For this problem do you see any big difference between validation and test loss? The answer here will probably be no. Discuss cases where it is important to keep the two separate.\n",
        "\n",
        "_Insert written answer here._\n",
        "\n",
        "I don't see any big difference between validation and test loss. However, it is important to keep the 2 losses separate to get an idea into how the model will perform with new unseen data.\n",
        "\n",
        "To reproduce underfitting we decreased the learning rate to 2e-6. The losses remained constant. (~100)\n",
        "\n",
        "To reproduce overfitting we need to train the network for a large number of epochs and increase the network capacity. However, the training phase becomes cumbersome.\n"
      ]
    },
    {
      "cell_type": "code",
      "execution_count": null,
      "metadata": {
        "id": "tQZCn2dxFtIl",
        "colab": {
          "base_uri": "https://localhost:8080/",
          "height": 664
        },
        "outputId": "168bb468-9b7a-462b-ce65-8cb90a2b9261"
      },
      "outputs": [
        {
          "output_type": "stream",
          "name": "stdout",
          "text": [
            "   0 ( 0.00%) Train loss: 105.315 \t Validation loss: 107.638\n",
            "  10 ( 5.00%) Train loss: 105.291 \t Validation loss: 107.617\n",
            "  20 (10.00%) Train loss: 105.268 \t Validation loss: 107.595\n",
            "  30 (15.00%) Train loss: 105.244 \t Validation loss: 107.573\n",
            "  40 (20.00%) Train loss: 105.221 \t Validation loss: 107.552\n",
            "  50 (25.00%) Train loss: 105.197 \t Validation loss: 107.530\n",
            "  60 (30.00%) Train loss: 105.174 \t Validation loss: 107.508\n",
            "  70 (35.00%) Train loss: 105.150 \t Validation loss: 107.487\n",
            "  80 (40.00%) Train loss: 105.127 \t Validation loss: 107.465\n",
            "  90 (45.00%) Train loss: 105.104 \t Validation loss: 107.444\n",
            " 100 (50.00%) Train loss: 105.081 \t Validation loss: 107.422\n",
            " 110 (55.00%) Train loss: 105.057 \t Validation loss: 107.401\n",
            " 120 (60.00%) Train loss: 105.034 \t Validation loss: 107.379\n",
            " 130 (65.00%) Train loss: 105.011 \t Validation loss: 107.358\n",
            " 140 (70.00%) Train loss: 104.988 \t Validation loss: 107.336\n",
            " 150 (75.00%) Train loss: 104.965 \t Validation loss: 107.315\n",
            " 160 (80.00%) Train loss: 104.941 \t Validation loss: 107.293\n",
            " 170 (85.00%) Train loss: 104.918 \t Validation loss: 107.272\n",
            " 180 (90.00%) Train loss: 104.895 \t Validation loss: 107.250\n",
            " 190 (95.00%) Train loss: 104.872 \t Validation loss: 107.229\n",
            "Underfitting\n",
            "Train loss: 104.851 \t Validation loss: 107.209\n",
            "Test loss:  99.623\n"
          ]
        },
        {
          "output_type": "display_data",
          "data": {
            "text/plain": [
              "<Figure size 432x288 with 1 Axes>"
            ],
            "image/png": "[encoded data removed]"
          },
          "metadata": {
            "needs_background": "light"
          }
        }
      ],
      "source": [
        "# Insert your code for getting overfitting, underfitting and just right fitting\n",
        "\n",
        "# Underfitting\n",
        "\n",
        "# Initialize an arbitrary neural network\n",
        "NN = [\n",
        "    DenseLayer(1, 8, lambda x: x.relu()),\n",
        "    DenseLayer(8, 1, lambda x: x.identity())\n",
        "]\n",
        "\n",
        "EPOCHS = 200\n",
        "LEARN_R = 2e-6\n",
        "\n",
        "train_loss = []\n",
        "val_loss = []\n",
        "\n",
        "for e in range(EPOCHS):\n",
        "     \n",
        "    # Forward pass and loss computation\n",
        "    Loss = squared_loss(y_train, forward(x_train, NN))\n",
        "\n",
        "    # Backward pass\n",
        "    Loss.backward()\n",
        "    \n",
        "    # gradient descent update\n",
        "    update_parameters(parameters(NN), LEARN_R)\n",
        "    zero_gradients(parameters(NN))\n",
        "    \n",
        "    # Training loss\n",
        "    train_loss.append(Loss.v)\n",
        "    \n",
        "    # Validation\n",
        "    Loss_validation = squared_loss(y_validation, forward(x_validation, NN))\n",
        "    val_loss.append(Loss_validation.v)\n",
        "\n",
        "    if e%10==0:\n",
        "      print(\"{:4d}\".format(e),\n",
        "            \"({:5.2f}%)\".format(e/EPOCHS*100), \n",
        "            \"Train loss: {:4.3f} \\t Validation loss: {:4.3f}\".format(train_loss[-1], val_loss[-1]))\n",
        "\n",
        "plt.plot(range(len(train_loss)), train_loss);\n",
        "plt.plot(range(len(val_loss)), val_loss);\n",
        "print(\"Underfitting\")\n",
        "print(\"Train loss: {:4.3f} \\t Validation loss: {:4.3f}\".format(train_loss[-1], val_loss[-1]))\n",
        "\n",
        "Loss_test = squared_loss(y_test, forward(x_test, NN))\n",
        "\n",
        "print(\"Test loss:  {:4.3f}\".format(Loss_test.v))"
      ]
    },
    {
      "cell_type": "code",
      "source": [
        "\n",
        "# Overfitting\n",
        "# Initialize an arbitrary neural network\n",
        "NN = [\n",
        "    DenseLayer(1, 8, lambda x: x.relu()),\n",
        "    DenseLayer(8, 1, lambda x: x.identity())\n",
        "]\n",
        "\n",
        "EPOCHS = 3000\n",
        "LEARN_R = 2e-3\n",
        "\n",
        "train_loss = []\n",
        "val_loss = []\n",
        "\n",
        "for e in range(EPOCHS):\n",
        "     \n",
        "    # Forward pass and loss computation\n",
        "    Loss = squared_loss(y_train, forward(x_train, NN))\n",
        "\n",
        "    # Backward pass\n",
        "    Loss.backward()\n",
        "    \n",
        "    # gradient descent update\n",
        "    update_parameters(parameters(NN), LEARN_R)\n",
        "    zero_gradients(parameters(NN))\n",
        "    \n",
        "    # Training loss\n",
        "    train_loss.append(Loss.v)\n",
        "    \n",
        "    # Validation\n",
        "    Loss_validation = squared_loss(y_validation, forward(x_validation, NN))\n",
        "    val_loss.append(Loss_validation.v)\n",
        "\n",
        "    if e%10==0:\n",
        "      print(\"{:4d}\".format(e),\n",
        "            \"({:5.2f}%)\".format(e/EPOCHS*100), \n",
        "            \"Train loss: {:4.3f} \\t Validation loss: {:4.3f}\".format(train_loss[-1], val_loss[-1]))\n",
        "\n",
        "plt.plot(range(len(train_loss)), train_loss);\n",
        "plt.plot(range(len(val_loss)), val_loss);\n",
        "print(\"Overfitting\")\n",
        "print(\"Train loss: {:4.3f} \\t Validation loss: {:4.3f}\".format(train_loss[-1], val_loss[-1]))\n",
        "\n",
        "Loss_test = squared_loss(y_test, forward(x_test, NN))\n",
        "\n",
        "print(\"Test loss:  {:4.3f}\".format(Loss_test.v))"
      ],
      "metadata": {
        "colab": {
          "base_uri": "https://localhost:8080/"
        },
        "id": "RhNvjcy-aRH4",
        "outputId": "a4fcbd9a-adc4-47ce-e51b-d95f71439758"
      },
      "execution_count": null,
      "outputs": [
        {
          "output_type": "stream",
          "name": "stdout",
          "text": [
            "   0 ( 0.00%) Train loss: 105.853 \t Validation loss: 105.069\n",
            "  10 ( 0.33%) Train loss: 28.429 \t Validation loss: 19.581\n",
            "  20 ( 0.67%) Train loss: 14.521 \t Validation loss: 10.786\n",
            "  30 ( 1.00%) Train loss: 14.108 \t Validation loss: 10.495\n",
            "  40 ( 1.33%) Train loss: 13.779 \t Validation loss: 10.313\n",
            "  50 ( 1.67%) Train loss: 13.418 \t Validation loss: 10.086\n",
            "  60 ( 2.00%) Train loss: 12.973 \t Validation loss: 9.828\n",
            "  70 ( 2.33%) Train loss: 12.537 \t Validation loss: 9.536\n",
            "  80 ( 2.67%) Train loss: 12.285 \t Validation loss: 9.352\n",
            "  90 ( 3.00%) Train loss: 12.141 \t Validation loss: 9.293\n",
            " 100 ( 3.33%) Train loss: 12.038 \t Validation loss: 9.265\n",
            " 110 ( 3.67%) Train loss: 11.964 \t Validation loss: 9.215\n",
            " 120 ( 4.00%) Train loss: 11.931 \t Validation loss: 9.181\n",
            " 130 ( 4.33%) Train loss: 11.913 \t Validation loss: 9.149\n",
            " 140 ( 4.67%) Train loss: 11.903 \t Validation loss: 9.125\n",
            " 150 ( 5.00%) Train loss: 11.898 \t Validation loss: 9.105\n",
            " 160 ( 5.33%) Train loss: 11.895 \t Validation loss: 9.091\n",
            " 170 ( 5.67%) Train loss: 11.894 \t Validation loss: 9.080\n",
            " 180 ( 6.00%) Train loss: 11.893 \t Validation loss: 9.072\n",
            " 190 ( 6.33%) Train loss: 11.893 \t Validation loss: 9.066\n",
            " 200 ( 6.67%) Train loss: 11.893 \t Validation loss: 9.062\n",
            " 210 ( 7.00%) Train loss: 11.892 \t Validation loss: 9.059\n",
            " 220 ( 7.33%) Train loss: 11.892 \t Validation loss: 9.057\n",
            " 230 ( 7.67%) Train loss: 11.892 \t Validation loss: 9.055\n",
            " 240 ( 8.00%) Train loss: 11.892 \t Validation loss: 9.054\n",
            " 250 ( 8.33%) Train loss: 11.892 \t Validation loss: 9.053\n",
            " 260 ( 8.67%) Train loss: 11.892 \t Validation loss: 9.052\n",
            " 270 ( 9.00%) Train loss: 11.892 \t Validation loss: 9.052\n",
            " 280 ( 9.33%) Train loss: 11.892 \t Validation loss: 9.052\n",
            " 290 ( 9.67%) Train loss: 11.892 \t Validation loss: 9.051\n",
            " 300 (10.00%) Train loss: 11.892 \t Validation loss: 9.051\n",
            " 310 (10.33%) Train loss: 11.892 \t Validation loss: 9.051\n",
            " 320 (10.67%) Train loss: 11.892 \t Validation loss: 9.051\n",
            " 330 (11.00%) Train loss: 11.892 \t Validation loss: 9.051\n",
            " 340 (11.33%) Train loss: 11.892 \t Validation loss: 9.051\n",
            " 350 (11.67%) Train loss: 11.892 \t Validation loss: 9.051\n",
            " 360 (12.00%) Train loss: 11.892 \t Validation loss: 9.051\n",
            " 370 (12.33%) Train loss: 11.892 \t Validation loss: 9.051\n",
            " 380 (12.67%) Train loss: 11.892 \t Validation loss: 9.051\n",
            " 390 (13.00%) Train loss: 11.892 \t Validation loss: 9.051\n",
            " 400 (13.33%) Train loss: 11.892 \t Validation loss: 9.051\n",
            " 410 (13.67%) Train loss: 11.892 \t Validation loss: 9.051\n",
            " 420 (14.00%) Train loss: 11.892 \t Validation loss: 9.051\n",
            " 430 (14.33%) Train loss: 11.892 \t Validation loss: 9.051\n",
            " 440 (14.67%) Train loss: 11.892 \t Validation loss: 9.051\n",
            " 450 (15.00%) Train loss: 11.892 \t Validation loss: 9.051\n",
            " 460 (15.33%) Train loss: 11.892 \t Validation loss: 9.051\n",
            " 470 (15.67%) Train loss: 11.892 \t Validation loss: 9.051\n",
            " 480 (16.00%) Train loss: 11.892 \t Validation loss: 9.051\n",
            " 490 (16.33%) Train loss: 11.892 \t Validation loss: 9.051\n",
            " 500 (16.67%) Train loss: 11.892 \t Validation loss: 9.051\n",
            " 510 (17.00%) Train loss: 11.892 \t Validation loss: 9.051\n",
            " 520 (17.33%) Train loss: 11.892 \t Validation loss: 9.051\n",
            " 530 (17.67%) Train loss: 11.892 \t Validation loss: 9.051\n",
            " 540 (18.00%) Train loss: 11.892 \t Validation loss: 9.051\n",
            " 550 (18.33%) Train loss: 11.892 \t Validation loss: 9.051\n",
            " 560 (18.67%) Train loss: 11.892 \t Validation loss: 9.051\n",
            " 570 (19.00%) Train loss: 11.892 \t Validation loss: 9.051\n",
            " 580 (19.33%) Train loss: 11.892 \t Validation loss: 9.051\n",
            " 590 (19.67%) Train loss: 11.892 \t Validation loss: 9.051\n",
            " 600 (20.00%) Train loss: 11.892 \t Validation loss: 9.051\n",
            " 610 (20.33%) Train loss: 11.892 \t Validation loss: 9.051\n",
            " 620 (20.67%) Train loss: 11.892 \t Validation loss: 9.051\n",
            " 630 (21.00%) Train loss: 11.892 \t Validation loss: 9.051\n",
            " 640 (21.33%) Train loss: 11.892 \t Validation loss: 9.051\n",
            " 650 (21.67%) Train loss: 11.892 \t Validation loss: 9.051\n",
            " 660 (22.00%) Train loss: 11.892 \t Validation loss: 9.051\n",
            " 670 (22.33%) Train loss: 11.892 \t Validation loss: 9.051\n",
            " 680 (22.67%) Train loss: 11.892 \t Validation loss: 9.051\n",
            " 690 (23.00%) Train loss: 11.892 \t Validation loss: 9.051\n",
            " 700 (23.33%) Train loss: 11.892 \t Validation loss: 9.051\n",
            " 710 (23.67%) Train loss: 11.892 \t Validation loss: 9.051\n",
            " 720 (24.00%) Train loss: 11.892 \t Validation loss: 9.051\n",
            " 730 (24.33%) Train loss: 11.892 \t Validation loss: 9.051\n",
            " 740 (24.67%) Train loss: 11.892 \t Validation loss: 9.051\n",
            " 750 (25.00%) Train loss: 11.892 \t Validation loss: 9.051\n",
            " 760 (25.33%) Train loss: 11.892 \t Validation loss: 9.051\n",
            " 770 (25.67%) Train loss: 11.892 \t Validation loss: 9.051\n",
            " 780 (26.00%) Train loss: 11.892 \t Validation loss: 9.051\n",
            " 790 (26.33%) Train loss: 11.892 \t Validation loss: 9.051\n",
            " 800 (26.67%) Train loss: 11.892 \t Validation loss: 9.051\n",
            " 810 (27.00%) Train loss: 11.892 \t Validation loss: 9.051\n",
            " 820 (27.33%) Train loss: 11.892 \t Validation loss: 9.051\n",
            " 830 (27.67%) Train loss: 11.892 \t Validation loss: 9.051\n",
            " 840 (28.00%) Train loss: 11.892 \t Validation loss: 9.051\n",
            " 850 (28.33%) Train loss: 11.892 \t Validation loss: 9.051\n",
            " 860 (28.67%) Train loss: 11.892 \t Validation loss: 9.051\n",
            " 870 (29.00%) Train loss: 11.892 \t Validation loss: 9.051\n",
            " 880 (29.33%) Train loss: 11.892 \t Validation loss: 9.051\n",
            " 890 (29.67%) Train loss: 11.892 \t Validation loss: 9.051\n",
            " 900 (30.00%) Train loss: 11.892 \t Validation loss: 9.051\n",
            " 910 (30.33%) Train loss: 11.892 \t Validation loss: 9.051\n",
            " 920 (30.67%) Train loss: 11.892 \t Validation loss: 9.051\n",
            " 930 (31.00%) Train loss: 11.892 \t Validation loss: 9.051\n",
            " 940 (31.33%) Train loss: 11.892 \t Validation loss: 9.051\n",
            " 950 (31.67%) Train loss: 11.892 \t Validation loss: 9.051\n",
            " 960 (32.00%) Train loss: 11.892 \t Validation loss: 9.051\n",
            " 970 (32.33%) Train loss: 11.892 \t Validation loss: 9.051\n",
            " 980 (32.67%) Train loss: 11.892 \t Validation loss: 9.051\n",
            " 990 (33.00%) Train loss: 11.892 \t Validation loss: 9.051\n",
            "1000 (33.33%) Train loss: 11.892 \t Validation loss: 9.051\n",
            "1010 (33.67%) Train loss: 11.892 \t Validation loss: 9.051\n",
            "1020 (34.00%) Train loss: 11.892 \t Validation loss: 9.051\n",
            "1030 (34.33%) Train loss: 11.892 \t Validation loss: 9.051\n",
            "1040 (34.67%) Train loss: 11.892 \t Validation loss: 9.051\n",
            "1050 (35.00%) Train loss: 11.892 \t Validation loss: 9.051\n",
            "1060 (35.33%) Train loss: 11.892 \t Validation loss: 9.051\n",
            "1070 (35.67%) Train loss: 11.892 \t Validation loss: 9.051\n",
            "1080 (36.00%) Train loss: 11.892 \t Validation loss: 9.051\n",
            "1090 (36.33%) Train loss: 11.892 \t Validation loss: 9.051\n",
            "1100 (36.67%) Train loss: 11.892 \t Validation loss: 9.051\n",
            "1110 (37.00%) Train loss: 11.892 \t Validation loss: 9.051\n",
            "1120 (37.33%) Train loss: 11.892 \t Validation loss: 9.051\n",
            "1130 (37.67%) Train loss: 11.892 \t Validation loss: 9.051\n",
            "1140 (38.00%) Train loss: 11.892 \t Validation loss: 9.051\n",
            "1150 (38.33%) Train loss: 11.892 \t Validation loss: 9.051\n",
            "1160 (38.67%) Train loss: 11.892 \t Validation loss: 9.051\n",
            "1170 (39.00%) Train loss: 11.892 \t Validation loss: 9.051\n",
            "1180 (39.33%) Train loss: 11.892 \t Validation loss: 9.051\n",
            "1190 (39.67%) Train loss: 11.892 \t Validation loss: 9.051\n",
            "1200 (40.00%) Train loss: 11.892 \t Validation loss: 9.051\n",
            "1210 (40.33%) Train loss: 11.892 \t Validation loss: 9.051\n",
            "1220 (40.67%) Train loss: 11.892 \t Validation loss: 9.051\n",
            "1230 (41.00%) Train loss: 11.892 \t Validation loss: 9.051\n",
            "1240 (41.33%) Train loss: 11.892 \t Validation loss: 9.051\n",
            "1250 (41.67%) Train loss: 11.892 \t Validation loss: 9.051\n",
            "1260 (42.00%) Train loss: 11.892 \t Validation loss: 9.051\n",
            "1270 (42.33%) Train loss: 11.892 \t Validation loss: 9.051\n",
            "1280 (42.67%) Train loss: 11.892 \t Validation loss: 9.051\n",
            "1290 (43.00%) Train loss: 11.892 \t Validation loss: 9.051\n",
            "1300 (43.33%) Train loss: 11.892 \t Validation loss: 9.051\n",
            "1310 (43.67%) Train loss: 11.892 \t Validation loss: 9.051\n",
            "1320 (44.00%) Train loss: 11.892 \t Validation loss: 9.051\n",
            "1330 (44.33%) Train loss: 11.892 \t Validation loss: 9.051\n",
            "1340 (44.67%) Train loss: 11.892 \t Validation loss: 9.051\n",
            "1350 (45.00%) Train loss: 11.892 \t Validation loss: 9.051\n",
            "1360 (45.33%) Train loss: 11.892 \t Validation loss: 9.051\n",
            "1370 (45.67%) Train loss: 11.892 \t Validation loss: 9.051\n",
            "1380 (46.00%) Train loss: 11.892 \t Validation loss: 9.051\n",
            "1390 (46.33%) Train loss: 11.892 \t Validation loss: 9.051\n",
            "1400 (46.67%) Train loss: 11.892 \t Validation loss: 9.051\n",
            "1410 (47.00%) Train loss: 11.892 \t Validation loss: 9.051\n",
            "1420 (47.33%) Train loss: 11.892 \t Validation loss: 9.051\n",
            "1430 (47.67%) Train loss: 11.892 \t Validation loss: 9.051\n",
            "1440 (48.00%) Train loss: 11.892 \t Validation loss: 9.051\n",
            "1450 (48.33%) Train loss: 11.892 \t Validation loss: 9.051\n",
            "1460 (48.67%) Train loss: 11.892 \t Validation loss: 9.051\n",
            "1470 (49.00%) Train loss: 11.892 \t Validation loss: 9.051\n",
            "1480 (49.33%) Train loss: 11.892 \t Validation loss: 9.051\n",
            "1490 (49.67%) Train loss: 11.892 \t Validation loss: 9.051\n",
            "1500 (50.00%) Train loss: 11.892 \t Validation loss: 9.051\n",
            "1510 (50.33%) Train loss: 11.892 \t Validation loss: 9.051\n",
            "1520 (50.67%) Train loss: 11.892 \t Validation loss: 9.051\n",
            "1530 (51.00%) Train loss: 11.892 \t Validation loss: 9.051\n",
            "1540 (51.33%) Train loss: 11.892 \t Validation loss: 9.051\n",
            "1550 (51.67%) Train loss: 11.892 \t Validation loss: 9.051\n",
            "1560 (52.00%) Train loss: 11.892 \t Validation loss: 9.051\n",
            "1570 (52.33%) Train loss: 11.892 \t Validation loss: 9.051\n",
            "1580 (52.67%) Train loss: 11.892 \t Validation loss: 9.051\n",
            "1590 (53.00%) Train loss: 11.892 \t Validation loss: 9.051\n",
            "1600 (53.33%) Train loss: 11.892 \t Validation loss: 9.051\n",
            "1610 (53.67%) Train loss: 11.892 \t Validation loss: 9.051\n",
            "1620 (54.00%) Train loss: 11.892 \t Validation loss: 9.051\n",
            "1630 (54.33%) Train loss: 11.892 \t Validation loss: 9.051\n",
            "1640 (54.67%) Train loss: 11.892 \t Validation loss: 9.051\n",
            "1650 (55.00%) Train loss: 11.892 \t Validation loss: 9.051\n",
            "1660 (55.33%) Train loss: 11.892 \t Validation loss: 9.051\n",
            "1670 (55.67%) Train loss: 11.892 \t Validation loss: 9.051\n",
            "1680 (56.00%) Train loss: 11.892 \t Validation loss: 9.051\n",
            "1690 (56.33%) Train loss: 11.892 \t Validation loss: 9.051\n",
            "1700 (56.67%) Train loss: 11.892 \t Validation loss: 9.051\n",
            "1710 (57.00%) Train loss: 11.892 \t Validation loss: 9.051\n",
            "1720 (57.33%) Train loss: 11.892 \t Validation loss: 9.051\n",
            "1730 (57.67%) Train loss: 11.892 \t Validation loss: 9.051\n",
            "1740 (58.00%) Train loss: 11.892 \t Validation loss: 9.051\n",
            "1750 (58.33%) Train loss: 11.892 \t Validation loss: 9.051\n",
            "1760 (58.67%) Train loss: 11.892 \t Validation loss: 9.051\n",
            "1770 (59.00%) Train loss: 11.892 \t Validation loss: 9.051\n",
            "1780 (59.33%) Train loss: 11.892 \t Validation loss: 9.051\n",
            "1790 (59.67%) Train loss: 11.892 \t Validation loss: 9.051\n",
            "1800 (60.00%) Train loss: 11.892 \t Validation loss: 9.051\n",
            "1810 (60.33%) Train loss: 11.892 \t Validation loss: 9.051\n",
            "1820 (60.67%) Train loss: 11.892 \t Validation loss: 9.051\n",
            "1830 (61.00%) Train loss: 11.892 \t Validation loss: 9.051\n",
            "1840 (61.33%) Train loss: 11.892 \t Validation loss: 9.051\n",
            "1850 (61.67%) Train loss: 11.892 \t Validation loss: 9.051\n",
            "1860 (62.00%) Train loss: 11.892 \t Validation loss: 9.051\n",
            "1870 (62.33%) Train loss: 11.892 \t Validation loss: 9.051\n",
            "1880 (62.67%) Train loss: 11.892 \t Validation loss: 9.051\n",
            "1890 (63.00%) Train loss: 11.892 \t Validation loss: 9.051\n",
            "1900 (63.33%) Train loss: 11.892 \t Validation loss: 9.051\n",
            "1910 (63.67%) Train loss: 11.892 \t Validation loss: 9.051\n",
            "1920 (64.00%) Train loss: 11.892 \t Validation loss: 9.051\n",
            "1930 (64.33%) Train loss: 11.892 \t Validation loss: 9.051\n",
            "1940 (64.67%) Train loss: 11.892 \t Validation loss: 9.051\n",
            "1950 (65.00%) Train loss: 11.892 \t Validation loss: 9.051\n",
            "1960 (65.33%) Train loss: 11.892 \t Validation loss: 9.051\n",
            "1970 (65.67%) Train loss: 11.892 \t Validation loss: 9.051\n",
            "1980 (66.00%) Train loss: 11.892 \t Validation loss: 9.051\n",
            "1990 (66.33%) Train loss: 11.892 \t Validation loss: 9.051\n",
            "2000 (66.67%) Train loss: 11.892 \t Validation loss: 9.051\n",
            "2010 (67.00%) Train loss: 11.892 \t Validation loss: 9.051\n",
            "2020 (67.33%) Train loss: 11.892 \t Validation loss: 9.051\n",
            "2030 (67.67%) Train loss: 11.892 \t Validation loss: 9.051\n",
            "2040 (68.00%) Train loss: 11.892 \t Validation loss: 9.051\n",
            "2050 (68.33%) Train loss: 11.892 \t Validation loss: 9.051\n",
            "2060 (68.67%) Train loss: 11.892 \t Validation loss: 9.051\n",
            "2070 (69.00%) Train loss: 11.892 \t Validation loss: 9.051\n",
            "2080 (69.33%) Train loss: 11.892 \t Validation loss: 9.051\n",
            "2090 (69.67%) Train loss: 11.892 \t Validation loss: 9.051\n",
            "2100 (70.00%) Train loss: 11.892 \t Validation loss: 9.051\n",
            "2110 (70.33%) Train loss: 11.892 \t Validation loss: 9.051\n",
            "2120 (70.67%) Train loss: 11.892 \t Validation loss: 9.051\n",
            "2130 (71.00%) Train loss: 11.892 \t Validation loss: 9.051\n",
            "2140 (71.33%) Train loss: 11.892 \t Validation loss: 9.051\n",
            "2150 (71.67%) Train loss: 11.892 \t Validation loss: 9.051\n",
            "2160 (72.00%) Train loss: 11.892 \t Validation loss: 9.051\n",
            "2170 (72.33%) Train loss: 11.892 \t Validation loss: 9.051\n",
            "2180 (72.67%) Train loss: 11.892 \t Validation loss: 9.051\n",
            "2190 (73.00%) Train loss: 11.892 \t Validation loss: 9.051\n",
            "2200 (73.33%) Train loss: 11.892 \t Validation loss: 9.051\n",
            "2210 (73.67%) Train loss: 11.892 \t Validation loss: 9.051\n",
            "2220 (74.00%) Train loss: 11.892 \t Validation loss: 9.051\n",
            "2230 (74.33%) Train loss: 11.892 \t Validation loss: 9.051\n",
            "2240 (74.67%) Train loss: 11.892 \t Validation loss: 9.051\n",
            "2250 (75.00%) Train loss: 11.892 \t Validation loss: 9.051\n",
            "2260 (75.33%) Train loss: 11.892 \t Validation loss: 9.051\n",
            "2270 (75.67%) Train loss: 11.892 \t Validation loss: 9.051\n",
            "2280 (76.00%) Train loss: 11.892 \t Validation loss: 9.051\n",
            "2290 (76.33%) Train loss: 11.892 \t Validation loss: 9.051\n",
            "2300 (76.67%) Train loss: 11.892 \t Validation loss: 9.051\n",
            "2310 (77.00%) Train loss: 11.892 \t Validation loss: 9.051\n",
            "2320 (77.33%) Train loss: 11.892 \t Validation loss: 9.051\n",
            "2330 (77.67%) Train loss: 11.892 \t Validation loss: 9.051\n",
            "2340 (78.00%) Train loss: 11.892 \t Validation loss: 9.051\n",
            "2350 (78.33%) Train loss: 11.892 \t Validation loss: 9.051\n",
            "2360 (78.67%) Train loss: 11.892 \t Validation loss: 9.051\n",
            "2370 (79.00%) Train loss: 11.892 \t Validation loss: 9.051\n",
            "2380 (79.33%) Train loss: 11.892 \t Validation loss: 9.051\n",
            "2390 (79.67%) Train loss: 11.892 \t Validation loss: 9.051\n",
            "2400 (80.00%) Train loss: 11.892 \t Validation loss: 9.051\n",
            "2410 (80.33%) Train loss: 11.892 \t Validation loss: 9.051\n",
            "2420 (80.67%) Train loss: 11.892 \t Validation loss: 9.051\n",
            "2430 (81.00%) Train loss: 11.892 \t Validation loss: 9.051\n",
            "2440 (81.33%) Train loss: 11.892 \t Validation loss: 9.051\n",
            "2450 (81.67%) Train loss: 11.892 \t Validation loss: 9.051\n",
            "2460 (82.00%) Train loss: 11.892 \t Validation loss: 9.051\n",
            "2470 (82.33%) Train loss: 11.892 \t Validation loss: 9.051\n",
            "2480 (82.67%) Train loss: 11.892 \t Validation loss: 9.051\n",
            "2490 (83.00%) Train loss: 11.892 \t Validation loss: 9.051\n",
            "2500 (83.33%) Train loss: 11.892 \t Validation loss: 9.051\n",
            "2510 (83.67%) Train loss: 11.892 \t Validation loss: 9.051\n",
            "2520 (84.00%) Train loss: 11.892 \t Validation loss: 9.051\n",
            "2530 (84.33%) Train loss: 11.892 \t Validation loss: 9.051\n",
            "2540 (84.67%) Train loss: 11.892 \t Validation loss: 9.051\n",
            "2550 (85.00%) Train loss: 11.892 \t Validation loss: 9.051\n",
            "2560 (85.33%) Train loss: 11.892 \t Validation loss: 9.051\n",
            "2570 (85.67%) Train loss: 11.892 \t Validation loss: 9.051\n",
            "2580 (86.00%) Train loss: 11.892 \t Validation loss: 9.051\n",
            "2590 (86.33%) Train loss: 11.892 \t Validation loss: 9.051\n",
            "2600 (86.67%) Train loss: 11.892 \t Validation loss: 9.051\n",
            "2610 (87.00%) Train loss: 11.892 \t Validation loss: 9.051\n",
            "2620 (87.33%) Train loss: 11.892 \t Validation loss: 9.051\n",
            "2630 (87.67%) Train loss: 11.892 \t Validation loss: 9.051\n",
            "2640 (88.00%) Train loss: 11.892 \t Validation loss: 9.051\n",
            "2650 (88.33%) Train loss: 11.892 \t Validation loss: 9.051\n",
            "2660 (88.67%) Train loss: 11.892 \t Validation loss: 9.051\n",
            "2670 (89.00%) Train loss: 11.892 \t Validation loss: 9.051\n",
            "2680 (89.33%) Train loss: 11.892 \t Validation loss: 9.051\n",
            "2690 (89.67%) Train loss: 11.892 \t Validation loss: 9.051\n",
            "2700 (90.00%) Train loss: 11.892 \t Validation loss: 9.051\n",
            "2710 (90.33%) Train loss: 11.892 \t Validation loss: 9.051\n",
            "2720 (90.67%) Train loss: 11.892 \t Validation loss: 9.051\n",
            "2730 (91.00%) Train loss: 11.892 \t Validation loss: 9.051\n",
            "2740 (91.33%) Train loss: 11.892 \t Validation loss: 9.051\n",
            "2750 (91.67%) Train loss: 11.892 \t Validation loss: 9.051\n",
            "2760 (92.00%) Train loss: 11.892 \t Validation loss: 9.051\n",
            "2770 (92.33%) Train loss: 11.892 \t Validation loss: 9.051\n",
            "2780 (92.67%) Train loss: 11.892 \t Validation loss: 9.051\n",
            "2790 (93.00%) Train loss: 11.892 \t Validation loss: 9.051\n",
            "2800 (93.33%) Train loss: 11.892 \t Validation loss: 9.051\n",
            "2810 (93.67%) Train loss: 11.892 \t Validation loss: 9.051\n",
            "2820 (94.00%) Train loss: 11.892 \t Validation loss: 9.051\n",
            "2830 (94.33%) Train loss: 11.892 \t Validation loss: 9.051\n",
            "2840 (94.67%) Train loss: 11.892 \t Validation loss: 9.051\n",
            "2850 (95.00%) Train loss: 11.892 \t Validation loss: 9.051\n",
            "2860 (95.33%) Train loss: 11.892 \t Validation loss: 9.051\n",
            "2870 (95.67%) Train loss: 11.892 \t Validation loss: 9.051\n",
            "2880 (96.00%) Train loss: 11.892 \t Validation loss: 9.051\n",
            "2890 (96.33%) Train loss: 11.892 \t Validation loss: 9.051\n",
            "2900 (96.67%) Train loss: 11.892 \t Validation loss: 9.051\n",
            "2910 (97.00%) Train loss: 11.892 \t Validation loss: 9.051\n",
            "2920 (97.33%) Train loss: 11.892 \t Validation loss: 9.051\n",
            "2930 (97.67%) Train loss: 11.892 \t Validation loss: 9.051\n",
            "2940 (98.00%) Train loss: 11.892 \t Validation loss: 9.051\n",
            "2950 (98.33%) Train loss: 11.892 \t Validation loss: 9.051\n",
            "2960 (98.67%) Train loss: 11.892 \t Validation loss: 9.051\n",
            "2970 (99.00%) Train loss: 11.892 \t Validation loss: 9.051\n",
            "2980 (99.33%) Train loss: 11.892 \t Validation loss: 9.051\n",
            "2990 (99.67%) Train loss: 11.892 \t Validation loss: 9.051\n",
            "Overfitting\n",
            "Train loss: 11.892 \t Validation loss: 9.051\n",
            "Test loss:  9.864\n"
          ]
        },
        {
          "output_type": "display_data",
          "data": {
            "text/plain": [
              "<Figure size 432x288 with 1 Axes>"
            ],
            "image/png": "[encoded data removed]"
          },
          "metadata": {
            "needs_background": "light"
          }
        }
      ]
    },
    {
      "cell_type": "markdown",
      "metadata": {
        "id": "fYPZP-eTFtIo"
      },
      "source": [
        "# Next steps - classification\n",
        "\n",
        "It is straight forward to extend what we have done to classification. \n",
        "\n",
        "For numerical stability it is better to make softmax and cross-entropy as one function so we write the cross entropy loss as a function of the logits we talked about last week. \n",
        "\n",
        "Next week we will see how to perform classification in PyTorch."
      ]
    },
    {
      "cell_type": "markdown",
      "metadata": {
        "id": "qsVPul3QFtIo"
      },
      "source": [
        "## Exercise m) optional - Implement backpropagation for classification\n",
        "\n",
        "Should be possible with very few lines of code. :-)"
      ]
    },
    {
      "cell_type": "code",
      "execution_count": null,
      "metadata": {
        "id": "oC8QrI2tFtIp"
      },
      "outputs": [],
      "source": [
        "# Just add code."
      ]
    },
    {
      "cell_type": "markdown",
      "metadata": {
        "id": "APqhJv3tta1O"
      },
      "source": [
        "## Exercise n) optional - Introduce a NeuralNetwork class\n",
        "\n",
        "The functions we applied on the neural network (parameters, update_parameters and zero_gradients) can more naturally be included as methods in a NeuralNetwork class. Make such a class and modify the code to use it. "
      ]
    },
    {
      "cell_type": "code",
      "execution_count": null,
      "metadata": {
        "id": "Dqfnor1ouMLq"
      },
      "outputs": [],
      "source": [
        "# just add some code"
      ]
    }
  ],
  "metadata": {
    "anaconda-cloud": {},
    "colab": {
      "collapsed_sections": [
        "U4057_ljNvWB",
        "jpIZPBpNI0pO",
        "p_8n_SKnIW2F",
        "oLrGJytZFtGm",
        "_79HOAXrFtHK",
        "mqeyab9qFtGs",
        "-XyXBD37FtHk",
        "zTBAmjsAFtIk",
        "qsVPul3QFtIo",
        "APqhJv3tta1O"
      ],
      "provenance": []
    },
    "kernelspec": {
      "display_name": "Python 3",
      "language": "python",
      "name": "python3"
    },
    "language_info": {
      "codemirror_mode": {
        "name": "ipython",
        "version": 3
      },
      "file_extension": ".py",
      "mimetype": "text/x-python",
      "name": "python",
      "nbconvert_exporter": "python",
      "pygments_lexer": "ipython3",
      "version": "3.9.12"
    }
  },
  "nbformat": 4,
  "nbformat_minor": 0
}