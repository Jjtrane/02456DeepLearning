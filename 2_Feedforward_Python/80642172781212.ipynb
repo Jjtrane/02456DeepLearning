{
 "cells": [
  {
   "cell_type": "markdown",
   "metadata": {
    "id": "HAva8TnYFtFu"
   },
   "source": [
    "# Contents and why we need this lab\n",
    "\n",
    "This lab is about implementing neural networks yourself before we start using other frameworks that hide some of the computation from you. It builds on the first lab, where you derived the equations for neural network forward and backward propagation and gradient descent parameter updates. \n",
    "\n",
    "All the frameworks for deep learning you will meet from now on use automatic differentiation (autodiff), so you do not have to code the backward step yourself. In this version of this lab, you will develop your own autodif implementation. We also have an optional [version](https://github.com/DeepLearningDTU/02456-deep-learning-with-PyTorch/blob/master/2_Feedforward_Python/2.2-FNN-NumPy.ipynb) of this lab where you have to code the backward pass explicitly in Numpy."
   ]
  },
  {
   "cell_type": "markdown",
   "metadata": {
    "id": "sCa7HzwpFtFy"
   },
   "source": [
    "# External sources of information\n",
    "\n",
    "1. Jupyter notebook. You can find more information about Jupyter notebooks [here](https://jupyter.org/). It will come as part of the [Anaconda](https://www.anaconda.com/) Python installation. \n",
    "2. [NumPy](https://numpy.org/). Part of Anaconda distribution.  If you already know how to program, most things about Python and NumPy can be found with Google searches.\n",
    "3. [Nanograd](https://github.com/rasmusbergpalm/nanograd) is a minimalistic version of autodiff developed by Rasmus Berg Palm that we use for our framework.\n"
   ]
  },
  {
   "cell_type": "markdown",
   "metadata": {
    "id": "1SjiIp-TFtF0"
   },
   "source": [
    "# This notebook will follow the next steps:\n",
    "\n",
    "1. Nanograd automatic differentiation framework\n",
    "2. Finite difference method\n",
    "3. Data generation\n",
    "4. Defining and initializing the network\n",
    "5. Forward pass\n",
    "6. Training loop \n",
    "7. Testing your model\n",
    "8. Further extensions"
   ]
  },
  {
   "cell_type": "markdown",
   "metadata": {
    "id": "OyXeAA-HuT7s"
   },
   "source": [
    "# Nanograd automatic differention framework"
   ]
  },
  {
   "cell_type": "markdown",
   "metadata": {
    "id": "k6UWKCLKubgA"
   },
   "source": [
    "The [Nanograd](https://github.com/rasmusbergpalm/nanograd) framework defines a class Var which both holds a value and gradient value that we can use to store the intermediate values when we apply the chain rule of differentiation."
   ]
  },
  {
   "cell_type": "code",
   "execution_count": 1,
   "metadata": {
    "id": "Jd4CoEBNzNWS"
   },
   "outputs": [],
   "source": [
    "# Copy and pasted from https://github.com/rasmusbergpalm/nanograd/blob/3a1bf9e9e724da813bfccf91a6f309abdade9f39/nanograd.py\n",
    "\n",
    "from math import exp, log\n",
    "\n",
    "class Var:\n",
    "    \"\"\"\n",
    "    A variable which holds a float and enables gradient computations.\n",
    "    \"\"\"\n",
    "\n",
    "    def __init__(self, val: float, grad_fn=lambda: []):\n",
    "        assert type(val) == float\n",
    "        self.v = val\n",
    "        self.grad_fn = grad_fn\n",
    "        self.grad = 0.0\n",
    "\n",
    "    def backprop(self, bp):\n",
    "        self.grad += bp\n",
    "        for input, grad in self.grad_fn():\n",
    "            input.backprop(grad * bp)\n",
    "\n",
    "    def backward(self):\n",
    "        self.backprop(1.0)\n",
    "\n",
    "    def __add__(self: 'Var', other: 'Var') -> 'Var':\n",
    "        return Var(self.v + other.v, lambda: [(self, 1.0), (other, 1.0)])\n",
    "\n",
    "    def __mul__(self: 'Var', other: 'Var') -> 'Var':\n",
    "        return Var(self.v * other.v, lambda: [(self, other.v), (other, self.v)])\n",
    "\n",
    "    def __pow__(self, power):\n",
    "        assert type(power) in {float, int}, \"power must be float or int\"\n",
    "        return Var(self.v ** power, lambda: [(self, power * self.v ** (power - 1))])\n",
    "\n",
    "    def __neg__(self: 'Var') -> 'Var':\n",
    "        return Var(-1.0) * self\n",
    "\n",
    "    def __sub__(self: 'Var', other: 'Var') -> 'Var':\n",
    "        return self + (-other)\n",
    "\n",
    "    def __truediv__(self: 'Var', other: 'Var') -> 'Var':\n",
    "        return self * other ** -1\n",
    "\n",
    "    def __repr__(self):\n",
    "        return \"Var(v=%.4f, grad=%.4f)\" % (self.v, self.grad)\n",
    "\n",
    "    def relu(self):\n",
    "        return Var(self.v if self.v > 0.0 else 0.0, lambda: [(self, 1.0 if self.v > 0.0 else 0.0)])"
   ]
  },
  {
   "cell_type": "markdown",
   "metadata": {
    "id": "yDX67D6jzcte"
   },
   "source": [
    "A few examples illustrate how we can use this:"
   ]
  },
  {
   "cell_type": "code",
   "execution_count": 2,
   "metadata": {
    "colab": {
     "base_uri": "https://localhost:8080/"
    },
    "id": "xk6PeLc3zwPT",
    "outputId": "47e431b2-07ba-4cb1-ea21-997769641c67"
   },
   "outputs": [
    {
     "name": "stdout",
     "output_type": "stream",
     "text": [
      "Var(v=3.0000, grad=5.0000)\n",
      "Var(v=5.0000, grad=3.0000)\n",
      "Var(v=15.0000, grad=1.0000)\n"
     ]
    }
   ],
   "source": [
    "a = Var(3.0)\n",
    "b = Var(5.0)\n",
    "f = a * b\n",
    "\n",
    "f.backward()\n",
    "\n",
    "for v in [a, b, f]:\n",
    "    print(v)"
   ]
  },
  {
   "cell_type": "code",
   "execution_count": 3,
   "metadata": {
    "colab": {
     "base_uri": "https://localhost:8080/"
    },
    "id": "JmKhYgsY0g_o",
    "outputId": "06c1b1df-c33c-40d3-922a-624612a591c7"
   },
   "outputs": [
    {
     "name": "stdout",
     "output_type": "stream",
     "text": [
      "Var(v=3.0000, grad=14.0000)\n",
      "Var(v=5.0000, grad=3.0000)\n",
      "Var(v=15.0000, grad=1.0000)\n",
      "Var(v=9.0000, grad=3.0000)\n",
      "Var(v=27.0000, grad=1.0000)\n",
      "Var(v=42.0000, grad=1.0000)\n"
     ]
    }
   ],
   "source": [
    "a = Var(3.0)\n",
    "b = Var(5.0)\n",
    "c = a * b\n",
    "d = Var(9.0)\n",
    "e = a * d\n",
    "f = c + e\n",
    "\n",
    "f.backward()\n",
    "for v in [a, b, c, d, e, f]:\n",
    "    print(v)"
   ]
  },
  {
   "cell_type": "markdown",
   "metadata": {
    "id": "Fe3B6uEH140p"
   },
   "source": [
    "## Exercise a) What is being calculated?\n",
    "\n",
    "Explain briefly the output of the code? What is the expression we differentiate and with respect to what variables?\n",
    "\n",
    "$$\n",
    "f = c + e \\\\\n",
    "f = a \\cdot b + a \\cdot e\n",
    "$$"
   ]
  },
  {
   "cell_type": "markdown",
   "metadata": {
    "id": "q8_Q0t2I3Ruj"
   },
   "source": [
    "## Exercise b) How does the backward function work?\n",
    "\n",
    "You need to understand how the backward function calculates the gradients. We can use the two examples above to help with that.\n",
    "\n",
    "Go through the following four steps and answer the questions on the way:\n",
    "\n",
    "1. We represent the two expressions as graphs as shown below. Fill in the missing expressions for the different derivatives.\n",
    "\n",
    "2. In the remainder consider the first expression. Make a schematic of the data structure which is generated when we define the expression for f. \n",
    "\n",
    "3. Then execute the backward function by hand to convince yourself that it indeed calculates the gradients with respect to the variables. \n",
    "\n",
    "4. Write down the sequence of calls to backprop."
   ]
  },
  {
   "cell_type": "code",
   "execution_count": 4,
   "metadata": {
    "id": "idGr71jYXl26"
   },
   "outputs": [],
   "source": [
    "# import logging\n",
    "import graphviz\n",
    "\n",
    "#logging.basicConfig(format='[%(levelname)s@%(name)s] %(message)s', level=logging.DEBUG)\n",
    "\n",
    "#graphviz.__version__, graphviz.version()"
   ]
  },
  {
   "cell_type": "code",
   "execution_count": 5,
   "metadata": {
    "colab": {
     "base_uri": "https://localhost:8080/",
     "height": 152
    },
    "id": "KPe30Q2QXzeG",
    "outputId": "7fa002cd-a018-4dbb-ddf1-28ed5e99ee19"
   },
   "outputs": [
    {
     "data": {
      "image/svg+xml": [
       "<?xml version=\"1.0\" encoding=\"UTF-8\" standalone=\"no\"?>\n",
       "<!DOCTYPE svg PUBLIC \"-//W3C//DTD SVG 1.1//EN\"\n",
       " \"http://www.w3.org/Graphics/SVG/1.1/DTD/svg11.dtd\">\n",
       "<!-- Generated by graphviz version 3.0.0 (0)\n",
       " -->\n",
       "<!-- Title: first expression Pages: 1 -->\n",
       "<svg width=\"160pt\" height=\"98pt\"\n",
       " viewBox=\"0.00 0.00 160.00 98.00\" xmlns=\"http://www.w3.org/2000/svg\" xmlns:xlink=\"http://www.w3.org/1999/xlink\">\n",
       "<g id=\"graph0\" class=\"graph\" transform=\"scale(1 1) rotate(0) translate(4 94)\">\n",
       "<title>first expression</title>\n",
       "<polygon fill=\"white\" stroke=\"transparent\" points=\"-4,4 -4,-94 156,-94 156,4 -4,4\"/>\n",
       "<!-- a -->\n",
       "<g id=\"node1\" class=\"node\">\n",
       "<title>a</title>\n",
       "<ellipse fill=\"none\" stroke=\"black\" cx=\"18\" cy=\"-72\" rx=\"18\" ry=\"18\"/>\n",
       "<text text-anchor=\"middle\" x=\"18\" y=\"-68.3\" font-family=\"Times,serif\" font-size=\"14.00\">a</text>\n",
       "</g>\n",
       "<!-- f -->\n",
       "<g id=\"node2\" class=\"node\">\n",
       "<title>f</title>\n",
       "<ellipse fill=\"none\" stroke=\"black\" cx=\"134\" cy=\"-45\" rx=\"18\" ry=\"18\"/>\n",
       "<text text-anchor=\"middle\" x=\"134\" y=\"-41.3\" font-family=\"Times,serif\" font-size=\"14.00\">f</text>\n",
       "</g>\n",
       "<!-- a&#45;&gt;f -->\n",
       "<g id=\"edge1\" class=\"edge\">\n",
       "<title>a&#45;&gt;f</title>\n",
       "<path fill=\"none\" stroke=\"black\" d=\"M35.82,-68.02C54.34,-63.63 84.38,-56.51 106.17,-51.36\"/>\n",
       "<polygon fill=\"black\" stroke=\"black\" points=\"107.19,-54.71 116.11,-49 105.57,-47.9 107.19,-54.71\"/>\n",
       "<text text-anchor=\"middle\" x=\"76\" y=\"-66.8\" font-family=\"Times,serif\" font-size=\"14.00\">df/da=5</text>\n",
       "</g>\n",
       "<!-- b -->\n",
       "<g id=\"node3\" class=\"node\">\n",
       "<title>b</title>\n",
       "<ellipse fill=\"none\" stroke=\"black\" cx=\"18\" cy=\"-18\" rx=\"18\" ry=\"18\"/>\n",
       "<text text-anchor=\"middle\" x=\"18\" y=\"-14.3\" font-family=\"Times,serif\" font-size=\"14.00\">b</text>\n",
       "</g>\n",
       "<!-- b&#45;&gt;f -->\n",
       "<g id=\"edge2\" class=\"edge\">\n",
       "<title>b&#45;&gt;f</title>\n",
       "<path fill=\"none\" stroke=\"black\" d=\"M36.07,-20.92C52.15,-23.8 76.86,-28.55 98,-34 100.89,-34.74 103.9,-35.59 106.88,-36.46\"/>\n",
       "<polygon fill=\"black\" stroke=\"black\" points=\"106.13,-39.9 116.72,-39.49 108.19,-33.21 106.13,-39.9\"/>\n",
       "<text text-anchor=\"middle\" x=\"76\" y=\"-37.8\" font-family=\"Times,serif\" font-size=\"14.00\">df/db=3</text>\n",
       "</g>\n",
       "</g>\n",
       "</svg>\n"
      ],
      "text/plain": [
       "<graphviz.graphs.Digraph at 0x10400ee50>"
      ]
     },
     "execution_count": 5,
     "metadata": {},
     "output_type": "execute_result"
    }
   ],
   "source": [
    "e1 = graphviz.Digraph('first expression', filename='fsm.gv')\n",
    "\n",
    "e1.attr(rankdir='LR', size='8,5')\n",
    "\n",
    "e1.attr('node', shape='circle')\n",
    "e1.edge('a', 'f', label='df/da=5')\n",
    "e1.edge('b', 'f', label='df/db=3')\n",
    "\n",
    "e1"
   ]
  },
  {
   "cell_type": "code",
   "execution_count": 6,
   "metadata": {
    "colab": {
     "base_uri": "https://localhost:8080/",
     "height": 232
    },
    "id": "0nittR-mZFeX",
    "outputId": "fa3656a3-732c-4abe-8084-98a492b0d6be"
   },
   "outputs": [
    {
     "data": {
      "image/svg+xml": [
       "<?xml version=\"1.0\" encoding=\"UTF-8\" standalone=\"no\"?>\n",
       "<!DOCTYPE svg PUBLIC \"-//W3C//DTD SVG 1.1//EN\"\n",
       " \"http://www.w3.org/Graphics/SVG/1.1/DTD/svg11.dtd\">\n",
       "<!-- Generated by graphviz version 3.0.0 (0)\n",
       " -->\n",
       "<!-- Title: second expression Pages: 1 -->\n",
       "<svg width=\"277pt\" height=\"158pt\"\n",
       " viewBox=\"0.00 0.00 277.00 158.00\" xmlns=\"http://www.w3.org/2000/svg\" xmlns:xlink=\"http://www.w3.org/1999/xlink\">\n",
       "<g id=\"graph0\" class=\"graph\" transform=\"scale(1 1) rotate(0) translate(4 154)\">\n",
       "<title>second expression</title>\n",
       "<polygon fill=\"white\" stroke=\"transparent\" points=\"-4,4 -4,-154 273,-154 273,4 -4,4\"/>\n",
       "<!-- a -->\n",
       "<g id=\"node1\" class=\"node\">\n",
       "<title>a</title>\n",
       "<ellipse fill=\"none\" stroke=\"black\" cx=\"18\" cy=\"-75\" rx=\"18\" ry=\"18\"/>\n",
       "<text text-anchor=\"middle\" x=\"18\" y=\"-71.3\" font-family=\"Times,serif\" font-size=\"14.00\">a</text>\n",
       "</g>\n",
       "<!-- c -->\n",
       "<g id=\"node2\" class=\"node\">\n",
       "<title>c</title>\n",
       "<ellipse fill=\"none\" stroke=\"black\" cx=\"136\" cy=\"-102\" rx=\"18\" ry=\"18\"/>\n",
       "<text text-anchor=\"middle\" x=\"136\" y=\"-98.3\" font-family=\"Times,serif\" font-size=\"14.00\">c</text>\n",
       "</g>\n",
       "<!-- a&#45;&gt;c -->\n",
       "<g id=\"edge1\" class=\"edge\">\n",
       "<title>a&#45;&gt;c</title>\n",
       "<path fill=\"none\" stroke=\"black\" d=\"M35.62,-78.87C54.66,-83.3 86.1,-90.62 108.52,-95.84\"/>\n",
       "<polygon fill=\"black\" stroke=\"black\" points=\"107.88,-99.28 118.41,-98.14 109.46,-92.46 107.88,-99.28\"/>\n",
       "<text text-anchor=\"middle\" x=\"77\" y=\"-96.8\" font-family=\"Times,serif\" font-size=\"14.00\">dc/da=5</text>\n",
       "</g>\n",
       "<!-- e -->\n",
       "<g id=\"node4\" class=\"node\">\n",
       "<title>e</title>\n",
       "<ellipse fill=\"none\" stroke=\"black\" cx=\"136\" cy=\"-48\" rx=\"18\" ry=\"18\"/>\n",
       "<text text-anchor=\"middle\" x=\"136\" y=\"-44.3\" font-family=\"Times,serif\" font-size=\"14.00\">e</text>\n",
       "</g>\n",
       "<!-- a&#45;&gt;e -->\n",
       "<g id=\"edge3\" class=\"edge\">\n",
       "<title>a&#45;&gt;e</title>\n",
       "<path fill=\"none\" stroke=\"black\" d=\"M35.28,-69.48C41.14,-67.6 47.83,-65.57 54,-64 71.83,-59.45 92.15,-55.44 107.97,-52.57\"/>\n",
       "<polygon fill=\"black\" stroke=\"black\" points=\"108.89,-55.97 118.13,-50.78 107.67,-49.07 108.89,-55.97\"/>\n",
       "<text text-anchor=\"middle\" x=\"77\" y=\"-67.8\" font-family=\"Times,serif\" font-size=\"14.00\">de/da=9</text>\n",
       "</g>\n",
       "<!-- f -->\n",
       "<g id=\"node6\" class=\"node\">\n",
       "<title>f</title>\n",
       "<ellipse fill=\"none\" stroke=\"black\" cx=\"251\" cy=\"-75\" rx=\"18\" ry=\"18\"/>\n",
       "<text text-anchor=\"middle\" x=\"251\" y=\"-71.3\" font-family=\"Times,serif\" font-size=\"14.00\">f</text>\n",
       "</g>\n",
       "<!-- c&#45;&gt;f -->\n",
       "<g id=\"edge5\" class=\"edge\">\n",
       "<title>c&#45;&gt;f</title>\n",
       "<path fill=\"none\" stroke=\"black\" d=\"M153.67,-98.02C172.03,-93.63 201.81,-86.51 223.4,-81.36\"/>\n",
       "<polygon fill=\"black\" stroke=\"black\" points=\"224.35,-84.73 233.26,-79 222.72,-77.92 224.35,-84.73\"/>\n",
       "<text text-anchor=\"middle\" x=\"193.5\" y=\"-96.8\" font-family=\"Times,serif\" font-size=\"14.00\">df/dc=1</text>\n",
       "</g>\n",
       "<!-- b -->\n",
       "<g id=\"node3\" class=\"node\">\n",
       "<title>b</title>\n",
       "<ellipse fill=\"none\" stroke=\"black\" cx=\"18\" cy=\"-132\" rx=\"18\" ry=\"18\"/>\n",
       "<text text-anchor=\"middle\" x=\"18\" y=\"-128.3\" font-family=\"Times,serif\" font-size=\"14.00\">b</text>\n",
       "</g>\n",
       "<!-- b&#45;&gt;c -->\n",
       "<g id=\"edge2\" class=\"edge\">\n",
       "<title>b&#45;&gt;c</title>\n",
       "<path fill=\"none\" stroke=\"black\" d=\"M35.62,-127.7C54.66,-122.78 86.1,-114.65 108.52,-108.85\"/>\n",
       "<polygon fill=\"black\" stroke=\"black\" points=\"109.61,-112.18 118.41,-106.29 107.85,-105.41 109.61,-112.18\"/>\n",
       "<text text-anchor=\"middle\" x=\"77\" y=\"-125.8\" font-family=\"Times,serif\" font-size=\"14.00\">dc/db=3</text>\n",
       "</g>\n",
       "<!-- e&#45;&gt;f -->\n",
       "<g id=\"edge6\" class=\"edge\">\n",
       "<title>e&#45;&gt;f</title>\n",
       "<path fill=\"none\" stroke=\"black\" d=\"M153.85,-50.94C169.73,-53.83 194.12,-58.59 215,-64 217.89,-64.75 220.9,-65.59 223.88,-66.47\"/>\n",
       "<polygon fill=\"black\" stroke=\"black\" points=\"223.13,-69.9 233.72,-69.5 225.19,-63.21 223.13,-69.9\"/>\n",
       "<text text-anchor=\"middle\" x=\"193.5\" y=\"-67.8\" font-family=\"Times,serif\" font-size=\"14.00\">df/de=1</text>\n",
       "</g>\n",
       "<!-- d -->\n",
       "<g id=\"node5\" class=\"node\">\n",
       "<title>d</title>\n",
       "<ellipse fill=\"none\" stroke=\"black\" cx=\"18\" cy=\"-18\" rx=\"18\" ry=\"18\"/>\n",
       "<text text-anchor=\"middle\" x=\"18\" y=\"-14.3\" font-family=\"Times,serif\" font-size=\"14.00\">d</text>\n",
       "</g>\n",
       "<!-- d&#45;&gt;e -->\n",
       "<g id=\"edge4\" class=\"edge\">\n",
       "<title>d&#45;&gt;e</title>\n",
       "<path fill=\"none\" stroke=\"black\" d=\"M35.93,-20.8C52.45,-23.7 78.19,-28.7 100,-35 103.18,-35.92 106.48,-36.99 109.72,-38.11\"/>\n",
       "<polygon fill=\"black\" stroke=\"black\" points=\"108.54,-41.4 119.14,-41.54 110.94,-34.83 108.54,-41.4\"/>\n",
       "<text text-anchor=\"middle\" x=\"77\" y=\"-38.8\" font-family=\"Times,serif\" font-size=\"14.00\">de/dd=3</text>\n",
       "</g>\n",
       "</g>\n",
       "</svg>\n"
      ],
      "text/plain": [
       "<graphviz.graphs.Digraph at 0x104023580>"
      ]
     },
     "execution_count": 6,
     "metadata": {},
     "output_type": "execute_result"
    }
   ],
   "source": [
    "e2 = graphviz.Digraph('second expression', filename='fsm.gv')\n",
    "\n",
    "e2.attr(rankdir='LR', size='8,5')\n",
    "\n",
    "e2.attr('node', shape='circle')\n",
    "e2.edge('a', 'c', label='dc/da=5')\n",
    "e2.edge('b', 'c', label='dc/db=3')\n",
    "e2.edge('a', 'e', label='de/da=9')\n",
    "e2.edge('d', 'e', label='de/dd=3')\n",
    "e2.edge('c', 'f', label='df/dc=1')\n",
    "e2.edge('e', 'f', label='df/de=1')\n",
    "\n",
    "e2"
   ]
  },
  {
   "cell_type": "markdown",
   "metadata": {
    "id": "A5oi21W4gpeM"
   },
   "source": [
    "## Exercise c) What happens if we run backward again?\n",
    "\n",
    "Try to execute the code below. Explain what happens."
   ]
  },
  {
   "cell_type": "code",
   "execution_count": 7,
   "metadata": {
    "colab": {
     "base_uri": "https://localhost:8080/"
    },
    "id": "DCtpJyr-gyX1",
    "outputId": "d014bcfa-c9ae-49c3-d268-91cc6ca94ea5"
   },
   "outputs": [
    {
     "name": "stdout",
     "output_type": "stream",
     "text": [
      "Var(v=3.0000, grad=28.0000)\n",
      "Var(v=5.0000, grad=6.0000)\n",
      "Var(v=15.0000, grad=2.0000)\n",
      "Var(v=9.0000, grad=6.0000)\n",
      "Var(v=27.0000, grad=2.0000)\n",
      "Var(v=42.0000, grad=2.0000)\n"
     ]
    }
   ],
   "source": [
    "f.backward()\n",
    "\n",
    "for v in [a, b, c, d, e, f]:\n",
    "    print(v)"
   ]
  },
  {
   "cell_type": "markdown",
   "metadata": {},
   "source": [
    "### Answer suggestion:\n",
    "the gradients are recalculated. for the variables which have not been multiplied with another vatiable, the gradient increases by one, The variables which have been multiplied with other variables, the values they have been multiplied with, are added to the gradient"
   ]
  },
  {
   "cell_type": "markdown",
   "metadata": {
    "id": "e8bPVq2VhsP-"
   },
   "source": [
    "## Exercise d) Zero gradient\n",
    "\n",
    "We can zero the gradient by backpropagating a -1.0 as is shown in the example below. (If you have run backward multiple time then you also have to run the cell below an equal amount of times.) Explain what is going on."
   ]
  },
  {
   "cell_type": "code",
   "execution_count": 8,
   "metadata": {
    "colab": {
     "base_uri": "https://localhost:8080/"
    },
    "id": "OnyPDQx9lJe0",
    "outputId": "7a125fdc-60c4-4340-a580-8b82aea5b0db"
   },
   "outputs": [
    {
     "name": "stdout",
     "output_type": "stream",
     "text": [
      "Var(v=2.0000, grad=0.0000)\n",
      "Var(v=5.0000, grad=6.0000)\n",
      "Var(v=15.0000, grad=2.0000)\n",
      "Var(v=9.0000, grad=6.0000)\n",
      "Var(v=27.0000, grad=2.0000)\n",
      "Var(v=42.0000, grad=2.0000)\n",
      "\n",
      "Var(v=2.0000, grad=0.0000)\n",
      "Var(v=5.0000, grad=3.0000)\n",
      "Var(v=15.0000, grad=1.0000)\n",
      "Var(v=9.0000, grad=3.0000)\n",
      "Var(v=27.0000, grad=1.0000)\n",
      "Var(v=42.0000, grad=1.0000)\n",
      "\n",
      "Var(v=2.0000, grad=0.0000)\n",
      "Var(v=5.0000, grad=0.0000)\n",
      "Var(v=15.0000, grad=0.0000)\n",
      "Var(v=9.0000, grad=0.0000)\n",
      "Var(v=27.0000, grad=0.0000)\n",
      "Var(v=42.0000, grad=0.0000)\n",
      "\n",
      "Var(v=2.0000, grad=0.0000)\n",
      "Var(v=5.0000, grad=-3.0000)\n",
      "Var(v=15.0000, grad=-1.0000)\n",
      "Var(v=9.0000, grad=-3.0000)\n",
      "Var(v=27.0000, grad=-1.0000)\n",
      "Var(v=42.0000, grad=-1.0000)\n"
     ]
    }
   ],
   "source": [
    "a = Var(2.0)\n",
    "\n",
    "for v in [a, b, c, d, e, f]:\n",
    "    print(v)\n",
    "\n",
    "f.backprop(-1.0)\n",
    "print('')\n",
    "\n",
    "for v in [a, b, c, d, e, f]:\n",
    "    print(v)\n",
    "    \n",
    "f.backprop(-1.0)\n",
    "print('')\n",
    "\n",
    "for v in [a, b, c, d, e, f]:\n",
    "    print(v)\n",
    "\n",
    "f.backprop(-1.0)\n",
    "print('')\n",
    "\n",
    "for v in [a, b, c, d, e, f]:\n",
    "    print(v)"
   ]
  },
  {
   "cell_type": "markdown",
   "metadata": {},
   "source": [
    "### Answer suggestion:\n",
    "The gradient of a is reset to zero. Each time backprop(-1) the gradient of a single backward pass is subtracted from the accumulated gradient."
   ]
  },
  {
   "cell_type": "markdown",
   "metadata": {
    "id": "U4057_ljNvWB"
   },
   "source": [
    "## Exercise e) Test correctness of derivatives with the finite difference method\n",
    "\n",
    "Write a small function that uses [the finite difference method](https://en.wikipedia.org/wiki/Finite_difference_method) to numerically test that backpropation implementation is working. In short we will use\n",
    "$$\n",
    "\\frac{\\partial f(a)}{\\partial a} \\approx \\frac{f(a+da)-f(a)}{da}\n",
    "$$\n",
    "for $da \\ll 1$.\n",
    "\n",
    "As an example, we could approximate the derivative of the function $f(a)=a^2$ in e.g. the value $a=4$ using the finite difference method. This amounts to inserting the relevant values and approximating the gradient $f'(4)$ with the fraction above. \n"
   ]
  },
  {
   "cell_type": "code",
   "execution_count": 9,
   "metadata": {
    "colab": {
     "base_uri": "https://localhost:8080/"
    },
    "id": "9TGil92lSXDN",
    "outputId": "7ef5489b-b525-4132-ab08-0b1109c07f4d"
   },
   "outputs": [
    {
     "name": "stdout",
     "output_type": "stream",
     "text": [
      "Var(v=3.0000, grad=5.0000)\n",
      "Var(v=5.0000, grad=3.0000)\n",
      "Var(v=15.0000, grad=1.0000)\n",
      "1.000000082740371\n"
     ]
    }
   ],
   "source": [
    "# f function - try to change the code to test other types of functions as well (such as different polynomials etc.)\n",
    "def f_function(a):\n",
    "    a = Var(a)\n",
    "    b = Var(5.0)\n",
    "    f = a * b\n",
    "    f.backward()\n",
    "    return a,b,f\n",
    "\n",
    "for v in f_function(3.0):\n",
    "    print(v)\n",
    "\n",
    "# Insert your finite difference code here\n",
    "def finite_difference(da=1e-10):\n",
    "    \"\"\"\n",
    "    This function compute the finite difference between\n",
    "    \n",
    "    Input:\n",
    "    da:          The finite difference                           (float)\n",
    "    \n",
    "    Output:\n",
    "    finite_difference: numerical approximation to the derivative (float) \n",
    "    \"\"\"\n",
    "    \n",
    "    fa_da = f_function(1.0+da)[0]           # <- Insert correct expression\n",
    "    fa = f_function(1.0)[0]               # <- Insert correct expression\n",
    "\n",
    "    finite_difference = (fa_da.v - fa.v) / da\n",
    "    \n",
    "    return finite_difference\n",
    "\n",
    "print(finite_difference())"
   ]
  },
  {
   "cell_type": "markdown",
   "metadata": {
    "id": "6pZar5RKaUkg"
   },
   "source": [
    "# Create an artificial dataset to play with\n",
    "\n",
    "We create a non-linear 1d regression task. The generator supports various noise levels and it creates train, validation and test sets. You can modify it yourself if you want more or less challenging tasks."
   ]
  },
  {
   "cell_type": "code",
   "execution_count": 10,
   "metadata": {
    "id": "Y6yfMAQ8aduj"
   },
   "outputs": [],
   "source": [
    "import numpy as np\n",
    "import matplotlib.pyplot as plt\n",
    "\n",
    "np.random.seed(42)"
   ]
  },
  {
   "cell_type": "code",
   "execution_count": 11,
   "metadata": {
    "id": "4YabfD43ajNh"
   },
   "outputs": [],
   "source": [
    "def data_generator(noise=0.1, n_samples=300, D1=True):\n",
    "    # Create covariates and response variable\n",
    "    if D1:\n",
    "        X = np.linspace(-3, 3, num=n_samples).reshape(-1,1) # 1-D\n",
    "        np.random.shuffle(X)\n",
    "        y = np.random.normal((0.5*np.sin(X[:,0]*3) + X[:,0]), noise) # 1-D with trend\n",
    "    else:\n",
    "        X = np.random.multivariate_normal(np.zeros(3), noise*np.eye(3), size = n_samples) # 3-D\n",
    "        np.random.shuffle(X)    \n",
    "        y = np.sin(X[:,0]) - 5*(X[:,1]**2) + 0.5*X[:,2] # 3-D\n",
    "\n",
    "    # Stack them together vertically to split data set\n",
    "    data_set = np.vstack((X.T,y)).T\n",
    "    \n",
    "    train, validation, test = np.split(data_set, [int(0.35*n_samples), int(0.7*n_samples)], axis=0)\n",
    "    \n",
    "    # Standardization of the data, remember we do the standardization with the training set mean and standard deviation\n",
    "    train_mu = np.mean(train, axis=0)\n",
    "    train_sigma = np.std(train, axis=0)\n",
    "    \n",
    "    train = (train-train_mu)/train_sigma\n",
    "    validation = (validation-train_mu)/train_sigma\n",
    "    test = (test-train_mu)/train_sigma\n",
    "    \n",
    "    x_train, x_validation, x_test = train[:,:-1], validation[:,:-1], test[:,:-1]\n",
    "    y_train, y_validation, y_test = train[:,-1], validation[:,-1], test[:,-1]\n",
    "\n",
    "    return x_train, y_train,  x_validation, y_validation, x_test, y_test"
   ]
  },
  {
   "cell_type": "code",
   "execution_count": 12,
   "metadata": {
    "id": "u1oDngHLapIz"
   },
   "outputs": [],
   "source": [
    "D1 = True\n",
    "x_train, y_train,  x_validation, y_validation, x_test, y_test = data_generator(noise=0.5, D1=D1)"
   ]
  },
  {
   "cell_type": "code",
   "execution_count": 13,
   "metadata": {
    "colab": {
     "base_uri": "https://localhost:8080/",
     "height": 265
    },
    "id": "Ysfa3FsBavlm",
    "outputId": "399e5382-ae7d-48f6-9774-7ea4c73e7d95"
   },
   "outputs": [
    {
     "data": {
      "image/png": "[encoded data removed]",
      "text/plain": [
       "<Figure size 432x288 with 1 Axes>"
      ]
     },
     "metadata": {
      "needs_background": "light"
     },
     "output_type": "display_data"
    }
   ],
   "source": [
    "if D1:\n",
    "    plt.scatter(x_train[:,0], y_train);\n",
    "    plt.scatter(x_validation[:,0], y_validation);\n",
    "    plt.scatter(x_test[:,0], y_test);\n",
    "else:\n",
    "    plt.scatter(x_train[:,1], y_train);\n",
    "    plt.scatter(x_validation[:,1], y_validation);\n",
    "    plt.scatter(x_test[:,1], y_test);\n",
    "plt.show()"
   ]
  },
  {
   "cell_type": "code",
   "execution_count": 14,
   "metadata": {
    "id": "zac2HHNlgbpm"
   },
   "outputs": [],
   "source": [
    "# convert from nparray to Var\n",
    "def nparray_to_Var(x):\n",
    "    if x.ndim==1:\n",
    "        y = [[Var(float(x[i]))] for i in range(x.shape[0])] # always work with list of list\n",
    "    else:\n",
    "        y = [[Var(float(x[i,j])) for j in range(x.shape[1])] for i in range(x.shape[0])]\n",
    "    return y\n",
    "   \n",
    "x_train = nparray_to_Var(x_train)\n",
    "y_train = nparray_to_Var(y_train)\n",
    "x_validation = nparray_to_Var(x_validation)\n",
    "y_validation = nparray_to_Var(y_validation)\n",
    "x_test = nparray_to_Var(x_test)\n",
    "y_test = nparray_to_Var(y_test)\n"
   ]
  },
  {
   "cell_type": "markdown",
   "metadata": {
    "id": "VbjrqcpVFtGe"
   },
   "source": [
    "# Defining and initializing the network\n",
    "\n",
    "The steps to create a feed forward neural network are the following:\n",
    "\n",
    "1. **Number of hidden layer and hidden units**. We have to define the number of hidden units in each layer. The number of features in X and the output dimensionality (the size of Y) are given but the numbers in between are set by the researcher. Remember that for each unit in each layer beside in the input has a bias term.\n",
    "2. **Activation functions** for each hidden layer. Each hidden layer in your list must have an activation function (it can also be the linear activation which is equivalent to identity function). The power of neural networks comes from non-linear activation functions that learn representations (features) from the data allowing us to learn from it. \n",
    "3. **Parameter initialization**. We will initialize the weights to have random values. This is done in practice by drawing pseudo random numbers from a Gaussian or uniform distribution. It turns out that for deeper models we have to be careful about how we scale the random numbers. This will be the topic of the exercise below. For now we will just use unit variance Gaussians.  \n",
    "\n",
    "In order to make life easier for ourselves we define a DenseLayer class that takes care of initialization and the forward pass. We can also extend it later with print and advanced initialization capabilities. For the latter we have introduced a Initializer class.\n",
    "\n",
    "Note that we use Sequence in the code below. A Sequence is an ordered list. This means the order we insert and access items are the same."
   ]
  },
  {
   "cell_type": "code",
   "execution_count": 15,
   "metadata": {
    "id": "ij_ieRsAt7Xt"
   },
   "outputs": [],
   "source": [
    "class Initializer:\n",
    "    def init_weights(self, n_in, n_out):\n",
    "        raise NotImplementedError\n",
    "\n",
    "    def init_bias(self, n_out):\n",
    "        raise NotImplementedError"
   ]
  },
  {
   "cell_type": "code",
   "execution_count": 16,
   "metadata": {
    "id": "eb18N5phuIha"
   },
   "outputs": [],
   "source": [
    "import random\n",
    "\n",
    "class NormalInitializer(Initializer):\n",
    "\n",
    "    def __init__(self, mean=0, std=0.1):\n",
    "        self.mean = mean\n",
    "        self.std = std\n",
    "\n",
    "    def init_weights(self, n_in, n_out):\n",
    "        return [[Var(random.gauss(self.mean, self.std)) for _ in range(n_out)] for _ in range(n_in)]\n",
    "\n",
    "    def init_bias(self, n_out):\n",
    "        return [Var(0.0) for _ in range(n_out)]\n",
    "\n",
    "class ConstantInitializer(Initializer):\n",
    "\n",
    "    def __init__(self, weight=1.0, bias=0.0):\n",
    "        self.weight = weight\n",
    "        self.bias = bias\n",
    "\n",
    "    def init_weights(self, n_in, n_out):\n",
    "        return [[Var(self.weight) for _ in range(n_out)] for _ in range(n_in)]\n",
    "\n",
    "    def init_bias(self, n_out):\n",
    "        return [Var(self.bias) for _ in range(n_out)]"
   ]
  },
  {
   "cell_type": "code",
   "execution_count": 17,
   "metadata": {
    "id": "jOLYGnZKuM6W"
   },
   "outputs": [],
   "source": [
    "from typing import Sequence\n",
    "\n",
    "class DenseLayer:\n",
    "    def __init__(self, n_in: int, n_out: int, act_fn, initializer = NormalInitializer()):\n",
    "        self.weights = initializer.init_weights(n_in, n_out)\n",
    "        self.bias = initializer.init_bias(n_out)\n",
    "        self.act_fn = act_fn\n",
    "    \n",
    "    def __repr__(self):    \n",
    "        return 'Weights: ' + repr(self.weights) + ' Biases: ' + repr(self.bias)\n",
    "\n",
    "    def parameters(self) -> Sequence[Var]:\n",
    "        params = []\n",
    "        for r in self.weights:\n",
    "            params += r\n",
    "\n",
    "        return params + self.bias\n",
    "\n",
    "    def forward(self, single_input: Sequence[Var]) -> Sequence[Var]:\n",
    "        # self.weights is a matrix with dimension n_in x n_out. We check that the dimensionality of the input \n",
    "        # to the current layer matches the number of nodes in the current layer\n",
    "        assert len(self.weights) == len(single_input), \"weights and single_input must match in first dimension\"\n",
    "        weights = self.weights\n",
    "        out = []\n",
    "        # For some given data point single_input, we now want to calculate the resulting value in each node in the current layer\n",
    "        # We therefore loop over the (number of) nodes in the current layer:\n",
    "        for j in range(len(weights[0])): \n",
    "            # Initialize the node value depending on its corresponding parameters.\n",
    "            node = self.parameters()[j] # <- Insert code\n",
    "            # We now finish the linear transformation corresponding to the parameters of the currently considered node.\n",
    "            for i in range(len(single_input)):\n",
    "                node += single_input[i] * weights[0][j]  # <- Insert code\n",
    "            node = self.act_fn(node)\n",
    "            out.append(node)\n",
    "\n",
    "        return out"
   ]
  },
  {
   "cell_type": "markdown",
   "metadata": {
    "id": "jpIZPBpNI0pO"
   },
   "source": [
    "## Exercise f) Add more activation functions\n",
    "\n",
    "To have a full definition of the neural network, we must define an activation function for every layer. Several activation functions have been proposed and have different characteristics. In the Var class we have already defined the rectified linear init (relu). \n",
    " \n",
    "Implement the following activation functions in the Var class:\n",
    "\n",
    "* Identity: $$\\mathrm{identity}(x) = x$$\n",
    "* Hyperbolic tangent: $$\\tanh(x)$$\n",
    "* Sigmoid (or logistic function): $$\\mathrm{sigmoid}(x) = \\frac{1}{1.0 + \\exp(-x ) }$$  Hint: $\\mathrm{sigmoid}'(x)= \\mathrm{sigmoid}(x)(1-\\mathrm{sigmoid}(x))$.  \n",
    "\n",
    "Hint: You can seek inspiration in the relu method in the Var class."
   ]
  },
  {
   "cell_type": "markdown",
   "metadata": {
    "tags": []
   },
   "source": [
    "### Answer suggestion"
   ]
  },
  {
   "cell_type": "code",
   "execution_count": 18,
   "metadata": {},
   "outputs": [],
   "source": [
    "import math\n",
    "\n",
    "def relu(self):\n",
    "    return Var(self.v if self.v > 0.0 else 0.0, lambda: [(self, 1.0 if self.v > 0.0 else 0.0)])\n",
    "\n",
    "def identity(self):\n",
    "    return self\n",
    "\n",
    "def tanh(self):\n",
    "    return Var(1 - 2/(math.exp(2*self.v)+1), lambda: [(self, 1.0)])\n",
    "\n",
    "def sigmoid(self):\n",
    "    return Var(1/(1+math.exp(-self.v)), lambda: [(self, 1.0)])\n",
    "\n",
    "Var.identity = identity\n",
    "Var.tanh = tanh\n",
    "Var.sigmoid = sigmoid"
   ]
  },
  {
   "cell_type": "markdown",
   "metadata": {
    "id": "p_8n_SKnIW2F"
   },
   "source": [
    "## Exercise g) Complete the forward pass\n",
    "\n",
    "In the code below we initialize a 1-5-1 network and pass the training set through it. *The forward method in DenseLayer is **not** complete*. It just outputs zeros right now. The method forward should perform an [affine transformation](https://en.wikipedia.org/wiki/Affine_transformation) on the input followed by an application of the activation function."
   ]
  },
  {
   "cell_type": "code",
   "execution_count": 19,
   "metadata": {
    "colab": {
     "base_uri": "https://localhost:8080/",
     "height": 337
    },
    "id": "xDEjtePxE7Mv",
    "outputId": "753406cd-d8a1-4282-ce03-25ad959b0e11"
   },
   "outputs": [
    {
     "name": "stdout",
     "output_type": "stream",
     "text": [
      "[[Var(v=0.0620, grad=0.0000)], [Var(v=0.0667, grad=0.0000)], [Var(v=0.0581, grad=0.0000)], [Var(v=0.0548, grad=0.0000)], [Var(v=0.0642, grad=0.0000)], [Var(v=0.0637, grad=0.0000)], [Var(v=0.0614, grad=0.0000)], [Var(v=0.0549, grad=0.0000)], [Var(v=0.0551, grad=0.0000)], [Var(v=0.0599, grad=0.0000)], [Var(v=0.0645, grad=0.0000)], [Var(v=0.0510, grad=0.0000)], [Var(v=0.0631, grad=0.0000)], [Var(v=0.0516, grad=0.0000)], [Var(v=0.0604, grad=0.0000)], [Var(v=0.0633, grad=0.0000)], [Var(v=0.0684, grad=0.0000)], [Var(v=0.0626, grad=0.0000)], [Var(v=0.0578, grad=0.0000)], [Var(v=0.0591, grad=0.0000)], [Var(v=0.0526, grad=0.0000)], [Var(v=0.0552, grad=0.0000)], [Var(v=0.0654, grad=0.0000)], [Var(v=0.0655, grad=0.0000)], [Var(v=0.0545, grad=0.0000)], [Var(v=0.0519, grad=0.0000)], [Var(v=0.0678, grad=0.0000)], [Var(v=0.0689, grad=0.0000)], [Var(v=0.0585, grad=0.0000)], [Var(v=0.0646, grad=0.0000)], [Var(v=0.0541, grad=0.0000)], [Var(v=0.0590, grad=0.0000)], [Var(v=0.0527, grad=0.0000)], [Var(v=0.0534, grad=0.0000)], [Var(v=0.0629, grad=0.0000)], [Var(v=0.0557, grad=0.0000)], [Var(v=0.0549, grad=0.0000)], [Var(v=0.0535, grad=0.0000)], [Var(v=0.0515, grad=0.0000)], [Var(v=0.0522, grad=0.0000)], [Var(v=0.0537, grad=0.0000)], [Var(v=0.0524, grad=0.0000)], [Var(v=0.0682, grad=0.0000)], [Var(v=0.0512, grad=0.0000)], [Var(v=0.0525, grad=0.0000)], [Var(v=0.0515, grad=0.0000)], [Var(v=0.0643, grad=0.0000)], [Var(v=0.0639, grad=0.0000)], [Var(v=0.0551, grad=0.0000)], [Var(v=0.0641, grad=0.0000)], [Var(v=0.0602, grad=0.0000)], [Var(v=0.0575, grad=0.0000)], [Var(v=0.0647, grad=0.0000)], [Var(v=0.0524, grad=0.0000)], [Var(v=0.0690, grad=0.0000)], [Var(v=0.0676, grad=0.0000)], [Var(v=0.0540, grad=0.0000)], [Var(v=0.0536, grad=0.0000)], [Var(v=0.0611, grad=0.0000)], [Var(v=0.0534, grad=0.0000)], [Var(v=0.0641, grad=0.0000)], [Var(v=0.0512, grad=0.0000)], [Var(v=0.0550, grad=0.0000)], [Var(v=0.0606, grad=0.0000)], [Var(v=0.0597, grad=0.0000)], [Var(v=0.0529, grad=0.0000)], [Var(v=0.0536, grad=0.0000)], [Var(v=0.0660, grad=0.0000)], [Var(v=0.0509, grad=0.0000)], [Var(v=0.0607, grad=0.0000)], [Var(v=0.0548, grad=0.0000)], [Var(v=0.0562, grad=0.0000)], [Var(v=0.0640, grad=0.0000)], [Var(v=0.0612, grad=0.0000)], [Var(v=0.0564, grad=0.0000)], [Var(v=0.0679, grad=0.0000)], [Var(v=0.0529, grad=0.0000)], [Var(v=0.0530, grad=0.0000)], [Var(v=0.0517, grad=0.0000)], [Var(v=0.0684, grad=0.0000)], [Var(v=0.0590, grad=0.0000)], [Var(v=0.0583, grad=0.0000)], [Var(v=0.0539, grad=0.0000)], [Var(v=0.0560, grad=0.0000)], [Var(v=0.0527, grad=0.0000)], [Var(v=0.0553, grad=0.0000)], [Var(v=0.0556, grad=0.0000)], [Var(v=0.0521, grad=0.0000)], [Var(v=0.0542, grad=0.0000)], [Var(v=0.0547, grad=0.0000)], [Var(v=0.0613, grad=0.0000)], [Var(v=0.0543, grad=0.0000)], [Var(v=0.0518, grad=0.0000)], [Var(v=0.0635, grad=0.0000)], [Var(v=0.0523, grad=0.0000)], [Var(v=0.0541, grad=0.0000)], [Var(v=0.0602, grad=0.0000)], [Var(v=0.0578, grad=0.0000)], [Var(v=0.0673, grad=0.0000)], [Var(v=0.0518, grad=0.0000)], [Var(v=0.0638, grad=0.0000)], [Var(v=0.0519, grad=0.0000)], [Var(v=0.0528, grad=0.0000)], [Var(v=0.0605, grad=0.0000)], [Var(v=0.0666, grad=0.0000)]]\n"
     ]
    }
   ],
   "source": [
    "NN = [\n",
    "    DenseLayer(1, 5, lambda x: x.relu()),\n",
    "    DenseLayer(5, 1, lambda x: x.identity())\n",
    "]\n",
    "\n",
    "def forward(input, network):\n",
    "\n",
    "    def forward_single(x, network):\n",
    "        for layer in network:\n",
    "            x = layer.forward(x)\n",
    "        return x\n",
    "\n",
    "    output = [ forward_single(input[n], network) for n in range(len(input))]\n",
    "    return output\n",
    "print(forward(x_train, NN))"
   ]
  },
  {
   "cell_type": "markdown",
   "metadata": {
    "id": "oLrGJytZFtGm"
   },
   "source": [
    "## Exercise h) Print all network parameters\n",
    "\n",
    "Make a function that prints all the parameters of the network (weights and biases) with information about in which layer the appear. In the object oriented spirit you should introduce a method in the DenseLayer class to print the parameters of a layer. Hint: You can take inspiration from the corresponding method in Var. "
   ]
  },
  {
   "cell_type": "code",
   "execution_count": 20,
   "metadata": {
    "id": "iac-VwYGFtGm"
   },
   "outputs": [
    {
     "name": "stdout",
     "output_type": "stream",
     "text": [
      "weights\n",
      "[[Var(v=0.1279, grad=0.0000), Var(v=-0.0425, grad=0.0000), Var(v=-0.0655, grad=0.0000), Var(v=-0.0085, grad=0.0000), Var(v=-0.0335, grad=0.0000)]]\n",
      "bias\n",
      "[Var(v=0.0000, grad=0.0000), Var(v=0.0000, grad=0.0000), Var(v=0.0000, grad=0.0000), Var(v=0.0000, grad=0.0000), Var(v=0.0000, grad=0.0000)]\n",
      "weights\n",
      "[[Var(v=0.0508, grad=0.0000)], [Var(v=0.0177, grad=0.0000)], [Var(v=-0.1827, grad=0.0000)], [Var(v=0.1423, grad=0.0000)], [Var(v=0.0433, grad=0.0000)]]\n",
      "bias\n",
      "[Var(v=0.0000, grad=0.0000)]\n"
     ]
    }
   ],
   "source": [
    "# Insert code here and in the DenseLayer class\n",
    "def get_params(self):\n",
    "    print('weights')\n",
    "    print(self.weights)\n",
    "    print('bias')\n",
    "    print(self.bias)\n",
    "\n",
    "DenseLayer.get_params = get_params\n",
    "\n",
    "for layer in NN:\n",
    "    layer.get_params()"
   ]
  },
  {
   "cell_type": "markdown",
   "metadata": {
    "id": "_79HOAXrFtHK"
   },
   "source": [
    "## Visualization\n",
    "\n",
    "Now that we have defined our activation functions we can visualize them to see what they look like:"
   ]
  },
  {
   "cell_type": "code",
   "execution_count": 21,
   "metadata": {
    "id": "1FcylHqLTl-Z"
   },
   "outputs": [
    {
     "data": {
      "text/plain": [
       "[<matplotlib.lines.Line2D at 0x110a6e5e0>]"
      ]
     },
     "execution_count": 21,
     "metadata": {},
     "output_type": "execute_result"
    },
    {
     "data": {
      "image/png": "[encoded data removed]",
      "text/plain": [
       "<Figure size 432x288 with 1 Axes>"
      ]
     },
     "metadata": {
      "needs_background": "light"
     },
     "output_type": "display_data"
    }
   ],
   "source": [
    "x = np.linspace(-6, 6, 100)\n",
    "\n",
    "# convert from Var to ndarray  \n",
    "def Var_to_nparray(x):\n",
    "    y = np.zeros((len(x),len(x[0])))\n",
    "    for i in range(len(x)):\n",
    "        for j in range(len(x[0])):\n",
    "            y[i,j] = x[i][j].v\n",
    "    return y\n",
    "\n",
    "# define 1-1 network with weight = 1 and relu activation \n",
    "NN = [ DenseLayer(1, 1, lambda x: x.relu(), initializer = ConstantInitializer(1.0)) ] \n",
    "y = Var_to_nparray(forward(nparray_to_Var(x), NN))\n",
    "\n",
    "#y = Var_to_nparray(relu(nparray_to_Var(x)))\n",
    "plt.plot(x,y)"
   ]
  },
  {
   "cell_type": "code",
   "execution_count": 22,
   "metadata": {
    "id": "oOL2UolJFtHL"
   },
   "outputs": [
    {
     "data": {
      "image/png": "[encoded data removed]",
      "text/plain": [
       "<Figure size 360x360 with 1 Axes>"
      ]
     },
     "metadata": {
      "needs_background": "light"
     },
     "output_type": "display_data"
    }
   ],
   "source": [
    "# Testing all activation layers\n",
    "\n",
    "x = np.linspace(-6, 6, 100)\n",
    "units = {\n",
    "    \"identity\": lambda x: x.identity(),\n",
    "    \"sigmoid\": lambda x: x.sigmoid(),\n",
    "    \"relu\": lambda x: x.relu(),\n",
    "    \"tanh\": lambda x: x.tanh()\n",
    "}\n",
    "\n",
    "plt.figure(figsize=(5, 5))\n",
    "[plt.plot(x, Var_to_nparray(forward(nparray_to_Var(x), [DenseLayer(1, 1, unit, initializer = ConstantInitializer(1.0))]) ), label=unit_name, lw=2) for unit_name, unit in units.items()] # unit(nparray_to_Var(x))), label=unit_name, lw=2) for unit_name, unit in units.items()]\n",
    "plt.legend(loc=2, fontsize=16)\n",
    "plt.title('Our activation functions', fontsize=20)\n",
    "plt.ylim([-2, 5])\n",
    "plt.xlim([-6, 6])\n",
    "plt.show()"
   ]
  },
  {
   "cell_type": "markdown",
   "metadata": {
    "id": "b-jdEl-7FtGs"
   },
   "source": [
    "# Advanced initialization schemes\n",
    "\n",
    "If we are not careful with initialization, the signals we propagate forward ($a^{(l)}$, $l=1,\\ldots,L$) and backward ($\\delta^l$, $l=L,L-1,\\ldots,1$) can blow up or shrink to zero. A statistical analysis of the variance of the signals for different activation functions can be found in these two papers: [Glorot initialization](http://proceedings.mlr.press/v9/glorot10a/glorot10a.pdf) and [He initialization](https://arxiv.org/pdf/1502.01852v1.pdf). \n",
    "\n",
    "The result of the analyses are proposals for how to make the initialization such that the variance of the signals (forward and backward) are kept approxmimatly constant when propagating from layer to layer. The exact expressions depend upon the non-linear activation function used. In Glorot initialization, the aim is to keep both the forward and backward variances constant whereas He only aims at keeping the variance in the forward pass constant.\n",
    "\n",
    "We define $n_{in}$ and $n_{out}$ as the number of input units and output units of a particular layer. \n",
    "\n",
    "The Glorot initialization has the form: \n",
    "\n",
    "$$w_{ij} \\sim N \\bigg( 0, \\, \\frac{2 \\alpha }{n_{in} + n_{out}} \\bigg) \\ . $$\n",
    "\n",
    "where $N(\\mu,\\sigma^2)$ is a Gaussian distribution with mean $\\mu$ and variance $\\sigma^2$ and $\\alpha$ is a parameter that depends upon the activation function used. For $\\tanh$, $\\alpha=1$ and for Rectified Linear Unit (ReLU) activations, $\\alpha=2$. (It is also possible to use a uniform distribution for initialization, see [this blog post](https://mmuratarat.github.io/2019-02-25/xavier-glorot-he-weight-init).) \n",
    "\n",
    "The He initialization is very similar\n",
    "\n",
    "$$w_{ij} \\sim N \\bigg( 0, \\, \\frac{\\alpha}{n_{in}} \\bigg) \\ . $$"
   ]
  },
  {
   "cell_type": "markdown",
   "metadata": {
    "id": "mqeyab9qFtGs"
   },
   "source": [
    "## Exercise i) Glorot and He initialization\n",
    " \n",
    "Using the Initializer class, implement functions that implement Glorot and He \n",
    "\n",
    "Explain briefly how you would test numerically that these initializations have the sought after property. Hint: See plots in Glorot paper.\n",
    "\n",
    "Comment: If you want to be more advanced then try to make a universal initializer taking both the activation function and type (Glorot or He) as argument."
   ]
  },
  {
   "cell_type": "code",
   "execution_count": 23,
   "metadata": {
    "id": "Qyk01CgaFtGt"
   },
   "outputs": [],
   "source": [
    "## Glorot\n",
    "class DenseLayer_Glorot_tanh(Initializer):\n",
    "    def __init__(self, n_in, n_out, alpha=2):\n",
    "        self.n_in = n_in\n",
    "        self.n_out = n_out\n",
    "    \n",
    "    def init_weights(self, n_in, n_out, alpha=2):\n",
    "        return [[Var(random.gauss(0, 4/(n_in + n_out))) for _ in range(n_out)] for _ in range(n_in)]\n",
    "    \n",
    "    def init_bias(self, n_out):\n",
    "        return [Var(0.0) for _ in range(n_out)]\n",
    "\n",
    "## He\n",
    "class DenseLayer_Glorot_tanh(Initializer):\n",
    "    def __init__(self, n_in, n_out, alpha=2):\n",
    "        self.n_in = n_in\n",
    "        self.n_out = n_out\n",
    "    \n",
    "    def init_weights(self, n_in, n_out, alpha=2):\n",
    "        return [[Var(random.gauss(0, 4/(n_in))) for _ in range(n_out)] for _ in range(n_in)]\n",
    "    \n",
    "    def init_bias(self, n_out):\n",
    "        return [Var(0.0) for _ in range(n_out)]"
   ]
  },
  {
   "cell_type": "markdown",
   "metadata": {
    "id": "-XyXBD37FtHk"
   },
   "source": [
    "## Exercise j) Forward pass unit test\n",
    "\n",
    "Write a bit of code to make a unit test that the forward pass works. This can be done by defining a simple network with for example all weights equal to one (using the ConstantInitializer method) and identity activation functions. \n",
    "\n",
    "Hints: Use the [assert](https://www.w3schools.com/python/ref_keyword_assert.asp), the nparray_to_Var and the Var_to_nparray commands. "
   ]
  },
  {
   "cell_type": "code",
   "execution_count": 24,
   "metadata": {
    "id": "k0miqRUAFtHl"
   },
   "outputs": [
    {
     "name": "stdout",
     "output_type": "stream",
     "text": [
      "[[Var(v=2.0000, grad=0.0000), Var(v=2.0000, grad=0.0000), Var(v=2.0000, grad=0.0000), Var(v=2.0000, grad=0.0000), Var(v=2.0000, grad=0.0000)], [Var(v=2.0000, grad=0.0000), Var(v=2.0000, grad=0.0000), Var(v=2.0000, grad=0.0000), Var(v=2.0000, grad=0.0000), Var(v=2.0000, grad=0.0000)], [Var(v=2.0000, grad=0.0000), Var(v=2.0000, grad=0.0000), Var(v=2.0000, grad=0.0000), Var(v=2.0000, grad=0.0000), Var(v=2.0000, grad=0.0000)], [Var(v=2.0000, grad=0.0000), Var(v=2.0000, grad=0.0000), Var(v=2.0000, grad=0.0000), Var(v=2.0000, grad=0.0000), Var(v=2.0000, grad=0.0000)], [Var(v=2.0000, grad=0.0000), Var(v=2.0000, grad=0.0000), Var(v=2.0000, grad=0.0000), Var(v=2.0000, grad=0.0000), Var(v=2.0000, grad=0.0000)]]\n",
      "\n",
      "weights\n",
      "[[Var(v=1.0000, grad=0.0000), Var(v=1.0000, grad=0.0000), Var(v=1.0000, grad=0.0000), Var(v=1.0000, grad=0.0000), Var(v=1.0000, grad=0.0000)]]\n",
      "bias\n",
      "[Var(v=0.0000, grad=0.0000), Var(v=0.0000, grad=0.0000), Var(v=0.0000, grad=0.0000), Var(v=0.0000, grad=0.0000), Var(v=0.0000, grad=0.0000)]\n"
     ]
    }
   ],
   "source": [
    "# Insert code here\n",
    "NN = [\n",
    "    DenseLayer(1,5, lambda x: x.identity(), initializer=ConstantInitializer(1.0))\n",
    "]\n",
    "\n",
    "x = np.array([1,1,1,1,1])\n",
    "x_train_ = nparray_to_Var(x)\n",
    "\n",
    "def forward(input, network):\n",
    "\n",
    "    def forward_single(x, network):\n",
    "        for layer in network:\n",
    "            x = layer.forward(x)\n",
    "        return x\n",
    "\n",
    "    output = [ forward_single(input[n], network) for n in range(len(input))]\n",
    "    return output\n",
    "\n",
    "print(forward(x_train_, NN))\n",
    "\n",
    "print('')\n",
    "for layer in NN:\n",
    "    layer.get_params()"
   ]
  },
  {
   "cell_type": "markdown",
   "metadata": {
    "id": "faCxhfFnFtHp"
   },
   "source": [
    "# Loss functions\n",
    "\n",
    "We are only missing a loss function to we need to define a loss function and its derivative with respect to the output of the neural network $y$"
   ]
  },
  {
   "cell_type": "code",
   "execution_count": 25,
   "metadata": {
    "id": "I2eDYKvAFtHq"
   },
   "outputs": [],
   "source": [
    "def squared_loss(t, y):\n",
    "    # add check that sizes agree\n",
    "    def squared_loss_single(t, y):\n",
    "        Loss = Var(0.0)\n",
    "        for i in range(len(t)): # sum over outputs\n",
    "            Loss += (t[i]-y[i]) ** 2\n",
    "        return Loss\n",
    "\n",
    "    Loss = Var(0.0)\n",
    "    for n in range(len(t)): # sum over training data\n",
    "        Loss += squared_loss_single(t[n],y[n])\n",
    "    return Loss"
   ]
  },
  {
   "cell_type": "markdown",
   "metadata": {
    "id": "SrwSJ2UWFtHu"
   },
   "source": [
    "## Exercise k) Implement cross entropy loss\n",
    "\n",
    "Insert code below to implement cross-entropy loss for general dimensionality of $t$. Use a logits formulation:\n",
    "$$\n",
    "\\rm{Loss} = - \\sum_i t_i \\, log \\, p_i \n",
    "$$\n",
    "with $p$ given by the the softmax function in terms of the logits $h$:\n",
    "$$\n",
    "p_i = \\frac{\\exp(h_i)}{\\sum_{i'} \\exp(h_{i'})} .\n",
    "$$\n",
    "Inserting $p$ in the expression for the loss gives\n",
    "$$\n",
    "\\rm{Loss} = - \\sum_i t_i h_i + \\rm{LogSumExp}(h) \\ ,\n",
    "$$\n",
    "where \n",
    "$$\n",
    "\\rm{LogSumExp}(h) = \\log \\sum_i \\exp h_i \\ .\n",
    "$$\n",
    "This is true for $t$ being a one-hot vector. \n",
    "\n",
    "Call the function to convince yourself it works. \n",
    "\n",
    "In practice you want to implement a [numerically stable](https://leimao.github.io/blog/LogSumExp/) version of LogSumExp. But we will not bother about that here.\n",
    "\n",
    "Help: You can add these methods in the Var class:\n",
    "\n",
    "    def exp(self):\n",
    "        return Var(exp(self.v), lambda: [(self, exp(self.v))])\n",
    "    \n",
    "    def log(self):\n",
    "        return Var(log(self.v), lambda: [(self, self.v ** -1)])"
   ]
  },
  {
   "cell_type": "code",
   "execution_count": 26,
   "metadata": {
    "id": "6nMuxyfzFtHv"
   },
   "outputs": [],
   "source": [
    "def cross_entropy_loss(t, h):\n",
    "     \n",
    "    Loss = Var(0.0)\n",
    "    # Insert code here\n",
    "    return Loss"
   ]
  },
  {
   "cell_type": "markdown",
   "metadata": {
    "id": "8fAF5ew4FtHy"
   },
   "source": [
    "# Backward pass\n",
    "\n",
    "Now the magic happens! We get the calculation of the gradients for free. Just do:"
   ]
  },
  {
   "cell_type": "code",
   "execution_count": 27,
   "metadata": {
    "id": "iHyfPPI9Qqwu"
   },
   "outputs": [],
   "source": [
    "NN = [\n",
    "    DenseLayer(1, 5, lambda x: x.relu()),\n",
    "    DenseLayer(5, 1, lambda x: x.identity()) # identity\n",
    "]\n",
    "\n",
    "output = forward(x_train, NN)\n",
    "\n",
    "Loss = squared_loss(y_train,output)\n",
    "Loss.backward()"
   ]
  },
  {
   "cell_type": "markdown",
   "metadata": {
    "id": "49biIAYKQ1oG"
   },
   "source": [
    "and the gradients will be calculated:"
   ]
  },
  {
   "cell_type": "code",
   "execution_count": 28,
   "metadata": {
    "id": "_rGt1bq_Q7uk"
   },
   "outputs": [
    {
     "name": "stdout",
     "output_type": "stream",
     "text": [
      "Layer 0 \n",
      " Weights: [[Var(v=0.0380, grad=20.2474), Var(v=0.0638, grad=20.2474), Var(v=0.1226, grad=20.2474), Var(v=0.1235, grad=20.2474), Var(v=-0.1369, grad=1.8221)]] Biases: [Var(v=0.0000, grad=0.0000), Var(v=0.0000, grad=0.0000), Var(v=0.0000, grad=0.0000), Var(v=0.0000, grad=0.0000), Var(v=0.0000, grad=0.0000)]\n",
      "Layer 1 \n",
      " Weights: [[Var(v=-0.0954, grad=-98.8722)], [Var(v=-0.0440, grad=0.0000)], [Var(v=-0.0515, grad=0.0000)], [Var(v=-0.1341, grad=0.0000)], [Var(v=-0.1086, grad=0.0000)]] Biases: [Var(v=0.0000, grad=0.0000)]\n"
     ]
    },
    {
     "data": {
      "text/plain": [
       "[None, None]"
      ]
     },
     "execution_count": 28,
     "metadata": {},
     "output_type": "execute_result"
    }
   ],
   "source": [
    "[print('Layer', i, '\\n', NN[i]) for i in range(len(NN))] "
   ]
  },
  {
   "cell_type": "markdown",
   "metadata": {
    "id": "D7d7qK0uFtH9"
   },
   "source": [
    "# Backward pass unit test\n",
    "\n",
    "Above we used finite differences to test that Nanograd is actually doing what it is supposed to do. We can in principle try the same for the neural network. But we will trust that the test above is enough."
   ]
  },
  {
   "cell_type": "markdown",
   "metadata": {
    "id": "WgBi8GOSFtIN"
   },
   "source": [
    "# Training and validation\n",
    "\n",
    "We are ready to train some neural networks!\n",
    "\n",
    "We initialize again:"
   ]
  },
  {
   "cell_type": "code",
   "execution_count": 29,
   "metadata": {
    "id": "01ePmzBzRtdh"
   },
   "outputs": [],
   "source": [
    "NN = [\n",
    "    DenseLayer(1, 15, lambda x: x.relu()),\n",
    "    DenseLayer(15, 50, lambda x: x.relu()),\n",
    "    DenseLayer(50, 1, lambda x: x.identity()) # identity\n",
    "]\n",
    "\n",
    "output = forward(x_train, NN)\n",
    "\n",
    "Loss = squared_loss(y_train,output)\n",
    "Loss.backward()"
   ]
  },
  {
   "cell_type": "markdown",
   "metadata": {
    "id": "10iRPiQ1ISHw"
   },
   "source": [
    "and make an update:\n",
    "\n",
    "We introduce a help function parameters to have a handle in all parameters in the network."
   ]
  },
  {
   "cell_type": "code",
   "execution_count": 30,
   "metadata": {
    "id": "dhAI7eyeznia",
    "tags": []
   },
   "outputs": [
    {
     "name": "stdout",
     "output_type": "stream",
     "text": [
      "Network before update:\n",
      "Layer 0 \n",
      " Weights: [[Var(v=-0.0573, grad=-5.4408), Var(v=-0.0936, grad=-5.4408), Var(v=0.0398, grad=-7.9029), Var(v=0.0755, grad=-7.9029), Var(v=-0.0053, grad=-5.4408), Var(v=0.0539, grad=-7.9029), Var(v=0.1546, grad=-7.9029), Var(v=0.1682, grad=-7.9029), Var(v=-0.0580, grad=-5.4408), Var(v=0.0280, grad=-7.9029), Var(v=0.1328, grad=-7.9029), Var(v=-0.0421, grad=-5.4408), Var(v=0.0863, grad=-7.9029), Var(v=0.0030, grad=-7.9029), Var(v=-0.0573, grad=-5.4408)]] Biases: [Var(v=0.0000, grad=0.0000), Var(v=0.0000, grad=0.0000), Var(v=0.0000, grad=0.0000), Var(v=0.0000, grad=0.0000), Var(v=0.0000, grad=0.0000), Var(v=0.0000, grad=0.0000), Var(v=0.0000, grad=0.0000), Var(v=0.0000, grad=0.0000), Var(v=0.0000, grad=0.0000), Var(v=0.0000, grad=0.0000), Var(v=0.0000, grad=0.0000), Var(v=0.0000, grad=0.0000), Var(v=0.0000, grad=0.0000), Var(v=0.0000, grad=0.0000), Var(v=0.0000, grad=0.0000)]\n",
      "Layer 1 \n",
      " Weights: [[Var(v=0.0782, grad=10.2816), Var(v=0.0218, grad=10.2816), Var(v=-0.0291, grad=0.0000), Var(v=-0.0274, grad=0.0000), Var(v=0.1296, grad=10.2816), Var(v=0.0380, grad=10.2816), Var(v=0.0541, grad=10.2816), Var(v=0.1570, grad=10.2816), Var(v=0.0610, grad=10.2816), Var(v=0.0469, grad=10.2816), Var(v=0.0698, grad=10.2816), Var(v=-0.0721, grad=0.0000), Var(v=0.0259, grad=10.2816), Var(v=-0.0246, grad=0.0000), Var(v=-0.1104, grad=0.0000), Var(v=0.0681, grad=10.2816), Var(v=0.1958, grad=10.2816), Var(v=0.0564, grad=10.2816), Var(v=-0.0485, grad=0.0000), Var(v=-0.0726, grad=0.0000), Var(v=-0.1896, grad=0.0000), Var(v=-0.0328, grad=0.0000), Var(v=0.0254, grad=10.2816), Var(v=0.0058, grad=10.2816), Var(v=-0.0506, grad=0.0000), Var(v=-0.0135, grad=0.0000), Var(v=0.1725, grad=10.2816), Var(v=-0.0064, grad=0.0000), Var(v=-0.0522, grad=0.0000), Var(v=0.0451, grad=10.2816), Var(v=0.0801, grad=10.2816), Var(v=-0.0168, grad=0.0000), Var(v=0.0358, grad=10.2816), Var(v=0.1023, grad=10.2816), Var(v=-0.1736, grad=0.0000), Var(v=0.0358, grad=10.2816), Var(v=0.0297, grad=10.2816), Var(v=-0.1591, grad=0.0000), Var(v=-0.1195, grad=0.0000), Var(v=0.1455, grad=10.2816), Var(v=-0.0279, grad=0.0000), Var(v=-0.1020, grad=0.0000), Var(v=-0.0050, grad=0.0000), Var(v=-0.0315, grad=0.0000), Var(v=-0.0740, grad=0.0000), Var(v=-0.0217, grad=0.0000), Var(v=0.0008, grad=10.2816), Var(v=-0.0106, grad=0.0000), Var(v=0.1295, grad=10.2816), Var(v=-0.1335, grad=0.0000)], [Var(v=-0.0280, grad=0.0000), Var(v=0.2105, grad=0.0000), Var(v=-0.0859, grad=0.0000), Var(v=0.0430, grad=0.0000), Var(v=0.0422, grad=0.0000), Var(v=-0.0653, grad=0.0000), Var(v=0.1955, grad=0.0000), Var(v=-0.2217, grad=0.0000), Var(v=0.0418, grad=0.0000), Var(v=-0.0536, grad=0.0000), Var(v=-0.2416, grad=0.0000), Var(v=0.1587, grad=0.0000), Var(v=0.2336, grad=0.0000), Var(v=-0.0398, grad=0.0000), Var(v=-0.1858, grad=0.0000), Var(v=-0.0185, grad=0.0000), Var(v=0.0897, grad=0.0000), Var(v=-0.0018, grad=0.0000), Var(v=-0.1277, grad=0.0000), Var(v=0.1195, grad=0.0000), Var(v=0.0419, grad=0.0000), Var(v=0.0276, grad=0.0000), Var(v=0.1041, grad=0.0000), Var(v=-0.0629, grad=0.0000), Var(v=-0.0304, grad=0.0000), Var(v=0.1064, grad=0.0000), Var(v=0.1086, grad=0.0000), Var(v=0.0832, grad=0.0000), Var(v=-0.0126, grad=0.0000), Var(v=-0.1861, grad=0.0000), Var(v=-0.0023, grad=0.0000), Var(v=-0.0177, grad=0.0000), Var(v=-0.0561, grad=0.0000), Var(v=0.0937, grad=0.0000), Var(v=-0.2188, grad=0.0000), Var(v=0.1159, grad=0.0000), Var(v=-0.1135, grad=0.0000), Var(v=0.0454, grad=0.0000), Var(v=0.0124, grad=0.0000), Var(v=-0.1677, grad=0.0000), Var(v=-0.1014, grad=0.0000), Var(v=-0.0596, grad=0.0000), Var(v=0.0626, grad=0.0000), Var(v=-0.1280, grad=0.0000), Var(v=-0.0244, grad=0.0000), Var(v=-0.0416, grad=0.0000), Var(v=-0.0511, grad=0.0000), Var(v=0.0007, grad=0.0000), Var(v=-0.0460, grad=0.0000), Var(v=0.0863, grad=0.0000)], [Var(v=-0.1234, grad=0.0000), Var(v=0.0391, grad=0.0000), Var(v=-0.0708, grad=0.0000), Var(v=0.0640, grad=0.0000), Var(v=-0.0790, grad=0.0000), Var(v=-0.0678, grad=0.0000), Var(v=-0.0249, grad=0.0000), Var(v=-0.0263, grad=0.0000), Var(v=0.0372, grad=0.0000), Var(v=0.0088, grad=0.0000), Var(v=-0.1351, grad=0.0000), Var(v=0.1972, grad=0.0000), Var(v=-0.2591, grad=0.0000), Var(v=0.1303, grad=0.0000), Var(v=0.0125, grad=0.0000), Var(v=0.0038, grad=0.0000), Var(v=0.0370, grad=0.0000), Var(v=0.0444, grad=0.0000), Var(v=0.1684, grad=0.0000), Var(v=0.1105, grad=0.0000), Var(v=-0.0130, grad=0.0000), Var(v=-0.0522, grad=0.0000), Var(v=-0.0012, grad=0.0000), Var(v=-0.1538, grad=0.0000), Var(v=0.0756, grad=0.0000), Var(v=-0.0295, grad=0.0000), Var(v=0.1108, grad=0.0000), Var(v=0.0397, grad=0.0000), Var(v=-0.0524, grad=0.0000), Var(v=0.0212, grad=0.0000), Var(v=0.1012, grad=0.0000), Var(v=0.1443, grad=0.0000), Var(v=-0.0869, grad=0.0000), Var(v=0.0976, grad=0.0000), Var(v=-0.0400, grad=0.0000), Var(v=-0.0760, grad=0.0000), Var(v=0.0280, grad=0.0000), Var(v=0.2216, grad=0.0000), Var(v=0.0014, grad=0.0000), Var(v=-0.0465, grad=0.0000), Var(v=0.0411, grad=0.0000), Var(v=-0.0514, grad=0.0000), Var(v=-0.1270, grad=0.0000), Var(v=-0.0001, grad=0.0000), Var(v=-0.0644, grad=0.0000), Var(v=-0.0402, grad=0.0000), Var(v=-0.1421, grad=0.0000), Var(v=-0.0635, grad=0.0000), Var(v=0.0211, grad=0.0000), Var(v=-0.2321, grad=0.0000)], [Var(v=-0.1263, grad=0.0000), Var(v=0.0390, grad=0.0000), Var(v=0.0105, grad=0.0000), Var(v=0.0497, grad=0.0000), Var(v=-0.1610, grad=0.0000), Var(v=0.0405, grad=0.0000), Var(v=0.0044, grad=0.0000), Var(v=0.0480, grad=0.0000), Var(v=0.0148, grad=0.0000), Var(v=0.0137, grad=0.0000), Var(v=0.0047, grad=0.0000), Var(v=-0.0067, grad=0.0000), Var(v=-0.1823, grad=0.0000), Var(v=0.2593, grad=0.0000), Var(v=-0.0195, grad=0.0000), Var(v=0.0741, grad=0.0000), Var(v=0.0657, grad=0.0000), Var(v=0.0095, grad=0.0000), Var(v=0.0372, grad=0.0000), Var(v=0.0168, grad=0.0000), Var(v=0.1490, grad=0.0000), Var(v=-0.1437, grad=0.0000), Var(v=-0.0081, grad=0.0000), Var(v=0.0234, grad=0.0000), Var(v=-0.0154, grad=0.0000), Var(v=-0.0526, grad=0.0000), Var(v=0.0396, grad=0.0000), Var(v=0.0942, grad=0.0000), Var(v=0.0128, grad=0.0000), Var(v=-0.0047, grad=0.0000), Var(v=0.1060, grad=0.0000), Var(v=0.0077, grad=0.0000), Var(v=0.0165, grad=0.0000), Var(v=-0.1319, grad=0.0000), Var(v=-0.1437, grad=0.0000), Var(v=0.1319, grad=0.0000), Var(v=-0.1410, grad=0.0000), Var(v=-0.1132, grad=0.0000), Var(v=0.1762, grad=0.0000), Var(v=-0.0366, grad=0.0000), Var(v=-0.0398, grad=0.0000), Var(v=0.0944, grad=0.0000), Var(v=-0.1840, grad=0.0000), Var(v=0.0560, grad=0.0000), Var(v=-0.1942, grad=0.0000), Var(v=0.0202, grad=0.0000), Var(v=-0.0145, grad=0.0000), Var(v=0.2416, grad=0.0000), Var(v=0.0360, grad=0.0000), Var(v=-0.0821, grad=0.0000)], [Var(v=-0.1921, grad=0.0000), Var(v=-0.0361, grad=0.0000), Var(v=0.1252, grad=0.0000), Var(v=-0.0746, grad=0.0000), Var(v=0.0977, grad=0.0000), Var(v=-0.1074, grad=0.0000), Var(v=-0.1399, grad=0.0000), Var(v=-0.1213, grad=0.0000), Var(v=0.0831, grad=0.0000), Var(v=-0.0238, grad=0.0000), Var(v=-0.0545, grad=0.0000), Var(v=0.1688, grad=0.0000), Var(v=0.0549, grad=0.0000), Var(v=-0.0537, grad=0.0000), Var(v=-0.0163, grad=0.0000), Var(v=0.1032, grad=0.0000), Var(v=-0.0969, grad=0.0000), Var(v=-0.0906, grad=0.0000), Var(v=0.2441, grad=0.0000), Var(v=-0.0312, grad=0.0000), Var(v=-0.1136, grad=0.0000), Var(v=-0.0619, grad=0.0000), Var(v=0.1180, grad=0.0000), Var(v=0.1648, grad=0.0000), Var(v=-0.1482, grad=0.0000), Var(v=-0.1099, grad=0.0000), Var(v=-0.1822, grad=0.0000), Var(v=0.0968, grad=0.0000), Var(v=0.0612, grad=0.0000), Var(v=-0.0517, grad=0.0000), Var(v=-0.0413, grad=0.0000), Var(v=0.0771, grad=0.0000), Var(v=0.0720, grad=0.0000), Var(v=0.0726, grad=0.0000), Var(v=0.0885, grad=0.0000), Var(v=0.1973, grad=0.0000), Var(v=-0.2039, grad=0.0000), Var(v=-0.0554, grad=0.0000), Var(v=-0.0295, grad=0.0000), Var(v=0.0855, grad=0.0000), Var(v=-0.0072, grad=0.0000), Var(v=-0.0404, grad=0.0000), Var(v=0.0217, grad=0.0000), Var(v=-0.0987, grad=0.0000), Var(v=-0.1306, grad=0.0000), Var(v=0.1043, grad=0.0000), Var(v=0.0395, grad=0.0000), Var(v=0.0036, grad=0.0000), Var(v=0.0618, grad=0.0000), Var(v=0.0945, grad=0.0000)], [Var(v=0.1707, grad=0.0000), Var(v=-0.0952, grad=0.0000), Var(v=-0.0950, grad=0.0000), Var(v=-0.0642, grad=0.0000), Var(v=0.0555, grad=0.0000), Var(v=-0.1315, grad=0.0000), Var(v=-0.0666, grad=0.0000), Var(v=-0.0077, grad=0.0000), Var(v=0.0083, grad=0.0000), Var(v=0.0115, grad=0.0000), Var(v=-0.0024, grad=0.0000), Var(v=-0.0633, grad=0.0000), Var(v=-0.1334, grad=0.0000), Var(v=-0.1212, grad=0.0000), Var(v=-0.0814, grad=0.0000), Var(v=0.0818, grad=0.0000), Var(v=-0.0033, grad=0.0000), Var(v=0.0366, grad=0.0000), Var(v=-0.0900, grad=0.0000), Var(v=0.0813, grad=0.0000), Var(v=-0.1005, grad=0.0000), Var(v=0.0243, grad=0.0000), Var(v=-0.1237, grad=0.0000), Var(v=0.0867, grad=0.0000), Var(v=-0.0524, grad=0.0000), Var(v=-0.0542, grad=0.0000), Var(v=-0.0276, grad=0.0000), Var(v=0.0774, grad=0.0000), Var(v=-0.0206, grad=0.0000), Var(v=-0.0596, grad=0.0000), Var(v=-0.2217, grad=0.0000), Var(v=-0.2644, grad=0.0000), Var(v=-0.2766, grad=0.0000), Var(v=0.0345, grad=0.0000), Var(v=-0.0135, grad=0.0000), Var(v=0.1262, grad=0.0000), Var(v=-0.0134, grad=0.0000), Var(v=0.1211, grad=0.0000), Var(v=0.0604, grad=0.0000), Var(v=-0.0682, grad=0.0000), Var(v=-0.0536, grad=0.0000), Var(v=-0.0372, grad=0.0000), Var(v=0.0115, grad=0.0000), Var(v=-0.0629, grad=0.0000), Var(v=-0.0311, grad=0.0000), Var(v=0.0743, grad=0.0000), Var(v=0.0931, grad=0.0000), Var(v=-0.0277, grad=0.0000), Var(v=-0.0917, grad=0.0000), Var(v=-0.0528, grad=0.0000)], [Var(v=0.1527, grad=0.0000), Var(v=-0.0612, grad=0.0000), Var(v=0.0922, grad=0.0000), Var(v=0.0444, grad=0.0000), Var(v=-0.0105, grad=0.0000), Var(v=-0.0556, grad=0.0000), Var(v=0.1595, grad=0.0000), Var(v=-0.0364, grad=0.0000), Var(v=-0.0790, grad=0.0000), Var(v=0.0633, grad=0.0000), Var(v=-0.1215, grad=0.0000), Var(v=0.0727, grad=0.0000), Var(v=0.1648, grad=0.0000), Var(v=0.0497, grad=0.0000), Var(v=0.0359, grad=0.0000), Var(v=0.0261, grad=0.0000), Var(v=0.0181, grad=0.0000), Var(v=0.2016, grad=0.0000), Var(v=0.0620, grad=0.0000), Var(v=-0.1190, grad=0.0000), Var(v=-0.0106, grad=0.0000), Var(v=0.0612, grad=0.0000), Var(v=0.0493, grad=0.0000), Var(v=0.1004, grad=0.0000), Var(v=-0.1772, grad=0.0000), Var(v=-0.0642, grad=0.0000), Var(v=0.0892, grad=0.0000), Var(v=-0.0499, grad=0.0000), Var(v=-0.0623, grad=0.0000), Var(v=0.0486, grad=0.0000), Var(v=-0.0678, grad=0.0000), Var(v=-0.0225, grad=0.0000), Var(v=0.1001, grad=0.0000), Var(v=0.1421, grad=0.0000), Var(v=0.0077, grad=0.0000), Var(v=0.2333, grad=0.0000), Var(v=-0.0094, grad=0.0000), Var(v=0.0324, grad=0.0000), Var(v=0.0076, grad=0.0000), Var(v=-0.1168, grad=0.0000), Var(v=-0.0268, grad=0.0000), Var(v=-0.0179, grad=0.0000), Var(v=0.0654, grad=0.0000), Var(v=-0.0238, grad=0.0000), Var(v=-0.0545, grad=0.0000), Var(v=-0.2191, grad=0.0000), Var(v=-0.0245, grad=0.0000), Var(v=-0.1259, grad=0.0000), Var(v=-0.0152, grad=0.0000), Var(v=-0.0569, grad=0.0000)], [Var(v=-0.0512, grad=0.0000), Var(v=-0.0893, grad=0.0000), Var(v=-0.0207, grad=0.0000), Var(v=-0.0790, grad=0.0000), Var(v=0.0782, grad=0.0000), Var(v=0.1015, grad=0.0000), Var(v=-0.0659, grad=0.0000), Var(v=0.0516, grad=0.0000), Var(v=0.0279, grad=0.0000), Var(v=-0.0012, grad=0.0000), Var(v=0.0502, grad=0.0000), Var(v=-0.1403, grad=0.0000), Var(v=0.1502, grad=0.0000), Var(v=0.0259, grad=0.0000), Var(v=0.1220, grad=0.0000), Var(v=0.0195, grad=0.0000), Var(v=-0.0167, grad=0.0000), Var(v=-0.0776, grad=0.0000), Var(v=-0.1297, grad=0.0000), Var(v=-0.1277, grad=0.0000), Var(v=0.0880, grad=0.0000), Var(v=-0.1370, grad=0.0000), Var(v=0.0573, grad=0.0000), Var(v=0.0829, grad=0.0000), Var(v=0.0076, grad=0.0000), Var(v=0.0427, grad=0.0000), Var(v=0.0613, grad=0.0000), Var(v=-0.0037, grad=0.0000), Var(v=-0.0918, grad=0.0000), Var(v=0.0025, grad=0.0000), Var(v=-0.1247, grad=0.0000), Var(v=-0.0955, grad=0.0000), Var(v=-0.0429, grad=0.0000), Var(v=-0.1164, grad=0.0000), Var(v=-0.0365, grad=0.0000), Var(v=0.1153, grad=0.0000), Var(v=0.1101, grad=0.0000), Var(v=0.0612, grad=0.0000), Var(v=0.0382, grad=0.0000), Var(v=0.0961, grad=0.0000), Var(v=0.1367, grad=0.0000), Var(v=0.0654, grad=0.0000), Var(v=0.1085, grad=0.0000), Var(v=-0.0914, grad=0.0000), Var(v=-0.0651, grad=0.0000), Var(v=0.0268, grad=0.0000), Var(v=0.0979, grad=0.0000), Var(v=0.0602, grad=0.0000), Var(v=-0.0958, grad=0.0000), Var(v=-0.0524, grad=0.0000)], [Var(v=-0.0589, grad=0.0000), Var(v=-0.0074, grad=0.0000), Var(v=0.0087, grad=0.0000), Var(v=-0.0031, grad=0.0000), Var(v=0.2136, grad=0.0000), Var(v=0.0850, grad=0.0000), Var(v=0.2095, grad=0.0000), Var(v=-0.0947, grad=0.0000), Var(v=0.0288, grad=0.0000), Var(v=-0.1088, grad=0.0000), Var(v=0.0823, grad=0.0000), Var(v=0.0523, grad=0.0000), Var(v=0.1317, grad=0.0000), Var(v=0.0202, grad=0.0000), Var(v=0.0362, grad=0.0000), Var(v=-0.0930, grad=0.0000), Var(v=0.0817, grad=0.0000), Var(v=0.0589, grad=0.0000), Var(v=-0.0431, grad=0.0000), Var(v=0.0461, grad=0.0000), Var(v=-0.1277, grad=0.0000), Var(v=0.0435, grad=0.0000), Var(v=-0.1575, grad=0.0000), Var(v=-0.2250, grad=0.0000), Var(v=0.0297, grad=0.0000), Var(v=0.0463, grad=0.0000), Var(v=-0.0246, grad=0.0000), Var(v=-0.0257, grad=0.0000), Var(v=0.1145, grad=0.0000), Var(v=0.0564, grad=0.0000), Var(v=0.2071, grad=0.0000), Var(v=0.0278, grad=0.0000), Var(v=-0.1397, grad=0.0000), Var(v=0.0109, grad=0.0000), Var(v=0.0270, grad=0.0000), Var(v=0.0655, grad=0.0000), Var(v=-0.2040, grad=0.0000), Var(v=-0.2655, grad=0.0000), Var(v=-0.1302, grad=0.0000), Var(v=-0.0100, grad=0.0000), Var(v=0.2206, grad=0.0000), Var(v=-0.0583, grad=0.0000), Var(v=-0.0226, grad=0.0000), Var(v=-0.0811, grad=0.0000), Var(v=0.1847, grad=0.0000), Var(v=-0.0464, grad=0.0000), Var(v=0.0678, grad=0.0000), Var(v=0.1650, grad=0.0000), Var(v=-0.0605, grad=0.0000), Var(v=0.2224, grad=0.0000)], [Var(v=-0.1238, grad=0.0000), Var(v=-0.1092, grad=0.0000), Var(v=-0.0995, grad=0.0000), Var(v=-0.1001, grad=0.0000), Var(v=-0.0025, grad=0.0000), Var(v=-0.0045, grad=0.0000), Var(v=-0.0705, grad=0.0000), Var(v=0.0076, grad=0.0000), Var(v=0.1164, grad=0.0000), Var(v=-0.0768, grad=0.0000), Var(v=-0.1270, grad=0.0000), Var(v=0.0869, grad=0.0000), Var(v=-0.0131, grad=0.0000), Var(v=0.1023, grad=0.0000), Var(v=0.0709, grad=0.0000), Var(v=-0.0274, grad=0.0000), Var(v=-0.0734, grad=0.0000), Var(v=0.1952, grad=0.0000), Var(v=0.0545, grad=0.0000), Var(v=0.0978, grad=0.0000), Var(v=0.0771, grad=0.0000), Var(v=-0.0807, grad=0.0000), Var(v=0.1207, grad=0.0000), Var(v=-0.1439, grad=0.0000), Var(v=-0.1163, grad=0.0000), Var(v=-0.0352, grad=0.0000), Var(v=-0.0738, grad=0.0000), Var(v=0.1126, grad=0.0000), Var(v=0.2074, grad=0.0000), Var(v=0.0735, grad=0.0000), Var(v=-0.0320, grad=0.0000), Var(v=0.0752, grad=0.0000), Var(v=-0.0363, grad=0.0000), Var(v=0.2110, grad=0.0000), Var(v=-0.1189, grad=0.0000), Var(v=0.1353, grad=0.0000), Var(v=0.0193, grad=0.0000), Var(v=-0.0073, grad=0.0000), Var(v=0.0169, grad=0.0000), Var(v=0.0901, grad=0.0000), Var(v=0.0113, grad=0.0000), Var(v=-0.0341, grad=0.0000), Var(v=-0.0431, grad=0.0000), Var(v=0.1733, grad=0.0000), Var(v=0.1296, grad=0.0000), Var(v=0.0770, grad=0.0000), Var(v=0.1533, grad=0.0000), Var(v=-0.0533, grad=0.0000), Var(v=-0.0862, grad=0.0000), Var(v=0.0035, grad=0.0000)], [Var(v=0.0218, grad=0.0000), Var(v=-0.0258, grad=0.0000), Var(v=0.0421, grad=0.0000), Var(v=-0.1501, grad=0.0000), Var(v=-0.0437, grad=0.0000), Var(v=-0.2342, grad=0.0000), Var(v=0.0226, grad=0.0000), Var(v=-0.0068, grad=0.0000), Var(v=0.0764, grad=0.0000), Var(v=0.1958, grad=0.0000), Var(v=-0.1297, grad=0.0000), Var(v=-0.0348, grad=0.0000), Var(v=-0.1576, grad=0.0000), Var(v=0.0286, grad=0.0000), Var(v=0.2357, grad=0.0000), Var(v=0.0293, grad=0.0000), Var(v=-0.0522, grad=0.0000), Var(v=0.1109, grad=0.0000), Var(v=-0.0907, grad=0.0000), Var(v=0.0033, grad=0.0000), Var(v=0.0678, grad=0.0000), Var(v=-0.0270, grad=0.0000), Var(v=-0.0059, grad=0.0000), Var(v=0.1597, grad=0.0000), Var(v=0.0523, grad=0.0000), Var(v=-0.0065, grad=0.0000), Var(v=0.0887, grad=0.0000), Var(v=0.0540, grad=0.0000), Var(v=0.0137, grad=0.0000), Var(v=-0.0089, grad=0.0000), Var(v=-0.1937, grad=0.0000), Var(v=-0.0363, grad=0.0000), Var(v=-0.0823, grad=0.0000), Var(v=0.0186, grad=0.0000), Var(v=0.0166, grad=0.0000), Var(v=-0.1328, grad=0.0000), Var(v=0.0895, grad=0.0000), Var(v=0.1123, grad=0.0000), Var(v=0.0087, grad=0.0000), Var(v=0.0007, grad=0.0000), Var(v=0.0457, grad=0.0000), Var(v=0.1148, grad=0.0000), Var(v=0.0541, grad=0.0000), Var(v=-0.0846, grad=0.0000), Var(v=-0.0259, grad=0.0000), Var(v=-0.2476, grad=0.0000), Var(v=0.1373, grad=0.0000), Var(v=0.0616, grad=0.0000), Var(v=-0.0364, grad=0.0000), Var(v=-0.0124, grad=0.0000)], [Var(v=-0.1167, grad=0.0000), Var(v=0.1104, grad=0.0000), Var(v=0.0760, grad=0.0000), Var(v=-0.0472, grad=0.0000), Var(v=0.1253, grad=0.0000), Var(v=-0.0775, grad=0.0000), Var(v=-0.1530, grad=0.0000), Var(v=0.1607, grad=0.0000), Var(v=0.0034, grad=0.0000), Var(v=0.0309, grad=0.0000), Var(v=-0.0004, grad=0.0000), Var(v=0.0447, grad=0.0000), Var(v=-0.1836, grad=0.0000), Var(v=0.0397, grad=0.0000), Var(v=-0.1679, grad=0.0000), Var(v=-0.0306, grad=0.0000), Var(v=-0.2528, grad=0.0000), Var(v=-0.0375, grad=0.0000), Var(v=0.0042, grad=0.0000), Var(v=-0.0296, grad=0.0000), Var(v=-0.1130, grad=0.0000), Var(v=0.1394, grad=0.0000), Var(v=0.0151, grad=0.0000), Var(v=-0.0859, grad=0.0000), Var(v=-0.0079, grad=0.0000), Var(v=-0.0298, grad=0.0000), Var(v=-0.0586, grad=0.0000), Var(v=-0.0864, grad=0.0000), Var(v=-0.1322, grad=0.0000), Var(v=0.0560, grad=0.0000), Var(v=0.2181, grad=0.0000), Var(v=-0.1245, grad=0.0000), Var(v=-0.0503, grad=0.0000), Var(v=0.0973, grad=0.0000), Var(v=-0.0205, grad=0.0000), Var(v=-0.0408, grad=0.0000), Var(v=-0.0243, grad=0.0000), Var(v=-0.0810, grad=0.0000), Var(v=-0.0675, grad=0.0000), Var(v=-0.1168, grad=0.0000), Var(v=0.1607, grad=0.0000), Var(v=-0.1004, grad=0.0000), Var(v=0.1823, grad=0.0000), Var(v=-0.1037, grad=0.0000), Var(v=0.0464, grad=0.0000), Var(v=-0.0925, grad=0.0000), Var(v=-0.0491, grad=0.0000), Var(v=-0.0733, grad=0.0000), Var(v=0.1706, grad=0.0000), Var(v=0.0177, grad=0.0000)], [Var(v=0.0772, grad=0.0000), Var(v=-0.0610, grad=0.0000), Var(v=-0.0034, grad=0.0000), Var(v=-0.0003, grad=0.0000), Var(v=0.0462, grad=0.0000), Var(v=-0.1706, grad=0.0000), Var(v=0.1417, grad=0.0000), Var(v=0.0084, grad=0.0000), Var(v=0.0556, grad=0.0000), Var(v=0.0377, grad=0.0000), Var(v=-0.0778, grad=0.0000), Var(v=-0.0300, grad=0.0000), Var(v=0.0844, grad=0.0000), Var(v=0.1490, grad=0.0000), Var(v=-0.1141, grad=0.0000), Var(v=0.0846, grad=0.0000), Var(v=-0.2961, grad=0.0000), Var(v=-0.0043, grad=0.0000), Var(v=0.0729, grad=0.0000), Var(v=0.0067, grad=0.0000), Var(v=0.0331, grad=0.0000), Var(v=0.0744, grad=0.0000), Var(v=-0.1516, grad=0.0000), Var(v=-0.1232, grad=0.0000), Var(v=-0.0074, grad=0.0000), Var(v=0.0710, grad=0.0000), Var(v=0.1022, grad=0.0000), Var(v=0.1010, grad=0.0000), Var(v=-0.1167, grad=0.0000), Var(v=0.0646, grad=0.0000), Var(v=-0.0215, grad=0.0000), Var(v=-0.0746, grad=0.0000), Var(v=-0.0193, grad=0.0000), Var(v=-0.0948, grad=0.0000), Var(v=0.1224, grad=0.0000), Var(v=0.0187, grad=0.0000), Var(v=0.0316, grad=0.0000), Var(v=-0.0773, grad=0.0000), Var(v=-0.1863, grad=0.0000), Var(v=0.0829, grad=0.0000), Var(v=0.0976, grad=0.0000), Var(v=-0.1383, grad=0.0000), Var(v=0.0271, grad=0.0000), Var(v=-0.0461, grad=0.0000), Var(v=0.0759, grad=0.0000), Var(v=0.2165, grad=0.0000), Var(v=-0.0304, grad=0.0000), Var(v=0.2026, grad=0.0000), Var(v=-0.1363, grad=0.0000), Var(v=-0.0016, grad=0.0000)], [Var(v=0.0231, grad=0.0000), Var(v=0.0764, grad=0.0000), Var(v=-0.1507, grad=0.0000), Var(v=0.0889, grad=0.0000), Var(v=0.0263, grad=0.0000), Var(v=0.0337, grad=0.0000), Var(v=-0.0444, grad=0.0000), Var(v=-0.0104, grad=0.0000), Var(v=0.0041, grad=0.0000), Var(v=-0.0393, grad=0.0000), Var(v=0.1272, grad=0.0000), Var(v=-0.0889, grad=0.0000), Var(v=0.0472, grad=0.0000), Var(v=-0.0917, grad=0.0000), Var(v=0.0477, grad=0.0000), Var(v=-0.0070, grad=0.0000), Var(v=0.1879, grad=0.0000), Var(v=-0.0746, grad=0.0000), Var(v=0.2687, grad=0.0000), Var(v=0.1036, grad=0.0000), Var(v=0.0842, grad=0.0000), Var(v=0.0313, grad=0.0000), Var(v=-0.0864, grad=0.0000), Var(v=-0.0687, grad=0.0000), Var(v=0.1095, grad=0.0000), Var(v=-0.0185, grad=0.0000), Var(v=-0.0951, grad=0.0000), Var(v=0.0087, grad=0.0000), Var(v=-0.0026, grad=0.0000), Var(v=-0.1955, grad=0.0000), Var(v=-0.0966, grad=0.0000), Var(v=-0.0604, grad=0.0000), Var(v=-0.0084, grad=0.0000), Var(v=-0.0295, grad=0.0000), Var(v=0.1506, grad=0.0000), Var(v=-0.0607, grad=0.0000), Var(v=0.0571, grad=0.0000), Var(v=-0.0186, grad=0.0000), Var(v=0.0934, grad=0.0000), Var(v=-0.0804, grad=0.0000), Var(v=-0.1147, grad=0.0000), Var(v=0.0567, grad=0.0000), Var(v=-0.0167, grad=0.0000), Var(v=-0.0150, grad=0.0000), Var(v=-0.0706, grad=0.0000), Var(v=-0.1013, grad=0.0000), Var(v=-0.3237, grad=0.0000), Var(v=-0.0763, grad=0.0000), Var(v=0.0660, grad=0.0000), Var(v=0.1843, grad=0.0000)], [Var(v=-0.0498, grad=0.0000), Var(v=-0.1291, grad=0.0000), Var(v=0.1743, grad=0.0000), Var(v=0.0605, grad=0.0000), Var(v=-0.0081, grad=0.0000), Var(v=0.0517, grad=0.0000), Var(v=0.0600, grad=0.0000), Var(v=-0.0349, grad=0.0000), Var(v=0.0254, grad=0.0000), Var(v=0.0421, grad=0.0000), Var(v=-0.0929, grad=0.0000), Var(v=-0.1511, grad=0.0000), Var(v=0.1010, grad=0.0000), Var(v=-0.0361, grad=0.0000), Var(v=-0.0317, grad=0.0000), Var(v=-0.0381, grad=0.0000), Var(v=-0.0196, grad=0.0000), Var(v=-0.0047, grad=0.0000), Var(v=-0.0043, grad=0.0000), Var(v=0.1461, grad=0.0000), Var(v=-0.0893, grad=0.0000), Var(v=-0.0392, grad=0.0000), Var(v=-0.0409, grad=0.0000), Var(v=-0.0886, grad=0.0000), Var(v=-0.0370, grad=0.0000), Var(v=0.1508, grad=0.0000), Var(v=-0.0677, grad=0.0000), Var(v=0.0811, grad=0.0000), Var(v=0.1225, grad=0.0000), Var(v=0.0890, grad=0.0000), Var(v=0.0464, grad=0.0000), Var(v=0.0804, grad=0.0000), Var(v=-0.1003, grad=0.0000), Var(v=-0.1679, grad=0.0000), Var(v=0.0205, grad=0.0000), Var(v=-0.1377, grad=0.0000), Var(v=0.1281, grad=0.0000), Var(v=0.1255, grad=0.0000), Var(v=0.0708, grad=0.0000), Var(v=-0.0031, grad=0.0000), Var(v=0.1143, grad=0.0000), Var(v=0.1305, grad=0.0000), Var(v=0.0019, grad=0.0000), Var(v=-0.0215, grad=0.0000), Var(v=0.0711, grad=0.0000), Var(v=0.0271, grad=0.0000), Var(v=-0.0496, grad=0.0000), Var(v=0.0012, grad=0.0000), Var(v=0.0693, grad=0.0000), Var(v=-0.0236, grad=0.0000)]] Biases: [Var(v=0.0000, grad=0.0000), Var(v=0.0000, grad=0.0000), Var(v=0.0000, grad=0.0000), Var(v=0.0000, grad=0.0000), Var(v=0.0000, grad=0.0000), Var(v=0.0000, grad=0.0000), Var(v=0.0000, grad=0.0000), Var(v=0.0000, grad=0.0000), Var(v=0.0000, grad=0.0000), Var(v=0.0000, grad=0.0000), Var(v=0.0000, grad=0.0000), Var(v=0.0000, grad=0.0000), Var(v=0.0000, grad=0.0000), Var(v=0.0000, grad=0.0000), Var(v=0.0000, grad=0.0000), Var(v=0.0000, grad=0.0000), Var(v=0.0000, grad=0.0000), Var(v=0.0000, grad=0.0000), Var(v=0.0000, grad=0.0000), Var(v=0.0000, grad=0.0000), Var(v=0.0000, grad=0.0000), Var(v=0.0000, grad=0.0000), Var(v=0.0000, grad=0.0000), Var(v=0.0000, grad=0.0000), Var(v=0.0000, grad=0.0000), Var(v=0.0000, grad=0.0000), Var(v=0.0000, grad=0.0000), Var(v=0.0000, grad=0.0000), Var(v=0.0000, grad=0.0000), Var(v=0.0000, grad=0.0000), Var(v=0.0000, grad=0.0000), Var(v=0.0000, grad=0.0000), Var(v=0.0000, grad=0.0000), Var(v=0.0000, grad=0.0000), Var(v=0.0000, grad=0.0000), Var(v=0.0000, grad=0.0000), Var(v=0.0000, grad=0.0000), Var(v=0.0000, grad=0.0000), Var(v=0.0000, grad=0.0000), Var(v=0.0000, grad=0.0000), Var(v=0.0000, grad=0.0000), Var(v=0.0000, grad=0.0000), Var(v=0.0000, grad=0.0000), Var(v=0.0000, grad=0.0000), Var(v=0.0000, grad=0.0000), Var(v=0.0000, grad=0.0000), Var(v=0.0000, grad=0.0000), Var(v=0.0000, grad=0.0000), Var(v=0.0000, grad=0.0000), Var(v=0.0000, grad=0.0000)]\n",
      "Layer 2 \n",
      " Weights: [[Var(v=0.1183, grad=263.7151)], [Var(v=-0.1759, grad=0.0000)], [Var(v=0.0386, grad=0.0000)], [Var(v=-0.0449, grad=0.0000)], [Var(v=0.1252, grad=0.0000)], [Var(v=-0.0706, grad=0.0000)], [Var(v=-0.0168, grad=0.0000)], [Var(v=0.1058, grad=0.0000)], [Var(v=0.0956, grad=0.0000)], [Var(v=-0.0060, grad=0.0000)], [Var(v=0.0394, grad=0.0000)], [Var(v=0.1752, grad=0.0000)], [Var(v=-0.0471, grad=0.0000)], [Var(v=-0.0009, grad=0.0000)], [Var(v=0.0536, grad=0.0000)], [Var(v=-0.0759, grad=0.0000)], [Var(v=-0.0576, grad=0.0000)], [Var(v=0.0152, grad=0.0000)], [Var(v=0.2578, grad=0.0000)], [Var(v=-0.1890, grad=0.0000)], [Var(v=-0.0878, grad=0.0000)], [Var(v=-0.0294, grad=0.0000)], [Var(v=-0.0827, grad=0.0000)], [Var(v=0.0570, grad=0.0000)], [Var(v=0.0825, grad=0.0000)], [Var(v=-0.0061, grad=0.0000)], [Var(v=0.0036, grad=0.0000)], [Var(v=-0.0514, grad=0.0000)], [Var(v=0.0917, grad=0.0000)], [Var(v=0.0736, grad=0.0000)], [Var(v=-0.0659, grad=0.0000)], [Var(v=-0.0808, grad=0.0000)], [Var(v=-0.0094, grad=0.0000)], [Var(v=0.0755, grad=0.0000)], [Var(v=-0.0131, grad=0.0000)], [Var(v=-0.1725, grad=0.0000)], [Var(v=0.0217, grad=0.0000)], [Var(v=-0.1217, grad=0.0000)], [Var(v=-0.0068, grad=0.0000)], [Var(v=-0.0257, grad=0.0000)], [Var(v=-0.0815, grad=0.0000)], [Var(v=-0.0661, grad=0.0000)], [Var(v=-0.1933, grad=0.0000)], [Var(v=0.0058, grad=0.0000)], [Var(v=0.0469, grad=0.0000)], [Var(v=0.0188, grad=0.0000)], [Var(v=0.0890, grad=0.0000)], [Var(v=0.1812, grad=0.0000)], [Var(v=-0.0928, grad=0.0000)], [Var(v=0.0197, grad=0.0000)]] Biases: [Var(v=0.0000, grad=0.0000)]\n",
      "\n",
      "Network after update:\n",
      "Layer 0 \n",
      " Weights: [[Var(v=-0.0029, grad=-5.4408), Var(v=-0.0392, grad=-5.4408), Var(v=0.1189, grad=-7.9029), Var(v=0.1545, grad=-7.9029), Var(v=0.0491, grad=-5.4408), Var(v=0.1329, grad=-7.9029), Var(v=0.2336, grad=-7.9029), Var(v=0.2472, grad=-7.9029), Var(v=-0.0036, grad=-5.4408), Var(v=0.1070, grad=-7.9029), Var(v=0.2119, grad=-7.9029), Var(v=0.0123, grad=-5.4408), Var(v=0.1654, grad=-7.9029), Var(v=0.0820, grad=-7.9029), Var(v=-0.0029, grad=-5.4408)]] Biases: [Var(v=0.0000, grad=0.0000), Var(v=0.0000, grad=0.0000), Var(v=0.0000, grad=0.0000), Var(v=0.0000, grad=0.0000), Var(v=0.0000, grad=0.0000), Var(v=0.0000, grad=0.0000), Var(v=0.0000, grad=0.0000), Var(v=0.0000, grad=0.0000), Var(v=0.0000, grad=0.0000), Var(v=0.0000, grad=0.0000), Var(v=0.0000, grad=0.0000), Var(v=0.0000, grad=0.0000), Var(v=0.0000, grad=0.0000), Var(v=0.0000, grad=0.0000), Var(v=0.0000, grad=0.0000)]\n",
      "Layer 1 \n",
      " Weights: [[Var(v=-0.0246, grad=10.2816), Var(v=-0.0810, grad=10.2816), Var(v=-0.0291, grad=0.0000), Var(v=-0.0274, grad=0.0000), Var(v=0.0268, grad=10.2816), Var(v=-0.0648, grad=10.2816), Var(v=-0.0487, grad=10.2816), Var(v=0.0542, grad=10.2816), Var(v=-0.0418, grad=10.2816), Var(v=-0.0559, grad=10.2816), Var(v=-0.0330, grad=10.2816), Var(v=-0.0721, grad=0.0000), Var(v=-0.0769, grad=10.2816), Var(v=-0.0246, grad=0.0000), Var(v=-0.1104, grad=0.0000), Var(v=-0.0347, grad=10.2816), Var(v=0.0930, grad=10.2816), Var(v=-0.0465, grad=10.2816), Var(v=-0.0485, grad=0.0000), Var(v=-0.0726, grad=0.0000), Var(v=-0.1896, grad=0.0000), Var(v=-0.0328, grad=0.0000), Var(v=-0.0775, grad=10.2816), Var(v=-0.0970, grad=10.2816), Var(v=-0.0506, grad=0.0000), Var(v=-0.0135, grad=0.0000), Var(v=0.0697, grad=10.2816), Var(v=-0.0064, grad=0.0000), Var(v=-0.0522, grad=0.0000), Var(v=-0.0577, grad=10.2816), Var(v=-0.0227, grad=10.2816), Var(v=-0.0168, grad=0.0000), Var(v=-0.0670, grad=10.2816), Var(v=-0.0005, grad=10.2816), Var(v=-0.1736, grad=0.0000), Var(v=-0.0670, grad=10.2816), Var(v=-0.0731, grad=10.2816), Var(v=-0.1591, grad=0.0000), Var(v=-0.1195, grad=0.0000), Var(v=0.0427, grad=10.2816), Var(v=-0.0279, grad=0.0000), Var(v=-0.1020, grad=0.0000), Var(v=-0.0050, grad=0.0000), Var(v=-0.0315, grad=0.0000), Var(v=-0.0740, grad=0.0000), Var(v=-0.0217, grad=0.0000), Var(v=-0.1020, grad=10.2816), Var(v=-0.0106, grad=0.0000), Var(v=0.0267, grad=10.2816), Var(v=-0.1335, grad=0.0000)], [Var(v=-0.0280, grad=0.0000), Var(v=0.2105, grad=0.0000), Var(v=-0.0859, grad=0.0000), Var(v=0.0430, grad=0.0000), Var(v=0.0422, grad=0.0000), Var(v=-0.0653, grad=0.0000), Var(v=0.1955, grad=0.0000), Var(v=-0.2217, grad=0.0000), Var(v=0.0418, grad=0.0000), Var(v=-0.0536, grad=0.0000), Var(v=-0.2416, grad=0.0000), Var(v=0.1587, grad=0.0000), Var(v=0.2336, grad=0.0000), Var(v=-0.0398, grad=0.0000), Var(v=-0.1858, grad=0.0000), Var(v=-0.0185, grad=0.0000), Var(v=0.0897, grad=0.0000), Var(v=-0.0018, grad=0.0000), Var(v=-0.1277, grad=0.0000), Var(v=0.1195, grad=0.0000), Var(v=0.0419, grad=0.0000), Var(v=0.0276, grad=0.0000), Var(v=0.1041, grad=0.0000), Var(v=-0.0629, grad=0.0000), Var(v=-0.0304, grad=0.0000), Var(v=0.1064, grad=0.0000), Var(v=0.1086, grad=0.0000), Var(v=0.0832, grad=0.0000), Var(v=-0.0126, grad=0.0000), Var(v=-0.1861, grad=0.0000), Var(v=-0.0023, grad=0.0000), Var(v=-0.0177, grad=0.0000), Var(v=-0.0561, grad=0.0000), Var(v=0.0937, grad=0.0000), Var(v=-0.2188, grad=0.0000), Var(v=0.1159, grad=0.0000), Var(v=-0.1135, grad=0.0000), Var(v=0.0454, grad=0.0000), Var(v=0.0124, grad=0.0000), Var(v=-0.1677, grad=0.0000), Var(v=-0.1014, grad=0.0000), Var(v=-0.0596, grad=0.0000), Var(v=0.0626, grad=0.0000), Var(v=-0.1280, grad=0.0000), Var(v=-0.0244, grad=0.0000), Var(v=-0.0416, grad=0.0000), Var(v=-0.0511, grad=0.0000), Var(v=0.0007, grad=0.0000), Var(v=-0.0460, grad=0.0000), Var(v=0.0863, grad=0.0000)], [Var(v=-0.1234, grad=0.0000), Var(v=0.0391, grad=0.0000), Var(v=-0.0708, grad=0.0000), Var(v=0.0640, grad=0.0000), Var(v=-0.0790, grad=0.0000), Var(v=-0.0678, grad=0.0000), Var(v=-0.0249, grad=0.0000), Var(v=-0.0263, grad=0.0000), Var(v=0.0372, grad=0.0000), Var(v=0.0088, grad=0.0000), Var(v=-0.1351, grad=0.0000), Var(v=0.1972, grad=0.0000), Var(v=-0.2591, grad=0.0000), Var(v=0.1303, grad=0.0000), Var(v=0.0125, grad=0.0000), Var(v=0.0038, grad=0.0000), Var(v=0.0370, grad=0.0000), Var(v=0.0444, grad=0.0000), Var(v=0.1684, grad=0.0000), Var(v=0.1105, grad=0.0000), Var(v=-0.0130, grad=0.0000), Var(v=-0.0522, grad=0.0000), Var(v=-0.0012, grad=0.0000), Var(v=-0.1538, grad=0.0000), Var(v=0.0756, grad=0.0000), Var(v=-0.0295, grad=0.0000), Var(v=0.1108, grad=0.0000), Var(v=0.0397, grad=0.0000), Var(v=-0.0524, grad=0.0000), Var(v=0.0212, grad=0.0000), Var(v=0.1012, grad=0.0000), Var(v=0.1443, grad=0.0000), Var(v=-0.0869, grad=0.0000), Var(v=0.0976, grad=0.0000), Var(v=-0.0400, grad=0.0000), Var(v=-0.0760, grad=0.0000), Var(v=0.0280, grad=0.0000), Var(v=0.2216, grad=0.0000), Var(v=0.0014, grad=0.0000), Var(v=-0.0465, grad=0.0000), Var(v=0.0411, grad=0.0000), Var(v=-0.0514, grad=0.0000), Var(v=-0.1270, grad=0.0000), Var(v=-0.0001, grad=0.0000), Var(v=-0.0644, grad=0.0000), Var(v=-0.0402, grad=0.0000), Var(v=-0.1421, grad=0.0000), Var(v=-0.0635, grad=0.0000), Var(v=0.0211, grad=0.0000), Var(v=-0.2321, grad=0.0000)], [Var(v=-0.1263, grad=0.0000), Var(v=0.0390, grad=0.0000), Var(v=0.0105, grad=0.0000), Var(v=0.0497, grad=0.0000), Var(v=-0.1610, grad=0.0000), Var(v=0.0405, grad=0.0000), Var(v=0.0044, grad=0.0000), Var(v=0.0480, grad=0.0000), Var(v=0.0148, grad=0.0000), Var(v=0.0137, grad=0.0000), Var(v=0.0047, grad=0.0000), Var(v=-0.0067, grad=0.0000), Var(v=-0.1823, grad=0.0000), Var(v=0.2593, grad=0.0000), Var(v=-0.0195, grad=0.0000), Var(v=0.0741, grad=0.0000), Var(v=0.0657, grad=0.0000), Var(v=0.0095, grad=0.0000), Var(v=0.0372, grad=0.0000), Var(v=0.0168, grad=0.0000), Var(v=0.1490, grad=0.0000), Var(v=-0.1437, grad=0.0000), Var(v=-0.0081, grad=0.0000), Var(v=0.0234, grad=0.0000), Var(v=-0.0154, grad=0.0000), Var(v=-0.0526, grad=0.0000), Var(v=0.0396, grad=0.0000), Var(v=0.0942, grad=0.0000), Var(v=0.0128, grad=0.0000), Var(v=-0.0047, grad=0.0000), Var(v=0.1060, grad=0.0000), Var(v=0.0077, grad=0.0000), Var(v=0.0165, grad=0.0000), Var(v=-0.1319, grad=0.0000), Var(v=-0.1437, grad=0.0000), Var(v=0.1319, grad=0.0000), Var(v=-0.1410, grad=0.0000), Var(v=-0.1132, grad=0.0000), Var(v=0.1762, grad=0.0000), Var(v=-0.0366, grad=0.0000), Var(v=-0.0398, grad=0.0000), Var(v=0.0944, grad=0.0000), Var(v=-0.1840, grad=0.0000), Var(v=0.0560, grad=0.0000), Var(v=-0.1942, grad=0.0000), Var(v=0.0202, grad=0.0000), Var(v=-0.0145, grad=0.0000), Var(v=0.2416, grad=0.0000), Var(v=0.0360, grad=0.0000), Var(v=-0.0821, grad=0.0000)], [Var(v=-0.1921, grad=0.0000), Var(v=-0.0361, grad=0.0000), Var(v=0.1252, grad=0.0000), Var(v=-0.0746, grad=0.0000), Var(v=0.0977, grad=0.0000), Var(v=-0.1074, grad=0.0000), Var(v=-0.1399, grad=0.0000), Var(v=-0.1213, grad=0.0000), Var(v=0.0831, grad=0.0000), Var(v=-0.0238, grad=0.0000), Var(v=-0.0545, grad=0.0000), Var(v=0.1688, grad=0.0000), Var(v=0.0549, grad=0.0000), Var(v=-0.0537, grad=0.0000), Var(v=-0.0163, grad=0.0000), Var(v=0.1032, grad=0.0000), Var(v=-0.0969, grad=0.0000), Var(v=-0.0906, grad=0.0000), Var(v=0.2441, grad=0.0000), Var(v=-0.0312, grad=0.0000), Var(v=-0.1136, grad=0.0000), Var(v=-0.0619, grad=0.0000), Var(v=0.1180, grad=0.0000), Var(v=0.1648, grad=0.0000), Var(v=-0.1482, grad=0.0000), Var(v=-0.1099, grad=0.0000), Var(v=-0.1822, grad=0.0000), Var(v=0.0968, grad=0.0000), Var(v=0.0612, grad=0.0000), Var(v=-0.0517, grad=0.0000), Var(v=-0.0413, grad=0.0000), Var(v=0.0771, grad=0.0000), Var(v=0.0720, grad=0.0000), Var(v=0.0726, grad=0.0000), Var(v=0.0885, grad=0.0000), Var(v=0.1973, grad=0.0000), Var(v=-0.2039, grad=0.0000), Var(v=-0.0554, grad=0.0000), Var(v=-0.0295, grad=0.0000), Var(v=0.0855, grad=0.0000), Var(v=-0.0072, grad=0.0000), Var(v=-0.0404, grad=0.0000), Var(v=0.0217, grad=0.0000), Var(v=-0.0987, grad=0.0000), Var(v=-0.1306, grad=0.0000), Var(v=0.1043, grad=0.0000), Var(v=0.0395, grad=0.0000), Var(v=0.0036, grad=0.0000), Var(v=0.0618, grad=0.0000), Var(v=0.0945, grad=0.0000)], [Var(v=0.1707, grad=0.0000), Var(v=-0.0952, grad=0.0000), Var(v=-0.0950, grad=0.0000), Var(v=-0.0642, grad=0.0000), Var(v=0.0555, grad=0.0000), Var(v=-0.1315, grad=0.0000), Var(v=-0.0666, grad=0.0000), Var(v=-0.0077, grad=0.0000), Var(v=0.0083, grad=0.0000), Var(v=0.0115, grad=0.0000), Var(v=-0.0024, grad=0.0000), Var(v=-0.0633, grad=0.0000), Var(v=-0.1334, grad=0.0000), Var(v=-0.1212, grad=0.0000), Var(v=-0.0814, grad=0.0000), Var(v=0.0818, grad=0.0000), Var(v=-0.0033, grad=0.0000), Var(v=0.0366, grad=0.0000), Var(v=-0.0900, grad=0.0000), Var(v=0.0813, grad=0.0000), Var(v=-0.1005, grad=0.0000), Var(v=0.0243, grad=0.0000), Var(v=-0.1237, grad=0.0000), Var(v=0.0867, grad=0.0000), Var(v=-0.0524, grad=0.0000), Var(v=-0.0542, grad=0.0000), Var(v=-0.0276, grad=0.0000), Var(v=0.0774, grad=0.0000), Var(v=-0.0206, grad=0.0000), Var(v=-0.0596, grad=0.0000), Var(v=-0.2217, grad=0.0000), Var(v=-0.2644, grad=0.0000), Var(v=-0.2766, grad=0.0000), Var(v=0.0345, grad=0.0000), Var(v=-0.0135, grad=0.0000), Var(v=0.1262, grad=0.0000), Var(v=-0.0134, grad=0.0000), Var(v=0.1211, grad=0.0000), Var(v=0.0604, grad=0.0000), Var(v=-0.0682, grad=0.0000), Var(v=-0.0536, grad=0.0000), Var(v=-0.0372, grad=0.0000), Var(v=0.0115, grad=0.0000), Var(v=-0.0629, grad=0.0000), Var(v=-0.0311, grad=0.0000), Var(v=0.0743, grad=0.0000), Var(v=0.0931, grad=0.0000), Var(v=-0.0277, grad=0.0000), Var(v=-0.0917, grad=0.0000), Var(v=-0.0528, grad=0.0000)], [Var(v=0.1527, grad=0.0000), Var(v=-0.0612, grad=0.0000), Var(v=0.0922, grad=0.0000), Var(v=0.0444, grad=0.0000), Var(v=-0.0105, grad=0.0000), Var(v=-0.0556, grad=0.0000), Var(v=0.1595, grad=0.0000), Var(v=-0.0364, grad=0.0000), Var(v=-0.0790, grad=0.0000), Var(v=0.0633, grad=0.0000), Var(v=-0.1215, grad=0.0000), Var(v=0.0727, grad=0.0000), Var(v=0.1648, grad=0.0000), Var(v=0.0497, grad=0.0000), Var(v=0.0359, grad=0.0000), Var(v=0.0261, grad=0.0000), Var(v=0.0181, grad=0.0000), Var(v=0.2016, grad=0.0000), Var(v=0.0620, grad=0.0000), Var(v=-0.1190, grad=0.0000), Var(v=-0.0106, grad=0.0000), Var(v=0.0612, grad=0.0000), Var(v=0.0493, grad=0.0000), Var(v=0.1004, grad=0.0000), Var(v=-0.1772, grad=0.0000), Var(v=-0.0642, grad=0.0000), Var(v=0.0892, grad=0.0000), Var(v=-0.0499, grad=0.0000), Var(v=-0.0623, grad=0.0000), Var(v=0.0486, grad=0.0000), Var(v=-0.0678, grad=0.0000), Var(v=-0.0225, grad=0.0000), Var(v=0.1001, grad=0.0000), Var(v=0.1421, grad=0.0000), Var(v=0.0077, grad=0.0000), Var(v=0.2333, grad=0.0000), Var(v=-0.0094, grad=0.0000), Var(v=0.0324, grad=0.0000), Var(v=0.0076, grad=0.0000), Var(v=-0.1168, grad=0.0000), Var(v=-0.0268, grad=0.0000), Var(v=-0.0179, grad=0.0000), Var(v=0.0654, grad=0.0000), Var(v=-0.0238, grad=0.0000), Var(v=-0.0545, grad=0.0000), Var(v=-0.2191, grad=0.0000), Var(v=-0.0245, grad=0.0000), Var(v=-0.1259, grad=0.0000), Var(v=-0.0152, grad=0.0000), Var(v=-0.0569, grad=0.0000)], [Var(v=-0.0512, grad=0.0000), Var(v=-0.0893, grad=0.0000), Var(v=-0.0207, grad=0.0000), Var(v=-0.0790, grad=0.0000), Var(v=0.0782, grad=0.0000), Var(v=0.1015, grad=0.0000), Var(v=-0.0659, grad=0.0000), Var(v=0.0516, grad=0.0000), Var(v=0.0279, grad=0.0000), Var(v=-0.0012, grad=0.0000), Var(v=0.0502, grad=0.0000), Var(v=-0.1403, grad=0.0000), Var(v=0.1502, grad=0.0000), Var(v=0.0259, grad=0.0000), Var(v=0.1220, grad=0.0000), Var(v=0.0195, grad=0.0000), Var(v=-0.0167, grad=0.0000), Var(v=-0.0776, grad=0.0000), Var(v=-0.1297, grad=0.0000), Var(v=-0.1277, grad=0.0000), Var(v=0.0880, grad=0.0000), Var(v=-0.1370, grad=0.0000), Var(v=0.0573, grad=0.0000), Var(v=0.0829, grad=0.0000), Var(v=0.0076, grad=0.0000), Var(v=0.0427, grad=0.0000), Var(v=0.0613, grad=0.0000), Var(v=-0.0037, grad=0.0000), Var(v=-0.0918, grad=0.0000), Var(v=0.0025, grad=0.0000), Var(v=-0.1247, grad=0.0000), Var(v=-0.0955, grad=0.0000), Var(v=-0.0429, grad=0.0000), Var(v=-0.1164, grad=0.0000), Var(v=-0.0365, grad=0.0000), Var(v=0.1153, grad=0.0000), Var(v=0.1101, grad=0.0000), Var(v=0.0612, grad=0.0000), Var(v=0.0382, grad=0.0000), Var(v=0.0961, grad=0.0000), Var(v=0.1367, grad=0.0000), Var(v=0.0654, grad=0.0000), Var(v=0.1085, grad=0.0000), Var(v=-0.0914, grad=0.0000), Var(v=-0.0651, grad=0.0000), Var(v=0.0268, grad=0.0000), Var(v=0.0979, grad=0.0000), Var(v=0.0602, grad=0.0000), Var(v=-0.0958, grad=0.0000), Var(v=-0.0524, grad=0.0000)], [Var(v=-0.0589, grad=0.0000), Var(v=-0.0074, grad=0.0000), Var(v=0.0087, grad=0.0000), Var(v=-0.0031, grad=0.0000), Var(v=0.2136, grad=0.0000), Var(v=0.0850, grad=0.0000), Var(v=0.2095, grad=0.0000), Var(v=-0.0947, grad=0.0000), Var(v=0.0288, grad=0.0000), Var(v=-0.1088, grad=0.0000), Var(v=0.0823, grad=0.0000), Var(v=0.0523, grad=0.0000), Var(v=0.1317, grad=0.0000), Var(v=0.0202, grad=0.0000), Var(v=0.0362, grad=0.0000), Var(v=-0.0930, grad=0.0000), Var(v=0.0817, grad=0.0000), Var(v=0.0589, grad=0.0000), Var(v=-0.0431, grad=0.0000), Var(v=0.0461, grad=0.0000), Var(v=-0.1277, grad=0.0000), Var(v=0.0435, grad=0.0000), Var(v=-0.1575, grad=0.0000), Var(v=-0.2250, grad=0.0000), Var(v=0.0297, grad=0.0000), Var(v=0.0463, grad=0.0000), Var(v=-0.0246, grad=0.0000), Var(v=-0.0257, grad=0.0000), Var(v=0.1145, grad=0.0000), Var(v=0.0564, grad=0.0000), Var(v=0.2071, grad=0.0000), Var(v=0.0278, grad=0.0000), Var(v=-0.1397, grad=0.0000), Var(v=0.0109, grad=0.0000), Var(v=0.0270, grad=0.0000), Var(v=0.0655, grad=0.0000), Var(v=-0.2040, grad=0.0000), Var(v=-0.2655, grad=0.0000), Var(v=-0.1302, grad=0.0000), Var(v=-0.0100, grad=0.0000), Var(v=0.2206, grad=0.0000), Var(v=-0.0583, grad=0.0000), Var(v=-0.0226, grad=0.0000), Var(v=-0.0811, grad=0.0000), Var(v=0.1847, grad=0.0000), Var(v=-0.0464, grad=0.0000), Var(v=0.0678, grad=0.0000), Var(v=0.1650, grad=0.0000), Var(v=-0.0605, grad=0.0000), Var(v=0.2224, grad=0.0000)], [Var(v=-0.1238, grad=0.0000), Var(v=-0.1092, grad=0.0000), Var(v=-0.0995, grad=0.0000), Var(v=-0.1001, grad=0.0000), Var(v=-0.0025, grad=0.0000), Var(v=-0.0045, grad=0.0000), Var(v=-0.0705, grad=0.0000), Var(v=0.0076, grad=0.0000), Var(v=0.1164, grad=0.0000), Var(v=-0.0768, grad=0.0000), Var(v=-0.1270, grad=0.0000), Var(v=0.0869, grad=0.0000), Var(v=-0.0131, grad=0.0000), Var(v=0.1023, grad=0.0000), Var(v=0.0709, grad=0.0000), Var(v=-0.0274, grad=0.0000), Var(v=-0.0734, grad=0.0000), Var(v=0.1952, grad=0.0000), Var(v=0.0545, grad=0.0000), Var(v=0.0978, grad=0.0000), Var(v=0.0771, grad=0.0000), Var(v=-0.0807, grad=0.0000), Var(v=0.1207, grad=0.0000), Var(v=-0.1439, grad=0.0000), Var(v=-0.1163, grad=0.0000), Var(v=-0.0352, grad=0.0000), Var(v=-0.0738, grad=0.0000), Var(v=0.1126, grad=0.0000), Var(v=0.2074, grad=0.0000), Var(v=0.0735, grad=0.0000), Var(v=-0.0320, grad=0.0000), Var(v=0.0752, grad=0.0000), Var(v=-0.0363, grad=0.0000), Var(v=0.2110, grad=0.0000), Var(v=-0.1189, grad=0.0000), Var(v=0.1353, grad=0.0000), Var(v=0.0193, grad=0.0000), Var(v=-0.0073, grad=0.0000), Var(v=0.0169, grad=0.0000), Var(v=0.0901, grad=0.0000), Var(v=0.0113, grad=0.0000), Var(v=-0.0341, grad=0.0000), Var(v=-0.0431, grad=0.0000), Var(v=0.1733, grad=0.0000), Var(v=0.1296, grad=0.0000), Var(v=0.0770, grad=0.0000), Var(v=0.1533, grad=0.0000), Var(v=-0.0533, grad=0.0000), Var(v=-0.0862, grad=0.0000), Var(v=0.0035, grad=0.0000)], [Var(v=0.0218, grad=0.0000), Var(v=-0.0258, grad=0.0000), Var(v=0.0421, grad=0.0000), Var(v=-0.1501, grad=0.0000), Var(v=-0.0437, grad=0.0000), Var(v=-0.2342, grad=0.0000), Var(v=0.0226, grad=0.0000), Var(v=-0.0068, grad=0.0000), Var(v=0.0764, grad=0.0000), Var(v=0.1958, grad=0.0000), Var(v=-0.1297, grad=0.0000), Var(v=-0.0348, grad=0.0000), Var(v=-0.1576, grad=0.0000), Var(v=0.0286, grad=0.0000), Var(v=0.2357, grad=0.0000), Var(v=0.0293, grad=0.0000), Var(v=-0.0522, grad=0.0000), Var(v=0.1109, grad=0.0000), Var(v=-0.0907, grad=0.0000), Var(v=0.0033, grad=0.0000), Var(v=0.0678, grad=0.0000), Var(v=-0.0270, grad=0.0000), Var(v=-0.0059, grad=0.0000), Var(v=0.1597, grad=0.0000), Var(v=0.0523, grad=0.0000), Var(v=-0.0065, grad=0.0000), Var(v=0.0887, grad=0.0000), Var(v=0.0540, grad=0.0000), Var(v=0.0137, grad=0.0000), Var(v=-0.0089, grad=0.0000), Var(v=-0.1937, grad=0.0000), Var(v=-0.0363, grad=0.0000), Var(v=-0.0823, grad=0.0000), Var(v=0.0186, grad=0.0000), Var(v=0.0166, grad=0.0000), Var(v=-0.1328, grad=0.0000), Var(v=0.0895, grad=0.0000), Var(v=0.1123, grad=0.0000), Var(v=0.0087, grad=0.0000), Var(v=0.0007, grad=0.0000), Var(v=0.0457, grad=0.0000), Var(v=0.1148, grad=0.0000), Var(v=0.0541, grad=0.0000), Var(v=-0.0846, grad=0.0000), Var(v=-0.0259, grad=0.0000), Var(v=-0.2476, grad=0.0000), Var(v=0.1373, grad=0.0000), Var(v=0.0616, grad=0.0000), Var(v=-0.0364, grad=0.0000), Var(v=-0.0124, grad=0.0000)], [Var(v=-0.1167, grad=0.0000), Var(v=0.1104, grad=0.0000), Var(v=0.0760, grad=0.0000), Var(v=-0.0472, grad=0.0000), Var(v=0.1253, grad=0.0000), Var(v=-0.0775, grad=0.0000), Var(v=-0.1530, grad=0.0000), Var(v=0.1607, grad=0.0000), Var(v=0.0034, grad=0.0000), Var(v=0.0309, grad=0.0000), Var(v=-0.0004, grad=0.0000), Var(v=0.0447, grad=0.0000), Var(v=-0.1836, grad=0.0000), Var(v=0.0397, grad=0.0000), Var(v=-0.1679, grad=0.0000), Var(v=-0.0306, grad=0.0000), Var(v=-0.2528, grad=0.0000), Var(v=-0.0375, grad=0.0000), Var(v=0.0042, grad=0.0000), Var(v=-0.0296, grad=0.0000), Var(v=-0.1130, grad=0.0000), Var(v=0.1394, grad=0.0000), Var(v=0.0151, grad=0.0000), Var(v=-0.0859, grad=0.0000), Var(v=-0.0079, grad=0.0000), Var(v=-0.0298, grad=0.0000), Var(v=-0.0586, grad=0.0000), Var(v=-0.0864, grad=0.0000), Var(v=-0.1322, grad=0.0000), Var(v=0.0560, grad=0.0000), Var(v=0.2181, grad=0.0000), Var(v=-0.1245, grad=0.0000), Var(v=-0.0503, grad=0.0000), Var(v=0.0973, grad=0.0000), Var(v=-0.0205, grad=0.0000), Var(v=-0.0408, grad=0.0000), Var(v=-0.0243, grad=0.0000), Var(v=-0.0810, grad=0.0000), Var(v=-0.0675, grad=0.0000), Var(v=-0.1168, grad=0.0000), Var(v=0.1607, grad=0.0000), Var(v=-0.1004, grad=0.0000), Var(v=0.1823, grad=0.0000), Var(v=-0.1037, grad=0.0000), Var(v=0.0464, grad=0.0000), Var(v=-0.0925, grad=0.0000), Var(v=-0.0491, grad=0.0000), Var(v=-0.0733, grad=0.0000), Var(v=0.1706, grad=0.0000), Var(v=0.0177, grad=0.0000)], [Var(v=0.0772, grad=0.0000), Var(v=-0.0610, grad=0.0000), Var(v=-0.0034, grad=0.0000), Var(v=-0.0003, grad=0.0000), Var(v=0.0462, grad=0.0000), Var(v=-0.1706, grad=0.0000), Var(v=0.1417, grad=0.0000), Var(v=0.0084, grad=0.0000), Var(v=0.0556, grad=0.0000), Var(v=0.0377, grad=0.0000), Var(v=-0.0778, grad=0.0000), Var(v=-0.0300, grad=0.0000), Var(v=0.0844, grad=0.0000), Var(v=0.1490, grad=0.0000), Var(v=-0.1141, grad=0.0000), Var(v=0.0846, grad=0.0000), Var(v=-0.2961, grad=0.0000), Var(v=-0.0043, grad=0.0000), Var(v=0.0729, grad=0.0000), Var(v=0.0067, grad=0.0000), Var(v=0.0331, grad=0.0000), Var(v=0.0744, grad=0.0000), Var(v=-0.1516, grad=0.0000), Var(v=-0.1232, grad=0.0000), Var(v=-0.0074, grad=0.0000), Var(v=0.0710, grad=0.0000), Var(v=0.1022, grad=0.0000), Var(v=0.1010, grad=0.0000), Var(v=-0.1167, grad=0.0000), Var(v=0.0646, grad=0.0000), Var(v=-0.0215, grad=0.0000), Var(v=-0.0746, grad=0.0000), Var(v=-0.0193, grad=0.0000), Var(v=-0.0948, grad=0.0000), Var(v=0.1224, grad=0.0000), Var(v=0.0187, grad=0.0000), Var(v=0.0316, grad=0.0000), Var(v=-0.0773, grad=0.0000), Var(v=-0.1863, grad=0.0000), Var(v=0.0829, grad=0.0000), Var(v=0.0976, grad=0.0000), Var(v=-0.1383, grad=0.0000), Var(v=0.0271, grad=0.0000), Var(v=-0.0461, grad=0.0000), Var(v=0.0759, grad=0.0000), Var(v=0.2165, grad=0.0000), Var(v=-0.0304, grad=0.0000), Var(v=0.2026, grad=0.0000), Var(v=-0.1363, grad=0.0000), Var(v=-0.0016, grad=0.0000)], [Var(v=0.0231, grad=0.0000), Var(v=0.0764, grad=0.0000), Var(v=-0.1507, grad=0.0000), Var(v=0.0889, grad=0.0000), Var(v=0.0263, grad=0.0000), Var(v=0.0337, grad=0.0000), Var(v=-0.0444, grad=0.0000), Var(v=-0.0104, grad=0.0000), Var(v=0.0041, grad=0.0000), Var(v=-0.0393, grad=0.0000), Var(v=0.1272, grad=0.0000), Var(v=-0.0889, grad=0.0000), Var(v=0.0472, grad=0.0000), Var(v=-0.0917, grad=0.0000), Var(v=0.0477, grad=0.0000), Var(v=-0.0070, grad=0.0000), Var(v=0.1879, grad=0.0000), Var(v=-0.0746, grad=0.0000), Var(v=0.2687, grad=0.0000), Var(v=0.1036, grad=0.0000), Var(v=0.0842, grad=0.0000), Var(v=0.0313, grad=0.0000), Var(v=-0.0864, grad=0.0000), Var(v=-0.0687, grad=0.0000), Var(v=0.1095, grad=0.0000), Var(v=-0.0185, grad=0.0000), Var(v=-0.0951, grad=0.0000), Var(v=0.0087, grad=0.0000), Var(v=-0.0026, grad=0.0000), Var(v=-0.1955, grad=0.0000), Var(v=-0.0966, grad=0.0000), Var(v=-0.0604, grad=0.0000), Var(v=-0.0084, grad=0.0000), Var(v=-0.0295, grad=0.0000), Var(v=0.1506, grad=0.0000), Var(v=-0.0607, grad=0.0000), Var(v=0.0571, grad=0.0000), Var(v=-0.0186, grad=0.0000), Var(v=0.0934, grad=0.0000), Var(v=-0.0804, grad=0.0000), Var(v=-0.1147, grad=0.0000), Var(v=0.0567, grad=0.0000), Var(v=-0.0167, grad=0.0000), Var(v=-0.0150, grad=0.0000), Var(v=-0.0706, grad=0.0000), Var(v=-0.1013, grad=0.0000), Var(v=-0.3237, grad=0.0000), Var(v=-0.0763, grad=0.0000), Var(v=0.0660, grad=0.0000), Var(v=0.1843, grad=0.0000)], [Var(v=-0.0498, grad=0.0000), Var(v=-0.1291, grad=0.0000), Var(v=0.1743, grad=0.0000), Var(v=0.0605, grad=0.0000), Var(v=-0.0081, grad=0.0000), Var(v=0.0517, grad=0.0000), Var(v=0.0600, grad=0.0000), Var(v=-0.0349, grad=0.0000), Var(v=0.0254, grad=0.0000), Var(v=0.0421, grad=0.0000), Var(v=-0.0929, grad=0.0000), Var(v=-0.1511, grad=0.0000), Var(v=0.1010, grad=0.0000), Var(v=-0.0361, grad=0.0000), Var(v=-0.0317, grad=0.0000), Var(v=-0.0381, grad=0.0000), Var(v=-0.0196, grad=0.0000), Var(v=-0.0047, grad=0.0000), Var(v=-0.0043, grad=0.0000), Var(v=0.1461, grad=0.0000), Var(v=-0.0893, grad=0.0000), Var(v=-0.0392, grad=0.0000), Var(v=-0.0409, grad=0.0000), Var(v=-0.0886, grad=0.0000), Var(v=-0.0370, grad=0.0000), Var(v=0.1508, grad=0.0000), Var(v=-0.0677, grad=0.0000), Var(v=0.0811, grad=0.0000), Var(v=0.1225, grad=0.0000), Var(v=0.0890, grad=0.0000), Var(v=0.0464, grad=0.0000), Var(v=0.0804, grad=0.0000), Var(v=-0.1003, grad=0.0000), Var(v=-0.1679, grad=0.0000), Var(v=0.0205, grad=0.0000), Var(v=-0.1377, grad=0.0000), Var(v=0.1281, grad=0.0000), Var(v=0.1255, grad=0.0000), Var(v=0.0708, grad=0.0000), Var(v=-0.0031, grad=0.0000), Var(v=0.1143, grad=0.0000), Var(v=0.1305, grad=0.0000), Var(v=0.0019, grad=0.0000), Var(v=-0.0215, grad=0.0000), Var(v=0.0711, grad=0.0000), Var(v=0.0271, grad=0.0000), Var(v=-0.0496, grad=0.0000), Var(v=0.0012, grad=0.0000), Var(v=0.0693, grad=0.0000), Var(v=-0.0236, grad=0.0000)]] Biases: [Var(v=0.0000, grad=0.0000), Var(v=0.0000, grad=0.0000), Var(v=0.0000, grad=0.0000), Var(v=0.0000, grad=0.0000), Var(v=0.0000, grad=0.0000), Var(v=0.0000, grad=0.0000), Var(v=0.0000, grad=0.0000), Var(v=0.0000, grad=0.0000), Var(v=0.0000, grad=0.0000), Var(v=0.0000, grad=0.0000), Var(v=0.0000, grad=0.0000), Var(v=0.0000, grad=0.0000), Var(v=0.0000, grad=0.0000), Var(v=0.0000, grad=0.0000), Var(v=0.0000, grad=0.0000), Var(v=0.0000, grad=0.0000), Var(v=0.0000, grad=0.0000), Var(v=0.0000, grad=0.0000), Var(v=0.0000, grad=0.0000), Var(v=0.0000, grad=0.0000), Var(v=0.0000, grad=0.0000), Var(v=0.0000, grad=0.0000), Var(v=0.0000, grad=0.0000), Var(v=0.0000, grad=0.0000), Var(v=0.0000, grad=0.0000), Var(v=0.0000, grad=0.0000), Var(v=0.0000, grad=0.0000), Var(v=0.0000, grad=0.0000), Var(v=0.0000, grad=0.0000), Var(v=0.0000, grad=0.0000), Var(v=0.0000, grad=0.0000), Var(v=0.0000, grad=0.0000), Var(v=0.0000, grad=0.0000), Var(v=0.0000, grad=0.0000), Var(v=0.0000, grad=0.0000), Var(v=0.0000, grad=0.0000), Var(v=0.0000, grad=0.0000), Var(v=0.0000, grad=0.0000), Var(v=0.0000, grad=0.0000), Var(v=0.0000, grad=0.0000), Var(v=0.0000, grad=0.0000), Var(v=0.0000, grad=0.0000), Var(v=0.0000, grad=0.0000), Var(v=0.0000, grad=0.0000), Var(v=0.0000, grad=0.0000), Var(v=0.0000, grad=0.0000), Var(v=0.0000, grad=0.0000), Var(v=0.0000, grad=0.0000), Var(v=0.0000, grad=0.0000), Var(v=0.0000, grad=0.0000)]\n",
      "Layer 2 \n",
      " Weights: [[Var(v=-2.5188, grad=263.7151)], [Var(v=-0.1759, grad=0.0000)], [Var(v=0.0386, grad=0.0000)], [Var(v=-0.0449, grad=0.0000)], [Var(v=0.1252, grad=0.0000)], [Var(v=-0.0706, grad=0.0000)], [Var(v=-0.0168, grad=0.0000)], [Var(v=0.1058, grad=0.0000)], [Var(v=0.0956, grad=0.0000)], [Var(v=-0.0060, grad=0.0000)], [Var(v=0.0394, grad=0.0000)], [Var(v=0.1752, grad=0.0000)], [Var(v=-0.0471, grad=0.0000)], [Var(v=-0.0009, grad=0.0000)], [Var(v=0.0536, grad=0.0000)], [Var(v=-0.0759, grad=0.0000)], [Var(v=-0.0576, grad=0.0000)], [Var(v=0.0152, grad=0.0000)], [Var(v=0.2578, grad=0.0000)], [Var(v=-0.1890, grad=0.0000)], [Var(v=-0.0878, grad=0.0000)], [Var(v=-0.0294, grad=0.0000)], [Var(v=-0.0827, grad=0.0000)], [Var(v=0.0570, grad=0.0000)], [Var(v=0.0825, grad=0.0000)], [Var(v=-0.0061, grad=0.0000)], [Var(v=0.0036, grad=0.0000)], [Var(v=-0.0514, grad=0.0000)], [Var(v=0.0917, grad=0.0000)], [Var(v=0.0736, grad=0.0000)], [Var(v=-0.0659, grad=0.0000)], [Var(v=-0.0808, grad=0.0000)], [Var(v=-0.0094, grad=0.0000)], [Var(v=0.0755, grad=0.0000)], [Var(v=-0.0131, grad=0.0000)], [Var(v=-0.1725, grad=0.0000)], [Var(v=0.0217, grad=0.0000)], [Var(v=-0.1217, grad=0.0000)], [Var(v=-0.0068, grad=0.0000)], [Var(v=-0.0257, grad=0.0000)], [Var(v=-0.0815, grad=0.0000)], [Var(v=-0.0661, grad=0.0000)], [Var(v=-0.1933, grad=0.0000)], [Var(v=0.0058, grad=0.0000)], [Var(v=0.0469, grad=0.0000)], [Var(v=0.0188, grad=0.0000)], [Var(v=0.0890, grad=0.0000)], [Var(v=0.1812, grad=0.0000)], [Var(v=-0.0928, grad=0.0000)], [Var(v=0.0197, grad=0.0000)]] Biases: [Var(v=0.0000, grad=0.0000)]\n",
      "\n",
      "Network after zeroing gradients:\n",
      "Layer 0 \n",
      " Weights: [[Var(v=-0.0029, grad=0.0000), Var(v=-0.0392, grad=0.0000), Var(v=0.1189, grad=0.0000), Var(v=0.1545, grad=0.0000), Var(v=0.0491, grad=0.0000), Var(v=0.1329, grad=0.0000), Var(v=0.2336, grad=0.0000), Var(v=0.2472, grad=0.0000), Var(v=-0.0036, grad=0.0000), Var(v=0.1070, grad=0.0000), Var(v=0.2119, grad=0.0000), Var(v=0.0123, grad=0.0000), Var(v=0.1654, grad=0.0000), Var(v=0.0820, grad=0.0000), Var(v=-0.0029, grad=0.0000)]] Biases: [Var(v=0.0000, grad=0.0000), Var(v=0.0000, grad=0.0000), Var(v=0.0000, grad=0.0000), Var(v=0.0000, grad=0.0000), Var(v=0.0000, grad=0.0000), Var(v=0.0000, grad=0.0000), Var(v=0.0000, grad=0.0000), Var(v=0.0000, grad=0.0000), Var(v=0.0000, grad=0.0000), Var(v=0.0000, grad=0.0000), Var(v=0.0000, grad=0.0000), Var(v=0.0000, grad=0.0000), Var(v=0.0000, grad=0.0000), Var(v=0.0000, grad=0.0000), Var(v=0.0000, grad=0.0000)]\n",
      "Layer 1 \n",
      " Weights: [[Var(v=-0.0246, grad=0.0000), Var(v=-0.0810, grad=0.0000), Var(v=-0.0291, grad=0.0000), Var(v=-0.0274, grad=0.0000), Var(v=0.0268, grad=0.0000), Var(v=-0.0648, grad=0.0000), Var(v=-0.0487, grad=0.0000), Var(v=0.0542, grad=0.0000), Var(v=-0.0418, grad=0.0000), Var(v=-0.0559, grad=0.0000), Var(v=-0.0330, grad=0.0000), Var(v=-0.0721, grad=0.0000), Var(v=-0.0769, grad=0.0000), Var(v=-0.0246, grad=0.0000), Var(v=-0.1104, grad=0.0000), Var(v=-0.0347, grad=0.0000), Var(v=0.0930, grad=0.0000), Var(v=-0.0465, grad=0.0000), Var(v=-0.0485, grad=0.0000), Var(v=-0.0726, grad=0.0000), Var(v=-0.1896, grad=0.0000), Var(v=-0.0328, grad=0.0000), Var(v=-0.0775, grad=0.0000), Var(v=-0.0970, grad=0.0000), Var(v=-0.0506, grad=0.0000), Var(v=-0.0135, grad=0.0000), Var(v=0.0697, grad=0.0000), Var(v=-0.0064, grad=0.0000), Var(v=-0.0522, grad=0.0000), Var(v=-0.0577, grad=0.0000), Var(v=-0.0227, grad=0.0000), Var(v=-0.0168, grad=0.0000), Var(v=-0.0670, grad=0.0000), Var(v=-0.0005, grad=0.0000), Var(v=-0.1736, grad=0.0000), Var(v=-0.0670, grad=0.0000), Var(v=-0.0731, grad=0.0000), Var(v=-0.1591, grad=0.0000), Var(v=-0.1195, grad=0.0000), Var(v=0.0427, grad=0.0000), Var(v=-0.0279, grad=0.0000), Var(v=-0.1020, grad=0.0000), Var(v=-0.0050, grad=0.0000), Var(v=-0.0315, grad=0.0000), Var(v=-0.0740, grad=0.0000), Var(v=-0.0217, grad=0.0000), Var(v=-0.1020, grad=0.0000), Var(v=-0.0106, grad=0.0000), Var(v=0.0267, grad=0.0000), Var(v=-0.1335, grad=0.0000)], [Var(v=-0.0280, grad=0.0000), Var(v=0.2105, grad=0.0000), Var(v=-0.0859, grad=0.0000), Var(v=0.0430, grad=0.0000), Var(v=0.0422, grad=0.0000), Var(v=-0.0653, grad=0.0000), Var(v=0.1955, grad=0.0000), Var(v=-0.2217, grad=0.0000), Var(v=0.0418, grad=0.0000), Var(v=-0.0536, grad=0.0000), Var(v=-0.2416, grad=0.0000), Var(v=0.1587, grad=0.0000), Var(v=0.2336, grad=0.0000), Var(v=-0.0398, grad=0.0000), Var(v=-0.1858, grad=0.0000), Var(v=-0.0185, grad=0.0000), Var(v=0.0897, grad=0.0000), Var(v=-0.0018, grad=0.0000), Var(v=-0.1277, grad=0.0000), Var(v=0.1195, grad=0.0000), Var(v=0.0419, grad=0.0000), Var(v=0.0276, grad=0.0000), Var(v=0.1041, grad=0.0000), Var(v=-0.0629, grad=0.0000), Var(v=-0.0304, grad=0.0000), Var(v=0.1064, grad=0.0000), Var(v=0.1086, grad=0.0000), Var(v=0.0832, grad=0.0000), Var(v=-0.0126, grad=0.0000), Var(v=-0.1861, grad=0.0000), Var(v=-0.0023, grad=0.0000), Var(v=-0.0177, grad=0.0000), Var(v=-0.0561, grad=0.0000), Var(v=0.0937, grad=0.0000), Var(v=-0.2188, grad=0.0000), Var(v=0.1159, grad=0.0000), Var(v=-0.1135, grad=0.0000), Var(v=0.0454, grad=0.0000), Var(v=0.0124, grad=0.0000), Var(v=-0.1677, grad=0.0000), Var(v=-0.1014, grad=0.0000), Var(v=-0.0596, grad=0.0000), Var(v=0.0626, grad=0.0000), Var(v=-0.1280, grad=0.0000), Var(v=-0.0244, grad=0.0000), Var(v=-0.0416, grad=0.0000), Var(v=-0.0511, grad=0.0000), Var(v=0.0007, grad=0.0000), Var(v=-0.0460, grad=0.0000), Var(v=0.0863, grad=0.0000)], [Var(v=-0.1234, grad=0.0000), Var(v=0.0391, grad=0.0000), Var(v=-0.0708, grad=0.0000), Var(v=0.0640, grad=0.0000), Var(v=-0.0790, grad=0.0000), Var(v=-0.0678, grad=0.0000), Var(v=-0.0249, grad=0.0000), Var(v=-0.0263, grad=0.0000), Var(v=0.0372, grad=0.0000), Var(v=0.0088, grad=0.0000), Var(v=-0.1351, grad=0.0000), Var(v=0.1972, grad=0.0000), Var(v=-0.2591, grad=0.0000), Var(v=0.1303, grad=0.0000), Var(v=0.0125, grad=0.0000), Var(v=0.0038, grad=0.0000), Var(v=0.0370, grad=0.0000), Var(v=0.0444, grad=0.0000), Var(v=0.1684, grad=0.0000), Var(v=0.1105, grad=0.0000), Var(v=-0.0130, grad=0.0000), Var(v=-0.0522, grad=0.0000), Var(v=-0.0012, grad=0.0000), Var(v=-0.1538, grad=0.0000), Var(v=0.0756, grad=0.0000), Var(v=-0.0295, grad=0.0000), Var(v=0.1108, grad=0.0000), Var(v=0.0397, grad=0.0000), Var(v=-0.0524, grad=0.0000), Var(v=0.0212, grad=0.0000), Var(v=0.1012, grad=0.0000), Var(v=0.1443, grad=0.0000), Var(v=-0.0869, grad=0.0000), Var(v=0.0976, grad=0.0000), Var(v=-0.0400, grad=0.0000), Var(v=-0.0760, grad=0.0000), Var(v=0.0280, grad=0.0000), Var(v=0.2216, grad=0.0000), Var(v=0.0014, grad=0.0000), Var(v=-0.0465, grad=0.0000), Var(v=0.0411, grad=0.0000), Var(v=-0.0514, grad=0.0000), Var(v=-0.1270, grad=0.0000), Var(v=-0.0001, grad=0.0000), Var(v=-0.0644, grad=0.0000), Var(v=-0.0402, grad=0.0000), Var(v=-0.1421, grad=0.0000), Var(v=-0.0635, grad=0.0000), Var(v=0.0211, grad=0.0000), Var(v=-0.2321, grad=0.0000)], [Var(v=-0.1263, grad=0.0000), Var(v=0.0390, grad=0.0000), Var(v=0.0105, grad=0.0000), Var(v=0.0497, grad=0.0000), Var(v=-0.1610, grad=0.0000), Var(v=0.0405, grad=0.0000), Var(v=0.0044, grad=0.0000), Var(v=0.0480, grad=0.0000), Var(v=0.0148, grad=0.0000), Var(v=0.0137, grad=0.0000), Var(v=0.0047, grad=0.0000), Var(v=-0.0067, grad=0.0000), Var(v=-0.1823, grad=0.0000), Var(v=0.2593, grad=0.0000), Var(v=-0.0195, grad=0.0000), Var(v=0.0741, grad=0.0000), Var(v=0.0657, grad=0.0000), Var(v=0.0095, grad=0.0000), Var(v=0.0372, grad=0.0000), Var(v=0.0168, grad=0.0000), Var(v=0.1490, grad=0.0000), Var(v=-0.1437, grad=0.0000), Var(v=-0.0081, grad=0.0000), Var(v=0.0234, grad=0.0000), Var(v=-0.0154, grad=0.0000), Var(v=-0.0526, grad=0.0000), Var(v=0.0396, grad=0.0000), Var(v=0.0942, grad=0.0000), Var(v=0.0128, grad=0.0000), Var(v=-0.0047, grad=0.0000), Var(v=0.1060, grad=0.0000), Var(v=0.0077, grad=0.0000), Var(v=0.0165, grad=0.0000), Var(v=-0.1319, grad=0.0000), Var(v=-0.1437, grad=0.0000), Var(v=0.1319, grad=0.0000), Var(v=-0.1410, grad=0.0000), Var(v=-0.1132, grad=0.0000), Var(v=0.1762, grad=0.0000), Var(v=-0.0366, grad=0.0000), Var(v=-0.0398, grad=0.0000), Var(v=0.0944, grad=0.0000), Var(v=-0.1840, grad=0.0000), Var(v=0.0560, grad=0.0000), Var(v=-0.1942, grad=0.0000), Var(v=0.0202, grad=0.0000), Var(v=-0.0145, grad=0.0000), Var(v=0.2416, grad=0.0000), Var(v=0.0360, grad=0.0000), Var(v=-0.0821, grad=0.0000)], [Var(v=-0.1921, grad=0.0000), Var(v=-0.0361, grad=0.0000), Var(v=0.1252, grad=0.0000), Var(v=-0.0746, grad=0.0000), Var(v=0.0977, grad=0.0000), Var(v=-0.1074, grad=0.0000), Var(v=-0.1399, grad=0.0000), Var(v=-0.1213, grad=0.0000), Var(v=0.0831, grad=0.0000), Var(v=-0.0238, grad=0.0000), Var(v=-0.0545, grad=0.0000), Var(v=0.1688, grad=0.0000), Var(v=0.0549, grad=0.0000), Var(v=-0.0537, grad=0.0000), Var(v=-0.0163, grad=0.0000), Var(v=0.1032, grad=0.0000), Var(v=-0.0969, grad=0.0000), Var(v=-0.0906, grad=0.0000), Var(v=0.2441, grad=0.0000), Var(v=-0.0312, grad=0.0000), Var(v=-0.1136, grad=0.0000), Var(v=-0.0619, grad=0.0000), Var(v=0.1180, grad=0.0000), Var(v=0.1648, grad=0.0000), Var(v=-0.1482, grad=0.0000), Var(v=-0.1099, grad=0.0000), Var(v=-0.1822, grad=0.0000), Var(v=0.0968, grad=0.0000), Var(v=0.0612, grad=0.0000), Var(v=-0.0517, grad=0.0000), Var(v=-0.0413, grad=0.0000), Var(v=0.0771, grad=0.0000), Var(v=0.0720, grad=0.0000), Var(v=0.0726, grad=0.0000), Var(v=0.0885, grad=0.0000), Var(v=0.1973, grad=0.0000), Var(v=-0.2039, grad=0.0000), Var(v=-0.0554, grad=0.0000), Var(v=-0.0295, grad=0.0000), Var(v=0.0855, grad=0.0000), Var(v=-0.0072, grad=0.0000), Var(v=-0.0404, grad=0.0000), Var(v=0.0217, grad=0.0000), Var(v=-0.0987, grad=0.0000), Var(v=-0.1306, grad=0.0000), Var(v=0.1043, grad=0.0000), Var(v=0.0395, grad=0.0000), Var(v=0.0036, grad=0.0000), Var(v=0.0618, grad=0.0000), Var(v=0.0945, grad=0.0000)], [Var(v=0.1707, grad=0.0000), Var(v=-0.0952, grad=0.0000), Var(v=-0.0950, grad=0.0000), Var(v=-0.0642, grad=0.0000), Var(v=0.0555, grad=0.0000), Var(v=-0.1315, grad=0.0000), Var(v=-0.0666, grad=0.0000), Var(v=-0.0077, grad=0.0000), Var(v=0.0083, grad=0.0000), Var(v=0.0115, grad=0.0000), Var(v=-0.0024, grad=0.0000), Var(v=-0.0633, grad=0.0000), Var(v=-0.1334, grad=0.0000), Var(v=-0.1212, grad=0.0000), Var(v=-0.0814, grad=0.0000), Var(v=0.0818, grad=0.0000), Var(v=-0.0033, grad=0.0000), Var(v=0.0366, grad=0.0000), Var(v=-0.0900, grad=0.0000), Var(v=0.0813, grad=0.0000), Var(v=-0.1005, grad=0.0000), Var(v=0.0243, grad=0.0000), Var(v=-0.1237, grad=0.0000), Var(v=0.0867, grad=0.0000), Var(v=-0.0524, grad=0.0000), Var(v=-0.0542, grad=0.0000), Var(v=-0.0276, grad=0.0000), Var(v=0.0774, grad=0.0000), Var(v=-0.0206, grad=0.0000), Var(v=-0.0596, grad=0.0000), Var(v=-0.2217, grad=0.0000), Var(v=-0.2644, grad=0.0000), Var(v=-0.2766, grad=0.0000), Var(v=0.0345, grad=0.0000), Var(v=-0.0135, grad=0.0000), Var(v=0.1262, grad=0.0000), Var(v=-0.0134, grad=0.0000), Var(v=0.1211, grad=0.0000), Var(v=0.0604, grad=0.0000), Var(v=-0.0682, grad=0.0000), Var(v=-0.0536, grad=0.0000), Var(v=-0.0372, grad=0.0000), Var(v=0.0115, grad=0.0000), Var(v=-0.0629, grad=0.0000), Var(v=-0.0311, grad=0.0000), Var(v=0.0743, grad=0.0000), Var(v=0.0931, grad=0.0000), Var(v=-0.0277, grad=0.0000), Var(v=-0.0917, grad=0.0000), Var(v=-0.0528, grad=0.0000)], [Var(v=0.1527, grad=0.0000), Var(v=-0.0612, grad=0.0000), Var(v=0.0922, grad=0.0000), Var(v=0.0444, grad=0.0000), Var(v=-0.0105, grad=0.0000), Var(v=-0.0556, grad=0.0000), Var(v=0.1595, grad=0.0000), Var(v=-0.0364, grad=0.0000), Var(v=-0.0790, grad=0.0000), Var(v=0.0633, grad=0.0000), Var(v=-0.1215, grad=0.0000), Var(v=0.0727, grad=0.0000), Var(v=0.1648, grad=0.0000), Var(v=0.0497, grad=0.0000), Var(v=0.0359, grad=0.0000), Var(v=0.0261, grad=0.0000), Var(v=0.0181, grad=0.0000), Var(v=0.2016, grad=0.0000), Var(v=0.0620, grad=0.0000), Var(v=-0.1190, grad=0.0000), Var(v=-0.0106, grad=0.0000), Var(v=0.0612, grad=0.0000), Var(v=0.0493, grad=0.0000), Var(v=0.1004, grad=0.0000), Var(v=-0.1772, grad=0.0000), Var(v=-0.0642, grad=0.0000), Var(v=0.0892, grad=0.0000), Var(v=-0.0499, grad=0.0000), Var(v=-0.0623, grad=0.0000), Var(v=0.0486, grad=0.0000), Var(v=-0.0678, grad=0.0000), Var(v=-0.0225, grad=0.0000), Var(v=0.1001, grad=0.0000), Var(v=0.1421, grad=0.0000), Var(v=0.0077, grad=0.0000), Var(v=0.2333, grad=0.0000), Var(v=-0.0094, grad=0.0000), Var(v=0.0324, grad=0.0000), Var(v=0.0076, grad=0.0000), Var(v=-0.1168, grad=0.0000), Var(v=-0.0268, grad=0.0000), Var(v=-0.0179, grad=0.0000), Var(v=0.0654, grad=0.0000), Var(v=-0.0238, grad=0.0000), Var(v=-0.0545, grad=0.0000), Var(v=-0.2191, grad=0.0000), Var(v=-0.0245, grad=0.0000), Var(v=-0.1259, grad=0.0000), Var(v=-0.0152, grad=0.0000), Var(v=-0.0569, grad=0.0000)], [Var(v=-0.0512, grad=0.0000), Var(v=-0.0893, grad=0.0000), Var(v=-0.0207, grad=0.0000), Var(v=-0.0790, grad=0.0000), Var(v=0.0782, grad=0.0000), Var(v=0.1015, grad=0.0000), Var(v=-0.0659, grad=0.0000), Var(v=0.0516, grad=0.0000), Var(v=0.0279, grad=0.0000), Var(v=-0.0012, grad=0.0000), Var(v=0.0502, grad=0.0000), Var(v=-0.1403, grad=0.0000), Var(v=0.1502, grad=0.0000), Var(v=0.0259, grad=0.0000), Var(v=0.1220, grad=0.0000), Var(v=0.0195, grad=0.0000), Var(v=-0.0167, grad=0.0000), Var(v=-0.0776, grad=0.0000), Var(v=-0.1297, grad=0.0000), Var(v=-0.1277, grad=0.0000), Var(v=0.0880, grad=0.0000), Var(v=-0.1370, grad=0.0000), Var(v=0.0573, grad=0.0000), Var(v=0.0829, grad=0.0000), Var(v=0.0076, grad=0.0000), Var(v=0.0427, grad=0.0000), Var(v=0.0613, grad=0.0000), Var(v=-0.0037, grad=0.0000), Var(v=-0.0918, grad=0.0000), Var(v=0.0025, grad=0.0000), Var(v=-0.1247, grad=0.0000), Var(v=-0.0955, grad=0.0000), Var(v=-0.0429, grad=0.0000), Var(v=-0.1164, grad=0.0000), Var(v=-0.0365, grad=0.0000), Var(v=0.1153, grad=0.0000), Var(v=0.1101, grad=0.0000), Var(v=0.0612, grad=0.0000), Var(v=0.0382, grad=0.0000), Var(v=0.0961, grad=0.0000), Var(v=0.1367, grad=0.0000), Var(v=0.0654, grad=0.0000), Var(v=0.1085, grad=0.0000), Var(v=-0.0914, grad=0.0000), Var(v=-0.0651, grad=0.0000), Var(v=0.0268, grad=0.0000), Var(v=0.0979, grad=0.0000), Var(v=0.0602, grad=0.0000), Var(v=-0.0958, grad=0.0000), Var(v=-0.0524, grad=0.0000)], [Var(v=-0.0589, grad=0.0000), Var(v=-0.0074, grad=0.0000), Var(v=0.0087, grad=0.0000), Var(v=-0.0031, grad=0.0000), Var(v=0.2136, grad=0.0000), Var(v=0.0850, grad=0.0000), Var(v=0.2095, grad=0.0000), Var(v=-0.0947, grad=0.0000), Var(v=0.0288, grad=0.0000), Var(v=-0.1088, grad=0.0000), Var(v=0.0823, grad=0.0000), Var(v=0.0523, grad=0.0000), Var(v=0.1317, grad=0.0000), Var(v=0.0202, grad=0.0000), Var(v=0.0362, grad=0.0000), Var(v=-0.0930, grad=0.0000), Var(v=0.0817, grad=0.0000), Var(v=0.0589, grad=0.0000), Var(v=-0.0431, grad=0.0000), Var(v=0.0461, grad=0.0000), Var(v=-0.1277, grad=0.0000), Var(v=0.0435, grad=0.0000), Var(v=-0.1575, grad=0.0000), Var(v=-0.2250, grad=0.0000), Var(v=0.0297, grad=0.0000), Var(v=0.0463, grad=0.0000), Var(v=-0.0246, grad=0.0000), Var(v=-0.0257, grad=0.0000), Var(v=0.1145, grad=0.0000), Var(v=0.0564, grad=0.0000), Var(v=0.2071, grad=0.0000), Var(v=0.0278, grad=0.0000), Var(v=-0.1397, grad=0.0000), Var(v=0.0109, grad=0.0000), Var(v=0.0270, grad=0.0000), Var(v=0.0655, grad=0.0000), Var(v=-0.2040, grad=0.0000), Var(v=-0.2655, grad=0.0000), Var(v=-0.1302, grad=0.0000), Var(v=-0.0100, grad=0.0000), Var(v=0.2206, grad=0.0000), Var(v=-0.0583, grad=0.0000), Var(v=-0.0226, grad=0.0000), Var(v=-0.0811, grad=0.0000), Var(v=0.1847, grad=0.0000), Var(v=-0.0464, grad=0.0000), Var(v=0.0678, grad=0.0000), Var(v=0.1650, grad=0.0000), Var(v=-0.0605, grad=0.0000), Var(v=0.2224, grad=0.0000)], [Var(v=-0.1238, grad=0.0000), Var(v=-0.1092, grad=0.0000), Var(v=-0.0995, grad=0.0000), Var(v=-0.1001, grad=0.0000), Var(v=-0.0025, grad=0.0000), Var(v=-0.0045, grad=0.0000), Var(v=-0.0705, grad=0.0000), Var(v=0.0076, grad=0.0000), Var(v=0.1164, grad=0.0000), Var(v=-0.0768, grad=0.0000), Var(v=-0.1270, grad=0.0000), Var(v=0.0869, grad=0.0000), Var(v=-0.0131, grad=0.0000), Var(v=0.1023, grad=0.0000), Var(v=0.0709, grad=0.0000), Var(v=-0.0274, grad=0.0000), Var(v=-0.0734, grad=0.0000), Var(v=0.1952, grad=0.0000), Var(v=0.0545, grad=0.0000), Var(v=0.0978, grad=0.0000), Var(v=0.0771, grad=0.0000), Var(v=-0.0807, grad=0.0000), Var(v=0.1207, grad=0.0000), Var(v=-0.1439, grad=0.0000), Var(v=-0.1163, grad=0.0000), Var(v=-0.0352, grad=0.0000), Var(v=-0.0738, grad=0.0000), Var(v=0.1126, grad=0.0000), Var(v=0.2074, grad=0.0000), Var(v=0.0735, grad=0.0000), Var(v=-0.0320, grad=0.0000), Var(v=0.0752, grad=0.0000), Var(v=-0.0363, grad=0.0000), Var(v=0.2110, grad=0.0000), Var(v=-0.1189, grad=0.0000), Var(v=0.1353, grad=0.0000), Var(v=0.0193, grad=0.0000), Var(v=-0.0073, grad=0.0000), Var(v=0.0169, grad=0.0000), Var(v=0.0901, grad=0.0000), Var(v=0.0113, grad=0.0000), Var(v=-0.0341, grad=0.0000), Var(v=-0.0431, grad=0.0000), Var(v=0.1733, grad=0.0000), Var(v=0.1296, grad=0.0000), Var(v=0.0770, grad=0.0000), Var(v=0.1533, grad=0.0000), Var(v=-0.0533, grad=0.0000), Var(v=-0.0862, grad=0.0000), Var(v=0.0035, grad=0.0000)], [Var(v=0.0218, grad=0.0000), Var(v=-0.0258, grad=0.0000), Var(v=0.0421, grad=0.0000), Var(v=-0.1501, grad=0.0000), Var(v=-0.0437, grad=0.0000), Var(v=-0.2342, grad=0.0000), Var(v=0.0226, grad=0.0000), Var(v=-0.0068, grad=0.0000), Var(v=0.0764, grad=0.0000), Var(v=0.1958, grad=0.0000), Var(v=-0.1297, grad=0.0000), Var(v=-0.0348, grad=0.0000), Var(v=-0.1576, grad=0.0000), Var(v=0.0286, grad=0.0000), Var(v=0.2357, grad=0.0000), Var(v=0.0293, grad=0.0000), Var(v=-0.0522, grad=0.0000), Var(v=0.1109, grad=0.0000), Var(v=-0.0907, grad=0.0000), Var(v=0.0033, grad=0.0000), Var(v=0.0678, grad=0.0000), Var(v=-0.0270, grad=0.0000), Var(v=-0.0059, grad=0.0000), Var(v=0.1597, grad=0.0000), Var(v=0.0523, grad=0.0000), Var(v=-0.0065, grad=0.0000), Var(v=0.0887, grad=0.0000), Var(v=0.0540, grad=0.0000), Var(v=0.0137, grad=0.0000), Var(v=-0.0089, grad=0.0000), Var(v=-0.1937, grad=0.0000), Var(v=-0.0363, grad=0.0000), Var(v=-0.0823, grad=0.0000), Var(v=0.0186, grad=0.0000), Var(v=0.0166, grad=0.0000), Var(v=-0.1328, grad=0.0000), Var(v=0.0895, grad=0.0000), Var(v=0.1123, grad=0.0000), Var(v=0.0087, grad=0.0000), Var(v=0.0007, grad=0.0000), Var(v=0.0457, grad=0.0000), Var(v=0.1148, grad=0.0000), Var(v=0.0541, grad=0.0000), Var(v=-0.0846, grad=0.0000), Var(v=-0.0259, grad=0.0000), Var(v=-0.2476, grad=0.0000), Var(v=0.1373, grad=0.0000), Var(v=0.0616, grad=0.0000), Var(v=-0.0364, grad=0.0000), Var(v=-0.0124, grad=0.0000)], [Var(v=-0.1167, grad=0.0000), Var(v=0.1104, grad=0.0000), Var(v=0.0760, grad=0.0000), Var(v=-0.0472, grad=0.0000), Var(v=0.1253, grad=0.0000), Var(v=-0.0775, grad=0.0000), Var(v=-0.1530, grad=0.0000), Var(v=0.1607, grad=0.0000), Var(v=0.0034, grad=0.0000), Var(v=0.0309, grad=0.0000), Var(v=-0.0004, grad=0.0000), Var(v=0.0447, grad=0.0000), Var(v=-0.1836, grad=0.0000), Var(v=0.0397, grad=0.0000), Var(v=-0.1679, grad=0.0000), Var(v=-0.0306, grad=0.0000), Var(v=-0.2528, grad=0.0000), Var(v=-0.0375, grad=0.0000), Var(v=0.0042, grad=0.0000), Var(v=-0.0296, grad=0.0000), Var(v=-0.1130, grad=0.0000), Var(v=0.1394, grad=0.0000), Var(v=0.0151, grad=0.0000), Var(v=-0.0859, grad=0.0000), Var(v=-0.0079, grad=0.0000), Var(v=-0.0298, grad=0.0000), Var(v=-0.0586, grad=0.0000), Var(v=-0.0864, grad=0.0000), Var(v=-0.1322, grad=0.0000), Var(v=0.0560, grad=0.0000), Var(v=0.2181, grad=0.0000), Var(v=-0.1245, grad=0.0000), Var(v=-0.0503, grad=0.0000), Var(v=0.0973, grad=0.0000), Var(v=-0.0205, grad=0.0000), Var(v=-0.0408, grad=0.0000), Var(v=-0.0243, grad=0.0000), Var(v=-0.0810, grad=0.0000), Var(v=-0.0675, grad=0.0000), Var(v=-0.1168, grad=0.0000), Var(v=0.1607, grad=0.0000), Var(v=-0.1004, grad=0.0000), Var(v=0.1823, grad=0.0000), Var(v=-0.1037, grad=0.0000), Var(v=0.0464, grad=0.0000), Var(v=-0.0925, grad=0.0000), Var(v=-0.0491, grad=0.0000), Var(v=-0.0733, grad=0.0000), Var(v=0.1706, grad=0.0000), Var(v=0.0177, grad=0.0000)], [Var(v=0.0772, grad=0.0000), Var(v=-0.0610, grad=0.0000), Var(v=-0.0034, grad=0.0000), Var(v=-0.0003, grad=0.0000), Var(v=0.0462, grad=0.0000), Var(v=-0.1706, grad=0.0000), Var(v=0.1417, grad=0.0000), Var(v=0.0084, grad=0.0000), Var(v=0.0556, grad=0.0000), Var(v=0.0377, grad=0.0000), Var(v=-0.0778, grad=0.0000), Var(v=-0.0300, grad=0.0000), Var(v=0.0844, grad=0.0000), Var(v=0.1490, grad=0.0000), Var(v=-0.1141, grad=0.0000), Var(v=0.0846, grad=0.0000), Var(v=-0.2961, grad=0.0000), Var(v=-0.0043, grad=0.0000), Var(v=0.0729, grad=0.0000), Var(v=0.0067, grad=0.0000), Var(v=0.0331, grad=0.0000), Var(v=0.0744, grad=0.0000), Var(v=-0.1516, grad=0.0000), Var(v=-0.1232, grad=0.0000), Var(v=-0.0074, grad=0.0000), Var(v=0.0710, grad=0.0000), Var(v=0.1022, grad=0.0000), Var(v=0.1010, grad=0.0000), Var(v=-0.1167, grad=0.0000), Var(v=0.0646, grad=0.0000), Var(v=-0.0215, grad=0.0000), Var(v=-0.0746, grad=0.0000), Var(v=-0.0193, grad=0.0000), Var(v=-0.0948, grad=0.0000), Var(v=0.1224, grad=0.0000), Var(v=0.0187, grad=0.0000), Var(v=0.0316, grad=0.0000), Var(v=-0.0773, grad=0.0000), Var(v=-0.1863, grad=0.0000), Var(v=0.0829, grad=0.0000), Var(v=0.0976, grad=0.0000), Var(v=-0.1383, grad=0.0000), Var(v=0.0271, grad=0.0000), Var(v=-0.0461, grad=0.0000), Var(v=0.0759, grad=0.0000), Var(v=0.2165, grad=0.0000), Var(v=-0.0304, grad=0.0000), Var(v=0.2026, grad=0.0000), Var(v=-0.1363, grad=0.0000), Var(v=-0.0016, grad=0.0000)], [Var(v=0.0231, grad=0.0000), Var(v=0.0764, grad=0.0000), Var(v=-0.1507, grad=0.0000), Var(v=0.0889, grad=0.0000), Var(v=0.0263, grad=0.0000), Var(v=0.0337, grad=0.0000), Var(v=-0.0444, grad=0.0000), Var(v=-0.0104, grad=0.0000), Var(v=0.0041, grad=0.0000), Var(v=-0.0393, grad=0.0000), Var(v=0.1272, grad=0.0000), Var(v=-0.0889, grad=0.0000), Var(v=0.0472, grad=0.0000), Var(v=-0.0917, grad=0.0000), Var(v=0.0477, grad=0.0000), Var(v=-0.0070, grad=0.0000), Var(v=0.1879, grad=0.0000), Var(v=-0.0746, grad=0.0000), Var(v=0.2687, grad=0.0000), Var(v=0.1036, grad=0.0000), Var(v=0.0842, grad=0.0000), Var(v=0.0313, grad=0.0000), Var(v=-0.0864, grad=0.0000), Var(v=-0.0687, grad=0.0000), Var(v=0.1095, grad=0.0000), Var(v=-0.0185, grad=0.0000), Var(v=-0.0951, grad=0.0000), Var(v=0.0087, grad=0.0000), Var(v=-0.0026, grad=0.0000), Var(v=-0.1955, grad=0.0000), Var(v=-0.0966, grad=0.0000), Var(v=-0.0604, grad=0.0000), Var(v=-0.0084, grad=0.0000), Var(v=-0.0295, grad=0.0000), Var(v=0.1506, grad=0.0000), Var(v=-0.0607, grad=0.0000), Var(v=0.0571, grad=0.0000), Var(v=-0.0186, grad=0.0000), Var(v=0.0934, grad=0.0000), Var(v=-0.0804, grad=0.0000), Var(v=-0.1147, grad=0.0000), Var(v=0.0567, grad=0.0000), Var(v=-0.0167, grad=0.0000), Var(v=-0.0150, grad=0.0000), Var(v=-0.0706, grad=0.0000), Var(v=-0.1013, grad=0.0000), Var(v=-0.3237, grad=0.0000), Var(v=-0.0763, grad=0.0000), Var(v=0.0660, grad=0.0000), Var(v=0.1843, grad=0.0000)], [Var(v=-0.0498, grad=0.0000), Var(v=-0.1291, grad=0.0000), Var(v=0.1743, grad=0.0000), Var(v=0.0605, grad=0.0000), Var(v=-0.0081, grad=0.0000), Var(v=0.0517, grad=0.0000), Var(v=0.0600, grad=0.0000), Var(v=-0.0349, grad=0.0000), Var(v=0.0254, grad=0.0000), Var(v=0.0421, grad=0.0000), Var(v=-0.0929, grad=0.0000), Var(v=-0.1511, grad=0.0000), Var(v=0.1010, grad=0.0000), Var(v=-0.0361, grad=0.0000), Var(v=-0.0317, grad=0.0000), Var(v=-0.0381, grad=0.0000), Var(v=-0.0196, grad=0.0000), Var(v=-0.0047, grad=0.0000), Var(v=-0.0043, grad=0.0000), Var(v=0.1461, grad=0.0000), Var(v=-0.0893, grad=0.0000), Var(v=-0.0392, grad=0.0000), Var(v=-0.0409, grad=0.0000), Var(v=-0.0886, grad=0.0000), Var(v=-0.0370, grad=0.0000), Var(v=0.1508, grad=0.0000), Var(v=-0.0677, grad=0.0000), Var(v=0.0811, grad=0.0000), Var(v=0.1225, grad=0.0000), Var(v=0.0890, grad=0.0000), Var(v=0.0464, grad=0.0000), Var(v=0.0804, grad=0.0000), Var(v=-0.1003, grad=0.0000), Var(v=-0.1679, grad=0.0000), Var(v=0.0205, grad=0.0000), Var(v=-0.1377, grad=0.0000), Var(v=0.1281, grad=0.0000), Var(v=0.1255, grad=0.0000), Var(v=0.0708, grad=0.0000), Var(v=-0.0031, grad=0.0000), Var(v=0.1143, grad=0.0000), Var(v=0.1305, grad=0.0000), Var(v=0.0019, grad=0.0000), Var(v=-0.0215, grad=0.0000), Var(v=0.0711, grad=0.0000), Var(v=0.0271, grad=0.0000), Var(v=-0.0496, grad=0.0000), Var(v=0.0012, grad=0.0000), Var(v=0.0693, grad=0.0000), Var(v=-0.0236, grad=0.0000)]] Biases: [Var(v=0.0000, grad=0.0000), Var(v=0.0000, grad=0.0000), Var(v=0.0000, grad=0.0000), Var(v=0.0000, grad=0.0000), Var(v=0.0000, grad=0.0000), Var(v=0.0000, grad=0.0000), Var(v=0.0000, grad=0.0000), Var(v=0.0000, grad=0.0000), Var(v=0.0000, grad=0.0000), Var(v=0.0000, grad=0.0000), Var(v=0.0000, grad=0.0000), Var(v=0.0000, grad=0.0000), Var(v=0.0000, grad=0.0000), Var(v=0.0000, grad=0.0000), Var(v=0.0000, grad=0.0000), Var(v=0.0000, grad=0.0000), Var(v=0.0000, grad=0.0000), Var(v=0.0000, grad=0.0000), Var(v=0.0000, grad=0.0000), Var(v=0.0000, grad=0.0000), Var(v=0.0000, grad=0.0000), Var(v=0.0000, grad=0.0000), Var(v=0.0000, grad=0.0000), Var(v=0.0000, grad=0.0000), Var(v=0.0000, grad=0.0000), Var(v=0.0000, grad=0.0000), Var(v=0.0000, grad=0.0000), Var(v=0.0000, grad=0.0000), Var(v=0.0000, grad=0.0000), Var(v=0.0000, grad=0.0000), Var(v=0.0000, grad=0.0000), Var(v=0.0000, grad=0.0000), Var(v=0.0000, grad=0.0000), Var(v=0.0000, grad=0.0000), Var(v=0.0000, grad=0.0000), Var(v=0.0000, grad=0.0000), Var(v=0.0000, grad=0.0000), Var(v=0.0000, grad=0.0000), Var(v=0.0000, grad=0.0000), Var(v=0.0000, grad=0.0000), Var(v=0.0000, grad=0.0000), Var(v=0.0000, grad=0.0000), Var(v=0.0000, grad=0.0000), Var(v=0.0000, grad=0.0000), Var(v=0.0000, grad=0.0000), Var(v=0.0000, grad=0.0000), Var(v=0.0000, grad=0.0000), Var(v=0.0000, grad=0.0000), Var(v=0.0000, grad=0.0000), Var(v=0.0000, grad=0.0000)]\n",
      "Layer 2 \n",
      " Weights: [[Var(v=-2.5188, grad=0.0000)], [Var(v=-0.1759, grad=0.0000)], [Var(v=0.0386, grad=0.0000)], [Var(v=-0.0449, grad=0.0000)], [Var(v=0.1252, grad=0.0000)], [Var(v=-0.0706, grad=0.0000)], [Var(v=-0.0168, grad=0.0000)], [Var(v=0.1058, grad=0.0000)], [Var(v=0.0956, grad=0.0000)], [Var(v=-0.0060, grad=0.0000)], [Var(v=0.0394, grad=0.0000)], [Var(v=0.1752, grad=0.0000)], [Var(v=-0.0471, grad=0.0000)], [Var(v=-0.0009, grad=0.0000)], [Var(v=0.0536, grad=0.0000)], [Var(v=-0.0759, grad=0.0000)], [Var(v=-0.0576, grad=0.0000)], [Var(v=0.0152, grad=0.0000)], [Var(v=0.2578, grad=0.0000)], [Var(v=-0.1890, grad=0.0000)], [Var(v=-0.0878, grad=0.0000)], [Var(v=-0.0294, grad=0.0000)], [Var(v=-0.0827, grad=0.0000)], [Var(v=0.0570, grad=0.0000)], [Var(v=0.0825, grad=0.0000)], [Var(v=-0.0061, grad=0.0000)], [Var(v=0.0036, grad=0.0000)], [Var(v=-0.0514, grad=0.0000)], [Var(v=0.0917, grad=0.0000)], [Var(v=0.0736, grad=0.0000)], [Var(v=-0.0659, grad=0.0000)], [Var(v=-0.0808, grad=0.0000)], [Var(v=-0.0094, grad=0.0000)], [Var(v=0.0755, grad=0.0000)], [Var(v=-0.0131, grad=0.0000)], [Var(v=-0.1725, grad=0.0000)], [Var(v=0.0217, grad=0.0000)], [Var(v=-0.1217, grad=0.0000)], [Var(v=-0.0068, grad=0.0000)], [Var(v=-0.0257, grad=0.0000)], [Var(v=-0.0815, grad=0.0000)], [Var(v=-0.0661, grad=0.0000)], [Var(v=-0.1933, grad=0.0000)], [Var(v=0.0058, grad=0.0000)], [Var(v=0.0469, grad=0.0000)], [Var(v=0.0188, grad=0.0000)], [Var(v=0.0890, grad=0.0000)], [Var(v=0.1812, grad=0.0000)], [Var(v=-0.0928, grad=0.0000)], [Var(v=0.0197, grad=0.0000)]] Biases: [Var(v=0.0000, grad=0.0000)]\n"
     ]
    },
    {
     "data": {
      "text/plain": [
       "[None, None, None]"
      ]
     },
     "execution_count": 30,
     "metadata": {},
     "output_type": "execute_result"
    }
   ],
   "source": [
    "print('Network before update:')\n",
    "[print('Layer', i, '\\n', NN[i]) for i in range(len(NN))] \n",
    "\n",
    "def parameters(network):\n",
    "  params = []\n",
    "  for layer in range(len(network)):\n",
    "    params += network[layer].parameters()\n",
    "  return params\n",
    "\n",
    "def update_parameters(params, learning_rate=0.01):\n",
    "  for p in params:\n",
    "    p.v -= learning_rate*p.grad\n",
    "\n",
    "def zero_gradients(params):\n",
    "  for p in params:\n",
    "    p.grad = 0.0\n",
    "\n",
    "update_parameters(parameters(NN))\n",
    "\n",
    "print('\\nNetwork after update:')\n",
    "[print('Layer', i, '\\n', NN[i]) for i in range(len(NN))] \n",
    "\n",
    "zero_gradients(parameters(NN))\n",
    "\n",
    "print('\\nNetwork after zeroing gradients:')\n",
    "[print('Layer', i, '\\n', NN[i]) for i in range(len(NN))] "
   ]
  },
  {
   "cell_type": "code",
   "execution_count": 31,
   "metadata": {
    "id": "woWYpdw6FtIO"
   },
   "outputs": [],
   "source": [
    "# Initialize an arbitrary neural network\n",
    "NN = [\n",
    "    DenseLayer(1, 8, lambda x: x.relu()),\n",
    "    DenseLayer(8, 1, lambda x: x.identity()) # identity\n",
    "]\n",
    "\n",
    "# Recommended hyper-parameters for 3-D: \n",
    "#NN = [\n",
    "#    DenseLayer(3, 16, lambda x: x.relu()),\n",
    "#    DenseLayer(16, 1, lambda x: x.identity())\n",
    "#]\n",
    "\n",
    "\n",
    "### Notice that, when we switch from tanh to relu activation, we decrease the learning rate. This is due the stability of the gradients \n",
    "## of the activation functions."
   ]
  },
  {
   "cell_type": "code",
   "execution_count": 32,
   "metadata": {
    "id": "mdqaqYBVFtIR"
   },
   "outputs": [],
   "source": [
    "# Initialize training hyperparameters\n",
    "EPOCHS = 200\n",
    "LEARN_R = 2e-3 "
   ]
  },
  {
   "cell_type": "code",
   "execution_count": 33,
   "metadata": {
    "colab": {
     "base_uri": "https://localhost:8080/"
    },
    "id": "5kfg76GMFtIW",
    "outputId": "e30cf68a-31f2-42b4-cc5e-860c297c0f04",
    "scrolled": true
   },
   "outputs": [
    {
     "name": "stdout",
     "output_type": "stream",
     "text": [
      "   0 ( 0.00%) Train loss: 106.102 \t Validation loss: 99.190\n",
      "  10 ( 5.00%) Train loss: 86.869 \t Validation loss: 76.545\n",
      "  20 (10.00%) Train loss: 94.599 \t Validation loss: 107.213\n",
      "  30 (15.00%) Train loss: 93.667 \t Validation loss: 106.508\n",
      "  40 (20.00%) Train loss: 92.806 \t Validation loss: 105.821\n",
      "  50 (25.00%) Train loss: 92.011 \t Validation loss: 105.160\n",
      "  60 (30.00%) Train loss: 91.280 \t Validation loss: 104.529\n",
      "  70 (35.00%) Train loss: 90.606 \t Validation loss: 103.929\n",
      "  80 (40.00%) Train loss: 89.985 \t Validation loss: 103.361\n",
      "  90 (45.00%) Train loss: 89.411 \t Validation loss: 102.824\n",
      " 100 (50.00%) Train loss: 88.879 \t Validation loss: 102.317\n",
      " 110 (55.00%) Train loss: 88.386 \t Validation loss: 101.838\n",
      " 120 (60.00%) Train loss: 87.928 \t Validation loss: 101.386\n",
      " 130 (65.00%) Train loss: 87.501 \t Validation loss: 100.958\n",
      " 140 (70.00%) Train loss: 87.102 \t Validation loss: 100.552\n",
      " 150 (75.00%) Train loss: 86.728 \t Validation loss: 100.169\n",
      " 160 (80.00%) Train loss: 86.377 \t Validation loss: 99.804\n",
      " 170 (85.00%) Train loss: 86.047 \t Validation loss: 99.458\n",
      " 180 (90.00%) Train loss: 85.737 \t Validation loss: 99.129\n",
      " 190 (95.00%) Train loss: 85.443 \t Validation loss: 98.816\n"
     ]
    }
   ],
   "source": [
    "train_loss = []\n",
    "val_loss = []\n",
    "\n",
    "for e in range(EPOCHS):\n",
    "     \n",
    "    # Forward pass and loss computation\n",
    "    Loss = squared_loss(y_train, forward(x_train, NN))\n",
    "\n",
    "    # Backward pass\n",
    "    Loss.backward()\n",
    "    \n",
    "    # gradient descent update\n",
    "    update_parameters(parameters(NN), LEARN_R)\n",
    "    zero_gradients(parameters(NN))\n",
    "    \n",
    "    # Training loss\n",
    "    train_loss.append(Loss.v)\n",
    "    \n",
    "    # Validation\n",
    "    Loss_validation = squared_loss(y_validation, forward(x_validation, NN))\n",
    "    val_loss.append(Loss_validation.v)\n",
    "    \n",
    "    if e%10==0:\n",
    "        print(\"{:4d}\".format(e),\n",
    "              \"({:5.2f}%)\".format(e/EPOCHS*100), \n",
    "              \"Train loss: {:4.3f} \\t Validation loss: {:4.3f}\".format(train_loss[-1], val_loss[-1]))\n",
    "        \n"
   ]
  },
  {
   "cell_type": "code",
   "execution_count": 34,
   "metadata": {
    "colab": {
     "base_uri": "https://localhost:8080/",
     "height": 265
    },
    "id": "VetyRWFwFtIY",
    "outputId": "344e490d-6d7d-455a-fa6f-88dd11eb957e"
   },
   "outputs": [
    {
     "data": {
      "image/png": "[encoded data removed]",
      "text/plain": [
       "<Figure size 432x288 with 1 Axes>"
      ]
     },
     "metadata": {
      "needs_background": "light"
     },
     "output_type": "display_data"
    }
   ],
   "source": [
    "plt.plot(range(len(train_loss)), train_loss);\n",
    "plt.plot(range(len(val_loss)), val_loss);"
   ]
  },
  {
   "cell_type": "markdown",
   "metadata": {
    "id": "8OgmIrM9FtIb"
   },
   "source": [
    "# Testing\n",
    "\n",
    "We have kept the calculation of the test error separate in order to emphasize that you should not use the test set in optimization."
   ]
  },
  {
   "cell_type": "code",
   "execution_count": 35,
   "metadata": {
    "id": "HmNi7S-vFtIc"
   },
   "outputs": [],
   "source": [
    "output_test = forward(x_test, NN)"
   ]
  },
  {
   "cell_type": "code",
   "execution_count": 36,
   "metadata": {
    "colab": {
     "base_uri": "https://localhost:8080/",
     "height": 316
    },
    "id": "7mmJOTSEFtIf",
    "outputId": "e3264095-cefe-4aee-893d-bf152438e332"
   },
   "outputs": [
    {
     "name": "stdout",
     "output_type": "stream",
     "text": [
      "Test loss:  87.970\n"
     ]
    },
    {
     "data": {
      "image/png": "[encoded data removed]",
      "text/plain": [
       "<Figure size 432x288 with 1 Axes>"
      ]
     },
     "metadata": {
      "needs_background": "light"
     },
     "output_type": "display_data"
    }
   ],
   "source": [
    "y_test_np = Var_to_nparray(y_test)\n",
    "plt.scatter(y_test_np, Var_to_nparray(output_test));\n",
    "plt.plot([np.min(y_test_np), np.max(y_test_np)], [np.min(y_test_np), np.max(y_test_np)], color='k');\n",
    "plt.xlabel(\"y\");\n",
    "plt.ylabel(\"$\\hat{y}$\");\n",
    "plt.title(\"Model prediction vs real in the test set, the close to the line the better\")\n",
    "plt.grid(True);\n",
    "plt.axis('equal');\n",
    "plt.tight_layout();\n",
    "\n",
    "Loss_test = squared_loss(y_test, forward(x_test, NN))\n",
    "\n",
    "print(\"Test loss:  {:4.3f}\".format(Loss_test.v))"
   ]
  },
  {
   "cell_type": "code",
   "execution_count": 37,
   "metadata": {
    "colab": {
     "base_uri": "https://localhost:8080/",
     "height": 279
    },
    "id": "ODi0WlmQFtIh",
    "outputId": "d1ab874f-0717-4987-87bf-1f0c7c8e7148"
   },
   "outputs": [
    {
     "data": {
      "image/png": "[encoded data removed]",
      "text/plain": [
       "<Figure size 432x288 with 1 Axes>"
      ]
     },
     "metadata": {
      "needs_background": "light"
     },
     "output_type": "display_data"
    }
   ],
   "source": [
    "x_test_np = Var_to_nparray(x_test)\n",
    "x_train_np = Var_to_nparray(x_train)\n",
    "y_train_np = Var_to_nparray(y_train)\n",
    "if D1:\n",
    "    plt.scatter(x_train_np, y_train_np, label=\"train data\");\n",
    "    plt.scatter(x_test_np, Var_to_nparray(output_test), label=\"test prediction\");\n",
    "    plt.scatter(x_test_np, y_test_np, label=\"test data\");\n",
    "    plt.legend();\n",
    "    plt.xlabel(\"x\");\n",
    "    plt.ylabel(\"y\");\n",
    "else:\n",
    "    plt.scatter(x_train_np[:,1], y_train, label=\"train data\");\n",
    "    plt.scatter(x_test_np[:,1], Var_to_nparray(output_test), label=\"test data prediction\");\n",
    "    plt.scatter(x_test_np[:,1], y_test_np, label=\"test data\");\n",
    "    plt.legend();\n",
    "    plt.xlabel(\"x\");\n",
    "    plt.ylabel(\"y\");"
   ]
  },
  {
   "cell_type": "markdown",
   "metadata": {
    "id": "zTBAmjsAFtIk"
   },
   "source": [
    "## Exercise l) Show overfitting, underfitting and just right fitting\n",
    "\n",
    "Vary the architecture and other things to show clear signs of overfitting (=training loss significantly lower than test loss) and underfitting (=not fitting enoung to training data so that test performance is also hurt).\n",
    "\n",
    "See also if you can get a good compromise which leads to a low validation loss. \n",
    "\n",
    "For this problem do you see any big difference between validation and test loss? The answer here will probably be no. Discuss cases where it is important to keep the two separate.\n",
    "\n",
    "_Insert written answer here._\n",
    "\n",
    "### Answer suggestion\n",
    "\n",
    "I have some error, in my code, which I did not have time to find, so my model trains weirdely (the gradient seems to be the problem). But decreasing the number of parameters would lead to underfitting"
   ]
  },
  {
   "cell_type": "code",
   "execution_count": 38,
   "metadata": {
    "id": "tQZCn2dxFtIl"
   },
   "outputs": [],
   "source": [
    "# Insert your code for getting overfitting, underfitting and just right fitting"
   ]
  },
  {
   "cell_type": "markdown",
   "metadata": {
    "id": "fYPZP-eTFtIo"
   },
   "source": [
    "# Next steps - classification\n",
    "\n",
    "It is straight forward to extend what we have done to classification. \n",
    "\n",
    "For numerical stability it is better to make softmax and cross-entropy as one function so we write the cross entropy loss as a function of the logits we talked about last week. \n",
    "\n",
    "Next week we will see how to perform classification in PyTorch."
   ]
  },
  {
   "cell_type": "markdown",
   "metadata": {
    "id": "qsVPul3QFtIo"
   },
   "source": [
    "## Exercise m) optional - Implement backpropagation for classification\n",
    "\n",
    "Should be possible with very few lines of code. :-)\n",
    "\n",
    "### Answer suggestion:\n",
    "\n",
    "Sorry, no time to implement:\n",
    "Use the cross entropy loss as criterion and define a network with three output neurons."
   ]
  },
  {
   "cell_type": "code",
   "execution_count": 39,
   "metadata": {
    "id": "oC8QrI2tFtIp"
   },
   "outputs": [],
   "source": [
    "# Just add code."
   ]
  },
  {
   "cell_type": "markdown",
   "metadata": {
    "id": "APqhJv3tta1O"
   },
   "source": [
    "## Exercise n) optional - Introduce a NeuralNetwork class\n",
    "\n",
    "The functions we applied on the neural network (parameters, update_parameters and zero_gradients) can more naturally be included as methods in a NeuralNetwork class. Make such a class and modify the code to use it. "
   ]
  },
  {
   "cell_type": "code",
   "execution_count": 40,
   "metadata": {
    "id": "Dqfnor1ouMLq"
   },
   "outputs": [],
   "source": [
    "# just add some code"
   ]
  }
 ],
 "metadata": {
  "anaconda-cloud": {},
  "colab": {
   "collapsed_sections": [
    "U4057_ljNvWB",
    "p_8n_SKnIW2F",
    "oLrGJytZFtGm",
    "jpIZPBpNI0pO",
    "_79HOAXrFtHK",
    "mqeyab9qFtGs",
    "-XyXBD37FtHk",
    "SrwSJ2UWFtHu",
    "zTBAmjsAFtIk",
    "qsVPul3QFtIo",
    "APqhJv3tta1O"
   ],
   "name": "2.1-EXE-FNN-AutoDif-Nanograd.ipynb",
   "provenance": []
  },
  "kernelspec": {
   "display_name": "Python 3 (ipykernel)",
   "language": "python",
   "name": "python3"
  },
  "language_info": {
   "codemirror_mode": {
    "name": "ipython",
    "version": 3
   },
   "file_extension": ".py",
   "mimetype": "text/x-python",
   "name": "python",
   "nbconvert_exporter": "python",
   "pygments_lexer": "ipython3",
   "version": "3.8.12"
  }
 },
 "nbformat": 4,
 "nbformat_minor": 4
}
