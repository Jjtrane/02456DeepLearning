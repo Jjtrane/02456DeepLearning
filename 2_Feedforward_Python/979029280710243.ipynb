{
 "cells": [
  {
   "cell_type": "markdown",
   "metadata": {
    "id": "HAva8TnYFtFu"
   },
   "source": [
    "# Contents and why we need this lab\n",
    "\n",
    "This lab is about implementing neural networks yourself before we start using other frameworks which hide some of the computation from you. It builds on the first lab where you derived the equations for neural network forward and backward propagation and gradient descent parameter updates. \n",
    "\n",
    "All the frameworks for deep learning you will meet from now on uses automatic differentiation (autodiff) so you don't have to code the backward step yourself. In this version of this lab you will develop your own autodif implementation. We also have a [version](https://github.com/DeepLearningDTU/02456-deep-learning-with-PyTorch/blob/master/2_Feedforward_NumPy/2.1-FNN-NumPy.ipynb) of this lab where you have to code the backward pass explicitly in Numpy."
   ]
  },
  {
   "cell_type": "markdown",
   "metadata": {
    "id": "sCa7HzwpFtFy"
   },
   "source": [
    "# External sources of information\n",
    "\n",
    "1. Jupyter notebook. You can find more information about Jupyter notebooks [here](https://jupyter.org/). It will come as part of the [Anaconda](https://www.anaconda.com/) Python installation. \n",
    "2. [NumPy](https://numpy.org/). Part of Anaconda distribution. If you already know how to program most things about Python and NumPy can be found through Google search.\n",
    "3. [Nanograd](https://github.com/rasmusbergpalm/nanograd) is a minimalistic version of autodiff developed by Rasmus Berg Palm that we use for our framework.\n"
   ]
  },
  {
   "cell_type": "markdown",
   "metadata": {
    "id": "1SjiIp-TFtF0"
   },
   "source": [
    "# This notebook will follow the next steps:\n",
    "\n",
    "1. Nanograd automatic differentiation framework\n",
    "2. Finite difference method\n",
    "3. Data generation\n",
    "4. Defining and initializing the network\n",
    "5. Forward pass\n",
    "6. Training loop \n",
    "7. Testing your model\n",
    "8. Further extensions"
   ]
  },
  {
   "cell_type": "markdown",
   "metadata": {
    "id": "OyXeAA-HuT7s"
   },
   "source": [
    "# Nanograd automatic differention framework"
   ]
  },
  {
   "cell_type": "markdown",
   "metadata": {
    "id": "k6UWKCLKubgA"
   },
   "source": [
    "The [Nanograd](https://github.com/rasmusbergpalm/nanograd) framework defines a class Var which both holds a value and gradient value that we can use to store the intermediate values when we apply the chain rule of differentiation."
   ]
  },
  {
   "cell_type": "code",
   "execution_count": 315,
   "metadata": {
    "id": "Jd4CoEBNzNWS"
   },
   "outputs": [],
   "source": [
    "# Copy and pasted from https://github.com/rasmusbergpalm/nanograd/blob/main/nanograd.py\n",
    "\n",
    "from math import exp, log\n",
    "\n",
    "class Var:\n",
    "    \"\"\"\n",
    "    A variable which holds a float and enables gradient computations.\n",
    "    \"\"\"\n",
    "\n",
    "    def __init__(self, val: float, grad_fn=lambda: []):\n",
    "        assert type(val) == float\n",
    "        self.v = val\n",
    "        self.grad_fn = grad_fn\n",
    "        self.grad = 0.0\n",
    "\n",
    "    def backprop(self, bp):\n",
    "        self.grad += bp\n",
    "        for input, grad in self.grad_fn():\n",
    "            input.backprop(grad * bp)\n",
    "\n",
    "    def backward(self):\n",
    "        self.backprop(1.0)\n",
    "\n",
    "    def __add__(self: 'Var', other: 'Var') -> 'Var':\n",
    "        return Var(self.v + other.v, lambda: [(self, 1.0), (other, 1.0)])\n",
    "\n",
    "    def __mul__(self: 'Var', other: 'Var') -> 'Var':\n",
    "        return Var(self.v * other.v, lambda: [(self, other.v), (other, self.v)])\n",
    "\n",
    "    def __pow__(self, power):\n",
    "        assert type(power) in {float, int}, \"power must be float or int\"\n",
    "        return Var(self.v ** power, lambda: [(self, power * self.v ** (power - 1))])\n",
    "\n",
    "    def __neg__(self: 'Var') -> 'Var':\n",
    "        return Var(-1.0) * self\n",
    "\n",
    "    def __sub__(self: 'Var', other: 'Var') -> 'Var':\n",
    "        return self + (-other)\n",
    "\n",
    "    def __truediv__(self: 'Var', other: 'Var') -> 'Var':\n",
    "        return self * other ** -1\n",
    "\n",
    "    def __repr__(self):\n",
    "        return \"Var(v=%.4f, grad=%.4f)\" % (self.v, self.grad)\n",
    "\n",
    "    def relu(self):\n",
    "        return Var(self.v if self.v > 0.0 else 0.0, lambda: [(self, 1.0 if self.v > 0.0 else 0.0)])"
   ]
  },
  {
   "cell_type": "markdown",
   "metadata": {
    "id": "yDX67D6jzcte"
   },
   "source": [
    "A few examples illustrate how we can use this:"
   ]
  },
  {
   "cell_type": "code",
   "execution_count": 316,
   "metadata": {
    "colab": {
     "base_uri": "https://localhost:8080/"
    },
    "id": "xk6PeLc3zwPT",
    "outputId": "47e431b2-07ba-4cb1-ea21-997769641c67"
   },
   "outputs": [
    {
     "name": "stdout",
     "output_type": "stream",
     "text": [
      "Var(v=3.0000, grad=5.0000)\n",
      "Var(v=5.0000, grad=3.0000)\n",
      "Var(v=15.0000, grad=1.0000)\n"
     ]
    }
   ],
   "source": [
    "a = Var(3.0)\n",
    "b = Var(5.0)\n",
    "f = a * b\n",
    "\n",
    "f.backward()\n",
    "\n",
    "for v in [a, b, f]:\n",
    "    print(v)"
   ]
  },
  {
   "cell_type": "code",
   "execution_count": 317,
   "metadata": {
    "colab": {
     "base_uri": "https://localhost:8080/"
    },
    "id": "JmKhYgsY0g_o",
    "outputId": "06c1b1df-c33c-40d3-922a-624612a591c7"
   },
   "outputs": [
    {
     "name": "stdout",
     "output_type": "stream",
     "text": [
      "Var(v=3.0000, grad=14.0000)\n",
      "Var(v=5.0000, grad=3.0000)\n",
      "Var(v=15.0000, grad=1.0000)\n",
      "Var(v=9.0000, grad=3.0000)\n",
      "Var(v=27.0000, grad=1.0000)\n",
      "Var(v=42.0000, grad=1.0000)\n"
     ]
    }
   ],
   "source": [
    "a = Var(3.0)\n",
    "b = Var(5.0)\n",
    "c = a * b\n",
    "d = Var(9.0)\n",
    "e = a * d\n",
    "f = c + e\n",
    "\n",
    "f.backward()\n",
    "\n",
    "for v in [a, b, c, d, e, f]:\n",
    "    print(v)"
   ]
  },
  {
   "cell_type": "markdown",
   "metadata": {
    "id": "Fe3B6uEH140p"
   },
   "source": [
    "## Exercise a) What is being calculated?\n",
    "\n",
    "Explain briefly the output of the code? What is the expression we differentiate and with respect to what variables?"
   ]
  },
  {
   "cell_type": "markdown",
   "metadata": {},
   "source": [
    "Answwer: \\\n",
    "Mainly the output of the code is the value and gradient of every variables. For the first equation $f = a * b$ we caculate the derivative of f with respect to $a$ and $b$. In this equation the derivative of $f$ with respect to $a$ is $b$ and the derivative of $f$ with respect to $b$ is $a$. For the second equation $f = a * b + a * d$ can be simplified as $f = a * ( b + d )$. In this equation we caculate the derivative of f with respect of $a, b, c, d, e$. It is clear that $f'(a) = b + d, f'(b) = a, f'(c) = 1.0, f'(d) = a, f'(e) = 1.0$"
   ]
  },
  {
   "cell_type": "markdown",
   "metadata": {
    "id": "q8_Q0t2I3Ruj"
   },
   "source": [
    "## Exercise b) How does the backward function work?\n",
    "\n",
    "You need to understand how the backward function calculates the gradients. We can use the two examples above to help with that.\n",
    "\n",
    "Go through the following four steps and answer the questions on the way:\n",
    "\n",
    "1. We represent the two expressions as graphs as shown below. Fill in the missing expressions for the different derivatives.\n",
    "\n",
    "2. In the remainder consider the first expression. Make a schematic of the data structure which is generated when we define the expression for f. \n",
    "\n",
    "3. Then execute the backward function by hand to convince yourself that it indeed calculates the gradients with respect to the variables. \n",
    "\n",
    "4. Write down the sequence of calls to backprop."
   ]
  },
  {
   "cell_type": "code",
   "execution_count": 318,
   "metadata": {
    "id": "idGr71jYXl26"
   },
   "outputs": [],
   "source": [
    "# import logging\n",
    "import graphviz\n",
    "\n",
    "#logging.basicConfig(format='[%(levelname)s@%(name)s] %(message)s', level=logging.DEBUG)\n",
    "\n",
    "#graphviz.__version__, graphviz.version()"
   ]
  },
  {
   "cell_type": "code",
   "execution_count": 319,
   "metadata": {
    "colab": {
     "base_uri": "https://localhost:8080/",
     "height": 152
    },
    "id": "KPe30Q2QXzeG",
    "outputId": "7fa002cd-a018-4dbb-ddf1-28ed5e99ee19"
   },
   "outputs": [
    {
     "data": {
      "image/svg+xml": [
       "<?xml version=\"1.0\" encoding=\"UTF-8\" standalone=\"no\"?>\n",
       "<!DOCTYPE svg PUBLIC \"-//W3C//DTD SVG 1.1//EN\"\n",
       " \"http://www.w3.org/Graphics/SVG/1.1/DTD/svg11.dtd\">\n",
       "<!-- Generated by graphviz version 5.0.0 (20220707.1540)\n",
       " -->\n",
       "<!-- Title: first expression Pages: 1 -->\n",
       "<svg width=\"455pt\" height=\"298pt\"\n",
       " viewBox=\"0.00 0.00 455.42 297.84\" xmlns=\"http://www.w3.org/2000/svg\" xmlns:xlink=\"http://www.w3.org/1999/xlink\">\n",
       "<g id=\"graph0\" class=\"graph\" transform=\"scale(1 1) rotate(0) translate(4 293.84)\">\n",
       "<title>first expression</title>\n",
       "<polygon fill=\"white\" stroke=\"transparent\" points=\"-4,4 -4,-293.84 451.42,-293.84 451.42,4 -4,4\"/>\n",
       "<!-- {a_val, a_grad} -->\n",
       "<g id=\"node1\" class=\"node\">\n",
       "<title>{a_val, a_grad}</title>\n",
       "<ellipse fill=\"none\" stroke=\"black\" cx=\"68.24\" cy=\"-222.24\" rx=\"67.69\" ry=\"67.69\"/>\n",
       "<text text-anchor=\"middle\" x=\"68.24\" y=\"-218.54\" font-family=\"Times,serif\" font-size=\"14.00\">{a_val, a_grad}</text>\n",
       "</g>\n",
       "<!-- f={f_val=a_val * b_val; \n",
       " [(a.self, f_grad_a=b_val), \n",
       " (b.self, f_grad_b=a_val)]} -->\n",
       "<g id=\"node2\" class=\"node\">\n",
       "<title>f={f_val=a_val * b_val; \n",
       " [(a.self, f_grad_a=b_val), \n",
       " (b.self, f_grad_b=a_val)]}</title>\n",
       "<ellipse fill=\"none\" stroke=\"black\" cx=\"331.45\" cy=\"-145.24\" rx=\"115.93\" ry=\"115.93\"/>\n",
       "<text text-anchor=\"middle\" x=\"331.45\" y=\"-156.54\" font-family=\"Times,serif\" font-size=\"14.00\">f={f_val=a_val * b_val; </text>\n",
       "<text text-anchor=\"middle\" x=\"331.45\" y=\"-141.54\" font-family=\"Times,serif\" font-size=\"14.00\"> [(a.self, f_grad_a=b_val), </text>\n",
       "<text text-anchor=\"middle\" x=\"331.45\" y=\"-126.54\" font-family=\"Times,serif\" font-size=\"14.00\"> (b.self, f_grad_b=a_val)]}</text>\n",
       "</g>\n",
       "<!-- {a_val, a_grad}&#45;&gt;f={f_val=a_val * b_val; \n",
       " [(a.self, f_grad_a=b_val), \n",
       " (b.self, f_grad_b=a_val)]} -->\n",
       "<g id=\"edge1\" class=\"edge\">\n",
       "<title>{a_val, a_grad}&#45;&gt;f={f_val=a_val * b_val; \n",
       " [(a.self, f_grad_a=b_val), \n",
       " (b.self, f_grad_b=a_val)]}</title>\n",
       "<path fill=\"none\" stroke=\"black\" d=\"M133.48,-203.31C156.75,-196.45 183.86,-188.46 210.38,-180.64\"/>\n",
       "<polygon fill=\"black\" stroke=\"black\" points=\"211.51,-183.95 220.12,-177.77 209.53,-177.24 211.51,-183.95\"/>\n",
       "<text text-anchor=\"middle\" x=\"175.99\" y=\"-198.04\" font-family=\"Times,serif\" font-size=\"14.00\">df/da=b</text>\n",
       "</g>\n",
       "<!-- {b_val, b_grad} -->\n",
       "<g id=\"node3\" class=\"node\">\n",
       "<title>{b_val, b_grad}</title>\n",
       "<ellipse fill=\"none\" stroke=\"black\" cx=\"68.24\" cy=\"-68.24\" rx=\"68.49\" ry=\"68.49\"/>\n",
       "<text text-anchor=\"middle\" x=\"68.24\" y=\"-64.54\" font-family=\"Times,serif\" font-size=\"14.00\">{b_val, b_grad}</text>\n",
       "</g>\n",
       "<!-- {b_val, b_grad}&#45;&gt;f={f_val=a_val * b_val; \n",
       " [(a.self, f_grad_a=b_val), \n",
       " (b.self, f_grad_b=a_val)]} -->\n",
       "<g id=\"edge2\" class=\"edge\">\n",
       "<title>{b_val, b_grad}&#45;&gt;f={f_val=a_val * b_val; \n",
       " [(a.self, f_grad_a=b_val), \n",
       " (b.self, f_grad_b=a_val)]}</title>\n",
       "<path fill=\"none\" stroke=\"black\" d=\"M133.81,-87.28C157.02,-94.12 184.01,-102.07 210.42,-109.86\"/>\n",
       "<polygon fill=\"black\" stroke=\"black\" points=\"209.53,-113.25 220.11,-112.72 211.51,-106.53 209.53,-113.25\"/>\n",
       "<text text-anchor=\"middle\" x=\"175.99\" y=\"-109.04\" font-family=\"Times,serif\" font-size=\"14.00\">df/db=a</text>\n",
       "</g>\n",
       "</g>\n",
       "</svg>\n"
      ],
      "text/plain": [
       "<graphviz.graphs.Digraph at 0x7fee02b229e8>"
      ]
     },
     "execution_count": 319,
     "metadata": {},
     "output_type": "execute_result"
    }
   ],
   "source": [
    "e1 = graphviz.Digraph('first expression', filename='fsm.gv')\n",
    "\n",
    "e1.attr(rankdir='LR', size='8,5')\n",
    "\n",
    "e1.attr('node', shape='circle')\n",
    "e1.edge('{a_val, a_grad}', 'f={f_val=a_val * b_val; \\n [(a.self, f_grad_a=b_val), \\n (b.self, f_grad_b=a_val)]}', label='df/da=b')\n",
    "e1.edge('{b_val, b_grad}', 'f={f_val=a_val * b_val; \\n [(a.self, f_grad_a=b_val), \\n (b.self, f_grad_b=a_val)]}', label='df/db=a')\n",
    "\n",
    "e1"
   ]
  },
  {
   "cell_type": "code",
   "execution_count": 320,
   "metadata": {
    "colab": {
     "base_uri": "https://localhost:8080/",
     "height": 232
    },
    "id": "0nittR-mZFeX",
    "outputId": "fa3656a3-732c-4abe-8084-98a492b0d6be"
   },
   "outputs": [
    {
     "data": {
      "image/svg+xml": [
       "<?xml version=\"1.0\" encoding=\"UTF-8\" standalone=\"no\"?>\n",
       "<!DOCTYPE svg PUBLIC \"-//W3C//DTD SVG 1.1//EN\"\n",
       " \"http://www.w3.org/Graphics/SVG/1.1/DTD/svg11.dtd\">\n",
       "<!-- Generated by graphviz version 5.0.0 (20220707.1540)\n",
       " -->\n",
       "<!-- Title: second expression Pages: 1 -->\n",
       "<svg width=\"287pt\" height=\"158pt\"\n",
       " viewBox=\"0.00 0.00 287.00 158.00\" xmlns=\"http://www.w3.org/2000/svg\" xmlns:xlink=\"http://www.w3.org/1999/xlink\">\n",
       "<g id=\"graph0\" class=\"graph\" transform=\"scale(1 1) rotate(0) translate(4 154)\">\n",
       "<title>second expression</title>\n",
       "<polygon fill=\"white\" stroke=\"transparent\" points=\"-4,4 -4,-154 283,-154 283,4 -4,4\"/>\n",
       "<!-- a -->\n",
       "<g id=\"node1\" class=\"node\">\n",
       "<title>a</title>\n",
       "<ellipse fill=\"none\" stroke=\"black\" cx=\"18\" cy=\"-75\" rx=\"18\" ry=\"18\"/>\n",
       "<text text-anchor=\"middle\" x=\"18\" y=\"-71.3\" font-family=\"Times,serif\" font-size=\"14.00\">a</text>\n",
       "</g>\n",
       "<!-- c -->\n",
       "<g id=\"node2\" class=\"node\">\n",
       "<title>c</title>\n",
       "<ellipse fill=\"none\" stroke=\"black\" cx=\"135\" cy=\"-102\" rx=\"18\" ry=\"18\"/>\n",
       "<text text-anchor=\"middle\" x=\"135\" y=\"-98.3\" font-family=\"Times,serif\" font-size=\"14.00\">c</text>\n",
       "</g>\n",
       "<!-- a&#45;&gt;c -->\n",
       "<g id=\"edge1\" class=\"edge\">\n",
       "<title>a&#45;&gt;c</title>\n",
       "<path fill=\"none\" stroke=\"black\" d=\"M35.97,-78.98C54.76,-83.4 85.31,-90.57 107.31,-95.73\"/>\n",
       "<polygon fill=\"black\" stroke=\"black\" points=\"106.8,-99.21 117.34,-98.09 108.4,-92.39 106.8,-99.21\"/>\n",
       "<text text-anchor=\"middle\" x=\"76.5\" y=\"-96.8\" font-family=\"Times,serif\" font-size=\"14.00\">dc/da=b</text>\n",
       "</g>\n",
       "<!-- e -->\n",
       "<g id=\"node4\" class=\"node\">\n",
       "<title>e</title>\n",
       "<ellipse fill=\"none\" stroke=\"black\" cx=\"135\" cy=\"-48\" rx=\"18\" ry=\"18\"/>\n",
       "<text text-anchor=\"middle\" x=\"135\" y=\"-44.3\" font-family=\"Times,serif\" font-size=\"14.00\">e</text>\n",
       "</g>\n",
       "<!-- a&#45;&gt;e -->\n",
       "<g id=\"edge3\" class=\"edge\">\n",
       "<title>a&#45;&gt;e</title>\n",
       "<path fill=\"none\" stroke=\"black\" d=\"M35.28,-69.49C41.14,-67.61 47.83,-65.58 54,-64 71.5,-59.51 91.43,-55.53 107.01,-52.65\"/>\n",
       "<polygon fill=\"black\" stroke=\"black\" points=\"107.8,-56.07 117.03,-50.85 106.56,-49.18 107.8,-56.07\"/>\n",
       "<text text-anchor=\"middle\" x=\"76.5\" y=\"-67.8\" font-family=\"Times,serif\" font-size=\"14.00\">de/da=d</text>\n",
       "</g>\n",
       "<!-- f -->\n",
       "<g id=\"node6\" class=\"node\">\n",
       "<title>f</title>\n",
       "<ellipse fill=\"none\" stroke=\"black\" cx=\"261\" cy=\"-75\" rx=\"18\" ry=\"18\"/>\n",
       "<text text-anchor=\"middle\" x=\"261\" y=\"-71.3\" font-family=\"Times,serif\" font-size=\"14.00\">f</text>\n",
       "</g>\n",
       "<!-- c&#45;&gt;f -->\n",
       "<g id=\"edge5\" class=\"edge\">\n",
       "<title>c&#45;&gt;f</title>\n",
       "<path fill=\"none\" stroke=\"black\" d=\"M152.72,-98.36C173.34,-93.87 208.64,-86.18 233.09,-80.86\"/>\n",
       "<polygon fill=\"black\" stroke=\"black\" points=\"234.12,-84.22 243.15,-78.67 232.63,-77.38 234.12,-84.22\"/>\n",
       "<text text-anchor=\"middle\" x=\"198\" y=\"-97.8\" font-family=\"Times,serif\" font-size=\"14.00\">df/dc=1.0</text>\n",
       "</g>\n",
       "<!-- b -->\n",
       "<g id=\"node3\" class=\"node\">\n",
       "<title>b</title>\n",
       "<ellipse fill=\"none\" stroke=\"black\" cx=\"18\" cy=\"-132\" rx=\"18\" ry=\"18\"/>\n",
       "<text text-anchor=\"middle\" x=\"18\" y=\"-128.3\" font-family=\"Times,serif\" font-size=\"14.00\">b</text>\n",
       "</g>\n",
       "<!-- b&#45;&gt;c -->\n",
       "<g id=\"edge2\" class=\"edge\">\n",
       "<title>b&#45;&gt;c</title>\n",
       "<path fill=\"none\" stroke=\"black\" d=\"M35.97,-127.57C54.85,-122.65 85.58,-114.63 107.61,-108.88\"/>\n",
       "<polygon fill=\"black\" stroke=\"black\" points=\"108.54,-112.26 117.34,-106.35 106.78,-105.48 108.54,-112.26\"/>\n",
       "<text text-anchor=\"middle\" x=\"76.5\" y=\"-125.8\" font-family=\"Times,serif\" font-size=\"14.00\">dc/db=a</text>\n",
       "</g>\n",
       "<!-- e&#45;&gt;f -->\n",
       "<g id=\"edge6\" class=\"edge\">\n",
       "<title>e&#45;&gt;f</title>\n",
       "<path fill=\"none\" stroke=\"black\" d=\"M152.9,-50.01C170.93,-52.35 200.24,-56.71 225,-63 228.02,-63.77 231.14,-64.67 234.23,-65.64\"/>\n",
       "<polygon fill=\"black\" stroke=\"black\" points=\"233.19,-68.98 243.79,-68.82 235.41,-62.34 233.19,-68.98\"/>\n",
       "<text text-anchor=\"middle\" x=\"198\" y=\"-66.8\" font-family=\"Times,serif\" font-size=\"14.00\">df/de=1.0</text>\n",
       "</g>\n",
       "<!-- d -->\n",
       "<g id=\"node5\" class=\"node\">\n",
       "<title>d</title>\n",
       "<ellipse fill=\"none\" stroke=\"black\" cx=\"18\" cy=\"-18\" rx=\"18\" ry=\"18\"/>\n",
       "<text text-anchor=\"middle\" x=\"18\" y=\"-14.3\" font-family=\"Times,serif\" font-size=\"14.00\">d</text>\n",
       "</g>\n",
       "<!-- d&#45;&gt;e -->\n",
       "<g id=\"edge4\" class=\"edge\">\n",
       "<title>d&#45;&gt;e</title>\n",
       "<path fill=\"none\" stroke=\"black\" d=\"M36.03,-20.87C52.35,-23.8 77.59,-28.79 99,-35 102.17,-35.92 105.47,-36.99 108.72,-38.12\"/>\n",
       "<polygon fill=\"black\" stroke=\"black\" points=\"107.54,-41.41 118.13,-41.55 109.94,-34.83 107.54,-41.41\"/>\n",
       "<text text-anchor=\"middle\" x=\"76.5\" y=\"-38.8\" font-family=\"Times,serif\" font-size=\"14.00\">de/dd=a</text>\n",
       "</g>\n",
       "</g>\n",
       "</svg>\n"
      ],
      "text/plain": [
       "<graphviz.graphs.Digraph at 0x7fee035ea5c0>"
      ]
     },
     "execution_count": 320,
     "metadata": {},
     "output_type": "execute_result"
    }
   ],
   "source": [
    "e2 = graphviz.Digraph('second expression', filename='fsm.gv')\n",
    "\n",
    "e2.attr(rankdir='LR', size='8,5')\n",
    "\n",
    "e2.attr('node', shape='circle')\n",
    "e2.edge('a', 'c', label='dc/da=b')\n",
    "e2.edge('b', 'c', label='dc/db=a')\n",
    "e2.edge('a', 'e', label='de/da=d')\n",
    "e2.edge('d', 'e', label='de/dd=a')\n",
    "e2.edge('c', 'f', label='df/dc=1.0')\n",
    "e2.edge('e', 'f', label='df/de=1.0')\n",
    "\n",
    "e2"
   ]
  },
  {
   "cell_type": "markdown",
   "metadata": {},
   "source": [
    "Answer: \\\n",
    "The $f$ function can be written in three seperate equation: \n",
    "$$\n",
    "\\begin{align}\n",
    "f & = c + e \\\\\n",
    "c & = a * b \\\\\n",
    "e & = a * d \n",
    "\\end{align}\n",
    "$$\n",
    "Then apply the chain rule:\n",
    "$$\n",
    "\\begin{align}\n",
    "\\frac{\\partial f}{\\partial a} & = \\frac{\\partial f}{\\partial c} \\frac{\\partial c}{\\partial a} \\\\\n",
    "\\frac{\\partial f}{\\partial c} & = 1.0 \\\\\n",
    "\\frac{\\partial c}{\\partial a} & = b \\\\\n",
    "\\frac{\\partial f}{\\partial a} & = 1.0 * b\n",
    "\\end{align}\n",
    "$$\n",
    "$b, d$ can be caculated by chain rule as well:\n",
    "$$\n",
    "\\begin{align}\n",
    "\\frac{\\partial f}{\\partial b} & = \\frac{\\partial f}{\\partial c} \\frac{\\partial c}{\\partial b} = 1.0 * a \\\\\n",
    "\\frac{\\partial f}{\\partial d} & = \\frac{\\partial f}{\\partial e} \\frac{\\partial e}{\\partial d} = 1.0 * a\n",
    "\\end{align}\n",
    "$$\n",
    "Sequence of calls to backprop: \\\n",
    "In the class Var, every object contain 2 part. The first part includes object's value and the second part includes all information about the derivative of object with respect of other variables. For f in first function: \\\n",
    "$$\n",
    "f = a * b = {f_value = a_value * b_value, lambda = [(a.self, f'(a) = b_value), (b.self, f'(b) = a_value)]}\n",
    "$$\n",
    "After the mul function, gradient of all vriables is 0.0.\n",
    "And then calls f.backward. Next, f.backward function calls f.backprop(1.0) function which calculate f_grad, a_grad, b_grad. f.grad = f.grad(0.0) + 1.0 = 1.0. Inside the self.backprop function, it also calculate a.grad and b.grad by applying a.backprop($f'(a) * 1.0$) and b.backprop($f'(b) * 1.0$) so at last a.backprop = b_value and b.backprop = a_value"
   ]
  },
  {
   "cell_type": "markdown",
   "metadata": {
    "id": "A5oi21W4gpeM"
   },
   "source": [
    "## Exercise c) What happens if we run backward again?\n",
    "\n",
    "Try to execute the code below. Explain what happens."
   ]
  },
  {
   "cell_type": "markdown",
   "metadata": {},
   "source": [
    "Answer: \\\n",
    "The value of every variable will not change but the gradient of all variables will double. "
   ]
  },
  {
   "cell_type": "code",
   "execution_count": 321,
   "metadata": {
    "colab": {
     "base_uri": "https://localhost:8080/"
    },
    "id": "DCtpJyr-gyX1",
    "outputId": "d014bcfa-c9ae-49c3-d268-91cc6ca94ea5"
   },
   "outputs": [
    {
     "name": "stdout",
     "output_type": "stream",
     "text": [
      "Var(v=3.0000, grad=28.0000)\n",
      "Var(v=5.0000, grad=6.0000)\n",
      "Var(v=15.0000, grad=2.0000)\n",
      "Var(v=9.0000, grad=6.0000)\n",
      "Var(v=27.0000, grad=2.0000)\n",
      "Var(v=42.0000, grad=2.0000)\n"
     ]
    }
   ],
   "source": [
    "f.backward()\n",
    "\n",
    "for v in [a, b, c, d, e, f]:\n",
    "    print(v)"
   ]
  },
  {
   "cell_type": "markdown",
   "metadata": {
    "id": "e8bPVq2VhsP-"
   },
   "source": [
    "## Exercise d) Zero gradient\n",
    "\n",
    "We can zero the gradient by backpropagating a -1.0 as is shown in the example below. (If you have run backward multiple time then you also have to run the cell below an equal amount of times.) Explain what is going on."
   ]
  },
  {
   "cell_type": "markdown",
   "metadata": {},
   "source": [
    "Answer:\n",
    "Before apply backward() function, all gradients is 0.0. When we are applying backward() function, we apply backprop(1.0) function so all gradients of variables will be calculated using gradients information in lambda timing 1.0 and plus the original gradient which is 0.0. However when we are applying backprop(-1.0) function, current gradients will time -1.0 and then plus gradient which can be written as: $grad = grad * -1.0 + grad$ which clearly equal 0.0. So applying backprop(-1.0) function zero all the gradients.  "
   ]
  },
  {
   "cell_type": "code",
   "execution_count": 322,
   "metadata": {
    "colab": {
     "base_uri": "https://localhost:8080/"
    },
    "id": "OnyPDQx9lJe0",
    "outputId": "7a125fdc-60c4-4340-a580-8b82aea5b0db"
   },
   "outputs": [
    {
     "name": "stdout",
     "output_type": "stream",
     "text": [
      "Var(v=2.0000, grad=0.0000)\n",
      "Var(v=5.0000, grad=3.0000)\n",
      "Var(v=15.0000, grad=1.0000)\n",
      "Var(v=9.0000, grad=3.0000)\n",
      "Var(v=27.0000, grad=1.0000)\n",
      "Var(v=42.0000, grad=1.0000)\n"
     ]
    }
   ],
   "source": [
    "a = Var(2.0)\n",
    "\n",
    "# for v in [a, b, c, d, e, f]:\n",
    "#     print(v)\n",
    "\n",
    "f.backprop(-1.0)\n",
    "\n",
    "for v in [a, b, c, d, e, f]:\n",
    "    print(v)"
   ]
  },
  {
   "cell_type": "markdown",
   "metadata": {
    "id": "U4057_ljNvWB"
   },
   "source": [
    "## Exercise e) Test correctness of derivatives with the finite difference method\n",
    "\n",
    "Write a small function that uses [the finite difference method](https://en.wikipedia.org/wiki/Finite_difference_method) to numerically test that backpropation implementation is working. In short we will use\n",
    "$$\n",
    "\\frac{\\partial f(a)}{\\partial a} \\approx \\frac{f(a+da)-f(a)}{da}\n",
    "$$\n",
    "for $da \\ll 1$.\n",
    "\n",
    "As an example, we could approximate the derivative of the function $f(a)=a^2$ in e.g. the value $a=4$ using the finite difference method. This amounts to inserting the relevant values and approximating the gradient $f'(4)$ with the fraction above. \n"
   ]
  },
  {
   "cell_type": "code",
   "execution_count": 323,
   "metadata": {
    "colab": {
     "base_uri": "https://localhost:8080/"
    },
    "id": "9TGil92lSXDN",
    "outputId": "7ef5489b-b525-4132-ab08-0b1109c07f4d"
   },
   "outputs": [
    {
     "name": "stdout",
     "output_type": "stream",
     "text": [
      "Var(v=3.0000, grad=5.0000)\n",
      "Var(v=5.0000, grad=3.0000)\n",
      "Var(v=15.0000, grad=1.0000)\n",
      "8.000000661922968\n"
     ]
    }
   ],
   "source": [
    "# f function - try to change the code to test other types of functions as well (such as different polynomials etc.)\n",
    "def f_function(a):\n",
    "  a = Var(a)\n",
    "  b = Var(5.0)\n",
    "  f = a * b\n",
    "  f.backward()\n",
    "  return a,b,f\n",
    "\n",
    "for v in f_function(3.0):\n",
    "  print(v)\n",
    "\n",
    "def power(a):\n",
    "    return a ** 2\n",
    "\n",
    "# Insert your finite difference code here\n",
    "def finite_difference(da=1e-10):\n",
    "    \"\"\"\n",
    "    This function compute the finite difference between\n",
    "    \n",
    "    Input:\n",
    "    da:          The finite difference                           (float)\n",
    "    \n",
    "    Output:\n",
    "    finite_difference: numerical approximation to the derivative (float) \n",
    "    \"\"\"\n",
    "    \n",
    "    fa_da = 0           # <- Insert correct expression\n",
    "    fa = 0               # <- Insert correct expression\n",
    "    a = 4\n",
    "    fa = power(a)\n",
    "    fa_da = power(a+da)\n",
    "\n",
    "    finite_difference = (fa_da - fa) / da\n",
    "    \n",
    "    return finite_difference\n",
    "\n",
    "print(finite_difference())"
   ]
  },
  {
   "cell_type": "markdown",
   "metadata": {
    "id": "6pZar5RKaUkg"
   },
   "source": [
    "# Create an artificial dataset to play with\n",
    "\n",
    "We create a non-linear 1d regression task. The generator supports various noise levels and it creates train, validation and test sets. You can modify it yourself if you want more or less challenging tasks."
   ]
  },
  {
   "cell_type": "code",
   "execution_count": 471,
   "metadata": {
    "id": "Y6yfMAQ8aduj"
   },
   "outputs": [],
   "source": [
    "import numpy as np\n",
    "import matplotlib.pyplot as plt\n",
    "\n",
    "np.random.seed(42)"
   ]
  },
  {
   "cell_type": "code",
   "execution_count": 472,
   "metadata": {
    "id": "4YabfD43ajNh"
   },
   "outputs": [],
   "source": [
    "def data_generator(noise=0.1, n_samples=300, D1=True):\n",
    "    # Create covariates and response variable\n",
    "    if D1:\n",
    "        X = np.linspace(-3, 3, num=n_samples).reshape(-1,1) # 1-D\n",
    "        np.random.shuffle(X)\n",
    "        y = np.random.normal((0.5*np.sin(X[:,0]*3) + X[:,0]), noise) # 1-D with trend\n",
    "    else:\n",
    "        X = np.random.multivariate_normal(np.zeros(3), noise*np.eye(3), size = n_samples) # 3-D\n",
    "        np.random.shuffle(X)    \n",
    "        y = np.sin(X[:,0]) - 5*(X[:,1]**2) + 0.5*X[:,2] # 3-D\n",
    "\n",
    "    # Stack them together vertically to split data set\n",
    "    data_set = np.vstack((X.T,y)).T\n",
    "    \n",
    "    train, validation, test = np.split(data_set, [int(0.35*n_samples), int(0.7*n_samples)], axis=0)\n",
    "    \n",
    "    # Standardization of the data, remember we do the standardization with the training set mean and standard deviation\n",
    "    train_mu = np.mean(train, axis=0)\n",
    "    train_sigma = np.std(train, axis=0)\n",
    "    \n",
    "    train = (train-train_mu)/train_sigma\n",
    "    validation = (validation-train_mu)/train_sigma\n",
    "    test = (test-train_mu)/train_sigma\n",
    "    \n",
    "    x_train, x_validation, x_test = train[:,:-1], validation[:,:-1], test[:,:-1]\n",
    "    y_train, y_validation, y_test = train[:,-1], validation[:,-1], test[:,-1]\n",
    "\n",
    "    return x_train, y_train,  x_validation, y_validation, x_test, y_test"
   ]
  },
  {
   "cell_type": "code",
   "execution_count": 473,
   "metadata": {
    "id": "u1oDngHLapIz"
   },
   "outputs": [],
   "source": [
    "D1 = True\n",
    "x_train, y_train,  x_validation, y_validation, x_test, y_test = data_generator(noise=0.5, D1=D1)"
   ]
  },
  {
   "cell_type": "code",
   "execution_count": 474,
   "metadata": {
    "colab": {
     "base_uri": "https://localhost:8080/",
     "height": 265
    },
    "id": "Ysfa3FsBavlm",
    "outputId": "399e5382-ae7d-48f6-9774-7ea4c73e7d95"
   },
   "outputs": [
    {
     "data": {
      "image/png": "[encoded data removed]",
      "text/plain": [
       "<Figure size 432x288 with 1 Axes>"
      ]
     },
     "metadata": {
      "needs_background": "light"
     },
     "output_type": "display_data"
    }
   ],
   "source": [
    "if D1:\n",
    "    plt.scatter(x_train[:,0], y_train);\n",
    "    plt.scatter(x_validation[:,0], y_validation);\n",
    "    plt.scatter(x_test[:,0], y_test);\n",
    "else:\n",
    "    plt.scatter(x_train[:,1], y_train);\n",
    "    plt.scatter(x_validation[:,1], y_validation);\n",
    "    plt.scatter(x_test[:,1], y_test);\n",
    "plt.show()"
   ]
  },
  {
   "cell_type": "code",
   "execution_count": 490,
   "metadata": {
    "id": "zac2HHNlgbpm"
   },
   "outputs": [],
   "source": [
    "# convert from nparray to Var\n",
    "def nparray_to_Var(x):\n",
    "  if x.ndim==1:\n",
    "    y = [[Var(float(x[i]))] for i in range(x.shape[0])] # always work with list of list\n",
    "  else:\n",
    "    y = [[Var(float(x[i,j])) for j in range(x.shape[1])] for i in range(x.shape[0])]\n",
    "  return y\n",
    "   \n",
    "x_train = nparray_to_Var(x_train)\n",
    "y_train = nparray_to_Var(y_train)\n",
    "x_validation = nparray_to_Var(x_validation)\n",
    "y_validation = nparray_to_Var(y_validation)\n",
    "x_test = nparray_to_Var(x_test)\n",
    "y_test = nparray_to_Var(y_test)\n"
   ]
  },
  {
   "cell_type": "markdown",
   "metadata": {
    "id": "VbjrqcpVFtGe"
   },
   "source": [
    "# Defining and initializing the network\n",
    "\n",
    "The steps to create a feed forward neural network are the following:\n",
    "\n",
    "1. **Number of hidden layer and hidden units**. We have to define the number of hidden units in each layer. The number of features in X and the output dimensionality (the size of Y) are given but the numbers in between are set by the researcher. Remember that for each unit in each layer beside in the input has a bias term.\n",
    "2. **Activation functions** for each hidden layer. Each hidden layer in your list must have an activation function (it can also be the linear activation which is equivalent to identity function). The power of neural networks comes from non-linear activation functions that learn representations (features) from the data allowing us to learn from it. \n",
    "3. **Parameter initialization**. We will initialize the weights to have random values. This is done in practice by drawing pseudo random numbers from a Gaussian or uniform distribution. It turns out that for deeper models we have to be careful about how we scale the random numbers. This will be the topic of the exercise below. For now we will just use unit variance Gaussians.  \n",
    "\n",
    "In order to make life easier for ourselves we define a DenseLayer class that takes care of initialization and the forward pass. We can also extend it later with print and advanced initialization capabilities. For the latter we have introduced a Initializer class.\n",
    "\n",
    "Note that we use Sequence in the code below. A Sequence is an ordered list. This means the order we insert and access items are the same."
   ]
  },
  {
   "cell_type": "code",
   "execution_count": 476,
   "metadata": {
    "id": "ij_ieRsAt7Xt"
   },
   "outputs": [],
   "source": [
    "class Initializer:\n",
    "\n",
    "  def init_weights(self, n_in, n_out):\n",
    "    raise NotImplementedError\n",
    "\n",
    "  def init_bias(self, n_out):\n",
    "    raise NotImplementedError"
   ]
  },
  {
   "cell_type": "code",
   "execution_count": 477,
   "metadata": {
    "id": "eb18N5phuIha"
   },
   "outputs": [],
   "source": [
    "import random\n",
    "\n",
    "class Glorot(Initializer):\n",
    "\n",
    "  def __init__(self, std=0.1, n_in = 1, n_out = 1, activation_func = 'tanh'):\n",
    "    self.alpha = 1.0 if activation_func == 'tanh' else 2.0\n",
    "    self.std = std\n",
    "    self.mean = (2.0 * self.alpha) / (n_in + n_out)\n",
    "\n",
    "  def init_weights(self, n_in, n_out):\n",
    "    return [[Var(random.gauss(self.mean, self.std)) for _ in range(n_out)] for _ in range(n_in)]\n",
    "\n",
    "  def init_bias(self, n_out):\n",
    "    return [Var(0.0) for _ in range(n_out)]\n",
    "        \n",
    "class He(Initializer):\n",
    "\n",
    "  def __init__(self, std=0.1, n_in = 1, n_out = 1, activation_func = 'relu'):\n",
    "    self.alpha = 2.0 if activation_func == 'relu' else 1.0\n",
    "    self.std = std\n",
    "    self.mean = self.alpha / (n_in + n_out)\n",
    "\n",
    "  def init_weights(self, n_in, n_out):\n",
    "    return [[Var(random.gauss(self.mean, self.std)) for _ in range(n_out)] for _ in range(n_in)]\n",
    "\n",
    "  def init_bias(self, n_out):\n",
    "    return [Var(0.0) for _ in range(n_out)]\n",
    "\n",
    "class NormalInitializer(Initializer):\n",
    "\n",
    "  def __init__(self, mean=0, std=0.1):\n",
    "    self.mean = mean\n",
    "    self.std = std\n",
    "\n",
    "  def init_weights(self, n_in, n_out):\n",
    "    return [[Var(random.gauss(self.mean, self.std)) for _ in range(n_out)] for _ in range(n_in)]\n",
    "\n",
    "  def init_bias(self, n_out):\n",
    "    return [Var(0.0) for _ in range(n_out)]\n",
    "\n",
    "class ConstantInitializer(Initializer):\n",
    "\n",
    "  def __init__(self, weight=1.0, bias=0.0):\n",
    "    self.weight = weight\n",
    "    self.bias = bias\n",
    "\n",
    "  def init_weights(self, n_in, n_out):\n",
    "    return [[Var(self.weight) for _ in range(n_out)] for _ in range(n_in)]\n",
    "\n",
    "  def init_bias(self, n_out):\n",
    "    return [Var(self.bias) for _ in range(n_out)]"
   ]
  },
  {
   "cell_type": "code",
   "execution_count": 610,
   "metadata": {
    "id": "jOLYGnZKuM6W"
   },
   "outputs": [],
   "source": [
    "from typing import Sequence\n",
    "\n",
    "class DenseLayer:\n",
    "    def __init__(self, n_in: int, n_out: int, act_fn, initializer = NormalInitializer()):\n",
    "        self.weights = initializer.init_weights(n_in, n_out)\n",
    "        self.bias = initializer.init_bias(n_out)\n",
    "        self.act_fn = act_fn\n",
    "    \n",
    "    def __repr__(self):\n",
    "#         str = ''\n",
    "#         for i in range(len(self.weights)):\n",
    "#             str += 'layer {}'.format(i) + ' Weights: ' + repr(self.weights[i]) + '\\n'\n",
    "#         str +=  ' Biases: ' + repr(self.bias)\n",
    "#         return str\n",
    "        return 'Weights: ' + repr(self.weights) + ' Biases: ' + repr(self.bias)\n",
    "\n",
    "    def parameters(self) -> Sequence[Var]:\n",
    "        params = []\n",
    "        for r in self.weights:\n",
    "            params += r\n",
    "\n",
    "        return params + self.bias\n",
    "    \n",
    "    def print_paras(self):\n",
    "        bias = []\n",
    "        for i in range(len(self.weights)):\n",
    "            weight = []\n",
    "            for j in range(len(self.weights[i])):\n",
    "                weight.append(self.weights[i][j])\n",
    "            print(\"layer {} weights:\".format(i), weight)\n",
    "        for b in self.bias:\n",
    "            bias.append(b)\n",
    "        print(\"bias\", bias)\n",
    "        \n",
    "    def forward(self, single_input: Sequence[Var]) -> Sequence[Var]:\n",
    "        # self.weights is a matrix with dimension n_in x n_out. We check that the dimensionality of the input \n",
    "        # to the current layer matches the number of nodes in the current layer\n",
    "        assert len(self.weights) == len(single_input), \"weights and single_input must match in first dimension\"\n",
    "        weights = self.weights\n",
    "        out = []\n",
    "        # For some given data point single_input, we now want to calculate the resulting value in each node in the current layer\n",
    "        # We therefore loop over the (number of) nodes in the current layer:\n",
    "        for j in range(len(weights[0])): \n",
    "            # Initialize the node value depending on its corresponding parameters.\n",
    "            node = Var(0.0) # <- Insert code\n",
    "            # We now finish the linear transformation corresponding to the parameters of the currently considered node.\n",
    "            for i in range(len(single_input)):\n",
    "                node += Var(0.0)  # <- Insert code\n",
    "                node += single_input[i] * weights[i][j]\n",
    "            node = self.act_fn(node + self.bias[j])\n",
    "            out.append(node)\n",
    "\n",
    "        return out\n",
    "    "
   ]
  },
  {
   "cell_type": "markdown",
   "metadata": {
    "id": "jpIZPBpNI0pO"
   },
   "source": [
    "## Exercise f) Add more activation functions\n",
    "\n",
    "To have a full definition of the neural network, we must define an activation function for every layer. Several activation functions have been proposed and have different characteristics. In the Var class we have already defined the rectified linear init (relu). \n",
    " \n",
    "Implement the following activation functions in the Var class:\n",
    "\n",
    "* Identity: $$\\mathrm{identity}(x) = x$$\n",
    "* Hyperbolic tangent: $$\\tanh(x)$$\n",
    "* Sigmoid (or logistic function): $$\\mathrm{sigmoid}(x) = \\frac{1}{1.0 + \\exp(-x ) }$$  Hint: $\\mathrm{sigmoid}'(x)= \\mathrm{sigmoid}(x)(1-\\mathrm{sigmoid}(x))$.  \n",
    "\n",
    "Hint: You can seek inspiration in the relu method in the Var class."
   ]
  },
  {
   "cell_type": "code",
   "execution_count": 611,
   "metadata": {
    "id": "Jd4CoEBNzNWS"
   },
   "outputs": [],
   "source": [
    "# Copy and pasted from https://github.com/rasmusbergpalm/nanograd/blob/main/nanograd.py\n",
    "\n",
    "from math import exp, log\n",
    "\n",
    "class Var:\n",
    "    \"\"\"\n",
    "    A variable which holds a float and enables gradient computations.\n",
    "    \"\"\"\n",
    "\n",
    "    def __init__(self, val: float, grad_fn=lambda: []):\n",
    "        assert type(val) == float\n",
    "        self.v = val\n",
    "        self.grad_fn = grad_fn\n",
    "        self.grad = 0.0\n",
    "\n",
    "    def backprop(self, bp):\n",
    "        self.grad += bp\n",
    "        for input, grad in self.grad_fn():\n",
    "            input.backprop(grad * bp)\n",
    "\n",
    "    def backward(self):\n",
    "        self.backprop(1.0)\n",
    "\n",
    "    def __add__(self: 'Var', other: 'Var') -> 'Var':\n",
    "        return Var(self.v + other.v, lambda: [(self, 1.0), (other, 1.0)])\n",
    "\n",
    "    def __mul__(self: 'Var', other: 'Var') -> 'Var':\n",
    "        return Var(self.v * other.v, lambda: [(self, other.v), (other, self.v)])\n",
    "\n",
    "    def __pow__(self, power):\n",
    "        assert type(power) in {float, int}, \"power must be float or int\"\n",
    "        return Var(self.v ** power, lambda: [(self, power * self.v ** (power - 1))])\n",
    "\n",
    "    def __neg__(self: 'Var') -> 'Var':\n",
    "        return Var(-1.0) * self\n",
    "\n",
    "    def __sub__(self: 'Var', other: 'Var') -> 'Var':\n",
    "        return self + (-other)\n",
    "\n",
    "    def exp(self):\n",
    "        return Var(exp(self.v), lambda: [(self, exp(self.v))])\n",
    "\n",
    "    def log(self):\n",
    "        return Var(log(self.v), lambda: [(self, self.v ** -1)])\n",
    "    \n",
    "    def __truediv__(self: 'Var', other: 'Var') -> 'Var':\n",
    "        return self * other ** -1\n",
    "\n",
    "    def __repr__(self):\n",
    "        return \"Var(v=%.4f, grad=%.4f)\" % (self.v, self.grad)\n",
    "\n",
    "    def relu(self):\n",
    "        return Var(self.v if self.v > 0.0 else 0.0, lambda: [(self, 1.0 if self.v > 0.0 else 0.0)])\n",
    "    \n",
    "    def identity(self):\n",
    "        return Var(self.v, lambda: [(self, 1.0)])\n",
    "    \n",
    "    def tanh(self):\n",
    "        return Var(((exp(self.v) - exp(-self.v)) / (exp(self.v) + exp(-self.v))), lambda: [(self, (1.0 - (exp(self.v) - exp(-self.v)) / (exp(self.v) + exp(-self.v))))])\n",
    "    \n",
    "    def sigmoid(self):\n",
    "        return Var((1.0 / (1.0 + exp(-self.v))), lambda: [(self, (1.0 / (1.0 + exp(-self.v)) * (1.0 - 1.0 / (1.0 + exp(-self.v)))))])\n",
    "    "
   ]
  },
  {
   "cell_type": "markdown",
   "metadata": {
    "id": "p_8n_SKnIW2F"
   },
   "source": [
    "## Exercise g) Complete the forward pass\n",
    "\n",
    "In the code below we initialize a 1-5-1 network and pass the training set through it. *The forward method in DenseLayer is **not** complete*. It just outputs zeros right now. The method forward should perform an [affine transformation](https://en.wikipedia.org/wiki/Affine_transformation) on the input followed by an application of the activation function."
   ]
  },
  {
   "cell_type": "code",
   "execution_count": 612,
   "metadata": {
    "colab": {
     "base_uri": "https://localhost:8080/",
     "height": 337
    },
    "id": "xDEjtePxE7Mv",
    "outputId": "753406cd-d8a1-4282-ce03-25ad959b0e11"
   },
   "outputs": [
    {
     "name": "stdout",
     "output_type": "stream",
     "text": [
      "[[Var(v=0.0044, grad=0.0000)], [Var(v=0.0010, grad=0.0000)], [Var(v=0.0026, grad=0.0000)], [Var(v=-0.0033, grad=0.0000)], [Var(v=0.0025, grad=0.0000)], [Var(v=0.0012, grad=0.0000)], [Var(v=-0.0014, grad=0.0000)], [Var(v=-0.0062, grad=0.0000)], [Var(v=0.0048, grad=0.0000)], [Var(v=0.0019, grad=0.0000)], [Var(v=-0.0020, grad=0.0000)], [Var(v=-0.0004, grad=0.0000)], [Var(v=-0.0065, grad=0.0000)], [Var(v=-0.0046, grad=0.0000)], [Var(v=0.0023, grad=0.0000)], [Var(v=-0.0069, grad=0.0000)], [Var(v=-0.0059, grad=0.0000)]]\n"
     ]
    }
   ],
   "source": [
    "NN = [\n",
    "    DenseLayer(1, 5, lambda x: x.relu()),\n",
    "    DenseLayer(5, 1, lambda x: x.identity())\n",
    "]\n",
    "\n",
    "def forward(input, network):\n",
    "\n",
    "  def forward_single(x, network):\n",
    "    for layer in network:\n",
    "        x = layer.forward(x)\n",
    "    return x\n",
    "\n",
    "  output = [ forward_single(input[n], network) for n in range(len(input))]\n",
    "  return output\n",
    "print(forward(x_train, NN))\n"
   ]
  },
  {
   "cell_type": "markdown",
   "metadata": {
    "id": "oLrGJytZFtGm"
   },
   "source": [
    "## Exercise h) Print all network parameters\n",
    "\n",
    "Make a function that prints all the parameters of the network (weights and biases) with information about in which layer the appear. In the object oriented spirit you should introduce a method in the DenseLayer class to print the parameters of a layer. Hint: You can take inspiration from the corresponding method in Var. "
   ]
  },
  {
   "cell_type": "code",
   "execution_count": 614,
   "metadata": {
    "id": "iac-VwYGFtGm"
   },
   "outputs": [
    {
     "name": "stdout",
     "output_type": "stream",
     "text": [
      "layer 1: \n",
      "Weights: [[Var(v=0.0136, grad=0.0000), Var(v=0.0914, grad=0.0000), Var(v=-0.0878, grad=0.0000), Var(v=-0.0598, grad=0.0000), Var(v=0.0058, grad=0.0000)]] Biases: [Var(v=0.0000, grad=0.0000), Var(v=0.0000, grad=0.0000), Var(v=0.0000, grad=0.0000), Var(v=0.0000, grad=0.0000), Var(v=0.0000, grad=0.0000)]\n",
      "layer 2: \n",
      "Weights: [[Var(v=0.0753, grad=0.0000)], [Var(v=0.0201, grad=0.0000)], [Var(v=0.0136, grad=0.0000)], [Var(v=-0.1027, grad=0.0000)], [Var(v=-0.0173, grad=0.0000)]] Biases: [Var(v=0.0000, grad=0.0000)]\n"
     ]
    }
   ],
   "source": [
    "# Insert code here and in the DenseLayer class\n",
    "i = 1\n",
    "for layer in NN:\n",
    "#     layer.print_paras()\n",
    "    print(\"layer {}: \".format(i))\n",
    "    print(layer)\n",
    "    i += 1"
   ]
  },
  {
   "cell_type": "markdown",
   "metadata": {
    "id": "_79HOAXrFtHK"
   },
   "source": [
    "## Visualization\n",
    "\n",
    "Now that we have defined our activation functions we can visualize them to see what they look like:"
   ]
  },
  {
   "cell_type": "code",
   "execution_count": 482,
   "metadata": {
    "id": "1FcylHqLTl-Z"
   },
   "outputs": [
    {
     "data": {
      "text/plain": [
       "[<matplotlib.lines.Line2D at 0x7fee0771d240>]"
      ]
     },
     "execution_count": 482,
     "metadata": {},
     "output_type": "execute_result"
    },
    {
     "data": {
      "image/png": "[encoded data removed]",
      "text/plain": [
       "<Figure size 432x288 with 1 Axes>"
      ]
     },
     "metadata": {
      "needs_background": "light"
     },
     "output_type": "display_data"
    }
   ],
   "source": [
    "x = np.linspace(-6, 6, 100)\n",
    "\n",
    "# convert from Var to ndarray  \n",
    "def Var_to_nparray(x):\n",
    "  y = np.zeros((len(x),len(x[0])))\n",
    "  for i in range(len(x)):\n",
    "    for j in range(len(x[0])):\n",
    "      y[i,j] = x[i][j].v\n",
    "  return y\n",
    "\n",
    "# define 1-1 network with weight = 1 and relu activation \n",
    "NN = [ DenseLayer(1, 1, lambda x: x.relu(), initializer = ConstantInitializer(1.0)) ] \n",
    "y = Var_to_nparray(forward(nparray_to_Var(x), NN))\n",
    "\n",
    "#y = Var_to_nparray(relu(nparray_to_Var(x)))\n",
    "plt.plot(x,y)"
   ]
  },
  {
   "cell_type": "code",
   "execution_count": 483,
   "metadata": {
    "id": "oOL2UolJFtHL"
   },
   "outputs": [
    {
     "data": {
      "image/png": "[encoded data removed]",
      "text/plain": [
       "<Figure size 360x360 with 1 Axes>"
      ]
     },
     "metadata": {
      "needs_background": "light"
     },
     "output_type": "display_data"
    }
   ],
   "source": [
    "# Testing all activation layers\n",
    "\n",
    "x = np.linspace(-6, 6, 100)\n",
    "units = {\n",
    "    \"identity\": lambda x: x.identity(),\n",
    "    #\"sigmoid\": lambda x: x.sigmoid(),  <- uncomment before sharing\n",
    "    \"relu\": lambda x: x.relu(),\n",
    "    #\"tanh\": lambda x: x.tanh() <- uncomment before sharing\n",
    "}\n",
    "\n",
    "plt.figure(figsize=(5, 5))\n",
    "[plt.plot(x, Var_to_nparray(forward(nparray_to_Var(x), [DenseLayer(1, 1, unit, initializer = ConstantInitializer(1.0))]) ), label=unit_name, lw=2) for unit_name, unit in units.items()] # unit(nparray_to_Var(x))), label=unit_name, lw=2) for unit_name, unit in units.items()]\n",
    "plt.legend(loc=2, fontsize=16)\n",
    "plt.title('Our activation functions', fontsize=20)\n",
    "plt.ylim([-2, 5])\n",
    "plt.xlim([-6, 6])\n",
    "plt.show()"
   ]
  },
  {
   "cell_type": "markdown",
   "metadata": {
    "id": "b-jdEl-7FtGs"
   },
   "source": [
    "# Advanced initialization schemes\n",
    "\n",
    "If we are not careful with initialization, the signals we propagate forward ($a^{(l)}$, $l=1,\\ldots,L$) and backward ($\\delta^l$, $l=L,L-1,\\ldots,1$) can blow up or shrink to zero. A statistical analysis of the variance of the signals for different activation functions can be found in these two papers: [Glorot initialization](http://proceedings.mlr.press/v9/glorot10a/glorot10a.pdf) and [He initialization](https://arxiv.org/pdf/1502.01852v1.pdf). \n",
    "\n",
    "The result of the analyses are proposals for how to make the initialization such that the variance of the signals (forward and backward) are kept approxmimatly constant when propagating from layer to layer. The exact expressions depend upon the non-linear activation function used. In Glorot initialization, the aim is to keep both the forward and backward variances constant whereas He only aims at keeping the variance in the forward pass constant.\n",
    "\n",
    "We define $n_{in}$ and $n_{out}$ as the number of input units and output units of a particular layer. \n",
    "\n",
    "The Glorot initialization has the form: \n",
    "\n",
    "$$w_{ij} \\sim N \\bigg( 0, \\, \\frac{2 \\alpha }{n_{in} + n_{out}} \\bigg) \\ . $$\n",
    "\n",
    "where $N(\\mu,\\sigma^2)$ is a Gaussian distribution with mean $\\mu$ and variance $\\sigma^2$ and $\\alpha$ is a parameter that depends upon the activation function used. For $\\tanh$, $\\alpha=1$ and for Rectified Linear Unit (ReLU) activations, $\\alpha=2$. (It is also possible to use a uniform distribution for initialization, see [this blog post](https://mmuratarat.github.io/2019-02-25/xavier-glorot-he-weight-init).) \n",
    "\n",
    "The He initialization is very similar\n",
    "\n",
    "$$w_{ij} \\sim N \\bigg( 0, \\, \\frac{\\alpha}{n_{in}} \\bigg) \\ . $$"
   ]
  },
  {
   "cell_type": "markdown",
   "metadata": {
    "id": "mqeyab9qFtGs"
   },
   "source": [
    "## Exercise i) Glorot and He initialization\n",
    " \n",
    "Using the Initializer class, implement functions that implement Glorot and He \n",
    "\n",
    "Explain briefly how you would test numerically that these initializations have the sought after property. Hint: See plots in Glorot paper.\n",
    "\n",
    "Comment: If you want to be more advanced then try to make a universal initializer taking both the activation function and type (Glorot or He) as argument."
   ]
  },
  {
   "cell_type": "markdown",
   "metadata": {},
   "source": [
    "Answer: \\\n",
    "Basically, the main problem of normal initialization is that variance of the back-propagated gradients decreases as we go backwards in the network just after the initialization. To test these two initialization methods, we can monitor the activation value and backpropagated gradients of each layers when we using different initialization methods. "
   ]
  },
  {
   "cell_type": "code",
   "execution_count": 484,
   "metadata": {
    "id": "Qyk01CgaFtGt"
   },
   "outputs": [
    {
     "name": "stdout",
     "output_type": "stream",
     "text": [
      "weights [Var(v=0.0449, grad=0.0000), Var(v=0.0603, grad=0.0000), Var(v=0.0079, grad=0.0000), Var(v=-0.0253, grad=0.0000), Var(v=0.1044, grad=0.0000)]\n",
      "bias [Var(v=0.0000, grad=0.0000), Var(v=0.0000, grad=0.0000), Var(v=0.0000, grad=0.0000), Var(v=0.0000, grad=0.0000), Var(v=0.0000, grad=0.0000)]\n",
      "weights [Var(v=0.0413, grad=0.0000), Var(v=0.2536, grad=0.0000), Var(v=0.0846, grad=0.0000), Var(v=0.0628, grad=0.0000), Var(v=0.2089, grad=0.0000)]\n",
      "bias [Var(v=0.0000, grad=0.0000), Var(v=0.0000, grad=0.0000), Var(v=0.0000, grad=0.0000), Var(v=0.0000, grad=0.0000), Var(v=0.0000, grad=0.0000)]\n",
      "weights [Var(v=0.4015, grad=0.0000)]\n",
      "bias [Var(v=0.0000, grad=0.0000)]\n"
     ]
    }
   ],
   "source": [
    "class Glorot(Initializer):\n",
    "\n",
    "  def __init__(self, std=0.1, n_in = 1, n_out = 1, activation_func = 'tanh'):\n",
    "    self.alpha = 1.0 if activation_func == 'tanh' else 2.0\n",
    "    self.std = std\n",
    "    self.mean = (2.0 * self.alpha) / (n_in + n_out)\n",
    "\n",
    "  def init_weights(self, n_in, n_out):\n",
    "    return [[Var(random.gauss(self.mean, self.std)) for _ in range(n_out)] for _ in range(n_in)]\n",
    "\n",
    "  def init_bias(self, n_out):\n",
    "    return [Var(0.0) for _ in range(n_out)]\n",
    "        \n",
    "class He(Initializer):\n",
    "\n",
    "  def __init__(self, std=0.1, n_in = 1, n_out = 1, activation_func = 'relu'):\n",
    "    self.alpha = 2.0 if activation_func == 'relu' else 1.0\n",
    "    self.std = std\n",
    "    self.mean = self.alpha / (n_in + n_out)\n",
    "\n",
    "  def init_weights(self, n_in, n_out):\n",
    "    return [[Var(random.gauss(self.mean, self.std)) for _ in range(n_out)] for _ in range(n_in)]\n",
    "\n",
    "  def init_bias(self, n_out):\n",
    "    return [Var(0.0) for _ in range(n_out)]\n",
    "\n",
    "class DenseLayer:\n",
    "    def __init__(self, n_in: int, n_out: int, act_fn, initializer = NormalInitializer()):\n",
    "        self.weights = initializer.init_weights(n_in, n_out)\n",
    "        self.bias = initializer.init_bias(n_out)\n",
    "        self.act_fn = act_fn\n",
    "    \n",
    "    def __repr__(self):    \n",
    "        return 'Weights: ' + repr(self.weights) + ' Biases: ' + repr(self.bias)\n",
    "\n",
    "    def parameters(self) -> Sequence[Var]:\n",
    "        params = []\n",
    "        for r in self.weights:\n",
    "            params += r\n",
    "\n",
    "        return params + self.bias\n",
    "    \n",
    "    def print_paras(self):\n",
    "        weight = []\n",
    "        bias = []\n",
    "        for w in self.weights[0]:\n",
    "            weight.append(w)\n",
    "        print(\"weights\", weight)\n",
    "        for b in self.bias:\n",
    "            bias.append(b)\n",
    "        print(\"bias\", bias)\n",
    "        \n",
    "    def forward(self, single_input: Sequence[Var]) -> Sequence[Var]:\n",
    "        # self.weights is a matrix with dimension n_in x n_out. We check that the dimensionality of the input \n",
    "        # to the current layer matches the number of nodes in the current layer\n",
    "        assert len(self.weights) == len(single_input), \"weights and single_input must match in first dimension\"\n",
    "        weights = self.weights\n",
    "        out = []\n",
    "        # For some given data point single_input, we now want to calculate the resulting value in each node in the current layer\n",
    "        # We therefore loop over the (number of) nodes in the current layer:\n",
    "        for j in range(len(weights[0])): \n",
    "            # Initialize the node value depending on its corresponding parameters.\n",
    "            node = Var(0.0) # <- Insert code\n",
    "            # We now finish the linear transformation corresponding to the parameters of the currently considered node.\n",
    "            for i in range(len(single_input)):\n",
    "                node += Var(0.0)  # <- Insert code\n",
    "                node += single_input[i] * weights[i][j]\n",
    "            node = self.act_fn(node + self.bias[j])\n",
    "            out.append(node)\n",
    "\n",
    "        return out\n",
    "    \n",
    "## Glorot\n",
    "def DenseLayer_Glorot_tanh(n_in: int, n_out: int):\n",
    "  std = 0.2 # <- replace with proper initialization\n",
    "  return DenseLayer(n_in, n_out, lambda x: x.tanh(), initializer = Glorot(std, n_in, n_out, activation_func = 'tanh'))\n",
    "\n",
    "## He\n",
    "def DenseLayer_He_relu(n_in: int, n_out: int):\n",
    "  std = 0.2 # <- replace with proper initialization\n",
    "  return DenseLayer(n_in, n_out, lambda x: x.relu(), initializer = He(std, n_in, n_out, activation_func = 'relu'))\n",
    "\n",
    "NN = [\n",
    "    DenseLayer(1, 5, lambda x: x.relu()),\n",
    "    DenseLayer_Glorot_tanh(5, 5),\n",
    "    DenseLayer_He_relu(5, 1)\n",
    "]\n",
    "\n",
    "for layer in NN:\n",
    "    layer.print_paras()"
   ]
  },
  {
   "cell_type": "markdown",
   "metadata": {
    "id": "-XyXBD37FtHk"
   },
   "source": [
    "## Exercise j) Forward pass unit test\n",
    "\n",
    "Write a bit of code to make a unit test that the forward pass works. This can be done by defining a simple network with for example all weights equal to one (using the ConstantInitializer method) and identity activation functions. \n",
    "\n",
    "Hints: Use the [assert](https://www.w3schools.com/python/ref_keyword_assert.asp), the nparray_to_Var and the Var_to_nparray commands. "
   ]
  },
  {
   "cell_type": "code",
   "execution_count": 485,
   "metadata": {
    "id": "k0miqRUAFtHl"
   },
   "outputs": [],
   "source": [
    "# Insert code here\n",
    "def nparray_to_Var(x):\n",
    "  if x.ndim==1:\n",
    "    y = [[Var(float(x[i]))] for i in range(x.shape[0])] # always work with list of list\n",
    "  else:\n",
    "    y = [[Var(float(x[i,j])) for j in range(x.shape[1])] for i in range(x.shape[0])]\n",
    "  return y\n",
    "\n",
    "def Var_to_nparray(x):\n",
    "  y = np.zeros((len(x),len(x[0])))\n",
    "  for i in range(len(x)):\n",
    "    for j in range(len(x[0])):\n",
    "      y[i,j] = x[i][j].v\n",
    "  return y\n",
    "\n",
    "x_train, y_train,  x_validation, y_validation, x_test, y_test = data_generator(noise=0.5, D1=D1)\n",
    "inputs = nparray_to_Var(x_train)\n",
    "network = [DenseLayer(1, 1, lambda x: x.identity(), initializer = ConstantInitializer(1.0))]\n",
    "outputs = forward(inputs, network)\n",
    "outputs = Var_to_nparray(outputs)\n",
    "# for i in range(len(x_train)):\n",
    "assert x_train.all() == outputs.all()"
   ]
  },
  {
   "cell_type": "markdown",
   "metadata": {
    "id": "faCxhfFnFtHp"
   },
   "source": [
    "# Loss functions\n",
    "\n",
    "We are only missing a loss function to we need to define a loss function and its derivative with respect to the output of the neural network $y$"
   ]
  },
  {
   "cell_type": "code",
   "execution_count": 486,
   "metadata": {
    "id": "I2eDYKvAFtHq"
   },
   "outputs": [],
   "source": [
    "def squared_loss(t, y):\n",
    "  \n",
    "  # add check that sizes agree\n",
    "  \n",
    "  def squared_loss_single(t, y):\n",
    "    Loss = Var(0.0)\n",
    "    for i in range(len(t)): # sum over outputs\n",
    "      Loss += (t[i]-y[i]) ** 2\n",
    "    return Loss\n",
    "\n",
    "  Loss = Var(0.0)\n",
    "  for n in range(len(t)): # sum over training data\n",
    "    Loss += squared_loss_single(t[n],y[n])\n",
    "  return Loss"
   ]
  },
  {
   "cell_type": "markdown",
   "metadata": {
    "id": "SrwSJ2UWFtHu"
   },
   "source": [
    "## Exercise j) Implement cross entropy loss\n",
    "\n",
    "Insert code below to implement cross-entropy loss for general dimensionality of $t$. Use a logits formulation:\n",
    "$$\n",
    "\\rm{Loss} = - \\sum_i t_i \\, log \\, p_i \n",
    "$$\n",
    "with $p$ given by the the softmax function in terms of the logits $h$:\n",
    "$$\n",
    "p_i = \\frac{\\exp(h_i)}{\\sum_{i'} \\exp(h_{i'})} .\n",
    "$$\n",
    "Inserting $p$ in the expression for the loss gives\n",
    "$$\n",
    "\\rm{Loss} = - \\sum_i t_i h_i + \\rm{LogSumExp}(h) \\ ,\n",
    "$$\n",
    "where \n",
    "$$\n",
    "\\rm{LogSumExp}(h) = \\log \\sum_i \\exp h_i \\ .\n",
    "$$\n",
    "This is true for $t$ being a one-hot vector. \n",
    "\n",
    "Call the function to convince yourself it works. \n",
    "\n",
    "In practice you want to implement a [numerically stable](https://leimao.github.io/blog/LogSumExp/) version of LogSumExp. But we will not bother about that here.\n",
    "\n",
    "Help: You can add these methods in the Var class:\n",
    "\n",
    "    def exp(self):\n",
    "        return Var(exp(self.v), lambda: [(self, exp(self.v))])\n",
    "    \n",
    "    def log(self):\n",
    "        return Var(log(self.v), lambda: [(self, self.v ** -1)])"
   ]
  },
  {
   "cell_type": "code",
   "execution_count": 522,
   "metadata": {
    "id": "6nMuxyfzFtHv"
   },
   "outputs": [],
   "source": [
    "def cross_entropy_loss(t, h):\n",
    "     \n",
    "    Loss = Var(0.0)\n",
    "    sum_th = Var(0.0)\n",
    "    sum_exp = Var(0.0)\n",
    "    print(h[0][0])\n",
    "    for i in range(len(t)):\n",
    "        for j in range(len(t[i])):\n",
    "            sum_th -= t[i][j] * h[i][j]\n",
    "            sum_exp += h[i][j].exp()\n",
    "    Loss = sum_th + sum_exp.log()\n",
    "    return Loss"
   ]
  },
  {
   "cell_type": "markdown",
   "metadata": {
    "id": "8fAF5ew4FtHy"
   },
   "source": [
    "# Backward pass\n",
    "\n",
    "Now the magic happens! We get the calculation of the gradients for free. Just do:"
   ]
  },
  {
   "cell_type": "code",
   "execution_count": 552,
   "metadata": {
    "id": "iHyfPPI9Qqwu"
   },
   "outputs": [
    {
     "name": "stdout",
     "output_type": "stream",
     "text": [
      "Var(v=-0.0031, grad=0.0000)\n"
     ]
    }
   ],
   "source": [
    "NN = [\n",
    "    DenseLayer(1, 5, lambda x: x.relu()),\n",
    "    DenseLayer(5, 1, lambda x: x.identity())\n",
    "]\n",
    "\n",
    "output = forward(x_train, NN)\n",
    "\n",
    "# Loss = squared_loss(y_train,output)\n",
    "Loss = cross_entropy_loss(y_train,output)\n",
    "Loss.backward()"
   ]
  },
  {
   "cell_type": "markdown",
   "metadata": {
    "id": "49biIAYKQ1oG"
   },
   "source": [
    "and the gradients will be calculated:"
   ]
  },
  {
   "cell_type": "code",
   "execution_count": 398,
   "metadata": {
    "id": "_rGt1bq_Q7uk"
   },
   "outputs": [
    {
     "name": "stdout",
     "output_type": "stream",
     "text": [
      "Layer 0 \n",
      " Weights: [[Var(v=0.2350, grad=2.9599), Var(v=0.0400, grad=-5.8716), Var(v=-0.1033, grad=-5.8057), Var(v=0.0599, grad=-6.6116), Var(v=0.0910, grad=-0.3543)]] Biases: [Var(v=0.0000, grad=2.5425), Var(v=0.0000, grad=-5.0436), Var(v=0.0000, grad=5.2777), Var(v=0.0000, grad=-5.6793), Var(v=0.0000, grad=-0.3043)]\n",
      "Layer 1 \n",
      " Weights: [[Var(v=-0.0291, grad=-23.8790)], [Var(v=0.0578, grad=-4.0608)], [Var(v=0.0601, grad=9.9828)], [Var(v=0.0651, grad=-6.0925)], [Var(v=0.0035, grad=-9.2480)]] Biases: [Var(v=0.0000, grad=0.5454)]\n"
     ]
    },
    {
     "data": {
      "text/plain": [
       "[None, None]"
      ]
     },
     "execution_count": 398,
     "metadata": {},
     "output_type": "execute_result"
    }
   ],
   "source": [
    "[print('Layer', i, '\\n', NN[i]) for i in range(len(NN))] "
   ]
  },
  {
   "cell_type": "markdown",
   "metadata": {
    "id": "D7d7qK0uFtH9"
   },
   "source": [
    "# Backward pass unit test\n",
    "\n",
    "Above we used finite differences to test that Nanograd is actually doing what it is supposed to do. We can in principle try the same for the neural network. But we will trust that the test above is enough."
   ]
  },
  {
   "cell_type": "markdown",
   "metadata": {
    "id": "WgBi8GOSFtIN"
   },
   "source": [
    "# Training and validation\n",
    "\n",
    "We are ready to train some neural networks!\n",
    "\n",
    "We initialize again:"
   ]
  },
  {
   "cell_type": "code",
   "execution_count": 399,
   "metadata": {
    "id": "01ePmzBzRtdh"
   },
   "outputs": [],
   "source": [
    "NN = [\n",
    "    DenseLayer(1, 15, lambda x: x.relu()),\n",
    "    DenseLayer(15, 50, lambda x: x.relu()),\n",
    "    DenseLayer(50, 1, lambda x: x.identity())\n",
    "]\n",
    "\n",
    "output = forward(x_train, NN)\n",
    "\n",
    "Loss = squared_loss(y_train,output)\n",
    "Loss.backward()"
   ]
  },
  {
   "cell_type": "markdown",
   "metadata": {
    "id": "10iRPiQ1ISHw"
   },
   "source": [
    "and make an update:\n",
    "\n",
    "We introduce a help function parameters to have a handle in all parameters in the network."
   ]
  },
  {
   "cell_type": "code",
   "execution_count": 400,
   "metadata": {
    "id": "dhAI7eyeznia"
   },
   "outputs": [
    {
     "name": "stdout",
     "output_type": "stream",
     "text": [
      "Network before update:\n",
      "Layer 0 \n",
      " Weights: [[Var(v=-0.0916, grad=-0.9218), Var(v=0.1297, grad=-3.6774), Var(v=-0.0093, grad=-3.4099), Var(v=0.0813, grad=0.0935), Var(v=-0.0139, grad=4.6012), Var(v=-0.0939, grad=-2.8658), Var(v=-0.0362, grad=8.1536), Var(v=-0.0646, grad=5.0478), Var(v=-0.0928, grad=9.1211), Var(v=0.0416, grad=-3.0183), Var(v=-0.1997, grad=-9.6837), Var(v=-0.0667, grad=-4.1185), Var(v=0.0761, grad=2.0082), Var(v=0.0023, grad=0.5426), Var(v=-0.1512, grad=-5.6272)]] Biases: [Var(v=0.0000, grad=0.8382), Var(v=0.0000, grad=-3.1592), Var(v=0.0000, grad=3.1006), Var(v=0.0000, grad=0.0803), Var(v=0.0000, grad=-4.1837), Var(v=0.0000, grad=2.6058), Var(v=0.0000, grad=-7.4138), Var(v=0.0000, grad=-4.5898), Var(v=0.0000, grad=-8.2936), Var(v=0.0000, grad=-2.5930), Var(v=0.0000, grad=8.8051), Var(v=0.0000, grad=3.7448), Var(v=0.0000, grad=1.7252), Var(v=0.0000, grad=0.4661), Var(v=0.0000, grad=5.1166)]\n",
      "Layer 1 \n",
      " Weights: [[Var(v=0.0174, grad=0.0000), Var(v=-0.0613, grad=-0.7468), Var(v=-0.0103, grad=0.0000), Var(v=0.0474, grad=0.3149), Var(v=0.0811, grad=-1.7545), Var(v=0.1944, grad=0.9663), Var(v=0.1904, grad=-1.0450), Var(v=-0.0042, grad=-0.7101), Var(v=0.0450, grad=0.5960), Var(v=0.0972, grad=0.6146), Var(v=0.0407, grad=0.0000), Var(v=0.0453, grad=0.0000), Var(v=-0.1757, grad=0.0000), Var(v=-0.0393, grad=0.2625), Var(v=-0.0681, grad=0.0000), Var(v=0.1030, grad=-1.5261), Var(v=0.0207, grad=-1.5569), Var(v=0.0863, grad=0.5786), Var(v=-0.1801, grad=0.0000), Var(v=-0.0961, grad=0.0000), Var(v=0.0881, grad=0.0000), Var(v=-0.0862, grad=0.0000), Var(v=0.0404, grad=-1.0966), Var(v=-0.0823, grad=0.0000), Var(v=0.0682, grad=0.5879), Var(v=0.1337, grad=0.9230), Var(v=-0.1168, grad=0.0000), Var(v=-0.1262, grad=0.0000), Var(v=-0.1295, grad=0.0000), Var(v=0.1135, grad=0.6563), Var(v=0.0201, grad=0.5010), Var(v=0.0098, grad=0.0000), Var(v=0.0752, grad=0.8600), Var(v=-0.1098, grad=0.0000), Var(v=0.0452, grad=0.9750), Var(v=-0.0032, grad=2.4605), Var(v=0.1246, grad=-0.0555), Var(v=-0.1418, grad=0.0000), Var(v=0.1535, grad=-0.0021), Var(v=-0.1946, grad=1.1317), Var(v=0.1803, grad=0.0541), Var(v=-0.0845, grad=0.0000), Var(v=-0.1114, grad=1.1707), Var(v=-0.1329, grad=-1.0227), Var(v=0.0797, grad=0.0000), Var(v=0.2136, grad=0.3873), Var(v=-0.0209, grad=-0.5281), Var(v=-0.1395, grad=-0.5590), Var(v=-0.0610, grad=0.0000), Var(v=0.0744, grad=-0.3606)], [Var(v=0.0470, grad=1.2116), Var(v=0.1220, grad=1.0912), Var(v=-0.0181, grad=0.0000), Var(v=0.0756, grad=-0.4602), Var(v=0.0024, grad=2.5637), Var(v=0.0088, grad=-1.4119), Var(v=0.0350, grad=1.5269), Var(v=0.1713, grad=1.0375), Var(v=-0.1143, grad=0.0000), Var(v=-0.0534, grad=0.0000), Var(v=-0.0275, grad=3.1726), Var(v=0.0211, grad=0.0050), Var(v=-0.0751, grad=0.0000), Var(v=-0.0954, grad=0.0000), Var(v=0.1398, grad=-1.5274), Var(v=0.2406, grad=2.2299), Var(v=-0.2695, grad=0.0000), Var(v=0.1715, grad=-0.8454), Var(v=-0.0302, grad=0.0000), Var(v=0.0311, grad=0.0000), Var(v=-0.0253, grad=0.0000), Var(v=0.1205, grad=-2.0802), Var(v=-0.1102, grad=0.0000), Var(v=0.0694, grad=1.0597), Var(v=-0.1527, grad=0.0000), Var(v=-0.0633, grad=0.0000), Var(v=-0.0302, grad=0.0000), Var(v=0.1050, grad=-0.3799), Var(v=-0.0844, grad=0.0000), Var(v=0.1984, grad=-0.9590), Var(v=-0.0940, grad=0.0000), Var(v=0.0773, grad=0.0844), Var(v=0.0269, grad=0.0000), Var(v=-0.0207, grad=0.0000), Var(v=-0.0595, grad=-1.4246), Var(v=0.1343, grad=-3.5952), Var(v=0.2135, grad=0.0811), Var(v=-0.0555, grad=0.4039), Var(v=-0.1005, grad=0.0000), Var(v=0.0166, grad=-1.6536), Var(v=-0.0236, grad=-0.0790), Var(v=0.0805, grad=0.7346), Var(v=-0.0950, grad=0.0000), Var(v=-0.1900, grad=0.0000), Var(v=0.0168, grad=0.0000), Var(v=0.0086, grad=0.0000), Var(v=0.0166, grad=0.7717), Var(v=-0.0544, grad=0.0000), Var(v=0.1209, grad=-1.5755), Var(v=-0.0126, grad=0.0000)], [Var(v=0.0744, grad=0.0000), Var(v=0.0022, grad=-0.0758), Var(v=0.0715, grad=0.0000), Var(v=0.0754, grad=0.0320), Var(v=-0.1996, grad=-0.1782), Var(v=-0.0246, grad=0.0981), Var(v=0.0631, grad=-0.1061), Var(v=-0.0317, grad=-0.0721), Var(v=0.0427, grad=0.0605), Var(v=0.1288, grad=0.0624), Var(v=0.0599, grad=0.0000), Var(v=0.0532, grad=0.0000), Var(v=0.1213, grad=0.0000), Var(v=-0.0889, grad=0.0267), Var(v=-0.1634, grad=0.0000), Var(v=-0.0459, grad=-0.1550), Var(v=0.0088, grad=-0.1581), Var(v=0.0507, grad=0.0588), Var(v=0.0067, grad=0.0000), Var(v=-0.0075, grad=0.0000), Var(v=-0.0809, grad=0.0000), Var(v=0.0097, grad=0.0000), Var(v=0.0187, grad=-0.1114), Var(v=-0.1047, grad=0.0000), Var(v=0.0562, grad=0.0597), Var(v=0.0127, grad=0.0937), Var(v=0.0721, grad=0.0000), Var(v=0.1821, grad=0.0000), Var(v=-0.2039, grad=0.0000), Var(v=-0.0869, grad=0.0666), Var(v=0.0347, grad=0.0509), Var(v=-0.0591, grad=0.0000), Var(v=-0.2040, grad=0.0873), Var(v=-0.1264, grad=0.0000), Var(v=0.1453, grad=0.0990), Var(v=-0.0823, grad=0.2499), Var(v=0.1097, grad=-0.0056), Var(v=0.1032, grad=0.0000), Var(v=0.0753, grad=-0.0002), Var(v=0.0572, grad=0.1149), Var(v=0.1326, grad=0.0055), Var(v=0.0030, grad=0.0000), Var(v=-0.0143, grad=0.1189), Var(v=-0.0091, grad=-0.1039), Var(v=-0.0118, grad=0.0000), Var(v=-0.0722, grad=0.0393), Var(v=-0.2339, grad=-0.0536), Var(v=-0.0334, grad=-0.0568), Var(v=0.0541, grad=0.0000), Var(v=0.2235, grad=-0.0366)], [Var(v=-0.0044, grad=0.7593), Var(v=-0.0629, grad=0.6838), Var(v=0.0414, grad=0.0000), Var(v=-0.0338, grad=-0.2884), Var(v=-0.0168, grad=1.6066), Var(v=0.1840, grad=-0.8848), Var(v=0.0245, grad=0.9569), Var(v=-0.2032, grad=0.6502), Var(v=0.0578, grad=0.0000), Var(v=0.0151, grad=0.0000), Var(v=0.1712, grad=1.9882), Var(v=-0.0363, grad=0.0032), Var(v=0.0206, grad=0.0000), Var(v=-0.2225, grad=0.0000), Var(v=-0.0170, grad=-0.9571), Var(v=0.1066, grad=1.3974), Var(v=0.1415, grad=0.0000), Var(v=-0.0559, grad=-0.5298), Var(v=-0.0351, grad=0.0000), Var(v=0.0126, grad=0.0000), Var(v=-0.1833, grad=0.0000), Var(v=0.0123, grad=-1.3036), Var(v=-0.0031, grad=0.0000), Var(v=-0.0533, grad=0.6641), Var(v=0.1087, grad=0.0000), Var(v=-0.1596, grad=0.0000), Var(v=0.0429, grad=0.0000), Var(v=0.0377, grad=-0.2381), Var(v=0.0097, grad=0.0000), Var(v=-0.0250, grad=-0.6010), Var(v=0.1344, grad=0.0000), Var(v=-0.0765, grad=0.0529), Var(v=-0.1002, grad=0.0000), Var(v=-0.0694, grad=0.0000), Var(v=0.1572, grad=-0.8928), Var(v=0.0273, grad=-2.2530), Var(v=0.0613, grad=0.0508), Var(v=0.1547, grad=0.2531), Var(v=-0.1571, grad=0.0000), Var(v=0.1087, grad=-1.0363), Var(v=0.1059, grad=-0.0495), Var(v=0.0908, grad=0.4604), Var(v=-0.0489, grad=0.0000), Var(v=0.0099, grad=0.0000), Var(v=-0.2383, grad=0.0000), Var(v=-0.0938, grad=0.0000), Var(v=0.1443, grad=0.4836), Var(v=-0.0514, grad=0.0000), Var(v=-0.0230, grad=-0.9873), Var(v=-0.0960, grad=0.0000)], [Var(v=0.0188, grad=0.0000), Var(v=0.0495, grad=-0.1135), Var(v=0.2276, grad=0.0000), Var(v=0.1247, grad=0.0478), Var(v=0.2021, grad=-0.2666), Var(v=0.1158, grad=0.1468), Var(v=-0.0803, grad=-0.1588), Var(v=0.2005, grad=-0.1079), Var(v=-0.1610, grad=0.0906), Var(v=-0.0281, grad=0.0934), Var(v=0.1548, grad=0.0000), Var(v=-0.2079, grad=0.0000), Var(v=0.1716, grad=0.0000), Var(v=-0.1274, grad=0.0399), Var(v=-0.0787, grad=0.0000), Var(v=0.1540, grad=-0.2319), Var(v=-0.1189, grad=-0.2366), Var(v=-0.1503, grad=0.0879), Var(v=-0.0718, grad=0.0000), Var(v=0.1526, grad=0.0000), Var(v=0.1069, grad=0.0000), Var(v=0.1574, grad=0.0000), Var(v=0.1362, grad=-0.1666), Var(v=0.0728, grad=0.0000), Var(v=-0.2104, grad=0.0893), Var(v=0.0778, grad=0.1402), Var(v=-0.1362, grad=0.0000), Var(v=0.0430, grad=0.0000), Var(v=-0.0510, grad=0.0000), Var(v=0.1480, grad=0.0997), Var(v=-0.0161, grad=0.0761), Var(v=0.0460, grad=0.0000), Var(v=-0.0026, grad=0.1307), Var(v=0.0507, grad=0.0000), Var(v=0.1597, grad=0.1481), Var(v=0.0064, grad=0.3738), Var(v=-0.0460, grad=-0.0084), Var(v=0.0156, grad=0.0000), Var(v=0.1439, grad=-0.0003), Var(v=0.0563, grad=0.1719), Var(v=0.1239, grad=0.0082), Var(v=-0.0500, grad=0.0000), Var(v=0.0106, grad=0.1779), Var(v=-0.0182, grad=-0.1554), Var(v=-0.0044, grad=0.0000), Var(v=-0.0115, grad=0.0588), Var(v=-0.0596, grad=-0.0802), Var(v=-0.0433, grad=-0.0849), Var(v=0.0916, grad=0.0000), Var(v=0.1421, grad=-0.0548)], [Var(v=0.0332, grad=0.0000), Var(v=0.1825, grad=-0.7657), Var(v=0.0915, grad=0.0000), Var(v=0.0904, grad=0.3229), Var(v=0.0039, grad=-1.7990), Var(v=0.1798, grad=0.9908), Var(v=0.0924, grad=-1.0715), Var(v=-0.2020, grad=-0.7281), Var(v=-0.0270, grad=0.6111), Var(v=-0.0711, grad=0.6302), Var(v=-0.0056, grad=0.0000), Var(v=-0.1990, grad=0.0000), Var(v=-0.0098, grad=0.0000), Var(v=0.2988, grad=0.2691), Var(v=-0.0504, grad=0.0000), Var(v=0.0425, grad=-1.5648), Var(v=0.1398, grad=-1.5964), Var(v=0.1533, grad=0.5932), Var(v=0.0436, grad=0.0000), Var(v=-0.0060, grad=0.0000), Var(v=-0.2098, grad=0.0000), Var(v=-0.0405, grad=0.0000), Var(v=-0.0199, grad=-1.1244), Var(v=-0.0023, grad=0.0000), Var(v=0.1218, grad=0.6028), Var(v=0.0160, grad=0.9464), Var(v=-0.0175, grad=0.0000), Var(v=-0.0573, grad=0.0000), Var(v=0.0608, grad=0.0000), Var(v=0.0276, grad=0.6729), Var(v=0.0679, grad=0.5137), Var(v=-0.0088, grad=0.0000), Var(v=0.0307, grad=0.8818), Var(v=0.1383, grad=0.0000), Var(v=0.0220, grad=0.9997), Var(v=0.0447, grad=2.5229), Var(v=-0.1234, grad=-0.0569), Var(v=-0.0627, grad=0.0000), Var(v=-0.0154, grad=-0.0021), Var(v=-0.0234, grad=1.1604), Var(v=-0.0095, grad=0.0554), Var(v=-0.0557, grad=0.0000), Var(v=-0.0943, grad=1.2004), Var(v=-0.0591, grad=-1.0486), Var(v=-0.1481, grad=0.0000), Var(v=0.1878, grad=0.3971), Var(v=-0.0225, grad=-0.5415), Var(v=0.0763, grad=-0.5732), Var(v=0.0688, grad=0.0000), Var(v=-0.1155, grad=-0.3697)], [Var(v=0.0573, grad=0.0000), Var(v=-0.0313, grad=-0.2952), Var(v=-0.0222, grad=0.0000), Var(v=-0.0965, grad=0.1245), Var(v=0.0570, grad=-0.6936), Var(v=-0.0479, grad=0.3820), Var(v=-0.0426, grad=-0.4131), Var(v=0.0262, grad=-0.2807), Var(v=0.1337, grad=0.2356), Var(v=-0.0985, grad=0.2430), Var(v=-0.0142, grad=0.0000), Var(v=-0.0019, grad=0.0000), Var(v=0.0254, grad=0.0000), Var(v=0.0971, grad=0.1038), Var(v=0.1478, grad=0.0000), Var(v=0.0283, grad=-0.6033), Var(v=-0.0040, grad=-0.6155), Var(v=0.1429, grad=0.2287), Var(v=-0.0493, grad=0.0000), Var(v=0.0205, grad=0.0000), Var(v=0.0338, grad=0.0000), Var(v=-0.0841, grad=0.0000), Var(v=0.2086, grad=-0.4335), Var(v=-0.1522, grad=0.0000), Var(v=0.1283, grad=0.2324), Var(v=-0.0827, grad=0.3649), Var(v=-0.0192, grad=0.0000), Var(v=-0.1504, grad=0.0000), Var(v=-0.1121, grad=0.0000), Var(v=-0.0214, grad=0.2594), Var(v=0.0154, grad=0.1980), Var(v=-0.1467, grad=0.0000), Var(v=-0.0625, grad=0.3400), Var(v=0.0087, grad=0.0000), Var(v=0.1413, grad=0.3854), Var(v=-0.1442, grad=0.9726), Var(v=0.2192, grad=-0.0219), Var(v=-0.2111, grad=0.0000), Var(v=0.1286, grad=-0.0008), Var(v=0.0492, grad=0.4474), Var(v=-0.1017, grad=0.0214), Var(v=-0.1717, grad=0.0000), Var(v=-0.0416, grad=0.4628), Var(v=0.1060, grad=-0.4043), Var(v=0.1022, grad=0.0000), Var(v=0.0674, grad=0.1531), Var(v=0.0836, grad=-0.2088), Var(v=0.1367, grad=-0.2210), Var(v=0.0414, grad=0.0000), Var(v=-0.0298, grad=-0.1425)], [Var(v=-0.0807, grad=0.0000), Var(v=-0.0116, grad=-0.5266), Var(v=0.1854, grad=0.0000), Var(v=0.1170, grad=0.2221), Var(v=-0.0574, grad=-1.2371), Var(v=-0.0575, grad=0.6813), Var(v=0.1389, grad=-0.7368), Var(v=-0.0135, grad=-0.5007), Var(v=0.2259, grad=0.4202), Var(v=0.0789, grad=0.4334), Var(v=-0.0072, grad=0.0000), Var(v=0.0124, grad=0.0000), Var(v=-0.1722, grad=0.0000), Var(v=-0.0953, grad=0.1851), Var(v=-0.0866, grad=0.0000), Var(v=0.0653, grad=-1.0761), Var(v=0.2986, grad=-1.0978), Var(v=0.1075, grad=0.4080), Var(v=-0.0846, grad=0.0000), Var(v=-0.0797, grad=0.0000), Var(v=0.0589, grad=0.0000), Var(v=-0.0427, grad=0.0000), Var(v=0.0828, grad=-0.7732), Var(v=-0.0704, grad=0.0000), Var(v=-0.0190, grad=0.4145), Var(v=0.1554, grad=0.6508), Var(v=0.1534, grad=0.0000), Var(v=0.1168, grad=0.0000), Var(v=0.0722, grad=0.0000), Var(v=-0.0867, grad=0.4628), Var(v=-0.0141, grad=0.3532), Var(v=-0.0702, grad=0.0000), Var(v=0.0205, grad=0.6064), Var(v=-0.1552, grad=0.0000), Var(v=0.1562, grad=0.6875), Var(v=-0.1435, grad=1.7349), Var(v=-0.0298, grad=-0.0391), Var(v=-0.1313, grad=0.0000), Var(v=-0.1337, grad=-0.0015), Var(v=-0.0442, grad=0.7980), Var(v=0.0997, grad=0.0381), Var(v=-0.0160, grad=0.0000), Var(v=0.1447, grad=0.8255), Var(v=0.0153, grad=-0.7211), Var(v=-0.0789, grad=0.0000), Var(v=-0.0266, grad=0.2731), Var(v=0.0519, grad=-0.3724), Var(v=-0.1202, grad=-0.3942), Var(v=-0.0569, grad=0.0000), Var(v=0.0229, grad=-0.2543)], [Var(v=0.0059, grad=0.0000), Var(v=0.1538, grad=-0.7564), Var(v=-0.0258, grad=0.0000), Var(v=0.1490, grad=0.3190), Var(v=-0.0701, grad=-1.7770), Var(v=0.0432, grad=0.9787), Var(v=0.0939, grad=-1.0584), Var(v=0.1641, grad=-0.7192), Var(v=0.0047, grad=0.6036), Var(v=-0.0278, grad=0.6225), Var(v=0.1928, grad=0.0000), Var(v=0.0496, grad=0.0000), Var(v=0.1813, grad=0.0000), Var(v=0.2826, grad=0.2658), Var(v=-0.1170, grad=0.0000), Var(v=0.0459, grad=-1.5457), Var(v=0.1279, grad=-1.5769), Var(v=0.1322, grad=0.5860), Var(v=0.0144, grad=0.0000), Var(v=0.0681, grad=0.0000), Var(v=0.0547, grad=0.0000), Var(v=-0.0586, grad=0.0000), Var(v=0.0557, grad=-1.1107), Var(v=-0.2176, grad=0.0000), Var(v=-0.0249, grad=0.5954), Var(v=-0.0302, grad=0.9349), Var(v=-0.1218, grad=0.0000), Var(v=0.0483, grad=0.0000), Var(v=0.1434, grad=0.0000), Var(v=0.2630, grad=0.6647), Var(v=0.1468, grad=0.5074), Var(v=0.2030, grad=0.0000), Var(v=-0.1970, grad=0.8710), Var(v=-0.0837, grad=0.0000), Var(v=-0.0692, grad=0.9875), Var(v=-0.1023, grad=2.4921), Var(v=0.0004, grad=-0.0562), Var(v=-0.2296, grad=0.0000), Var(v=-0.0671, grad=-0.0021), Var(v=-0.1000, grad=1.1462), Var(v=0.0526, grad=0.0547), Var(v=0.1313, grad=0.0000), Var(v=-0.0359, grad=1.1857), Var(v=0.0366, grad=-1.0358), Var(v=-0.0140, grad=0.0000), Var(v=0.2499, grad=0.3923), Var(v=0.0323, grad=-0.5349), Var(v=0.1319, grad=-0.5662), Var(v=-0.1154, grad=0.0000), Var(v=0.1528, grad=-0.3652)], [Var(v=0.0233, grad=0.3891), Var(v=-0.0343, grad=0.3505), Var(v=0.0991, grad=0.0000), Var(v=0.1353, grad=-0.1478), Var(v=-0.0423, grad=0.8234), Var(v=-0.0977, grad=-0.4535), Var(v=-0.1097, grad=0.4904), Var(v=0.1352, grad=0.3332), Var(v=-0.1453, grad=0.0000), Var(v=0.1177, grad=0.0000), Var(v=-0.0510, grad=1.0190), Var(v=0.0986, grad=0.0016), Var(v=0.0322, grad=0.0000), Var(v=-0.0333, grad=0.0000), Var(v=0.0537, grad=-0.4905), Var(v=-0.0434, grad=0.7162), Var(v=-0.0247, grad=0.0000), Var(v=-0.1606, grad=-0.2715), Var(v=-0.1541, grad=0.0000), Var(v=0.0321, grad=0.0000), Var(v=0.0996, grad=0.0000), Var(v=0.0659, grad=-0.6681), Var(v=-0.0003, grad=0.0000), Var(v=-0.0697, grad=0.3404), Var(v=-0.0869, grad=0.0000), Var(v=-0.0066, grad=0.0000), Var(v=-0.1885, grad=0.0000), Var(v=-0.0813, grad=-0.1220), Var(v=0.0533, grad=0.0000), Var(v=0.0498, grad=-0.3080), Var(v=-0.0134, grad=0.0000), Var(v=-0.0265, grad=0.0271), Var(v=-0.1012, grad=0.0000), Var(v=0.0876, grad=0.0000), Var(v=-0.1003, grad=-0.4575), Var(v=0.1115, grad=-1.1547), Var(v=-0.1807, grad=0.0261), Var(v=0.1701, grad=0.1297), Var(v=0.0194, grad=0.0000), Var(v=-0.0729, grad=-0.5311), Var(v=-0.0440, grad=-0.0254), Var(v=0.0716, grad=0.2359), Var(v=-0.0176, grad=0.0000), Var(v=0.0445, grad=0.0000), Var(v=0.0146, grad=0.0000), Var(v=0.1929, grad=0.0000), Var(v=-0.0713, grad=0.2478), Var(v=0.0260, grad=0.0000), Var(v=-0.1234, grad=-0.5060), Var(v=0.0752, grad=0.0000)], [Var(v=-0.0559, grad=0.0000), Var(v=-0.0068, grad=-1.6283), Var(v=-0.0731, grad=0.0000), Var(v=0.0574, grad=0.6867), Var(v=0.0893, grad=-3.8256), Var(v=0.0510, grad=2.1069), Var(v=-0.2034, grad=-2.2785), Var(v=0.0162, grad=-1.5482), Var(v=-0.0186, grad=1.2995), Var(v=0.1306, grad=1.3401), Var(v=-0.1189, grad=0.0000), Var(v=0.1367, grad=0.0000), Var(v=0.0479, grad=0.0000), Var(v=-0.0068, grad=0.5723), Var(v=-0.2207, grad=0.0000), Var(v=0.0588, grad=-3.3275), Var(v=-0.0174, grad=-3.3948), Var(v=0.2106, grad=1.2615), Var(v=0.1355, grad=0.0000), Var(v=-0.0988, grad=0.0000), Var(v=0.0012, grad=0.0000), Var(v=0.0224, grad=0.0000), Var(v=0.0035, grad=-2.3911), Var(v=-0.0329, grad=0.0000), Var(v=-0.1146, grad=1.2818), Var(v=0.1249, grad=2.0126), Var(v=0.1087, grad=0.0000), Var(v=-0.0042, grad=0.0000), Var(v=-0.1677, grad=0.0000), Var(v=0.1209, grad=1.4310), Var(v=0.0516, grad=1.0923), Var(v=-0.0644, grad=0.0000), Var(v=0.2357, grad=1.8752), Var(v=-0.0525, grad=0.0000), Var(v=0.0874, grad=2.1258), Var(v=0.1046, grad=5.3649), Var(v=0.0920, grad=-0.1211), Var(v=0.0307, grad=0.0000), Var(v=0.0200, grad=-0.0046), Var(v=0.0703, grad=2.4676), Var(v=0.1070, grad=0.1179), Var(v=-0.1170, grad=0.0000), Var(v=0.0945, grad=2.5526), Var(v=0.0659, grad=-2.2299), Var(v=-0.0795, grad=0.0000), Var(v=-0.0113, grad=0.8445), Var(v=0.1302, grad=-1.1515), Var(v=0.1184, grad=-1.2189), Var(v=0.0980, grad=0.0000), Var(v=0.0967, grad=-0.7863)], [Var(v=0.1408, grad=0.0000), Var(v=0.1658, grad=-0.5441), Var(v=-0.0081, grad=0.0000), Var(v=0.1280, grad=0.2294), Var(v=0.1025, grad=-1.2783), Var(v=-0.0298, grad=0.7040), Var(v=0.0052, grad=-0.7613), Var(v=0.0301, grad=-0.5173), Var(v=-0.0821, grad=0.4342), Var(v=-0.1659, grad=0.4478), Var(v=0.0270, grad=0.0000), Var(v=-0.1469, grad=0.0000), Var(v=-0.0629, grad=0.0000), Var(v=-0.0791, grad=0.1912), Var(v=-0.0265, grad=0.0000), Var(v=0.0690, grad=-1.1118), Var(v=-0.0662, grad=-1.1343), Var(v=-0.1478, grad=0.4215), Var(v=-0.1256, grad=0.0000), Var(v=0.0408, grad=0.0000), Var(v=0.1038, grad=0.0000), Var(v=-0.0270, grad=0.0000), Var(v=-0.0433, grad=-0.7990), Var(v=-0.0803, grad=0.0000), Var(v=-0.0682, grad=0.4283), Var(v=0.2852, grad=0.6725), Var(v=0.0226, grad=0.0000), Var(v=0.0788, grad=0.0000), Var(v=-0.1087, grad=0.0000), Var(v=0.0246, grad=0.4782), Var(v=0.0623, grad=0.3650), Var(v=0.0326, grad=0.0000), Var(v=0.1780, grad=0.6266), Var(v=0.0550, grad=0.0000), Var(v=0.1177, grad=0.7103), Var(v=0.0619, grad=1.7926), Var(v=0.1175, grad=-0.0405), Var(v=-0.0865, grad=0.0000), Var(v=0.0755, grad=-0.0015), Var(v=0.1190, grad=0.8245), Var(v=0.1757, grad=0.0394), Var(v=0.0572, grad=0.0000), Var(v=0.0298, grad=0.8529), Var(v=0.0068, grad=-0.7451), Var(v=0.1266, grad=0.0000), Var(v=0.1938, grad=0.2822), Var(v=0.0154, grad=-0.3848), Var(v=0.0256, grad=-0.4073), Var(v=0.0996, grad=0.0000), Var(v=0.0014, grad=-0.2627)], [Var(v=0.0811, grad=0.7114), Var(v=0.0553, grad=0.6406), Var(v=-0.1112, grad=0.0000), Var(v=0.0634, grad=-0.2702), Var(v=0.0774, grad=1.5051), Var(v=-0.0416, grad=-0.8289), Var(v=0.0541, grad=0.8965), Var(v=-0.0216, grad=0.6091), Var(v=-0.0307, grad=0.0000), Var(v=-0.0100, grad=0.0000), Var(v=-0.0056, grad=1.8626), Var(v=0.1117, grad=0.0030), Var(v=-0.0043, grad=0.0000), Var(v=0.1071, grad=0.0000), Var(v=0.0151, grad=-0.8967), Var(v=0.1123, grad=1.3092), Var(v=0.1072, grad=0.0000), Var(v=-0.1184, grad=-0.4963), Var(v=-0.0288, grad=0.0000), Var(v=-0.1339, grad=0.0000), Var(v=-0.0247, grad=0.0000), Var(v=0.2565, grad=-1.2213), Var(v=0.1258, grad=0.0000), Var(v=0.0486, grad=0.6222), Var(v=0.0344, grad=0.0000), Var(v=-0.0196, grad=0.0000), Var(v=-0.0492, grad=0.0000), Var(v=0.0917, grad=-0.2231), Var(v=0.0483, grad=0.0000), Var(v=-0.1141, grad=-0.5630), Var(v=-0.0241, grad=0.0000), Var(v=0.0374, grad=0.0496), Var(v=-0.0439, grad=0.0000), Var(v=-0.0885, grad=0.0000), Var(v=0.0091, grad=-0.8364), Var(v=0.0177, grad=-2.1108), Var(v=0.2341, grad=0.0476), Var(v=0.1224, grad=0.2371), Var(v=-0.0769, grad=0.0000), Var(v=0.0238, grad=-0.9709), Var(v=0.0619, grad=-0.0464), Var(v=0.0451, grad=0.4313), Var(v=-0.1459, grad=0.0000), Var(v=0.0743, grad=0.0000), Var(v=-0.0126, grad=0.0000), Var(v=-0.0986, grad=0.0000), Var(v=0.0270, grad=0.4531), Var(v=0.0658, grad=0.0000), Var(v=0.0598, grad=-0.9250), Var(v=0.0500, grad=0.0000)], [Var(v=-0.0972, grad=0.0215), Var(v=-0.0772, grad=0.0194), Var(v=-0.0677, grad=0.0000), Var(v=-0.1385, grad=-0.0082), Var(v=-0.2019, grad=0.0455), Var(v=-0.1135, grad=-0.0251), Var(v=-0.0472, grad=0.0271), Var(v=0.1015, grad=0.0184), Var(v=0.2259, grad=0.0000), Var(v=0.0817, grad=0.0000), Var(v=0.1202, grad=0.0563), Var(v=-0.1287, grad=0.0001), Var(v=-0.0267, grad=0.0000), Var(v=0.1120, grad=0.0000), Var(v=-0.0562, grad=-0.0271), Var(v=-0.1635, grad=0.0396), Var(v=-0.1627, grad=0.0000), Var(v=0.0439, grad=-0.0150), Var(v=-0.0326, grad=0.0000), Var(v=-0.0101, grad=0.0000), Var(v=0.1078, grad=0.0000), Var(v=-0.0313, grad=-0.0369), Var(v=0.2325, grad=0.0000), Var(v=-0.0009, grad=0.0188), Var(v=0.0306, grad=0.0000), Var(v=0.0176, grad=0.0000), Var(v=-0.0348, grad=0.0000), Var(v=0.0443, grad=-0.0067), Var(v=-0.0028, grad=0.0000), Var(v=0.0033, grad=-0.0170), Var(v=0.0342, grad=0.0000), Var(v=-0.0681, grad=0.0015), Var(v=-0.0183, grad=0.0000), Var(v=0.0832, grad=0.0000), Var(v=0.1777, grad=-0.0253), Var(v=-0.0180, grad=-0.0638), Var(v=-0.1846, grad=0.0014), Var(v=0.0474, grad=0.0072), Var(v=0.2128, grad=0.0000), Var(v=-0.2407, grad=-0.0294), Var(v=-0.0239, grad=-0.0014), Var(v=0.0177, grad=0.0130), Var(v=-0.0725, grad=0.0000), Var(v=0.1832, grad=0.0000), Var(v=0.0985, grad=0.0000), Var(v=0.0182, grad=0.0000), Var(v=-0.0183, grad=0.0137), Var(v=0.1032, grad=0.0000), Var(v=-0.1366, grad=-0.0280), Var(v=0.0240, grad=0.0000)], [Var(v=-0.1179, grad=0.0000), Var(v=0.0190, grad=-1.2324), Var(v=-0.0996, grad=0.0000), Var(v=0.0654, grad=0.5197), Var(v=-0.0115, grad=-2.8955), Var(v=0.2016, grad=1.5947), Var(v=0.0086, grad=-1.7246), Var(v=0.0995, grad=-1.1718), Var(v=-0.0689, grad=0.9836), Var(v=0.2157, grad=1.0143), Var(v=-0.0101, grad=0.0000), Var(v=-0.2617, grad=0.0000), Var(v=-0.2052, grad=0.0000), Var(v=0.0260, grad=0.4332), Var(v=0.1042, grad=0.0000), Var(v=-0.1094, grad=-2.5185), Var(v=-0.0410, grad=-2.5695), Var(v=0.1424, grad=0.9548), Var(v=-0.0565, grad=0.0000), Var(v=0.0512, grad=0.0000), Var(v=-0.2075, grad=0.0000), Var(v=0.0361, grad=0.0000), Var(v=-0.0399, grad=-1.8098), Var(v=-0.1943, grad=0.0000), Var(v=0.1320, grad=0.9701), Var(v=0.1529, grad=1.5233), Var(v=-0.1085, grad=0.0000), Var(v=-0.0769, grad=0.0000), Var(v=0.0404, grad=0.0000), Var(v=0.0316, grad=1.0831), Var(v=-0.1247, grad=0.8268), Var(v=-0.0628, grad=0.0000), Var(v=0.0675, grad=1.4193), Var(v=-0.0215, grad=0.0000), Var(v=-0.2593, grad=1.6090), Var(v=-0.0277, grad=4.0606), Var(v=0.0257, grad=-0.0916), Var(v=-0.1041, grad=0.0000), Var(v=0.0335, grad=-0.0035), Var(v=0.0671, grad=1.8677), Var(v=-0.0202, grad=0.0892), Var(v=0.0557, grad=0.0000), Var(v=0.1292, grad=1.9320), Var(v=0.2118, grad=-1.6878), Var(v=0.0392, grad=0.0000), Var(v=-0.0746, grad=0.6392), Var(v=0.0460, grad=-0.8716), Var(v=-0.0214, grad=-0.9226), Var(v=-0.1084, grad=0.0000), Var(v=-0.1042, grad=-0.5951)]] Biases: [Var(v=0.0000, grad=8.0270), Var(v=0.0000, grad=-0.1841), Var(v=0.0000, grad=0.0000), Var(v=0.0000, grad=0.0777), Var(v=0.0000, grad=-0.4326), Var(v=0.0000, grad=0.2383), Var(v=0.0000, grad=-0.2577), Var(v=0.0000, grad=-0.1751), Var(v=0.0000, grad=5.9161), Var(v=0.0000, grad=6.1010), Var(v=0.0000, grad=21.0182), Var(v=0.0000, grad=0.0334), Var(v=0.0000, grad=0.0000), Var(v=0.0000, grad=2.6054), Var(v=0.0000, grad=-10.1185), Var(v=0.0000, grad=-0.3763), Var(v=0.0000, grad=-15.4554), Var(v=0.0000, grad=0.1427), Var(v=0.0000, grad=0.0000), Var(v=0.0000, grad=0.0000), Var(v=0.0000, grad=0.0000), Var(v=0.0000, grad=-13.7808), Var(v=0.0000, grad=-10.8859), Var(v=0.0000, grad=7.0207), Var(v=0.0000, grad=5.8354), Var(v=0.0000, grad=9.1628), Var(v=0.0000, grad=0.0000), Var(v=0.0000, grad=-2.5171), Var(v=0.0000, grad=0.0000), Var(v=0.0000, grad=0.1618), Var(v=0.0000, grad=4.9730), Var(v=0.0000, grad=0.5592), Var(v=0.0000, grad=8.5370), Var(v=0.0000, grad=0.0000), Var(v=0.0000, grad=0.2404), Var(v=0.0000, grad=0.6067), Var(v=0.0000, grad=-0.0137), Var(v=0.0000, grad=2.6757), Var(v=0.0000, grad=-0.0208), Var(v=0.0000, grad=0.2790), Var(v=0.0000, grad=0.0133), Var(v=0.0000, grad=4.8668), Var(v=0.0000, grad=11.6213), Var(v=0.0000, grad=-10.1519), Var(v=0.0000, grad=0.0000), Var(v=0.0000, grad=3.8448), Var(v=0.0000, grad=-0.1302), Var(v=0.0000, grad=-5.5492), Var(v=0.0000, grad=-10.4375), Var(v=0.0000, grad=-3.5796)]\n",
      "Layer 2 \n",
      " Weights: [[Var(v=-0.0924, grad=-1.2804)], [Var(v=-0.0832, grad=2.2972)], [Var(v=0.0680, grad=0.0000)], [Var(v=0.0351, grad=4.4382)], [Var(v=-0.1955, grad=2.0414)], [Var(v=0.1077, grad=6.3124)], [Var(v=-0.1165, grad=-0.3343)], [Var(v=-0.0791, grad=0.8301)], [Var(v=0.0664, grad=0.0001)], [Var(v=0.0685, grad=4.8592)], [Var(v=-0.2420, grad=-0.8170)], [Var(v=-0.0004, grad=-1.2235)], [Var(v=-0.0339, grad=0.0000)], [Var(v=0.0292, grad=4.1865)], [Var(v=0.1165, grad=-2.0216)], [Var(v=-0.1701, grad=-2.2775)], [Var(v=-0.1735, grad=2.9758)], [Var(v=0.0645, grad=9.4671)], [Var(v=0.0344, grad=0.0000)], [Var(v=0.0871, grad=0.0000)], [Var(v=-0.0342, grad=0.0000)], [Var(v=0.1586, grad=-3.9261)], [Var(v=-0.1222, grad=1.3472)], [Var(v=-0.0808, grad=-0.5533)], [Var(v=0.0655, grad=0.8728)], [Var(v=0.1029, grad=8.4532)], [Var(v=-0.0524, grad=0.0000)], [Var(v=0.0290, grad=-2.0595)], [Var(v=0.0254, grad=0.0000)], [Var(v=0.0731, grad=4.4265)], [Var(v=0.0558, grad=1.6841)], [Var(v=-0.0064, grad=-0.5459)], [Var(v=0.0958, grad=5.6610)], [Var(v=0.0074, grad=0.0000)], [Var(v=0.1087, grad=0.2582)], [Var(v=0.2742, grad=-2.5789)], [Var(v=-0.0062, grad=-0.7399)], [Var(v=-0.0308, grad=-2.2132)], [Var(v=-0.0002, grad=1.8822)], [Var(v=0.1261, grad=-0.6320)], [Var(v=0.0060, grad=4.6670)], [Var(v=-0.0560, grad=-2.4541)], [Var(v=0.1305, grad=2.5333)], [Var(v=-0.1140, grad=3.5064)], [Var(v=-0.2667, grad=0.0000)], [Var(v=0.0432, grad=5.8457)], [Var(v=-0.0589, grad=2.2507)], [Var(v=-0.0623, grad=2.4514)], [Var(v=0.1202, grad=-1.3057)], [Var(v=-0.0402, grad=1.7888)]] Biases: [Var(v=0.0000, grad=2.2126)]\n",
      "\n",
      "Network after update:\n",
      "Layer 0 \n",
      " Weights: [[Var(v=-0.0824, grad=-0.9218), Var(v=0.1664, grad=-3.6774), Var(v=0.0248, grad=-3.4099), Var(v=0.0803, grad=0.0935), Var(v=-0.0599, grad=4.6012), Var(v=-0.0653, grad=-2.8658), Var(v=-0.1177, grad=8.1536), Var(v=-0.1151, grad=5.0478), Var(v=-0.1840, grad=9.1211), Var(v=0.0718, grad=-3.0183), Var(v=-0.1029, grad=-9.6837), Var(v=-0.0255, grad=-4.1185), Var(v=0.0560, grad=2.0082), Var(v=-0.0031, grad=0.5426), Var(v=-0.0949, grad=-5.6272)]] Biases: [Var(v=-0.0084, grad=0.8382), Var(v=0.0316, grad=-3.1592), Var(v=-0.0310, grad=3.1006), Var(v=-0.0008, grad=0.0803), Var(v=0.0418, grad=-4.1837), Var(v=-0.0261, grad=2.6058), Var(v=0.0741, grad=-7.4138), Var(v=0.0459, grad=-4.5898), Var(v=0.0829, grad=-8.2936), Var(v=0.0259, grad=-2.5930), Var(v=-0.0881, grad=8.8051), Var(v=-0.0374, grad=3.7448), Var(v=-0.0173, grad=1.7252), Var(v=-0.0047, grad=0.4661), Var(v=-0.0512, grad=5.1166)]\n",
      "Layer 1 \n",
      " Weights: [[Var(v=0.0174, grad=0.0000), Var(v=-0.0538, grad=-0.7468), Var(v=-0.0103, grad=0.0000), Var(v=0.0442, grad=0.3149), Var(v=0.0986, grad=-1.7545), Var(v=0.1847, grad=0.9663), Var(v=0.2008, grad=-1.0450), Var(v=0.0029, grad=-0.7101), Var(v=0.0391, grad=0.5960), Var(v=0.0910, grad=0.6146), Var(v=0.0407, grad=0.0000), Var(v=0.0453, grad=0.0000), Var(v=-0.1757, grad=0.0000), Var(v=-0.0419, grad=0.2625), Var(v=-0.0681, grad=0.0000), Var(v=0.1182, grad=-1.5261), Var(v=0.0363, grad=-1.5569), Var(v=0.0805, grad=0.5786), Var(v=-0.1801, grad=0.0000), Var(v=-0.0961, grad=0.0000), Var(v=0.0881, grad=0.0000), Var(v=-0.0862, grad=0.0000), Var(v=0.0514, grad=-1.0966), Var(v=-0.0823, grad=0.0000), Var(v=0.0623, grad=0.5879), Var(v=0.1245, grad=0.9230), Var(v=-0.1168, grad=0.0000), Var(v=-0.1262, grad=0.0000), Var(v=-0.1295, grad=0.0000), Var(v=0.1069, grad=0.6563), Var(v=0.0151, grad=0.5010), Var(v=0.0098, grad=0.0000), Var(v=0.0666, grad=0.8600), Var(v=-0.1098, grad=0.0000), Var(v=0.0355, grad=0.9750), Var(v=-0.0278, grad=2.4605), Var(v=0.1252, grad=-0.0555), Var(v=-0.1418, grad=0.0000), Var(v=0.1535, grad=-0.0021), Var(v=-0.2059, grad=1.1317), Var(v=0.1797, grad=0.0541), Var(v=-0.0845, grad=0.0000), Var(v=-0.1231, grad=1.1707), Var(v=-0.1226, grad=-1.0227), Var(v=0.0797, grad=0.0000), Var(v=0.2097, grad=0.3873), Var(v=-0.0156, grad=-0.5281), Var(v=-0.1339, grad=-0.5590), Var(v=-0.0610, grad=0.0000), Var(v=0.0780, grad=-0.3606)], [Var(v=0.0349, grad=1.2116), Var(v=0.1110, grad=1.0912), Var(v=-0.0181, grad=0.0000), Var(v=0.0802, grad=-0.4602), Var(v=-0.0232, grad=2.5637), Var(v=0.0229, grad=-1.4119), Var(v=0.0197, grad=1.5269), Var(v=0.1609, grad=1.0375), Var(v=-0.1143, grad=0.0000), Var(v=-0.0534, grad=0.0000), Var(v=-0.0592, grad=3.1726), Var(v=0.0210, grad=0.0050), Var(v=-0.0751, grad=0.0000), Var(v=-0.0954, grad=0.0000), Var(v=0.1550, grad=-1.5274), Var(v=0.2183, grad=2.2299), Var(v=-0.2695, grad=0.0000), Var(v=0.1799, grad=-0.8454), Var(v=-0.0302, grad=0.0000), Var(v=0.0311, grad=0.0000), Var(v=-0.0253, grad=0.0000), Var(v=0.1413, grad=-2.0802), Var(v=-0.1102, grad=0.0000), Var(v=0.0588, grad=1.0597), Var(v=-0.1527, grad=0.0000), Var(v=-0.0633, grad=0.0000), Var(v=-0.0302, grad=0.0000), Var(v=0.1088, grad=-0.3799), Var(v=-0.0844, grad=0.0000), Var(v=0.2080, grad=-0.9590), Var(v=-0.0940, grad=0.0000), Var(v=0.0765, grad=0.0844), Var(v=0.0269, grad=0.0000), Var(v=-0.0207, grad=0.0000), Var(v=-0.0453, grad=-1.4246), Var(v=0.1703, grad=-3.5952), Var(v=0.2127, grad=0.0811), Var(v=-0.0595, grad=0.4039), Var(v=-0.1005, grad=0.0000), Var(v=0.0331, grad=-1.6536), Var(v=-0.0229, grad=-0.0790), Var(v=0.0731, grad=0.7346), Var(v=-0.0950, grad=0.0000), Var(v=-0.1900, grad=0.0000), Var(v=0.0168, grad=0.0000), Var(v=0.0086, grad=0.0000), Var(v=0.0089, grad=0.7717), Var(v=-0.0544, grad=0.0000), Var(v=0.1367, grad=-1.5755), Var(v=-0.0126, grad=0.0000)], [Var(v=0.0744, grad=0.0000), Var(v=0.0029, grad=-0.0758), Var(v=0.0715, grad=0.0000), Var(v=0.0751, grad=0.0320), Var(v=-0.1978, grad=-0.1782), Var(v=-0.0256, grad=0.0981), Var(v=0.0642, grad=-0.1061), Var(v=-0.0310, grad=-0.0721), Var(v=0.0421, grad=0.0605), Var(v=0.1282, grad=0.0624), Var(v=0.0599, grad=0.0000), Var(v=0.0532, grad=0.0000), Var(v=0.1213, grad=0.0000), Var(v=-0.0892, grad=0.0267), Var(v=-0.1634, grad=0.0000), Var(v=-0.0443, grad=-0.1550), Var(v=0.0104, grad=-0.1581), Var(v=0.0501, grad=0.0588), Var(v=0.0067, grad=0.0000), Var(v=-0.0075, grad=0.0000), Var(v=-0.0809, grad=0.0000), Var(v=0.0097, grad=0.0000), Var(v=0.0198, grad=-0.1114), Var(v=-0.1047, grad=0.0000), Var(v=0.0556, grad=0.0597), Var(v=0.0117, grad=0.0937), Var(v=0.0721, grad=0.0000), Var(v=0.1821, grad=0.0000), Var(v=-0.2039, grad=0.0000), Var(v=-0.0876, grad=0.0666), Var(v=0.0342, grad=0.0509), Var(v=-0.0591, grad=0.0000), Var(v=-0.2049, grad=0.0873), Var(v=-0.1264, grad=0.0000), Var(v=0.1443, grad=0.0990), Var(v=-0.0848, grad=0.2499), Var(v=0.1097, grad=-0.0056), Var(v=0.1032, grad=0.0000), Var(v=0.0753, grad=-0.0002), Var(v=0.0561, grad=0.1149), Var(v=0.1326, grad=0.0055), Var(v=0.0030, grad=0.0000), Var(v=-0.0155, grad=0.1189), Var(v=-0.0080, grad=-0.1039), Var(v=-0.0118, grad=0.0000), Var(v=-0.0726, grad=0.0393), Var(v=-0.2333, grad=-0.0536), Var(v=-0.0328, grad=-0.0568), Var(v=0.0541, grad=0.0000), Var(v=0.2239, grad=-0.0366)], [Var(v=-0.0120, grad=0.7593), Var(v=-0.0697, grad=0.6838), Var(v=0.0414, grad=0.0000), Var(v=-0.0310, grad=-0.2884), Var(v=-0.0329, grad=1.6066), Var(v=0.1928, grad=-0.8848), Var(v=0.0150, grad=0.9569), Var(v=-0.2097, grad=0.6502), Var(v=0.0578, grad=0.0000), Var(v=0.0151, grad=0.0000), Var(v=0.1513, grad=1.9882), Var(v=-0.0363, grad=0.0032), Var(v=0.0206, grad=0.0000), Var(v=-0.2225, grad=0.0000), Var(v=-0.0075, grad=-0.9571), Var(v=0.0926, grad=1.3974), Var(v=0.1415, grad=0.0000), Var(v=-0.0506, grad=-0.5298), Var(v=-0.0351, grad=0.0000), Var(v=0.0126, grad=0.0000), Var(v=-0.1833, grad=0.0000), Var(v=0.0254, grad=-1.3036), Var(v=-0.0031, grad=0.0000), Var(v=-0.0599, grad=0.6641), Var(v=0.1087, grad=0.0000), Var(v=-0.1596, grad=0.0000), Var(v=0.0429, grad=0.0000), Var(v=0.0401, grad=-0.2381), Var(v=0.0097, grad=0.0000), Var(v=-0.0190, grad=-0.6010), Var(v=0.1344, grad=0.0000), Var(v=-0.0770, grad=0.0529), Var(v=-0.1002, grad=0.0000), Var(v=-0.0694, grad=0.0000), Var(v=0.1661, grad=-0.8928), Var(v=0.0498, grad=-2.2530), Var(v=0.0608, grad=0.0508), Var(v=0.1522, grad=0.2531), Var(v=-0.1571, grad=0.0000), Var(v=0.1191, grad=-1.0363), Var(v=0.1063, grad=-0.0495), Var(v=0.0862, grad=0.4604), Var(v=-0.0489, grad=0.0000), Var(v=0.0099, grad=0.0000), Var(v=-0.2383, grad=0.0000), Var(v=-0.0938, grad=0.0000), Var(v=0.1395, grad=0.4836), Var(v=-0.0514, grad=0.0000), Var(v=-0.0131, grad=-0.9873), Var(v=-0.0960, grad=0.0000)], [Var(v=0.0188, grad=0.0000), Var(v=0.0506, grad=-0.1135), Var(v=0.2276, grad=0.0000), Var(v=0.1243, grad=0.0478), Var(v=0.2047, grad=-0.2666), Var(v=0.1143, grad=0.1468), Var(v=-0.0787, grad=-0.1588), Var(v=0.2016, grad=-0.1079), Var(v=-0.1619, grad=0.0906), Var(v=-0.0290, grad=0.0934), Var(v=0.1548, grad=0.0000), Var(v=-0.2079, grad=0.0000), Var(v=0.1716, grad=0.0000), Var(v=-0.1278, grad=0.0399), Var(v=-0.0787, grad=0.0000), Var(v=0.1563, grad=-0.2319), Var(v=-0.1165, grad=-0.2366), Var(v=-0.1512, grad=0.0879), Var(v=-0.0718, grad=0.0000), Var(v=0.1526, grad=0.0000), Var(v=0.1069, grad=0.0000), Var(v=0.1574, grad=0.0000), Var(v=0.1378, grad=-0.1666), Var(v=0.0728, grad=0.0000), Var(v=-0.2113, grad=0.0893), Var(v=0.0764, grad=0.1402), Var(v=-0.1362, grad=0.0000), Var(v=0.0430, grad=0.0000), Var(v=-0.0510, grad=0.0000), Var(v=0.1470, grad=0.0997), Var(v=-0.0169, grad=0.0761), Var(v=0.0460, grad=0.0000), Var(v=-0.0039, grad=0.1307), Var(v=0.0507, grad=0.0000), Var(v=0.1582, grad=0.1481), Var(v=0.0027, grad=0.3738), Var(v=-0.0459, grad=-0.0084), Var(v=0.0156, grad=0.0000), Var(v=0.1439, grad=-0.0003), Var(v=0.0546, grad=0.1719), Var(v=0.1238, grad=0.0082), Var(v=-0.0500, grad=0.0000), Var(v=0.0088, grad=0.1779), Var(v=-0.0166, grad=-0.1554), Var(v=-0.0044, grad=0.0000), Var(v=-0.0121, grad=0.0588), Var(v=-0.0588, grad=-0.0802), Var(v=-0.0424, grad=-0.0849), Var(v=0.0916, grad=0.0000), Var(v=0.1426, grad=-0.0548)], [Var(v=0.0332, grad=0.0000), Var(v=0.1902, grad=-0.7657), Var(v=0.0915, grad=0.0000), Var(v=0.0872, grad=0.3229), Var(v=0.0219, grad=-1.7990), Var(v=0.1699, grad=0.9908), Var(v=0.1031, grad=-1.0715), Var(v=-0.1947, grad=-0.7281), Var(v=-0.0331, grad=0.6111), Var(v=-0.0774, grad=0.6302), Var(v=-0.0056, grad=0.0000), Var(v=-0.1990, grad=0.0000), Var(v=-0.0098, grad=0.0000), Var(v=0.2961, grad=0.2691), Var(v=-0.0504, grad=0.0000), Var(v=0.0581, grad=-1.5648), Var(v=0.1557, grad=-1.5964), Var(v=0.1474, grad=0.5932), Var(v=0.0436, grad=0.0000), Var(v=-0.0060, grad=0.0000), Var(v=-0.2098, grad=0.0000), Var(v=-0.0405, grad=0.0000), Var(v=-0.0087, grad=-1.1244), Var(v=-0.0023, grad=0.0000), Var(v=0.1158, grad=0.6028), Var(v=0.0066, grad=0.9464), Var(v=-0.0175, grad=0.0000), Var(v=-0.0573, grad=0.0000), Var(v=0.0608, grad=0.0000), Var(v=0.0208, grad=0.6729), Var(v=0.0628, grad=0.5137), Var(v=-0.0088, grad=0.0000), Var(v=0.0219, grad=0.8818), Var(v=0.1383, grad=0.0000), Var(v=0.0120, grad=0.9997), Var(v=0.0195, grad=2.5229), Var(v=-0.1229, grad=-0.0569), Var(v=-0.0627, grad=0.0000), Var(v=-0.0154, grad=-0.0021), Var(v=-0.0350, grad=1.1604), Var(v=-0.0100, grad=0.0554), Var(v=-0.0557, grad=0.0000), Var(v=-0.1063, grad=1.2004), Var(v=-0.0486, grad=-1.0486), Var(v=-0.1481, grad=0.0000), Var(v=0.1838, grad=0.3971), Var(v=-0.0171, grad=-0.5415), Var(v=0.0821, grad=-0.5732), Var(v=0.0688, grad=0.0000), Var(v=-0.1118, grad=-0.3697)], [Var(v=0.0573, grad=0.0000), Var(v=-0.0284, grad=-0.2952), Var(v=-0.0222, grad=0.0000), Var(v=-0.0977, grad=0.1245), Var(v=0.0639, grad=-0.6936), Var(v=-0.0517, grad=0.3820), Var(v=-0.0385, grad=-0.4131), Var(v=0.0290, grad=-0.2807), Var(v=0.1313, grad=0.2356), Var(v=-0.1009, grad=0.2430), Var(v=-0.0142, grad=0.0000), Var(v=-0.0019, grad=0.0000), Var(v=0.0254, grad=0.0000), Var(v=0.0960, grad=0.1038), Var(v=0.1478, grad=0.0000), Var(v=0.0343, grad=-0.6033), Var(v=0.0022, grad=-0.6155), Var(v=0.1406, grad=0.2287), Var(v=-0.0493, grad=0.0000), Var(v=0.0205, grad=0.0000), Var(v=0.0338, grad=0.0000), Var(v=-0.0841, grad=0.0000), Var(v=0.2130, grad=-0.4335), Var(v=-0.1522, grad=0.0000), Var(v=0.1260, grad=0.2324), Var(v=-0.0864, grad=0.3649), Var(v=-0.0192, grad=0.0000), Var(v=-0.1504, grad=0.0000), Var(v=-0.1121, grad=0.0000), Var(v=-0.0240, grad=0.2594), Var(v=0.0134, grad=0.1980), Var(v=-0.1467, grad=0.0000), Var(v=-0.0659, grad=0.3400), Var(v=0.0087, grad=0.0000), Var(v=0.1375, grad=0.3854), Var(v=-0.1540, grad=0.9726), Var(v=0.2195, grad=-0.0219), Var(v=-0.2111, grad=0.0000), Var(v=0.1286, grad=-0.0008), Var(v=0.0448, grad=0.4474), Var(v=-0.1019, grad=0.0214), Var(v=-0.1717, grad=0.0000), Var(v=-0.0462, grad=0.4628), Var(v=0.1101, grad=-0.4043), Var(v=0.1022, grad=0.0000), Var(v=0.0659, grad=0.1531), Var(v=0.0857, grad=-0.2088), Var(v=0.1389, grad=-0.2210), Var(v=0.0414, grad=0.0000), Var(v=-0.0284, grad=-0.1425)], [Var(v=-0.0807, grad=0.0000), Var(v=-0.0063, grad=-0.5266), Var(v=0.1854, grad=0.0000), Var(v=0.1148, grad=0.2221), Var(v=-0.0450, grad=-1.2371), Var(v=-0.0643, grad=0.6813), Var(v=0.1462, grad=-0.7368), Var(v=-0.0085, grad=-0.5007), Var(v=0.2217, grad=0.4202), Var(v=0.0746, grad=0.4334), Var(v=-0.0072, grad=0.0000), Var(v=0.0124, grad=0.0000), Var(v=-0.1722, grad=0.0000), Var(v=-0.0971, grad=0.1851), Var(v=-0.0866, grad=0.0000), Var(v=0.0760, grad=-1.0761), Var(v=0.3096, grad=-1.0978), Var(v=0.1034, grad=0.4080), Var(v=-0.0846, grad=0.0000), Var(v=-0.0797, grad=0.0000), Var(v=0.0589, grad=0.0000), Var(v=-0.0427, grad=0.0000), Var(v=0.0906, grad=-0.7732), Var(v=-0.0704, grad=0.0000), Var(v=-0.0231, grad=0.4145), Var(v=0.1489, grad=0.6508), Var(v=0.1534, grad=0.0000), Var(v=0.1168, grad=0.0000), Var(v=0.0722, grad=0.0000), Var(v=-0.0914, grad=0.4628), Var(v=-0.0176, grad=0.3532), Var(v=-0.0702, grad=0.0000), Var(v=0.0145, grad=0.6064), Var(v=-0.1552, grad=0.0000), Var(v=0.1493, grad=0.6875), Var(v=-0.1608, grad=1.7349), Var(v=-0.0295, grad=-0.0391), Var(v=-0.1313, grad=0.0000), Var(v=-0.1337, grad=-0.0015), Var(v=-0.0522, grad=0.7980), Var(v=0.0993, grad=0.0381), Var(v=-0.0160, grad=0.0000), Var(v=0.1364, grad=0.8255), Var(v=0.0225, grad=-0.7211), Var(v=-0.0789, grad=0.0000), Var(v=-0.0293, grad=0.2731), Var(v=0.0556, grad=-0.3724), Var(v=-0.1163, grad=-0.3942), Var(v=-0.0569, grad=0.0000), Var(v=0.0254, grad=-0.2543)], [Var(v=0.0059, grad=0.0000), Var(v=0.1613, grad=-0.7564), Var(v=-0.0258, grad=0.0000), Var(v=0.1458, grad=0.3190), Var(v=-0.0524, grad=-1.7770), Var(v=0.0334, grad=0.9787), Var(v=0.1045, grad=-1.0584), Var(v=0.1712, grad=-0.7192), Var(v=-0.0013, grad=0.6036), Var(v=-0.0341, grad=0.6225), Var(v=0.1928, grad=0.0000), Var(v=0.0496, grad=0.0000), Var(v=0.1813, grad=0.0000), Var(v=0.2799, grad=0.2658), Var(v=-0.1170, grad=0.0000), Var(v=0.0613, grad=-1.5457), Var(v=0.1437, grad=-1.5769), Var(v=0.1264, grad=0.5860), Var(v=0.0144, grad=0.0000), Var(v=0.0681, grad=0.0000), Var(v=0.0547, grad=0.0000), Var(v=-0.0586, grad=0.0000), Var(v=0.0669, grad=-1.1107), Var(v=-0.2176, grad=0.0000), Var(v=-0.0309, grad=0.5954), Var(v=-0.0395, grad=0.9349), Var(v=-0.1218, grad=0.0000), Var(v=0.0483, grad=0.0000), Var(v=0.1434, grad=0.0000), Var(v=0.2564, grad=0.6647), Var(v=0.1417, grad=0.5074), Var(v=0.2030, grad=0.0000), Var(v=-0.2057, grad=0.8710), Var(v=-0.0837, grad=0.0000), Var(v=-0.0791, grad=0.9875), Var(v=-0.1272, grad=2.4921), Var(v=0.0009, grad=-0.0562), Var(v=-0.2296, grad=0.0000), Var(v=-0.0670, grad=-0.0021), Var(v=-0.1115, grad=1.1462), Var(v=0.0520, grad=0.0547), Var(v=0.1313, grad=0.0000), Var(v=-0.0478, grad=1.1857), Var(v=0.0470, grad=-1.0358), Var(v=-0.0140, grad=0.0000), Var(v=0.2460, grad=0.3923), Var(v=0.0376, grad=-0.5349), Var(v=0.1376, grad=-0.5662), Var(v=-0.1154, grad=0.0000), Var(v=0.1565, grad=-0.3652)], [Var(v=0.0194, grad=0.3891), Var(v=-0.0378, grad=0.3505), Var(v=0.0991, grad=0.0000), Var(v=0.1368, grad=-0.1478), Var(v=-0.0505, grad=0.8234), Var(v=-0.0932, grad=-0.4535), Var(v=-0.1146, grad=0.4904), Var(v=0.1319, grad=0.3332), Var(v=-0.1453, grad=0.0000), Var(v=0.1177, grad=0.0000), Var(v=-0.0612, grad=1.0190), Var(v=0.0986, grad=0.0016), Var(v=0.0322, grad=0.0000), Var(v=-0.0333, grad=0.0000), Var(v=0.0586, grad=-0.4905), Var(v=-0.0506, grad=0.7162), Var(v=-0.0247, grad=0.0000), Var(v=-0.1579, grad=-0.2715), Var(v=-0.1541, grad=0.0000), Var(v=0.0321, grad=0.0000), Var(v=0.0996, grad=0.0000), Var(v=0.0725, grad=-0.6681), Var(v=-0.0003, grad=0.0000), Var(v=-0.0731, grad=0.3404), Var(v=-0.0869, grad=0.0000), Var(v=-0.0066, grad=0.0000), Var(v=-0.1885, grad=0.0000), Var(v=-0.0801, grad=-0.1220), Var(v=0.0533, grad=0.0000), Var(v=0.0529, grad=-0.3080), Var(v=-0.0134, grad=0.0000), Var(v=-0.0268, grad=0.0271), Var(v=-0.1012, grad=0.0000), Var(v=0.0876, grad=0.0000), Var(v=-0.0957, grad=-0.4575), Var(v=0.1231, grad=-1.1547), Var(v=-0.1809, grad=0.0261), Var(v=0.1688, grad=0.1297), Var(v=0.0194, grad=0.0000), Var(v=-0.0675, grad=-0.5311), Var(v=-0.0437, grad=-0.0254), Var(v=0.0693, grad=0.2359), Var(v=-0.0176, grad=0.0000), Var(v=0.0445, grad=0.0000), Var(v=0.0146, grad=0.0000), Var(v=0.1929, grad=0.0000), Var(v=-0.0738, grad=0.2478), Var(v=0.0260, grad=0.0000), Var(v=-0.1183, grad=-0.5060), Var(v=0.0752, grad=0.0000)], [Var(v=-0.0559, grad=0.0000), Var(v=0.0095, grad=-1.6283), Var(v=-0.0731, grad=0.0000), Var(v=0.0506, grad=0.6867), Var(v=0.1276, grad=-3.8256), Var(v=0.0299, grad=2.1069), Var(v=-0.1806, grad=-2.2785), Var(v=0.0317, grad=-1.5482), Var(v=-0.0316, grad=1.2995), Var(v=0.1172, grad=1.3401), Var(v=-0.1189, grad=0.0000), Var(v=0.1367, grad=0.0000), Var(v=0.0479, grad=0.0000), Var(v=-0.0125, grad=0.5723), Var(v=-0.2207, grad=0.0000), Var(v=0.0921, grad=-3.3275), Var(v=0.0166, grad=-3.3948), Var(v=0.1980, grad=1.2615), Var(v=0.1355, grad=0.0000), Var(v=-0.0988, grad=0.0000), Var(v=0.0012, grad=0.0000), Var(v=0.0224, grad=0.0000), Var(v=0.0274, grad=-2.3911), Var(v=-0.0329, grad=0.0000), Var(v=-0.1274, grad=1.2818), Var(v=0.1048, grad=2.0126), Var(v=0.1087, grad=0.0000), Var(v=-0.0042, grad=0.0000), Var(v=-0.1677, grad=0.0000), Var(v=0.1066, grad=1.4310), Var(v=0.0407, grad=1.0923), Var(v=-0.0644, grad=0.0000), Var(v=0.2169, grad=1.8752), Var(v=-0.0525, grad=0.0000), Var(v=0.0661, grad=2.1258), Var(v=0.0509, grad=5.3649), Var(v=0.0932, grad=-0.1211), Var(v=0.0307, grad=0.0000), Var(v=0.0201, grad=-0.0046), Var(v=0.0456, grad=2.4676), Var(v=0.1058, grad=0.1179), Var(v=-0.1170, grad=0.0000), Var(v=0.0690, grad=2.5526), Var(v=0.0882, grad=-2.2299), Var(v=-0.0795, grad=0.0000), Var(v=-0.0197, grad=0.8445), Var(v=0.1417, grad=-1.1515), Var(v=0.1306, grad=-1.2189), Var(v=0.0980, grad=0.0000), Var(v=0.1046, grad=-0.7863)], [Var(v=0.1408, grad=0.0000), Var(v=0.1713, grad=-0.5441), Var(v=-0.0081, grad=0.0000), Var(v=0.1257, grad=0.2294), Var(v=0.1153, grad=-1.2783), Var(v=-0.0369, grad=0.7040), Var(v=0.0128, grad=-0.7613), Var(v=0.0352, grad=-0.5173), Var(v=-0.0864, grad=0.4342), Var(v=-0.1704, grad=0.4478), Var(v=0.0270, grad=0.0000), Var(v=-0.1469, grad=0.0000), Var(v=-0.0629, grad=0.0000), Var(v=-0.0810, grad=0.1912), Var(v=-0.0265, grad=0.0000), Var(v=0.0801, grad=-1.1118), Var(v=-0.0548, grad=-1.1343), Var(v=-0.1520, grad=0.4215), Var(v=-0.1256, grad=0.0000), Var(v=0.0408, grad=0.0000), Var(v=0.1038, grad=0.0000), Var(v=-0.0270, grad=0.0000), Var(v=-0.0353, grad=-0.7990), Var(v=-0.0803, grad=0.0000), Var(v=-0.0725, grad=0.4283), Var(v=0.2785, grad=0.6725), Var(v=0.0226, grad=0.0000), Var(v=0.0788, grad=0.0000), Var(v=-0.1087, grad=0.0000), Var(v=0.0199, grad=0.4782), Var(v=0.0586, grad=0.3650), Var(v=0.0326, grad=0.0000), Var(v=0.1717, grad=0.6266), Var(v=0.0550, grad=0.0000), Var(v=0.1106, grad=0.7103), Var(v=0.0439, grad=1.7926), Var(v=0.1179, grad=-0.0405), Var(v=-0.0865, grad=0.0000), Var(v=0.0755, grad=-0.0015), Var(v=0.1107, grad=0.8245), Var(v=0.1753, grad=0.0394), Var(v=0.0572, grad=0.0000), Var(v=0.0212, grad=0.8529), Var(v=0.0142, grad=-0.7451), Var(v=0.1266, grad=0.0000), Var(v=0.1909, grad=0.2822), Var(v=0.0192, grad=-0.3848), Var(v=0.0297, grad=-0.4073), Var(v=0.0996, grad=0.0000), Var(v=0.0040, grad=-0.2627)], [Var(v=0.0740, grad=0.7114), Var(v=0.0489, grad=0.6406), Var(v=-0.1112, grad=0.0000), Var(v=0.0661, grad=-0.2702), Var(v=0.0624, grad=1.5051), Var(v=-0.0333, grad=-0.8289), Var(v=0.0451, grad=0.8965), Var(v=-0.0277, grad=0.6091), Var(v=-0.0307, grad=0.0000), Var(v=-0.0100, grad=0.0000), Var(v=-0.0242, grad=1.8626), Var(v=0.1117, grad=0.0030), Var(v=-0.0043, grad=0.0000), Var(v=0.1071, grad=0.0000), Var(v=0.0240, grad=-0.8967), Var(v=0.0992, grad=1.3092), Var(v=0.1072, grad=0.0000), Var(v=-0.1135, grad=-0.4963), Var(v=-0.0288, grad=0.0000), Var(v=-0.1339, grad=0.0000), Var(v=-0.0247, grad=0.0000), Var(v=0.2688, grad=-1.2213), Var(v=0.1258, grad=0.0000), Var(v=0.0424, grad=0.6222), Var(v=0.0344, grad=0.0000), Var(v=-0.0196, grad=0.0000), Var(v=-0.0492, grad=0.0000), Var(v=0.0939, grad=-0.2231), Var(v=0.0483, grad=0.0000), Var(v=-0.1085, grad=-0.5630), Var(v=-0.0241, grad=0.0000), Var(v=0.0369, grad=0.0496), Var(v=-0.0439, grad=0.0000), Var(v=-0.0885, grad=0.0000), Var(v=0.0175, grad=-0.8364), Var(v=0.0388, grad=-2.1108), Var(v=0.2336, grad=0.0476), Var(v=0.1200, grad=0.2371), Var(v=-0.0769, grad=0.0000), Var(v=0.0335, grad=-0.9709), Var(v=0.0623, grad=-0.0464), Var(v=0.0408, grad=0.4313), Var(v=-0.1459, grad=0.0000), Var(v=0.0743, grad=0.0000), Var(v=-0.0126, grad=0.0000), Var(v=-0.0986, grad=0.0000), Var(v=0.0225, grad=0.4531), Var(v=0.0658, grad=0.0000), Var(v=0.0691, grad=-0.9250), Var(v=0.0500, grad=0.0000)], [Var(v=-0.0974, grad=0.0215), Var(v=-0.0774, grad=0.0194), Var(v=-0.0677, grad=0.0000), Var(v=-0.1384, grad=-0.0082), Var(v=-0.2024, grad=0.0455), Var(v=-0.1132, grad=-0.0251), Var(v=-0.0475, grad=0.0271), Var(v=0.1014, grad=0.0184), Var(v=0.2259, grad=0.0000), Var(v=0.0817, grad=0.0000), Var(v=0.1196, grad=0.0563), Var(v=-0.1287, grad=0.0001), Var(v=-0.0267, grad=0.0000), Var(v=0.1120, grad=0.0000), Var(v=-0.0559, grad=-0.0271), Var(v=-0.1639, grad=0.0396), Var(v=-0.1627, grad=0.0000), Var(v=0.0440, grad=-0.0150), Var(v=-0.0326, grad=0.0000), Var(v=-0.0101, grad=0.0000), Var(v=0.1078, grad=0.0000), Var(v=-0.0309, grad=-0.0369), Var(v=0.2325, grad=0.0000), Var(v=-0.0011, grad=0.0188), Var(v=0.0306, grad=0.0000), Var(v=0.0176, grad=0.0000), Var(v=-0.0348, grad=0.0000), Var(v=0.0444, grad=-0.0067), Var(v=-0.0028, grad=0.0000), Var(v=0.0035, grad=-0.0170), Var(v=0.0342, grad=0.0000), Var(v=-0.0681, grad=0.0015), Var(v=-0.0183, grad=0.0000), Var(v=0.0832, grad=0.0000), Var(v=0.1780, grad=-0.0253), Var(v=-0.0174, grad=-0.0638), Var(v=-0.1846, grad=0.0014), Var(v=0.0473, grad=0.0072), Var(v=0.2128, grad=0.0000), Var(v=-0.2404, grad=-0.0294), Var(v=-0.0239, grad=-0.0014), Var(v=0.0176, grad=0.0130), Var(v=-0.0725, grad=0.0000), Var(v=0.1832, grad=0.0000), Var(v=0.0985, grad=0.0000), Var(v=0.0182, grad=0.0000), Var(v=-0.0185, grad=0.0137), Var(v=0.1032, grad=0.0000), Var(v=-0.1363, grad=-0.0280), Var(v=0.0240, grad=0.0000)], [Var(v=-0.1179, grad=0.0000), Var(v=0.0313, grad=-1.2324), Var(v=-0.0996, grad=0.0000), Var(v=0.0602, grad=0.5197), Var(v=0.0175, grad=-2.8955), Var(v=0.1856, grad=1.5947), Var(v=0.0258, grad=-1.7246), Var(v=0.1112, grad=-1.1718), Var(v=-0.0788, grad=0.9836), Var(v=0.2056, grad=1.0143), Var(v=-0.0101, grad=0.0000), Var(v=-0.2617, grad=0.0000), Var(v=-0.2052, grad=0.0000), Var(v=0.0217, grad=0.4332), Var(v=0.1042, grad=0.0000), Var(v=-0.0842, grad=-2.5185), Var(v=-0.0153, grad=-2.5695), Var(v=0.1329, grad=0.9548), Var(v=-0.0565, grad=0.0000), Var(v=0.0512, grad=0.0000), Var(v=-0.2075, grad=0.0000), Var(v=0.0361, grad=0.0000), Var(v=-0.0218, grad=-1.8098), Var(v=-0.1943, grad=0.0000), Var(v=0.1223, grad=0.9701), Var(v=0.1377, grad=1.5233), Var(v=-0.1085, grad=0.0000), Var(v=-0.0769, grad=0.0000), Var(v=0.0404, grad=0.0000), Var(v=0.0207, grad=1.0831), Var(v=-0.1330, grad=0.8268), Var(v=-0.0628, grad=0.0000), Var(v=0.0533, grad=1.4193), Var(v=-0.0215, grad=0.0000), Var(v=-0.2754, grad=1.6090), Var(v=-0.0683, grad=4.0606), Var(v=0.0266, grad=-0.0916), Var(v=-0.1041, grad=0.0000), Var(v=0.0336, grad=-0.0035), Var(v=0.0484, grad=1.8677), Var(v=-0.0211, grad=0.0892), Var(v=0.0557, grad=0.0000), Var(v=0.1099, grad=1.9320), Var(v=0.2287, grad=-1.6878), Var(v=0.0392, grad=0.0000), Var(v=-0.0810, grad=0.6392), Var(v=0.0547, grad=-0.8716), Var(v=-0.0122, grad=-0.9226), Var(v=-0.1084, grad=0.0000), Var(v=-0.0982, grad=-0.5951)]] Biases: [Var(v=-0.0803, grad=8.0270), Var(v=0.0018, grad=-0.1841), Var(v=0.0000, grad=0.0000), Var(v=-0.0008, grad=0.0777), Var(v=0.0043, grad=-0.4326), Var(v=-0.0024, grad=0.2383), Var(v=0.0026, grad=-0.2577), Var(v=0.0018, grad=-0.1751), Var(v=-0.0592, grad=5.9161), Var(v=-0.0610, grad=6.1010), Var(v=-0.2102, grad=21.0182), Var(v=-0.0003, grad=0.0334), Var(v=0.0000, grad=0.0000), Var(v=-0.0261, grad=2.6054), Var(v=0.1012, grad=-10.1185), Var(v=0.0038, grad=-0.3763), Var(v=0.1546, grad=-15.4554), Var(v=-0.0014, grad=0.1427), Var(v=0.0000, grad=0.0000), Var(v=0.0000, grad=0.0000), Var(v=0.0000, grad=0.0000), Var(v=0.1378, grad=-13.7808), Var(v=0.1089, grad=-10.8859), Var(v=-0.0702, grad=7.0207), Var(v=-0.0584, grad=5.8354), Var(v=-0.0916, grad=9.1628), Var(v=0.0000, grad=0.0000), Var(v=0.0252, grad=-2.5171), Var(v=0.0000, grad=0.0000), Var(v=-0.0016, grad=0.1618), Var(v=-0.0497, grad=4.9730), Var(v=-0.0056, grad=0.5592), Var(v=-0.0854, grad=8.5370), Var(v=0.0000, grad=0.0000), Var(v=-0.0024, grad=0.2404), Var(v=-0.0061, grad=0.6067), Var(v=0.0001, grad=-0.0137), Var(v=-0.0268, grad=2.6757), Var(v=0.0002, grad=-0.0208), Var(v=-0.0028, grad=0.2790), Var(v=-0.0001, grad=0.0133), Var(v=-0.0487, grad=4.8668), Var(v=-0.1162, grad=11.6213), Var(v=0.1015, grad=-10.1519), Var(v=0.0000, grad=0.0000), Var(v=-0.0384, grad=3.8448), Var(v=0.0013, grad=-0.1302), Var(v=0.0555, grad=-5.5492), Var(v=0.1044, grad=-10.4375), Var(v=0.0358, grad=-3.5796)]\n",
      "Layer 2 \n",
      " Weights: [[Var(v=-0.0796, grad=-1.2804)], [Var(v=-0.1062, grad=2.2972)], [Var(v=0.0680, grad=0.0000)], [Var(v=-0.0093, grad=4.4382)], [Var(v=-0.2159, grad=2.0414)], [Var(v=0.0446, grad=6.3124)], [Var(v=-0.1131, grad=-0.3343)], [Var(v=-0.0874, grad=0.8301)], [Var(v=0.0664, grad=0.0001)], [Var(v=0.0199, grad=4.8592)], [Var(v=-0.2338, grad=-0.8170)], [Var(v=0.0119, grad=-1.2235)], [Var(v=-0.0339, grad=0.0000)], [Var(v=-0.0126, grad=4.1865)], [Var(v=0.1367, grad=-2.0216)], [Var(v=-0.1473, grad=-2.2775)], [Var(v=-0.2033, grad=2.9758)], [Var(v=-0.0302, grad=9.4671)], [Var(v=0.0344, grad=0.0000)], [Var(v=0.0871, grad=0.0000)], [Var(v=-0.0342, grad=0.0000)], [Var(v=0.1979, grad=-3.9261)], [Var(v=-0.1357, grad=1.3472)], [Var(v=-0.0753, grad=-0.5533)], [Var(v=0.0568, grad=0.8728)], [Var(v=0.0183, grad=8.4532)], [Var(v=-0.0524, grad=0.0000)], [Var(v=0.0496, grad=-2.0595)], [Var(v=0.0254, grad=0.0000)], [Var(v=0.0289, grad=4.4265)], [Var(v=0.0390, grad=1.6841)], [Var(v=-0.0010, grad=-0.5459)], [Var(v=0.0392, grad=5.6610)], [Var(v=0.0074, grad=0.0000)], [Var(v=0.1061, grad=0.2582)], [Var(v=0.3000, grad=-2.5789)], [Var(v=0.0012, grad=-0.7399)], [Var(v=-0.0087, grad=-2.2132)], [Var(v=-0.0191, grad=1.8822)], [Var(v=0.1324, grad=-0.6320)], [Var(v=-0.0406, grad=4.6670)], [Var(v=-0.0315, grad=-2.4541)], [Var(v=0.1051, grad=2.5333)], [Var(v=-0.1490, grad=3.5064)], [Var(v=-0.2667, grad=0.0000)], [Var(v=-0.0153, grad=5.8457)], [Var(v=-0.0814, grad=2.2507)], [Var(v=-0.0868, grad=2.4514)], [Var(v=0.1332, grad=-1.3057)], [Var(v=-0.0581, grad=1.7888)]] Biases: [Var(v=-0.0221, grad=2.2126)]\n",
      "\n",
      "Network after zeroing gradients:\n",
      "Layer 0 \n",
      " Weights: [[Var(v=-0.0824, grad=0.0000), Var(v=0.1664, grad=0.0000), Var(v=0.0248, grad=0.0000), Var(v=0.0803, grad=0.0000), Var(v=-0.0599, grad=0.0000), Var(v=-0.0653, grad=0.0000), Var(v=-0.1177, grad=0.0000), Var(v=-0.1151, grad=0.0000), Var(v=-0.1840, grad=0.0000), Var(v=0.0718, grad=0.0000), Var(v=-0.1029, grad=0.0000), Var(v=-0.0255, grad=0.0000), Var(v=0.0560, grad=0.0000), Var(v=-0.0031, grad=0.0000), Var(v=-0.0949, grad=0.0000)]] Biases: [Var(v=-0.0084, grad=0.0000), Var(v=0.0316, grad=0.0000), Var(v=-0.0310, grad=0.0000), Var(v=-0.0008, grad=0.0000), Var(v=0.0418, grad=0.0000), Var(v=-0.0261, grad=0.0000), Var(v=0.0741, grad=0.0000), Var(v=0.0459, grad=0.0000), Var(v=0.0829, grad=0.0000), Var(v=0.0259, grad=0.0000), Var(v=-0.0881, grad=0.0000), Var(v=-0.0374, grad=0.0000), Var(v=-0.0173, grad=0.0000), Var(v=-0.0047, grad=0.0000), Var(v=-0.0512, grad=0.0000)]\n",
      "Layer 1 \n",
      " Weights: [[Var(v=0.0174, grad=0.0000), Var(v=-0.0538, grad=0.0000), Var(v=-0.0103, grad=0.0000), Var(v=0.0442, grad=0.0000), Var(v=0.0986, grad=0.0000), Var(v=0.1847, grad=0.0000), Var(v=0.2008, grad=0.0000), Var(v=0.0029, grad=0.0000), Var(v=0.0391, grad=0.0000), Var(v=0.0910, grad=0.0000), Var(v=0.0407, grad=0.0000), Var(v=0.0453, grad=0.0000), Var(v=-0.1757, grad=0.0000), Var(v=-0.0419, grad=0.0000), Var(v=-0.0681, grad=0.0000), Var(v=0.1182, grad=0.0000), Var(v=0.0363, grad=0.0000), Var(v=0.0805, grad=0.0000), Var(v=-0.1801, grad=0.0000), Var(v=-0.0961, grad=0.0000), Var(v=0.0881, grad=0.0000), Var(v=-0.0862, grad=0.0000), Var(v=0.0514, grad=0.0000), Var(v=-0.0823, grad=0.0000), Var(v=0.0623, grad=0.0000), Var(v=0.1245, grad=0.0000), Var(v=-0.1168, grad=0.0000), Var(v=-0.1262, grad=0.0000), Var(v=-0.1295, grad=0.0000), Var(v=0.1069, grad=0.0000), Var(v=0.0151, grad=0.0000), Var(v=0.0098, grad=0.0000), Var(v=0.0666, grad=0.0000), Var(v=-0.1098, grad=0.0000), Var(v=0.0355, grad=0.0000), Var(v=-0.0278, grad=0.0000), Var(v=0.1252, grad=0.0000), Var(v=-0.1418, grad=0.0000), Var(v=0.1535, grad=0.0000), Var(v=-0.2059, grad=0.0000), Var(v=0.1797, grad=0.0000), Var(v=-0.0845, grad=0.0000), Var(v=-0.1231, grad=0.0000), Var(v=-0.1226, grad=0.0000), Var(v=0.0797, grad=0.0000), Var(v=0.2097, grad=0.0000), Var(v=-0.0156, grad=0.0000), Var(v=-0.1339, grad=0.0000), Var(v=-0.0610, grad=0.0000), Var(v=0.0780, grad=0.0000)], [Var(v=0.0349, grad=0.0000), Var(v=0.1110, grad=0.0000), Var(v=-0.0181, grad=0.0000), Var(v=0.0802, grad=0.0000), Var(v=-0.0232, grad=0.0000), Var(v=0.0229, grad=0.0000), Var(v=0.0197, grad=0.0000), Var(v=0.1609, grad=0.0000), Var(v=-0.1143, grad=0.0000), Var(v=-0.0534, grad=0.0000), Var(v=-0.0592, grad=0.0000), Var(v=0.0210, grad=0.0000), Var(v=-0.0751, grad=0.0000), Var(v=-0.0954, grad=0.0000), Var(v=0.1550, grad=0.0000), Var(v=0.2183, grad=0.0000), Var(v=-0.2695, grad=0.0000), Var(v=0.1799, grad=0.0000), Var(v=-0.0302, grad=0.0000), Var(v=0.0311, grad=0.0000), Var(v=-0.0253, grad=0.0000), Var(v=0.1413, grad=0.0000), Var(v=-0.1102, grad=0.0000), Var(v=0.0588, grad=0.0000), Var(v=-0.1527, grad=0.0000), Var(v=-0.0633, grad=0.0000), Var(v=-0.0302, grad=0.0000), Var(v=0.1088, grad=0.0000), Var(v=-0.0844, grad=0.0000), Var(v=0.2080, grad=0.0000), Var(v=-0.0940, grad=0.0000), Var(v=0.0765, grad=0.0000), Var(v=0.0269, grad=0.0000), Var(v=-0.0207, grad=0.0000), Var(v=-0.0453, grad=0.0000), Var(v=0.1703, grad=0.0000), Var(v=0.2127, grad=0.0000), Var(v=-0.0595, grad=0.0000), Var(v=-0.1005, grad=0.0000), Var(v=0.0331, grad=0.0000), Var(v=-0.0229, grad=0.0000), Var(v=0.0731, grad=0.0000), Var(v=-0.0950, grad=0.0000), Var(v=-0.1900, grad=0.0000), Var(v=0.0168, grad=0.0000), Var(v=0.0086, grad=0.0000), Var(v=0.0089, grad=0.0000), Var(v=-0.0544, grad=0.0000), Var(v=0.1367, grad=0.0000), Var(v=-0.0126, grad=0.0000)], [Var(v=0.0744, grad=0.0000), Var(v=0.0029, grad=0.0000), Var(v=0.0715, grad=0.0000), Var(v=0.0751, grad=0.0000), Var(v=-0.1978, grad=0.0000), Var(v=-0.0256, grad=0.0000), Var(v=0.0642, grad=0.0000), Var(v=-0.0310, grad=0.0000), Var(v=0.0421, grad=0.0000), Var(v=0.1282, grad=0.0000), Var(v=0.0599, grad=0.0000), Var(v=0.0532, grad=0.0000), Var(v=0.1213, grad=0.0000), Var(v=-0.0892, grad=0.0000), Var(v=-0.1634, grad=0.0000), Var(v=-0.0443, grad=0.0000), Var(v=0.0104, grad=0.0000), Var(v=0.0501, grad=0.0000), Var(v=0.0067, grad=0.0000), Var(v=-0.0075, grad=0.0000), Var(v=-0.0809, grad=0.0000), Var(v=0.0097, grad=0.0000), Var(v=0.0198, grad=0.0000), Var(v=-0.1047, grad=0.0000), Var(v=0.0556, grad=0.0000), Var(v=0.0117, grad=0.0000), Var(v=0.0721, grad=0.0000), Var(v=0.1821, grad=0.0000), Var(v=-0.2039, grad=0.0000), Var(v=-0.0876, grad=0.0000), Var(v=0.0342, grad=0.0000), Var(v=-0.0591, grad=0.0000), Var(v=-0.2049, grad=0.0000), Var(v=-0.1264, grad=0.0000), Var(v=0.1443, grad=0.0000), Var(v=-0.0848, grad=0.0000), Var(v=0.1097, grad=0.0000), Var(v=0.1032, grad=0.0000), Var(v=0.0753, grad=0.0000), Var(v=0.0561, grad=0.0000), Var(v=0.1326, grad=0.0000), Var(v=0.0030, grad=0.0000), Var(v=-0.0155, grad=0.0000), Var(v=-0.0080, grad=0.0000), Var(v=-0.0118, grad=0.0000), Var(v=-0.0726, grad=0.0000), Var(v=-0.2333, grad=0.0000), Var(v=-0.0328, grad=0.0000), Var(v=0.0541, grad=0.0000), Var(v=0.2239, grad=0.0000)], [Var(v=-0.0120, grad=0.0000), Var(v=-0.0697, grad=0.0000), Var(v=0.0414, grad=0.0000), Var(v=-0.0310, grad=0.0000), Var(v=-0.0329, grad=0.0000), Var(v=0.1928, grad=0.0000), Var(v=0.0150, grad=0.0000), Var(v=-0.2097, grad=0.0000), Var(v=0.0578, grad=0.0000), Var(v=0.0151, grad=0.0000), Var(v=0.1513, grad=0.0000), Var(v=-0.0363, grad=0.0000), Var(v=0.0206, grad=0.0000), Var(v=-0.2225, grad=0.0000), Var(v=-0.0075, grad=0.0000), Var(v=0.0926, grad=0.0000), Var(v=0.1415, grad=0.0000), Var(v=-0.0506, grad=0.0000), Var(v=-0.0351, grad=0.0000), Var(v=0.0126, grad=0.0000), Var(v=-0.1833, grad=0.0000), Var(v=0.0254, grad=0.0000), Var(v=-0.0031, grad=0.0000), Var(v=-0.0599, grad=0.0000), Var(v=0.1087, grad=0.0000), Var(v=-0.1596, grad=0.0000), Var(v=0.0429, grad=0.0000), Var(v=0.0401, grad=0.0000), Var(v=0.0097, grad=0.0000), Var(v=-0.0190, grad=0.0000), Var(v=0.1344, grad=0.0000), Var(v=-0.0770, grad=0.0000), Var(v=-0.1002, grad=0.0000), Var(v=-0.0694, grad=0.0000), Var(v=0.1661, grad=0.0000), Var(v=0.0498, grad=0.0000), Var(v=0.0608, grad=0.0000), Var(v=0.1522, grad=0.0000), Var(v=-0.1571, grad=0.0000), Var(v=0.1191, grad=0.0000), Var(v=0.1063, grad=0.0000), Var(v=0.0862, grad=0.0000), Var(v=-0.0489, grad=0.0000), Var(v=0.0099, grad=0.0000), Var(v=-0.2383, grad=0.0000), Var(v=-0.0938, grad=0.0000), Var(v=0.1395, grad=0.0000), Var(v=-0.0514, grad=0.0000), Var(v=-0.0131, grad=0.0000), Var(v=-0.0960, grad=0.0000)], [Var(v=0.0188, grad=0.0000), Var(v=0.0506, grad=0.0000), Var(v=0.2276, grad=0.0000), Var(v=0.1243, grad=0.0000), Var(v=0.2047, grad=0.0000), Var(v=0.1143, grad=0.0000), Var(v=-0.0787, grad=0.0000), Var(v=0.2016, grad=0.0000), Var(v=-0.1619, grad=0.0000), Var(v=-0.0290, grad=0.0000), Var(v=0.1548, grad=0.0000), Var(v=-0.2079, grad=0.0000), Var(v=0.1716, grad=0.0000), Var(v=-0.1278, grad=0.0000), Var(v=-0.0787, grad=0.0000), Var(v=0.1563, grad=0.0000), Var(v=-0.1165, grad=0.0000), Var(v=-0.1512, grad=0.0000), Var(v=-0.0718, grad=0.0000), Var(v=0.1526, grad=0.0000), Var(v=0.1069, grad=0.0000), Var(v=0.1574, grad=0.0000), Var(v=0.1378, grad=0.0000), Var(v=0.0728, grad=0.0000), Var(v=-0.2113, grad=0.0000), Var(v=0.0764, grad=0.0000), Var(v=-0.1362, grad=0.0000), Var(v=0.0430, grad=0.0000), Var(v=-0.0510, grad=0.0000), Var(v=0.1470, grad=0.0000), Var(v=-0.0169, grad=0.0000), Var(v=0.0460, grad=0.0000), Var(v=-0.0039, grad=0.0000), Var(v=0.0507, grad=0.0000), Var(v=0.1582, grad=0.0000), Var(v=0.0027, grad=0.0000), Var(v=-0.0459, grad=0.0000), Var(v=0.0156, grad=0.0000), Var(v=0.1439, grad=0.0000), Var(v=0.0546, grad=0.0000), Var(v=0.1238, grad=0.0000), Var(v=-0.0500, grad=0.0000), Var(v=0.0088, grad=0.0000), Var(v=-0.0166, grad=0.0000), Var(v=-0.0044, grad=0.0000), Var(v=-0.0121, grad=0.0000), Var(v=-0.0588, grad=0.0000), Var(v=-0.0424, grad=0.0000), Var(v=0.0916, grad=0.0000), Var(v=0.1426, grad=0.0000)], [Var(v=0.0332, grad=0.0000), Var(v=0.1902, grad=0.0000), Var(v=0.0915, grad=0.0000), Var(v=0.0872, grad=0.0000), Var(v=0.0219, grad=0.0000), Var(v=0.1699, grad=0.0000), Var(v=0.1031, grad=0.0000), Var(v=-0.1947, grad=0.0000), Var(v=-0.0331, grad=0.0000), Var(v=-0.0774, grad=0.0000), Var(v=-0.0056, grad=0.0000), Var(v=-0.1990, grad=0.0000), Var(v=-0.0098, grad=0.0000), Var(v=0.2961, grad=0.0000), Var(v=-0.0504, grad=0.0000), Var(v=0.0581, grad=0.0000), Var(v=0.1557, grad=0.0000), Var(v=0.1474, grad=0.0000), Var(v=0.0436, grad=0.0000), Var(v=-0.0060, grad=0.0000), Var(v=-0.2098, grad=0.0000), Var(v=-0.0405, grad=0.0000), Var(v=-0.0087, grad=0.0000), Var(v=-0.0023, grad=0.0000), Var(v=0.1158, grad=0.0000), Var(v=0.0066, grad=0.0000), Var(v=-0.0175, grad=0.0000), Var(v=-0.0573, grad=0.0000), Var(v=0.0608, grad=0.0000), Var(v=0.0208, grad=0.0000), Var(v=0.0628, grad=0.0000), Var(v=-0.0088, grad=0.0000), Var(v=0.0219, grad=0.0000), Var(v=0.1383, grad=0.0000), Var(v=0.0120, grad=0.0000), Var(v=0.0195, grad=0.0000), Var(v=-0.1229, grad=0.0000), Var(v=-0.0627, grad=0.0000), Var(v=-0.0154, grad=0.0000), Var(v=-0.0350, grad=0.0000), Var(v=-0.0100, grad=0.0000), Var(v=-0.0557, grad=0.0000), Var(v=-0.1063, grad=0.0000), Var(v=-0.0486, grad=0.0000), Var(v=-0.1481, grad=0.0000), Var(v=0.1838, grad=0.0000), Var(v=-0.0171, grad=0.0000), Var(v=0.0821, grad=0.0000), Var(v=0.0688, grad=0.0000), Var(v=-0.1118, grad=0.0000)], [Var(v=0.0573, grad=0.0000), Var(v=-0.0284, grad=0.0000), Var(v=-0.0222, grad=0.0000), Var(v=-0.0977, grad=0.0000), Var(v=0.0639, grad=0.0000), Var(v=-0.0517, grad=0.0000), Var(v=-0.0385, grad=0.0000), Var(v=0.0290, grad=0.0000), Var(v=0.1313, grad=0.0000), Var(v=-0.1009, grad=0.0000), Var(v=-0.0142, grad=0.0000), Var(v=-0.0019, grad=0.0000), Var(v=0.0254, grad=0.0000), Var(v=0.0960, grad=0.0000), Var(v=0.1478, grad=0.0000), Var(v=0.0343, grad=0.0000), Var(v=0.0022, grad=0.0000), Var(v=0.1406, grad=0.0000), Var(v=-0.0493, grad=0.0000), Var(v=0.0205, grad=0.0000), Var(v=0.0338, grad=0.0000), Var(v=-0.0841, grad=0.0000), Var(v=0.2130, grad=0.0000), Var(v=-0.1522, grad=0.0000), Var(v=0.1260, grad=0.0000), Var(v=-0.0864, grad=0.0000), Var(v=-0.0192, grad=0.0000), Var(v=-0.1504, grad=0.0000), Var(v=-0.1121, grad=0.0000), Var(v=-0.0240, grad=0.0000), Var(v=0.0134, grad=0.0000), Var(v=-0.1467, grad=0.0000), Var(v=-0.0659, grad=0.0000), Var(v=0.0087, grad=0.0000), Var(v=0.1375, grad=0.0000), Var(v=-0.1540, grad=0.0000), Var(v=0.2195, grad=0.0000), Var(v=-0.2111, grad=0.0000), Var(v=0.1286, grad=0.0000), Var(v=0.0448, grad=0.0000), Var(v=-0.1019, grad=0.0000), Var(v=-0.1717, grad=0.0000), Var(v=-0.0462, grad=0.0000), Var(v=0.1101, grad=0.0000), Var(v=0.1022, grad=0.0000), Var(v=0.0659, grad=0.0000), Var(v=0.0857, grad=0.0000), Var(v=0.1389, grad=0.0000), Var(v=0.0414, grad=0.0000), Var(v=-0.0284, grad=0.0000)], [Var(v=-0.0807, grad=0.0000), Var(v=-0.0063, grad=0.0000), Var(v=0.1854, grad=0.0000), Var(v=0.1148, grad=0.0000), Var(v=-0.0450, grad=0.0000), Var(v=-0.0643, grad=0.0000), Var(v=0.1462, grad=0.0000), Var(v=-0.0085, grad=0.0000), Var(v=0.2217, grad=0.0000), Var(v=0.0746, grad=0.0000), Var(v=-0.0072, grad=0.0000), Var(v=0.0124, grad=0.0000), Var(v=-0.1722, grad=0.0000), Var(v=-0.0971, grad=0.0000), Var(v=-0.0866, grad=0.0000), Var(v=0.0760, grad=0.0000), Var(v=0.3096, grad=0.0000), Var(v=0.1034, grad=0.0000), Var(v=-0.0846, grad=0.0000), Var(v=-0.0797, grad=0.0000), Var(v=0.0589, grad=0.0000), Var(v=-0.0427, grad=0.0000), Var(v=0.0906, grad=0.0000), Var(v=-0.0704, grad=0.0000), Var(v=-0.0231, grad=0.0000), Var(v=0.1489, grad=0.0000), Var(v=0.1534, grad=0.0000), Var(v=0.1168, grad=0.0000), Var(v=0.0722, grad=0.0000), Var(v=-0.0914, grad=0.0000), Var(v=-0.0176, grad=0.0000), Var(v=-0.0702, grad=0.0000), Var(v=0.0145, grad=0.0000), Var(v=-0.1552, grad=0.0000), Var(v=0.1493, grad=0.0000), Var(v=-0.1608, grad=0.0000), Var(v=-0.0295, grad=0.0000), Var(v=-0.1313, grad=0.0000), Var(v=-0.1337, grad=0.0000), Var(v=-0.0522, grad=0.0000), Var(v=0.0993, grad=0.0000), Var(v=-0.0160, grad=0.0000), Var(v=0.1364, grad=0.0000), Var(v=0.0225, grad=0.0000), Var(v=-0.0789, grad=0.0000), Var(v=-0.0293, grad=0.0000), Var(v=0.0556, grad=0.0000), Var(v=-0.1163, grad=0.0000), Var(v=-0.0569, grad=0.0000), Var(v=0.0254, grad=0.0000)], [Var(v=0.0059, grad=0.0000), Var(v=0.1613, grad=0.0000), Var(v=-0.0258, grad=0.0000), Var(v=0.1458, grad=0.0000), Var(v=-0.0524, grad=0.0000), Var(v=0.0334, grad=0.0000), Var(v=0.1045, grad=0.0000), Var(v=0.1712, grad=0.0000), Var(v=-0.0013, grad=0.0000), Var(v=-0.0341, grad=0.0000), Var(v=0.1928, grad=0.0000), Var(v=0.0496, grad=0.0000), Var(v=0.1813, grad=0.0000), Var(v=0.2799, grad=0.0000), Var(v=-0.1170, grad=0.0000), Var(v=0.0613, grad=0.0000), Var(v=0.1437, grad=0.0000), Var(v=0.1264, grad=0.0000), Var(v=0.0144, grad=0.0000), Var(v=0.0681, grad=0.0000), Var(v=0.0547, grad=0.0000), Var(v=-0.0586, grad=0.0000), Var(v=0.0669, grad=0.0000), Var(v=-0.2176, grad=0.0000), Var(v=-0.0309, grad=0.0000), Var(v=-0.0395, grad=0.0000), Var(v=-0.1218, grad=0.0000), Var(v=0.0483, grad=0.0000), Var(v=0.1434, grad=0.0000), Var(v=0.2564, grad=0.0000), Var(v=0.1417, grad=0.0000), Var(v=0.2030, grad=0.0000), Var(v=-0.2057, grad=0.0000), Var(v=-0.0837, grad=0.0000), Var(v=-0.0791, grad=0.0000), Var(v=-0.1272, grad=0.0000), Var(v=0.0009, grad=0.0000), Var(v=-0.2296, grad=0.0000), Var(v=-0.0670, grad=0.0000), Var(v=-0.1115, grad=0.0000), Var(v=0.0520, grad=0.0000), Var(v=0.1313, grad=0.0000), Var(v=-0.0478, grad=0.0000), Var(v=0.0470, grad=0.0000), Var(v=-0.0140, grad=0.0000), Var(v=0.2460, grad=0.0000), Var(v=0.0376, grad=0.0000), Var(v=0.1376, grad=0.0000), Var(v=-0.1154, grad=0.0000), Var(v=0.1565, grad=0.0000)], [Var(v=0.0194, grad=0.0000), Var(v=-0.0378, grad=0.0000), Var(v=0.0991, grad=0.0000), Var(v=0.1368, grad=0.0000), Var(v=-0.0505, grad=0.0000), Var(v=-0.0932, grad=0.0000), Var(v=-0.1146, grad=0.0000), Var(v=0.1319, grad=0.0000), Var(v=-0.1453, grad=0.0000), Var(v=0.1177, grad=0.0000), Var(v=-0.0612, grad=0.0000), Var(v=0.0986, grad=0.0000), Var(v=0.0322, grad=0.0000), Var(v=-0.0333, grad=0.0000), Var(v=0.0586, grad=0.0000), Var(v=-0.0506, grad=0.0000), Var(v=-0.0247, grad=0.0000), Var(v=-0.1579, grad=0.0000), Var(v=-0.1541, grad=0.0000), Var(v=0.0321, grad=0.0000), Var(v=0.0996, grad=0.0000), Var(v=0.0725, grad=0.0000), Var(v=-0.0003, grad=0.0000), Var(v=-0.0731, grad=0.0000), Var(v=-0.0869, grad=0.0000), Var(v=-0.0066, grad=0.0000), Var(v=-0.1885, grad=0.0000), Var(v=-0.0801, grad=0.0000), Var(v=0.0533, grad=0.0000), Var(v=0.0529, grad=0.0000), Var(v=-0.0134, grad=0.0000), Var(v=-0.0268, grad=0.0000), Var(v=-0.1012, grad=0.0000), Var(v=0.0876, grad=0.0000), Var(v=-0.0957, grad=0.0000), Var(v=0.1231, grad=0.0000), Var(v=-0.1809, grad=0.0000), Var(v=0.1688, grad=0.0000), Var(v=0.0194, grad=0.0000), Var(v=-0.0675, grad=0.0000), Var(v=-0.0437, grad=0.0000), Var(v=0.0693, grad=0.0000), Var(v=-0.0176, grad=0.0000), Var(v=0.0445, grad=0.0000), Var(v=0.0146, grad=0.0000), Var(v=0.1929, grad=0.0000), Var(v=-0.0738, grad=0.0000), Var(v=0.0260, grad=0.0000), Var(v=-0.1183, grad=0.0000), Var(v=0.0752, grad=0.0000)], [Var(v=-0.0559, grad=0.0000), Var(v=0.0095, grad=0.0000), Var(v=-0.0731, grad=0.0000), Var(v=0.0506, grad=0.0000), Var(v=0.1276, grad=0.0000), Var(v=0.0299, grad=0.0000), Var(v=-0.1806, grad=0.0000), Var(v=0.0317, grad=0.0000), Var(v=-0.0316, grad=0.0000), Var(v=0.1172, grad=0.0000), Var(v=-0.1189, grad=0.0000), Var(v=0.1367, grad=0.0000), Var(v=0.0479, grad=0.0000), Var(v=-0.0125, grad=0.0000), Var(v=-0.2207, grad=0.0000), Var(v=0.0921, grad=0.0000), Var(v=0.0166, grad=0.0000), Var(v=0.1980, grad=0.0000), Var(v=0.1355, grad=0.0000), Var(v=-0.0988, grad=0.0000), Var(v=0.0012, grad=0.0000), Var(v=0.0224, grad=0.0000), Var(v=0.0274, grad=0.0000), Var(v=-0.0329, grad=0.0000), Var(v=-0.1274, grad=0.0000), Var(v=0.1048, grad=0.0000), Var(v=0.1087, grad=0.0000), Var(v=-0.0042, grad=0.0000), Var(v=-0.1677, grad=0.0000), Var(v=0.1066, grad=0.0000), Var(v=0.0407, grad=0.0000), Var(v=-0.0644, grad=0.0000), Var(v=0.2169, grad=0.0000), Var(v=-0.0525, grad=0.0000), Var(v=0.0661, grad=0.0000), Var(v=0.0509, grad=0.0000), Var(v=0.0932, grad=0.0000), Var(v=0.0307, grad=0.0000), Var(v=0.0201, grad=0.0000), Var(v=0.0456, grad=0.0000), Var(v=0.1058, grad=0.0000), Var(v=-0.1170, grad=0.0000), Var(v=0.0690, grad=0.0000), Var(v=0.0882, grad=0.0000), Var(v=-0.0795, grad=0.0000), Var(v=-0.0197, grad=0.0000), Var(v=0.1417, grad=0.0000), Var(v=0.1306, grad=0.0000), Var(v=0.0980, grad=0.0000), Var(v=0.1046, grad=0.0000)], [Var(v=0.1408, grad=0.0000), Var(v=0.1713, grad=0.0000), Var(v=-0.0081, grad=0.0000), Var(v=0.1257, grad=0.0000), Var(v=0.1153, grad=0.0000), Var(v=-0.0369, grad=0.0000), Var(v=0.0128, grad=0.0000), Var(v=0.0352, grad=0.0000), Var(v=-0.0864, grad=0.0000), Var(v=-0.1704, grad=0.0000), Var(v=0.0270, grad=0.0000), Var(v=-0.1469, grad=0.0000), Var(v=-0.0629, grad=0.0000), Var(v=-0.0810, grad=0.0000), Var(v=-0.0265, grad=0.0000), Var(v=0.0801, grad=0.0000), Var(v=-0.0548, grad=0.0000), Var(v=-0.1520, grad=0.0000), Var(v=-0.1256, grad=0.0000), Var(v=0.0408, grad=0.0000), Var(v=0.1038, grad=0.0000), Var(v=-0.0270, grad=0.0000), Var(v=-0.0353, grad=0.0000), Var(v=-0.0803, grad=0.0000), Var(v=-0.0725, grad=0.0000), Var(v=0.2785, grad=0.0000), Var(v=0.0226, grad=0.0000), Var(v=0.0788, grad=0.0000), Var(v=-0.1087, grad=0.0000), Var(v=0.0199, grad=0.0000), Var(v=0.0586, grad=0.0000), Var(v=0.0326, grad=0.0000), Var(v=0.1717, grad=0.0000), Var(v=0.0550, grad=0.0000), Var(v=0.1106, grad=0.0000), Var(v=0.0439, grad=0.0000), Var(v=0.1179, grad=0.0000), Var(v=-0.0865, grad=0.0000), Var(v=0.0755, grad=0.0000), Var(v=0.1107, grad=0.0000), Var(v=0.1753, grad=0.0000), Var(v=0.0572, grad=0.0000), Var(v=0.0212, grad=0.0000), Var(v=0.0142, grad=0.0000), Var(v=0.1266, grad=0.0000), Var(v=0.1909, grad=0.0000), Var(v=0.0192, grad=0.0000), Var(v=0.0297, grad=0.0000), Var(v=0.0996, grad=0.0000), Var(v=0.0040, grad=0.0000)], [Var(v=0.0740, grad=0.0000), Var(v=0.0489, grad=0.0000), Var(v=-0.1112, grad=0.0000), Var(v=0.0661, grad=0.0000), Var(v=0.0624, grad=0.0000), Var(v=-0.0333, grad=0.0000), Var(v=0.0451, grad=0.0000), Var(v=-0.0277, grad=0.0000), Var(v=-0.0307, grad=0.0000), Var(v=-0.0100, grad=0.0000), Var(v=-0.0242, grad=0.0000), Var(v=0.1117, grad=0.0000), Var(v=-0.0043, grad=0.0000), Var(v=0.1071, grad=0.0000), Var(v=0.0240, grad=0.0000), Var(v=0.0992, grad=0.0000), Var(v=0.1072, grad=0.0000), Var(v=-0.1135, grad=0.0000), Var(v=-0.0288, grad=0.0000), Var(v=-0.1339, grad=0.0000), Var(v=-0.0247, grad=0.0000), Var(v=0.2688, grad=0.0000), Var(v=0.1258, grad=0.0000), Var(v=0.0424, grad=0.0000), Var(v=0.0344, grad=0.0000), Var(v=-0.0196, grad=0.0000), Var(v=-0.0492, grad=0.0000), Var(v=0.0939, grad=0.0000), Var(v=0.0483, grad=0.0000), Var(v=-0.1085, grad=0.0000), Var(v=-0.0241, grad=0.0000), Var(v=0.0369, grad=0.0000), Var(v=-0.0439, grad=0.0000), Var(v=-0.0885, grad=0.0000), Var(v=0.0175, grad=0.0000), Var(v=0.0388, grad=0.0000), Var(v=0.2336, grad=0.0000), Var(v=0.1200, grad=0.0000), Var(v=-0.0769, grad=0.0000), Var(v=0.0335, grad=0.0000), Var(v=0.0623, grad=0.0000), Var(v=0.0408, grad=0.0000), Var(v=-0.1459, grad=0.0000), Var(v=0.0743, grad=0.0000), Var(v=-0.0126, grad=0.0000), Var(v=-0.0986, grad=0.0000), Var(v=0.0225, grad=0.0000), Var(v=0.0658, grad=0.0000), Var(v=0.0691, grad=0.0000), Var(v=0.0500, grad=0.0000)], [Var(v=-0.0974, grad=0.0000), Var(v=-0.0774, grad=0.0000), Var(v=-0.0677, grad=0.0000), Var(v=-0.1384, grad=0.0000), Var(v=-0.2024, grad=0.0000), Var(v=-0.1132, grad=0.0000), Var(v=-0.0475, grad=0.0000), Var(v=0.1014, grad=0.0000), Var(v=0.2259, grad=0.0000), Var(v=0.0817, grad=0.0000), Var(v=0.1196, grad=0.0000), Var(v=-0.1287, grad=0.0000), Var(v=-0.0267, grad=0.0000), Var(v=0.1120, grad=0.0000), Var(v=-0.0559, grad=0.0000), Var(v=-0.1639, grad=0.0000), Var(v=-0.1627, grad=0.0000), Var(v=0.0440, grad=0.0000), Var(v=-0.0326, grad=0.0000), Var(v=-0.0101, grad=0.0000), Var(v=0.1078, grad=0.0000), Var(v=-0.0309, grad=0.0000), Var(v=0.2325, grad=0.0000), Var(v=-0.0011, grad=0.0000), Var(v=0.0306, grad=0.0000), Var(v=0.0176, grad=0.0000), Var(v=-0.0348, grad=0.0000), Var(v=0.0444, grad=0.0000), Var(v=-0.0028, grad=0.0000), Var(v=0.0035, grad=0.0000), Var(v=0.0342, grad=0.0000), Var(v=-0.0681, grad=0.0000), Var(v=-0.0183, grad=0.0000), Var(v=0.0832, grad=0.0000), Var(v=0.1780, grad=0.0000), Var(v=-0.0174, grad=0.0000), Var(v=-0.1846, grad=0.0000), Var(v=0.0473, grad=0.0000), Var(v=0.2128, grad=0.0000), Var(v=-0.2404, grad=0.0000), Var(v=-0.0239, grad=0.0000), Var(v=0.0176, grad=0.0000), Var(v=-0.0725, grad=0.0000), Var(v=0.1832, grad=0.0000), Var(v=0.0985, grad=0.0000), Var(v=0.0182, grad=0.0000), Var(v=-0.0185, grad=0.0000), Var(v=0.1032, grad=0.0000), Var(v=-0.1363, grad=0.0000), Var(v=0.0240, grad=0.0000)], [Var(v=-0.1179, grad=0.0000), Var(v=0.0313, grad=0.0000), Var(v=-0.0996, grad=0.0000), Var(v=0.0602, grad=0.0000), Var(v=0.0175, grad=0.0000), Var(v=0.1856, grad=0.0000), Var(v=0.0258, grad=0.0000), Var(v=0.1112, grad=0.0000), Var(v=-0.0788, grad=0.0000), Var(v=0.2056, grad=0.0000), Var(v=-0.0101, grad=0.0000), Var(v=-0.2617, grad=0.0000), Var(v=-0.2052, grad=0.0000), Var(v=0.0217, grad=0.0000), Var(v=0.1042, grad=0.0000), Var(v=-0.0842, grad=0.0000), Var(v=-0.0153, grad=0.0000), Var(v=0.1329, grad=0.0000), Var(v=-0.0565, grad=0.0000), Var(v=0.0512, grad=0.0000), Var(v=-0.2075, grad=0.0000), Var(v=0.0361, grad=0.0000), Var(v=-0.0218, grad=0.0000), Var(v=-0.1943, grad=0.0000), Var(v=0.1223, grad=0.0000), Var(v=0.1377, grad=0.0000), Var(v=-0.1085, grad=0.0000), Var(v=-0.0769, grad=0.0000), Var(v=0.0404, grad=0.0000), Var(v=0.0207, grad=0.0000), Var(v=-0.1330, grad=0.0000), Var(v=-0.0628, grad=0.0000), Var(v=0.0533, grad=0.0000), Var(v=-0.0215, grad=0.0000), Var(v=-0.2754, grad=0.0000), Var(v=-0.0683, grad=0.0000), Var(v=0.0266, grad=0.0000), Var(v=-0.1041, grad=0.0000), Var(v=0.0336, grad=0.0000), Var(v=0.0484, grad=0.0000), Var(v=-0.0211, grad=0.0000), Var(v=0.0557, grad=0.0000), Var(v=0.1099, grad=0.0000), Var(v=0.2287, grad=0.0000), Var(v=0.0392, grad=0.0000), Var(v=-0.0810, grad=0.0000), Var(v=0.0547, grad=0.0000), Var(v=-0.0122, grad=0.0000), Var(v=-0.1084, grad=0.0000), Var(v=-0.0982, grad=0.0000)]] Biases: [Var(v=-0.0803, grad=0.0000), Var(v=0.0018, grad=0.0000), Var(v=0.0000, grad=0.0000), Var(v=-0.0008, grad=0.0000), Var(v=0.0043, grad=0.0000), Var(v=-0.0024, grad=0.0000), Var(v=0.0026, grad=0.0000), Var(v=0.0018, grad=0.0000), Var(v=-0.0592, grad=0.0000), Var(v=-0.0610, grad=0.0000), Var(v=-0.2102, grad=0.0000), Var(v=-0.0003, grad=0.0000), Var(v=0.0000, grad=0.0000), Var(v=-0.0261, grad=0.0000), Var(v=0.1012, grad=0.0000), Var(v=0.0038, grad=0.0000), Var(v=0.1546, grad=0.0000), Var(v=-0.0014, grad=0.0000), Var(v=0.0000, grad=0.0000), Var(v=0.0000, grad=0.0000), Var(v=0.0000, grad=0.0000), Var(v=0.1378, grad=0.0000), Var(v=0.1089, grad=0.0000), Var(v=-0.0702, grad=0.0000), Var(v=-0.0584, grad=0.0000), Var(v=-0.0916, grad=0.0000), Var(v=0.0000, grad=0.0000), Var(v=0.0252, grad=0.0000), Var(v=0.0000, grad=0.0000), Var(v=-0.0016, grad=0.0000), Var(v=-0.0497, grad=0.0000), Var(v=-0.0056, grad=0.0000), Var(v=-0.0854, grad=0.0000), Var(v=0.0000, grad=0.0000), Var(v=-0.0024, grad=0.0000), Var(v=-0.0061, grad=0.0000), Var(v=0.0001, grad=0.0000), Var(v=-0.0268, grad=0.0000), Var(v=0.0002, grad=0.0000), Var(v=-0.0028, grad=0.0000), Var(v=-0.0001, grad=0.0000), Var(v=-0.0487, grad=0.0000), Var(v=-0.1162, grad=0.0000), Var(v=0.1015, grad=0.0000), Var(v=0.0000, grad=0.0000), Var(v=-0.0384, grad=0.0000), Var(v=0.0013, grad=0.0000), Var(v=0.0555, grad=0.0000), Var(v=0.1044, grad=0.0000), Var(v=0.0358, grad=0.0000)]\n",
      "Layer 2 \n",
      " Weights: [[Var(v=-0.0796, grad=0.0000)], [Var(v=-0.1062, grad=0.0000)], [Var(v=0.0680, grad=0.0000)], [Var(v=-0.0093, grad=0.0000)], [Var(v=-0.2159, grad=0.0000)], [Var(v=0.0446, grad=0.0000)], [Var(v=-0.1131, grad=0.0000)], [Var(v=-0.0874, grad=0.0000)], [Var(v=0.0664, grad=0.0000)], [Var(v=0.0199, grad=0.0000)], [Var(v=-0.2338, grad=0.0000)], [Var(v=0.0119, grad=0.0000)], [Var(v=-0.0339, grad=0.0000)], [Var(v=-0.0126, grad=0.0000)], [Var(v=0.1367, grad=0.0000)], [Var(v=-0.1473, grad=0.0000)], [Var(v=-0.2033, grad=0.0000)], [Var(v=-0.0302, grad=0.0000)], [Var(v=0.0344, grad=0.0000)], [Var(v=0.0871, grad=0.0000)], [Var(v=-0.0342, grad=0.0000)], [Var(v=0.1979, grad=0.0000)], [Var(v=-0.1357, grad=0.0000)], [Var(v=-0.0753, grad=0.0000)], [Var(v=0.0568, grad=0.0000)], [Var(v=0.0183, grad=0.0000)], [Var(v=-0.0524, grad=0.0000)], [Var(v=0.0496, grad=0.0000)], [Var(v=0.0254, grad=0.0000)], [Var(v=0.0289, grad=0.0000)], [Var(v=0.0390, grad=0.0000)], [Var(v=-0.0010, grad=0.0000)], [Var(v=0.0392, grad=0.0000)], [Var(v=0.0074, grad=0.0000)], [Var(v=0.1061, grad=0.0000)], [Var(v=0.3000, grad=0.0000)], [Var(v=0.0012, grad=0.0000)], [Var(v=-0.0087, grad=0.0000)], [Var(v=-0.0191, grad=0.0000)], [Var(v=0.1324, grad=0.0000)], [Var(v=-0.0406, grad=0.0000)], [Var(v=-0.0315, grad=0.0000)], [Var(v=0.1051, grad=0.0000)], [Var(v=-0.1490, grad=0.0000)], [Var(v=-0.2667, grad=0.0000)], [Var(v=-0.0153, grad=0.0000)], [Var(v=-0.0814, grad=0.0000)], [Var(v=-0.0868, grad=0.0000)], [Var(v=0.1332, grad=0.0000)], [Var(v=-0.0581, grad=0.0000)]] Biases: [Var(v=-0.0221, grad=0.0000)]\n"
     ]
    },
    {
     "data": {
      "text/plain": [
       "[None, None, None]"
      ]
     },
     "execution_count": 400,
     "metadata": {},
     "output_type": "execute_result"
    }
   ],
   "source": [
    "print('Network before update:')\n",
    "[print('Layer', i, '\\n', NN[i]) for i in range(len(NN))] \n",
    "\n",
    "def parameters(network):\n",
    "  params = []\n",
    "  for layer in range(len(network)):\n",
    "    params += network[layer].parameters()\n",
    "  return params\n",
    "\n",
    "def update_parameters(params, learning_rate=0.01):\n",
    "  for p in params:\n",
    "    p.v -= learning_rate*p.grad\n",
    "\n",
    "def zero_gradients(params):\n",
    "  for p in params:\n",
    "    p.grad = 0.0\n",
    "\n",
    "update_parameters(parameters(NN))\n",
    "\n",
    "print('\\nNetwork after update:')\n",
    "[print('Layer', i, '\\n', NN[i]) for i in range(len(NN))] \n",
    "\n",
    "zero_gradients(parameters(NN))\n",
    "\n",
    "print('\\nNetwork after zeroing gradients:')\n",
    "[print('Layer', i, '\\n', NN[i]) for i in range(len(NN))] "
   ]
  },
  {
   "cell_type": "code",
   "execution_count": 530,
   "metadata": {
    "id": "woWYpdw6FtIO"
   },
   "outputs": [],
   "source": [
    "\n",
    "\n",
    "\n",
    "# Initialize an arbitrary neural network\n",
    "NN = [\n",
    "    DenseLayer(1, 8, lambda x: x.tanh()),\n",
    "    DenseLayer(8, 8, lambda x: x.tanh()),\n",
    "    DenseLayer(8, 1, lambda x: x.identity())\n",
    "]\n",
    "\n",
    "# Recommended hyper-parameters for 3-D: \n",
    "#NN = [\n",
    "#    DenseLayer(3, 16, lambda x: x.relu()),\n",
    "#    DenseLayer(16, 1, lambda x: x.identity())\n",
    "#]\n",
    "\n",
    "\n",
    "### Notice that, when we switch from tanh to relu activation, we decrease the learning rate. This is due the stability of the gradients \n",
    "## of the activation functions."
   ]
  },
  {
   "cell_type": "code",
   "execution_count": 533,
   "metadata": {
    "id": "mdqaqYBVFtIR"
   },
   "outputs": [],
   "source": [
    "# Initialize training hyperparameters\n",
    "EPOCHS = 1000\n",
    "LEARN_R = 2e-3 "
   ]
  },
  {
   "cell_type": "code",
   "execution_count": 534,
   "metadata": {
    "colab": {
     "base_uri": "https://localhost:8080/"
    },
    "id": "5kfg76GMFtIW",
    "outputId": "e30cf68a-31f2-42b4-cc5e-860c297c0f04",
    "scrolled": true
   },
   "outputs": [
    {
     "name": "stdout",
     "output_type": "stream",
     "text": [
      "   0 ( 0.00%) Train loss: 0.724 \t Validation loss: 3.911\n",
      " 100 (10.00%) Train loss: 0.694 \t Validation loss: 3.932\n",
      " 200 (20.00%) Train loss: 0.730 \t Validation loss: 3.986\n",
      " 300 (30.00%) Train loss: 0.767 \t Validation loss: 4.036\n",
      " 400 (40.00%) Train loss: 0.800 \t Validation loss: 4.077\n",
      " 500 (50.00%) Train loss: 0.828 \t Validation loss: 4.109\n",
      " 600 (60.00%) Train loss: 0.853 \t Validation loss: 4.139\n",
      " 700 (70.00%) Train loss: 0.877 \t Validation loss: 4.179\n",
      " 800 (80.00%) Train loss: 0.903 \t Validation loss: 4.239\n",
      " 900 (90.00%) Train loss: 0.933 \t Validation loss: 4.335\n"
     ]
    }
   ],
   "source": [
    "train_loss = []\n",
    "val_loss = []\n",
    "\n",
    "for e in range(EPOCHS):\n",
    "     \n",
    "    # Forward pass and loss computation\n",
    "    Loss = squared_loss(y_train, forward(x_train, NN))\n",
    "\n",
    "    # Backward pass\n",
    "    Loss.backward()\n",
    "    \n",
    "    # gradient descent update\n",
    "    update_parameters(parameters(NN), LEARN_R)\n",
    "    zero_gradients(parameters(NN))\n",
    "    \n",
    "    # Training loss\n",
    "    train_loss.append(Loss.v)\n",
    "    \n",
    "    # Validation\n",
    "    Loss_validation = squared_loss(y_validation, forward(x_validation, NN))\n",
    "    val_loss.append(Loss_validation.v)\n",
    "    \n",
    "    if e%100==0:\n",
    "        print(\"{:4d}\".format(e),\n",
    "              \"({:5.2f}%)\".format(e/EPOCHS*100), \n",
    "              \"Train loss: {:4.3f} \\t Validation loss: {:4.3f}\".format(train_loss[-1], val_loss[-1]))\n",
    "        \n"
   ]
  },
  {
   "cell_type": "code",
   "execution_count": 535,
   "metadata": {
    "colab": {
     "base_uri": "https://localhost:8080/",
     "height": 265
    },
    "id": "VetyRWFwFtIY",
    "outputId": "344e490d-6d7d-455a-fa6f-88dd11eb957e"
   },
   "outputs": [
    {
     "data": {
      "image/png": "[encoded data removed]",
      "text/plain": [
       "<Figure size 432x288 with 1 Axes>"
      ]
     },
     "metadata": {
      "needs_background": "light"
     },
     "output_type": "display_data"
    }
   ],
   "source": [
    "plt.plot(range(len(train_loss)), train_loss);\n",
    "plt.plot(range(len(val_loss)), val_loss);"
   ]
  },
  {
   "cell_type": "markdown",
   "metadata": {
    "id": "8OgmIrM9FtIb"
   },
   "source": [
    "# Testing\n",
    "\n",
    "We have kept the calculation of the test error separate in order to emphasize that you should not use the test set in optimization."
   ]
  },
  {
   "cell_type": "code",
   "execution_count": 536,
   "metadata": {
    "id": "HmNi7S-vFtIc"
   },
   "outputs": [],
   "source": [
    "output_test = forward(x_test, NN)"
   ]
  },
  {
   "cell_type": "code",
   "execution_count": 537,
   "metadata": {
    "colab": {
     "base_uri": "https://localhost:8080/",
     "height": 316
    },
    "id": "7mmJOTSEFtIf",
    "outputId": "e3264095-cefe-4aee-893d-bf152438e332"
   },
   "outputs": [
    {
     "name": "stdout",
     "output_type": "stream",
     "text": [
      "Test loss:  3.652\n"
     ]
    },
    {
     "data": {
      "image/png": "[encoded data removed]",
      "text/plain": [
       "<Figure size 432x288 with 1 Axes>"
      ]
     },
     "metadata": {
      "needs_background": "light"
     },
     "output_type": "display_data"
    }
   ],
   "source": [
    "y_test_np = Var_to_nparray(y_test)\n",
    "plt.scatter(y_test_np, Var_to_nparray(output_test));\n",
    "plt.plot([np.min(y_test_np), np.max(y_test_np)], [np.min(y_test_np), np.max(y_test_np)], color='k');\n",
    "plt.xlabel(\"y\");\n",
    "plt.ylabel(\"$\\hat{y}$\");\n",
    "plt.title(\"Model prediction vs real in the test set, the close to the line the better\")\n",
    "plt.grid(True);\n",
    "plt.axis('equal');\n",
    "plt.tight_layout();\n",
    "\n",
    "Loss_test = squared_loss(y_test, forward(x_test, NN))\n",
    "\n",
    "print(\"Test loss:  {:4.3f}\".format(Loss_test.v))"
   ]
  },
  {
   "cell_type": "code",
   "execution_count": 538,
   "metadata": {
    "colab": {
     "base_uri": "https://localhost:8080/",
     "height": 279
    },
    "id": "ODi0WlmQFtIh",
    "outputId": "d1ab874f-0717-4987-87bf-1f0c7c8e7148"
   },
   "outputs": [
    {
     "data": {
      "image/png": "[encoded data removed]",
      "text/plain": [
       "<Figure size 432x288 with 1 Axes>"
      ]
     },
     "metadata": {
      "needs_background": "light"
     },
     "output_type": "display_data"
    }
   ],
   "source": [
    "x_test_np = Var_to_nparray(x_test)\n",
    "x_train_np = Var_to_nparray(x_train)\n",
    "y_train_np = Var_to_nparray(y_train)\n",
    "if D1:\n",
    "    plt.scatter(x_train_np, y_train_np, label=\"train data\");\n",
    "    plt.scatter(x_test_np, Var_to_nparray(output_test), label=\"test prediction\");\n",
    "    plt.scatter(x_test_np, y_test_np, label=\"test data\");\n",
    "    plt.legend();\n",
    "    plt.xlabel(\"x\");\n",
    "    plt.ylabel(\"y\");\n",
    "else:\n",
    "    plt.scatter(x_train_np[:,1], y_train, label=\"train data\");\n",
    "    plt.scatter(x_test_np[:,1], Var_to_nparray(output_test), label=\"test data prediction\");\n",
    "    plt.scatter(x_test_np[:,1], y_test_np, label=\"test data\");\n",
    "    plt.legend();\n",
    "    plt.xlabel(\"x\");\n",
    "    plt.ylabel(\"y\");"
   ]
  },
  {
   "cell_type": "markdown",
   "metadata": {
    "id": "zTBAmjsAFtIk"
   },
   "source": [
    "## Exercise k) Show overfitting, underfitting and just right fitting\n",
    "\n",
    "Vary the architecture and other things to show clear signs of overfitting (=training loss significantly lower than test loss) and underfitting (=not fitting enoung to training data so that test performance is also hurt).\n",
    "\n",
    "See also if you can get a good compromise which leads to a low validation loss. \n",
    "\n",
    "For this problem do you see any big difference between validation and test loss? The answer here will probably be no. Discuss cases where it is important to keep the two separate.\n",
    "\n",
    "_Insert written answer here._\n"
   ]
  },
  {
   "cell_type": "code",
   "execution_count": 578,
   "metadata": {
    "id": "tQZCn2dxFtIl"
   },
   "outputs": [
    {
     "name": "stdout",
     "output_type": "stream",
     "text": [
      "   0 ( 0.00%) Train loss: 106.829 \t Validation loss: 13.760\n",
      "  10 (10.00%) Train loss: 106.829 \t Validation loss: 13.760\n",
      "  20 (20.00%) Train loss: 106.829 \t Validation loss: 13.760\n",
      "  30 (30.00%) Train loss: 106.829 \t Validation loss: 13.760\n",
      "  40 (40.00%) Train loss: 106.829 \t Validation loss: 13.760\n",
      "  50 (50.00%) Train loss: 106.829 \t Validation loss: 13.760\n",
      "  60 (60.00%) Train loss: 106.829 \t Validation loss: 13.760\n",
      "  70 (70.00%) Train loss: 106.829 \t Validation loss: 13.760\n",
      "  80 (80.00%) Train loss: 106.829 \t Validation loss: 13.760\n",
      "  90 (90.00%) Train loss: 106.829 \t Validation loss: 13.760\n"
     ]
    },
    {
     "data": {
      "image/png": "[encoded data removed]",
      "text/plain": [
       "<Figure size 432x288 with 1 Axes>"
      ]
     },
     "metadata": {
      "needs_background": "light"
     },
     "output_type": "display_data"
    }
   ],
   "source": [
    "# Underfitting\n",
    "\n",
    "x_train, y_train,  x_validation, y_validation, x_test, y_test = data_generator(noise=0.5, n_samples=300, D1=D1)\n",
    "x_train = nparray_to_Var(x_train)\n",
    "y_train = nparray_to_Var(y_train)\n",
    "x_validation = nparray_to_Var(x_validation)\n",
    "y_validation = nparray_to_Var(y_validation)\n",
    "x_test = nparray_to_Var(x_test)\n",
    "y_test = nparray_to_Var(y_test)\n",
    "\n",
    "# Insert your code for getting overfitting, underfitting and just right fitting\n",
    "NN_underfitting = [\n",
    "    DenseLayer(1, 2, lambda x: x.identity()),\n",
    "    DenseLayer(2, 1, lambda x: x.identity())\n",
    "]\n",
    "\n",
    "# Initialize training hyperparameters\n",
    "EPOCHS = 100\n",
    "LEARN_R = 2e-4 \n",
    "\n",
    "train_loss = []\n",
    "val_loss = []\n",
    "\n",
    "for e in range(EPOCHS):\n",
    "     \n",
    "    # Forward pass and loss computation\n",
    "    Loss = squared_loss(y_train, forward(x_train, NN_underfitting))\n",
    "\n",
    "    # Backward pass\n",
    "    Loss.backward()\n",
    "    \n",
    "    # gradient descent update\n",
    "    update_parameters(parameters(NN), LEARN_R)\n",
    "    zero_gradients(parameters(NN))\n",
    "    \n",
    "    # Training loss\n",
    "    train_loss.append(Loss.v)\n",
    "    \n",
    "    # Validation\n",
    "    Loss_validation = squared_loss(y_validation, forward(x_validation, NN))\n",
    "    val_loss.append(Loss_validation.v)\n",
    "    \n",
    "    if e%10==0:\n",
    "        print(\"{:4d}\".format(e),\n",
    "              \"({:5.2f}%)\".format(e/EPOCHS*100), \n",
    "              \"Train loss: {:4.3f} \\t Validation loss: {:4.3f}\".format(train_loss[-1], val_loss[-1]))\n",
    "        \n",
    "plt.plot(range(len(train_loss)), train_loss);\n",
    "plt.plot(range(len(val_loss)), val_loss);"
   ]
  },
  {
   "cell_type": "code",
   "execution_count": 579,
   "metadata": {},
   "outputs": [
    {
     "name": "stdout",
     "output_type": "stream",
     "text": [
      "Test loss:  79.260\n"
     ]
    },
    {
     "data": {
      "image/png": "[encoded data removed]",
      "text/plain": [
       "<Figure size 432x288 with 1 Axes>"
      ]
     },
     "metadata": {
      "needs_background": "light"
     },
     "output_type": "display_data"
    }
   ],
   "source": [
    "output_test = forward(x_test, NN_underfitting)\n",
    "y_test_np = Var_to_nparray(y_test)\n",
    "plt.scatter(y_test_np, Var_to_nparray(output_test));\n",
    "plt.plot([np.min(y_test_np), np.max(y_test_np)], [np.min(y_test_np), np.max(y_test_np)], color='k');\n",
    "plt.xlabel(\"y\");\n",
    "plt.ylabel(\"$\\hat{y}$\");\n",
    "plt.title(\"Model prediction vs real in the test set, the close to the line the better\")\n",
    "plt.grid(True);\n",
    "plt.axis('equal');\n",
    "plt.tight_layout();\n",
    "\n",
    "Loss_test = squared_loss(y_test, forward(x_test, NN_underfitting))\n",
    "\n",
    "print(\"Test loss:  {:4.3f}\".format(Loss_test.v))\n",
    "x_test_np = Var_to_nparray(x_test)\n",
    "x_train_np = Var_to_nparray(x_train)\n",
    "y_train_np = Var_to_nparray(y_train)\n",
    "if D1:\n",
    "    plt.scatter(x_train_np, y_train_np, label=\"train data\");\n",
    "    plt.scatter(x_test_np, Var_to_nparray(output_test), label=\"test prediction\");\n",
    "    plt.scatter(x_test_np, y_test_np, label=\"test data\");\n",
    "    plt.legend();\n",
    "    plt.xlabel(\"x\");\n",
    "    plt.ylabel(\"y\");\n",
    "else:\n",
    "    plt.scatter(x_train_np[:,1], y_train, label=\"train data\");\n",
    "    plt.scatter(x_test_np[:,1], Var_to_nparray(output_test), label=\"test data prediction\");\n",
    "    plt.scatter(x_test_np[:,1], y_test_np, label=\"test data\");\n",
    "    plt.legend();\n",
    "    plt.xlabel(\"x\");\n",
    "    plt.ylabel(\"y\");"
   ]
  },
  {
   "cell_type": "code",
   "execution_count": 580,
   "metadata": {
    "id": "tQZCn2dxFtIl"
   },
   "outputs": [
    {
     "name": "stdout",
     "output_type": "stream",
     "text": [
      "   0 ( 0.00%) Train loss: 17.849 \t Validation loss: 15.378\n",
      " 100 (20.00%) Train loss: 2.181 \t Validation loss: 2.136\n",
      " 200 (40.00%) Train loss: 3.321 \t Validation loss: 3.318\n",
      " 300 (60.00%) Train loss: 3.651 \t Validation loss: 3.912\n"
     ]
    },
    {
     "ename": "KeyboardInterrupt",
     "evalue": "",
     "output_type": "error",
     "traceback": [
      "\u001b[0;31m---------------------------------------------------------------------------\u001b[0m",
      "\u001b[0;31mKeyboardInterrupt\u001b[0m                         Traceback (most recent call last)",
      "\u001b[0;32m<ipython-input-580-7570a35ed578>\u001b[0m in \u001b[0;36m<module>\u001b[0;34m\u001b[0m\n\u001b[1;32m     46\u001b[0m \u001b[0;34m\u001b[0m\u001b[0m\n\u001b[1;32m     47\u001b[0m     \u001b[0;31m# Validation\u001b[0m\u001b[0;34m\u001b[0m\u001b[0;34m\u001b[0m\u001b[0;34m\u001b[0m\u001b[0m\n\u001b[0;32m---> 48\u001b[0;31m     \u001b[0mLoss_validation\u001b[0m \u001b[0;34m=\u001b[0m \u001b[0msquared_loss\u001b[0m\u001b[0;34m(\u001b[0m\u001b[0my_validation\u001b[0m\u001b[0;34m,\u001b[0m \u001b[0mforward\u001b[0m\u001b[0;34m(\u001b[0m\u001b[0mx_validation\u001b[0m\u001b[0;34m,\u001b[0m \u001b[0mNN\u001b[0m\u001b[0;34m)\u001b[0m\u001b[0;34m)\u001b[0m\u001b[0;34m\u001b[0m\u001b[0;34m\u001b[0m\u001b[0m\n\u001b[0m\u001b[1;32m     49\u001b[0m     \u001b[0mval_loss\u001b[0m\u001b[0;34m.\u001b[0m\u001b[0mappend\u001b[0m\u001b[0;34m(\u001b[0m\u001b[0mLoss_validation\u001b[0m\u001b[0;34m.\u001b[0m\u001b[0mv\u001b[0m\u001b[0;34m)\u001b[0m\u001b[0;34m\u001b[0m\u001b[0;34m\u001b[0m\u001b[0m\n\u001b[1;32m     50\u001b[0m \u001b[0;34m\u001b[0m\u001b[0m\n",
      "\u001b[0;32m<ipython-input-480-7fd9f3af5346>\u001b[0m in \u001b[0;36mforward\u001b[0;34m(input, network)\u001b[0m\n\u001b[1;32m     11\u001b[0m     \u001b[0;32mreturn\u001b[0m \u001b[0mx\u001b[0m\u001b[0;34m\u001b[0m\u001b[0;34m\u001b[0m\u001b[0m\n\u001b[1;32m     12\u001b[0m \u001b[0;34m\u001b[0m\u001b[0m\n\u001b[0;32m---> 13\u001b[0;31m   \u001b[0moutput\u001b[0m \u001b[0;34m=\u001b[0m \u001b[0;34m[\u001b[0m \u001b[0mforward_single\u001b[0m\u001b[0;34m(\u001b[0m\u001b[0minput\u001b[0m\u001b[0;34m[\u001b[0m\u001b[0mn\u001b[0m\u001b[0;34m]\u001b[0m\u001b[0;34m,\u001b[0m \u001b[0mnetwork\u001b[0m\u001b[0;34m)\u001b[0m \u001b[0;32mfor\u001b[0m \u001b[0mn\u001b[0m \u001b[0;32min\u001b[0m \u001b[0mrange\u001b[0m\u001b[0;34m(\u001b[0m\u001b[0mlen\u001b[0m\u001b[0;34m(\u001b[0m\u001b[0minput\u001b[0m\u001b[0;34m)\u001b[0m\u001b[0;34m)\u001b[0m\u001b[0;34m]\u001b[0m\u001b[0;34m\u001b[0m\u001b[0;34m\u001b[0m\u001b[0m\n\u001b[0m\u001b[1;32m     14\u001b[0m   \u001b[0;32mreturn\u001b[0m \u001b[0moutput\u001b[0m\u001b[0;34m\u001b[0m\u001b[0;34m\u001b[0m\u001b[0m\n\u001b[1;32m     15\u001b[0m \u001b[0mprint\u001b[0m\u001b[0;34m(\u001b[0m\u001b[0mforward\u001b[0m\u001b[0;34m(\u001b[0m\u001b[0mx_train\u001b[0m\u001b[0;34m,\u001b[0m \u001b[0mNN\u001b[0m\u001b[0;34m)\u001b[0m\u001b[0;34m)\u001b[0m\u001b[0;34m\u001b[0m\u001b[0;34m\u001b[0m\u001b[0m\n",
      "\u001b[0;32m<ipython-input-480-7fd9f3af5346>\u001b[0m in \u001b[0;36m<listcomp>\u001b[0;34m(.0)\u001b[0m\n\u001b[1;32m     11\u001b[0m     \u001b[0;32mreturn\u001b[0m \u001b[0mx\u001b[0m\u001b[0;34m\u001b[0m\u001b[0;34m\u001b[0m\u001b[0m\n\u001b[1;32m     12\u001b[0m \u001b[0;34m\u001b[0m\u001b[0m\n\u001b[0;32m---> 13\u001b[0;31m   \u001b[0moutput\u001b[0m \u001b[0;34m=\u001b[0m \u001b[0;34m[\u001b[0m \u001b[0mforward_single\u001b[0m\u001b[0;34m(\u001b[0m\u001b[0minput\u001b[0m\u001b[0;34m[\u001b[0m\u001b[0mn\u001b[0m\u001b[0;34m]\u001b[0m\u001b[0;34m,\u001b[0m \u001b[0mnetwork\u001b[0m\u001b[0;34m)\u001b[0m \u001b[0;32mfor\u001b[0m \u001b[0mn\u001b[0m \u001b[0;32min\u001b[0m \u001b[0mrange\u001b[0m\u001b[0;34m(\u001b[0m\u001b[0mlen\u001b[0m\u001b[0;34m(\u001b[0m\u001b[0minput\u001b[0m\u001b[0;34m)\u001b[0m\u001b[0;34m)\u001b[0m\u001b[0;34m]\u001b[0m\u001b[0;34m\u001b[0m\u001b[0;34m\u001b[0m\u001b[0m\n\u001b[0m\u001b[1;32m     14\u001b[0m   \u001b[0;32mreturn\u001b[0m \u001b[0moutput\u001b[0m\u001b[0;34m\u001b[0m\u001b[0;34m\u001b[0m\u001b[0m\n\u001b[1;32m     15\u001b[0m \u001b[0mprint\u001b[0m\u001b[0;34m(\u001b[0m\u001b[0mforward\u001b[0m\u001b[0;34m(\u001b[0m\u001b[0mx_train\u001b[0m\u001b[0;34m,\u001b[0m \u001b[0mNN\u001b[0m\u001b[0;34m)\u001b[0m\u001b[0;34m)\u001b[0m\u001b[0;34m\u001b[0m\u001b[0;34m\u001b[0m\u001b[0m\n",
      "\u001b[0;32m<ipython-input-480-7fd9f3af5346>\u001b[0m in \u001b[0;36mforward_single\u001b[0;34m(x, network)\u001b[0m\n\u001b[1;32m      8\u001b[0m   \u001b[0;32mdef\u001b[0m \u001b[0mforward_single\u001b[0m\u001b[0;34m(\u001b[0m\u001b[0mx\u001b[0m\u001b[0;34m,\u001b[0m \u001b[0mnetwork\u001b[0m\u001b[0;34m)\u001b[0m\u001b[0;34m:\u001b[0m\u001b[0;34m\u001b[0m\u001b[0;34m\u001b[0m\u001b[0m\n\u001b[1;32m      9\u001b[0m     \u001b[0;32mfor\u001b[0m \u001b[0mlayer\u001b[0m \u001b[0;32min\u001b[0m \u001b[0mnetwork\u001b[0m\u001b[0;34m:\u001b[0m\u001b[0;34m\u001b[0m\u001b[0;34m\u001b[0m\u001b[0m\n\u001b[0;32m---> 10\u001b[0;31m         \u001b[0mx\u001b[0m \u001b[0;34m=\u001b[0m \u001b[0mlayer\u001b[0m\u001b[0;34m.\u001b[0m\u001b[0mforward\u001b[0m\u001b[0;34m(\u001b[0m\u001b[0mx\u001b[0m\u001b[0;34m)\u001b[0m\u001b[0;34m\u001b[0m\u001b[0;34m\u001b[0m\u001b[0m\n\u001b[0m\u001b[1;32m     11\u001b[0m     \u001b[0;32mreturn\u001b[0m \u001b[0mx\u001b[0m\u001b[0;34m\u001b[0m\u001b[0;34m\u001b[0m\u001b[0m\n\u001b[1;32m     12\u001b[0m \u001b[0;34m\u001b[0m\u001b[0m\n",
      "\u001b[0;32m<ipython-input-484-b98b85ed53cd>\u001b[0m in \u001b[0;36mforward\u001b[0;34m(self, single_input)\u001b[0m\n\u001b[1;32m     65\u001b[0m             \u001b[0;32mfor\u001b[0m \u001b[0mi\u001b[0m \u001b[0;32min\u001b[0m \u001b[0mrange\u001b[0m\u001b[0;34m(\u001b[0m\u001b[0mlen\u001b[0m\u001b[0;34m(\u001b[0m\u001b[0msingle_input\u001b[0m\u001b[0;34m)\u001b[0m\u001b[0;34m)\u001b[0m\u001b[0;34m:\u001b[0m\u001b[0;34m\u001b[0m\u001b[0;34m\u001b[0m\u001b[0m\n\u001b[1;32m     66\u001b[0m                 \u001b[0mnode\u001b[0m \u001b[0;34m+=\u001b[0m \u001b[0mVar\u001b[0m\u001b[0;34m(\u001b[0m\u001b[0;36m0.0\u001b[0m\u001b[0;34m)\u001b[0m  \u001b[0;31m# <- Insert code\u001b[0m\u001b[0;34m\u001b[0m\u001b[0;34m\u001b[0m\u001b[0m\n\u001b[0;32m---> 67\u001b[0;31m                 \u001b[0mnode\u001b[0m \u001b[0;34m+=\u001b[0m \u001b[0msingle_input\u001b[0m\u001b[0;34m[\u001b[0m\u001b[0mi\u001b[0m\u001b[0;34m]\u001b[0m \u001b[0;34m*\u001b[0m \u001b[0mweights\u001b[0m\u001b[0;34m[\u001b[0m\u001b[0mi\u001b[0m\u001b[0;34m]\u001b[0m\u001b[0;34m[\u001b[0m\u001b[0mj\u001b[0m\u001b[0;34m]\u001b[0m\u001b[0;34m\u001b[0m\u001b[0;34m\u001b[0m\u001b[0m\n\u001b[0m\u001b[1;32m     68\u001b[0m             \u001b[0mnode\u001b[0m \u001b[0;34m=\u001b[0m \u001b[0mself\u001b[0m\u001b[0;34m.\u001b[0m\u001b[0mact_fn\u001b[0m\u001b[0;34m(\u001b[0m\u001b[0mnode\u001b[0m \u001b[0;34m+\u001b[0m \u001b[0mself\u001b[0m\u001b[0;34m.\u001b[0m\u001b[0mbias\u001b[0m\u001b[0;34m[\u001b[0m\u001b[0mj\u001b[0m\u001b[0;34m]\u001b[0m\u001b[0;34m)\u001b[0m\u001b[0;34m\u001b[0m\u001b[0;34m\u001b[0m\u001b[0m\n\u001b[1;32m     69\u001b[0m             \u001b[0mout\u001b[0m\u001b[0;34m.\u001b[0m\u001b[0mappend\u001b[0m\u001b[0;34m(\u001b[0m\u001b[0mnode\u001b[0m\u001b[0;34m)\u001b[0m\u001b[0;34m\u001b[0m\u001b[0;34m\u001b[0m\u001b[0m\n",
      "\u001b[0;32m<ipython-input-521-82cc45af72e2>\u001b[0m in \u001b[0;36m__add__\u001b[0;34m(self, other)\u001b[0m\n\u001b[1;32m     23\u001b[0m \u001b[0;34m\u001b[0m\u001b[0m\n\u001b[1;32m     24\u001b[0m     \u001b[0;32mdef\u001b[0m \u001b[0m__add__\u001b[0m\u001b[0;34m(\u001b[0m\u001b[0mself\u001b[0m\u001b[0;34m:\u001b[0m \u001b[0;34m'Var'\u001b[0m\u001b[0;34m,\u001b[0m \u001b[0mother\u001b[0m\u001b[0;34m:\u001b[0m \u001b[0;34m'Var'\u001b[0m\u001b[0;34m)\u001b[0m \u001b[0;34m->\u001b[0m \u001b[0;34m'Var'\u001b[0m\u001b[0;34m:\u001b[0m\u001b[0;34m\u001b[0m\u001b[0;34m\u001b[0m\u001b[0m\n\u001b[0;32m---> 25\u001b[0;31m         \u001b[0;32mreturn\u001b[0m \u001b[0mVar\u001b[0m\u001b[0;34m(\u001b[0m\u001b[0mself\u001b[0m\u001b[0;34m.\u001b[0m\u001b[0mv\u001b[0m \u001b[0;34m+\u001b[0m \u001b[0mother\u001b[0m\u001b[0;34m.\u001b[0m\u001b[0mv\u001b[0m\u001b[0;34m,\u001b[0m \u001b[0;32mlambda\u001b[0m\u001b[0;34m:\u001b[0m \u001b[0;34m[\u001b[0m\u001b[0;34m(\u001b[0m\u001b[0mself\u001b[0m\u001b[0;34m,\u001b[0m \u001b[0;36m1.0\u001b[0m\u001b[0;34m)\u001b[0m\u001b[0;34m,\u001b[0m \u001b[0;34m(\u001b[0m\u001b[0mother\u001b[0m\u001b[0;34m,\u001b[0m \u001b[0;36m1.0\u001b[0m\u001b[0;34m)\u001b[0m\u001b[0;34m]\u001b[0m\u001b[0;34m)\u001b[0m\u001b[0;34m\u001b[0m\u001b[0;34m\u001b[0m\u001b[0m\n\u001b[0m\u001b[1;32m     26\u001b[0m \u001b[0;34m\u001b[0m\u001b[0m\n\u001b[1;32m     27\u001b[0m     \u001b[0;32mdef\u001b[0m \u001b[0m__mul__\u001b[0m\u001b[0;34m(\u001b[0m\u001b[0mself\u001b[0m\u001b[0;34m:\u001b[0m \u001b[0;34m'Var'\u001b[0m\u001b[0;34m,\u001b[0m \u001b[0mother\u001b[0m\u001b[0;34m:\u001b[0m \u001b[0;34m'Var'\u001b[0m\u001b[0;34m)\u001b[0m \u001b[0;34m->\u001b[0m \u001b[0;34m'Var'\u001b[0m\u001b[0;34m:\u001b[0m\u001b[0;34m\u001b[0m\u001b[0;34m\u001b[0m\u001b[0m\n",
      "\u001b[0;32m<ipython-input-521-82cc45af72e2>\u001b[0m in \u001b[0;36m__init__\u001b[0;34m(self, val, grad_fn)\u001b[0m\n\u001b[1;32m     10\u001b[0m     \u001b[0;32mdef\u001b[0m \u001b[0m__init__\u001b[0m\u001b[0;34m(\u001b[0m\u001b[0mself\u001b[0m\u001b[0;34m,\u001b[0m \u001b[0mval\u001b[0m\u001b[0;34m:\u001b[0m \u001b[0mfloat\u001b[0m\u001b[0;34m,\u001b[0m \u001b[0mgrad_fn\u001b[0m\u001b[0;34m=\u001b[0m\u001b[0;32mlambda\u001b[0m\u001b[0;34m:\u001b[0m \u001b[0;34m[\u001b[0m\u001b[0;34m]\u001b[0m\u001b[0;34m)\u001b[0m\u001b[0;34m:\u001b[0m\u001b[0;34m\u001b[0m\u001b[0;34m\u001b[0m\u001b[0m\n\u001b[1;32m     11\u001b[0m         \u001b[0;32massert\u001b[0m \u001b[0mtype\u001b[0m\u001b[0;34m(\u001b[0m\u001b[0mval\u001b[0m\u001b[0;34m)\u001b[0m \u001b[0;34m==\u001b[0m \u001b[0mfloat\u001b[0m\u001b[0;34m\u001b[0m\u001b[0;34m\u001b[0m\u001b[0m\n\u001b[0;32m---> 12\u001b[0;31m         \u001b[0mself\u001b[0m\u001b[0;34m.\u001b[0m\u001b[0mv\u001b[0m \u001b[0;34m=\u001b[0m \u001b[0mval\u001b[0m\u001b[0;34m\u001b[0m\u001b[0;34m\u001b[0m\u001b[0m\n\u001b[0m\u001b[1;32m     13\u001b[0m         \u001b[0mself\u001b[0m\u001b[0;34m.\u001b[0m\u001b[0mgrad_fn\u001b[0m \u001b[0;34m=\u001b[0m \u001b[0mgrad_fn\u001b[0m\u001b[0;34m\u001b[0m\u001b[0;34m\u001b[0m\u001b[0m\n\u001b[1;32m     14\u001b[0m         \u001b[0mself\u001b[0m\u001b[0;34m.\u001b[0m\u001b[0mgrad\u001b[0m \u001b[0;34m=\u001b[0m \u001b[0;36m0.0\u001b[0m\u001b[0;34m\u001b[0m\u001b[0;34m\u001b[0m\u001b[0m\n",
      "\u001b[0;31mKeyboardInterrupt\u001b[0m: "
     ]
    }
   ],
   "source": [
    "# overfitting\n",
    "x_train, y_train,  x_validation, y_validation, x_test, y_test = data_generator(noise=0.01, n_samples=50, D1=D1)\n",
    "x_train = nparray_to_Var(x_train)\n",
    "y_train = nparray_to_Var(y_train)\n",
    "x_validation = nparray_to_Var(x_validation)\n",
    "y_validation = nparray_to_Var(y_validation)\n",
    "x_test = nparray_to_Var(x_test)\n",
    "y_test = nparray_to_Var(y_test)\n",
    "\n",
    "# Insert your code for getting overfitting, underfitting and just right fitting\n",
    "# overfitting\n",
    "NN = [\n",
    "    DenseLayer(1, 18, lambda x: x.relu()),\n",
    "    DenseLayer(18, 18, lambda x: x.relu()),\n",
    "    DenseLayer(18, 18, lambda x: x.relu()),\n",
    "    DenseLayer(18, 1, lambda x: x.identity())\n",
    "]\n",
    "\n",
    "NN = [\n",
    "    DenseLayer_Glorot_tanh(1, 10),\n",
    "    DenseLayer_Glorot_tanh(10, 20),\n",
    "    DenseLayer_Glorot_tanh(20, 10),\n",
    "    DenseLayer(10, 1, lambda x: x.identity())\n",
    "]\n",
    "# Initialize training hyperparameters\n",
    "EPOCHS = 500\n",
    "LEARN_R = 2e-4 \n",
    "\n",
    "train_loss = []\n",
    "val_loss = []\n",
    "\n",
    "for e in range(EPOCHS):\n",
    "     \n",
    "    # Forward pass and loss computation\n",
    "    Loss = squared_loss(y_train, forward(x_train, NN))\n",
    "\n",
    "    # Backward pass\n",
    "    Loss.backward()\n",
    "    \n",
    "    # gradient descent update\n",
    "    update_parameters(parameters(NN), LEARN_R)\n",
    "    zero_gradients(parameters(NN))\n",
    "    \n",
    "    # Training loss\n",
    "    train_loss.append(Loss.v)\n",
    "    \n",
    "    # Validation\n",
    "    Loss_validation = squared_loss(y_validation, forward(x_validation, NN))\n",
    "    val_loss.append(Loss_validation.v)\n",
    "    \n",
    "    if e%100==0:\n",
    "        print(\"{:4d}\".format(e),\n",
    "              \"({:5.2f}%)\".format(e/EPOCHS*100), \n",
    "              \"Train loss: {:4.3f} \\t Validation loss: {:4.3f}\".format(train_loss[-1], val_loss[-1]))\n",
    "        \n",
    "plt.plot(range(len(train_loss)), train_loss);\n",
    "plt.plot(range(len(val_loss)), val_loss);"
   ]
  },
  {
   "cell_type": "code",
   "execution_count": 557,
   "metadata": {
    "id": "HmNi7S-vFtIc"
   },
   "outputs": [],
   "source": [
    "output_test = forward(x_test, NN)"
   ]
  },
  {
   "cell_type": "code",
   "execution_count": 558,
   "metadata": {
    "colab": {
     "base_uri": "https://localhost:8080/",
     "height": 316
    },
    "id": "7mmJOTSEFtIf",
    "outputId": "e3264095-cefe-4aee-893d-bf152438e332"
   },
   "outputs": [
    {
     "name": "stdout",
     "output_type": "stream",
     "text": [
      "Test loss:  0.457\n"
     ]
    },
    {
     "data": {
      "image/png": "[encoded data removed]",
      "text/plain": [
       "<Figure size 432x288 with 1 Axes>"
      ]
     },
     "metadata": {
      "needs_background": "light"
     },
     "output_type": "display_data"
    }
   ],
   "source": [
    "y_test_np = Var_to_nparray(y_test)\n",
    "plt.scatter(y_test_np, Var_to_nparray(output_test));\n",
    "plt.plot([np.min(y_test_np), np.max(y_test_np)], [np.min(y_test_np), np.max(y_test_np)], color='k');\n",
    "plt.xlabel(\"y\");\n",
    "plt.ylabel(\"$\\hat{y}$\");\n",
    "plt.title(\"Model prediction vs real in the test set, the close to the line the better\")\n",
    "plt.grid(True);\n",
    "plt.axis('equal');\n",
    "plt.tight_layout();\n",
    "\n",
    "Loss_test = squared_loss(y_test, forward(x_test, NN))\n",
    "\n",
    "print(\"Test loss:  {:4.3f}\".format(Loss_test.v))"
   ]
  },
  {
   "cell_type": "code",
   "execution_count": 559,
   "metadata": {
    "colab": {
     "base_uri": "https://localhost:8080/",
     "height": 279
    },
    "id": "ODi0WlmQFtIh",
    "outputId": "d1ab874f-0717-4987-87bf-1f0c7c8e7148"
   },
   "outputs": [
    {
     "data": {
      "image/png": "[encoded data removed]",
      "text/plain": [
       "<Figure size 432x288 with 1 Axes>"
      ]
     },
     "metadata": {
      "needs_background": "light"
     },
     "output_type": "display_data"
    }
   ],
   "source": [
    "x_test_np = Var_to_nparray(x_test)\n",
    "x_train_np = Var_to_nparray(x_train)\n",
    "y_train_np = Var_to_nparray(y_train)\n",
    "if D1:\n",
    "    plt.scatter(x_train_np, y_train_np, label=\"train data\");\n",
    "    plt.scatter(x_test_np, Var_to_nparray(output_test), label=\"test prediction\");\n",
    "    plt.scatter(x_test_np, y_test_np, label=\"test data\");\n",
    "    plt.legend();\n",
    "    plt.xlabel(\"x\");\n",
    "    plt.ylabel(\"y\");\n",
    "else:\n",
    "    plt.scatter(x_train_np[:,1], y_train, label=\"train data\");\n",
    "    plt.scatter(x_test_np[:,1], Var_to_nparray(output_test), label=\"test data prediction\");\n",
    "    plt.scatter(x_test_np[:,1], y_test_np, label=\"test data\");\n",
    "    plt.legend();\n",
    "    plt.xlabel(\"x\");\n",
    "    plt.ylabel(\"y\");"
   ]
  },
  {
   "cell_type": "markdown",
   "metadata": {
    "id": "fYPZP-eTFtIo"
   },
   "source": [
    "# Next steps - classification\n",
    "\n",
    "It is straight forward to extend what we have done to classification. \n",
    "\n",
    "For numerical stability it is better to make softmax and cross-entropy as one function so we write the cross entropy loss as a function of the logits we talked about last week. \n",
    "\n",
    "Next week we will see how to perform classification in PyTorch."
   ]
  },
  {
   "cell_type": "markdown",
   "metadata": {
    "id": "qsVPul3QFtIo"
   },
   "source": [
    "## Exercise l) optional - Implement backpropagation for classification\n",
    "\n",
    "Should be possible with very few lines of code. :-)"
   ]
  },
  {
   "cell_type": "code",
   "execution_count": null,
   "metadata": {
    "id": "oC8QrI2tFtIp"
   },
   "outputs": [],
   "source": [
    "# Just add code."
   ]
  },
  {
   "cell_type": "markdown",
   "metadata": {
    "id": "APqhJv3tta1O"
   },
   "source": [
    "## Exercise m) optional - Introduce a NeuralNetwork class\n",
    "\n",
    "The functions we applied on the neural network (parameters, update_parameters and zero_gradients) can more naturally be included as methods in a NeuralNetwork class. Make such a class and modify the code to use it. "
   ]
  },
  {
   "cell_type": "code",
   "execution_count": null,
   "metadata": {
    "id": "Dqfnor1ouMLq"
   },
   "outputs": [],
   "source": [
    "# just add some code"
   ]
  }
 ],
 "metadata": {
  "anaconda-cloud": {},
  "colab": {
   "collapsed_sections": [
    "U4057_ljNvWB",
    "p_8n_SKnIW2F",
    "oLrGJytZFtGm",
    "jpIZPBpNI0pO",
    "_79HOAXrFtHK",
    "mqeyab9qFtGs",
    "-XyXBD37FtHk",
    "SrwSJ2UWFtHu",
    "zTBAmjsAFtIk",
    "qsVPul3QFtIo",
    "APqhJv3tta1O"
   ],
   "name": "2.1-EXE-FNN-AutoDif-Nanograd.ipynb",
   "provenance": []
  },
  "kernelspec": {
   "display_name": "Python 3",
   "language": "python",
   "name": "python3"
  },
  "language_info": {
   "codemirror_mode": {
    "name": "ipython",
    "version": 3
   },
   "file_extension": ".py",
   "mimetype": "text/x-python",
   "name": "python",
   "nbconvert_exporter": "python",
   "pygments_lexer": "ipython3",
   "version": "3.6.13"
  }
 },
 "nbformat": 4,
 "nbformat_minor": 1
}
