{
  "cells": [
    {
      "cell_type": "markdown",
      "metadata": {
        "id": "HAva8TnYFtFu"
      },
      "source": [
        "# Contents and why we need this lab\n",
        "\n",
        "This lab is about implementing neural networks yourself before we start using other frameworks which hide some of the computation from you. It builds on the first lab where you derived the equations for neural network forward and backward propagation and gradient descent parameter updates. \n",
        "\n",
        "All the frameworks for deep learning you will meet from now on uses automatic differentiation (autodiff) so you don't have to code the backward step yourself. In this version of this lab you will develop your own autodif implementation. We also have a [version](https://github.com/DeepLearningDTU/02456-deep-learning-with-PyTorch/blob/master/2_Feedforward_NumPy/2.1-FNN-NumPy.ipynb) of this lab where you have to code the backward pass explicitly in Numpy."
      ]
    },
    {
      "cell_type": "markdown",
      "metadata": {
        "id": "sCa7HzwpFtFy"
      },
      "source": [
        "# External sources of information\n",
        "\n",
        "1. Jupyter notebook. You can find more information about Jupyter notebooks [here](https://jupyter.org/). It will come as part of the [Anaconda](https://www.anaconda.com/) Python installation. \n",
        "2. [NumPy](https://numpy.org/). Part of Anaconda distribution. If you already know how to program most things about Python and NumPy can be found through Google search.\n",
        "3. [Nanograd](https://github.com/rasmusbergpalm/nanograd) is a minimalistic version of autodiff developed by Rasmus Berg Palm that we use for our framework.\n"
      ]
    },
    {
      "cell_type": "markdown",
      "metadata": {
        "id": "1SjiIp-TFtF0"
      },
      "source": [
        "# This notebook will follow the next steps:\n",
        "\n",
        "1. Nanograd automatic differentiation framework\n",
        "2. Finite difference method\n",
        "3. Data generation\n",
        "4. Defining and initializing the network\n",
        "5. Forward pass\n",
        "6. Training loop \n",
        "7. Testing your model\n",
        "8. Further extensions"
      ]
    },
    {
      "cell_type": "markdown",
      "metadata": {
        "id": "OyXeAA-HuT7s"
      },
      "source": [
        "# Nanograd automatic differention framework"
      ]
    },
    {
      "cell_type": "markdown",
      "metadata": {
        "id": "k6UWKCLKubgA"
      },
      "source": [
        "The [Nanograd](https://github.com/rasmusbergpalm/nanograd) framework defines a class Var which both holds a value and gradient value that we can use to store the intermediate values when we apply the chain rule of differentiation."
      ]
    },
    {
      "cell_type": "code",
      "execution_count": 66,
      "metadata": {
        "id": "Jd4CoEBNzNWS"
      },
      "outputs": [],
      "source": [
        "# Copy and pasted from https://github.com/rasmusbergpalm/nanograd/blob/main/nanograd.py\n",
        "\n",
        "from math import exp, log\n",
        "\n",
        "class Var:\n",
        "    \"\"\"\n",
        "    A variable which holds a float and enables gradient computations.\n",
        "    \"\"\"\n",
        "\n",
        "    def __init__(self, val: float, grad_fn=lambda: []):\n",
        "        assert type(val) == float\n",
        "        self.v = val\n",
        "        self.grad_fn = grad_fn\n",
        "        self.grad = 0.0\n",
        "\n",
        "    def backprop(self, bp):\n",
        "        self.grad += bp\n",
        "        for input, grad in self.grad_fn():\n",
        "            input.backprop(grad * bp)\n",
        "\n",
        "    def backward(self):\n",
        "        self.backprop(1.0)\n",
        "\n",
        "    def __add__(self: 'Var', other: 'Var') -> 'Var':\n",
        "        return Var(self.v + other.v, lambda: [(self, 1.0), (other, 1.0)])\n",
        "\n",
        "    def __mul__(self: 'Var', other: 'Var') -> 'Var':\n",
        "        return Var(self.v * other.v, lambda: [(self, other.v), (other, self.v)])\n",
        "\n",
        "    def __pow__(self, power):\n",
        "        assert type(power) in {float, int}, \"power must be float or int\"\n",
        "        return Var(self.v ** power, lambda: [(self, power * self.v ** (power - 1))])\n",
        "\n",
        "    def __neg__(self: 'Var') -> 'Var':\n",
        "        return Var(-1.0) * self\n",
        "\n",
        "    def __sub__(self: 'Var', other: 'Var') -> 'Var':\n",
        "        return self + (-other)\n",
        "\n",
        "    def __truediv__(self: 'Var', other: 'Var') -> 'Var':\n",
        "        return self * other ** -1\n",
        "\n",
        "    def __repr__(self):\n",
        "        return \"Var(v=%.4f, grad=%.4f)\" % (self.v, self.grad)\n",
        "\n",
        "    def relu(self):\n",
        "        return Var(self.v if self.v > 0.0 else 0.0, lambda: [(self, 1.0 if self.v > 0.0 else 0.0)])\n",
        "    \n",
        "    def sigmoid(self):\n",
        "        return Var(1/(1+exp(-self.v)), lambda: [(self, exp(self.v)/((exp(self.v)+1)**2))])\n",
        "\n",
        "    def tanh(self):\n",
        "        return Var((exp(2*self.v)-1)/(exp(2*self.v)+1), lambda: [(self, 4/((exp(-self.v)+exp(self.v))**2))])\n",
        "\n",
        "    def identity(self):\n",
        "        return Var(self.v, lambda: [(self, 1.0)])\n",
        "    \n",
        "    def exp(self):\n",
        "        return Var(exp(self.v), lambda: [(self, exp(self.v))])\n",
        "\n",
        "    def log(self):\n",
        "        return Var(log(self.v), lambda: [(self, self.v ** -1)])\n"
      ]
    },
    {
      "cell_type": "markdown",
      "metadata": {
        "id": "yDX67D6jzcte"
      },
      "source": [
        "A few examples illustrate how we can use this:"
      ]
    },
    {
      "cell_type": "code",
      "execution_count": 67,
      "metadata": {
        "colab": {
          "base_uri": "https://localhost:8080/"
        },
        "id": "xk6PeLc3zwPT",
        "outputId": "c8d641db-ffe7-4678-bb39-aacef46c0fef"
      },
      "outputs": [
        {
          "output_type": "stream",
          "name": "stdout",
          "text": [
            "Var(v=3.0000, grad=5.0000)\n",
            "Var(v=5.0000, grad=3.0000)\n",
            "Var(v=15.0000, grad=1.0000)\n"
          ]
        }
      ],
      "source": [
        "a = Var(3.0)\n",
        "b = Var(5.0)\n",
        "f = a * b\n",
        "\n",
        "f.backward()\n",
        "\n",
        "for v in [a, b, f]:\n",
        "    print(v)"
      ]
    },
    {
      "cell_type": "code",
      "execution_count": 68,
      "metadata": {
        "colab": {
          "base_uri": "https://localhost:8080/"
        },
        "id": "JmKhYgsY0g_o",
        "outputId": "d1a8af18-364b-4469-8ecf-382b0062c726"
      },
      "outputs": [
        {
          "output_type": "stream",
          "name": "stdout",
          "text": [
            "Var(v=3.0000, grad=14.0000)\n",
            "Var(v=5.0000, grad=3.0000)\n",
            "Var(v=15.0000, grad=1.0000)\n",
            "Var(v=9.0000, grad=3.0000)\n",
            "Var(v=27.0000, grad=1.0000)\n",
            "Var(v=42.0000, grad=1.0000)\n"
          ]
        }
      ],
      "source": [
        "a = Var(3.0)\n",
        "b = Var(5.0)\n",
        "c = a * b\n",
        "d = Var(9.0)\n",
        "e = a * d\n",
        "f = c + e\n",
        "\n",
        "f.backward()\n",
        "\n",
        "for v in [a, b, c, d, e, f]:\n",
        "    print(v)"
      ]
    },
    {
      "cell_type": "markdown",
      "metadata": {
        "id": "Fe3B6uEH140p"
      },
      "source": [
        "## Exercise a) What is being calculated?\n",
        "\n",
        "Explain briefly the output of the code? What is the expression we differentiate and with respect to what variables?"
      ]
    },
    {
      "cell_type": "markdown",
      "source": [
        "**Answer (a)**\n",
        "\n",
        "The result Var($v$,grad) tells you the value $v$ of that defined object, and grad tells you how much the factor in which the value has changed. For example for $a$ in cell [5], $v=3.0$, and grad$=14$, as $14*a.v=42$, as $f=a*d+a*b$, therefore $a=d+b$. That is $∂f/∂a=d+b=14$. So $a$, $b$ and $d$ are the independent variables in this case, and $c$, $e$, and $f$ the dependent ones. \n",
        "\n",
        "And for completeness sake: $∂f/∂b=∂f/∂d=a=3$."
      ],
      "metadata": {
        "id": "rfg1rpHGAATh"
      }
    },
    {
      "cell_type": "markdown",
      "metadata": {
        "id": "q8_Q0t2I3Ruj"
      },
      "source": [
        "## Exercise b) How does the backward function work?\n",
        "\n",
        "You need to understand how the backward function calculates the gradients. We can use the two examples above to help with that.\n",
        "\n",
        "Go through the following four steps and answer the questions on the way:\n",
        "\n",
        "1. We represent the two expressions as graphs as shown below. Fill in the missing expressions for the different derivatives.\n",
        "\n",
        "2. In the remainder consider the first expression. Make a schematic of the data structure which is generated when we define the expression for f. \n",
        "\n",
        "3. Then execute the backward function by hand to convince yourself that it indeed calculates the gradients with respect to the variables. \n",
        "\n",
        "4. Write down the sequence of calls to backprop."
      ]
    },
    {
      "cell_type": "markdown",
      "source": [
        "**Answer (b)**\n",
        "\n",
        "The answer provided for exercise (a), assuming it is correct, pretty much describes what happens, and the procedure behind the code, so I refer to there and to the graphviz diagrams of the data schematics for section (b1), (b2), and (b3).\n",
        "\n",
        "**(b4)** The sequence of calls to backprop is:\n",
        "\n",
        "1. f.backward() is called\n",
        "\n",
        "2. f.grad is set to $∂f/∂f=1$\n",
        "\n",
        "3. Since $f$ is defined as $c+e$, which is stored in f.grad_fn, the backprop moves on to these objects. $c$ is here calculated/shown first in step (4), but $c$ and $e$ could be interchanged, meaning the following steps (4) and (5) could be interchanged regardless.\n",
        "\n",
        "4. c.grad is set to 1, since $∂f/∂c=1$. $c$ is defined as $c=a*b$, and backprop then moves onto these objects.\n",
        "\n",
        "  4.1 Starting with $a$, since $∂c/∂a=b=5$, a.grad is set to 5.\n",
        "\n",
        "  4.2 Now $b$, since $∂c/∂b=a=3$, b.grad is set to 3.\n",
        "\n",
        "5. e.grad is set to 1, since $∂f/∂e=1$. $e$ is defined as $e=a*d$, and, same as (4), backprop then moves onto these objects.\n",
        "\n",
        "  5.1 Since $∂e/∂a=d=9$, a.grad would be set to 9, but since a.grad is already set to 5, it therefore becomes a.grad$=d+b=9+5=14$\n",
        "\n",
        "  5.2 $∂e/∂d=a=3$, so d.grad is set to 3.\n",
        "\n",
        "Which concludes the f.backprop()\n"
      ],
      "metadata": {
        "id": "iWfEpItIFZqr"
      }
    },
    {
      "cell_type": "code",
      "execution_count": 69,
      "metadata": {
        "id": "idGr71jYXl26"
      },
      "outputs": [],
      "source": [
        "# import logging\n",
        "import graphviz\n",
        "\n",
        "#logging.basicConfig(format='[%(levelname)s@%(name)s] %(message)s', level=logging.DEBUG)\n",
        "\n",
        "#graphviz.__version__, graphviz.version()"
      ]
    },
    {
      "cell_type": "code",
      "execution_count": 70,
      "metadata": {
        "colab": {
          "base_uri": "https://localhost:8080/",
          "height": 152
        },
        "id": "KPe30Q2QXzeG",
        "outputId": "7e2617ef-374c-420c-c18a-69f2e5423015"
      },
      "outputs": [
        {
          "output_type": "execute_result",
          "data": {
            "text/plain": [
              "<graphviz.dot.Digraph at 0x7f487a8ebd10>"
            ],
            "image/svg+xml": "<?xml version=\"1.0\" encoding=\"UTF-8\" standalone=\"no\"?>\n<!DOCTYPE svg PUBLIC \"-//W3C//DTD SVG 1.1//EN\"\n \"http://www.w3.org/Graphics/SVG/1.1/DTD/svg11.dtd\">\n<!-- Generated by graphviz version 2.40.1 (20161225.0304)\n -->\n<!-- Title: first expression Pages: 1 -->\n<svg width=\"206pt\" height=\"98pt\"\n viewBox=\"0.00 0.00 205.99 98.00\" xmlns=\"http://www.w3.org/2000/svg\" xmlns:xlink=\"http://www.w3.org/1999/xlink\">\n<g id=\"graph0\" class=\"graph\" transform=\"scale(1 1) rotate(0) translate(4 94)\">\n<title>first expression</title>\n<polygon fill=\"#ffffff\" stroke=\"transparent\" points=\"-4,4 -4,-94 201.9942,-94 201.9942,4 -4,4\"/>\n<!-- a -->\n<g id=\"node1\" class=\"node\">\n<title>a</title>\n<ellipse fill=\"none\" stroke=\"#000000\" cx=\"18\" cy=\"-72\" rx=\"18\" ry=\"18\"/>\n<text text-anchor=\"middle\" x=\"18\" y=\"-68.3\" font-family=\"Times,serif\" font-size=\"14.00\" fill=\"#000000\">a</text>\n</g>\n<!-- f=a*b -->\n<g id=\"node2\" class=\"node\">\n<title>f=a*b</title>\n<ellipse fill=\"none\" stroke=\"#000000\" cx=\"165.4971\" cy=\"-45\" rx=\"32.4942\" ry=\"32.4942\"/>\n<text text-anchor=\"middle\" x=\"165.4971\" y=\"-41.3\" font-family=\"Times,serif\" font-size=\"14.00\" fill=\"#000000\">f=a*b</text>\n</g>\n<!-- a&#45;&gt;f=a*b -->\n<g id=\"edge1\" class=\"edge\">\n<title>a&#45;&gt;f=a*b</title>\n<path fill=\"none\" stroke=\"#000000\" d=\"M35.7916,-68.7432C57.3815,-64.791 94.4929,-57.9976 123.5023,-52.6873\"/>\n<polygon fill=\"#000000\" stroke=\"#000000\" points=\"124.1803,-56.1215 133.3866,-50.878 122.9198,-49.2359 124.1803,-56.1215\"/>\n<text text-anchor=\"middle\" x=\"84.5\" y=\"-67.8\" font-family=\"Times,serif\" font-size=\"14.00\" fill=\"#000000\">df/da=b=5</text>\n</g>\n<!-- b -->\n<g id=\"node3\" class=\"node\">\n<title>b</title>\n<ellipse fill=\"none\" stroke=\"#000000\" cx=\"18\" cy=\"-18\" rx=\"18\" ry=\"18\"/>\n<text text-anchor=\"middle\" x=\"18\" y=\"-14.3\" font-family=\"Times,serif\" font-size=\"14.00\" fill=\"#000000\">b</text>\n</g>\n<!-- b&#45;&gt;f=a*b -->\n<g id=\"edge2\" class=\"edge\">\n<title>b&#45;&gt;f=a*b</title>\n<path fill=\"none\" stroke=\"#000000\" d=\"M35.8992,-21.0156C55.3802,-24.326 87.4369,-29.8561 115,-35 117.8004,-35.5226 120.6862,-36.0701 123.5929,-36.6282\"/>\n<polygon fill=\"#000000\" stroke=\"#000000\" points=\"122.9775,-40.074 133.4615,-38.5457 124.3127,-33.2025 122.9775,-40.074\"/>\n<text text-anchor=\"middle\" x=\"84.5\" y=\"-38.8\" font-family=\"Times,serif\" font-size=\"14.00\" fill=\"#000000\">df/db=a=3</text>\n</g>\n</g>\n</svg>\n"
          },
          "metadata": {},
          "execution_count": 70
        }
      ],
      "source": [
        "e1 = graphviz.Digraph('first expression', filename='fsm.gv')\n",
        "\n",
        "e1.attr(rankdir='LR', size='8,5')\n",
        "\n",
        "e1.attr('node', shape='circle')\n",
        "e1.edge('a', 'f=a*b', label='df/da=b=5')\n",
        "e1.edge('b', 'f=a*b', label='df/db=a=3')\n",
        "\n",
        "e1"
      ]
    },
    {
      "cell_type": "code",
      "execution_count": 71,
      "metadata": {
        "colab": {
          "base_uri": "https://localhost:8080/",
          "height": 237
        },
        "id": "0nittR-mZFeX",
        "outputId": "e22802f3-50b4-4b4f-bc0d-0c74946f9917"
      },
      "outputs": [
        {
          "output_type": "execute_result",
          "data": {
            "text/plain": [
              "<graphviz.dot.Digraph at 0x7f487a931290>"
            ],
            "image/svg+xml": "<?xml version=\"1.0\" encoding=\"UTF-8\" standalone=\"no\"?>\n<!DOCTYPE svg PUBLIC \"-//W3C//DTD SVG 1.1//EN\"\n \"http://www.w3.org/Graphics/SVG/1.1/DTD/svg11.dtd\">\n<!-- Generated by graphviz version 2.40.1 (20161225.0304)\n -->\n<!-- Title: second expression Pages: 1 -->\n<svg width=\"358pt\" height=\"162pt\"\n viewBox=\"0.00 0.00 357.59 161.59\" xmlns=\"http://www.w3.org/2000/svg\" xmlns:xlink=\"http://www.w3.org/1999/xlink\">\n<g id=\"graph0\" class=\"graph\" transform=\"scale(1 1) rotate(0) translate(4 157.594)\">\n<title>second expression</title>\n<polygon fill=\"#ffffff\" stroke=\"transparent\" points=\"-4,4 -4,-157.594 353.5882,-157.594 353.5882,4 -4,4\"/>\n<!-- a -->\n<g id=\"node1\" class=\"node\">\n<title>a</title>\n<ellipse fill=\"none\" stroke=\"#000000\" cx=\"18\" cy=\"-76.797\" rx=\"18\" ry=\"18\"/>\n<text text-anchor=\"middle\" x=\"18\" y=\"-73.097\" font-family=\"Times,serif\" font-size=\"14.00\" fill=\"#000000\">a</text>\n</g>\n<!-- c=a*b -->\n<g id=\"node2\" class=\"node\">\n<title>c=a*b</title>\n<ellipse fill=\"none\" stroke=\"#000000\" cx=\"168.797\" cy=\"-119.797\" rx=\"33.5952\" ry=\"33.5952\"/>\n<text text-anchor=\"middle\" x=\"168.797\" y=\"-116.097\" font-family=\"Times,serif\" font-size=\"14.00\" fill=\"#000000\">c=a*b</text>\n</g>\n<!-- a&#45;&gt;c=a*b -->\n<g id=\"edge1\" class=\"edge\">\n<title>a&#45;&gt;c=a*b</title>\n<path fill=\"none\" stroke=\"#000000\" d=\"M35.535,-81.7207C55.3302,-87.2873 88.4941,-96.6384 117,-104.797 120.1052,-105.6857 123.3142,-106.6074 126.5426,-107.5369\"/>\n<polygon fill=\"#000000\" stroke=\"#000000\" points=\"125.6233,-110.9143 136.2016,-110.324 127.564,-104.1887 125.6233,-110.9143\"/>\n<text text-anchor=\"middle\" x=\"85.5\" y=\"-108.597\" font-family=\"Times,serif\" font-size=\"14.00\" fill=\"#000000\">dc/da=b=5</text>\n</g>\n<!-- e=a*d -->\n<g id=\"node4\" class=\"node\">\n<title>e=a*d</title>\n<ellipse fill=\"none\" stroke=\"#000000\" cx=\"168.797\" cy=\"-33.797\" rx=\"33.5952\" ry=\"33.5952\"/>\n<text text-anchor=\"middle\" x=\"168.797\" y=\"-30.097\" font-family=\"Times,serif\" font-size=\"14.00\" fill=\"#000000\">e=a*d</text>\n</g>\n<!-- a&#45;&gt;e=a*d -->\n<g id=\"edge3\" class=\"edge\">\n<title>a&#45;&gt;e=a*d</title>\n<path fill=\"none\" stroke=\"#000000\" d=\"M35.5935,-71.7802C57.7207,-65.4706 96.4474,-54.4276 126.4596,-45.8696\"/>\n<polygon fill=\"#000000\" stroke=\"#000000\" points=\"127.6102,-49.1811 136.267,-43.073 125.6906,-42.4494 127.6102,-49.1811\"/>\n<text text-anchor=\"middle\" x=\"85.5\" y=\"-70.597\" font-family=\"Times,serif\" font-size=\"14.00\" fill=\"#000000\">de/da=d=9</text>\n</g>\n<!-- f=c+e -->\n<g id=\"node6\" class=\"node\">\n<title>f=c+e</title>\n<ellipse fill=\"none\" stroke=\"#000000\" cx=\"317.0911\" cy=\"-76.797\" rx=\"32.4942\" ry=\"32.4942\"/>\n<text text-anchor=\"middle\" x=\"317.0911\" y=\"-73.097\" font-family=\"Times,serif\" font-size=\"14.00\" fill=\"#000000\">f=c+e</text>\n</g>\n<!-- c=a*b&#45;&gt;f=c+e -->\n<g id=\"edge5\" class=\"edge\">\n<title>c=a*b&#45;&gt;f=c+e</title>\n<path fill=\"none\" stroke=\"#000000\" d=\"M201.3408,-110.3605C223.2738,-104.0007 252.3875,-95.5587 275.9293,-88.7325\"/>\n<polygon fill=\"#000000\" stroke=\"#000000\" points=\"277.0107,-92.0631 285.6403,-85.9166 275.0612,-85.3401 277.0107,-92.0631\"/>\n<text text-anchor=\"middle\" x=\"243.594\" y=\"-108.597\" font-family=\"Times,serif\" font-size=\"14.00\" fill=\"#000000\">df/dc=1</text>\n</g>\n<!-- b -->\n<g id=\"node3\" class=\"node\">\n<title>b</title>\n<ellipse fill=\"none\" stroke=\"#000000\" cx=\"18\" cy=\"-133.797\" rx=\"18\" ry=\"18\"/>\n<text text-anchor=\"middle\" x=\"18\" y=\"-130.097\" font-family=\"Times,serif\" font-size=\"14.00\" fill=\"#000000\">b</text>\n</g>\n<!-- b&#45;&gt;c=a*b -->\n<g id=\"edge2\" class=\"edge\">\n<title>b&#45;&gt;c=a*b</title>\n<path fill=\"none\" stroke=\"#000000\" d=\"M36.1896,-132.1083C58.0524,-130.0785 95.483,-126.6035 125.013,-123.8619\"/>\n<polygon fill=\"#000000\" stroke=\"#000000\" points=\"125.4565,-127.3359 135.0901,-122.9263 124.8094,-120.3658 125.4565,-127.3359\"/>\n<text text-anchor=\"middle\" x=\"85.5\" y=\"-133.597\" font-family=\"Times,serif\" font-size=\"14.00\" fill=\"#000000\">dc/db=a=3</text>\n</g>\n<!-- e=a*d&#45;&gt;f=c+e -->\n<g id=\"edge6\" class=\"edge\">\n<title>e=a*d&#45;&gt;f=c+e</title>\n<path fill=\"none\" stroke=\"#000000\" d=\"M201.3408,-43.2335C223.2738,-49.5933 252.3875,-58.0353 275.9293,-64.8615\"/>\n<polygon fill=\"#000000\" stroke=\"#000000\" points=\"275.0612,-68.2539 285.6403,-67.6774 277.0107,-61.5309 275.0612,-68.2539\"/>\n<text text-anchor=\"middle\" x=\"243.594\" y=\"-65.597\" font-family=\"Times,serif\" font-size=\"14.00\" fill=\"#000000\">df/de=1</text>\n</g>\n<!-- d -->\n<g id=\"node5\" class=\"node\">\n<title>d</title>\n<ellipse fill=\"none\" stroke=\"#000000\" cx=\"18\" cy=\"-19.797\" rx=\"18\" ry=\"18\"/>\n<text text-anchor=\"middle\" x=\"18\" y=\"-16.097\" font-family=\"Times,serif\" font-size=\"14.00\" fill=\"#000000\">d</text>\n</g>\n<!-- d&#45;&gt;e=a*d -->\n<g id=\"edge4\" class=\"edge\">\n<title>d&#45;&gt;e=a*d</title>\n<path fill=\"none\" stroke=\"#000000\" d=\"M35.972,-18.7139C55.8755,-17.8078 88.8712,-17.1767 117,-20.797 120.0288,-21.1868 123.1357,-21.6915 126.2503,-22.2751\"/>\n<polygon fill=\"#000000\" stroke=\"#000000\" points=\"125.6318,-25.7216 136.1392,-24.3635 127.0782,-18.8727 125.6318,-25.7216\"/>\n<text text-anchor=\"middle\" x=\"85.5\" y=\"-24.597\" font-family=\"Times,serif\" font-size=\"14.00\" fill=\"#000000\">de/dd=a=3</text>\n</g>\n</g>\n</svg>\n"
          },
          "metadata": {},
          "execution_count": 71
        }
      ],
      "source": [
        "e2 = graphviz.Digraph('second expression', filename='fsm.gv')\n",
        "\n",
        "e2.attr(rankdir='LR', size='8,5')\n",
        "\n",
        "e2.attr('node', shape='circle')\n",
        "e2.edge('a', 'c=a*b', label='dc/da=b=5')\n",
        "e2.edge('b', 'c=a*b', label='dc/db=a=3')\n",
        "e2.edge('a', 'e=a*d', label='de/da=d=9')\n",
        "e2.edge('d', 'e=a*d', label='de/dd=a=3')\n",
        "e2.edge('c=a*b', 'f=c+e', label='df/dc=1')\n",
        "e2.edge('e=a*d', 'f=c+e', label='df/de=1')\n",
        "\n",
        "e2"
      ]
    },
    {
      "cell_type": "markdown",
      "metadata": {
        "id": "A5oi21W4gpeM"
      },
      "source": [
        "## Exercise c) What happens if we run backward again?\n",
        "\n",
        "Try to execute the code below. Explain what happens."
      ]
    },
    {
      "cell_type": "code",
      "execution_count": 72,
      "metadata": {
        "colab": {
          "base_uri": "https://localhost:8080/"
        },
        "id": "DCtpJyr-gyX1",
        "outputId": "df808b0c-387f-44cf-98ae-59fe43f829dc"
      },
      "outputs": [
        {
          "output_type": "stream",
          "name": "stdout",
          "text": [
            "Var(v=3.0000, grad=28.0000)\n",
            "Var(v=5.0000, grad=6.0000)\n",
            "Var(v=15.0000, grad=2.0000)\n",
            "Var(v=9.0000, grad=6.0000)\n",
            "Var(v=27.0000, grad=2.0000)\n",
            "Var(v=42.0000, grad=2.0000)\n"
          ]
        }
      ],
      "source": [
        "f.backward()\n",
        "\n",
        "for v in [a, b, c, d, e, f]:\n",
        "    print(v)"
      ]
    },
    {
      "cell_type": "markdown",
      "source": [
        "**Answer (c)**\n",
        "\n",
        "The gradient is multiplied by 2, as the same gradients are calculated, and are added back to the variable gradient (from code: bp*grad, and bp=2, for the number of backpropagations done)."
      ],
      "metadata": {
        "id": "LArElv7DO3x5"
      }
    },
    {
      "cell_type": "markdown",
      "metadata": {
        "id": "e8bPVq2VhsP-"
      },
      "source": [
        "## Exercise d) Zero gradient\n",
        "\n",
        "We can zero the gradient by backpropagating a -1.0 as is shown in the example below. (If you have run backward multiple time then you also have to run the cell below an equal amount of times.) Explain what is going on."
      ]
    },
    {
      "cell_type": "code",
      "execution_count": 73,
      "metadata": {
        "colab": {
          "base_uri": "https://localhost:8080/"
        },
        "id": "OnyPDQx9lJe0",
        "outputId": "f776d31c-5c23-44d7-a864-3f70060db0db"
      },
      "outputs": [
        {
          "output_type": "stream",
          "name": "stdout",
          "text": [
            "Var(v=2.0000, grad=0.0000)\n",
            "Var(v=5.0000, grad=6.0000)\n",
            "Var(v=15.0000, grad=2.0000)\n",
            "Var(v=9.0000, grad=6.0000)\n",
            "Var(v=27.0000, grad=2.0000)\n",
            "Var(v=42.0000, grad=2.0000)\n",
            "Var(v=2.0000, grad=0.0000)\n",
            "Var(v=5.0000, grad=3.0000)\n",
            "Var(v=15.0000, grad=1.0000)\n",
            "Var(v=9.0000, grad=3.0000)\n",
            "Var(v=27.0000, grad=1.0000)\n",
            "Var(v=42.0000, grad=1.0000)\n"
          ]
        }
      ],
      "source": [
        "a = Var(2.0)\n",
        "\n",
        "for v in [a, b, c, d, e, f]:\n",
        "    print(v)\n",
        "\n",
        "f.backprop(-1.0)\n",
        "\n",
        "for v in [a, b, c, d, e, f]:\n",
        "    print(v)"
      ]
    },
    {
      "cell_type": "markdown",
      "source": [
        "**Answer (d)**\n",
        "\n",
        "Even though a is redefined, the old a is still used/saved in f, and can be accessed by grad_fn() calls. What backprop(-1) then does is go back a step. So running the previous code in tandem, it would do two backpropagations, and then undo one/do a forward propagation."
      ],
      "metadata": {
        "id": "B7NMCByXWVen"
      }
    },
    {
      "cell_type": "markdown",
      "metadata": {
        "id": "U4057_ljNvWB"
      },
      "source": [
        "## Exercise e) Test correctness of derivatives with the finite difference method\n",
        "\n",
        "Write a small function that uses [the finite difference method](https://en.wikipedia.org/wiki/Finite_difference_method) to numerically test that backpropation implementation is working. In short we will use\n",
        "$$\n",
        "\\frac{\\partial f(a)}{\\partial a} \\approx \\frac{f(a+da)-f(a)}{da}\n",
        "$$\n",
        "for $da \\ll 1$.\n",
        "\n",
        "As an example, we could approximate the derivative of the function $f(a)=a^2$ in e.g. the value $a=4$ using the finite difference method. This amounts to inserting the relevant values and approximating the gradient $f'(4)$ with the fraction above. \n"
      ]
    },
    {
      "cell_type": "markdown",
      "source": [
        "**Answer (e)**\n",
        "\n",
        "Below is the finite difference code snippet, calculating a numerical partial derivative at a point."
      ],
      "metadata": {
        "id": "eIPL2EwAM9kL"
      }
    },
    {
      "cell_type": "code",
      "execution_count": 74,
      "metadata": {
        "id": "9TGil92lSXDN",
        "outputId": "8c98fdc6-4669-4a04-e124-a968e159a91a",
        "colab": {
          "base_uri": "https://localhost:8080/"
        }
      },
      "outputs": [
        {
          "output_type": "stream",
          "name": "stdout",
          "text": [
            "Var(v=3.0000, grad=5.0000)\n",
            "Var(v=5.0000, grad=3.0000)\n",
            "Var(v=15.0000, grad=1.0000)\n",
            "5.000000413701855\n"
          ]
        }
      ],
      "source": [
        "# f function - try to change the code to test other types of functions as well (such as different polynomials etc.)\n",
        "def f_function(a):\n",
        "  a = Var(a)\n",
        "  b = Var(5.0)\n",
        "  f = a * b\n",
        "  f.backward()\n",
        "  return a,b,f\n",
        "\n",
        "for v in f_function(3.0):\n",
        "  print(v)\n",
        "\n",
        "# Insert your finite difference code here\n",
        "def finite_difference(a, da=1e-10):\n",
        "    \"\"\"\n",
        "    This function compute the finite difference between\n",
        "    \n",
        "    Input:\n",
        "    a:           Point of gradient\n",
        "    da:          The finite difference                           (float)\n",
        "    \n",
        "    Output:\n",
        "    finite_difference: numerical approximation to the derivative (float) \n",
        "    \"\"\"\n",
        "    a = float(a) if isinstance(a,int) else a\n",
        "    fa_da = f_function(a+da)[2].v\n",
        "    fa = f_function(a)[2].v\n",
        "\n",
        "    finite_difference = (fa_da - fa) / da\n",
        "    \n",
        "    return finite_difference\n",
        "\n",
        "print(finite_difference(a=3.0))"
      ]
    },
    {
      "cell_type": "markdown",
      "metadata": {
        "id": "6pZar5RKaUkg"
      },
      "source": [
        "# Create an artificial dataset to play with\n",
        "\n",
        "We create a non-linear 1d regression task. The generator supports various noise levels and it creates train, validation and test sets. You can modify it yourself if you want more or less challenging tasks."
      ]
    },
    {
      "cell_type": "code",
      "execution_count": 75,
      "metadata": {
        "id": "Y6yfMAQ8aduj"
      },
      "outputs": [],
      "source": [
        "import numpy as np\n",
        "import matplotlib.pyplot as plt\n",
        "\n",
        "np.random.seed(42)"
      ]
    },
    {
      "cell_type": "code",
      "execution_count": 76,
      "metadata": {
        "id": "4YabfD43ajNh"
      },
      "outputs": [],
      "source": [
        "def data_generator(noise=0.1, n_samples=300, D1=True):\n",
        "    # Create covariates and response variable\n",
        "    if D1:\n",
        "        X = np.linspace(-3, 3, num=n_samples).reshape(-1,1) # 1-D\n",
        "        np.random.shuffle(X)\n",
        "        y = np.random.normal((0.5*np.sin(X[:,0]*3) + X[:,0]), noise) # 1-D with trend\n",
        "    else:\n",
        "        X = np.random.multivariate_normal(np.zeros(3), noise*np.eye(3), size = n_samples) # 3-D\n",
        "        np.random.shuffle(X)    \n",
        "        y = np.sin(X[:,0]) - 5*(X[:,1]**2) + 0.5*X[:,2] # 3-D\n",
        "\n",
        "    # Stack them together vertically to split data set\n",
        "    data_set = np.vstack((X.T,y)).T\n",
        "    \n",
        "    train, validation, test = np.split(data_set, [int(0.35*n_samples), int(0.7*n_samples)], axis=0)\n",
        "    \n",
        "    # Standardization of the data, remember we do the standardization with the training set mean and standard deviation\n",
        "    train_mu = np.mean(train, axis=0)\n",
        "    train_sigma = np.std(train, axis=0)\n",
        "    \n",
        "    train = (train-train_mu)/train_sigma\n",
        "    validation = (validation-train_mu)/train_sigma\n",
        "    test = (test-train_mu)/train_sigma\n",
        "    \n",
        "    x_train, x_validation, x_test = train[:,:-1], validation[:,:-1], test[:,:-1]\n",
        "    y_train, y_validation, y_test = train[:,-1], validation[:,-1], test[:,-1]\n",
        "\n",
        "    return x_train, y_train,  x_validation, y_validation, x_test, y_test"
      ]
    },
    {
      "cell_type": "code",
      "execution_count": 77,
      "metadata": {
        "id": "u1oDngHLapIz"
      },
      "outputs": [],
      "source": [
        "D1 = True\n",
        "x_train, y_train,  x_validation, y_validation, x_test, y_test = data_generator(noise=0.5, D1=D1)"
      ]
    },
    {
      "cell_type": "code",
      "execution_count": 78,
      "metadata": {
        "id": "Ysfa3FsBavlm",
        "outputId": "d3b816c7-00c4-49f3-a649-2d5fb629a347",
        "colab": {
          "base_uri": "https://localhost:8080/",
          "height": 265
        }
      },
      "outputs": [
        {
          "output_type": "display_data",
          "data": {
            "text/plain": [
              "<Figure size 432x288 with 1 Axes>"
            ],
            "image/png": "[encoded data removed]"
          },
          "metadata": {
            "needs_background": "light"
          }
        }
      ],
      "source": [
        "if D1:\n",
        "    plt.scatter(x_train[:,0], y_train);\n",
        "    plt.scatter(x_validation[:,0], y_validation);\n",
        "    plt.scatter(x_test[:,0], y_test);\n",
        "else:\n",
        "    plt.scatter(x_train[:,1], y_train);\n",
        "    plt.scatter(x_validation[:,1], y_validation);\n",
        "    plt.scatter(x_test[:,1], y_test);\n",
        "plt.show()"
      ]
    },
    {
      "cell_type": "code",
      "execution_count": 79,
      "metadata": {
        "id": "zac2HHNlgbpm"
      },
      "outputs": [],
      "source": [
        "# convert from nparray to Var\n",
        "def nparray_to_Var(x):\n",
        "  if x.ndim==1:\n",
        "    y = [[Var(float(x[i]))] for i in range(x.shape[0])] # always work with list of list\n",
        "  else:\n",
        "    y = [[Var(float(x[i,j])) for j in range(x.shape[1])] for i in range(x.shape[0])]\n",
        "  return y\n",
        "   \n",
        "x_train = nparray_to_Var(x_train)\n",
        "y_train = nparray_to_Var(y_train)\n",
        "x_validation = nparray_to_Var(x_validation)\n",
        "y_validation = nparray_to_Var(y_validation)\n",
        "x_test = nparray_to_Var(x_test)\n",
        "y_test = nparray_to_Var(y_test)\n"
      ]
    },
    {
      "cell_type": "markdown",
      "metadata": {
        "id": "VbjrqcpVFtGe"
      },
      "source": [
        "# Defining and initializing the network\n",
        "\n",
        "The steps to create a feed forward neural network are the following:\n",
        "\n",
        "1. **Number of hidden layer and hidden units**. We have to define the number of hidden units in each layer. The number of features in X and the output dimensionality (the size of Y) are given but the numbers in between are set by the researcher. Remember that for each unit in each layer beside in the input has a bias term.\n",
        "2. **Activation functions** for each hidden layer. Each hidden layer in your list must have an activation function (it can also be the linear activation which is equivalent to identity function). The power of neural networks comes from non-linear activation functions that learn representations (features) from the data allowing us to learn from it. \n",
        "3. **Parameter initialization**. We will initialize the weights to have random values. This is done in practice by drawing pseudo random numbers from a Gaussian or uniform distribution. It turns out that for deeper models we have to be careful about how we scale the random numbers. This will be the topic of the exercise below. For now we will just use unit variance Gaussians.  \n",
        "\n",
        "In order to make life easier for ourselves we define a DenseLayer class that takes care of initialization and the forward pass. We can also extend it later with print and advanced initialization capabilities. For the latter we have introduced a Initializer class.\n",
        "\n",
        "Note that we use Sequence in the code below. A Sequence is an ordered list. This means the order we insert and access items are the same."
      ]
    },
    {
      "cell_type": "code",
      "execution_count": 80,
      "metadata": {
        "id": "ij_ieRsAt7Xt"
      },
      "outputs": [],
      "source": [
        "class Initializer:\n",
        "\n",
        "  def init_weights(self, n_in, n_out):\n",
        "    raise NotImplementedError\n",
        "\n",
        "  def init_bias(self, n_out):\n",
        "    raise NotImplementedError\n",
        "  \n",
        "  ## Glorot\n",
        "  def DenseLayer_Glorot_tanh(n_in: int, n_out: int):\n",
        "    std = 2/(n_in+n_out) # <- replace with proper initialization\n",
        "    return DenseLayer(n_in, n_out, lambda x: x.tanh(), initializer = NormalInitializer(std))\n",
        "\n",
        "  ## He\n",
        "  def DenseLayer_He_relu(n_in: int, n_out: int):\n",
        "    std = 2/n_in # <- replace with proper initialization\n",
        "    return DenseLayer(n_in, n_out, lambda x: x.relu)"
      ]
    },
    {
      "cell_type": "code",
      "execution_count": 81,
      "metadata": {
        "id": "eb18N5phuIha"
      },
      "outputs": [],
      "source": [
        "import random\n",
        "\n",
        "class NormalInitializer(Initializer):\n",
        "\n",
        "  def __init__(self, mean=0, std=0.1):\n",
        "    self.mean = mean\n",
        "    self.std = std\n",
        "\n",
        "  def init_weights(self, n_in, n_out):\n",
        "    return [[Var(random.gauss(self.mean, self.std)) for _ in range(n_out)] for _ in range(n_in)]\n",
        "\n",
        "  def init_bias(self, n_out):\n",
        "    return [Var(0.0) for _ in range(n_out)]\n",
        "\n",
        "class ConstantInitializer(Initializer):\n",
        "\n",
        "  def __init__(self, weight=1.0, bias=0.0):\n",
        "    self.weight = weight\n",
        "    self.bias = bias\n",
        "\n",
        "  def init_weights(self, n_in, n_out):\n",
        "    return [[Var(self.weight) for _ in range(n_out)] for _ in range(n_in)]\n",
        "\n",
        "  def init_bias(self, n_out):\n",
        "    return [Var(self.bias) for _ in range(n_out)]"
      ]
    },
    {
      "cell_type": "code",
      "execution_count": 82,
      "metadata": {
        "id": "jOLYGnZKuM6W"
      },
      "outputs": [],
      "source": [
        "from typing import Sequence\n",
        "\n",
        "class DenseLayer:\n",
        "    def __init__(self, n_in: int, n_out: int, act_fn, initializer = NormalInitializer()):\n",
        "        self.weights = initializer.init_weights(n_in, n_out)\n",
        "        self.bias = initializer.init_bias(n_out)\n",
        "        self.act_fn = act_fn\n",
        "    \n",
        "    def __repr__(self):    \n",
        "        return 'Weights: ' + repr(self.weights) + ' Biases: ' + repr(self.bias)\n",
        "\n",
        "    def parameters(self) -> Sequence[Var]:\n",
        "      params = []\n",
        "      for r in self.weights:\n",
        "        params += r\n",
        "\n",
        "      return params + self.bias\n",
        "\n",
        "    def forward(self, single_input: Sequence[Var]) -> Sequence[Var]:\n",
        "        # self.weights is a matrix with dimension n_in x n_out. We check that the dimensionality of the input\n",
        "        # to the current layer matches the number of nodes in the current layer\n",
        "        assert len(self.weights) == len(single_input), \"weights and single_input must match in first dimension\"\n",
        "        weights = self.weights\n",
        "        out = []\n",
        "        # For some given data point single_input, we now want to calculate the resulting value in each node in the current layer\n",
        "        # We therefore loop over the (number of) nodes in the current layer:\n",
        "        for j in range(len(weights[0])):\n",
        "            # Initialize the node value depending on its corresponding parameters.\n",
        "            node = self.bias[j]  # <- Insert code\n",
        "            # We now finish the linear transformation corresponding to the parameters of the currently considered node.\n",
        "            for i in range(len(single_input)):\n",
        "                node += weights[i][j] * single_input[i]  # <- Insert code\n",
        "            node = self.act_fn(node)\n",
        "            out.append(node)\n",
        "\n",
        "        return out\n",
        "      \n",
        "    def describe(self):\n",
        "        # return f'Input nodes: {self.n_in}, output nodes: {self.n_out} ||' +  f'Weights of input{i}: ' for i in range(len(weights[0]))\n",
        "        n_out = len(self.weights[0])\n",
        "        n_in = len(self.weights)\n",
        "        params = self.parameters()\n",
        "        description = [[f'Weight from input {j} to node {i}: {params[n_out * j + i]} and bias {params[-(n_out-i)]}' for i\n",
        "          in range(n_out)] for j in range(n_in)]\n",
        "        return sum(description, [])"
      ]
    },
    {
      "cell_type": "markdown",
      "metadata": {
        "id": "jpIZPBpNI0pO"
      },
      "source": [
        "## Exercise f) Add more activation functions\n",
        "\n",
        "To have a full definition of the neural network, we must define an activation function for every layer. Several activation functions have been proposed and have different characteristics. In the Var class we have already defined the rectified linear init (relu). \n",
        " \n",
        "Implement the following activation functions in the Var class:\n",
        "\n",
        "* Identity: $$\\mathrm{identity}(x) = x$$\n",
        "* Hyperbolic tangent: $$\\tanh(x)$$\n",
        "* Sigmoid (or logistic function): $$\\mathrm{sigmoid}(x) = \\frac{1}{1.0 + \\exp(-x ) }$$  Hint: $\\mathrm{sigmoid}'(x)= \\mathrm{sigmoid}(x)(1-\\mathrm{sigmoid}(x))$.  \n",
        "\n",
        "Hint: You can seek inspiration in the relu method in the Var class."
      ]
    },
    {
      "cell_type": "markdown",
      "source": [
        "**Answer (f)**\n",
        "\n",
        "The following code snippet is implemented in the previous Var class."
      ],
      "metadata": {
        "id": "_AabEBeucF4S"
      }
    },
    {
      "cell_type": "code",
      "source": [
        "    # def sigmoid(self):\n",
        "    #     return Var(1/(1+exp(-self.v)), lambda: [(self, exp(self.v)/((exp(self.v)+1)**2))])\n",
        "\n",
        "    # def tanh(self):\n",
        "    #     return Var((exp(2*self.v)-1)/(exp(2*self.v)+1), lambda: [(self, 4/((exp(-self.v)+exp(self.v))**2))])\n",
        "\n",
        "    # def identity(self):\n",
        "    #     return Var(self.v, lambda: [(self, 1.0)])"
      ],
      "metadata": {
        "id": "hSKslIHFcBuM"
      },
      "execution_count": 83,
      "outputs": []
    },
    {
      "cell_type": "markdown",
      "metadata": {
        "id": "p_8n_SKnIW2F"
      },
      "source": [
        "## Exercise g) Complete the forward pass\n",
        "\n",
        "In the code below we initialize a 1-5-1 network and pass the training set through it. *The forward method in DenseLayer is **not** complete*. It just outputs zeros right now. The method forward should perform an [affine transformation](https://en.wikipedia.org/wiki/Affine_transformation) on the input followed by an application of the activation function."
      ]
    },
    {
      "cell_type": "code",
      "execution_count": 84,
      "metadata": {
        "id": "xDEjtePxE7Mv",
        "outputId": "2b69ab62-7eb9-4e15-fd57-dd7c7f4d36cc",
        "colab": {
          "base_uri": "https://localhost:8080/"
        }
      },
      "outputs": [
        {
          "output_type": "stream",
          "name": "stdout",
          "text": [
            "[[Var(v=0.0177, grad=0.0000)], [Var(v=0.0357, grad=0.0000)], [Var(v=0.0032, grad=0.0000)], [Var(v=0.0207, grad=0.0000)], [Var(v=0.0263, grad=0.0000)], [Var(v=0.0243, grad=0.0000)], [Var(v=0.0158, grad=0.0000)], [Var(v=0.0050, grad=0.0000)], [Var(v=0.0213, grad=0.0000)], [Var(v=0.0098, grad=0.0000)], [Var(v=0.0274, grad=0.0000)], [Var(v=0.0131, grad=0.0000)], [Var(v=0.0220, grad=0.0000)], [Var(v=0.0150, grad=0.0000)], [Var(v=0.0118, grad=0.0000)], [Var(v=0.0229, grad=0.0000)], [Var(v=0.0422, grad=0.0000)], [Var(v=0.0200, grad=0.0000)], [Var(v=0.0021, grad=0.0000)], [Var(v=0.0069, grad=0.0000)], [Var(v=0.0098, grad=0.0000)], [Var(v=0.0043, grad=0.0000)], [Var(v=0.0308, grad=0.0000)], [Var(v=0.0311, grad=0.0000)], [Var(v=0.0058, grad=0.0000)], [Var(v=0.0155, grad=0.0000)], [Var(v=0.0399, grad=0.0000)], [Var(v=0.0439, grad=0.0000)], [Var(v=0.0047, grad=0.0000)], [Var(v=0.0277, grad=0.0000)], [Var(v=0.0194, grad=0.0000)], [Var(v=0.0067, grad=0.0000)], [Var(v=0.0169, grad=0.0000)], [Var(v=0.0183, grad=0.0000)], [Var(v=0.0212, grad=0.0000)], [Var(v=0.0034, grad=0.0000)], [Var(v=0.0210, grad=0.0000)], [Var(v=0.0080, grad=0.0000)], [Var(v=0.0149, grad=0.0000)], [Var(v=0.0106, grad=0.0000)], [Var(v=0.0075, grad=0.0000)], [Var(v=0.0102, grad=0.0000)], [Var(v=0.0414, grad=0.0000)], [Var(v=0.0127, grad=0.0000)], [Var(v=0.0100, grad=0.0000)], [Var(v=0.0122, grad=0.0000)], [Var(v=0.0266, grad=0.0000)], [Var(v=0.0251, grad=0.0000)], [Var(v=0.0047, grad=0.0000)], [Var(v=0.0257, grad=0.0000)], [Var(v=0.0112, grad=0.0000)], [Var(v=0.0010, grad=0.0000)], [Var(v=0.0280, grad=0.0000)], [Var(v=0.0103, grad=0.0000)], [Var(v=0.0445, grad=0.0000)], [Var(v=0.0391, grad=0.0000)], [Var(v=0.0069, grad=0.0000)], [Var(v=0.0076, grad=0.0000)], [Var(v=0.0146, grad=0.0000)], [Var(v=0.0182, grad=0.0000)], [Var(v=0.0260, grad=0.0000)], [Var(v=0.0128, grad=0.0000)], [Var(v=0.0212, grad=0.0000)], [Var(v=0.0126, grad=0.0000)], [Var(v=0.0092, grad=0.0000)], [Var(v=0.0174, grad=0.0000)], [Var(v=0.0186, grad=0.0000)], [Var(v=0.0328, grad=0.0000)], [Var(v=0.0133, grad=0.0000)], [Var(v=0.0129, grad=0.0000)], [Var(v=0.0051, grad=0.0000)], [Var(v=0.0023, grad=0.0000)], [Var(v=0.0254, grad=0.0000)], [Var(v=0.0149, grad=0.0000)], [Var(v=0.0018, grad=0.0000)], [Var(v=0.0402, grad=0.0000)], [Var(v=0.0092, grad=0.0000)], [Var(v=0.0089, grad=0.0000)], [Var(v=0.0117, grad=0.0000)], [Var(v=0.0419, grad=0.0000)], [Var(v=0.0064, grad=0.0000)], [Var(v=0.0038, grad=0.0000)], [Var(v=0.0191, grad=0.0000)], [Var(v=0.0026, grad=0.0000)], [Var(v=0.0097, grad=0.0000)], [Var(v=0.0042, grad=0.0000)], [Var(v=0.0036, grad=0.0000)], [Var(v=0.0108, grad=0.0000)], [Var(v=0.0197, grad=0.0000)], [Var(v=0.0205, grad=0.0000)], [Var(v=0.0152, grad=0.0000)], [Var(v=0.0062, grad=0.0000)], [Var(v=0.0114, grad=0.0000)], [Var(v=0.0237, grad=0.0000)], [Var(v=0.0163, grad=0.0000)], [Var(v=0.0196, grad=0.0000)], [Var(v=0.0109, grad=0.0000)], [Var(v=0.0018, grad=0.0000)], [Var(v=0.0379, grad=0.0000)], [Var(v=0.0116, grad=0.0000)], [Var(v=0.0249, grad=0.0000)], [Var(v=0.0113, grad=0.0000)], [Var(v=0.0172, grad=0.0000)], [Var(v=0.0121, grad=0.0000)], [Var(v=0.0354, grad=0.0000)]]\n"
          ]
        }
      ],
      "source": [
        "NN = [\n",
        "    DenseLayer(1, 5, lambda x: x.relu()),\n",
        "    DenseLayer(5, 1, lambda x: x.identity())\n",
        "]\n",
        "\n",
        "def forward(input, network):\n",
        "\n",
        "  def forward_single(x, network):\n",
        "    for layer in network:\n",
        "        x = layer.forward(x)\n",
        "    return x\n",
        "\n",
        "  output = [ forward_single(input[n], network) for n in range(len(input))]\n",
        "  return output\n",
        "\n",
        "print(forward(x_train, NN))\n"
      ]
    },
    {
      "cell_type": "markdown",
      "source": [
        "**Answer (g)**\n",
        "\n",
        "The following code snippet has been implemented ind the previous DenseLayer Class, as the function forward."
      ],
      "metadata": {
        "id": "nNWWvxQCeNf2"
      }
    },
    {
      "cell_type": "code",
      "source": [
        "# def forward(self, single_input: Sequence[Var]) -> Sequence[Var]:\n",
        "#     # self.weights is a matrix with dimension n_in x n_out. We check that the dimensionality of the input\n",
        "#     # to the current layer matches the number of nodes in the current layer\n",
        "#     assert len(self.weights) == len(single_input), \"weights and single_input must match in first dimension\"\n",
        "#     weights = self.weights\n",
        "#     out = []\n",
        "#     # For some given data point single_input, we now want to calculate the resulting value in each node in the current layer\n",
        "#     # We therefore loop over the (number of) nodes in the current layer:\n",
        "#     for j in range(len(weights[0])):\n",
        "#         # Initialize the node value depending on its corresponding parameters.\n",
        "#         node = self.bias[j]  # <- Insert code\n",
        "#         # We now finish the linear transformation corresponding to the parameters of the currently considered node.\n",
        "#         for i in range(len(single_input)):\n",
        "#             node += weights[i][j] * single_input[i]  # <- Insert code\n",
        "#         node = self.act_fn(node)\n",
        "#         out.append(node)"
      ],
      "metadata": {
        "id": "Eg210D_gectN"
      },
      "execution_count": 85,
      "outputs": []
    },
    {
      "cell_type": "markdown",
      "metadata": {
        "id": "oLrGJytZFtGm"
      },
      "source": [
        "## Exercise h) Print all network parameters\n",
        "\n",
        "Make a function that prints all the parameters of the network (weights and biases) with information about in which layer the appear. In the object oriented spirit you should introduce a method in the DenseLayer class to print the parameters of a layer. Hint: You can take inspiration from the corresponding method in Var. "
      ]
    },
    {
      "cell_type": "markdown",
      "source": [
        "**Answer (h)**\n",
        "\n",
        "The following code snippet has been implemented in the DenseLayer class. The intended behaviour, is that a .describe() call would show a string describing the weight from an input to the connected node, and the bias."
      ],
      "metadata": {
        "id": "vc2akTHMeqFD"
      }
    },
    {
      "cell_type": "code",
      "execution_count": 86,
      "metadata": {
        "id": "iac-VwYGFtGm"
      },
      "outputs": [],
      "source": [
        "    def describe(self):\n",
        "        # return f'Input nodes: {self.n_in}, output nodes: {self.n_out} ||' +  f'Weights of input{i}: ' for i in range(len(weights[0]))\n",
        "        n_out = len(self.weights[0])\n",
        "        n_in = len(self.weights)\n",
        "        params = self.parameters()\n",
        "        description = [[f'Weight from input {j} to node {i}: {params[n_out * j + i]} and bias {params[-(n_out-i)]}' for i\n",
        "          in range(n_out)] for j in range(n_in)]\n",
        "        return sum(description, [])"
      ]
    },
    {
      "cell_type": "markdown",
      "source": [
        "And for this following code snippet, the neural network is described in full, assuming the input is of the format of the previously used definition of NN, which is a list of DenseLayer class calls."
      ],
      "metadata": {
        "id": "u9-p1YMzm1SC"
      }
    },
    {
      "cell_type": "code",
      "source": [
        "def describe_NN(NN):\n",
        "  for i, j in enumerate(NN):\n",
        "    if i==0:\n",
        "      print(f'Layer {i} (input) to {i+1}:')\n",
        "    elif i==len(NN)-1:\n",
        "      print(f'Layer {i} to {i+1} (output):')\n",
        "    else:\n",
        "      print(f'Layer {i} to {i+1}:')\n",
        "    for x in j.describe():\n",
        "        print(x)\n",
        "\n",
        "describe_NN(NN=NN)"
      ],
      "metadata": {
        "id": "AfDvTME8nJ8x",
        "outputId": "78b6829e-5b5d-4104-f120-b1ae5f53a554",
        "colab": {
          "base_uri": "https://localhost:8080/"
        }
      },
      "execution_count": 87,
      "outputs": [
        {
          "output_type": "stream",
          "name": "stdout",
          "text": [
            "Layer 0 (input) to 1:\n",
            "Weight from input 0 to node 0: Var(v=0.0033, grad=0.0000) and bias Var(v=0.0000, grad=0.0000)\n",
            "Weight from input 0 to node 1: Var(v=0.0100, grad=0.0000) and bias Var(v=0.0000, grad=0.0000)\n",
            "Weight from input 0 to node 2: Var(v=0.0786, grad=0.0000) and bias Var(v=0.0000, grad=0.0000)\n",
            "Weight from input 0 to node 3: Var(v=-0.0527, grad=0.0000) and bias Var(v=0.0000, grad=0.0000)\n",
            "Weight from input 0 to node 4: Var(v=0.1468, grad=0.0000) and bias Var(v=0.0000, grad=0.0000)\n",
            "Layer 1 to 2 (output):\n",
            "Weight from input 0 to node 0: Var(v=-0.1226, grad=0.0000) and bias Var(v=0.0000, grad=0.0000)\n",
            "Weight from input 1 to node 0: Var(v=0.0532, grad=0.0000) and bias Var(v=0.0000, grad=0.0000)\n",
            "Weight from input 2 to node 0: Var(v=-0.0130, grad=0.0000) and bias Var(v=0.0000, grad=0.0000)\n",
            "Weight from input 3 to node 0: Var(v=0.2579, grad=0.0000) and bias Var(v=0.0000, grad=0.0000)\n",
            "Weight from input 4 to node 0: Var(v=0.1736, grad=0.0000) and bias Var(v=0.0000, grad=0.0000)\n"
          ]
        }
      ]
    },
    {
      "cell_type": "markdown",
      "metadata": {
        "id": "_79HOAXrFtHK"
      },
      "source": [
        "## Visualization\n",
        "\n",
        "Now that we have defined our activation functions we can visualize them to see what they look like:"
      ]
    },
    {
      "cell_type": "code",
      "execution_count": 88,
      "metadata": {
        "id": "1FcylHqLTl-Z",
        "outputId": "127cc59b-094a-417a-adfc-eae3bc363847",
        "colab": {
          "base_uri": "https://localhost:8080/",
          "height": 282
        }
      },
      "outputs": [
        {
          "output_type": "execute_result",
          "data": {
            "text/plain": [
              "[<matplotlib.lines.Line2D at 0x7f487a8b09d0>]"
            ]
          },
          "metadata": {},
          "execution_count": 88
        },
        {
          "output_type": "display_data",
          "data": {
            "text/plain": [
              "<Figure size 432x288 with 1 Axes>"
            ],
            "image/png": "[encoded data removed]"
          },
          "metadata": {
            "needs_background": "light"
          }
        }
      ],
      "source": [
        "x = np.linspace(-6, 6, 100)\n",
        "\n",
        "# convert from Var to ndarray  \n",
        "def Var_to_nparray(x):\n",
        "  y = np.zeros((len(x),len(x[0])))\n",
        "  for i in range(len(x)):\n",
        "    for j in range(len(x[0])):\n",
        "      y[i,j] = x[i][j].v\n",
        "  return y\n",
        "\n",
        "# define 1-1 network with weight = 1 and relu activation \n",
        "NN = [ DenseLayer(1, 1, lambda x: x.relu(), initializer = ConstantInitializer(1.0)) ] \n",
        "y = Var_to_nparray(forward(nparray_to_Var(x), NN))\n",
        "\n",
        "#y = Var_to_nparray(relu(nparray_to_Var(x)))\n",
        "plt.plot(x,y)"
      ]
    },
    {
      "cell_type": "code",
      "execution_count": 89,
      "metadata": {
        "id": "oOL2UolJFtHL",
        "outputId": "490293ad-632a-4cef-811b-a7866c5edb30",
        "colab": {
          "base_uri": "https://localhost:8080/",
          "height": 341
        }
      },
      "outputs": [
        {
          "output_type": "display_data",
          "data": {
            "text/plain": [
              "<Figure size 360x360 with 1 Axes>"
            ],
            "image/png": "[encoded data removed]"
          },
          "metadata": {
            "needs_background": "light"
          }
        }
      ],
      "source": [
        "# Testing all activation layers\n",
        "\n",
        "x = np.linspace(-6, 6, 100)\n",
        "units = {\n",
        "    \"identity\": lambda x: x.identity(),\n",
        "    #\"sigmoid\": lambda x: x.sigmoid(),  <- uncomment before sharing\n",
        "    \"relu\": lambda x: x.relu(),\n",
        "    #\"tanh\": lambda x: x.tanh() <- uncomment before sharing\n",
        "}\n",
        "\n",
        "plt.figure(figsize=(5, 5))\n",
        "[plt.plot(x, Var_to_nparray(forward(nparray_to_Var(x), [DenseLayer(1, 1, unit, initializer = ConstantInitializer(1.0))]) ), label=unit_name, lw=2) for unit_name, unit in units.items()] # unit(nparray_to_Var(x))), label=unit_name, lw=2) for unit_name, unit in units.items()]\n",
        "plt.legend(loc=2, fontsize=16)\n",
        "plt.title('Our activation functions', fontsize=20)\n",
        "plt.ylim([-2, 5])\n",
        "plt.xlim([-6, 6])\n",
        "plt.show()"
      ]
    },
    {
      "cell_type": "markdown",
      "metadata": {
        "id": "b-jdEl-7FtGs"
      },
      "source": [
        "# Advanced initialization schemes\n",
        "\n",
        "If we are not careful with initialization, the signals we propagate forward ($a^{(l)}$, $l=1,\\ldots,L$) and backward ($\\delta^l$, $l=L,L-1,\\ldots,1$) can blow up or shrink to zero. A statistical analysis of the variance of the signals for different activation functions can be found in these two papers: [Glorot initialization](http://proceedings.mlr.press/v9/glorot10a/glorot10a.pdf) and [He initialization](https://arxiv.org/pdf/1502.01852v1.pdf). \n",
        "\n",
        "The result of the analyses are proposals for how to make the initialization such that the variance of the signals (forward and backward) are kept approxmimatly constant when propagating from layer to layer. The exact expressions depend upon the non-linear activation function used. In Glorot initialization, the aim is to keep both the forward and backward variances constant whereas He only aims at keeping the variance in the forward pass constant.\n",
        "\n",
        "We define $n_{in}$ and $n_{out}$ as the number of input units and output units of a particular layer. \n",
        "\n",
        "The Glorot initialization has the form: \n",
        "\n",
        "$$w_{ij} \\sim N \\bigg( 0, \\, \\frac{2 \\alpha }{n_{in} + n_{out}} \\bigg) \\ . $$\n",
        "\n",
        "where $N(\\mu,\\sigma^2)$ is a Gaussian distribution with mean $\\mu$ and variance $\\sigma^2$ and $\\alpha$ is a parameter that depends upon the activation function used. For $\\tanh$, $\\alpha=1$ and for Rectified Linear Unit (ReLU) activations, $\\alpha=2$. (It is also possible to use a uniform distribution for initialization, see [this blog post](https://mmuratarat.github.io/2019-02-25/xavier-glorot-he-weight-init).) \n",
        "\n",
        "The He initialization is very similar\n",
        "\n",
        "$$w_{ij} \\sim N \\bigg( 0, \\, \\frac{\\alpha}{n_{in}} \\bigg) \\ . $$"
      ]
    },
    {
      "cell_type": "markdown",
      "metadata": {
        "id": "mqeyab9qFtGs"
      },
      "source": [
        "## Exercise i) Glorot and He initialization\n",
        " \n",
        "Using the Initializer class, implement functions that implement Glorot and He \n",
        "\n",
        "Explain briefly how you would test numerically that these initializations have the sought after property. Hint: See plots in Glorot paper.\n",
        "\n",
        "Comment: If you want to be more advanced then try to make a universal initializer taking both the activation function and type (Glorot or He) as argument."
      ]
    },
    {
      "cell_type": "markdown",
      "source": [
        "**Answer (i)**\n",
        "\n",
        "Below is the code snippet of the attempt at implementing the Glorot and He initialization schemes. These are also found implemented in the Initializer class from before.\n",
        "\n",
        "A numerical test would simply be to plot the activation values of each layer, which should result in very alike distributions around 0 mean (see figure 6 of the Glorot paper). Additionally, if it holds, the ratio between ${\\mathbf z^i}$ to ${\\mathbf z^{i+1}}$ should be around 0.8, and 0.5 for the more common method ($1/\\sqrt(n)$) (see the Glorot paper section 4.2.2)."
      ],
      "metadata": {
        "id": "zfJAtlNrr9H2"
      }
    },
    {
      "cell_type": "code",
      "execution_count": 90,
      "metadata": {
        "id": "Qyk01CgaFtGt"
      },
      "outputs": [],
      "source": [
        "## Glorot\n",
        "def DenseLayer_Glorot_tanh(n_in: int, n_out: int):\n",
        "  std = 2/(n_in+n_out) # <- replace with proper initialization\n",
        "  return DenseLayer(n_in, n_out, lambda x: x.tanh(), initializer = NormalInitializer(std))\n",
        "\n",
        "## He\n",
        "def DenseLayer_He_relu(n_in: int, n_out: int):\n",
        "  std = 2/n_in # <- replace with proper initialization\n",
        "  return DenseLayer(n_in, n_out, lambda x: x.relu(), initializer = NormalInitializer(std))\n",
        "\n",
        "def DenseLayer_init(n_in: int, n_out: int, act_fn, init_type: str=None):\n",
        "  assert init_type in ['Glorot', 'He'], f\"Choose initialization type. Must be either 'Glorot' or 'He'\"\n",
        "  if init_type == 'Glorot':\n",
        "    alpha = 1\n",
        "    std = 2*alpha/(n_in+n_out)\n",
        "  elif init_type == 'He':\n",
        "    alpha = 2\n",
        "    std = alpha/n_in\n",
        "  return DenseLayer(n_in, n_out, act_fn, initializer = NormalInitializer(std))"
      ]
    },
    {
      "cell_type": "markdown",
      "metadata": {
        "id": "-XyXBD37FtHk"
      },
      "source": [
        "## Exercise j) Forward pass unit test\n",
        "\n",
        "Write a bit of code to make a unit test that the forward pass works. This can be done by defining a simple network with for example all weights equal to one (using the ConstantInitializer method) and identity activation functions. \n",
        "\n",
        "Hints: Use the [assert](https://www.w3schools.com/python/ref_keyword_assert.asp), the nparray_to_Var and the Var_to_nparray commands. "
      ]
    },
    {
      "cell_type": "markdown",
      "source": [
        "**Answer (j)**\n",
        "\n",
        "For the unit test a simple 1-2-1 layer network is made, with the ConstantInitializer initializer, and the identity activation function, for both in and out of the hidden layer of 2 nodes. This means the weights will remain 1, and the activation will be the input itself. Therefore the output layer will output half the value of the input, which then will be tested for, seen below."
      ],
      "metadata": {
        "id": "knpMcVWYxpEM"
      }
    },
    {
      "cell_type": "code",
      "execution_count": 91,
      "metadata": {
        "id": "k0miqRUAFtHl"
      },
      "outputs": [],
      "source": [
        "UT_NN = [\n",
        "    DenseLayer(1, 2, lambda x: x.identity(), initializer=ConstantInitializer()),\n",
        "    DenseLayer(2, 1, lambda x: x.identity(), initializer=ConstantInitializer())\n",
        "]\n",
        "\n",
        "input_values = Var_to_nparray(x_train[:5])\n",
        "test_nn_results = forward(x_train[:5], UT_NN)\n",
        "adjusted_test_nn_results = Var_to_nparray([[i[0]*Var(0.5)] for i in test_nn_results])\n",
        "assert all(input_values == adjusted_test_nn_results)"
      ]
    },
    {
      "cell_type": "markdown",
      "metadata": {
        "id": "faCxhfFnFtHp"
      },
      "source": [
        "# Loss functions\n",
        "\n",
        "We are only missing a loss function to we need to define a loss function and its derivative with respect to the output of the neural network $y$"
      ]
    },
    {
      "cell_type": "code",
      "execution_count": 92,
      "metadata": {
        "id": "I2eDYKvAFtHq"
      },
      "outputs": [],
      "source": [
        "def squared_loss(t, y):\n",
        "  \n",
        "  # add check that sizes agree\n",
        "  \n",
        "  def squared_loss_single(t, y):\n",
        "    Loss = Var(0.0)\n",
        "    for i in range(len(t)): # sum over outputs\n",
        "      Loss += (t[i]-y[i]) ** 2\n",
        "    return Loss\n",
        "\n",
        "  Loss = Var(0.0)\n",
        "  for n in range(len(t)): # sum over training data\n",
        "    Loss += squared_loss_single(t[n],y[n])\n",
        "  return Loss"
      ]
    },
    {
      "cell_type": "markdown",
      "metadata": {
        "id": "SrwSJ2UWFtHu"
      },
      "source": [
        "## Exercise k) Implement cross entropy loss\n",
        "\n",
        "Insert code below to implement cross-entropy loss for general dimensionality of $t$. Use a logits formulation:\n",
        "$$\n",
        "\\rm{Loss} = - \\sum_i t_i \\, log \\, p_i \n",
        "$$\n",
        "with $p$ given by the the softmax function in terms of the logits $h$:\n",
        "$$\n",
        "p_i = \\frac{\\exp(h_i)}{\\sum_{i'} \\exp(h_{i'})} .\n",
        "$$\n",
        "Inserting $p$ in the expression for the loss gives\n",
        "$$\n",
        "\\rm{Loss} = - \\sum_i t_i h_i + \\rm{LogSumExp}(h) \\ ,\n",
        "$$\n",
        "where \n",
        "$$\n",
        "\\rm{LogSumExp}(h) = \\log \\sum_i \\exp h_i \\ .\n",
        "$$\n",
        "This is true for $t$ being a one-hot vector. \n",
        "\n",
        "Call the function to convince yourself it works. \n",
        "\n",
        "In practice you want to implement a [numerically stable](https://leimao.github.io/blog/LogSumExp/) version of LogSumExp. But we will not bother about that here.\n",
        "\n",
        "Help: You can add these methods in the Var class:\n",
        "\n",
        "    def exp(self):\n",
        "        return Var(exp(self.v), lambda: [(self, exp(self.v))])\n",
        "    \n",
        "    def log(self):\n",
        "        return Var(log(self.v), lambda: [(self, self.v ** -1)])"
      ]
    },
    {
      "cell_type": "markdown",
      "source": [
        "**Answer (k)**\n",
        "\n",
        "Below is the implemented cross_entropy_loss function. With the aforementioned hint, where an expression for log and exp has been implemented in the Var class, these are used for easier calculation."
      ],
      "metadata": {
        "id": "KfTG1cK8GAj-"
      }
    },
    {
      "cell_type": "code",
      "execution_count": 93,
      "metadata": {
        "id": "6nMuxyfzFtHv"
      },
      "outputs": [],
      "source": [
        "def cross_entropy_loss_single(t,h):\n",
        "  Loss_1 = Var(0.0)\n",
        "  Loss_2 = Var(0,0)\n",
        "  for i in range(len(t)):\n",
        "    Loss_1 += -t[i]*h[i]\n",
        "    Loss_2 += h[i].exp()\n",
        "  Loss = Loss_1+Loss_2.log()\n",
        "  return Loss\n"
      ]
    },
    {
      "cell_type": "markdown",
      "metadata": {
        "id": "8fAF5ew4FtHy"
      },
      "source": [
        "# Backward pass\n",
        "\n",
        "Now the magic happens! We get the calculation of the gradients for free. Just do:"
      ]
    },
    {
      "cell_type": "code",
      "execution_count": 94,
      "metadata": {
        "id": "iHyfPPI9Qqwu"
      },
      "outputs": [],
      "source": [
        "NN = [\n",
        "    DenseLayer(1, 5, lambda x: x.relu()),\n",
        "    DenseLayer(5, 1, lambda x: x.identity())\n",
        "]\n",
        "\n",
        "output = forward(x_train, NN)\n",
        "\n",
        "Loss = squared_loss(y_train,output)\n",
        "Loss.backward()"
      ]
    },
    {
      "cell_type": "markdown",
      "metadata": {
        "id": "49biIAYKQ1oG"
      },
      "source": [
        "and the gradients will be calculated:"
      ]
    },
    {
      "cell_type": "code",
      "execution_count": 95,
      "metadata": {
        "id": "_rGt1bq_Q7uk",
        "outputId": "4eb515f6-3afe-4b1e-b411-3fecc0cf96f1",
        "colab": {
          "base_uri": "https://localhost:8080/"
        }
      },
      "outputs": [
        {
          "output_type": "stream",
          "name": "stdout",
          "text": [
            "Layer 0 \n",
            " Weights: [[Var(v=-0.0105, grad=6.0447), Var(v=0.0666, grad=3.9700), Var(v=0.0947, grad=-1.9283), Var(v=0.0453, grad=10.1192), Var(v=0.0194, grad=-5.9956)]] Biases: [Var(v=0.0000, grad=-5.4943), Var(v=0.0000, grad=3.4099), Var(v=0.0000, grad=-1.6562), Var(v=0.0000, grad=8.6917), Var(v=0.0000, grad=-5.1498)]\n",
            "Layer 1 \n",
            " Weights: [[Var(v=-0.0630, grad=1.0121)], [Var(v=-0.0389, grad=-6.7952)], [Var(v=0.0189, grad=-9.6631)], [Var(v=-0.0992, grad=-4.6256)], [Var(v=0.0588, grad=-1.9818)]] Biases: [Var(v=0.0000, grad=-0.4464)]\n"
          ]
        },
        {
          "output_type": "execute_result",
          "data": {
            "text/plain": [
              "[None, None]"
            ]
          },
          "metadata": {},
          "execution_count": 95
        }
      ],
      "source": [
        "[print('Layer', i, '\\n', NN[i]) for i in range(len(NN))] "
      ]
    },
    {
      "cell_type": "markdown",
      "metadata": {
        "id": "D7d7qK0uFtH9"
      },
      "source": [
        "# Backward pass unit test\n",
        "\n",
        "Above we used finite differences to test that Nanograd is actually doing what it is supposed to do. We can in principle try the same for the neural network. But we will trust that the test above is enough."
      ]
    },
    {
      "cell_type": "markdown",
      "metadata": {
        "id": "WgBi8GOSFtIN"
      },
      "source": [
        "# Training and validation\n",
        "\n",
        "We are ready to train some neural networks!\n",
        "\n",
        "We initialize again:"
      ]
    },
    {
      "cell_type": "code",
      "execution_count": 96,
      "metadata": {
        "id": "01ePmzBzRtdh"
      },
      "outputs": [],
      "source": [
        "NN = [\n",
        "    DenseLayer(1, 15, lambda x: x.relu()),\n",
        "    DenseLayer(15, 50, lambda x: x.relu()),\n",
        "    DenseLayer(50, 1, lambda x: x.identity())\n",
        "]\n",
        "\n",
        "output = forward(x_train, NN)\n",
        "\n",
        "Loss = squared_loss(y_train,output)\n",
        "Loss.backward()"
      ]
    },
    {
      "cell_type": "markdown",
      "metadata": {
        "id": "10iRPiQ1ISHw"
      },
      "source": [
        "and make an update:\n",
        "\n",
        "We introduce a help function parameters to have a handle in all parameters in the network."
      ]
    },
    {
      "cell_type": "code",
      "execution_count": 97,
      "metadata": {
        "id": "dhAI7eyeznia",
        "outputId": "a0314402-c630-4fdb-edba-5e7c7f8f69e3",
        "colab": {
          "base_uri": "https://localhost:8080/"
        }
      },
      "outputs": [
        {
          "output_type": "stream",
          "name": "stdout",
          "text": [
            "Network before update:\n",
            "Layer 0 \n",
            " Weights: [[Var(v=0.0270, grad=-5.3320), Var(v=0.0078, grad=-0.9050), Var(v=0.0973, grad=-3.1266), Var(v=-0.0543, grad=11.3716), Var(v=-0.0981, grad=-0.7954), Var(v=-0.0222, grad=5.7626), Var(v=-0.0706, grad=2.7569), Var(v=-0.0704, grad=7.4011), Var(v=-0.1636, grad=-8.2387), Var(v=-0.0771, grad=8.9566), Var(v=0.0967, grad=-0.7338), Var(v=-0.0008, grad=1.3349), Var(v=0.0501, grad=-2.1023), Var(v=-0.0013, grad=-12.6701), Var(v=-0.0332, grad=3.5947)]] Biases: [Var(v=0.0000, grad=-4.5807), Var(v=0.0000, grad=-0.7775), Var(v=0.0000, grad=-2.6861), Var(v=0.0000, grad=-10.3345), Var(v=0.0000, grad=0.7229), Var(v=0.0000, grad=-5.2371), Var(v=0.0000, grad=-2.5055), Var(v=0.0000, grad=-6.7262), Var(v=0.0000, grad=7.4874), Var(v=0.0000, grad=-8.1398), Var(v=0.0000, grad=-0.6304), Var(v=0.0000, grad=-1.2132), Var(v=0.0000, grad=-1.8061), Var(v=0.0000, grad=11.5147), Var(v=0.0000, grad=-3.2669)]\n",
            "Layer 1 \n",
            " Weights: [[Var(v=-0.0390, grad=-0.0835), Var(v=-0.0476, grad=0.0000), Var(v=0.0922, grad=0.0000), Var(v=-0.0844, grad=0.0000), Var(v=-0.0332, grad=0.0000), Var(v=0.0803, grad=-0.4865), Var(v=-0.0124, grad=0.0000), Var(v=0.0854, grad=0.1142), Var(v=-0.0006, grad=-0.4639), Var(v=-0.0230, grad=0.0000), Var(v=0.1281, grad=0.0000), Var(v=-0.0418, grad=0.0423), Var(v=-0.0746, grad=-0.1277), Var(v=-0.0646, grad=0.0000), Var(v=-0.0117, grad=0.0000), Var(v=-0.0118, grad=-0.1666), Var(v=0.0823, grad=-0.0767), Var(v=-0.2360, grad=0.0000), Var(v=-0.0025, grad=0.0809), Var(v=-0.1359, grad=0.0000), Var(v=-0.0100, grad=0.0000), Var(v=0.1033, grad=0.0000), Var(v=0.0493, grad=-0.3211), Var(v=0.0127, grad=0.2682), Var(v=-0.0448, grad=0.0000), Var(v=0.1625, grad=0.0000), Var(v=-0.1058, grad=0.0000), Var(v=-0.0722, grad=0.0000), Var(v=0.2528, grad=-0.0357), Var(v=-0.0802, grad=0.0000), Var(v=0.0956, grad=0.0000), Var(v=0.0597, grad=0.3610), Var(v=0.0671, grad=-0.0360), Var(v=-0.0841, grad=0.0000), Var(v=-0.1310, grad=-0.0483), Var(v=0.0974, grad=-0.4589), Var(v=-0.0234, grad=0.0000), Var(v=-0.0579, grad=0.0000), Var(v=-0.0931, grad=0.0000), Var(v=-0.0783, grad=0.2941), Var(v=0.0973, grad=0.0000), Var(v=0.1397, grad=0.0000), Var(v=-0.1750, grad=0.0000), Var(v=-0.0723, grad=0.0000), Var(v=0.1620, grad=-0.2388), Var(v=-0.0200, grad=0.0913), Var(v=0.0257, grad=0.1634), Var(v=-0.0211, grad=0.3584), Var(v=0.0384, grad=0.0000), Var(v=0.0985, grad=-0.1399)], [Var(v=0.0676, grad=-0.0242), Var(v=-0.1111, grad=0.0000), Var(v=-0.0885, grad=0.0000), Var(v=-0.0549, grad=0.0000), Var(v=-0.0359, grad=0.0000), Var(v=0.1374, grad=-0.1411), Var(v=-0.0769, grad=0.0000), Var(v=-0.1256, grad=0.0331), Var(v=-0.0267, grad=-0.1345), Var(v=-0.1051, grad=0.0000), Var(v=-0.0182, grad=0.0000), Var(v=0.0981, grad=0.0123), Var(v=0.0551, grad=-0.0370), Var(v=0.1001, grad=0.0000), Var(v=-0.0761, grad=0.0000), Var(v=-0.2327, grad=-0.0483), Var(v=0.0322, grad=-0.0222), Var(v=0.0721, grad=0.0000), Var(v=-0.0382, grad=0.0235), Var(v=-0.0034, grad=0.0000), Var(v=-0.0778, grad=0.0000), Var(v=-0.1352, grad=0.0000), Var(v=-0.0128, grad=-0.0931), Var(v=0.0449, grad=0.0778), Var(v=-0.0361, grad=0.0000), Var(v=0.1519, grad=0.0000), Var(v=0.1159, grad=0.0000), Var(v=-0.0072, grad=0.0000), Var(v=-0.1878, grad=-0.0104), Var(v=-0.1459, grad=0.0000), Var(v=0.0663, grad=0.0000), Var(v=0.0186, grad=0.1047), Var(v=0.1037, grad=-0.0104), Var(v=0.0586, grad=0.0000), Var(v=0.2906, grad=-0.0140), Var(v=0.0672, grad=-0.1331), Var(v=0.0189, grad=0.0000), Var(v=0.1071, grad=0.0000), Var(v=0.0218, grad=0.0000), Var(v=-0.0423, grad=0.0853), Var(v=-0.0765, grad=0.0000), Var(v=-0.0807, grad=0.0000), Var(v=-0.0054, grad=0.0000), Var(v=0.1035, grad=0.0000), Var(v=-0.0362, grad=-0.0693), Var(v=-0.1275, grad=0.0265), Var(v=-0.0164, grad=0.0474), Var(v=0.1468, grad=0.1039), Var(v=-0.0697, grad=0.0000), Var(v=-0.0300, grad=-0.0406)], [Var(v=-0.0806, grad=-0.3006), Var(v=-0.0214, grad=0.0000), Var(v=-0.1360, grad=0.0000), Var(v=0.1583, grad=0.0000), Var(v=-0.0618, grad=0.0000), Var(v=-0.0047, grad=-1.7516), Var(v=-0.0682, grad=0.0000), Var(v=0.0121, grad=0.4113), Var(v=0.0037, grad=-1.6705), Var(v=-0.0587, grad=0.0000), Var(v=-0.1384, grad=0.0000), Var(v=0.0566, grad=0.1522), Var(v=0.0318, grad=-0.4600), Var(v=-0.0418, grad=0.0000), Var(v=0.0360, grad=0.0000), Var(v=0.0610, grad=-0.5998), Var(v=0.0026, grad=-0.2761), Var(v=0.0022, grad=0.0000), Var(v=0.1488, grad=0.2914), Var(v=-0.1206, grad=0.0000), Var(v=-0.0494, grad=0.0000), Var(v=-0.0458, grad=0.0000), Var(v=0.0328, grad=-1.1563), Var(v=-0.1299, grad=0.9657), Var(v=0.1424, grad=0.0000), Var(v=-0.1040, grad=0.0000), Var(v=-0.0916, grad=0.0000), Var(v=-0.1299, grad=0.0000), Var(v=-0.0199, grad=-0.1286), Var(v=-0.0362, grad=0.0000), Var(v=-0.0833, grad=0.0000), Var(v=0.0518, grad=1.2999), Var(v=0.0969, grad=-0.1297), Var(v=0.0509, grad=0.0000), Var(v=0.0627, grad=-0.1738), Var(v=0.2062, grad=-1.6525), Var(v=0.0017, grad=0.0000), Var(v=-0.1117, grad=0.0000), Var(v=-0.2394, grad=0.0000), Var(v=0.0502, grad=1.0591), Var(v=0.1081, grad=0.0000), Var(v=-0.2020, grad=0.0000), Var(v=-0.0903, grad=0.0000), Var(v=0.0227, grad=0.0000), Var(v=0.0791, grad=-0.8600), Var(v=0.0045, grad=0.3288), Var(v=0.1653, grad=0.5884), Var(v=0.0229, grad=1.2906), Var(v=-0.0703, grad=0.0000), Var(v=-0.0175, grad=-0.5036)], [Var(v=0.1077, grad=0.1583), Var(v=-0.1650, grad=-0.3686), Var(v=0.0207, grad=0.3777), Var(v=-0.0313, grad=0.2460), Var(v=0.0248, grad=0.0000), Var(v=0.1004, grad=0.9222), Var(v=0.0362, grad=-1.1007), Var(v=-0.1163, grad=0.0000), Var(v=-0.1572, grad=0.8795), Var(v=-0.1289, grad=0.0000), Var(v=-0.0971, grad=-0.5373), Var(v=0.0182, grad=0.0000), Var(v=-0.0458, grad=0.0000), Var(v=-0.1841, grad=0.0000), Var(v=-0.0308, grad=0.0000), Var(v=0.0002, grad=0.3158), Var(v=-0.0334, grad=0.0000), Var(v=0.0651, grad=0.0000), Var(v=0.0391, grad=0.0000), Var(v=0.0639, grad=-0.3150), Var(v=-0.0647, grad=0.0000), Var(v=-0.1526, grad=0.0000), Var(v=0.0712, grad=0.0000), Var(v=-0.0821, grad=-0.5084), Var(v=0.1065, grad=0.0000), Var(v=-0.0261, grad=-0.1646), Var(v=0.0579, grad=-0.3076), Var(v=0.0927, grad=-0.4522), Var(v=0.0451, grad=0.0000), Var(v=0.0825, grad=0.0000), Var(v=-0.0115, grad=-0.6270), Var(v=0.0978, grad=-0.6844), Var(v=-0.0233, grad=0.0683), Var(v=-0.0133, grad=0.0000), Var(v=0.0604, grad=0.0915), Var(v=-0.1979, grad=0.8700), Var(v=-0.2472, grad=0.0000), Var(v=-0.1374, grad=1.3173), Var(v=-0.0742, grad=0.0000), Var(v=0.1459, grad=-0.5576), Var(v=-0.0657, grad=0.0000), Var(v=-0.0468, grad=-0.0365), Var(v=-0.0223, grad=0.0000), Var(v=0.0151, grad=0.0000), Var(v=0.0227, grad=0.4527), Var(v=-0.0045, grad=-0.1731), Var(v=-0.0171, grad=-0.3098), Var(v=0.2213, grad=-0.6795), Var(v=-0.0094, grad=-0.0099), Var(v=-0.0221, grad=0.2651)], [Var(v=0.1169, grad=0.2858), Var(v=0.1415, grad=-0.6656), Var(v=0.0391, grad=0.6820), Var(v=0.1241, grad=0.4442), Var(v=-0.0812, grad=0.0000), Var(v=0.0831, grad=1.6652), Var(v=-0.0600, grad=-1.9876), Var(v=0.1905, grad=0.0000), Var(v=0.0563, grad=1.5881), Var(v=0.0015, grad=0.0000), Var(v=-0.0601, grad=-0.9702), Var(v=-0.0509, grad=0.0000), Var(v=-0.0399, grad=0.0000), Var(v=-0.1120, grad=0.0000), Var(v=-0.1441, grad=0.0000), Var(v=-0.0181, grad=0.5702), Var(v=-0.0510, grad=0.0000), Var(v=-0.1634, grad=0.0000), Var(v=-0.0509, grad=0.0000), Var(v=0.0092, grad=-0.5688), Var(v=0.0240, grad=0.0000), Var(v=-0.0022, grad=0.0000), Var(v=-0.0530, grad=0.0000), Var(v=0.0803, grad=-0.9181), Var(v=-0.1382, grad=0.0000), Var(v=0.0191, grad=-0.2972), Var(v=0.0939, grad=-0.5555), Var(v=-0.0371, grad=-0.8166), Var(v=-0.0037, grad=0.0000), Var(v=-0.0844, grad=0.0000), Var(v=0.1200, grad=-1.1323), Var(v=-0.1637, grad=-1.2358), Var(v=0.0985, grad=0.1233), Var(v=0.1033, grad=0.0000), Var(v=0.1776, grad=0.1652), Var(v=-0.0982, grad=1.5710), Var(v=0.2131, grad=0.0000), Var(v=0.0437, grad=2.3786), Var(v=-0.0647, grad=0.0000), Var(v=0.0641, grad=-1.0068), Var(v=0.0044, grad=0.0000), Var(v=0.1939, grad=-0.0658), Var(v=-0.0078, grad=0.0000), Var(v=-0.1106, grad=0.0000), Var(v=0.0244, grad=0.8175), Var(v=0.1192, grad=-0.3125), Var(v=-0.0234, grad=-0.5593), Var(v=0.2013, grad=-1.2269), Var(v=0.0029, grad=-0.0179), Var(v=0.0827, grad=0.4787)], [Var(v=-0.0766, grad=0.0647), Var(v=-0.0060, grad=-0.1506), Var(v=0.1090, grad=0.1544), Var(v=-0.0346, grad=0.1005), Var(v=0.0216, grad=0.0000), Var(v=0.1109, grad=0.3769), Var(v=0.0906, grad=-0.4499), Var(v=0.1045, grad=0.0000), Var(v=0.0849, grad=0.3594), Var(v=-0.0064, grad=0.0000), Var(v=0.0639, grad=-0.2196), Var(v=-0.1070, grad=0.0000), Var(v=0.1458, grad=0.0000), Var(v=0.0159, grad=0.0000), Var(v=0.0746, grad=0.0000), Var(v=-0.0602, grad=0.1291), Var(v=0.1271, grad=0.0000), Var(v=0.0182, grad=0.0000), Var(v=-0.0449, grad=0.0000), Var(v=0.0814, grad=-0.1287), Var(v=0.0085, grad=0.0000), Var(v=-0.0313, grad=0.0000), Var(v=-0.0481, grad=0.0000), Var(v=-0.1895, grad=-0.2078), Var(v=-0.0847, grad=0.0000), Var(v=0.0535, grad=-0.0673), Var(v=-0.0452, grad=-0.1257), Var(v=0.1459, grad=-0.1848), Var(v=0.0491, grad=0.0000), Var(v=-0.1025, grad=0.0000), Var(v=0.0874, grad=-0.2563), Var(v=0.1128, grad=-0.2797), Var(v=-0.1252, grad=0.0279), Var(v=0.0693, grad=0.0000), Var(v=-0.1169, grad=0.0374), Var(v=0.0513, grad=0.3556), Var(v=-0.1101, grad=0.0000), Var(v=-0.1668, grad=0.5384), Var(v=-0.2142, grad=0.0000), Var(v=0.0562, grad=-0.2279), Var(v=-0.0225, grad=0.0000), Var(v=-0.0589, grad=-0.0149), Var(v=0.1535, grad=0.0000), Var(v=0.1027, grad=0.0000), Var(v=0.0622, grad=0.1850), Var(v=0.0607, grad=-0.0707), Var(v=0.0794, grad=-0.1266), Var(v=-0.0221, grad=-0.2777), Var(v=-0.0567, grad=-0.0041), Var(v=-0.0852, grad=0.1084)], [Var(v=0.0416, grad=0.2057), Var(v=0.0015, grad=-0.4791), Var(v=-0.0037, grad=0.4909), Var(v=0.0404, grad=0.3198), Var(v=0.0070, grad=0.0000), Var(v=0.0841, grad=1.1987), Var(v=0.1363, grad=-1.4308), Var(v=-0.0965, grad=0.0000), Var(v=0.1132, grad=1.1432), Var(v=0.0670, grad=0.0000), Var(v=-0.1020, grad=-0.6984), Var(v=0.2652, grad=0.0000), Var(v=-0.0303, grad=0.0000), Var(v=-0.1600, grad=0.0000), Var(v=0.0337, grad=0.0000), Var(v=0.1213, grad=0.4105), Var(v=0.0046, grad=0.0000), Var(v=-0.0923, grad=0.0000), Var(v=0.0749, grad=0.0000), Var(v=-0.0612, grad=-0.4094), Var(v=-0.0738, grad=0.0000), Var(v=-0.0346, grad=0.0000), Var(v=-0.0452, grad=0.0000), Var(v=0.0089, grad=-0.6609), Var(v=-0.1595, grad=0.0000), Var(v=0.0669, grad=-0.2139), Var(v=-0.0326, grad=-0.3999), Var(v=0.0631, grad=-0.5878), Var(v=-0.0089, grad=0.0000), Var(v=-0.0287, grad=0.0000), Var(v=0.0414, grad=-0.8151), Var(v=0.0921, grad=-0.8896), Var(v=-0.0499, grad=0.0888), Var(v=-0.1842, grad=0.0000), Var(v=0.0174, grad=0.1189), Var(v=0.0653, grad=1.1309), Var(v=0.0070, grad=0.0000), Var(v=-0.0470, grad=1.7123), Var(v=-0.1138, grad=0.0000), Var(v=0.0452, grad=-0.7248), Var(v=-0.2218, grad=0.0000), Var(v=-0.0098, grad=-0.0474), Var(v=0.0275, grad=0.0000), Var(v=0.1331, grad=0.0000), Var(v=-0.0486, grad=0.5885), Var(v=-0.0724, grad=-0.2250), Var(v=0.0581, grad=-0.4026), Var(v=0.1581, grad=-0.8832), Var(v=-0.0486, grad=-0.0129), Var(v=-0.0549, grad=0.3446)], [Var(v=0.1147, grad=0.2050), Var(v=0.0605, grad=-0.4775), Var(v=0.1119, grad=0.4892), Var(v=-0.0803, grad=0.3187), Var(v=-0.1063, grad=0.0000), Var(v=-0.0623, grad=1.1946), Var(v=-0.0122, grad=-1.4259), Var(v=0.0398, grad=0.0000), Var(v=-0.1108, grad=1.1393), Var(v=-0.0022, grad=0.0000), Var(v=0.1652, grad=-0.6960), Var(v=0.0168, grad=0.0000), Var(v=0.0250, grad=0.0000), Var(v=0.0526, grad=0.0000), Var(v=0.0340, grad=0.0000), Var(v=-0.0346, grad=0.4091), Var(v=-0.1268, grad=0.0000), Var(v=0.0024, grad=0.0000), Var(v=-0.1403, grad=0.0000), Var(v=-0.0894, grad=-0.4080), Var(v=0.0849, grad=0.0000), Var(v=0.0012, grad=0.0000), Var(v=0.0569, grad=0.0000), Var(v=0.0524, grad=-0.6586), Var(v=-0.0440, grad=0.0000), Var(v=0.0366, grad=-0.2132), Var(v=0.1885, grad=-0.3985), Var(v=0.0062, grad=-0.5858), Var(v=0.0642, grad=0.0000), Var(v=-0.1009, grad=0.0000), Var(v=0.1176, grad=-0.8123), Var(v=0.1183, grad=-0.8866), Var(v=0.0209, grad=0.0885), Var(v=0.0628, grad=0.0000), Var(v=0.0368, grad=0.1185), Var(v=0.0321, grad=1.1270), Var(v=-0.0629, grad=0.0000), Var(v=-0.0739, grad=1.7064), Var(v=-0.0167, grad=0.0000), Var(v=-0.0241, grad=-0.7223), Var(v=-0.1795, grad=0.0000), Var(v=-0.2183, grad=-0.0472), Var(v=-0.0204, grad=0.0000), Var(v=-0.2010, grad=0.0000), Var(v=0.1412, grad=0.5865), Var(v=0.1666, grad=-0.2242), Var(v=0.0440, grad=-0.4013), Var(v=-0.1591, grad=-0.8802), Var(v=0.0598, grad=-0.0129), Var(v=-0.1696, grad=0.3434)], [Var(v=0.0272, grad=0.4768), Var(v=0.0856, grad=-1.1105), Var(v=0.0855, grad=1.1378), Var(v=0.0122, grad=0.7411), Var(v=-0.0956, grad=0.0000), Var(v=0.0392, grad=2.7783), Var(v=0.0681, grad=-3.3163), Var(v=-0.0438, grad=0.0000), Var(v=0.0924, grad=2.6496), Var(v=-0.1096, grad=0.0000), Var(v=-0.0508, grad=-1.6187), Var(v=-0.1504, grad=0.0000), Var(v=-0.2555, grad=0.0000), Var(v=0.0402, grad=0.0000), Var(v=-0.0944, grad=0.0000), Var(v=0.0753, grad=0.9514), Var(v=-0.0191, grad=0.0000), Var(v=0.0422, grad=0.0000), Var(v=0.0096, grad=0.0000), Var(v=0.1954, grad=-0.9490), Var(v=-0.1152, grad=0.0000), Var(v=0.0114, grad=0.0000), Var(v=0.0350, grad=0.0000), Var(v=-0.1259, grad=-1.5318), Var(v=-0.1330, grad=0.0000), Var(v=-0.0718, grad=-0.4959), Var(v=0.0931, grad=-0.9268), Var(v=0.0330, grad=-1.3625), Var(v=0.0183, grad=0.0000), Var(v=0.0413, grad=0.0000), Var(v=0.1336, grad=-1.8892), Var(v=-0.0105, grad=-2.0619), Var(v=0.1168, grad=0.2058), Var(v=-0.0290, grad=0.0000), Var(v=0.1305, grad=0.2756), Var(v=0.1792, grad=2.6211), Var(v=-0.1481, grad=0.0000), Var(v=0.0980, grad=3.9687), Var(v=0.0524, grad=0.0000), Var(v=-0.1069, grad=-1.6798), Var(v=0.0281, grad=0.0000), Var(v=0.0606, grad=-0.1098), Var(v=-0.1038, grad=0.0000), Var(v=-0.1044, grad=0.0000), Var(v=-0.0035, grad=1.3640), Var(v=0.0223, grad=-0.5215), Var(v=0.0991, grad=-0.9332), Var(v=-0.1270, grad=-2.0471), Var(v=-0.0048, grad=-0.0299), Var(v=0.1481, grad=0.7987)], [Var(v=-0.1372, grad=0.2247), Var(v=0.0630, grad=-0.5234), Var(v=-0.0098, grad=0.5363), Var(v=0.0718, grad=0.3493), Var(v=0.0264, grad=0.0000), Var(v=0.0274, grad=1.3095), Var(v=0.0528, grad=-1.5631), Var(v=-0.1710, grad=0.0000), Var(v=0.0230, grad=1.2488), Var(v=0.2051, grad=0.0000), Var(v=0.1180, grad=-0.7629), Var(v=0.0829, grad=0.0000), Var(v=-0.0127, grad=0.0000), Var(v=0.0055, grad=0.0000), Var(v=-0.0485, grad=0.0000), Var(v=0.0571, grad=0.4484), Var(v=-0.0885, grad=0.0000), Var(v=0.1506, grad=0.0000), Var(v=0.0030, grad=0.0000), Var(v=0.0494, grad=-0.4473), Var(v=-0.0319, grad=0.0000), Var(v=0.0728, grad=0.0000), Var(v=-0.0476, grad=0.0000), Var(v=0.3303, grad=-0.7220), Var(v=0.0802, grad=0.0000), Var(v=0.1436, grad=-0.2337), Var(v=-0.0410, grad=-0.4368), Var(v=-0.0783, grad=-0.6422), Var(v=-0.1499, grad=0.0000), Var(v=-0.0934, grad=0.0000), Var(v=0.0753, grad=-0.8904), Var(v=0.0143, grad=-0.9718), Var(v=0.1343, grad=0.0970), Var(v=-0.0155, grad=0.0000), Var(v=-0.1649, grad=0.1299), Var(v=-0.0417, grad=1.2354), Var(v=0.1235, grad=0.0000), Var(v=-0.0194, grad=1.8706), Var(v=0.1261, grad=0.0000), Var(v=0.0105, grad=-0.7918), Var(v=0.0048, grad=0.0000), Var(v=-0.0583, grad=-0.0518), Var(v=-0.0776, grad=0.0000), Var(v=0.1760, grad=0.0000), Var(v=-0.0916, grad=0.6429), Var(v=0.0618, grad=-0.2458), Var(v=0.2519, grad=-0.4399), Var(v=-0.0194, grad=-0.9649), Var(v=0.0662, grad=-0.0141), Var(v=0.0297, grad=0.3765)], [Var(v=0.1629, grad=-0.2989), Var(v=0.0293, grad=0.0000), Var(v=0.0401, grad=0.0000), Var(v=-0.2359, grad=0.0000), Var(v=-0.0612, grad=0.0000), Var(v=0.1891, grad=-1.7419), Var(v=-0.1534, grad=0.0000), Var(v=0.0171, grad=0.4090), Var(v=0.0232, grad=-1.6612), Var(v=-0.1340, grad=0.0000), Var(v=0.0635, grad=0.0000), Var(v=-0.0441, grad=0.1514), Var(v=0.0871, grad=-0.4574), Var(v=-0.0035, grad=0.0000), Var(v=-0.1769, grad=0.0000), Var(v=-0.0198, grad=-0.5965), Var(v=0.0836, grad=-0.2745), Var(v=-0.0002, grad=0.0000), Var(v=0.1467, grad=0.2898), Var(v=-0.0882, grad=0.0000), Var(v=-0.0744, grad=0.0000), Var(v=-0.0406, grad=0.0000), Var(v=0.1908, grad=-1.1499), Var(v=0.1451, grad=0.9603), Var(v=-0.2074, grad=0.0000), Var(v=0.0363, grad=0.0000), Var(v=-0.0380, grad=0.0000), Var(v=-0.0220, grad=0.0000), Var(v=0.0936, grad=-0.1279), Var(v=-0.0297, grad=0.0000), Var(v=-0.1777, grad=0.0000), Var(v=0.0028, grad=1.2927), Var(v=0.0517, grad=-0.1290), Var(v=-0.0653, grad=0.0000), Var(v=0.1471, grad=-0.1728), Var(v=-0.0847, grad=-1.6433), Var(v=0.0060, grad=0.0000), Var(v=-0.0106, grad=0.0000), Var(v=0.1054, grad=0.0000), Var(v=0.1582, grad=1.0532), Var(v=-0.2176, grad=0.0000), Var(v=0.0413, grad=0.0000), Var(v=-0.1435, grad=0.0000), Var(v=-0.0754, grad=0.0000), Var(v=-0.0054, grad=-0.8552), Var(v=0.0947, grad=0.3269), Var(v=0.0932, grad=0.5851), Var(v=0.0644, grad=1.2834), Var(v=-0.0374, grad=0.0000), Var(v=0.0085, grad=-0.5008)], [Var(v=0.0856, grad=0.0024), Var(v=0.0248, grad=-0.0056), Var(v=-0.1879, grad=0.0058), Var(v=0.1029, grad=0.0038), Var(v=0.0919, grad=0.0000), Var(v=0.0917, grad=0.0141), Var(v=0.1448, grad=-0.0168), Var(v=0.1129, grad=0.0000), Var(v=0.1504, grad=0.0134), Var(v=-0.0489, grad=0.0000), Var(v=0.0678, grad=-0.0082), Var(v=-0.0069, grad=0.0000), Var(v=-0.0877, grad=0.0000), Var(v=-0.1083, grad=0.0000), Var(v=-0.0020, grad=0.0000), Var(v=0.0155, grad=0.0048), Var(v=0.0805, grad=0.0000), Var(v=0.0901, grad=0.0000), Var(v=-0.0092, grad=0.0000), Var(v=0.2021, grad=-0.0048), Var(v=-0.0734, grad=0.0000), Var(v=-0.0010, grad=0.0000), Var(v=0.0256, grad=0.0000), Var(v=0.0066, grad=-0.0078), Var(v=0.1607, grad=0.0000), Var(v=0.0238, grad=-0.0025), Var(v=-0.2241, grad=-0.0047), Var(v=-0.0550, grad=-0.0069), Var(v=0.0689, grad=0.0000), Var(v=-0.0694, grad=0.0000), Var(v=0.0995, grad=-0.0096), Var(v=-0.0611, grad=-0.0104), Var(v=0.0556, grad=0.0010), Var(v=-0.1233, grad=0.0000), Var(v=-0.0034, grad=0.0014), Var(v=0.0178, grad=0.0133), Var(v=-0.0725, grad=0.0000), Var(v=0.0317, grad=0.0201), Var(v=0.1507, grad=0.0000), Var(v=0.0355, grad=-0.0085), Var(v=-0.0932, grad=0.0000), Var(v=-0.0583, grad=-0.0006), Var(v=-0.1348, grad=0.0000), Var(v=-0.0759, grad=0.0000), Var(v=0.0608, grad=0.0069), Var(v=0.0152, grad=-0.0026), Var(v=0.1039, grad=-0.0047), Var(v=0.1236, grad=-0.0104), Var(v=0.0612, grad=-0.0002), Var(v=-0.0402, grad=0.0040)], [Var(v=-0.0043, grad=-0.1549), Var(v=-0.0887, grad=0.0000), Var(v=0.0046, grad=0.0000), Var(v=0.0104, grad=0.0000), Var(v=-0.1085, grad=0.0000), Var(v=-0.0125, grad=-0.9026), Var(v=-0.0960, grad=0.0000), Var(v=-0.0046, grad=0.2119), Var(v=0.1021, grad=-0.8608), Var(v=0.1655, grad=0.0000), Var(v=-0.0746, grad=0.0000), Var(v=0.0741, grad=0.0784), Var(v=0.0943, grad=-0.2370), Var(v=-0.1892, grad=0.0000), Var(v=0.0310, grad=0.0000), Var(v=-0.0213, grad=-0.3091), Var(v=0.0844, grad=-0.1423), Var(v=-0.0225, grad=0.0000), Var(v=0.0271, grad=0.1501), Var(v=-0.0316, grad=0.0000), Var(v=0.0110, grad=0.0000), Var(v=0.1252, grad=0.0000), Var(v=-0.0530, grad=-0.5959), Var(v=0.0123, grad=0.4976), Var(v=0.0335, grad=0.0000), Var(v=-0.0662, grad=0.0000), Var(v=-0.0812, grad=0.0000), Var(v=-0.0920, grad=0.0000), Var(v=-0.0640, grad=-0.0663), Var(v=0.0720, grad=0.0000), Var(v=0.0958, grad=0.0000), Var(v=0.0447, grad=0.6699), Var(v=0.0496, grad=-0.0669), Var(v=-0.1068, grad=0.0000), Var(v=-0.1616, grad=-0.0895), Var(v=0.1548, grad=-0.8515), Var(v=-0.1337, grad=0.0000), Var(v=-0.1784, grad=0.0000), Var(v=-0.0827, grad=0.0000), Var(v=-0.0730, grad=0.5457), Var(v=0.0414, grad=0.0000), Var(v=0.0625, grad=0.0000), Var(v=-0.0544, grad=0.0000), Var(v=-0.1551, grad=0.0000), Var(v=-0.0934, grad=-0.4431), Var(v=-0.1132, grad=0.1694), Var(v=0.0162, grad=0.3032), Var(v=0.0708, grad=0.6651), Var(v=0.0093, grad=0.0000), Var(v=-0.0151, grad=-0.2595)], [Var(v=-0.1442, grad=0.0037), Var(v=-0.0085, grad=-0.0086), Var(v=0.0616, grad=0.0088), Var(v=0.0511, grad=0.0057), Var(v=-0.0252, grad=0.0000), Var(v=0.1351, grad=0.0215), Var(v=-0.1817, grad=-0.0256), Var(v=0.0773, grad=0.0000), Var(v=-0.0775, grad=0.0205), Var(v=0.0179, grad=0.0000), Var(v=-0.1031, grad=-0.0125), Var(v=0.1922, grad=0.0000), Var(v=0.0916, grad=0.0000), Var(v=0.0438, grad=0.0000), Var(v=-0.2103, grad=0.0000), Var(v=0.0681, grad=0.0073), Var(v=0.0894, grad=0.0000), Var(v=0.0932, grad=0.0000), Var(v=-0.0885, grad=0.0000), Var(v=-0.0386, grad=-0.0073), Var(v=-0.0504, grad=0.0000), Var(v=0.1099, grad=0.0000), Var(v=0.0511, grad=0.0000), Var(v=0.0473, grad=-0.0118), Var(v=0.0257, grad=0.0000), Var(v=-0.0568, grad=-0.0038), Var(v=0.0053, grad=-0.0072), Var(v=-0.0640, grad=-0.0105), Var(v=-0.2315, grad=0.0000), Var(v=0.2141, grad=0.0000), Var(v=-0.1755, grad=-0.0146), Var(v=-0.0448, grad=-0.0159), Var(v=-0.0869, grad=0.0016), Var(v=-0.0541, grad=0.0000), Var(v=0.0064, grad=0.0021), Var(v=0.0045, grad=0.0202), Var(v=0.0537, grad=0.0000), Var(v=0.1196, grad=0.0307), Var(v=-0.0627, grad=0.0000), Var(v=-0.2040, grad=-0.0130), Var(v=0.0612, grad=0.0000), Var(v=0.0496, grad=-0.0008), Var(v=-0.1758, grad=0.0000), Var(v=-0.0410, grad=0.0000), Var(v=-0.0036, grad=0.0105), Var(v=0.1448, grad=-0.0040), Var(v=-0.1003, grad=-0.0072), Var(v=0.0888, grad=-0.0158), Var(v=0.1421, grad=-0.0002), Var(v=-0.1417, grad=0.0062)], [Var(v=-0.0334, grad=0.0968), Var(v=0.0270, grad=-0.2255), Var(v=0.1462, grad=0.2310), Var(v=0.0053, grad=0.1505), Var(v=0.0116, grad=0.0000), Var(v=-0.1051, grad=0.5641), Var(v=0.0301, grad=-0.6733), Var(v=-0.0324, grad=0.0000), Var(v=-0.0020, grad=0.5379), Var(v=-0.0867, grad=0.0000), Var(v=0.1998, grad=-0.3286), Var(v=0.1091, grad=0.0000), Var(v=0.0126, grad=0.0000), Var(v=-0.0555, grad=0.0000), Var(v=-0.0277, grad=0.0000), Var(v=0.1193, grad=0.1932), Var(v=-0.0757, grad=0.0000), Var(v=-0.1403, grad=0.0000), Var(v=0.0205, grad=0.0000), Var(v=-0.0111, grad=-0.1927), Var(v=0.0285, grad=0.0000), Var(v=-0.0325, grad=0.0000), Var(v=-0.0852, grad=0.0000), Var(v=0.1033, grad=-0.3110), Var(v=0.0862, grad=0.0000), Var(v=-0.0380, grad=-0.1007), Var(v=-0.0440, grad=-0.1882), Var(v=-0.0133, grad=-0.2766), Var(v=-0.0352, grad=0.0000), Var(v=0.0441, grad=0.0000), Var(v=0.0170, grad=-0.3835), Var(v=0.0789, grad=-0.4186), Var(v=0.0574, grad=0.0418), Var(v=0.0545, grad=0.0000), Var(v=0.0106, grad=0.0560), Var(v=-0.0294, grad=0.5321), Var(v=-0.0389, grad=0.0000), Var(v=0.1094, grad=0.8057), Var(v=0.1142, grad=0.0000), Var(v=0.0285, grad=-0.3410), Var(v=-0.0152, grad=0.0000), Var(v=-0.0510, grad=-0.0223), Var(v=0.0927, grad=0.0000), Var(v=0.0938, grad=0.0000), Var(v=-0.0316, grad=0.2769), Var(v=0.1158, grad=-0.1059), Var(v=-0.0444, grad=-0.1895), Var(v=0.0741, grad=-0.4156), Var(v=-0.0391, grad=-0.0061), Var(v=0.0538, grad=0.1622)]] Biases: [Var(v=0.0000, grad=-0.0070), Var(v=0.0000, grad=-6.1684), Var(v=0.0000, grad=6.3201), Var(v=0.0000, grad=4.1166), Var(v=0.0000, grad=0.0000), Var(v=0.0000, grad=-0.0408), Var(v=0.0000, grad=-18.4206), Var(v=0.0000, grad=3.6329), Var(v=0.0000, grad=-0.0389), Var(v=0.0000, grad=0.0000), Var(v=0.0000, grad=-8.9910), Var(v=0.0000, grad=1.3447), Var(v=0.0000, grad=-4.0632), Var(v=0.0000, grad=0.0000), Var(v=0.0000, grad=0.0000), Var(v=0.0000, grad=-0.0140), Var(v=0.0000, grad=-2.4386), Var(v=0.0000, grad=0.0000), Var(v=0.0000, grad=2.5739), Var(v=0.0000, grad=-5.2711), Var(v=0.0000, grad=0.0000), Var(v=0.0000, grad=0.0000), Var(v=0.0000, grad=-10.2145), Var(v=0.0000, grad=0.0225), Var(v=0.0000, grad=0.0000), Var(v=0.0000, grad=-2.7543), Var(v=0.0000, grad=-5.1481), Var(v=0.0000, grad=-7.5680), Var(v=0.0000, grad=-1.1361), Var(v=0.0000, grad=0.0000), Var(v=0.0000, grad=-10.4934), Var(v=0.0000, grad=0.0302), Var(v=0.0000, grad=-0.0030), Var(v=0.0000, grad=0.0000), Var(v=0.0000, grad=-0.0040), Var(v=0.0000, grad=-0.0385), Var(v=0.0000, grad=0.0000), Var(v=0.0000, grad=22.0440), Var(v=0.0000, grad=0.0000), Var(v=0.0000, grad=0.0246), Var(v=0.0000, grad=0.0000), Var(v=0.0000, grad=-0.6101), Var(v=0.0000, grad=0.0000), Var(v=0.0000, grad=0.0000), Var(v=0.0000, grad=-0.0200), Var(v=0.0000, grad=0.0076), Var(v=0.0000, grad=0.0137), Var(v=0.0000, grad=0.0300), Var(v=0.0000, grad=-0.1662), Var(v=0.0000, grad=-0.0117)]\n",
            "Layer 2 \n",
            " Weights: [[Var(v=0.0306, grad=1.1091)], [Var(v=-0.0713, grad=2.7504)], [Var(v=0.0731, grad=3.1399)], [Var(v=0.0476, grad=1.4039)], [Var(v=0.0060, grad=0.0000)], [Var(v=0.1785, grad=0.1147)], [Var(v=-0.2131, grad=2.1854)], [Var(v=-0.0419, grad=-0.3967)], [Var(v=0.1702, grad=0.7581)], [Var(v=-0.0294, grad=0.0000)], [Var(v=-0.1040, grad=0.1930)], [Var(v=-0.0155, grad=-0.4635)], [Var(v=0.0469, grad=-1.4799)], [Var(v=0.0524, grad=0.0000)], [Var(v=-0.0334, grad=0.0000)], [Var(v=0.0611, grad=2.1831)], [Var(v=0.0281, grad=-1.5177)], [Var(v=-0.0804, grad=0.0000)], [Var(v=-0.0297, grad=-2.9921)], [Var(v=-0.0610, grad=2.9585)], [Var(v=0.0096, grad=0.0000)], [Var(v=0.0075, grad=0.0000)], [Var(v=0.1178, grad=-2.0404)], [Var(v=-0.0984, grad=0.8578)], [Var(v=-0.0419, grad=0.0000)], [Var(v=-0.0319, grad=0.6599)], [Var(v=-0.0595, grad=3.1142)], [Var(v=-0.0875, grad=0.7921)], [Var(v=0.0131, grad=-0.9357)], [Var(v=0.0558, grad=0.0000)], [Var(v=-0.1214, grad=4.9822)], [Var(v=-0.1325, grad=-0.1320)], [Var(v=0.0132, grad=1.3479)], [Var(v=0.0263, grad=0.0000)], [Var(v=0.0177, grad=1.8342)], [Var(v=0.1684, grad=-1.0816)], [Var(v=-0.0298, grad=0.0000)], [Var(v=0.2550, grad=0.2801)], [Var(v=0.0243, grad=0.0000)], [Var(v=-0.1079, grad=-1.3258)], [Var(v=-0.0209, grad=0.0000)], [Var(v=-0.0071, grad=0.2720)], [Var(v=-0.0406, grad=0.0000)], [Var(v=0.0532, grad=0.0000)], [Var(v=0.0876, grad=-0.3907)], [Var(v=-0.0335, grad=2.7892)], [Var(v=-0.0600, grad=1.1218)], [Var(v=-0.1315, grad=-0.1610)], [Var(v=-0.0019, grad=0.2415)], [Var(v=0.0513, grad=1.5678)]] Biases: [Var(v=0.0000, grad=-0.2283)]\n",
            "\n",
            "Network after update:\n",
            "Layer 0 \n",
            " Weights: [[Var(v=0.0803, grad=-5.3320), Var(v=0.0169, grad=-0.9050), Var(v=0.1285, grad=-3.1266), Var(v=-0.1680, grad=11.3716), Var(v=-0.0901, grad=-0.7954), Var(v=-0.0798, grad=5.7626), Var(v=-0.0982, grad=2.7569), Var(v=-0.1444, grad=7.4011), Var(v=-0.0812, grad=-8.2387), Var(v=-0.1667, grad=8.9566), Var(v=0.1041, grad=-0.7338), Var(v=-0.0142, grad=1.3349), Var(v=0.0711, grad=-2.1023), Var(v=0.1254, grad=-12.6701), Var(v=-0.0692, grad=3.5947)]] Biases: [Var(v=0.0458, grad=-4.5807), Var(v=0.0078, grad=-0.7775), Var(v=0.0269, grad=-2.6861), Var(v=0.1033, grad=-10.3345), Var(v=-0.0072, grad=0.7229), Var(v=0.0524, grad=-5.2371), Var(v=0.0251, grad=-2.5055), Var(v=0.0673, grad=-6.7262), Var(v=-0.0749, grad=7.4874), Var(v=0.0814, grad=-8.1398), Var(v=0.0063, grad=-0.6304), Var(v=0.0121, grad=-1.2132), Var(v=0.0181, grad=-1.8061), Var(v=-0.1151, grad=11.5147), Var(v=0.0327, grad=-3.2669)]\n",
            "Layer 1 \n",
            " Weights: [[Var(v=-0.0382, grad=-0.0835), Var(v=-0.0476, grad=0.0000), Var(v=0.0922, grad=0.0000), Var(v=-0.0844, grad=0.0000), Var(v=-0.0332, grad=0.0000), Var(v=0.0852, grad=-0.4865), Var(v=-0.0124, grad=0.0000), Var(v=0.0842, grad=0.1142), Var(v=0.0041, grad=-0.4639), Var(v=-0.0230, grad=0.0000), Var(v=0.1281, grad=0.0000), Var(v=-0.0422, grad=0.0423), Var(v=-0.0733, grad=-0.1277), Var(v=-0.0646, grad=0.0000), Var(v=-0.0117, grad=0.0000), Var(v=-0.0101, grad=-0.1666), Var(v=0.0831, grad=-0.0767), Var(v=-0.2360, grad=0.0000), Var(v=-0.0033, grad=0.0809), Var(v=-0.1359, grad=0.0000), Var(v=-0.0100, grad=0.0000), Var(v=0.1033, grad=0.0000), Var(v=0.0525, grad=-0.3211), Var(v=0.0100, grad=0.2682), Var(v=-0.0448, grad=0.0000), Var(v=0.1625, grad=0.0000), Var(v=-0.1058, grad=0.0000), Var(v=-0.0722, grad=0.0000), Var(v=0.2531, grad=-0.0357), Var(v=-0.0802, grad=0.0000), Var(v=0.0956, grad=0.0000), Var(v=0.0561, grad=0.3610), Var(v=0.0675, grad=-0.0360), Var(v=-0.0841, grad=0.0000), Var(v=-0.1306, grad=-0.0483), Var(v=0.1020, grad=-0.4589), Var(v=-0.0234, grad=0.0000), Var(v=-0.0579, grad=0.0000), Var(v=-0.0931, grad=0.0000), Var(v=-0.0813, grad=0.2941), Var(v=0.0973, grad=0.0000), Var(v=0.1397, grad=0.0000), Var(v=-0.1750, grad=0.0000), Var(v=-0.0723, grad=0.0000), Var(v=0.1644, grad=-0.2388), Var(v=-0.0209, grad=0.0913), Var(v=0.0240, grad=0.1634), Var(v=-0.0247, grad=0.3584), Var(v=0.0384, grad=0.0000), Var(v=0.0999, grad=-0.1399)], [Var(v=0.0679, grad=-0.0242), Var(v=-0.1111, grad=0.0000), Var(v=-0.0885, grad=0.0000), Var(v=-0.0549, grad=0.0000), Var(v=-0.0359, grad=0.0000), Var(v=0.1388, grad=-0.1411), Var(v=-0.0769, grad=0.0000), Var(v=-0.1260, grad=0.0331), Var(v=-0.0253, grad=-0.1345), Var(v=-0.1051, grad=0.0000), Var(v=-0.0182, grad=0.0000), Var(v=0.0980, grad=0.0123), Var(v=0.0555, grad=-0.0370), Var(v=0.1001, grad=0.0000), Var(v=-0.0761, grad=0.0000), Var(v=-0.2323, grad=-0.0483), Var(v=0.0324, grad=-0.0222), Var(v=0.0721, grad=0.0000), Var(v=-0.0384, grad=0.0235), Var(v=-0.0034, grad=0.0000), Var(v=-0.0778, grad=0.0000), Var(v=-0.1352, grad=0.0000), Var(v=-0.0119, grad=-0.0931), Var(v=0.0441, grad=0.0778), Var(v=-0.0361, grad=0.0000), Var(v=0.1519, grad=0.0000), Var(v=0.1159, grad=0.0000), Var(v=-0.0072, grad=0.0000), Var(v=-0.1877, grad=-0.0104), Var(v=-0.1459, grad=0.0000), Var(v=0.0663, grad=0.0000), Var(v=0.0175, grad=0.1047), Var(v=0.1038, grad=-0.0104), Var(v=0.0586, grad=0.0000), Var(v=0.2907, grad=-0.0140), Var(v=0.0685, grad=-0.1331), Var(v=0.0189, grad=0.0000), Var(v=0.1071, grad=0.0000), Var(v=0.0218, grad=0.0000), Var(v=-0.0431, grad=0.0853), Var(v=-0.0765, grad=0.0000), Var(v=-0.0807, grad=0.0000), Var(v=-0.0054, grad=0.0000), Var(v=0.1035, grad=0.0000), Var(v=-0.0356, grad=-0.0693), Var(v=-0.1277, grad=0.0265), Var(v=-0.0169, grad=0.0474), Var(v=0.1458, grad=0.1039), Var(v=-0.0697, grad=0.0000), Var(v=-0.0296, grad=-0.0406)], [Var(v=-0.0776, grad=-0.3006), Var(v=-0.0214, grad=0.0000), Var(v=-0.1360, grad=0.0000), Var(v=0.1583, grad=0.0000), Var(v=-0.0618, grad=0.0000), Var(v=0.0128, grad=-1.7516), Var(v=-0.0682, grad=0.0000), Var(v=0.0080, grad=0.4113), Var(v=0.0204, grad=-1.6705), Var(v=-0.0587, grad=0.0000), Var(v=-0.1384, grad=0.0000), Var(v=0.0551, grad=0.1522), Var(v=0.0364, grad=-0.4600), Var(v=-0.0418, grad=0.0000), Var(v=0.0360, grad=0.0000), Var(v=0.0670, grad=-0.5998), Var(v=0.0053, grad=-0.2761), Var(v=0.0022, grad=0.0000), Var(v=0.1459, grad=0.2914), Var(v=-0.1206, grad=0.0000), Var(v=-0.0494, grad=0.0000), Var(v=-0.0458, grad=0.0000), Var(v=0.0444, grad=-1.1563), Var(v=-0.1395, grad=0.9657), Var(v=0.1424, grad=0.0000), Var(v=-0.1040, grad=0.0000), Var(v=-0.0916, grad=0.0000), Var(v=-0.1299, grad=0.0000), Var(v=-0.0186, grad=-0.1286), Var(v=-0.0362, grad=0.0000), Var(v=-0.0833, grad=0.0000), Var(v=0.0388, grad=1.2999), Var(v=0.0982, grad=-0.1297), Var(v=0.0509, grad=0.0000), Var(v=0.0644, grad=-0.1738), Var(v=0.2227, grad=-1.6525), Var(v=0.0017, grad=0.0000), Var(v=-0.1117, grad=0.0000), Var(v=-0.2394, grad=0.0000), Var(v=0.0396, grad=1.0591), Var(v=0.1081, grad=0.0000), Var(v=-0.2020, grad=0.0000), Var(v=-0.0903, grad=0.0000), Var(v=0.0227, grad=0.0000), Var(v=0.0877, grad=-0.8600), Var(v=0.0012, grad=0.3288), Var(v=0.1594, grad=0.5884), Var(v=0.0100, grad=1.2906), Var(v=-0.0703, grad=0.0000), Var(v=-0.0124, grad=-0.5036)], [Var(v=0.1062, grad=0.1583), Var(v=-0.1613, grad=-0.3686), Var(v=0.0169, grad=0.3777), Var(v=-0.0338, grad=0.2460), Var(v=0.0248, grad=0.0000), Var(v=0.0911, grad=0.9222), Var(v=0.0472, grad=-1.1007), Var(v=-0.1163, grad=0.0000), Var(v=-0.1660, grad=0.8795), Var(v=-0.1289, grad=0.0000), Var(v=-0.0917, grad=-0.5373), Var(v=0.0182, grad=0.0000), Var(v=-0.0458, grad=0.0000), Var(v=-0.1841, grad=0.0000), Var(v=-0.0308, grad=0.0000), Var(v=-0.0030, grad=0.3158), Var(v=-0.0334, grad=0.0000), Var(v=0.0651, grad=0.0000), Var(v=0.0391, grad=0.0000), Var(v=0.0670, grad=-0.3150), Var(v=-0.0647, grad=0.0000), Var(v=-0.1526, grad=0.0000), Var(v=0.0712, grad=0.0000), Var(v=-0.0770, grad=-0.5084), Var(v=0.1065, grad=0.0000), Var(v=-0.0245, grad=-0.1646), Var(v=0.0610, grad=-0.3076), Var(v=0.0973, grad=-0.4522), Var(v=0.0451, grad=0.0000), Var(v=0.0825, grad=0.0000), Var(v=-0.0053, grad=-0.6270), Var(v=0.1046, grad=-0.6844), Var(v=-0.0240, grad=0.0683), Var(v=-0.0133, grad=0.0000), Var(v=0.0595, grad=0.0915), Var(v=-0.2066, grad=0.8700), Var(v=-0.2472, grad=0.0000), Var(v=-0.1506, grad=1.3173), Var(v=-0.0742, grad=0.0000), Var(v=0.1515, grad=-0.5576), Var(v=-0.0657, grad=0.0000), Var(v=-0.0464, grad=-0.0365), Var(v=-0.0223, grad=0.0000), Var(v=0.0151, grad=0.0000), Var(v=0.0182, grad=0.4527), Var(v=-0.0028, grad=-0.1731), Var(v=-0.0140, grad=-0.3098), Var(v=0.2281, grad=-0.6795), Var(v=-0.0093, grad=-0.0099), Var(v=-0.0247, grad=0.2651)], [Var(v=0.1140, grad=0.2858), Var(v=0.1482, grad=-0.6656), Var(v=0.0323, grad=0.6820), Var(v=0.1197, grad=0.4442), Var(v=-0.0812, grad=0.0000), Var(v=0.0664, grad=1.6652), Var(v=-0.0401, grad=-1.9876), Var(v=0.1905, grad=0.0000), Var(v=0.0404, grad=1.5881), Var(v=0.0015, grad=0.0000), Var(v=-0.0504, grad=-0.9702), Var(v=-0.0509, grad=0.0000), Var(v=-0.0399, grad=0.0000), Var(v=-0.1120, grad=0.0000), Var(v=-0.1441, grad=0.0000), Var(v=-0.0238, grad=0.5702), Var(v=-0.0510, grad=0.0000), Var(v=-0.1634, grad=0.0000), Var(v=-0.0509, grad=0.0000), Var(v=0.0149, grad=-0.5688), Var(v=0.0240, grad=0.0000), Var(v=-0.0022, grad=0.0000), Var(v=-0.0530, grad=0.0000), Var(v=0.0895, grad=-0.9181), Var(v=-0.1382, grad=0.0000), Var(v=0.0220, grad=-0.2972), Var(v=0.0995, grad=-0.5555), Var(v=-0.0289, grad=-0.8166), Var(v=-0.0037, grad=0.0000), Var(v=-0.0844, grad=0.0000), Var(v=0.1314, grad=-1.1323), Var(v=-0.1513, grad=-1.2358), Var(v=0.0973, grad=0.1233), Var(v=0.1033, grad=0.0000), Var(v=0.1759, grad=0.1652), Var(v=-0.1139, grad=1.5710), Var(v=0.2131, grad=0.0000), Var(v=0.0199, grad=2.3786), Var(v=-0.0647, grad=0.0000), Var(v=0.0742, grad=-1.0068), Var(v=0.0044, grad=0.0000), Var(v=0.1946, grad=-0.0658), Var(v=-0.0078, grad=0.0000), Var(v=-0.1106, grad=0.0000), Var(v=0.0162, grad=0.8175), Var(v=0.1223, grad=-0.3125), Var(v=-0.0178, grad=-0.5593), Var(v=0.2135, grad=-1.2269), Var(v=0.0030, grad=-0.0179), Var(v=0.0779, grad=0.4787)], [Var(v=-0.0772, grad=0.0647), Var(v=-0.0045, grad=-0.1506), Var(v=0.1074, grad=0.1544), Var(v=-0.0356, grad=0.1005), Var(v=0.0216, grad=0.0000), Var(v=0.1071, grad=0.3769), Var(v=0.0951, grad=-0.4499), Var(v=0.1045, grad=0.0000), Var(v=0.0813, grad=0.3594), Var(v=-0.0064, grad=0.0000), Var(v=0.0661, grad=-0.2196), Var(v=-0.1070, grad=0.0000), Var(v=0.1458, grad=0.0000), Var(v=0.0159, grad=0.0000), Var(v=0.0746, grad=0.0000), Var(v=-0.0615, grad=0.1291), Var(v=0.1271, grad=0.0000), Var(v=0.0182, grad=0.0000), Var(v=-0.0449, grad=0.0000), Var(v=0.0827, grad=-0.1287), Var(v=0.0085, grad=0.0000), Var(v=-0.0313, grad=0.0000), Var(v=-0.0481, grad=0.0000), Var(v=-0.1874, grad=-0.2078), Var(v=-0.0847, grad=0.0000), Var(v=0.0541, grad=-0.0673), Var(v=-0.0440, grad=-0.1257), Var(v=0.1477, grad=-0.1848), Var(v=0.0491, grad=0.0000), Var(v=-0.1025, grad=0.0000), Var(v=0.0900, grad=-0.2563), Var(v=0.1156, grad=-0.2797), Var(v=-0.1255, grad=0.0279), Var(v=0.0693, grad=0.0000), Var(v=-0.1173, grad=0.0374), Var(v=0.0477, grad=0.3556), Var(v=-0.1101, grad=0.0000), Var(v=-0.1722, grad=0.5384), Var(v=-0.2142, grad=0.0000), Var(v=0.0585, grad=-0.2279), Var(v=-0.0225, grad=0.0000), Var(v=-0.0588, grad=-0.0149), Var(v=0.1535, grad=0.0000), Var(v=0.1027, grad=0.0000), Var(v=0.0604, grad=0.1850), Var(v=0.0614, grad=-0.0707), Var(v=0.0807, grad=-0.1266), Var(v=-0.0193, grad=-0.2777), Var(v=-0.0566, grad=-0.0041), Var(v=-0.0863, grad=0.1084)], [Var(v=0.0396, grad=0.2057), Var(v=0.0063, grad=-0.4791), Var(v=-0.0086, grad=0.4909), Var(v=0.0372, grad=0.3198), Var(v=0.0070, grad=0.0000), Var(v=0.0721, grad=1.1987), Var(v=0.1506, grad=-1.4308), Var(v=-0.0965, grad=0.0000), Var(v=0.1018, grad=1.1432), Var(v=0.0670, grad=0.0000), Var(v=-0.0950, grad=-0.6984), Var(v=0.2652, grad=0.0000), Var(v=-0.0303, grad=0.0000), Var(v=-0.1600, grad=0.0000), Var(v=0.0337, grad=0.0000), Var(v=0.1172, grad=0.4105), Var(v=0.0046, grad=0.0000), Var(v=-0.0923, grad=0.0000), Var(v=0.0749, grad=0.0000), Var(v=-0.0571, grad=-0.4094), Var(v=-0.0738, grad=0.0000), Var(v=-0.0346, grad=0.0000), Var(v=-0.0452, grad=0.0000), Var(v=0.0155, grad=-0.6609), Var(v=-0.1595, grad=0.0000), Var(v=0.0690, grad=-0.2139), Var(v=-0.0286, grad=-0.3999), Var(v=0.0690, grad=-0.5878), Var(v=-0.0089, grad=0.0000), Var(v=-0.0287, grad=0.0000), Var(v=0.0495, grad=-0.8151), Var(v=0.1010, grad=-0.8896), Var(v=-0.0507, grad=0.0888), Var(v=-0.1842, grad=0.0000), Var(v=0.0162, grad=0.1189), Var(v=0.0540, grad=1.1309), Var(v=0.0070, grad=0.0000), Var(v=-0.0641, grad=1.7123), Var(v=-0.1138, grad=0.0000), Var(v=0.0525, grad=-0.7248), Var(v=-0.2218, grad=0.0000), Var(v=-0.0094, grad=-0.0474), Var(v=0.0275, grad=0.0000), Var(v=0.1331, grad=0.0000), Var(v=-0.0545, grad=0.5885), Var(v=-0.0702, grad=-0.2250), Var(v=0.0621, grad=-0.4026), Var(v=0.1670, grad=-0.8832), Var(v=-0.0485, grad=-0.0129), Var(v=-0.0584, grad=0.3446)], [Var(v=0.1127, grad=0.2050), Var(v=0.0653, grad=-0.4775), Var(v=0.1070, grad=0.4892), Var(v=-0.0835, grad=0.3187), Var(v=-0.1063, grad=0.0000), Var(v=-0.0743, grad=1.1946), Var(v=0.0020, grad=-1.4259), Var(v=0.0398, grad=0.0000), Var(v=-0.1222, grad=1.1393), Var(v=-0.0022, grad=0.0000), Var(v=0.1721, grad=-0.6960), Var(v=0.0168, grad=0.0000), Var(v=0.0250, grad=0.0000), Var(v=0.0526, grad=0.0000), Var(v=0.0340, grad=0.0000), Var(v=-0.0387, grad=0.4091), Var(v=-0.1268, grad=0.0000), Var(v=0.0024, grad=0.0000), Var(v=-0.1403, grad=0.0000), Var(v=-0.0853, grad=-0.4080), Var(v=0.0849, grad=0.0000), Var(v=0.0012, grad=0.0000), Var(v=0.0569, grad=0.0000), Var(v=0.0590, grad=-0.6586), Var(v=-0.0440, grad=0.0000), Var(v=0.0387, grad=-0.2132), Var(v=0.1925, grad=-0.3985), Var(v=0.0121, grad=-0.5858), Var(v=0.0642, grad=0.0000), Var(v=-0.1009, grad=0.0000), Var(v=0.1257, grad=-0.8123), Var(v=0.1271, grad=-0.8866), Var(v=0.0201, grad=0.0885), Var(v=0.0628, grad=0.0000), Var(v=0.0356, grad=0.1185), Var(v=0.0209, grad=1.1270), Var(v=-0.0629, grad=0.0000), Var(v=-0.0910, grad=1.7064), Var(v=-0.0167, grad=0.0000), Var(v=-0.0169, grad=-0.7223), Var(v=-0.1795, grad=0.0000), Var(v=-0.2178, grad=-0.0472), Var(v=-0.0204, grad=0.0000), Var(v=-0.2010, grad=0.0000), Var(v=0.1354, grad=0.5865), Var(v=0.1688, grad=-0.2242), Var(v=0.0480, grad=-0.4013), Var(v=-0.1503, grad=-0.8802), Var(v=0.0599, grad=-0.0129), Var(v=-0.1730, grad=0.3434)], [Var(v=0.0224, grad=0.4768), Var(v=0.0967, grad=-1.1105), Var(v=0.0742, grad=1.1378), Var(v=0.0048, grad=0.7411), Var(v=-0.0956, grad=0.0000), Var(v=0.0114, grad=2.7783), Var(v=0.1013, grad=-3.3163), Var(v=-0.0438, grad=0.0000), Var(v=0.0659, grad=2.6496), Var(v=-0.1096, grad=0.0000), Var(v=-0.0346, grad=-1.6187), Var(v=-0.1504, grad=0.0000), Var(v=-0.2555, grad=0.0000), Var(v=0.0402, grad=0.0000), Var(v=-0.0944, grad=0.0000), Var(v=0.0658, grad=0.9514), Var(v=-0.0191, grad=0.0000), Var(v=0.0422, grad=0.0000), Var(v=0.0096, grad=0.0000), Var(v=0.2049, grad=-0.9490), Var(v=-0.1152, grad=0.0000), Var(v=0.0114, grad=0.0000), Var(v=0.0350, grad=0.0000), Var(v=-0.1106, grad=-1.5318), Var(v=-0.1330, grad=0.0000), Var(v=-0.0669, grad=-0.4959), Var(v=0.1023, grad=-0.9268), Var(v=0.0466, grad=-1.3625), Var(v=0.0183, grad=0.0000), Var(v=0.0413, grad=0.0000), Var(v=0.1525, grad=-1.8892), Var(v=0.0101, grad=-2.0619), Var(v=0.1148, grad=0.2058), Var(v=-0.0290, grad=0.0000), Var(v=0.1278, grad=0.2756), Var(v=0.1530, grad=2.6211), Var(v=-0.1481, grad=0.0000), Var(v=0.0583, grad=3.9687), Var(v=0.0524, grad=0.0000), Var(v=-0.0901, grad=-1.6798), Var(v=0.0281, grad=0.0000), Var(v=0.0617, grad=-0.1098), Var(v=-0.1038, grad=0.0000), Var(v=-0.1044, grad=0.0000), Var(v=-0.0171, grad=1.3640), Var(v=0.0275, grad=-0.5215), Var(v=0.1084, grad=-0.9332), Var(v=-0.1065, grad=-2.0471), Var(v=-0.0045, grad=-0.0299), Var(v=0.1402, grad=0.7987)], [Var(v=-0.1394, grad=0.2247), Var(v=0.0683, grad=-0.5234), Var(v=-0.0152, grad=0.5363), Var(v=0.0683, grad=0.3493), Var(v=0.0264, grad=0.0000), Var(v=0.0143, grad=1.3095), Var(v=0.0685, grad=-1.5631), Var(v=-0.1710, grad=0.0000), Var(v=0.0105, grad=1.2488), Var(v=0.2051, grad=0.0000), Var(v=0.1256, grad=-0.7629), Var(v=0.0829, grad=0.0000), Var(v=-0.0127, grad=0.0000), Var(v=0.0055, grad=0.0000), Var(v=-0.0485, grad=0.0000), Var(v=0.0526, grad=0.4484), Var(v=-0.0885, grad=0.0000), Var(v=0.1506, grad=0.0000), Var(v=0.0030, grad=0.0000), Var(v=0.0539, grad=-0.4473), Var(v=-0.0319, grad=0.0000), Var(v=0.0728, grad=0.0000), Var(v=-0.0476, grad=0.0000), Var(v=0.3375, grad=-0.7220), Var(v=0.0802, grad=0.0000), Var(v=0.1460, grad=-0.2337), Var(v=-0.0366, grad=-0.4368), Var(v=-0.0719, grad=-0.6422), Var(v=-0.1499, grad=0.0000), Var(v=-0.0934, grad=0.0000), Var(v=0.0842, grad=-0.8904), Var(v=0.0240, grad=-0.9718), Var(v=0.1333, grad=0.0970), Var(v=-0.0155, grad=0.0000), Var(v=-0.1662, grad=0.1299), Var(v=-0.0540, grad=1.2354), Var(v=0.1235, grad=0.0000), Var(v=-0.0381, grad=1.8706), Var(v=0.1261, grad=0.0000), Var(v=0.0184, grad=-0.7918), Var(v=0.0048, grad=0.0000), Var(v=-0.0578, grad=-0.0518), Var(v=-0.0776, grad=0.0000), Var(v=0.1760, grad=0.0000), Var(v=-0.0980, grad=0.6429), Var(v=0.0642, grad=-0.2458), Var(v=0.2563, grad=-0.4399), Var(v=-0.0098, grad=-0.9649), Var(v=0.0663, grad=-0.0141), Var(v=0.0259, grad=0.3765)], [Var(v=0.1659, grad=-0.2989), Var(v=0.0293, grad=0.0000), Var(v=0.0401, grad=0.0000), Var(v=-0.2359, grad=0.0000), Var(v=-0.0612, grad=0.0000), Var(v=0.2065, grad=-1.7419), Var(v=-0.1534, grad=0.0000), Var(v=0.0131, grad=0.4090), Var(v=0.0398, grad=-1.6612), Var(v=-0.1340, grad=0.0000), Var(v=0.0635, grad=0.0000), Var(v=-0.0456, grad=0.1514), Var(v=0.0917, grad=-0.4574), Var(v=-0.0035, grad=0.0000), Var(v=-0.1769, grad=0.0000), Var(v=-0.0138, grad=-0.5965), Var(v=0.0864, grad=-0.2745), Var(v=-0.0002, grad=0.0000), Var(v=0.1438, grad=0.2898), Var(v=-0.0882, grad=0.0000), Var(v=-0.0744, grad=0.0000), Var(v=-0.0406, grad=0.0000), Var(v=0.2023, grad=-1.1499), Var(v=0.1355, grad=0.9603), Var(v=-0.2074, grad=0.0000), Var(v=0.0363, grad=0.0000), Var(v=-0.0380, grad=0.0000), Var(v=-0.0220, grad=0.0000), Var(v=0.0949, grad=-0.1279), Var(v=-0.0297, grad=0.0000), Var(v=-0.1777, grad=0.0000), Var(v=-0.0101, grad=1.2927), Var(v=0.0530, grad=-0.1290), Var(v=-0.0653, grad=0.0000), Var(v=0.1489, grad=-0.1728), Var(v=-0.0683, grad=-1.6433), Var(v=0.0060, grad=0.0000), Var(v=-0.0106, grad=0.0000), Var(v=0.1054, grad=0.0000), Var(v=0.1477, grad=1.0532), Var(v=-0.2176, grad=0.0000), Var(v=0.0413, grad=0.0000), Var(v=-0.1435, grad=0.0000), Var(v=-0.0754, grad=0.0000), Var(v=0.0031, grad=-0.8552), Var(v=0.0914, grad=0.3269), Var(v=0.0873, grad=0.5851), Var(v=0.0515, grad=1.2834), Var(v=-0.0374, grad=0.0000), Var(v=0.0135, grad=-0.5008)], [Var(v=0.0856, grad=0.0024), Var(v=0.0249, grad=-0.0056), Var(v=-0.1879, grad=0.0058), Var(v=0.1028, grad=0.0038), Var(v=0.0919, grad=0.0000), Var(v=0.0915, grad=0.0141), Var(v=0.1450, grad=-0.0168), Var(v=0.1129, grad=0.0000), Var(v=0.1502, grad=0.0134), Var(v=-0.0489, grad=0.0000), Var(v=0.0679, grad=-0.0082), Var(v=-0.0069, grad=0.0000), Var(v=-0.0877, grad=0.0000), Var(v=-0.1083, grad=0.0000), Var(v=-0.0020, grad=0.0000), Var(v=0.0155, grad=0.0048), Var(v=0.0805, grad=0.0000), Var(v=0.0901, grad=0.0000), Var(v=-0.0092, grad=0.0000), Var(v=0.2021, grad=-0.0048), Var(v=-0.0734, grad=0.0000), Var(v=-0.0010, grad=0.0000), Var(v=0.0256, grad=0.0000), Var(v=0.0066, grad=-0.0078), Var(v=0.1607, grad=0.0000), Var(v=0.0238, grad=-0.0025), Var(v=-0.2241, grad=-0.0047), Var(v=-0.0550, grad=-0.0069), Var(v=0.0689, grad=0.0000), Var(v=-0.0694, grad=0.0000), Var(v=0.0996, grad=-0.0096), Var(v=-0.0610, grad=-0.0104), Var(v=0.0556, grad=0.0010), Var(v=-0.1233, grad=0.0000), Var(v=-0.0035, grad=0.0014), Var(v=0.0176, grad=0.0133), Var(v=-0.0725, grad=0.0000), Var(v=0.0315, grad=0.0201), Var(v=0.1507, grad=0.0000), Var(v=0.0356, grad=-0.0085), Var(v=-0.0932, grad=0.0000), Var(v=-0.0583, grad=-0.0006), Var(v=-0.1348, grad=0.0000), Var(v=-0.0759, grad=0.0000), Var(v=0.0608, grad=0.0069), Var(v=0.0152, grad=-0.0026), Var(v=0.1039, grad=-0.0047), Var(v=0.1237, grad=-0.0104), Var(v=0.0612, grad=-0.0002), Var(v=-0.0402, grad=0.0040)], [Var(v=-0.0027, grad=-0.1549), Var(v=-0.0887, grad=0.0000), Var(v=0.0046, grad=0.0000), Var(v=0.0104, grad=0.0000), Var(v=-0.1085, grad=0.0000), Var(v=-0.0035, grad=-0.9026), Var(v=-0.0960, grad=0.0000), Var(v=-0.0067, grad=0.2119), Var(v=0.1107, grad=-0.8608), Var(v=0.1655, grad=0.0000), Var(v=-0.0746, grad=0.0000), Var(v=0.0733, grad=0.0784), Var(v=0.0966, grad=-0.2370), Var(v=-0.1892, grad=0.0000), Var(v=0.0310, grad=0.0000), Var(v=-0.0182, grad=-0.3091), Var(v=0.0858, grad=-0.1423), Var(v=-0.0225, grad=0.0000), Var(v=0.0256, grad=0.1501), Var(v=-0.0316, grad=0.0000), Var(v=0.0110, grad=0.0000), Var(v=0.1252, grad=0.0000), Var(v=-0.0471, grad=-0.5959), Var(v=0.0073, grad=0.4976), Var(v=0.0335, grad=0.0000), Var(v=-0.0662, grad=0.0000), Var(v=-0.0812, grad=0.0000), Var(v=-0.0920, grad=0.0000), Var(v=-0.0634, grad=-0.0663), Var(v=0.0720, grad=0.0000), Var(v=0.0958, grad=0.0000), Var(v=0.0380, grad=0.6699), Var(v=0.0503, grad=-0.0669), Var(v=-0.1068, grad=0.0000), Var(v=-0.1607, grad=-0.0895), Var(v=0.1633, grad=-0.8515), Var(v=-0.1337, grad=0.0000), Var(v=-0.1784, grad=0.0000), Var(v=-0.0827, grad=0.0000), Var(v=-0.0785, grad=0.5457), Var(v=0.0414, grad=0.0000), Var(v=0.0625, grad=0.0000), Var(v=-0.0544, grad=0.0000), Var(v=-0.1551, grad=0.0000), Var(v=-0.0890, grad=-0.4431), Var(v=-0.1149, grad=0.1694), Var(v=0.0132, grad=0.3032), Var(v=0.0641, grad=0.6651), Var(v=0.0093, grad=0.0000), Var(v=-0.0125, grad=-0.2595)], [Var(v=-0.1442, grad=0.0037), Var(v=-0.0084, grad=-0.0086), Var(v=0.0615, grad=0.0088), Var(v=0.0510, grad=0.0057), Var(v=-0.0252, grad=0.0000), Var(v=0.1349, grad=0.0215), Var(v=-0.1814, grad=-0.0256), Var(v=0.0773, grad=0.0000), Var(v=-0.0777, grad=0.0205), Var(v=0.0179, grad=0.0000), Var(v=-0.1029, grad=-0.0125), Var(v=0.1922, grad=0.0000), Var(v=0.0916, grad=0.0000), Var(v=0.0438, grad=0.0000), Var(v=-0.2103, grad=0.0000), Var(v=0.0680, grad=0.0073), Var(v=0.0894, grad=0.0000), Var(v=0.0932, grad=0.0000), Var(v=-0.0885, grad=0.0000), Var(v=-0.0385, grad=-0.0073), Var(v=-0.0504, grad=0.0000), Var(v=0.1099, grad=0.0000), Var(v=0.0511, grad=0.0000), Var(v=0.0474, grad=-0.0118), Var(v=0.0257, grad=0.0000), Var(v=-0.0568, grad=-0.0038), Var(v=0.0054, grad=-0.0072), Var(v=-0.0639, grad=-0.0105), Var(v=-0.2315, grad=0.0000), Var(v=0.2141, grad=0.0000), Var(v=-0.1754, grad=-0.0146), Var(v=-0.0447, grad=-0.0159), Var(v=-0.0869, grad=0.0016), Var(v=-0.0541, grad=0.0000), Var(v=0.0064, grad=0.0021), Var(v=0.0043, grad=0.0202), Var(v=0.0537, grad=0.0000), Var(v=0.1193, grad=0.0307), Var(v=-0.0627, grad=0.0000), Var(v=-0.2039, grad=-0.0130), Var(v=0.0612, grad=0.0000), Var(v=0.0496, grad=-0.0008), Var(v=-0.1758, grad=0.0000), Var(v=-0.0410, grad=0.0000), Var(v=-0.0037, grad=0.0105), Var(v=0.1449, grad=-0.0040), Var(v=-0.1002, grad=-0.0072), Var(v=0.0890, grad=-0.0158), Var(v=0.1421, grad=-0.0002), Var(v=-0.1418, grad=0.0062)], [Var(v=-0.0343, grad=0.0968), Var(v=0.0292, grad=-0.2255), Var(v=0.1439, grad=0.2310), Var(v=0.0038, grad=0.1505), Var(v=0.0116, grad=0.0000), Var(v=-0.1108, grad=0.5641), Var(v=0.0369, grad=-0.6733), Var(v=-0.0324, grad=0.0000), Var(v=-0.0074, grad=0.5379), Var(v=-0.0867, grad=0.0000), Var(v=0.2031, grad=-0.3286), Var(v=0.1091, grad=0.0000), Var(v=0.0126, grad=0.0000), Var(v=-0.0555, grad=0.0000), Var(v=-0.0277, grad=0.0000), Var(v=0.1174, grad=0.1932), Var(v=-0.0757, grad=0.0000), Var(v=-0.1403, grad=0.0000), Var(v=0.0205, grad=0.0000), Var(v=-0.0092, grad=-0.1927), Var(v=0.0285, grad=0.0000), Var(v=-0.0325, grad=0.0000), Var(v=-0.0852, grad=0.0000), Var(v=0.1064, grad=-0.3110), Var(v=0.0862, grad=0.0000), Var(v=-0.0370, grad=-0.1007), Var(v=-0.0421, grad=-0.1882), Var(v=-0.0105, grad=-0.2766), Var(v=-0.0352, grad=0.0000), Var(v=0.0441, grad=0.0000), Var(v=0.0209, grad=-0.3835), Var(v=0.0831, grad=-0.4186), Var(v=0.0570, grad=0.0418), Var(v=0.0545, grad=0.0000), Var(v=0.0100, grad=0.0560), Var(v=-0.0347, grad=0.5321), Var(v=-0.0389, grad=0.0000), Var(v=0.1013, grad=0.8057), Var(v=0.1142, grad=0.0000), Var(v=0.0319, grad=-0.3410), Var(v=-0.0152, grad=0.0000), Var(v=-0.0507, grad=-0.0223), Var(v=0.0927, grad=0.0000), Var(v=0.0938, grad=0.0000), Var(v=-0.0344, grad=0.2769), Var(v=0.1168, grad=-0.1059), Var(v=-0.0425, grad=-0.1895), Var(v=0.0783, grad=-0.4156), Var(v=-0.0390, grad=-0.0061), Var(v=0.0522, grad=0.1622)]] Biases: [Var(v=0.0001, grad=-0.0070), Var(v=0.0617, grad=-6.1684), Var(v=-0.0632, grad=6.3201), Var(v=-0.0412, grad=4.1166), Var(v=0.0000, grad=0.0000), Var(v=0.0004, grad=-0.0408), Var(v=0.1842, grad=-18.4206), Var(v=-0.0363, grad=3.6329), Var(v=0.0004, grad=-0.0389), Var(v=0.0000, grad=0.0000), Var(v=0.0899, grad=-8.9910), Var(v=-0.0134, grad=1.3447), Var(v=0.0406, grad=-4.0632), Var(v=0.0000, grad=0.0000), Var(v=0.0000, grad=0.0000), Var(v=0.0001, grad=-0.0140), Var(v=0.0244, grad=-2.4386), Var(v=0.0000, grad=0.0000), Var(v=-0.0257, grad=2.5739), Var(v=0.0527, grad=-5.2711), Var(v=0.0000, grad=0.0000), Var(v=0.0000, grad=0.0000), Var(v=0.1021, grad=-10.2145), Var(v=-0.0002, grad=0.0225), Var(v=0.0000, grad=0.0000), Var(v=0.0275, grad=-2.7543), Var(v=0.0515, grad=-5.1481), Var(v=0.0757, grad=-7.5680), Var(v=0.0114, grad=-1.1361), Var(v=0.0000, grad=0.0000), Var(v=0.1049, grad=-10.4934), Var(v=-0.0003, grad=0.0302), Var(v=0.0000, grad=-0.0030), Var(v=0.0000, grad=0.0000), Var(v=0.0000, grad=-0.0040), Var(v=0.0004, grad=-0.0385), Var(v=0.0000, grad=0.0000), Var(v=-0.2204, grad=22.0440), Var(v=0.0000, grad=0.0000), Var(v=-0.0002, grad=0.0246), Var(v=0.0000, grad=0.0000), Var(v=0.0061, grad=-0.6101), Var(v=0.0000, grad=0.0000), Var(v=0.0000, grad=0.0000), Var(v=0.0002, grad=-0.0200), Var(v=-0.0001, grad=0.0076), Var(v=-0.0001, grad=0.0137), Var(v=-0.0003, grad=0.0300), Var(v=0.0017, grad=-0.1662), Var(v=0.0001, grad=-0.0117)]\n",
            "Layer 2 \n",
            " Weights: [[Var(v=0.0195, grad=1.1091)], [Var(v=-0.0988, grad=2.7504)], [Var(v=0.0417, grad=3.1399)], [Var(v=0.0336, grad=1.4039)], [Var(v=0.0060, grad=0.0000)], [Var(v=0.1773, grad=0.1147)], [Var(v=-0.2349, grad=2.1854)], [Var(v=-0.0379, grad=-0.3967)], [Var(v=0.1626, grad=0.7581)], [Var(v=-0.0294, grad=0.0000)], [Var(v=-0.1059, grad=0.1930)], [Var(v=-0.0109, grad=-0.4635)], [Var(v=0.0617, grad=-1.4799)], [Var(v=0.0524, grad=0.0000)], [Var(v=-0.0334, grad=0.0000)], [Var(v=0.0393, grad=2.1831)], [Var(v=0.0433, grad=-1.5177)], [Var(v=-0.0804, grad=0.0000)], [Var(v=0.0002, grad=-2.9921)], [Var(v=-0.0906, grad=2.9585)], [Var(v=0.0096, grad=0.0000)], [Var(v=0.0075, grad=0.0000)], [Var(v=0.1382, grad=-2.0404)], [Var(v=-0.1070, grad=0.8578)], [Var(v=-0.0419, grad=0.0000)], [Var(v=-0.0385, grad=0.6599)], [Var(v=-0.0907, grad=3.1142)], [Var(v=-0.0955, grad=0.7921)], [Var(v=0.0225, grad=-0.9357)], [Var(v=0.0558, grad=0.0000)], [Var(v=-0.1712, grad=4.9822)], [Var(v=-0.1311, grad=-0.1320)], [Var(v=-0.0003, grad=1.3479)], [Var(v=0.0263, grad=0.0000)], [Var(v=-0.0006, grad=1.8342)], [Var(v=0.1792, grad=-1.0816)], [Var(v=-0.0298, grad=0.0000)], [Var(v=0.2522, grad=0.2801)], [Var(v=0.0243, grad=0.0000)], [Var(v=-0.0947, grad=-1.3258)], [Var(v=-0.0209, grad=0.0000)], [Var(v=-0.0098, grad=0.2720)], [Var(v=-0.0406, grad=0.0000)], [Var(v=0.0532, grad=0.0000)], [Var(v=0.0915, grad=-0.3907)], [Var(v=-0.0614, grad=2.7892)], [Var(v=-0.0712, grad=1.1218)], [Var(v=-0.1299, grad=-0.1610)], [Var(v=-0.0043, grad=0.2415)], [Var(v=0.0356, grad=1.5678)]] Biases: [Var(v=0.0023, grad=-0.2283)]\n",
            "\n",
            "Network after zeroing gradients:\n",
            "Layer 0 \n",
            " Weights: [[Var(v=0.0803, grad=0.0000), Var(v=0.0169, grad=0.0000), Var(v=0.1285, grad=0.0000), Var(v=-0.1680, grad=0.0000), Var(v=-0.0901, grad=0.0000), Var(v=-0.0798, grad=0.0000), Var(v=-0.0982, grad=0.0000), Var(v=-0.1444, grad=0.0000), Var(v=-0.0812, grad=0.0000), Var(v=-0.1667, grad=0.0000), Var(v=0.1041, grad=0.0000), Var(v=-0.0142, grad=0.0000), Var(v=0.0711, grad=0.0000), Var(v=0.1254, grad=0.0000), Var(v=-0.0692, grad=0.0000)]] Biases: [Var(v=0.0458, grad=0.0000), Var(v=0.0078, grad=0.0000), Var(v=0.0269, grad=0.0000), Var(v=0.1033, grad=0.0000), Var(v=-0.0072, grad=0.0000), Var(v=0.0524, grad=0.0000), Var(v=0.0251, grad=0.0000), Var(v=0.0673, grad=0.0000), Var(v=-0.0749, grad=0.0000), Var(v=0.0814, grad=0.0000), Var(v=0.0063, grad=0.0000), Var(v=0.0121, grad=0.0000), Var(v=0.0181, grad=0.0000), Var(v=-0.1151, grad=0.0000), Var(v=0.0327, grad=0.0000)]\n",
            "Layer 1 \n",
            " Weights: [[Var(v=-0.0382, grad=0.0000), Var(v=-0.0476, grad=0.0000), Var(v=0.0922, grad=0.0000), Var(v=-0.0844, grad=0.0000), Var(v=-0.0332, grad=0.0000), Var(v=0.0852, grad=0.0000), Var(v=-0.0124, grad=0.0000), Var(v=0.0842, grad=0.0000), Var(v=0.0041, grad=0.0000), Var(v=-0.0230, grad=0.0000), Var(v=0.1281, grad=0.0000), Var(v=-0.0422, grad=0.0000), Var(v=-0.0733, grad=0.0000), Var(v=-0.0646, grad=0.0000), Var(v=-0.0117, grad=0.0000), Var(v=-0.0101, grad=0.0000), Var(v=0.0831, grad=0.0000), Var(v=-0.2360, grad=0.0000), Var(v=-0.0033, grad=0.0000), Var(v=-0.1359, grad=0.0000), Var(v=-0.0100, grad=0.0000), Var(v=0.1033, grad=0.0000), Var(v=0.0525, grad=0.0000), Var(v=0.0100, grad=0.0000), Var(v=-0.0448, grad=0.0000), Var(v=0.1625, grad=0.0000), Var(v=-0.1058, grad=0.0000), Var(v=-0.0722, grad=0.0000), Var(v=0.2531, grad=0.0000), Var(v=-0.0802, grad=0.0000), Var(v=0.0956, grad=0.0000), Var(v=0.0561, grad=0.0000), Var(v=0.0675, grad=0.0000), Var(v=-0.0841, grad=0.0000), Var(v=-0.1306, grad=0.0000), Var(v=0.1020, grad=0.0000), Var(v=-0.0234, grad=0.0000), Var(v=-0.0579, grad=0.0000), Var(v=-0.0931, grad=0.0000), Var(v=-0.0813, grad=0.0000), Var(v=0.0973, grad=0.0000), Var(v=0.1397, grad=0.0000), Var(v=-0.1750, grad=0.0000), Var(v=-0.0723, grad=0.0000), Var(v=0.1644, grad=0.0000), Var(v=-0.0209, grad=0.0000), Var(v=0.0240, grad=0.0000), Var(v=-0.0247, grad=0.0000), Var(v=0.0384, grad=0.0000), Var(v=0.0999, grad=0.0000)], [Var(v=0.0679, grad=0.0000), Var(v=-0.1111, grad=0.0000), Var(v=-0.0885, grad=0.0000), Var(v=-0.0549, grad=0.0000), Var(v=-0.0359, grad=0.0000), Var(v=0.1388, grad=0.0000), Var(v=-0.0769, grad=0.0000), Var(v=-0.1260, grad=0.0000), Var(v=-0.0253, grad=0.0000), Var(v=-0.1051, grad=0.0000), Var(v=-0.0182, grad=0.0000), Var(v=0.0980, grad=0.0000), Var(v=0.0555, grad=0.0000), Var(v=0.1001, grad=0.0000), Var(v=-0.0761, grad=0.0000), Var(v=-0.2323, grad=0.0000), Var(v=0.0324, grad=0.0000), Var(v=0.0721, grad=0.0000), Var(v=-0.0384, grad=0.0000), Var(v=-0.0034, grad=0.0000), Var(v=-0.0778, grad=0.0000), Var(v=-0.1352, grad=0.0000), Var(v=-0.0119, grad=0.0000), Var(v=0.0441, grad=0.0000), Var(v=-0.0361, grad=0.0000), Var(v=0.1519, grad=0.0000), Var(v=0.1159, grad=0.0000), Var(v=-0.0072, grad=0.0000), Var(v=-0.1877, grad=0.0000), Var(v=-0.1459, grad=0.0000), Var(v=0.0663, grad=0.0000), Var(v=0.0175, grad=0.0000), Var(v=0.1038, grad=0.0000), Var(v=0.0586, grad=0.0000), Var(v=0.2907, grad=0.0000), Var(v=0.0685, grad=0.0000), Var(v=0.0189, grad=0.0000), Var(v=0.1071, grad=0.0000), Var(v=0.0218, grad=0.0000), Var(v=-0.0431, grad=0.0000), Var(v=-0.0765, grad=0.0000), Var(v=-0.0807, grad=0.0000), Var(v=-0.0054, grad=0.0000), Var(v=0.1035, grad=0.0000), Var(v=-0.0356, grad=0.0000), Var(v=-0.1277, grad=0.0000), Var(v=-0.0169, grad=0.0000), Var(v=0.1458, grad=0.0000), Var(v=-0.0697, grad=0.0000), Var(v=-0.0296, grad=0.0000)], [Var(v=-0.0776, grad=0.0000), Var(v=-0.0214, grad=0.0000), Var(v=-0.1360, grad=0.0000), Var(v=0.1583, grad=0.0000), Var(v=-0.0618, grad=0.0000), Var(v=0.0128, grad=0.0000), Var(v=-0.0682, grad=0.0000), Var(v=0.0080, grad=0.0000), Var(v=0.0204, grad=0.0000), Var(v=-0.0587, grad=0.0000), Var(v=-0.1384, grad=0.0000), Var(v=0.0551, grad=0.0000), Var(v=0.0364, grad=0.0000), Var(v=-0.0418, grad=0.0000), Var(v=0.0360, grad=0.0000), Var(v=0.0670, grad=0.0000), Var(v=0.0053, grad=0.0000), Var(v=0.0022, grad=0.0000), Var(v=0.1459, grad=0.0000), Var(v=-0.1206, grad=0.0000), Var(v=-0.0494, grad=0.0000), Var(v=-0.0458, grad=0.0000), Var(v=0.0444, grad=0.0000), Var(v=-0.1395, grad=0.0000), Var(v=0.1424, grad=0.0000), Var(v=-0.1040, grad=0.0000), Var(v=-0.0916, grad=0.0000), Var(v=-0.1299, grad=0.0000), Var(v=-0.0186, grad=0.0000), Var(v=-0.0362, grad=0.0000), Var(v=-0.0833, grad=0.0000), Var(v=0.0388, grad=0.0000), Var(v=0.0982, grad=0.0000), Var(v=0.0509, grad=0.0000), Var(v=0.0644, grad=0.0000), Var(v=0.2227, grad=0.0000), Var(v=0.0017, grad=0.0000), Var(v=-0.1117, grad=0.0000), Var(v=-0.2394, grad=0.0000), Var(v=0.0396, grad=0.0000), Var(v=0.1081, grad=0.0000), Var(v=-0.2020, grad=0.0000), Var(v=-0.0903, grad=0.0000), Var(v=0.0227, grad=0.0000), Var(v=0.0877, grad=0.0000), Var(v=0.0012, grad=0.0000), Var(v=0.1594, grad=0.0000), Var(v=0.0100, grad=0.0000), Var(v=-0.0703, grad=0.0000), Var(v=-0.0124, grad=0.0000)], [Var(v=0.1062, grad=0.0000), Var(v=-0.1613, grad=0.0000), Var(v=0.0169, grad=0.0000), Var(v=-0.0338, grad=0.0000), Var(v=0.0248, grad=0.0000), Var(v=0.0911, grad=0.0000), Var(v=0.0472, grad=0.0000), Var(v=-0.1163, grad=0.0000), Var(v=-0.1660, grad=0.0000), Var(v=-0.1289, grad=0.0000), Var(v=-0.0917, grad=0.0000), Var(v=0.0182, grad=0.0000), Var(v=-0.0458, grad=0.0000), Var(v=-0.1841, grad=0.0000), Var(v=-0.0308, grad=0.0000), Var(v=-0.0030, grad=0.0000), Var(v=-0.0334, grad=0.0000), Var(v=0.0651, grad=0.0000), Var(v=0.0391, grad=0.0000), Var(v=0.0670, grad=0.0000), Var(v=-0.0647, grad=0.0000), Var(v=-0.1526, grad=0.0000), Var(v=0.0712, grad=0.0000), Var(v=-0.0770, grad=0.0000), Var(v=0.1065, grad=0.0000), Var(v=-0.0245, grad=0.0000), Var(v=0.0610, grad=0.0000), Var(v=0.0973, grad=0.0000), Var(v=0.0451, grad=0.0000), Var(v=0.0825, grad=0.0000), Var(v=-0.0053, grad=0.0000), Var(v=0.1046, grad=0.0000), Var(v=-0.0240, grad=0.0000), Var(v=-0.0133, grad=0.0000), Var(v=0.0595, grad=0.0000), Var(v=-0.2066, grad=0.0000), Var(v=-0.2472, grad=0.0000), Var(v=-0.1506, grad=0.0000), Var(v=-0.0742, grad=0.0000), Var(v=0.1515, grad=0.0000), Var(v=-0.0657, grad=0.0000), Var(v=-0.0464, grad=0.0000), Var(v=-0.0223, grad=0.0000), Var(v=0.0151, grad=0.0000), Var(v=0.0182, grad=0.0000), Var(v=-0.0028, grad=0.0000), Var(v=-0.0140, grad=0.0000), Var(v=0.2281, grad=0.0000), Var(v=-0.0093, grad=0.0000), Var(v=-0.0247, grad=0.0000)], [Var(v=0.1140, grad=0.0000), Var(v=0.1482, grad=0.0000), Var(v=0.0323, grad=0.0000), Var(v=0.1197, grad=0.0000), Var(v=-0.0812, grad=0.0000), Var(v=0.0664, grad=0.0000), Var(v=-0.0401, grad=0.0000), Var(v=0.1905, grad=0.0000), Var(v=0.0404, grad=0.0000), Var(v=0.0015, grad=0.0000), Var(v=-0.0504, grad=0.0000), Var(v=-0.0509, grad=0.0000), Var(v=-0.0399, grad=0.0000), Var(v=-0.1120, grad=0.0000), Var(v=-0.1441, grad=0.0000), Var(v=-0.0238, grad=0.0000), Var(v=-0.0510, grad=0.0000), Var(v=-0.1634, grad=0.0000), Var(v=-0.0509, grad=0.0000), Var(v=0.0149, grad=0.0000), Var(v=0.0240, grad=0.0000), Var(v=-0.0022, grad=0.0000), Var(v=-0.0530, grad=0.0000), Var(v=0.0895, grad=0.0000), Var(v=-0.1382, grad=0.0000), Var(v=0.0220, grad=0.0000), Var(v=0.0995, grad=0.0000), Var(v=-0.0289, grad=0.0000), Var(v=-0.0037, grad=0.0000), Var(v=-0.0844, grad=0.0000), Var(v=0.1314, grad=0.0000), Var(v=-0.1513, grad=0.0000), Var(v=0.0973, grad=0.0000), Var(v=0.1033, grad=0.0000), Var(v=0.1759, grad=0.0000), Var(v=-0.1139, grad=0.0000), Var(v=0.2131, grad=0.0000), Var(v=0.0199, grad=0.0000), Var(v=-0.0647, grad=0.0000), Var(v=0.0742, grad=0.0000), Var(v=0.0044, grad=0.0000), Var(v=0.1946, grad=0.0000), Var(v=-0.0078, grad=0.0000), Var(v=-0.1106, grad=0.0000), Var(v=0.0162, grad=0.0000), Var(v=0.1223, grad=0.0000), Var(v=-0.0178, grad=0.0000), Var(v=0.2135, grad=0.0000), Var(v=0.0030, grad=0.0000), Var(v=0.0779, grad=0.0000)], [Var(v=-0.0772, grad=0.0000), Var(v=-0.0045, grad=0.0000), Var(v=0.1074, grad=0.0000), Var(v=-0.0356, grad=0.0000), Var(v=0.0216, grad=0.0000), Var(v=0.1071, grad=0.0000), Var(v=0.0951, grad=0.0000), Var(v=0.1045, grad=0.0000), Var(v=0.0813, grad=0.0000), Var(v=-0.0064, grad=0.0000), Var(v=0.0661, grad=0.0000), Var(v=-0.1070, grad=0.0000), Var(v=0.1458, grad=0.0000), Var(v=0.0159, grad=0.0000), Var(v=0.0746, grad=0.0000), Var(v=-0.0615, grad=0.0000), Var(v=0.1271, grad=0.0000), Var(v=0.0182, grad=0.0000), Var(v=-0.0449, grad=0.0000), Var(v=0.0827, grad=0.0000), Var(v=0.0085, grad=0.0000), Var(v=-0.0313, grad=0.0000), Var(v=-0.0481, grad=0.0000), Var(v=-0.1874, grad=0.0000), Var(v=-0.0847, grad=0.0000), Var(v=0.0541, grad=0.0000), Var(v=-0.0440, grad=0.0000), Var(v=0.1477, grad=0.0000), Var(v=0.0491, grad=0.0000), Var(v=-0.1025, grad=0.0000), Var(v=0.0900, grad=0.0000), Var(v=0.1156, grad=0.0000), Var(v=-0.1255, grad=0.0000), Var(v=0.0693, grad=0.0000), Var(v=-0.1173, grad=0.0000), Var(v=0.0477, grad=0.0000), Var(v=-0.1101, grad=0.0000), Var(v=-0.1722, grad=0.0000), Var(v=-0.2142, grad=0.0000), Var(v=0.0585, grad=0.0000), Var(v=-0.0225, grad=0.0000), Var(v=-0.0588, grad=0.0000), Var(v=0.1535, grad=0.0000), Var(v=0.1027, grad=0.0000), Var(v=0.0604, grad=0.0000), Var(v=0.0614, grad=0.0000), Var(v=0.0807, grad=0.0000), Var(v=-0.0193, grad=0.0000), Var(v=-0.0566, grad=0.0000), Var(v=-0.0863, grad=0.0000)], [Var(v=0.0396, grad=0.0000), Var(v=0.0063, grad=0.0000), Var(v=-0.0086, grad=0.0000), Var(v=0.0372, grad=0.0000), Var(v=0.0070, grad=0.0000), Var(v=0.0721, grad=0.0000), Var(v=0.1506, grad=0.0000), Var(v=-0.0965, grad=0.0000), Var(v=0.1018, grad=0.0000), Var(v=0.0670, grad=0.0000), Var(v=-0.0950, grad=0.0000), Var(v=0.2652, grad=0.0000), Var(v=-0.0303, grad=0.0000), Var(v=-0.1600, grad=0.0000), Var(v=0.0337, grad=0.0000), Var(v=0.1172, grad=0.0000), Var(v=0.0046, grad=0.0000), Var(v=-0.0923, grad=0.0000), Var(v=0.0749, grad=0.0000), Var(v=-0.0571, grad=0.0000), Var(v=-0.0738, grad=0.0000), Var(v=-0.0346, grad=0.0000), Var(v=-0.0452, grad=0.0000), Var(v=0.0155, grad=0.0000), Var(v=-0.1595, grad=0.0000), Var(v=0.0690, grad=0.0000), Var(v=-0.0286, grad=0.0000), Var(v=0.0690, grad=0.0000), Var(v=-0.0089, grad=0.0000), Var(v=-0.0287, grad=0.0000), Var(v=0.0495, grad=0.0000), Var(v=0.1010, grad=0.0000), Var(v=-0.0507, grad=0.0000), Var(v=-0.1842, grad=0.0000), Var(v=0.0162, grad=0.0000), Var(v=0.0540, grad=0.0000), Var(v=0.0070, grad=0.0000), Var(v=-0.0641, grad=0.0000), Var(v=-0.1138, grad=0.0000), Var(v=0.0525, grad=0.0000), Var(v=-0.2218, grad=0.0000), Var(v=-0.0094, grad=0.0000), Var(v=0.0275, grad=0.0000), Var(v=0.1331, grad=0.0000), Var(v=-0.0545, grad=0.0000), Var(v=-0.0702, grad=0.0000), Var(v=0.0621, grad=0.0000), Var(v=0.1670, grad=0.0000), Var(v=-0.0485, grad=0.0000), Var(v=-0.0584, grad=0.0000)], [Var(v=0.1127, grad=0.0000), Var(v=0.0653, grad=0.0000), Var(v=0.1070, grad=0.0000), Var(v=-0.0835, grad=0.0000), Var(v=-0.1063, grad=0.0000), Var(v=-0.0743, grad=0.0000), Var(v=0.0020, grad=0.0000), Var(v=0.0398, grad=0.0000), Var(v=-0.1222, grad=0.0000), Var(v=-0.0022, grad=0.0000), Var(v=0.1721, grad=0.0000), Var(v=0.0168, grad=0.0000), Var(v=0.0250, grad=0.0000), Var(v=0.0526, grad=0.0000), Var(v=0.0340, grad=0.0000), Var(v=-0.0387, grad=0.0000), Var(v=-0.1268, grad=0.0000), Var(v=0.0024, grad=0.0000), Var(v=-0.1403, grad=0.0000), Var(v=-0.0853, grad=0.0000), Var(v=0.0849, grad=0.0000), Var(v=0.0012, grad=0.0000), Var(v=0.0569, grad=0.0000), Var(v=0.0590, grad=0.0000), Var(v=-0.0440, grad=0.0000), Var(v=0.0387, grad=0.0000), Var(v=0.1925, grad=0.0000), Var(v=0.0121, grad=0.0000), Var(v=0.0642, grad=0.0000), Var(v=-0.1009, grad=0.0000), Var(v=0.1257, grad=0.0000), Var(v=0.1271, grad=0.0000), Var(v=0.0201, grad=0.0000), Var(v=0.0628, grad=0.0000), Var(v=0.0356, grad=0.0000), Var(v=0.0209, grad=0.0000), Var(v=-0.0629, grad=0.0000), Var(v=-0.0910, grad=0.0000), Var(v=-0.0167, grad=0.0000), Var(v=-0.0169, grad=0.0000), Var(v=-0.1795, grad=0.0000), Var(v=-0.2178, grad=0.0000), Var(v=-0.0204, grad=0.0000), Var(v=-0.2010, grad=0.0000), Var(v=0.1354, grad=0.0000), Var(v=0.1688, grad=0.0000), Var(v=0.0480, grad=0.0000), Var(v=-0.1503, grad=0.0000), Var(v=0.0599, grad=0.0000), Var(v=-0.1730, grad=0.0000)], [Var(v=0.0224, grad=0.0000), Var(v=0.0967, grad=0.0000), Var(v=0.0742, grad=0.0000), Var(v=0.0048, grad=0.0000), Var(v=-0.0956, grad=0.0000), Var(v=0.0114, grad=0.0000), Var(v=0.1013, grad=0.0000), Var(v=-0.0438, grad=0.0000), Var(v=0.0659, grad=0.0000), Var(v=-0.1096, grad=0.0000), Var(v=-0.0346, grad=0.0000), Var(v=-0.1504, grad=0.0000), Var(v=-0.2555, grad=0.0000), Var(v=0.0402, grad=0.0000), Var(v=-0.0944, grad=0.0000), Var(v=0.0658, grad=0.0000), Var(v=-0.0191, grad=0.0000), Var(v=0.0422, grad=0.0000), Var(v=0.0096, grad=0.0000), Var(v=0.2049, grad=0.0000), Var(v=-0.1152, grad=0.0000), Var(v=0.0114, grad=0.0000), Var(v=0.0350, grad=0.0000), Var(v=-0.1106, grad=0.0000), Var(v=-0.1330, grad=0.0000), Var(v=-0.0669, grad=0.0000), Var(v=0.1023, grad=0.0000), Var(v=0.0466, grad=0.0000), Var(v=0.0183, grad=0.0000), Var(v=0.0413, grad=0.0000), Var(v=0.1525, grad=0.0000), Var(v=0.0101, grad=0.0000), Var(v=0.1148, grad=0.0000), Var(v=-0.0290, grad=0.0000), Var(v=0.1278, grad=0.0000), Var(v=0.1530, grad=0.0000), Var(v=-0.1481, grad=0.0000), Var(v=0.0583, grad=0.0000), Var(v=0.0524, grad=0.0000), Var(v=-0.0901, grad=0.0000), Var(v=0.0281, grad=0.0000), Var(v=0.0617, grad=0.0000), Var(v=-0.1038, grad=0.0000), Var(v=-0.1044, grad=0.0000), Var(v=-0.0171, grad=0.0000), Var(v=0.0275, grad=0.0000), Var(v=0.1084, grad=0.0000), Var(v=-0.1065, grad=0.0000), Var(v=-0.0045, grad=0.0000), Var(v=0.1402, grad=0.0000)], [Var(v=-0.1394, grad=0.0000), Var(v=0.0683, grad=0.0000), Var(v=-0.0152, grad=0.0000), Var(v=0.0683, grad=0.0000), Var(v=0.0264, grad=0.0000), Var(v=0.0143, grad=0.0000), Var(v=0.0685, grad=0.0000), Var(v=-0.1710, grad=0.0000), Var(v=0.0105, grad=0.0000), Var(v=0.2051, grad=0.0000), Var(v=0.1256, grad=0.0000), Var(v=0.0829, grad=0.0000), Var(v=-0.0127, grad=0.0000), Var(v=0.0055, grad=0.0000), Var(v=-0.0485, grad=0.0000), Var(v=0.0526, grad=0.0000), Var(v=-0.0885, grad=0.0000), Var(v=0.1506, grad=0.0000), Var(v=0.0030, grad=0.0000), Var(v=0.0539, grad=0.0000), Var(v=-0.0319, grad=0.0000), Var(v=0.0728, grad=0.0000), Var(v=-0.0476, grad=0.0000), Var(v=0.3375, grad=0.0000), Var(v=0.0802, grad=0.0000), Var(v=0.1460, grad=0.0000), Var(v=-0.0366, grad=0.0000), Var(v=-0.0719, grad=0.0000), Var(v=-0.1499, grad=0.0000), Var(v=-0.0934, grad=0.0000), Var(v=0.0842, grad=0.0000), Var(v=0.0240, grad=0.0000), Var(v=0.1333, grad=0.0000), Var(v=-0.0155, grad=0.0000), Var(v=-0.1662, grad=0.0000), Var(v=-0.0540, grad=0.0000), Var(v=0.1235, grad=0.0000), Var(v=-0.0381, grad=0.0000), Var(v=0.1261, grad=0.0000), Var(v=0.0184, grad=0.0000), Var(v=0.0048, grad=0.0000), Var(v=-0.0578, grad=0.0000), Var(v=-0.0776, grad=0.0000), Var(v=0.1760, grad=0.0000), Var(v=-0.0980, grad=0.0000), Var(v=0.0642, grad=0.0000), Var(v=0.2563, grad=0.0000), Var(v=-0.0098, grad=0.0000), Var(v=0.0663, grad=0.0000), Var(v=0.0259, grad=0.0000)], [Var(v=0.1659, grad=0.0000), Var(v=0.0293, grad=0.0000), Var(v=0.0401, grad=0.0000), Var(v=-0.2359, grad=0.0000), Var(v=-0.0612, grad=0.0000), Var(v=0.2065, grad=0.0000), Var(v=-0.1534, grad=0.0000), Var(v=0.0131, grad=0.0000), Var(v=0.0398, grad=0.0000), Var(v=-0.1340, grad=0.0000), Var(v=0.0635, grad=0.0000), Var(v=-0.0456, grad=0.0000), Var(v=0.0917, grad=0.0000), Var(v=-0.0035, grad=0.0000), Var(v=-0.1769, grad=0.0000), Var(v=-0.0138, grad=0.0000), Var(v=0.0864, grad=0.0000), Var(v=-0.0002, grad=0.0000), Var(v=0.1438, grad=0.0000), Var(v=-0.0882, grad=0.0000), Var(v=-0.0744, grad=0.0000), Var(v=-0.0406, grad=0.0000), Var(v=0.2023, grad=0.0000), Var(v=0.1355, grad=0.0000), Var(v=-0.2074, grad=0.0000), Var(v=0.0363, grad=0.0000), Var(v=-0.0380, grad=0.0000), Var(v=-0.0220, grad=0.0000), Var(v=0.0949, grad=0.0000), Var(v=-0.0297, grad=0.0000), Var(v=-0.1777, grad=0.0000), Var(v=-0.0101, grad=0.0000), Var(v=0.0530, grad=0.0000), Var(v=-0.0653, grad=0.0000), Var(v=0.1489, grad=0.0000), Var(v=-0.0683, grad=0.0000), Var(v=0.0060, grad=0.0000), Var(v=-0.0106, grad=0.0000), Var(v=0.1054, grad=0.0000), Var(v=0.1477, grad=0.0000), Var(v=-0.2176, grad=0.0000), Var(v=0.0413, grad=0.0000), Var(v=-0.1435, grad=0.0000), Var(v=-0.0754, grad=0.0000), Var(v=0.0031, grad=0.0000), Var(v=0.0914, grad=0.0000), Var(v=0.0873, grad=0.0000), Var(v=0.0515, grad=0.0000), Var(v=-0.0374, grad=0.0000), Var(v=0.0135, grad=0.0000)], [Var(v=0.0856, grad=0.0000), Var(v=0.0249, grad=0.0000), Var(v=-0.1879, grad=0.0000), Var(v=0.1028, grad=0.0000), Var(v=0.0919, grad=0.0000), Var(v=0.0915, grad=0.0000), Var(v=0.1450, grad=0.0000), Var(v=0.1129, grad=0.0000), Var(v=0.1502, grad=0.0000), Var(v=-0.0489, grad=0.0000), Var(v=0.0679, grad=0.0000), Var(v=-0.0069, grad=0.0000), Var(v=-0.0877, grad=0.0000), Var(v=-0.1083, grad=0.0000), Var(v=-0.0020, grad=0.0000), Var(v=0.0155, grad=0.0000), Var(v=0.0805, grad=0.0000), Var(v=0.0901, grad=0.0000), Var(v=-0.0092, grad=0.0000), Var(v=0.2021, grad=0.0000), Var(v=-0.0734, grad=0.0000), Var(v=-0.0010, grad=0.0000), Var(v=0.0256, grad=0.0000), Var(v=0.0066, grad=0.0000), Var(v=0.1607, grad=0.0000), Var(v=0.0238, grad=0.0000), Var(v=-0.2241, grad=0.0000), Var(v=-0.0550, grad=0.0000), Var(v=0.0689, grad=0.0000), Var(v=-0.0694, grad=0.0000), Var(v=0.0996, grad=0.0000), Var(v=-0.0610, grad=0.0000), Var(v=0.0556, grad=0.0000), Var(v=-0.1233, grad=0.0000), Var(v=-0.0035, grad=0.0000), Var(v=0.0176, grad=0.0000), Var(v=-0.0725, grad=0.0000), Var(v=0.0315, grad=0.0000), Var(v=0.1507, grad=0.0000), Var(v=0.0356, grad=0.0000), Var(v=-0.0932, grad=0.0000), Var(v=-0.0583, grad=0.0000), Var(v=-0.1348, grad=0.0000), Var(v=-0.0759, grad=0.0000), Var(v=0.0608, grad=0.0000), Var(v=0.0152, grad=0.0000), Var(v=0.1039, grad=0.0000), Var(v=0.1237, grad=0.0000), Var(v=0.0612, grad=0.0000), Var(v=-0.0402, grad=0.0000)], [Var(v=-0.0027, grad=0.0000), Var(v=-0.0887, grad=0.0000), Var(v=0.0046, grad=0.0000), Var(v=0.0104, grad=0.0000), Var(v=-0.1085, grad=0.0000), Var(v=-0.0035, grad=0.0000), Var(v=-0.0960, grad=0.0000), Var(v=-0.0067, grad=0.0000), Var(v=0.1107, grad=0.0000), Var(v=0.1655, grad=0.0000), Var(v=-0.0746, grad=0.0000), Var(v=0.0733, grad=0.0000), Var(v=0.0966, grad=0.0000), Var(v=-0.1892, grad=0.0000), Var(v=0.0310, grad=0.0000), Var(v=-0.0182, grad=0.0000), Var(v=0.0858, grad=0.0000), Var(v=-0.0225, grad=0.0000), Var(v=0.0256, grad=0.0000), Var(v=-0.0316, grad=0.0000), Var(v=0.0110, grad=0.0000), Var(v=0.1252, grad=0.0000), Var(v=-0.0471, grad=0.0000), Var(v=0.0073, grad=0.0000), Var(v=0.0335, grad=0.0000), Var(v=-0.0662, grad=0.0000), Var(v=-0.0812, grad=0.0000), Var(v=-0.0920, grad=0.0000), Var(v=-0.0634, grad=0.0000), Var(v=0.0720, grad=0.0000), Var(v=0.0958, grad=0.0000), Var(v=0.0380, grad=0.0000), Var(v=0.0503, grad=0.0000), Var(v=-0.1068, grad=0.0000), Var(v=-0.1607, grad=0.0000), Var(v=0.1633, grad=0.0000), Var(v=-0.1337, grad=0.0000), Var(v=-0.1784, grad=0.0000), Var(v=-0.0827, grad=0.0000), Var(v=-0.0785, grad=0.0000), Var(v=0.0414, grad=0.0000), Var(v=0.0625, grad=0.0000), Var(v=-0.0544, grad=0.0000), Var(v=-0.1551, grad=0.0000), Var(v=-0.0890, grad=0.0000), Var(v=-0.1149, grad=0.0000), Var(v=0.0132, grad=0.0000), Var(v=0.0641, grad=0.0000), Var(v=0.0093, grad=0.0000), Var(v=-0.0125, grad=0.0000)], [Var(v=-0.1442, grad=0.0000), Var(v=-0.0084, grad=0.0000), Var(v=0.0615, grad=0.0000), Var(v=0.0510, grad=0.0000), Var(v=-0.0252, grad=0.0000), Var(v=0.1349, grad=0.0000), Var(v=-0.1814, grad=0.0000), Var(v=0.0773, grad=0.0000), Var(v=-0.0777, grad=0.0000), Var(v=0.0179, grad=0.0000), Var(v=-0.1029, grad=0.0000), Var(v=0.1922, grad=0.0000), Var(v=0.0916, grad=0.0000), Var(v=0.0438, grad=0.0000), Var(v=-0.2103, grad=0.0000), Var(v=0.0680, grad=0.0000), Var(v=0.0894, grad=0.0000), Var(v=0.0932, grad=0.0000), Var(v=-0.0885, grad=0.0000), Var(v=-0.0385, grad=0.0000), Var(v=-0.0504, grad=0.0000), Var(v=0.1099, grad=0.0000), Var(v=0.0511, grad=0.0000), Var(v=0.0474, grad=0.0000), Var(v=0.0257, grad=0.0000), Var(v=-0.0568, grad=0.0000), Var(v=0.0054, grad=0.0000), Var(v=-0.0639, grad=0.0000), Var(v=-0.2315, grad=0.0000), Var(v=0.2141, grad=0.0000), Var(v=-0.1754, grad=0.0000), Var(v=-0.0447, grad=0.0000), Var(v=-0.0869, grad=0.0000), Var(v=-0.0541, grad=0.0000), Var(v=0.0064, grad=0.0000), Var(v=0.0043, grad=0.0000), Var(v=0.0537, grad=0.0000), Var(v=0.1193, grad=0.0000), Var(v=-0.0627, grad=0.0000), Var(v=-0.2039, grad=0.0000), Var(v=0.0612, grad=0.0000), Var(v=0.0496, grad=0.0000), Var(v=-0.1758, grad=0.0000), Var(v=-0.0410, grad=0.0000), Var(v=-0.0037, grad=0.0000), Var(v=0.1449, grad=0.0000), Var(v=-0.1002, grad=0.0000), Var(v=0.0890, grad=0.0000), Var(v=0.1421, grad=0.0000), Var(v=-0.1418, grad=0.0000)], [Var(v=-0.0343, grad=0.0000), Var(v=0.0292, grad=0.0000), Var(v=0.1439, grad=0.0000), Var(v=0.0038, grad=0.0000), Var(v=0.0116, grad=0.0000), Var(v=-0.1108, grad=0.0000), Var(v=0.0369, grad=0.0000), Var(v=-0.0324, grad=0.0000), Var(v=-0.0074, grad=0.0000), Var(v=-0.0867, grad=0.0000), Var(v=0.2031, grad=0.0000), Var(v=0.1091, grad=0.0000), Var(v=0.0126, grad=0.0000), Var(v=-0.0555, grad=0.0000), Var(v=-0.0277, grad=0.0000), Var(v=0.1174, grad=0.0000), Var(v=-0.0757, grad=0.0000), Var(v=-0.1403, grad=0.0000), Var(v=0.0205, grad=0.0000), Var(v=-0.0092, grad=0.0000), Var(v=0.0285, grad=0.0000), Var(v=-0.0325, grad=0.0000), Var(v=-0.0852, grad=0.0000), Var(v=0.1064, grad=0.0000), Var(v=0.0862, grad=0.0000), Var(v=-0.0370, grad=0.0000), Var(v=-0.0421, grad=0.0000), Var(v=-0.0105, grad=0.0000), Var(v=-0.0352, grad=0.0000), Var(v=0.0441, grad=0.0000), Var(v=0.0209, grad=0.0000), Var(v=0.0831, grad=0.0000), Var(v=0.0570, grad=0.0000), Var(v=0.0545, grad=0.0000), Var(v=0.0100, grad=0.0000), Var(v=-0.0347, grad=0.0000), Var(v=-0.0389, grad=0.0000), Var(v=0.1013, grad=0.0000), Var(v=0.1142, grad=0.0000), Var(v=0.0319, grad=0.0000), Var(v=-0.0152, grad=0.0000), Var(v=-0.0507, grad=0.0000), Var(v=0.0927, grad=0.0000), Var(v=0.0938, grad=0.0000), Var(v=-0.0344, grad=0.0000), Var(v=0.1168, grad=0.0000), Var(v=-0.0425, grad=0.0000), Var(v=0.0783, grad=0.0000), Var(v=-0.0390, grad=0.0000), Var(v=0.0522, grad=0.0000)]] Biases: [Var(v=0.0001, grad=0.0000), Var(v=0.0617, grad=0.0000), Var(v=-0.0632, grad=0.0000), Var(v=-0.0412, grad=0.0000), Var(v=0.0000, grad=0.0000), Var(v=0.0004, grad=0.0000), Var(v=0.1842, grad=0.0000), Var(v=-0.0363, grad=0.0000), Var(v=0.0004, grad=0.0000), Var(v=0.0000, grad=0.0000), Var(v=0.0899, grad=0.0000), Var(v=-0.0134, grad=0.0000), Var(v=0.0406, grad=0.0000), Var(v=0.0000, grad=0.0000), Var(v=0.0000, grad=0.0000), Var(v=0.0001, grad=0.0000), Var(v=0.0244, grad=0.0000), Var(v=0.0000, grad=0.0000), Var(v=-0.0257, grad=0.0000), Var(v=0.0527, grad=0.0000), Var(v=0.0000, grad=0.0000), Var(v=0.0000, grad=0.0000), Var(v=0.1021, grad=0.0000), Var(v=-0.0002, grad=0.0000), Var(v=0.0000, grad=0.0000), Var(v=0.0275, grad=0.0000), Var(v=0.0515, grad=0.0000), Var(v=0.0757, grad=0.0000), Var(v=0.0114, grad=0.0000), Var(v=0.0000, grad=0.0000), Var(v=0.1049, grad=0.0000), Var(v=-0.0003, grad=0.0000), Var(v=0.0000, grad=0.0000), Var(v=0.0000, grad=0.0000), Var(v=0.0000, grad=0.0000), Var(v=0.0004, grad=0.0000), Var(v=0.0000, grad=0.0000), Var(v=-0.2204, grad=0.0000), Var(v=0.0000, grad=0.0000), Var(v=-0.0002, grad=0.0000), Var(v=0.0000, grad=0.0000), Var(v=0.0061, grad=0.0000), Var(v=0.0000, grad=0.0000), Var(v=0.0000, grad=0.0000), Var(v=0.0002, grad=0.0000), Var(v=-0.0001, grad=0.0000), Var(v=-0.0001, grad=0.0000), Var(v=-0.0003, grad=0.0000), Var(v=0.0017, grad=0.0000), Var(v=0.0001, grad=0.0000)]\n",
            "Layer 2 \n",
            " Weights: [[Var(v=0.0195, grad=0.0000)], [Var(v=-0.0988, grad=0.0000)], [Var(v=0.0417, grad=0.0000)], [Var(v=0.0336, grad=0.0000)], [Var(v=0.0060, grad=0.0000)], [Var(v=0.1773, grad=0.0000)], [Var(v=-0.2349, grad=0.0000)], [Var(v=-0.0379, grad=0.0000)], [Var(v=0.1626, grad=0.0000)], [Var(v=-0.0294, grad=0.0000)], [Var(v=-0.1059, grad=0.0000)], [Var(v=-0.0109, grad=0.0000)], [Var(v=0.0617, grad=0.0000)], [Var(v=0.0524, grad=0.0000)], [Var(v=-0.0334, grad=0.0000)], [Var(v=0.0393, grad=0.0000)], [Var(v=0.0433, grad=0.0000)], [Var(v=-0.0804, grad=0.0000)], [Var(v=0.0002, grad=0.0000)], [Var(v=-0.0906, grad=0.0000)], [Var(v=0.0096, grad=0.0000)], [Var(v=0.0075, grad=0.0000)], [Var(v=0.1382, grad=0.0000)], [Var(v=-0.1070, grad=0.0000)], [Var(v=-0.0419, grad=0.0000)], [Var(v=-0.0385, grad=0.0000)], [Var(v=-0.0907, grad=0.0000)], [Var(v=-0.0955, grad=0.0000)], [Var(v=0.0225, grad=0.0000)], [Var(v=0.0558, grad=0.0000)], [Var(v=-0.1712, grad=0.0000)], [Var(v=-0.1311, grad=0.0000)], [Var(v=-0.0003, grad=0.0000)], [Var(v=0.0263, grad=0.0000)], [Var(v=-0.0006, grad=0.0000)], [Var(v=0.1792, grad=0.0000)], [Var(v=-0.0298, grad=0.0000)], [Var(v=0.2522, grad=0.0000)], [Var(v=0.0243, grad=0.0000)], [Var(v=-0.0947, grad=0.0000)], [Var(v=-0.0209, grad=0.0000)], [Var(v=-0.0098, grad=0.0000)], [Var(v=-0.0406, grad=0.0000)], [Var(v=0.0532, grad=0.0000)], [Var(v=0.0915, grad=0.0000)], [Var(v=-0.0614, grad=0.0000)], [Var(v=-0.0712, grad=0.0000)], [Var(v=-0.1299, grad=0.0000)], [Var(v=-0.0043, grad=0.0000)], [Var(v=0.0356, grad=0.0000)]] Biases: [Var(v=0.0023, grad=0.0000)]\n"
          ]
        },
        {
          "output_type": "execute_result",
          "data": {
            "text/plain": [
              "[None, None, None]"
            ]
          },
          "metadata": {},
          "execution_count": 97
        }
      ],
      "source": [
        "print('Network before update:')\n",
        "[print('Layer', i, '\\n', NN[i]) for i in range(len(NN))] \n",
        "\n",
        "def parameters(network):\n",
        "  params = []\n",
        "  for layer in range(len(network)):\n",
        "    params += network[layer].parameters()\n",
        "  return params\n",
        "\n",
        "def update_parameters(params, learning_rate=0.01):\n",
        "  for p in params:\n",
        "    p.v -= learning_rate*p.grad\n",
        "\n",
        "def zero_gradients(params):\n",
        "  for p in params:\n",
        "    p.grad = 0.0\n",
        "\n",
        "update_parameters(parameters(NN))\n",
        "\n",
        "print('\\nNetwork after update:')\n",
        "[print('Layer', i, '\\n', NN[i]) for i in range(len(NN))] \n",
        "\n",
        "zero_gradients(parameters(NN))\n",
        "\n",
        "print('\\nNetwork after zeroing gradients:')\n",
        "[print('Layer', i, '\\n', NN[i]) for i in range(len(NN))] "
      ]
    },
    {
      "cell_type": "code",
      "execution_count": 98,
      "metadata": {
        "id": "woWYpdw6FtIO"
      },
      "outputs": [],
      "source": [
        "# Initialize an arbitrary neural network\n",
        "NN = [\n",
        "    DenseLayer(1, 8, lambda x: x.relu()),\n",
        "    DenseLayer(8, 1, lambda x: x.identity())\n",
        "]\n",
        "\n",
        "# Recommended hyper-parameters for 3-D: \n",
        "#NN = [\n",
        "#    DenseLayer(3, 16, lambda x: x.relu()),\n",
        "#    DenseLayer(16, 1, lambda x: x.identity())\n",
        "#]\n",
        "\n",
        "\n",
        "### Notice that, when we switch from tanh to relu activation, we decrease the learning rate. This is due the stability of the gradients \n",
        "## of the activation functions."
      ]
    },
    {
      "cell_type": "code",
      "execution_count": 99,
      "metadata": {
        "id": "mdqaqYBVFtIR"
      },
      "outputs": [],
      "source": [
        "# Initialize training hyperparameters\n",
        "EPOCHS = 200\n",
        "LEARN_R = 2e-3 "
      ]
    },
    {
      "cell_type": "code",
      "execution_count": 100,
      "metadata": {
        "id": "5kfg76GMFtIW",
        "scrolled": true,
        "outputId": "ef99de4c-d518-4e92-fde4-86337a0d8c64",
        "colab": {
          "base_uri": "https://localhost:8080/"
        }
      },
      "outputs": [
        {
          "output_type": "stream",
          "name": "stdout",
          "text": [
            "   0 ( 0.00%) Train loss: 105.490 \t Validation loss: 103.076\n",
            "  10 ( 5.00%) Train loss: 18.750 \t Validation loss: 14.406\n",
            "  20 (10.00%) Train loss: 13.837 \t Validation loss: 10.727\n",
            "  30 (15.00%) Train loss: 13.282 \t Validation loss: 10.184\n",
            "  40 (20.00%) Train loss: 12.894 \t Validation loss: 9.742\n",
            "  50 (25.00%) Train loss: 12.654 \t Validation loss: 9.419\n",
            "  60 (30.00%) Train loss: 12.483 \t Validation loss: 9.189\n",
            "  70 (35.00%) Train loss: 12.352 \t Validation loss: 9.028\n",
            "  80 (40.00%) Train loss: 12.245 \t Validation loss: 8.939\n",
            "  90 (45.00%) Train loss: 12.143 \t Validation loss: 8.905\n",
            " 100 (50.00%) Train loss: 12.071 \t Validation loss: 8.887\n",
            " 110 (55.00%) Train loss: 12.013 \t Validation loss: 8.903\n",
            " 120 (60.00%) Train loss: 11.959 \t Validation loss: 8.929\n",
            " 130 (65.00%) Train loss: 11.907 \t Validation loss: 8.941\n",
            " 140 (70.00%) Train loss: 11.890 \t Validation loss: 8.949\n",
            " 150 (75.00%) Train loss: 11.882 \t Validation loss: 8.959\n",
            " 160 (80.00%) Train loss: 11.877 \t Validation loss: 8.968\n",
            " 170 (85.00%) Train loss: 11.875 \t Validation loss: 8.975\n",
            " 180 (90.00%) Train loss: 11.873 \t Validation loss: 8.981\n",
            " 190 (95.00%) Train loss: 11.872 \t Validation loss: 8.986\n"
          ]
        }
      ],
      "source": [
        "train_loss = []\n",
        "val_loss = []\n",
        "\n",
        "for e in range(EPOCHS):\n",
        "     \n",
        "    # Forward pass and loss computation\n",
        "    Loss = squared_loss(y_train, forward(x_train, NN))\n",
        "\n",
        "    # Backward pass\n",
        "    Loss.backward()\n",
        "    \n",
        "    # gradient descent update\n",
        "    update_parameters(parameters(NN), LEARN_R)\n",
        "    zero_gradients(parameters(NN))\n",
        "    \n",
        "    # Training loss\n",
        "    train_loss.append(Loss.v)\n",
        "    \n",
        "    # Validation\n",
        "    Loss_validation = squared_loss(y_validation, forward(x_validation, NN))\n",
        "    val_loss.append(Loss_validation.v)\n",
        "    \n",
        "    if e%10==0:\n",
        "        print(\"{:4d}\".format(e),\n",
        "              \"({:5.2f}%)\".format(e/EPOCHS*100), \n",
        "              \"Train loss: {:4.3f} \\t Validation loss: {:4.3f}\".format(train_loss[-1], val_loss[-1]))\n",
        "        \n"
      ]
    },
    {
      "cell_type": "code",
      "execution_count": 101,
      "metadata": {
        "id": "VetyRWFwFtIY",
        "outputId": "0506f456-0e1a-4d2b-b06c-7bd642a32c78",
        "colab": {
          "base_uri": "https://localhost:8080/",
          "height": 265
        }
      },
      "outputs": [
        {
          "output_type": "display_data",
          "data": {
            "text/plain": [
              "<Figure size 432x288 with 1 Axes>"
            ],
            "image/png": "[encoded data removed]"
          },
          "metadata": {
            "needs_background": "light"
          }
        }
      ],
      "source": [
        "plt.plot(range(len(train_loss)), train_loss);\n",
        "plt.plot(range(len(val_loss)), val_loss);"
      ]
    },
    {
      "cell_type": "markdown",
      "metadata": {
        "id": "8OgmIrM9FtIb"
      },
      "source": [
        "# Testing\n",
        "\n",
        "We have kept the calculation of the test error separate in order to emphasize that you should not use the test set in optimization."
      ]
    },
    {
      "cell_type": "code",
      "execution_count": 102,
      "metadata": {
        "id": "HmNi7S-vFtIc"
      },
      "outputs": [],
      "source": [
        "output_test = forward(x_test, NN)"
      ]
    },
    {
      "cell_type": "code",
      "execution_count": 103,
      "metadata": {
        "id": "7mmJOTSEFtIf",
        "outputId": "5151e70c-8063-4e77-fe63-7a2115e9f520",
        "colab": {
          "base_uri": "https://localhost:8080/",
          "height": 314
        }
      },
      "outputs": [
        {
          "output_type": "stream",
          "name": "stdout",
          "text": [
            "Test loss:  9.784\n"
          ]
        },
        {
          "output_type": "display_data",
          "data": {
            "text/plain": [
              "<Figure size 432x288 with 1 Axes>"
            ],
            "image/png": "[encoded data removed]"
          },
          "metadata": {
            "needs_background": "light"
          }
        }
      ],
      "source": [
        "y_test_np = Var_to_nparray(y_test)\n",
        "plt.scatter(y_test_np, Var_to_nparray(output_test));\n",
        "plt.plot([np.min(y_test_np), np.max(y_test_np)], [np.min(y_test_np), np.max(y_test_np)], color='k');\n",
        "plt.xlabel(\"y\");\n",
        "plt.ylabel(\"$\\hat{y}$\");\n",
        "plt.title(\"Model prediction vs real in the test set, the close to the line the better\")\n",
        "plt.grid(True);\n",
        "plt.axis('equal');\n",
        "plt.tight_layout();\n",
        "\n",
        "Loss_test = squared_loss(y_test, forward(x_test, NN))\n",
        "\n",
        "print(\"Test loss:  {:4.3f}\".format(Loss_test.v))"
      ]
    },
    {
      "cell_type": "code",
      "execution_count": 104,
      "metadata": {
        "id": "ODi0WlmQFtIh",
        "outputId": "c425fd3e-07e5-4715-9ad7-4add3ce17d7b",
        "colab": {
          "base_uri": "https://localhost:8080/",
          "height": 279
        }
      },
      "outputs": [
        {
          "output_type": "display_data",
          "data": {
            "text/plain": [
              "<Figure size 432x288 with 1 Axes>"
            ],
            "image/png": "[encoded data removed]"
          },
          "metadata": {
            "needs_background": "light"
          }
        }
      ],
      "source": [
        "x_test_np = Var_to_nparray(x_test)\n",
        "x_train_np = Var_to_nparray(x_train)\n",
        "y_train_np = Var_to_nparray(y_train)\n",
        "if D1:\n",
        "    plt.scatter(x_train_np, y_train_np, label=\"train data\");\n",
        "    plt.scatter(x_test_np, Var_to_nparray(output_test), label=\"test prediction\");\n",
        "    plt.scatter(x_test_np, y_test_np, label=\"test data\");\n",
        "    plt.legend();\n",
        "    plt.xlabel(\"x\");\n",
        "    plt.ylabel(\"y\");\n",
        "else:\n",
        "    plt.scatter(x_train_np[:,1], y_train, label=\"train data\");\n",
        "    plt.scatter(x_test_np[:,1], Var_to_nparray(output_test), label=\"test data prediction\");\n",
        "    plt.scatter(x_test_np[:,1], y_test_np, label=\"test data\");\n",
        "    plt.legend();\n",
        "    plt.xlabel(\"x\");\n",
        "    plt.ylabel(\"y\");"
      ]
    },
    {
      "cell_type": "markdown",
      "metadata": {
        "id": "zTBAmjsAFtIk"
      },
      "source": [
        "## Exercise l) Show overfitting, underfitting and just right fitting\n",
        "\n",
        "Vary the architecture and other things to show clear signs of overfitting (=training loss significantly lower than test loss) and underfitting (=not fitting enoung to training data so that test performance is also hurt).\n",
        "\n",
        "See also if you can get a good compromise which leads to a low validation loss. \n",
        "\n",
        "For this problem do you see any big difference between validation and test loss? The answer here will probably be no. Discuss cases where it is important to keep the two separate.\n",
        "\n",
        "_Insert written answer here._\n"
      ]
    },
    {
      "cell_type": "markdown",
      "source": [
        "**Answer (l)**\n",
        "\n",
        "To show a case of overfitting, underfitting and 'just right' fitting, 3 networks are proposed. All three networks will be 1 input, 8 node hidden layer, and 1 output. With relu and identity activation functions. Same as the previous case.\n",
        "\n",
        "Other parameters could be used to exemplify these cases, but the parameter being focused for this showcase, is the number of epochs a model will go through during training.\n",
        "\n",
        "1. **Underfitting** For underfitting, the network will be trained through 10 epochs with a learning rate of 2e-3, meaning the network will barely see the data, which should result in an underfit. On the showcase of the models with the data, at the end, this is mostly noticable at the ends of the plot (green).\n",
        "\n",
        "2. **Just right** For the just right case, the previous case is used, of 200 epochs with a learning rate of 2e-3.\n",
        "\n",
        "3. **Overfitting** Finally, for the overfitting case, the network undergoes 5000 epochs with a learning rate of 2e-3. The overfit isn't particularly noticable on the plot showcase. Where it is noticable, however, is in the reported iterations during the training of the model. At some point, the validation error reaches a minimum, but as the model moves on further, the training error keeps decreasing, but the validation error increases from the previous mentioned minimum. This suggests an overfitting model. (Small note: Having ran it a couple of time, the case where there is a minimum in the validation error, whereafter it starts increasing again, is not always the case. There has also been cases where both errors keep falling and then stagnate completely. And one special case, where the error of both training and validation started increasing, from around 9% back up to 14%, this only happened once though.)\n",
        "\n",
        "Lastly, the training set error, validation set error, and test set error for the three models are shown. It is noticed that the validation and test errors are very much the same. Another rather noteworthy point is the fact that the training error is higher than the validation error and test set error, which is rather odd. As of now, no solution or explanation for this was found.\n",
        "\n",
        "A general, and could be most important, case, for which it is important to keep the validation and test sets seperate, is the case where you would hyperparameter tune the model. For example tweaking the amount of hidden layers, the amount of nodes of these layers, learning rate, changing activation function(s), as the most obvious ones."
      ],
      "metadata": {
        "id": "yfMqcW5UJnB-"
      }
    },
    {
      "cell_type": "code",
      "execution_count": 124,
      "metadata": {
        "id": "tQZCn2dxFtIl",
        "outputId": "eca86341-cd9a-4893-efc2-b926e6c9f653",
        "colab": {
          "base_uri": "https://localhost:8080/"
        }
      },
      "outputs": [
        {
          "output_type": "stream",
          "name": "stdout",
          "text": [
            "   0 ( 0.00%) Train loss: 101.651 \t Validation loss: 98.367\n",
            "   0 ( 0.00%) Train loss: 110.363 \t Validation loss: 109.484\n",
            "  10 ( 5.00%) Train loss: 68.967 \t Validation loss: 56.027\n",
            "  20 (10.00%) Train loss: 22.709 \t Validation loss: 18.375\n",
            "  30 (15.00%) Train loss: 18.154 \t Validation loss: 14.131\n",
            "  40 (20.00%) Train loss: 14.308 \t Validation loss: 11.320\n",
            "  50 (25.00%) Train loss: 13.157 \t Validation loss: 10.308\n",
            "  60 (30.00%) Train loss: 12.731 \t Validation loss: 9.864\n",
            "  70 (35.00%) Train loss: 12.554 \t Validation loss: 9.606\n",
            "  80 (40.00%) Train loss: 12.442 \t Validation loss: 9.443\n",
            "  90 (45.00%) Train loss: 12.380 \t Validation loss: 9.361\n",
            " 100 (50.00%) Train loss: 12.336 \t Validation loss: 9.309\n",
            " 110 (55.00%) Train loss: 12.300 \t Validation loss: 9.271\n",
            " 120 (60.00%) Train loss: 12.268 \t Validation loss: 9.241\n",
            " 130 (65.00%) Train loss: 12.242 \t Validation loss: 9.214\n",
            " 140 (70.00%) Train loss: 12.219 \t Validation loss: 9.192\n",
            " 150 (75.00%) Train loss: 12.199 \t Validation loss: 9.172\n",
            " 160 (80.00%) Train loss: 12.179 \t Validation loss: 9.167\n",
            " 170 (85.00%) Train loss: 12.163 \t Validation loss: 9.133\n",
            " 180 (90.00%) Train loss: 12.150 \t Validation loss: 9.121\n",
            " 190 (95.00%) Train loss: 12.138 \t Validation loss: 9.110\n",
            "   0 ( 0.00%) Train loss: 105.555 \t Validation loss: 105.648\n",
            "  10 ( 0.20%) Train loss: 51.838 \t Validation loss: 39.745\n",
            "  20 ( 0.40%) Train loss: 20.735 \t Validation loss: 16.502\n",
            "  30 ( 0.60%) Train loss: 16.676 \t Validation loss: 12.558\n",
            "  40 ( 0.80%) Train loss: 13.179 \t Validation loss: 10.158\n",
            "  50 ( 1.00%) Train loss: 12.191 \t Validation loss: 9.369\n",
            "  60 ( 1.20%) Train loss: 12.013 \t Validation loss: 9.121\n",
            "  70 ( 1.40%) Train loss: 11.963 \t Validation loss: 9.026\n",
            "  80 ( 1.60%) Train loss: 11.957 \t Validation loss: 9.005\n",
            "  90 ( 1.80%) Train loss: 11.953 \t Validation loss: 8.998\n",
            " 100 ( 2.00%) Train loss: 11.949 \t Validation loss: 8.990\n",
            " 110 ( 2.20%) Train loss: 11.947 \t Validation loss: 8.986\n",
            " 120 ( 2.40%) Train loss: 11.945 \t Validation loss: 8.973\n",
            " 130 ( 2.60%) Train loss: 11.943 \t Validation loss: 8.974\n",
            " 140 ( 2.80%) Train loss: 11.942 \t Validation loss: 8.968\n",
            " 150 ( 3.00%) Train loss: 11.940 \t Validation loss: 8.976\n",
            " 160 ( 3.20%) Train loss: 11.938 \t Validation loss: 8.965\n",
            " 170 ( 3.40%) Train loss: 11.937 \t Validation loss: 8.964\n",
            " 180 ( 3.60%) Train loss: 11.936 \t Validation loss: 8.963\n",
            " 190 ( 3.80%) Train loss: 11.934 \t Validation loss: 8.963\n",
            " 200 ( 4.00%) Train loss: 11.933 \t Validation loss: 8.964\n",
            " 210 ( 4.20%) Train loss: 11.932 \t Validation loss: 8.965\n",
            " 220 ( 4.40%) Train loss: 11.931 \t Validation loss: 8.965\n",
            " 230 ( 4.60%) Train loss: 11.929 \t Validation loss: 8.966\n",
            " 240 ( 4.80%) Train loss: 11.928 \t Validation loss: 8.966\n",
            " 250 ( 5.00%) Train loss: 11.928 \t Validation loss: 8.967\n",
            " 260 ( 5.20%) Train loss: 11.927 \t Validation loss: 8.963\n",
            " 270 ( 5.40%) Train loss: 11.927 \t Validation loss: 8.966\n",
            " 280 ( 5.60%) Train loss: 11.926 \t Validation loss: 8.962\n",
            " 290 ( 5.80%) Train loss: 11.926 \t Validation loss: 8.965\n",
            " 300 ( 6.00%) Train loss: 11.926 \t Validation loss: 8.961\n",
            " 310 ( 6.20%) Train loss: 11.925 \t Validation loss: 8.962\n",
            " 320 ( 6.40%) Train loss: 11.925 \t Validation loss: 8.962\n",
            " 330 ( 6.60%) Train loss: 11.924 \t Validation loss: 8.962\n",
            " 340 ( 6.80%) Train loss: 11.924 \t Validation loss: 8.967\n",
            " 350 ( 7.00%) Train loss: 11.923 \t Validation loss: 8.965\n",
            " 360 ( 7.20%) Train loss: 11.921 \t Validation loss: 8.976\n",
            " 370 ( 7.40%) Train loss: 11.919 \t Validation loss: 8.973\n",
            " 380 ( 7.60%) Train loss: 11.918 \t Validation loss: 8.983\n",
            " 390 ( 7.80%) Train loss: 11.916 \t Validation loss: 8.981\n",
            " 400 ( 8.00%) Train loss: 11.916 \t Validation loss: 8.987\n",
            " 410 ( 8.20%) Train loss: 11.915 \t Validation loss: 8.986\n",
            " 420 ( 8.40%) Train loss: 11.914 \t Validation loss: 8.992\n",
            " 430 ( 8.60%) Train loss: 11.913 \t Validation loss: 8.987\n",
            " 440 ( 8.80%) Train loss: 11.912 \t Validation loss: 8.991\n",
            " 450 ( 9.00%) Train loss: 11.912 \t Validation loss: 8.997\n",
            " 460 ( 9.20%) Train loss: 11.911 \t Validation loss: 8.996\n",
            " 470 ( 9.40%) Train loss: 11.908 \t Validation loss: 9.009\n",
            " 480 ( 9.60%) Train loss: 11.906 \t Validation loss: 9.008\n",
            " 490 ( 9.80%) Train loss: 11.899 \t Validation loss: 9.025\n",
            " 500 (10.00%) Train loss: 11.898 \t Validation loss: 9.027\n",
            " 510 (10.20%) Train loss: 11.898 \t Validation loss: 9.016\n",
            " 520 (10.40%) Train loss: 11.897 \t Validation loss: 9.024\n",
            " 530 (10.60%) Train loss: 11.897 \t Validation loss: 9.025\n",
            " 540 (10.80%) Train loss: 11.897 \t Validation loss: 9.025\n",
            " 550 (11.00%) Train loss: 11.897 \t Validation loss: 9.019\n",
            " 560 (11.20%) Train loss: 11.896 \t Validation loss: 9.019\n",
            " 570 (11.40%) Train loss: 11.896 \t Validation loss: 9.022\n",
            " 580 (11.60%) Train loss: 11.896 \t Validation loss: 9.024\n",
            " 590 (11.80%) Train loss: 11.896 \t Validation loss: 9.030\n",
            " 600 (12.00%) Train loss: 11.896 \t Validation loss: 9.023\n",
            " 610 (12.20%) Train loss: 11.896 \t Validation loss: 9.023\n",
            " 620 (12.40%) Train loss: 11.896 \t Validation loss: 9.024\n",
            " 630 (12.60%) Train loss: 11.895 \t Validation loss: 9.025\n",
            " 640 (12.80%) Train loss: 11.895 \t Validation loss: 9.026\n",
            " 650 (13.00%) Train loss: 11.895 \t Validation loss: 9.026\n",
            " 660 (13.20%) Train loss: 11.895 \t Validation loss: 9.026\n",
            " 670 (13.40%) Train loss: 11.895 \t Validation loss: 9.026\n",
            " 680 (13.60%) Train loss: 11.895 \t Validation loss: 9.030\n",
            " 690 (13.80%) Train loss: 11.895 \t Validation loss: 9.026\n",
            " 700 (14.00%) Train loss: 11.895 \t Validation loss: 9.026\n",
            " 710 (14.20%) Train loss: 11.895 \t Validation loss: 9.027\n",
            " 720 (14.40%) Train loss: 11.895 \t Validation loss: 9.027\n",
            " 730 (14.60%) Train loss: 11.895 \t Validation loss: 9.027\n",
            " 740 (14.80%) Train loss: 11.895 \t Validation loss: 9.027\n",
            " 750 (15.00%) Train loss: 11.895 \t Validation loss: 9.027\n",
            " 760 (15.20%) Train loss: 11.895 \t Validation loss: 9.027\n",
            " 770 (15.40%) Train loss: 11.895 \t Validation loss: 9.027\n",
            " 780 (15.60%) Train loss: 11.895 \t Validation loss: 9.028\n",
            " 790 (15.80%) Train loss: 11.895 \t Validation loss: 9.028\n",
            " 800 (16.00%) Train loss: 11.895 \t Validation loss: 9.028\n",
            " 810 (16.20%) Train loss: 11.895 \t Validation loss: 9.028\n",
            " 820 (16.40%) Train loss: 11.895 \t Validation loss: 9.028\n",
            " 830 (16.60%) Train loss: 11.895 \t Validation loss: 9.028\n",
            " 840 (16.80%) Train loss: 11.895 \t Validation loss: 9.028\n",
            " 850 (17.00%) Train loss: 11.895 \t Validation loss: 9.028\n",
            " 860 (17.20%) Train loss: 11.895 \t Validation loss: 9.028\n",
            " 870 (17.40%) Train loss: 11.895 \t Validation loss: 9.027\n",
            " 880 (17.60%) Train loss: 11.895 \t Validation loss: 9.028\n",
            " 890 (17.80%) Train loss: 11.895 \t Validation loss: 9.028\n",
            " 900 (18.00%) Train loss: 11.895 \t Validation loss: 9.027\n",
            " 910 (18.20%) Train loss: 11.895 \t Validation loss: 9.028\n",
            " 920 (18.40%) Train loss: 11.895 \t Validation loss: 9.027\n",
            " 930 (18.60%) Train loss: 11.895 \t Validation loss: 9.027\n",
            " 940 (18.80%) Train loss: 11.895 \t Validation loss: 9.027\n",
            " 950 (19.00%) Train loss: 11.895 \t Validation loss: 9.027\n",
            " 960 (19.20%) Train loss: 11.895 \t Validation loss: 9.027\n",
            " 970 (19.40%) Train loss: 11.895 \t Validation loss: 9.027\n",
            " 980 (19.60%) Train loss: 11.895 \t Validation loss: 9.027\n",
            " 990 (19.80%) Train loss: 11.895 \t Validation loss: 9.027\n",
            "1000 (20.00%) Train loss: 11.895 \t Validation loss: 9.027\n",
            "1010 (20.20%) Train loss: 11.895 \t Validation loss: 9.026\n",
            "1020 (20.40%) Train loss: 11.895 \t Validation loss: 9.027\n",
            "1030 (20.60%) Train loss: 11.895 \t Validation loss: 9.027\n",
            "1040 (20.80%) Train loss: 11.895 \t Validation loss: 9.027\n",
            "1050 (21.00%) Train loss: 11.895 \t Validation loss: 9.027\n",
            "1060 (21.20%) Train loss: 11.895 \t Validation loss: 9.027\n",
            "1070 (21.40%) Train loss: 11.895 \t Validation loss: 9.027\n",
            "1080 (21.60%) Train loss: 11.895 \t Validation loss: 9.026\n",
            "1090 (21.80%) Train loss: 11.895 \t Validation loss: 9.027\n",
            "1100 (22.00%) Train loss: 11.895 \t Validation loss: 9.027\n",
            "1110 (22.20%) Train loss: 11.895 \t Validation loss: 9.027\n",
            "1120 (22.40%) Train loss: 11.895 \t Validation loss: 9.027\n",
            "1130 (22.60%) Train loss: 11.895 \t Validation loss: 9.026\n",
            "1140 (22.80%) Train loss: 11.895 \t Validation loss: 9.027\n",
            "1150 (23.00%) Train loss: 11.894 \t Validation loss: 9.027\n",
            "1160 (23.20%) Train loss: 11.894 \t Validation loss: 9.026\n",
            "1170 (23.40%) Train loss: 11.894 \t Validation loss: 9.027\n",
            "1180 (23.60%) Train loss: 11.894 \t Validation loss: 9.026\n",
            "1190 (23.80%) Train loss: 11.894 \t Validation loss: 9.026\n",
            "1200 (24.00%) Train loss: 11.894 \t Validation loss: 9.027\n",
            "1210 (24.20%) Train loss: 11.894 \t Validation loss: 9.026\n",
            "1220 (24.40%) Train loss: 11.894 \t Validation loss: 9.027\n",
            "1230 (24.60%) Train loss: 11.894 \t Validation loss: 9.027\n",
            "1240 (24.80%) Train loss: 11.894 \t Validation loss: 9.026\n",
            "1250 (25.00%) Train loss: 11.894 \t Validation loss: 9.027\n",
            "1260 (25.20%) Train loss: 11.894 \t Validation loss: 9.027\n",
            "1270 (25.40%) Train loss: 11.894 \t Validation loss: 9.026\n",
            "1280 (25.60%) Train loss: 11.894 \t Validation loss: 9.027\n",
            "1290 (25.80%) Train loss: 11.894 \t Validation loss: 9.027\n",
            "1300 (26.00%) Train loss: 11.894 \t Validation loss: 9.026\n",
            "1310 (26.20%) Train loss: 11.894 \t Validation loss: 9.027\n",
            "1320 (26.40%) Train loss: 11.894 \t Validation loss: 9.027\n",
            "1330 (26.60%) Train loss: 11.894 \t Validation loss: 9.027\n",
            "1340 (26.80%) Train loss: 11.894 \t Validation loss: 9.026\n",
            "1350 (27.00%) Train loss: 11.894 \t Validation loss: 9.027\n",
            "1360 (27.20%) Train loss: 11.894 \t Validation loss: 9.027\n",
            "1370 (27.40%) Train loss: 11.894 \t Validation loss: 9.027\n",
            "1380 (27.60%) Train loss: 11.894 \t Validation loss: 9.026\n",
            "1390 (27.80%) Train loss: 11.894 \t Validation loss: 9.027\n",
            "1400 (28.00%) Train loss: 11.894 \t Validation loss: 9.027\n",
            "1410 (28.20%) Train loss: 11.894 \t Validation loss: 9.027\n",
            "1420 (28.40%) Train loss: 11.894 \t Validation loss: 9.027\n",
            "1430 (28.60%) Train loss: 11.894 \t Validation loss: 9.027\n",
            "1440 (28.80%) Train loss: 11.894 \t Validation loss: 9.027\n",
            "1450 (29.00%) Train loss: 11.894 \t Validation loss: 9.027\n",
            "1460 (29.20%) Train loss: 11.894 \t Validation loss: 9.027\n",
            "1470 (29.40%) Train loss: 11.894 \t Validation loss: 9.027\n",
            "1480 (29.60%) Train loss: 11.894 \t Validation loss: 9.027\n",
            "1490 (29.80%) Train loss: 11.894 \t Validation loss: 9.027\n",
            "1500 (30.00%) Train loss: 11.894 \t Validation loss: 9.027\n",
            "1510 (30.20%) Train loss: 11.894 \t Validation loss: 9.026\n",
            "1520 (30.40%) Train loss: 11.894 \t Validation loss: 9.027\n",
            "1530 (30.60%) Train loss: 11.894 \t Validation loss: 9.027\n",
            "1540 (30.80%) Train loss: 11.894 \t Validation loss: 9.027\n",
            "1550 (31.00%) Train loss: 11.894 \t Validation loss: 9.027\n",
            "1560 (31.20%) Train loss: 11.894 \t Validation loss: 9.027\n",
            "1570 (31.40%) Train loss: 11.894 \t Validation loss: 9.027\n",
            "1580 (31.60%) Train loss: 11.894 \t Validation loss: 9.027\n",
            "1590 (31.80%) Train loss: 11.894 \t Validation loss: 9.027\n",
            "1600 (32.00%) Train loss: 11.894 \t Validation loss: 9.027\n",
            "1610 (32.20%) Train loss: 11.894 \t Validation loss: 9.027\n",
            "1620 (32.40%) Train loss: 11.894 \t Validation loss: 9.027\n",
            "1630 (32.60%) Train loss: 11.894 \t Validation loss: 9.027\n",
            "1640 (32.80%) Train loss: 11.894 \t Validation loss: 9.027\n",
            "1650 (33.00%) Train loss: 11.894 \t Validation loss: 9.027\n",
            "1660 (33.20%) Train loss: 11.894 \t Validation loss: 9.027\n",
            "1670 (33.40%) Train loss: 11.894 \t Validation loss: 9.027\n",
            "1680 (33.60%) Train loss: 11.894 \t Validation loss: 9.027\n",
            "1690 (33.80%) Train loss: 11.894 \t Validation loss: 9.027\n",
            "1700 (34.00%) Train loss: 11.894 \t Validation loss: 9.028\n",
            "1710 (34.20%) Train loss: 11.894 \t Validation loss: 9.028\n",
            "1720 (34.40%) Train loss: 11.894 \t Validation loss: 9.028\n",
            "1730 (34.60%) Train loss: 11.894 \t Validation loss: 9.028\n",
            "1740 (34.80%) Train loss: 11.894 \t Validation loss: 9.028\n",
            "1750 (35.00%) Train loss: 11.894 \t Validation loss: 9.028\n",
            "1760 (35.20%) Train loss: 11.894 \t Validation loss: 9.028\n",
            "1770 (35.40%) Train loss: 11.894 \t Validation loss: 9.027\n",
            "1780 (35.60%) Train loss: 11.894 \t Validation loss: 9.028\n",
            "1790 (35.80%) Train loss: 11.894 \t Validation loss: 9.028\n",
            "1800 (36.00%) Train loss: 11.894 \t Validation loss: 9.028\n",
            "1810 (36.20%) Train loss: 11.894 \t Validation loss: 9.028\n",
            "1820 (36.40%) Train loss: 11.894 \t Validation loss: 9.028\n",
            "1830 (36.60%) Train loss: 11.894 \t Validation loss: 9.028\n",
            "1840 (36.80%) Train loss: 11.894 \t Validation loss: 9.028\n",
            "1850 (37.00%) Train loss: 11.894 \t Validation loss: 9.028\n",
            "1860 (37.20%) Train loss: 11.894 \t Validation loss: 9.028\n",
            "1870 (37.40%) Train loss: 11.894 \t Validation loss: 9.028\n",
            "1880 (37.60%) Train loss: 11.894 \t Validation loss: 9.028\n",
            "1890 (37.80%) Train loss: 11.894 \t Validation loss: 9.028\n",
            "1900 (38.00%) Train loss: 11.894 \t Validation loss: 9.028\n",
            "1910 (38.20%) Train loss: 11.894 \t Validation loss: 9.028\n",
            "1920 (38.40%) Train loss: 11.894 \t Validation loss: 9.028\n",
            "1930 (38.60%) Train loss: 11.894 \t Validation loss: 9.028\n",
            "1940 (38.80%) Train loss: 11.894 \t Validation loss: 9.028\n",
            "1950 (39.00%) Train loss: 11.894 \t Validation loss: 9.028\n",
            "1960 (39.20%) Train loss: 11.894 \t Validation loss: 9.028\n",
            "1970 (39.40%) Train loss: 11.894 \t Validation loss: 9.028\n",
            "1980 (39.60%) Train loss: 11.894 \t Validation loss: 9.028\n",
            "1990 (39.80%) Train loss: 11.894 \t Validation loss: 9.028\n",
            "2000 (40.00%) Train loss: 11.894 \t Validation loss: 9.028\n",
            "2010 (40.20%) Train loss: 11.894 \t Validation loss: 9.028\n",
            "2020 (40.40%) Train loss: 11.894 \t Validation loss: 9.029\n",
            "2030 (40.60%) Train loss: 11.894 \t Validation loss: 9.028\n",
            "2040 (40.80%) Train loss: 11.894 \t Validation loss: 9.029\n",
            "2050 (41.00%) Train loss: 11.894 \t Validation loss: 9.029\n",
            "2060 (41.20%) Train loss: 11.894 \t Validation loss: 9.029\n",
            "2070 (41.40%) Train loss: 11.894 \t Validation loss: 9.029\n",
            "2080 (41.60%) Train loss: 11.894 \t Validation loss: 9.029\n",
            "2090 (41.80%) Train loss: 11.894 \t Validation loss: 9.029\n",
            "2100 (42.00%) Train loss: 11.894 \t Validation loss: 9.029\n",
            "2110 (42.20%) Train loss: 11.894 \t Validation loss: 9.029\n",
            "2120 (42.40%) Train loss: 11.894 \t Validation loss: 9.029\n",
            "2130 (42.60%) Train loss: 11.894 \t Validation loss: 9.029\n",
            "2140 (42.80%) Train loss: 11.894 \t Validation loss: 9.029\n",
            "2150 (43.00%) Train loss: 11.894 \t Validation loss: 9.029\n",
            "2160 (43.20%) Train loss: 11.894 \t Validation loss: 9.029\n",
            "2170 (43.40%) Train loss: 11.894 \t Validation loss: 9.029\n",
            "2180 (43.60%) Train loss: 11.894 \t Validation loss: 9.029\n",
            "2190 (43.80%) Train loss: 11.894 \t Validation loss: 9.029\n",
            "2200 (44.00%) Train loss: 11.894 \t Validation loss: 9.029\n",
            "2210 (44.20%) Train loss: 11.894 \t Validation loss: 9.029\n",
            "2220 (44.40%) Train loss: 11.894 \t Validation loss: 9.029\n",
            "2230 (44.60%) Train loss: 11.894 \t Validation loss: 9.029\n",
            "2240 (44.80%) Train loss: 11.894 \t Validation loss: 9.029\n",
            "2250 (45.00%) Train loss: 11.894 \t Validation loss: 9.029\n",
            "2260 (45.20%) Train loss: 11.894 \t Validation loss: 9.029\n",
            "2270 (45.40%) Train loss: 11.894 \t Validation loss: 9.029\n",
            "2280 (45.60%) Train loss: 11.894 \t Validation loss: 9.029\n",
            "2290 (45.80%) Train loss: 11.894 \t Validation loss: 9.029\n",
            "2300 (46.00%) Train loss: 11.894 \t Validation loss: 9.030\n",
            "2310 (46.20%) Train loss: 11.894 \t Validation loss: 9.029\n",
            "2320 (46.40%) Train loss: 11.894 \t Validation loss: 9.029\n",
            "2330 (46.60%) Train loss: 11.894 \t Validation loss: 9.029\n",
            "2340 (46.80%) Train loss: 11.894 \t Validation loss: 9.030\n",
            "2350 (47.00%) Train loss: 11.894 \t Validation loss: 9.030\n",
            "2360 (47.20%) Train loss: 11.894 \t Validation loss: 9.030\n",
            "2370 (47.40%) Train loss: 11.894 \t Validation loss: 9.030\n",
            "2380 (47.60%) Train loss: 11.894 \t Validation loss: 9.030\n",
            "2390 (47.80%) Train loss: 11.894 \t Validation loss: 9.030\n",
            "2400 (48.00%) Train loss: 11.894 \t Validation loss: 9.030\n",
            "2410 (48.20%) Train loss: 11.894 \t Validation loss: 9.030\n",
            "2420 (48.40%) Train loss: 11.894 \t Validation loss: 9.030\n",
            "2430 (48.60%) Train loss: 11.894 \t Validation loss: 9.030\n",
            "2440 (48.80%) Train loss: 11.894 \t Validation loss: 9.030\n",
            "2450 (49.00%) Train loss: 11.894 \t Validation loss: 9.030\n",
            "2460 (49.20%) Train loss: 11.894 \t Validation loss: 9.030\n",
            "2470 (49.40%) Train loss: 11.894 \t Validation loss: 9.030\n",
            "2480 (49.60%) Train loss: 11.894 \t Validation loss: 9.030\n",
            "2490 (49.80%) Train loss: 11.894 \t Validation loss: 9.030\n",
            "2500 (50.00%) Train loss: 11.894 \t Validation loss: 9.030\n",
            "2510 (50.20%) Train loss: 11.894 \t Validation loss: 9.030\n",
            "2520 (50.40%) Train loss: 11.894 \t Validation loss: 9.030\n",
            "2530 (50.60%) Train loss: 11.894 \t Validation loss: 9.030\n",
            "2540 (50.80%) Train loss: 11.893 \t Validation loss: 9.030\n",
            "2550 (51.00%) Train loss: 11.893 \t Validation loss: 9.030\n",
            "2560 (51.20%) Train loss: 11.893 \t Validation loss: 9.030\n",
            "2570 (51.40%) Train loss: 11.893 \t Validation loss: 9.030\n",
            "2580 (51.60%) Train loss: 11.893 \t Validation loss: 9.030\n",
            "2590 (51.80%) Train loss: 11.893 \t Validation loss: 9.030\n",
            "2600 (52.00%) Train loss: 11.893 \t Validation loss: 9.030\n",
            "2610 (52.20%) Train loss: 11.893 \t Validation loss: 9.030\n",
            "2620 (52.40%) Train loss: 11.893 \t Validation loss: 9.031\n",
            "2630 (52.60%) Train loss: 11.893 \t Validation loss: 9.030\n",
            "2640 (52.80%) Train loss: 11.893 \t Validation loss: 9.030\n",
            "2650 (53.00%) Train loss: 11.893 \t Validation loss: 9.031\n",
            "2660 (53.20%) Train loss: 11.893 \t Validation loss: 9.031\n",
            "2670 (53.40%) Train loss: 11.893 \t Validation loss: 9.031\n",
            "2680 (53.60%) Train loss: 11.893 \t Validation loss: 9.030\n",
            "2690 (53.80%) Train loss: 11.893 \t Validation loss: 9.030\n",
            "2700 (54.00%) Train loss: 11.893 \t Validation loss: 9.031\n",
            "2710 (54.20%) Train loss: 11.893 \t Validation loss: 9.031\n",
            "2720 (54.40%) Train loss: 11.893 \t Validation loss: 9.031\n",
            "2730 (54.60%) Train loss: 11.893 \t Validation loss: 9.031\n",
            "2740 (54.80%) Train loss: 11.893 \t Validation loss: 9.031\n",
            "2750 (55.00%) Train loss: 11.893 \t Validation loss: 9.031\n",
            "2760 (55.20%) Train loss: 11.893 \t Validation loss: 9.031\n",
            "2770 (55.40%) Train loss: 11.893 \t Validation loss: 9.031\n",
            "2780 (55.60%) Train loss: 11.893 \t Validation loss: 9.031\n",
            "2790 (55.80%) Train loss: 11.893 \t Validation loss: 9.031\n",
            "2800 (56.00%) Train loss: 11.893 \t Validation loss: 9.031\n",
            "2810 (56.20%) Train loss: 11.893 \t Validation loss: 9.031\n",
            "2820 (56.40%) Train loss: 11.893 \t Validation loss: 9.031\n",
            "2830 (56.60%) Train loss: 11.893 \t Validation loss: 9.031\n",
            "2840 (56.80%) Train loss: 11.893 \t Validation loss: 9.031\n",
            "2850 (57.00%) Train loss: 11.893 \t Validation loss: 9.031\n",
            "2860 (57.20%) Train loss: 11.893 \t Validation loss: 9.031\n",
            "2870 (57.40%) Train loss: 11.893 \t Validation loss: 9.031\n",
            "2880 (57.60%) Train loss: 11.893 \t Validation loss: 9.031\n",
            "2890 (57.80%) Train loss: 11.893 \t Validation loss: 9.031\n",
            "2900 (58.00%) Train loss: 11.893 \t Validation loss: 9.031\n",
            "2910 (58.20%) Train loss: 11.893 \t Validation loss: 9.031\n",
            "2920 (58.40%) Train loss: 11.893 \t Validation loss: 9.031\n",
            "2930 (58.60%) Train loss: 11.893 \t Validation loss: 9.031\n",
            "2940 (58.80%) Train loss: 11.893 \t Validation loss: 9.031\n",
            "2950 (59.00%) Train loss: 11.893 \t Validation loss: 9.031\n",
            "2960 (59.20%) Train loss: 11.893 \t Validation loss: 9.031\n",
            "2970 (59.40%) Train loss: 11.893 \t Validation loss: 9.031\n",
            "2980 (59.60%) Train loss: 11.893 \t Validation loss: 9.031\n",
            "2990 (59.80%) Train loss: 11.893 \t Validation loss: 9.031\n",
            "3000 (60.00%) Train loss: 11.893 \t Validation loss: 9.031\n",
            "3010 (60.20%) Train loss: 11.893 \t Validation loss: 9.031\n",
            "3020 (60.40%) Train loss: 11.893 \t Validation loss: 9.031\n",
            "3030 (60.60%) Train loss: 11.893 \t Validation loss: 9.031\n",
            "3040 (60.80%) Train loss: 11.893 \t Validation loss: 9.031\n",
            "3050 (61.00%) Train loss: 11.893 \t Validation loss: 9.031\n",
            "3060 (61.20%) Train loss: 11.893 \t Validation loss: 9.031\n",
            "3070 (61.40%) Train loss: 11.893 \t Validation loss: 9.031\n",
            "3080 (61.60%) Train loss: 11.893 \t Validation loss: 9.031\n",
            "3090 (61.80%) Train loss: 11.893 \t Validation loss: 9.031\n",
            "3100 (62.00%) Train loss: 11.893 \t Validation loss: 9.031\n",
            "3110 (62.20%) Train loss: 11.893 \t Validation loss: 9.031\n",
            "3120 (62.40%) Train loss: 11.893 \t Validation loss: 9.031\n",
            "3130 (62.60%) Train loss: 11.893 \t Validation loss: 9.031\n",
            "3140 (62.80%) Train loss: 11.893 \t Validation loss: 9.031\n",
            "3150 (63.00%) Train loss: 11.893 \t Validation loss: 9.031\n",
            "3160 (63.20%) Train loss: 11.893 \t Validation loss: 9.031\n",
            "3170 (63.40%) Train loss: 11.893 \t Validation loss: 9.031\n",
            "3180 (63.60%) Train loss: 11.893 \t Validation loss: 9.031\n",
            "3190 (63.80%) Train loss: 11.893 \t Validation loss: 9.031\n",
            "3200 (64.00%) Train loss: 11.893 \t Validation loss: 9.031\n",
            "3210 (64.20%) Train loss: 11.893 \t Validation loss: 9.031\n",
            "3220 (64.40%) Train loss: 11.893 \t Validation loss: 9.031\n",
            "3230 (64.60%) Train loss: 11.893 \t Validation loss: 9.031\n",
            "3240 (64.80%) Train loss: 11.893 \t Validation loss: 9.031\n",
            "3250 (65.00%) Train loss: 11.893 \t Validation loss: 9.031\n",
            "3260 (65.20%) Train loss: 11.893 \t Validation loss: 9.031\n",
            "3270 (65.40%) Train loss: 11.893 \t Validation loss: 9.031\n",
            "3280 (65.60%) Train loss: 11.893 \t Validation loss: 9.031\n",
            "3290 (65.80%) Train loss: 11.893 \t Validation loss: 9.031\n",
            "3300 (66.00%) Train loss: 11.893 \t Validation loss: 9.031\n",
            "3310 (66.20%) Train loss: 11.893 \t Validation loss: 9.031\n",
            "3320 (66.40%) Train loss: 11.893 \t Validation loss: 9.031\n",
            "3330 (66.60%) Train loss: 11.893 \t Validation loss: 9.031\n",
            "3340 (66.80%) Train loss: 11.893 \t Validation loss: 9.031\n",
            "3350 (67.00%) Train loss: 11.893 \t Validation loss: 9.031\n",
            "3360 (67.20%) Train loss: 11.893 \t Validation loss: 9.030\n",
            "3370 (67.40%) Train loss: 11.893 \t Validation loss: 9.030\n",
            "3380 (67.60%) Train loss: 11.893 \t Validation loss: 9.030\n",
            "3390 (67.80%) Train loss: 11.893 \t Validation loss: 9.031\n",
            "3400 (68.00%) Train loss: 11.893 \t Validation loss: 9.031\n",
            "3410 (68.20%) Train loss: 11.893 \t Validation loss: 9.031\n",
            "3420 (68.40%) Train loss: 11.893 \t Validation loss: 9.031\n",
            "3430 (68.60%) Train loss: 11.893 \t Validation loss: 9.031\n",
            "3440 (68.80%) Train loss: 11.893 \t Validation loss: 9.031\n",
            "3450 (69.00%) Train loss: 11.893 \t Validation loss: 9.031\n",
            "3460 (69.20%) Train loss: 11.893 \t Validation loss: 9.031\n",
            "3470 (69.40%) Train loss: 11.893 \t Validation loss: 9.030\n",
            "3480 (69.60%) Train loss: 11.893 \t Validation loss: 9.030\n",
            "3490 (69.80%) Train loss: 11.893 \t Validation loss: 9.030\n",
            "3500 (70.00%) Train loss: 11.893 \t Validation loss: 9.030\n",
            "3510 (70.20%) Train loss: 11.893 \t Validation loss: 9.031\n",
            "3520 (70.40%) Train loss: 11.893 \t Validation loss: 9.031\n",
            "3530 (70.60%) Train loss: 11.893 \t Validation loss: 9.031\n",
            "3540 (70.80%) Train loss: 11.893 \t Validation loss: 9.031\n",
            "3550 (71.00%) Train loss: 11.893 \t Validation loss: 9.031\n",
            "3560 (71.20%) Train loss: 11.893 \t Validation loss: 9.030\n",
            "3570 (71.40%) Train loss: 11.893 \t Validation loss: 9.030\n",
            "3580 (71.60%) Train loss: 11.893 \t Validation loss: 9.030\n",
            "3590 (71.80%) Train loss: 11.893 \t Validation loss: 9.031\n",
            "3600 (72.00%) Train loss: 11.893 \t Validation loss: 9.031\n",
            "3610 (72.20%) Train loss: 11.893 \t Validation loss: 9.031\n",
            "3620 (72.40%) Train loss: 11.893 \t Validation loss: 9.031\n",
            "3630 (72.60%) Train loss: 11.893 \t Validation loss: 9.031\n",
            "3640 (72.80%) Train loss: 11.893 \t Validation loss: 9.030\n",
            "3650 (73.00%) Train loss: 11.893 \t Validation loss: 9.030\n",
            "3660 (73.20%) Train loss: 11.893 \t Validation loss: 9.031\n",
            "3670 (73.40%) Train loss: 11.893 \t Validation loss: 9.031\n",
            "3680 (73.60%) Train loss: 11.893 \t Validation loss: 9.031\n",
            "3690 (73.80%) Train loss: 11.893 \t Validation loss: 9.030\n",
            "3700 (74.00%) Train loss: 11.893 \t Validation loss: 9.030\n",
            "3710 (74.20%) Train loss: 11.893 \t Validation loss: 9.030\n",
            "3720 (74.40%) Train loss: 11.893 \t Validation loss: 9.031\n",
            "3730 (74.60%) Train loss: 11.893 \t Validation loss: 9.031\n",
            "3740 (74.80%) Train loss: 11.893 \t Validation loss: 9.030\n",
            "3750 (75.00%) Train loss: 11.893 \t Validation loss: 9.030\n",
            "3760 (75.20%) Train loss: 11.893 \t Validation loss: 9.030\n",
            "3770 (75.40%) Train loss: 11.893 \t Validation loss: 9.030\n",
            "3780 (75.60%) Train loss: 11.893 \t Validation loss: 9.031\n",
            "3790 (75.80%) Train loss: 11.893 \t Validation loss: 9.030\n",
            "3800 (76.00%) Train loss: 11.893 \t Validation loss: 9.030\n",
            "3810 (76.20%) Train loss: 11.893 \t Validation loss: 9.030\n",
            "3820 (76.40%) Train loss: 11.893 \t Validation loss: 9.030\n",
            "3830 (76.60%) Train loss: 11.893 \t Validation loss: 9.031\n",
            "3840 (76.80%) Train loss: 11.893 \t Validation loss: 9.030\n",
            "3850 (77.00%) Train loss: 11.893 \t Validation loss: 9.030\n",
            "3860 (77.20%) Train loss: 11.893 \t Validation loss: 9.030\n",
            "3870 (77.40%) Train loss: 11.893 \t Validation loss: 9.030\n",
            "3880 (77.60%) Train loss: 11.892 \t Validation loss: 9.030\n",
            "3890 (77.80%) Train loss: 11.892 \t Validation loss: 9.030\n",
            "3900 (78.00%) Train loss: 11.892 \t Validation loss: 9.030\n",
            "3910 (78.20%) Train loss: 11.892 \t Validation loss: 9.030\n",
            "3920 (78.40%) Train loss: 11.892 \t Validation loss: 9.030\n",
            "3930 (78.60%) Train loss: 11.892 \t Validation loss: 9.030\n",
            "3940 (78.80%) Train loss: 11.892 \t Validation loss: 9.030\n",
            "3950 (79.00%) Train loss: 11.892 \t Validation loss: 9.030\n",
            "3960 (79.20%) Train loss: 11.892 \t Validation loss: 9.030\n",
            "3970 (79.40%) Train loss: 11.892 \t Validation loss: 9.030\n",
            "3980 (79.60%) Train loss: 11.892 \t Validation loss: 9.030\n",
            "3990 (79.80%) Train loss: 11.892 \t Validation loss: 9.030\n",
            "4000 (80.00%) Train loss: 11.892 \t Validation loss: 9.030\n",
            "4010 (80.20%) Train loss: 11.892 \t Validation loss: 9.030\n",
            "4020 (80.40%) Train loss: 11.892 \t Validation loss: 9.030\n",
            "4030 (80.60%) Train loss: 11.892 \t Validation loss: 9.030\n",
            "4040 (80.80%) Train loss: 11.892 \t Validation loss: 9.030\n",
            "4050 (81.00%) Train loss: 11.892 \t Validation loss: 9.030\n",
            "4060 (81.20%) Train loss: 11.892 \t Validation loss: 9.030\n",
            "4070 (81.40%) Train loss: 11.892 \t Validation loss: 9.030\n",
            "4080 (81.60%) Train loss: 11.892 \t Validation loss: 9.030\n",
            "4090 (81.80%) Train loss: 11.892 \t Validation loss: 9.030\n",
            "4100 (82.00%) Train loss: 11.892 \t Validation loss: 9.030\n",
            "4110 (82.20%) Train loss: 11.892 \t Validation loss: 9.030\n",
            "4120 (82.40%) Train loss: 11.892 \t Validation loss: 9.030\n",
            "4130 (82.60%) Train loss: 11.892 \t Validation loss: 9.030\n",
            "4140 (82.80%) Train loss: 11.892 \t Validation loss: 9.030\n",
            "4150 (83.00%) Train loss: 11.892 \t Validation loss: 9.030\n",
            "4160 (83.20%) Train loss: 11.892 \t Validation loss: 9.030\n",
            "4170 (83.40%) Train loss: 11.892 \t Validation loss: 9.030\n",
            "4180 (83.60%) Train loss: 11.892 \t Validation loss: 9.030\n",
            "4190 (83.80%) Train loss: 11.892 \t Validation loss: 9.030\n",
            "4200 (84.00%) Train loss: 11.892 \t Validation loss: 9.030\n",
            "4210 (84.20%) Train loss: 11.892 \t Validation loss: 9.030\n",
            "4220 (84.40%) Train loss: 11.892 \t Validation loss: 9.030\n",
            "4230 (84.60%) Train loss: 11.892 \t Validation loss: 9.030\n",
            "4240 (84.80%) Train loss: 11.892 \t Validation loss: 9.030\n",
            "4250 (85.00%) Train loss: 11.892 \t Validation loss: 9.030\n",
            "4260 (85.20%) Train loss: 11.892 \t Validation loss: 9.030\n",
            "4270 (85.40%) Train loss: 11.892 \t Validation loss: 9.030\n",
            "4280 (85.60%) Train loss: 11.892 \t Validation loss: 9.030\n",
            "4290 (85.80%) Train loss: 11.892 \t Validation loss: 9.030\n",
            "4300 (86.00%) Train loss: 11.892 \t Validation loss: 9.030\n",
            "4310 (86.20%) Train loss: 11.892 \t Validation loss: 9.030\n",
            "4320 (86.40%) Train loss: 11.892 \t Validation loss: 9.030\n",
            "4330 (86.60%) Train loss: 11.892 \t Validation loss: 9.030\n",
            "4340 (86.80%) Train loss: 11.892 \t Validation loss: 9.030\n",
            "4350 (87.00%) Train loss: 11.892 \t Validation loss: 9.030\n",
            "4360 (87.20%) Train loss: 11.892 \t Validation loss: 9.030\n",
            "4370 (87.40%) Train loss: 11.892 \t Validation loss: 9.030\n",
            "4380 (87.60%) Train loss: 11.892 \t Validation loss: 9.030\n",
            "4390 (87.80%) Train loss: 11.892 \t Validation loss: 9.030\n",
            "4400 (88.00%) Train loss: 11.892 \t Validation loss: 9.030\n",
            "4410 (88.20%) Train loss: 11.892 \t Validation loss: 9.030\n",
            "4420 (88.40%) Train loss: 11.892 \t Validation loss: 9.030\n",
            "4430 (88.60%) Train loss: 11.892 \t Validation loss: 9.030\n",
            "4440 (88.80%) Train loss: 11.892 \t Validation loss: 9.030\n",
            "4450 (89.00%) Train loss: 11.892 \t Validation loss: 9.030\n",
            "4460 (89.20%) Train loss: 11.892 \t Validation loss: 9.030\n",
            "4470 (89.40%) Train loss: 11.892 \t Validation loss: 9.030\n",
            "4480 (89.60%) Train loss: 11.892 \t Validation loss: 9.030\n",
            "4490 (89.80%) Train loss: 11.892 \t Validation loss: 9.030\n",
            "4500 (90.00%) Train loss: 11.892 \t Validation loss: 9.030\n",
            "4510 (90.20%) Train loss: 11.892 \t Validation loss: 9.030\n",
            "4520 (90.40%) Train loss: 11.892 \t Validation loss: 9.030\n",
            "4530 (90.60%) Train loss: 11.892 \t Validation loss: 9.030\n",
            "4540 (90.80%) Train loss: 11.892 \t Validation loss: 9.030\n",
            "4550 (91.00%) Train loss: 11.892 \t Validation loss: 9.030\n",
            "4560 (91.20%) Train loss: 11.892 \t Validation loss: 9.031\n",
            "4570 (91.40%) Train loss: 11.892 \t Validation loss: 9.030\n",
            "4580 (91.60%) Train loss: 11.892 \t Validation loss: 9.031\n",
            "4590 (91.80%) Train loss: 11.892 \t Validation loss: 9.031\n",
            "4600 (92.00%) Train loss: 11.892 \t Validation loss: 9.031\n",
            "4610 (92.20%) Train loss: 11.892 \t Validation loss: 9.031\n",
            "4620 (92.40%) Train loss: 11.892 \t Validation loss: 9.031\n",
            "4630 (92.60%) Train loss: 11.892 \t Validation loss: 9.031\n",
            "4640 (92.80%) Train loss: 11.892 \t Validation loss: 9.031\n",
            "4650 (93.00%) Train loss: 11.892 \t Validation loss: 9.031\n",
            "4660 (93.20%) Train loss: 11.892 \t Validation loss: 9.031\n",
            "4670 (93.40%) Train loss: 11.892 \t Validation loss: 9.031\n",
            "4680 (93.60%) Train loss: 11.892 \t Validation loss: 9.031\n",
            "4690 (93.80%) Train loss: 11.892 \t Validation loss: 9.031\n",
            "4700 (94.00%) Train loss: 11.892 \t Validation loss: 9.031\n",
            "4710 (94.20%) Train loss: 11.892 \t Validation loss: 9.031\n",
            "4720 (94.40%) Train loss: 11.892 \t Validation loss: 9.031\n",
            "4730 (94.60%) Train loss: 11.892 \t Validation loss: 9.031\n",
            "4740 (94.80%) Train loss: 11.892 \t Validation loss: 9.031\n",
            "4750 (95.00%) Train loss: 11.892 \t Validation loss: 9.031\n",
            "4760 (95.20%) Train loss: 11.892 \t Validation loss: 9.031\n",
            "4770 (95.40%) Train loss: 11.892 \t Validation loss: 9.031\n",
            "4780 (95.60%) Train loss: 11.892 \t Validation loss: 9.031\n",
            "4790 (95.80%) Train loss: 11.892 \t Validation loss: 9.031\n",
            "4800 (96.00%) Train loss: 11.892 \t Validation loss: 9.032\n",
            "4810 (96.20%) Train loss: 11.892 \t Validation loss: 9.031\n",
            "4820 (96.40%) Train loss: 11.892 \t Validation loss: 9.031\n",
            "4830 (96.60%) Train loss: 11.892 \t Validation loss: 9.032\n",
            "4840 (96.80%) Train loss: 11.892 \t Validation loss: 9.032\n",
            "4850 (97.00%) Train loss: 11.892 \t Validation loss: 9.032\n",
            "4860 (97.20%) Train loss: 11.892 \t Validation loss: 9.032\n",
            "4870 (97.40%) Train loss: 11.892 \t Validation loss: 9.032\n",
            "4880 (97.60%) Train loss: 11.892 \t Validation loss: 9.032\n",
            "4890 (97.80%) Train loss: 11.892 \t Validation loss: 9.032\n",
            "4900 (98.00%) Train loss: 11.892 \t Validation loss: 9.032\n",
            "4910 (98.20%) Train loss: 11.892 \t Validation loss: 9.032\n",
            "4920 (98.40%) Train loss: 11.892 \t Validation loss: 9.032\n",
            "4930 (98.60%) Train loss: 11.892 \t Validation loss: 9.032\n",
            "4940 (98.80%) Train loss: 11.892 \t Validation loss: 9.032\n",
            "4950 (99.00%) Train loss: 11.892 \t Validation loss: 9.032\n",
            "4960 (99.20%) Train loss: 11.892 \t Validation loss: 9.032\n",
            "4970 (99.40%) Train loss: 11.892 \t Validation loss: 9.032\n",
            "4980 (99.60%) Train loss: 11.892 \t Validation loss: 9.032\n",
            "4990 (99.80%) Train loss: 11.892 \t Validation loss: 9.032\n"
          ]
        }
      ],
      "source": [
        "params = [(10, 2e-3), (200,2e-3), (5000, 2e-3)]\n",
        "NNs = []\n",
        "train_losses = []\n",
        "val_losses = []\n",
        "for (EPOCHS, LEARN_R) in params:\n",
        "  NN = [\n",
        "    DenseLayer(1, 8, lambda x: x.relu()),\n",
        "    DenseLayer(8, 1, lambda x: x.identity())\n",
        "]\n",
        "  train_loss = []\n",
        "  val_loss = []\n",
        "\n",
        "  for e in range(EPOCHS):\n",
        "      \n",
        "      # Forward pass and loss computation\n",
        "      Loss = squared_loss(y_train, forward(x_train, NN))\n",
        "\n",
        "      # Backward pass\n",
        "      Loss.backward()\n",
        "      \n",
        "      # gradient descent update\n",
        "      update_parameters(parameters(NN), LEARN_R)\n",
        "      zero_gradients(parameters(NN))\n",
        "      \n",
        "      # Training loss\n",
        "      train_loss.append(Loss.v)\n",
        "      \n",
        "      # Validation\n",
        "      Loss_validation = squared_loss(y_validation, forward(x_validation, NN))\n",
        "      val_loss.append(Loss_validation.v)\n",
        "      \n",
        "      if e%10==0:\n",
        "          print(\"{:4d}\".format(e),\n",
        "                \"({:5.2f}%)\".format(e/EPOCHS*100), \n",
        "                \"Train loss: {:4.3f} \\t Validation loss: {:4.3f}\".format(train_loss[-1], val_loss[-1]))\n",
        "  NNs.append(NN)\n",
        "  train_losses.append(train_loss)\n",
        "  val_losses.append(val_loss)"
      ]
    },
    {
      "cell_type": "code",
      "source": [
        "types = ['Underfitting', 'Just right', 'Overfitting']\n",
        "output_tests = []\n",
        "for i in range(len(NNs)):\n",
        "  output_tests.append(forward(x_test, NNs[i]))\n",
        "  plt.plot(range(len(train_losses[i])), train_losses[i], label=f'{types[i]} - Train loss');\n",
        "  plt.plot(range(len(val_losses[i])), val_losses[i], label=f'{types[i]} - Validation loss');\n",
        "plt.legend()"
      ],
      "metadata": {
        "id": "_4k-YvV8x2RX",
        "outputId": "17c45c47-ffae-4d84-cbdf-d07f9f5dc6aa",
        "colab": {
          "base_uri": "https://localhost:8080/",
          "height": 282
        }
      },
      "execution_count": 125,
      "outputs": [
        {
          "output_type": "execute_result",
          "data": {
            "text/plain": [
              "<matplotlib.legend.Legend at 0x7f4872176cd0>"
            ]
          },
          "metadata": {},
          "execution_count": 125
        },
        {
          "output_type": "display_data",
          "data": {
            "text/plain": [
              "<Figure size 432x288 with 1 Axes>"
            ],
            "image/png": "[encoded data removed]"
          },
          "metadata": {
            "needs_background": "light"
          }
        }
      ]
    },
    {
      "cell_type": "code",
      "source": [
        "x_test_np = Var_to_nparray(x_test)\n",
        "x_train_np = Var_to_nparray(x_train)\n",
        "y_train_np = Var_to_nparray(y_train)\n",
        "if D1:\n",
        "    plt.scatter(x_train_np, y_train_np, label=\"train data\");\n",
        "    plt.scatter(x_test_np, y_test_np, label=\"test data\");\n",
        "    for x in range(len(output_tests)):\n",
        "      plt.scatter(x_test_np, Var_to_nparray(output_tests[x]), label=f\"{types[x]} - test prediction\");\n",
        "    plt.legend();\n",
        "    plt.xlabel(\"x\");\n",
        "    plt.ylabel(\"y\");\n",
        "else:\n",
        "    plt.scatter(x_train_np[:,1], y_train, label=\"train data\");\n",
        "    for x in range(len(output_tests)):\n",
        "      plt.scatter(x_test_np[:,1], Var_to_nparray(output_tests[x]), label=f\"{types[x]} - test data prediction\");\n",
        "    plt.scatter(x_test_np[:,1], y_test_np, label=\"test data\");\n",
        "    plt.legend();\n",
        "    plt.xlabel(\"x\");\n",
        "    plt.ylabel(\"y\");"
      ],
      "metadata": {
        "id": "sRiVGCt8C94-",
        "outputId": "b9a64f4e-9b96-429b-9c13-cb90961811a2",
        "colab": {
          "base_uri": "https://localhost:8080/",
          "height": 279
        }
      },
      "execution_count": 126,
      "outputs": [
        {
          "output_type": "display_data",
          "data": {
            "text/plain": [
              "<Figure size 432x288 with 1 Axes>"
            ],
            "image/png": "[encoded data removed]"
          },
          "metadata": {
            "needs_background": "light"
          }
        }
      ]
    },
    {
      "cell_type": "code",
      "source": [
        "for x in range(len(output_tests)):\n",
        "  Lt = squared_loss(y_train, forward(x_train, NNs[x]))\n",
        "  Lv = squared_loss(y_validation, forward(x_validation, NNs[x]))\n",
        "  Lte = squared_loss(y_test, forward(x_test, NNs[x]))\n",
        "  print(f'{types[x]}-model, train loss: {Lt.v}')\n",
        "  print(f'{types[x]}-model, validation loss: {Lv.v}')\n",
        "  print(f'{types[x]}-model, test loss:  {Lte.v}')"
      ],
      "metadata": {
        "id": "c1E9oXKCPScp",
        "outputId": "d7f0c275-be4e-4634-9a49-e21ee2fd8504",
        "colab": {
          "base_uri": "https://localhost:8080/"
        }
      },
      "execution_count": 127,
      "outputs": [
        {
          "output_type": "stream",
          "name": "stdout",
          "text": [
            "Underfitting-model, train loss: 15.888463408454204\n",
            "Underfitting-model, validation loss: 13.301859521128208\n",
            "Underfitting-model, test loss:  13.095934522532687\n",
            "Just right-model, train loss: 12.127843695177715\n",
            "Just right-model, validation loss: 9.100617252988878\n",
            "Just right-model, test loss:  9.266346075856173\n",
            "Overfitting-model, train loss: 11.891633050742277\n",
            "Overfitting-model, validation loss: 9.032268271984428\n",
            "Overfitting-model, test loss:  9.759133662244869\n"
          ]
        }
      ]
    },
    {
      "cell_type": "markdown",
      "metadata": {
        "id": "fYPZP-eTFtIo"
      },
      "source": [
        "# Next steps - classification\n",
        "\n",
        "It is straight forward to extend what we have done to classification. \n",
        "\n",
        "For numerical stability it is better to make softmax and cross-entropy as one function so we write the cross entropy loss as a function of the logits we talked about last week. \n",
        "\n",
        "Next week we will see how to perform classification in PyTorch."
      ]
    },
    {
      "cell_type": "markdown",
      "metadata": {
        "id": "qsVPul3QFtIo"
      },
      "source": [
        "## Exercise m) optional - Implement backpropagation for classification\n",
        "\n",
        "Should be possible with very few lines of code. :-)"
      ]
    },
    {
      "cell_type": "code",
      "execution_count": 109,
      "metadata": {
        "id": "oC8QrI2tFtIp"
      },
      "outputs": [],
      "source": [
        "# Just add code."
      ]
    },
    {
      "cell_type": "markdown",
      "metadata": {
        "id": "APqhJv3tta1O"
      },
      "source": [
        "## Exercise n) optional - Introduce a NeuralNetwork class\n",
        "\n",
        "The functions we applied on the neural network (parameters, update_parameters and zero_gradients) can more naturally be included as methods in a NeuralNetwork class. Make such a class and modify the code to use it. "
      ]
    },
    {
      "cell_type": "code",
      "execution_count": 110,
      "metadata": {
        "id": "Dqfnor1ouMLq"
      },
      "outputs": [],
      "source": [
        "# just add some code"
      ]
    }
  ],
  "metadata": {
    "anaconda-cloud": {},
    "colab": {
      "collapsed_sections": [
        "U4057_ljNvWB",
        "p_8n_SKnIW2F",
        "oLrGJytZFtGm",
        "jpIZPBpNI0pO",
        "_79HOAXrFtHK",
        "mqeyab9qFtGs",
        "-XyXBD37FtHk",
        "SrwSJ2UWFtHu",
        "zTBAmjsAFtIk",
        "qsVPul3QFtIo",
        "APqhJv3tta1O"
      ],
      "name": "2.1-EXE-FNN-AutoDif-Nanograd.ipynb",
      "provenance": []
    },
    "kernelspec": {
      "display_name": "Python 3 (ipykernel)",
      "language": "python",
      "name": "python3"
    },
    "language_info": {
      "codemirror_mode": {
        "name": "ipython",
        "version": 3
      },
      "file_extension": ".py",
      "mimetype": "text/x-python",
      "name": "python",
      "nbconvert_exporter": "python",
      "pygments_lexer": "ipython3",
      "version": "3.8.12"
    }
  },
  "nbformat": 4,
  "nbformat_minor": 0
}