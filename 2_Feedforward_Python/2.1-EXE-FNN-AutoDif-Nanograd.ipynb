{
  "cells": [
    {
      "cell_type": "markdown",
      "metadata": {
        "id": "HAva8TnYFtFu"
      },
      "source": [
        "# Contents and why we need this lab\n",
        "\n",
        "This lab is about implementing neural networks yourself before we start using other frameworks which hide some of the computation from you. It builds on the first lab where you derived the equations for neural network forward and backward propagation and gradient descent parameter updates. \n",
        "\n",
        "All the frameworks for deep learning you will meet from now on uses automatic differentiation (autodiff) so you don't have to code the backward step yourself. In this version of this lab you will develop your own autodif implementation. We also have a [version](https://github.com/DeepLearningDTU/02456-deep-learning-with-PyTorch/blob/master/2_Feedforward_NumPy/2.1-FNN-NumPy.ipynb) of this lab where you have to code the backward pass explicitly in Numpy."
      ]
    },
    {
      "cell_type": "markdown",
      "metadata": {
        "id": "sCa7HzwpFtFy"
      },
      "source": [
        "# External sources of information\n",
        "\n",
        "1. Jupyter notebook. You can find more information about Jupyter notebooks [here](https://jupyter.org/). It will come as part of the [Anaconda](https://www.anaconda.com/) Python installation. \n",
        "2. [NumPy](https://numpy.org/). Part of Anaconda distribution. If you already know how to program most things about Python and NumPy can be found through Google search.\n",
        "3. [Nanograd](https://github.com/rasmusbergpalm/nanograd) is a minimalistic version of autodiff developed by Rasmus Berg Palm that we use for our framework.\n"
      ]
    },
    {
      "cell_type": "markdown",
      "metadata": {
        "id": "1SjiIp-TFtF0"
      },
      "source": [
        "# This notebook will follow the next steps:\n",
        "\n",
        "1. Nanograd automatic differentiation framework\n",
        "2. Finite difference method\n",
        "3. Data generation\n",
        "4. Defining and initializing the network\n",
        "5. Forward pass\n",
        "6. Training loop \n",
        "7. Testing your model\n",
        "8. Further extensions"
      ]
    },
    {
      "cell_type": "markdown",
      "metadata": {
        "id": "OyXeAA-HuT7s"
      },
      "source": [
        "# Nanograd automatic differention framework"
      ]
    },
    {
      "cell_type": "markdown",
      "metadata": {
        "id": "k6UWKCLKubgA"
      },
      "source": [
        "The [Nanograd](https://github.com/rasmusbergpalm/nanograd) framework defines a class Var which both holds a value and gradient value that we can use to store the intermediate values when we apply the chain rule of differentiation."
      ]
    },
    {
      "cell_type": "code",
      "execution_count": null,
      "metadata": {
        "id": "Jd4CoEBNzNWS"
      },
      "outputs": [],
      "source": [
        "# Copy and pasted from https://github.com/rasmusbergpalm/nanograd/blob/main/nanograd.py\n",
        "\n",
        "from math import exp, log\n",
        "\n",
        "class Var:\n",
        "    \"\"\"\n",
        "    A variable which holds a float and enables gradient computations.\n",
        "    \"\"\"\n",
        "\n",
        "    def __init__(self, val: float, grad_fn=lambda: []):\n",
        "        assert type(val) == float\n",
        "        self.v = val\n",
        "        self.grad_fn = grad_fn\n",
        "        self.grad = 0.0\n",
        "\n",
        "    def backprop(self, bp):\n",
        "        self.grad += bp\n",
        "        for input, grad in self.grad_fn():\n",
        "            input.backprop(grad * bp)\n",
        "\n",
        "    def backward(self):\n",
        "        self.backprop(1.0)\n",
        "\n",
        "    def __add__(self: 'Var', other: 'Var') -> 'Var':\n",
        "        return Var(self.v + other.v, lambda: [(self, 1.0), (other, 1.0)])\n",
        "\n",
        "    def __mul__(self: 'Var', other: 'Var') -> 'Var':\n",
        "        return Var(self.v * other.v, lambda: [(self, other.v), (other, self.v)])\n",
        "\n",
        "    def __pow__(self, power):\n",
        "        assert type(power) in {float, int}, \"power must be float or int\"\n",
        "        return Var(self.v ** power, lambda: [(self, power * self.v ** (power - 1))])\n",
        "\n",
        "    def __neg__(self: 'Var') -> 'Var':\n",
        "        return Var(-1.0) * self\n",
        "\n",
        "    def __sub__(self: 'Var', other: 'Var') -> 'Var':\n",
        "        return self + (-other)\n",
        "\n",
        "    def __truediv__(self: 'Var', other: 'Var') -> 'Var':\n",
        "        return self * other ** -1\n",
        "\n",
        "    def __repr__(self):\n",
        "        return \"Var(v=%.4f, grad=%.4f)\" % (self.v, self.grad)\n",
        "\n",
        "    def relu(self):\n",
        "        return Var(self.v if self.v > 0.0 else 0.0, lambda: [(self, 1.0 if self.v > 0.0 else 0.0)])\n",
        "    \n",
        "    def sigmoid(self):\n",
        "        return Var(1/(1+exp(-self.v)), lambda: [(self, exp(self.v)/((exp(self.v)+1)**2))])\n",
        "\n",
        "    def tanh(self):\n",
        "        return Var((exp(2*self.v)-1)/(exp(2*self.v)+1), lambda: [(self, 4/((exp(-self.v)+exp(self.v))**2))])\n",
        "\n",
        "    def identity(self):\n",
        "        return Var(self.v, lambda: [(self, 1.0)])\n",
        "    \n",
        "    def exp(self):\n",
        "        return Var(exp(self.v), lambda: [(self, exp(self.v))])\n",
        "\n",
        "    def log(self):\n",
        "        return Var(log(self.v), lambda: [(self, self.v ** -1)])\n"
      ]
    },
    {
      "cell_type": "markdown",
      "metadata": {
        "id": "yDX67D6jzcte"
      },
      "source": [
        "A few examples illustrate how we can use this:"
      ]
    },
    {
      "cell_type": "code",
      "execution_count": null,
      "metadata": {
        "colab": {
          "base_uri": "https://localhost:8080/"
        },
        "id": "xk6PeLc3zwPT",
        "outputId": "03cfc832-405c-42b3-e9b1-1cd4eaa36530"
      },
      "outputs": [
        {
          "output_type": "stream",
          "name": "stdout",
          "text": [
            "Var(v=3.0000, grad=5.0000)\n",
            "Var(v=5.0000, grad=3.0000)\n",
            "Var(v=15.0000, grad=1.0000)\n"
          ]
        }
      ],
      "source": [
        "a = Var(3.0)\n",
        "b = Var(5.0)\n",
        "f = a * b\n",
        "\n",
        "f.backward()\n",
        "\n",
        "for v in [a, b, f]:\n",
        "    print(v)"
      ]
    },
    {
      "cell_type": "code",
      "execution_count": null,
      "metadata": {
        "colab": {
          "base_uri": "https://localhost:8080/"
        },
        "id": "JmKhYgsY0g_o",
        "outputId": "40a6ac9c-056f-4405-b198-4c49ea456657"
      },
      "outputs": [
        {
          "output_type": "stream",
          "name": "stdout",
          "text": [
            "Var(v=3.0000, grad=14.0000)\n",
            "Var(v=5.0000, grad=3.0000)\n",
            "Var(v=15.0000, grad=1.0000)\n",
            "Var(v=9.0000, grad=3.0000)\n",
            "Var(v=27.0000, grad=1.0000)\n",
            "Var(v=42.0000, grad=1.0000)\n"
          ]
        }
      ],
      "source": [
        "a = Var(3.0)\n",
        "b = Var(5.0)\n",
        "c = a * b\n",
        "d = Var(9.0)\n",
        "e = a * d\n",
        "f = c + e\n",
        "\n",
        "f.backward()\n",
        "\n",
        "for v in [a, b, c, d, e, f]:\n",
        "    print(v)"
      ]
    },
    {
      "cell_type": "markdown",
      "metadata": {
        "id": "Fe3B6uEH140p"
      },
      "source": [
        "## Exercise a) What is being calculated?\n",
        "\n",
        "Explain briefly the output of the code? What is the expression we differentiate and with respect to what variables?"
      ]
    },
    {
      "cell_type": "markdown",
      "source": [
        "**Answer (a)**\n",
        "\n",
        "The result Var($v$,grad) tells you the value $v$ of that defined object, and grad tells you how much the factor in which the value has changed. For example for $a$ in cell [5], $v=3.0$, and grad$=14$, as $14*a.v=42$, as $f=a*d+a*b$, therefore $a=d+b$. That is $∂f/∂a=d+b=14$. So $a$, $b$ and $d$ are the independent variables in this case, and $c$, $e$, and $f$ the dependent ones. \n",
        "\n",
        "And for completeness sake: $∂f/∂b=∂f/∂d=a=3$."
      ],
      "metadata": {
        "id": "rfg1rpHGAATh"
      }
    },
    {
      "cell_type": "markdown",
      "metadata": {
        "id": "q8_Q0t2I3Ruj"
      },
      "source": [
        "## Exercise b) How does the backward function work?\n",
        "\n",
        "You need to understand how the backward function calculates the gradients. We can use the two examples above to help with that.\n",
        "\n",
        "Go through the following four steps and answer the questions on the way:\n",
        "\n",
        "1. We represent the two expressions as graphs as shown below. Fill in the missing expressions for the different derivatives.\n",
        "\n",
        "2. In the remainder consider the first expression. Make a schematic of the data structure which is generated when we define the expression for f. \n",
        "\n",
        "3. Then execute the backward function by hand to convince yourself that it indeed calculates the gradients with respect to the variables. \n",
        "\n",
        "4. Write down the sequence of calls to backprop."
      ]
    },
    {
      "cell_type": "markdown",
      "source": [
        "**Answer (b)**\n",
        "\n",
        "The answer provided for exercise (a), assuming it is correct, pretty much describes what happens, and the procedure behind the code, so I refer to there and to the graphviz diagrams of the data schematics for section (b1), (b2), and (b3).\n",
        "\n",
        "**(b4)** The sequence of calls to backprop is:\n",
        "\n",
        "1. f.backward() is called\n",
        "\n",
        "2. f.grad is set to $∂f/∂f=1$\n",
        "\n",
        "3. Since $f$ is defined as $c+e$, which is stored in f.grad_fn, the backprop moves on to these objects. $c$ is here calculated/shown first in step (4), but $c$ and $e$ could be interchanged, meaning the following steps (4) and (5) could be interchanged regardless.\n",
        "\n",
        "4. c.grad is set to 1, since $∂f/∂c=1$. $c$ is defined as $c=a*b$, and backprop then moves onto these objects.\n",
        "\n",
        "  4.1 Starting with $a$, since $∂c/∂a=b=5$, a.grad is set to 5.\n",
        "\n",
        "  4.2 Now $b$, since $∂c/∂b=a=3$, b.grad is set to 3.\n",
        "\n",
        "5. e.grad is set to 1, since $∂f/∂e=1$. $e$ is defined as $e=a*d$, and, same as (4), backprop then moves onto these objects.\n",
        "\n",
        "  5.1 Since $∂e/∂a=d=9$, a.grad would be set to 9, but since a.grad is already set to 5, it therefore becomes a.grad$=d+b=9+5=14$\n",
        "\n",
        "  5.2 $∂e/∂d=a=3$, so d.grad is set to 3.\n",
        "\n",
        "Which concludes the f.backprop()\n"
      ],
      "metadata": {
        "id": "iWfEpItIFZqr"
      }
    },
    {
      "cell_type": "code",
      "execution_count": null,
      "metadata": {
        "id": "idGr71jYXl26"
      },
      "outputs": [],
      "source": [
        "# import logging\n",
        "import graphviz\n",
        "\n",
        "#logging.basicConfig(format='[%(levelname)s@%(name)s] %(message)s', level=logging.DEBUG)\n",
        "\n",
        "#graphviz.__version__, graphviz.version()"
      ]
    },
    {
      "cell_type": "code",
      "execution_count": null,
      "metadata": {
        "colab": {
          "base_uri": "https://localhost:8080/",
          "height": 152
        },
        "id": "KPe30Q2QXzeG",
        "outputId": "7e22170e-fa9b-44c8-bea8-a59f52636d26"
      },
      "outputs": [
        {
          "output_type": "execute_result",
          "data": {
            "text/plain": [
              "<graphviz.dot.Digraph at 0x7f1d416ecd10>"
            ],
            "image/svg+xml": "<?xml version=\"1.0\" encoding=\"UTF-8\" standalone=\"no\"?>\n<!DOCTYPE svg PUBLIC \"-//W3C//DTD SVG 1.1//EN\"\n \"http://www.w3.org/Graphics/SVG/1.1/DTD/svg11.dtd\">\n<!-- Generated by graphviz version 2.40.1 (20161225.0304)\n -->\n<!-- Title: first expression Pages: 1 -->\n<svg width=\"206pt\" height=\"98pt\"\n viewBox=\"0.00 0.00 205.99 98.00\" xmlns=\"http://www.w3.org/2000/svg\" xmlns:xlink=\"http://www.w3.org/1999/xlink\">\n<g id=\"graph0\" class=\"graph\" transform=\"scale(1 1) rotate(0) translate(4 94)\">\n<title>first expression</title>\n<polygon fill=\"#ffffff\" stroke=\"transparent\" points=\"-4,4 -4,-94 201.9942,-94 201.9942,4 -4,4\"/>\n<!-- a -->\n<g id=\"node1\" class=\"node\">\n<title>a</title>\n<ellipse fill=\"none\" stroke=\"#000000\" cx=\"18\" cy=\"-72\" rx=\"18\" ry=\"18\"/>\n<text text-anchor=\"middle\" x=\"18\" y=\"-68.3\" font-family=\"Times,serif\" font-size=\"14.00\" fill=\"#000000\">a</text>\n</g>\n<!-- f=a*b -->\n<g id=\"node2\" class=\"node\">\n<title>f=a*b</title>\n<ellipse fill=\"none\" stroke=\"#000000\" cx=\"165.4971\" cy=\"-45\" rx=\"32.4942\" ry=\"32.4942\"/>\n<text text-anchor=\"middle\" x=\"165.4971\" y=\"-41.3\" font-family=\"Times,serif\" font-size=\"14.00\" fill=\"#000000\">f=a*b</text>\n</g>\n<!-- a&#45;&gt;f=a*b -->\n<g id=\"edge1\" class=\"edge\">\n<title>a&#45;&gt;f=a*b</title>\n<path fill=\"none\" stroke=\"#000000\" d=\"M35.7916,-68.7432C57.3815,-64.791 94.4929,-57.9976 123.5023,-52.6873\"/>\n<polygon fill=\"#000000\" stroke=\"#000000\" points=\"124.1803,-56.1215 133.3866,-50.878 122.9198,-49.2359 124.1803,-56.1215\"/>\n<text text-anchor=\"middle\" x=\"84.5\" y=\"-67.8\" font-family=\"Times,serif\" font-size=\"14.00\" fill=\"#000000\">df/da=b=5</text>\n</g>\n<!-- b -->\n<g id=\"node3\" class=\"node\">\n<title>b</title>\n<ellipse fill=\"none\" stroke=\"#000000\" cx=\"18\" cy=\"-18\" rx=\"18\" ry=\"18\"/>\n<text text-anchor=\"middle\" x=\"18\" y=\"-14.3\" font-family=\"Times,serif\" font-size=\"14.00\" fill=\"#000000\">b</text>\n</g>\n<!-- b&#45;&gt;f=a*b -->\n<g id=\"edge2\" class=\"edge\">\n<title>b&#45;&gt;f=a*b</title>\n<path fill=\"none\" stroke=\"#000000\" d=\"M35.8992,-21.0156C55.3802,-24.326 87.4369,-29.8561 115,-35 117.8004,-35.5226 120.6862,-36.0701 123.5929,-36.6282\"/>\n<polygon fill=\"#000000\" stroke=\"#000000\" points=\"122.9775,-40.074 133.4615,-38.5457 124.3127,-33.2025 122.9775,-40.074\"/>\n<text text-anchor=\"middle\" x=\"84.5\" y=\"-38.8\" font-family=\"Times,serif\" font-size=\"14.00\" fill=\"#000000\">df/db=a=3</text>\n</g>\n</g>\n</svg>\n"
          },
          "metadata": {},
          "execution_count": 5
        }
      ],
      "source": [
        "e1 = graphviz.Digraph('first expression', filename='fsm.gv')\n",
        "\n",
        "e1.attr(rankdir='LR', size='8,5')\n",
        "\n",
        "e1.attr('node', shape='circle')\n",
        "e1.edge('a', 'f=a*b', label='df/da=b=5')\n",
        "e1.edge('b', 'f=a*b', label='df/db=a=3')\n",
        "\n",
        "e1"
      ]
    },
    {
      "cell_type": "code",
      "execution_count": null,
      "metadata": {
        "colab": {
          "base_uri": "https://localhost:8080/",
          "height": 237
        },
        "id": "0nittR-mZFeX",
        "outputId": "88df9f2f-9934-428e-ae4c-12dbab40e187"
      },
      "outputs": [
        {
          "output_type": "execute_result",
          "data": {
            "text/plain": [
              "<graphviz.dot.Digraph at 0x7f1d41678b50>"
            ],
            "image/svg+xml": "<?xml version=\"1.0\" encoding=\"UTF-8\" standalone=\"no\"?>\n<!DOCTYPE svg PUBLIC \"-//W3C//DTD SVG 1.1//EN\"\n \"http://www.w3.org/Graphics/SVG/1.1/DTD/svg11.dtd\">\n<!-- Generated by graphviz version 2.40.1 (20161225.0304)\n -->\n<!-- Title: second expression Pages: 1 -->\n<svg width=\"358pt\" height=\"162pt\"\n viewBox=\"0.00 0.00 357.59 161.59\" xmlns=\"http://www.w3.org/2000/svg\" xmlns:xlink=\"http://www.w3.org/1999/xlink\">\n<g id=\"graph0\" class=\"graph\" transform=\"scale(1 1) rotate(0) translate(4 157.594)\">\n<title>second expression</title>\n<polygon fill=\"#ffffff\" stroke=\"transparent\" points=\"-4,4 -4,-157.594 353.5882,-157.594 353.5882,4 -4,4\"/>\n<!-- a -->\n<g id=\"node1\" class=\"node\">\n<title>a</title>\n<ellipse fill=\"none\" stroke=\"#000000\" cx=\"18\" cy=\"-76.797\" rx=\"18\" ry=\"18\"/>\n<text text-anchor=\"middle\" x=\"18\" y=\"-73.097\" font-family=\"Times,serif\" font-size=\"14.00\" fill=\"#000000\">a</text>\n</g>\n<!-- c=a*b -->\n<g id=\"node2\" class=\"node\">\n<title>c=a*b</title>\n<ellipse fill=\"none\" stroke=\"#000000\" cx=\"168.797\" cy=\"-119.797\" rx=\"33.5952\" ry=\"33.5952\"/>\n<text text-anchor=\"middle\" x=\"168.797\" y=\"-116.097\" font-family=\"Times,serif\" font-size=\"14.00\" fill=\"#000000\">c=a*b</text>\n</g>\n<!-- a&#45;&gt;c=a*b -->\n<g id=\"edge1\" class=\"edge\">\n<title>a&#45;&gt;c=a*b</title>\n<path fill=\"none\" stroke=\"#000000\" d=\"M35.535,-81.7207C55.3302,-87.2873 88.4941,-96.6384 117,-104.797 120.1052,-105.6857 123.3142,-106.6074 126.5426,-107.5369\"/>\n<polygon fill=\"#000000\" stroke=\"#000000\" points=\"125.6233,-110.9143 136.2016,-110.324 127.564,-104.1887 125.6233,-110.9143\"/>\n<text text-anchor=\"middle\" x=\"85.5\" y=\"-108.597\" font-family=\"Times,serif\" font-size=\"14.00\" fill=\"#000000\">dc/da=b=5</text>\n</g>\n<!-- e=a*d -->\n<g id=\"node4\" class=\"node\">\n<title>e=a*d</title>\n<ellipse fill=\"none\" stroke=\"#000000\" cx=\"168.797\" cy=\"-33.797\" rx=\"33.5952\" ry=\"33.5952\"/>\n<text text-anchor=\"middle\" x=\"168.797\" y=\"-30.097\" font-family=\"Times,serif\" font-size=\"14.00\" fill=\"#000000\">e=a*d</text>\n</g>\n<!-- a&#45;&gt;e=a*d -->\n<g id=\"edge3\" class=\"edge\">\n<title>a&#45;&gt;e=a*d</title>\n<path fill=\"none\" stroke=\"#000000\" d=\"M35.5935,-71.7802C57.7207,-65.4706 96.4474,-54.4276 126.4596,-45.8696\"/>\n<polygon fill=\"#000000\" stroke=\"#000000\" points=\"127.6102,-49.1811 136.267,-43.073 125.6906,-42.4494 127.6102,-49.1811\"/>\n<text text-anchor=\"middle\" x=\"85.5\" y=\"-70.597\" font-family=\"Times,serif\" font-size=\"14.00\" fill=\"#000000\">de/da=d=9</text>\n</g>\n<!-- f=c+e -->\n<g id=\"node6\" class=\"node\">\n<title>f=c+e</title>\n<ellipse fill=\"none\" stroke=\"#000000\" cx=\"317.0911\" cy=\"-76.797\" rx=\"32.4942\" ry=\"32.4942\"/>\n<text text-anchor=\"middle\" x=\"317.0911\" y=\"-73.097\" font-family=\"Times,serif\" font-size=\"14.00\" fill=\"#000000\">f=c+e</text>\n</g>\n<!-- c=a*b&#45;&gt;f=c+e -->\n<g id=\"edge5\" class=\"edge\">\n<title>c=a*b&#45;&gt;f=c+e</title>\n<path fill=\"none\" stroke=\"#000000\" d=\"M201.3408,-110.3605C223.2738,-104.0007 252.3875,-95.5587 275.9293,-88.7325\"/>\n<polygon fill=\"#000000\" stroke=\"#000000\" points=\"277.0107,-92.0631 285.6403,-85.9166 275.0612,-85.3401 277.0107,-92.0631\"/>\n<text text-anchor=\"middle\" x=\"243.594\" y=\"-108.597\" font-family=\"Times,serif\" font-size=\"14.00\" fill=\"#000000\">df/dc=1</text>\n</g>\n<!-- b -->\n<g id=\"node3\" class=\"node\">\n<title>b</title>\n<ellipse fill=\"none\" stroke=\"#000000\" cx=\"18\" cy=\"-133.797\" rx=\"18\" ry=\"18\"/>\n<text text-anchor=\"middle\" x=\"18\" y=\"-130.097\" font-family=\"Times,serif\" font-size=\"14.00\" fill=\"#000000\">b</text>\n</g>\n<!-- b&#45;&gt;c=a*b -->\n<g id=\"edge2\" class=\"edge\">\n<title>b&#45;&gt;c=a*b</title>\n<path fill=\"none\" stroke=\"#000000\" d=\"M36.1896,-132.1083C58.0524,-130.0785 95.483,-126.6035 125.013,-123.8619\"/>\n<polygon fill=\"#000000\" stroke=\"#000000\" points=\"125.4565,-127.3359 135.0901,-122.9263 124.8094,-120.3658 125.4565,-127.3359\"/>\n<text text-anchor=\"middle\" x=\"85.5\" y=\"-133.597\" font-family=\"Times,serif\" font-size=\"14.00\" fill=\"#000000\">dc/db=a=3</text>\n</g>\n<!-- e=a*d&#45;&gt;f=c+e -->\n<g id=\"edge6\" class=\"edge\">\n<title>e=a*d&#45;&gt;f=c+e</title>\n<path fill=\"none\" stroke=\"#000000\" d=\"M201.3408,-43.2335C223.2738,-49.5933 252.3875,-58.0353 275.9293,-64.8615\"/>\n<polygon fill=\"#000000\" stroke=\"#000000\" points=\"275.0612,-68.2539 285.6403,-67.6774 277.0107,-61.5309 275.0612,-68.2539\"/>\n<text text-anchor=\"middle\" x=\"243.594\" y=\"-65.597\" font-family=\"Times,serif\" font-size=\"14.00\" fill=\"#000000\">df/de=1</text>\n</g>\n<!-- d -->\n<g id=\"node5\" class=\"node\">\n<title>d</title>\n<ellipse fill=\"none\" stroke=\"#000000\" cx=\"18\" cy=\"-19.797\" rx=\"18\" ry=\"18\"/>\n<text text-anchor=\"middle\" x=\"18\" y=\"-16.097\" font-family=\"Times,serif\" font-size=\"14.00\" fill=\"#000000\">d</text>\n</g>\n<!-- d&#45;&gt;e=a*d -->\n<g id=\"edge4\" class=\"edge\">\n<title>d&#45;&gt;e=a*d</title>\n<path fill=\"none\" stroke=\"#000000\" d=\"M35.972,-18.7139C55.8755,-17.8078 88.8712,-17.1767 117,-20.797 120.0288,-21.1868 123.1357,-21.6915 126.2503,-22.2751\"/>\n<polygon fill=\"#000000\" stroke=\"#000000\" points=\"125.6318,-25.7216 136.1392,-24.3635 127.0782,-18.8727 125.6318,-25.7216\"/>\n<text text-anchor=\"middle\" x=\"85.5\" y=\"-24.597\" font-family=\"Times,serif\" font-size=\"14.00\" fill=\"#000000\">de/dd=a=3</text>\n</g>\n</g>\n</svg>\n"
          },
          "metadata": {},
          "execution_count": 6
        }
      ],
      "source": [
        "e2 = graphviz.Digraph('second expression', filename='fsm.gv')\n",
        "\n",
        "e2.attr(rankdir='LR', size='8,5')\n",
        "\n",
        "e2.attr('node', shape='circle')\n",
        "e2.edge('a', 'c=a*b', label='dc/da=b=5')\n",
        "e2.edge('b', 'c=a*b', label='dc/db=a=3')\n",
        "e2.edge('a', 'e=a*d', label='de/da=d=9')\n",
        "e2.edge('d', 'e=a*d', label='de/dd=a=3')\n",
        "e2.edge('c=a*b', 'f=c+e', label='df/dc=1')\n",
        "e2.edge('e=a*d', 'f=c+e', label='df/de=1')\n",
        "\n",
        "e2"
      ]
    },
    {
      "cell_type": "markdown",
      "metadata": {
        "id": "A5oi21W4gpeM"
      },
      "source": [
        "## Exercise c) What happens if we run backward again?\n",
        "\n",
        "Try to execute the code below. Explain what happens."
      ]
    },
    {
      "cell_type": "code",
      "execution_count": null,
      "metadata": {
        "colab": {
          "base_uri": "https://localhost:8080/"
        },
        "id": "DCtpJyr-gyX1",
        "outputId": "b1631e88-1677-4462-a57d-7efde34f71b4"
      },
      "outputs": [
        {
          "output_type": "stream",
          "name": "stdout",
          "text": [
            "Var(v=3.0000, grad=28.0000)\n",
            "Var(v=5.0000, grad=6.0000)\n",
            "Var(v=15.0000, grad=2.0000)\n",
            "Var(v=9.0000, grad=6.0000)\n",
            "Var(v=27.0000, grad=2.0000)\n",
            "Var(v=42.0000, grad=2.0000)\n"
          ]
        }
      ],
      "source": [
        "f.backward()\n",
        "\n",
        "for v in [a, b, c, d, e, f]:\n",
        "    print(v)"
      ]
    },
    {
      "cell_type": "markdown",
      "source": [
        "**Answer (c)**\n",
        "\n",
        "The gradient is multiplied by 2, as the same gradients are calculated, and are added back to the variable gradient (from code: bp*grad, and bp=2, for the number of backpropagations done)."
      ],
      "metadata": {
        "id": "LArElv7DO3x5"
      }
    },
    {
      "cell_type": "markdown",
      "metadata": {
        "id": "e8bPVq2VhsP-"
      },
      "source": [
        "## Exercise d) Zero gradient\n",
        "\n",
        "We can zero the gradient by backpropagating a -1.0 as is shown in the example below. (If you have run backward multiple time then you also have to run the cell below an equal amount of times.) Explain what is going on."
      ]
    },
    {
      "cell_type": "code",
      "execution_count": null,
      "metadata": {
        "colab": {
          "base_uri": "https://localhost:8080/"
        },
        "id": "OnyPDQx9lJe0",
        "outputId": "e995fef5-5f52-47e5-b9ba-d9d54a75941e"
      },
      "outputs": [
        {
          "output_type": "stream",
          "name": "stdout",
          "text": [
            "Var(v=2.0000, grad=0.0000)\n",
            "Var(v=5.0000, grad=6.0000)\n",
            "Var(v=15.0000, grad=2.0000)\n",
            "Var(v=9.0000, grad=6.0000)\n",
            "Var(v=27.0000, grad=2.0000)\n",
            "Var(v=42.0000, grad=2.0000)\n",
            "Var(v=2.0000, grad=0.0000)\n",
            "Var(v=5.0000, grad=3.0000)\n",
            "Var(v=15.0000, grad=1.0000)\n",
            "Var(v=9.0000, grad=3.0000)\n",
            "Var(v=27.0000, grad=1.0000)\n",
            "Var(v=42.0000, grad=1.0000)\n"
          ]
        }
      ],
      "source": [
        "a = Var(2.0)\n",
        "\n",
        "for v in [a, b, c, d, e, f]:\n",
        "    print(v)\n",
        "\n",
        "f.backprop(-1.0)\n",
        "\n",
        "for v in [a, b, c, d, e, f]:\n",
        "    print(v)"
      ]
    },
    {
      "cell_type": "markdown",
      "source": [
        "**Answer (d)**\n",
        "\n",
        "Even though a is redefined, the old a is still used/saved in f, and can be accessed by grad_fn() calls. What backprop(-1) then does is go back a step. So running the previous code in tandem, it would do two backpropagations, and then undo one/do a forward propagation."
      ],
      "metadata": {
        "id": "B7NMCByXWVen"
      }
    },
    {
      "cell_type": "markdown",
      "metadata": {
        "id": "U4057_ljNvWB"
      },
      "source": [
        "## Exercise e) Test correctness of derivatives with the finite difference method\n",
        "\n",
        "Write a small function that uses [the finite difference method](https://en.wikipedia.org/wiki/Finite_difference_method) to numerically test that backpropation implementation is working. In short we will use\n",
        "$$\n",
        "\\frac{\\partial f(a)}{\\partial a} \\approx \\frac{f(a+da)-f(a)}{da}\n",
        "$$\n",
        "for $da \\ll 1$.\n",
        "\n",
        "As an example, we could approximate the derivative of the function $f(a)=a^2$ in e.g. the value $a=4$ using the finite difference method. This amounts to inserting the relevant values and approximating the gradient $f'(4)$ with the fraction above. \n"
      ]
    },
    {
      "cell_type": "markdown",
      "source": [
        "**Answer (e)**\n",
        "\n",
        "Below is the finite difference code snippet, calculating a numerical partial derivative at a point."
      ],
      "metadata": {
        "id": "eIPL2EwAM9kL"
      }
    },
    {
      "cell_type": "code",
      "execution_count": null,
      "metadata": {
        "id": "9TGil92lSXDN",
        "outputId": "b527b3ad-b954-47cb-f319-cb24d3d757d1",
        "colab": {
          "base_uri": "https://localhost:8080/"
        }
      },
      "outputs": [
        {
          "output_type": "stream",
          "name": "stdout",
          "text": [
            "Var(v=3.0000, grad=5.0000)\n",
            "Var(v=5.0000, grad=3.0000)\n",
            "Var(v=15.0000, grad=1.0000)\n",
            "5.000000413701855\n"
          ]
        }
      ],
      "source": [
        "# f function - try to change the code to test other types of functions as well (such as different polynomials etc.)\n",
        "def f_function(a):\n",
        "  a = Var(a)\n",
        "  b = Var(5.0)\n",
        "  f = a * b\n",
        "  f.backward()\n",
        "  return a,b,f\n",
        "\n",
        "for v in f_function(3.0):\n",
        "  print(v)\n",
        "\n",
        "# Insert your finite difference code here\n",
        "def finite_difference(a, da=1e-10):\n",
        "    \"\"\"\n",
        "    This function compute the finite difference between\n",
        "    \n",
        "    Input:\n",
        "    a:           Point of gradient\n",
        "    da:          The finite difference                           (float)\n",
        "    \n",
        "    Output:\n",
        "    finite_difference: numerical approximation to the derivative (float) \n",
        "    \"\"\"\n",
        "    a = float(a) if isinstance(a,int) else a\n",
        "    fa_da = f_function(a+da)[2].v\n",
        "    fa = f_function(a)[2].v\n",
        "\n",
        "    finite_difference = (fa_da - fa) / da\n",
        "    \n",
        "    return finite_difference\n",
        "\n",
        "print(finite_difference(a=3.0))"
      ]
    },
    {
      "cell_type": "markdown",
      "metadata": {
        "id": "6pZar5RKaUkg"
      },
      "source": [
        "# Create an artificial dataset to play with\n",
        "\n",
        "We create a non-linear 1d regression task. The generator supports various noise levels and it creates train, validation and test sets. You can modify it yourself if you want more or less challenging tasks."
      ]
    },
    {
      "cell_type": "code",
      "execution_count": null,
      "metadata": {
        "id": "Y6yfMAQ8aduj"
      },
      "outputs": [],
      "source": [
        "import numpy as np\n",
        "import matplotlib.pyplot as plt\n",
        "\n",
        "np.random.seed(42)"
      ]
    },
    {
      "cell_type": "code",
      "execution_count": null,
      "metadata": {
        "id": "4YabfD43ajNh"
      },
      "outputs": [],
      "source": [
        "def data_generator(noise=0.1, n_samples=300, D1=True):\n",
        "    # Create covariates and response variable\n",
        "    if D1:\n",
        "        X = np.linspace(-3, 3, num=n_samples).reshape(-1,1) # 1-D\n",
        "        np.random.shuffle(X)\n",
        "        y = np.random.normal((0.5*np.sin(X[:,0]*3) + X[:,0]), noise) # 1-D with trend\n",
        "    else:\n",
        "        X = np.random.multivariate_normal(np.zeros(3), noise*np.eye(3), size = n_samples) # 3-D\n",
        "        np.random.shuffle(X)    \n",
        "        y = np.sin(X[:,0]) - 5*(X[:,1]**2) + 0.5*X[:,2] # 3-D\n",
        "\n",
        "    # Stack them together vertically to split data set\n",
        "    data_set = np.vstack((X.T,y)).T\n",
        "    \n",
        "    train, validation, test = np.split(data_set, [int(0.35*n_samples), int(0.7*n_samples)], axis=0)\n",
        "    \n",
        "    # Standardization of the data, remember we do the standardization with the training set mean and standard deviation\n",
        "    train_mu = np.mean(train, axis=0)\n",
        "    train_sigma = np.std(train, axis=0)\n",
        "    \n",
        "    train = (train-train_mu)/train_sigma\n",
        "    validation = (validation-train_mu)/train_sigma\n",
        "    test = (test-train_mu)/train_sigma\n",
        "    \n",
        "    x_train, x_validation, x_test = train[:,:-1], validation[:,:-1], test[:,:-1]\n",
        "    y_train, y_validation, y_test = train[:,-1], validation[:,-1], test[:,-1]\n",
        "\n",
        "    return x_train, y_train,  x_validation, y_validation, x_test, y_test"
      ]
    },
    {
      "cell_type": "code",
      "execution_count": null,
      "metadata": {
        "id": "u1oDngHLapIz"
      },
      "outputs": [],
      "source": [
        "D1 = True\n",
        "x_train, y_train,  x_validation, y_validation, x_test, y_test = data_generator(noise=0.5, D1=D1)"
      ]
    },
    {
      "cell_type": "code",
      "execution_count": null,
      "metadata": {
        "id": "Ysfa3FsBavlm",
        "outputId": "7d9b2490-7280-4619-b3bd-bb143df888a7",
        "colab": {
          "base_uri": "https://localhost:8080/",
          "height": 265
        }
      },
      "outputs": [
        {
          "output_type": "display_data",
          "data": {
            "text/plain": [
              "<Figure size 432x288 with 1 Axes>"
            ],
            "image/png": "[encoded data removed]"
          },
          "metadata": {
            "needs_background": "light"
          }
        }
      ],
      "source": [
        "if D1:\n",
        "    plt.scatter(x_train[:,0], y_train);\n",
        "    plt.scatter(x_validation[:,0], y_validation);\n",
        "    plt.scatter(x_test[:,0], y_test);\n",
        "else:\n",
        "    plt.scatter(x_train[:,1], y_train);\n",
        "    plt.scatter(x_validation[:,1], y_validation);\n",
        "    plt.scatter(x_test[:,1], y_test);\n",
        "plt.show()"
      ]
    },
    {
      "cell_type": "code",
      "execution_count": null,
      "metadata": {
        "id": "zac2HHNlgbpm"
      },
      "outputs": [],
      "source": [
        "# convert from nparray to Var\n",
        "def nparray_to_Var(x):\n",
        "  if x.ndim==1:\n",
        "    y = [[Var(float(x[i]))] for i in range(x.shape[0])] # always work with list of list\n",
        "  else:\n",
        "    y = [[Var(float(x[i,j])) for j in range(x.shape[1])] for i in range(x.shape[0])]\n",
        "  return y\n",
        "   \n",
        "x_train = nparray_to_Var(x_train)\n",
        "y_train = nparray_to_Var(y_train)\n",
        "x_validation = nparray_to_Var(x_validation)\n",
        "y_validation = nparray_to_Var(y_validation)\n",
        "x_test = nparray_to_Var(x_test)\n",
        "y_test = nparray_to_Var(y_test)\n"
      ]
    },
    {
      "cell_type": "markdown",
      "metadata": {
        "id": "VbjrqcpVFtGe"
      },
      "source": [
        "# Defining and initializing the network\n",
        "\n",
        "The steps to create a feed forward neural network are the following:\n",
        "\n",
        "1. **Number of hidden layer and hidden units**. We have to define the number of hidden units in each layer. The number of features in X and the output dimensionality (the size of Y) are given but the numbers in between are set by the researcher. Remember that for each unit in each layer beside in the input has a bias term.\n",
        "2. **Activation functions** for each hidden layer. Each hidden layer in your list must have an activation function (it can also be the linear activation which is equivalent to identity function). The power of neural networks comes from non-linear activation functions that learn representations (features) from the data allowing us to learn from it. \n",
        "3. **Parameter initialization**. We will initialize the weights to have random values. This is done in practice by drawing pseudo random numbers from a Gaussian or uniform distribution. It turns out that for deeper models we have to be careful about how we scale the random numbers. This will be the topic of the exercise below. For now we will just use unit variance Gaussians.  \n",
        "\n",
        "In order to make life easier for ourselves we define a DenseLayer class that takes care of initialization and the forward pass. We can also extend it later with print and advanced initialization capabilities. For the latter we have introduced a Initializer class.\n",
        "\n",
        "Note that we use Sequence in the code below. A Sequence is an ordered list. This means the order we insert and access items are the same."
      ]
    },
    {
      "cell_type": "code",
      "execution_count": null,
      "metadata": {
        "id": "ij_ieRsAt7Xt"
      },
      "outputs": [],
      "source": [
        "class Initializer:\n",
        "\n",
        "  def init_weights(self, n_in, n_out):\n",
        "    raise NotImplementedError\n",
        "\n",
        "  def init_bias(self, n_out):\n",
        "    raise NotImplementedError\n",
        "  \n",
        "  ## Glorot\n",
        "  def DenseLayer_Glorot_tanh(n_in: int, n_out: int):\n",
        "    std = 2/(n_in+n_out) # <- replace with proper initialization\n",
        "    return DenseLayer(n_in, n_out, lambda x: x.tanh(), initializer = NormalInitializer(std))\n",
        "\n",
        "  ## He\n",
        "  def DenseLayer_He_relu(n_in: int, n_out: int):\n",
        "    std = 2/n_in # <- replace with proper initialization\n",
        "    return DenseLayer(n_in, n_out, lambda x: x.relu)"
      ]
    },
    {
      "cell_type": "code",
      "execution_count": null,
      "metadata": {
        "id": "eb18N5phuIha"
      },
      "outputs": [],
      "source": [
        "import random\n",
        "\n",
        "class NormalInitializer(Initializer):\n",
        "\n",
        "  def __init__(self, mean=0, std=0.1):\n",
        "    self.mean = mean\n",
        "    self.std = std\n",
        "\n",
        "  def init_weights(self, n_in, n_out):\n",
        "    return [[Var(random.gauss(self.mean, self.std)) for _ in range(n_out)] for _ in range(n_in)]\n",
        "\n",
        "  def init_bias(self, n_out):\n",
        "    return [Var(0.0) for _ in range(n_out)]\n",
        "\n",
        "class ConstantInitializer(Initializer):\n",
        "\n",
        "  def __init__(self, weight=1.0, bias=0.0):\n",
        "    self.weight = weight\n",
        "    self.bias = bias\n",
        "\n",
        "  def init_weights(self, n_in, n_out):\n",
        "    return [[Var(self.weight) for _ in range(n_out)] for _ in range(n_in)]\n",
        "\n",
        "  def init_bias(self, n_out):\n",
        "    return [Var(self.bias) for _ in range(n_out)]"
      ]
    },
    {
      "cell_type": "code",
      "execution_count": null,
      "metadata": {
        "id": "jOLYGnZKuM6W"
      },
      "outputs": [],
      "source": [
        "from typing import Sequence\n",
        "\n",
        "class DenseLayer:\n",
        "    def __init__(self, n_in: int, n_out: int, act_fn, initializer = NormalInitializer()):\n",
        "        self.weights = initializer.init_weights(n_in, n_out)\n",
        "        self.bias = initializer.init_bias(n_out)\n",
        "        self.act_fn = act_fn\n",
        "    \n",
        "    def __repr__(self):    \n",
        "        return 'Weights: ' + repr(self.weights) + ' Biases: ' + repr(self.bias)\n",
        "\n",
        "    def parameters(self) -> Sequence[Var]:\n",
        "      params = []\n",
        "      for r in self.weights:\n",
        "        params += r\n",
        "\n",
        "      return params + self.bias\n",
        "\n",
        "    def forward(self, single_input: Sequence[Var]) -> Sequence[Var]:\n",
        "        # self.weights is a matrix with dimension n_in x n_out. We check that the dimensionality of the input\n",
        "        # to the current layer matches the number of nodes in the current layer\n",
        "        assert len(self.weights) == len(single_input), \"weights and single_input must match in first dimension\"\n",
        "        weights = self.weights\n",
        "        out = []\n",
        "        # For some given data point single_input, we now want to calculate the resulting value in each node in the current layer\n",
        "        # We therefore loop over the (number of) nodes in the current layer:\n",
        "        for j in range(len(weights[0])):\n",
        "            # Initialize the node value depending on its corresponding parameters.\n",
        "            node = self.bias[j]  # <- Insert code\n",
        "            # We now finish the linear transformation corresponding to the parameters of the currently considered node.\n",
        "            for i in range(len(single_input)):\n",
        "                node += weights[i][j] * single_input[i]  # <- Insert code\n",
        "            node = self.act_fn(node)\n",
        "            out.append(node)\n",
        "\n",
        "        return out\n",
        "      \n",
        "    def describe(self):\n",
        "        # return f'Input nodes: {self.n_in}, output nodes: {self.n_out} ||' +  f'Weights of input{i}: ' for i in range(len(weights[0]))\n",
        "        n_out = len(self.weights[0])\n",
        "        n_in = len(self.weights)\n",
        "        params = self.parameters()\n",
        "        description = [[f'Weight from input {j} to node {i}: {params[n_out * j + i]} and bias {params[-(n_out-i)]}' for i\n",
        "          in range(n_out)] for j in range(n_in)]\n",
        "        return sum(description, [])"
      ]
    },
    {
      "cell_type": "markdown",
      "metadata": {
        "id": "jpIZPBpNI0pO"
      },
      "source": [
        "## Exercise f) Add more activation functions\n",
        "\n",
        "To have a full definition of the neural network, we must define an activation function for every layer. Several activation functions have been proposed and have different characteristics. In the Var class we have already defined the rectified linear init (relu). \n",
        " \n",
        "Implement the following activation functions in the Var class:\n",
        "\n",
        "* Identity: $$\\mathrm{identity}(x) = x$$\n",
        "* Hyperbolic tangent: $$\\tanh(x)$$\n",
        "* Sigmoid (or logistic function): $$\\mathrm{sigmoid}(x) = \\frac{1}{1.0 + \\exp(-x ) }$$  Hint: $\\mathrm{sigmoid}'(x)= \\mathrm{sigmoid}(x)(1-\\mathrm{sigmoid}(x))$.  \n",
        "\n",
        "Hint: You can seek inspiration in the relu method in the Var class."
      ]
    },
    {
      "cell_type": "markdown",
      "source": [
        "**Answer (f)**\n",
        "\n",
        "The following code snippet is implemented in the previous Var class."
      ],
      "metadata": {
        "id": "_AabEBeucF4S"
      }
    },
    {
      "cell_type": "code",
      "source": [
        "    def sigmoid(self):\n",
        "        return Var(1/(1+exp(-self.v)), lambda: [(self, exp(self.v)/((exp(self.v)+1)**2))])\n",
        "\n",
        "    def tanh(self):\n",
        "        return Var((exp(2*self.v)-1)/(exp(2*self.v)+1), lambda: [(self, 4/((exp(-self.v)+exp(self.v))**2))])\n",
        "\n",
        "    def identity(self):\n",
        "        return Var(self.v, lambda: [(self, 1.0)])"
      ],
      "metadata": {
        "id": "hSKslIHFcBuM"
      },
      "execution_count": null,
      "outputs": []
    },
    {
      "cell_type": "markdown",
      "metadata": {
        "id": "p_8n_SKnIW2F"
      },
      "source": [
        "## Exercise g) Complete the forward pass\n",
        "\n",
        "In the code below we initialize a 1-5-1 network and pass the training set through it. *The forward method in DenseLayer is **not** complete*. It just outputs zeros right now. The method forward should perform an [affine transformation](https://en.wikipedia.org/wiki/Affine_transformation) on the input followed by an application of the activation function."
      ]
    },
    {
      "cell_type": "code",
      "execution_count": null,
      "metadata": {
        "id": "xDEjtePxE7Mv",
        "outputId": "aeb51f9b-ffd2-4435-a4a3-dce18e0210e1",
        "colab": {
          "base_uri": "https://localhost:8080/"
        }
      },
      "outputs": [
        {
          "output_type": "stream",
          "name": "stdout",
          "text": [
            "[[Var(v=0.0034, grad=0.0000)], [Var(v=0.0068, grad=0.0000)], [Var(v=0.0006, grad=0.0000)], [Var(v=-0.0020, grad=0.0000)], [Var(v=0.0050, grad=0.0000)], [Var(v=0.0046, grad=0.0000)], [Var(v=0.0030, grad=0.0000)], [Var(v=-0.0005, grad=0.0000)], [Var(v=-0.0021, grad=0.0000)], [Var(v=0.0019, grad=0.0000)], [Var(v=0.0052, grad=0.0000)], [Var(v=-0.0013, grad=0.0000)], [Var(v=0.0042, grad=0.0000)], [Var(v=-0.0015, grad=0.0000)], [Var(v=0.0022, grad=0.0000)], [Var(v=0.0043, grad=0.0000)], [Var(v=0.0080, grad=0.0000)], [Var(v=0.0038, grad=0.0000)], [Var(v=0.0004, grad=0.0000)], [Var(v=0.0013, grad=0.0000)], [Var(v=-0.0010, grad=0.0000)], [Var(v=-0.0004, grad=0.0000)], [Var(v=0.0058, grad=0.0000)], [Var(v=0.0059, grad=0.0000)], [Var(v=-0.0006, grad=0.0000)], [Var(v=-0.0015, grad=0.0000)], [Var(v=0.0076, grad=0.0000)], [Var(v=0.0083, grad=0.0000)], [Var(v=0.0009, grad=0.0000)], [Var(v=0.0053, grad=0.0000)], [Var(v=-0.0019, grad=0.0000)], [Var(v=0.0013, grad=0.0000)], [Var(v=-0.0017, grad=0.0000)], [Var(v=-0.0018, grad=0.0000)], [Var(v=0.0040, grad=0.0000)], [Var(v=-0.0003, grad=0.0000)], [Var(v=-0.0021, grad=0.0000)], [Var(v=-0.0008, grad=0.0000)], [Var(v=-0.0015, grad=0.0000)], [Var(v=-0.0010, grad=0.0000)], [Var(v=-0.0007, grad=0.0000)], [Var(v=-0.0010, grad=0.0000)], [Var(v=0.0078, grad=0.0000)], [Var(v=-0.0012, grad=0.0000)], [Var(v=-0.0010, grad=0.0000)], [Var(v=-0.0012, grad=0.0000)], [Var(v=0.0050, grad=0.0000)], [Var(v=0.0048, grad=0.0000)], [Var(v=-0.0005, grad=0.0000)], [Var(v=0.0049, grad=0.0000)], [Var(v=0.0021, grad=0.0000)], [Var(v=0.0002, grad=0.0000)], [Var(v=0.0053, grad=0.0000)], [Var(v=-0.0010, grad=0.0000)], [Var(v=0.0084, grad=0.0000)], [Var(v=0.0074, grad=0.0000)], [Var(v=-0.0007, grad=0.0000)], [Var(v=-0.0008, grad=0.0000)], [Var(v=0.0028, grad=0.0000)], [Var(v=-0.0018, grad=0.0000)], [Var(v=0.0049, grad=0.0000)], [Var(v=-0.0013, grad=0.0000)], [Var(v=-0.0021, grad=0.0000)], [Var(v=0.0024, grad=0.0000)], [Var(v=0.0017, grad=0.0000)], [Var(v=-0.0017, grad=0.0000)], [Var(v=-0.0018, grad=0.0000)], [Var(v=0.0062, grad=0.0000)], [Var(v=-0.0013, grad=0.0000)], [Var(v=0.0024, grad=0.0000)], [Var(v=-0.0005, grad=0.0000)], [Var(v=-0.0002, grad=0.0000)], [Var(v=0.0048, grad=0.0000)], [Var(v=0.0028, grad=0.0000)], [Var(v=-0.0002, grad=0.0000)], [Var(v=0.0076, grad=0.0000)], [Var(v=-0.0009, grad=0.0000)], [Var(v=-0.0009, grad=0.0000)], [Var(v=-0.0012, grad=0.0000)], [Var(v=0.0079, grad=0.0000)], [Var(v=0.0012, grad=0.0000)], [Var(v=0.0007, grad=0.0000)], [Var(v=-0.0019, grad=0.0000)], [Var(v=-0.0003, grad=0.0000)], [Var(v=-0.0010, grad=0.0000)], [Var(v=-0.0004, grad=0.0000)], [Var(v=-0.0003, grad=0.0000)], [Var(v=-0.0011, grad=0.0000)], [Var(v=-0.0019, grad=0.0000)], [Var(v=-0.0020, grad=0.0000)], [Var(v=0.0029, grad=0.0000)], [Var(v=-0.0006, grad=0.0000)], [Var(v=-0.0011, grad=0.0000)], [Var(v=0.0045, grad=0.0000)], [Var(v=-0.0016, grad=0.0000)], [Var(v=-0.0019, grad=0.0000)], [Var(v=0.0021, grad=0.0000)], [Var(v=0.0003, grad=0.0000)], [Var(v=0.0072, grad=0.0000)], [Var(v=-0.0011, grad=0.0000)], [Var(v=0.0047, grad=0.0000)], [Var(v=-0.0011, grad=0.0000)], [Var(v=-0.0017, grad=0.0000)], [Var(v=0.0023, grad=0.0000)], [Var(v=0.0067, grad=0.0000)]]\n"
          ]
        }
      ],
      "source": [
        "NN = [\n",
        "    DenseLayer(1, 5, lambda x: x.relu()),\n",
        "    DenseLayer(5, 1, lambda x: x.identity())\n",
        "]\n",
        "\n",
        "def forward(input, network):\n",
        "\n",
        "  def forward_single(x, network):\n",
        "    for layer in network:\n",
        "        x = layer.forward(x)\n",
        "    return x\n",
        "\n",
        "  output = [ forward_single(input[n], network) for n in range(len(input))]\n",
        "  return output\n",
        "\n",
        "print(forward(x_train, NN))\n"
      ]
    },
    {
      "cell_type": "markdown",
      "source": [
        "**Answer (g)**\n",
        "\n",
        "The following code snippet has been implemented ind the previous DenseLayer Class, as the function forward."
      ],
      "metadata": {
        "id": "nNWWvxQCeNf2"
      }
    },
    {
      "cell_type": "code",
      "source": [
        "def forward(self, single_input: Sequence[Var]) -> Sequence[Var]:\n",
        "    # self.weights is a matrix with dimension n_in x n_out. We check that the dimensionality of the input\n",
        "    # to the current layer matches the number of nodes in the current layer\n",
        "    assert len(self.weights) == len(single_input), \"weights and single_input must match in first dimension\"\n",
        "    weights = self.weights\n",
        "    out = []\n",
        "    # For some given data point single_input, we now want to calculate the resulting value in each node in the current layer\n",
        "    # We therefore loop over the (number of) nodes in the current layer:\n",
        "    for j in range(len(weights[0])):\n",
        "        # Initialize the node value depending on its corresponding parameters.\n",
        "        node = self.bias[j]  # <- Insert code\n",
        "        # We now finish the linear transformation corresponding to the parameters of the currently considered node.\n",
        "        for i in range(len(single_input)):\n",
        "            node += weights[i][j] * single_input[i]  # <- Insert code\n",
        "        node = self.act_fn(node)\n",
        "        out.append(node)"
      ],
      "metadata": {
        "id": "Eg210D_gectN"
      },
      "execution_count": null,
      "outputs": []
    },
    {
      "cell_type": "markdown",
      "metadata": {
        "id": "oLrGJytZFtGm"
      },
      "source": [
        "## Exercise h) Print all network parameters\n",
        "\n",
        "Make a function that prints all the parameters of the network (weights and biases) with information about in which layer the appear. In the object oriented spirit you should introduce a method in the DenseLayer class to print the parameters of a layer. Hint: You can take inspiration from the corresponding method in Var. "
      ]
    },
    {
      "cell_type": "markdown",
      "source": [
        "**Answer (h)**\n",
        "\n",
        "The following code snippet has been implemented in the DenseLayer class. The intended behaviour, is that a .describe() call would show a string describing the weight from an input to the connected node, and the bias."
      ],
      "metadata": {
        "id": "vc2akTHMeqFD"
      }
    },
    {
      "cell_type": "code",
      "execution_count": null,
      "metadata": {
        "id": "iac-VwYGFtGm"
      },
      "outputs": [],
      "source": [
        "    def describe(self):\n",
        "        # return f'Input nodes: {self.n_in}, output nodes: {self.n_out} ||' +  f'Weights of input{i}: ' for i in range(len(weights[0]))\n",
        "        n_out = len(self.weights[0])\n",
        "        n_in = len(self.weights)\n",
        "        params = self.parameters()\n",
        "        description = [[f'Weight from input {j} to node {i}: {params[n_out * j + i]} and bias {params[-(n_out-i)]}' for i\n",
        "          in range(n_out)] for j in range(n_in)]\n",
        "        return sum(description, [])"
      ]
    },
    {
      "cell_type": "markdown",
      "source": [
        "And for this following code snippet, the neural network is described in full, assuming the input is of the format of the previously used definition of NN, which is a list of DenseLayer class calls."
      ],
      "metadata": {
        "id": "u9-p1YMzm1SC"
      }
    },
    {
      "cell_type": "code",
      "source": [
        "def describe_NN(NN):\n",
        "  for i, j in enumerate(NN):\n",
        "    if i==0:\n",
        "      print(f'Layer {i} (input) to {i+1}:')\n",
        "    elif i==len(NN)-1:\n",
        "      print(f'Layer {i} to {i+1} (output):')\n",
        "    else:\n",
        "      print(f'Layer {i} to {i+1}:')\n",
        "    for x in j.describe():\n",
        "        print(x)\n",
        "\n",
        "describe_NN(NN=NN)"
      ],
      "metadata": {
        "id": "AfDvTME8nJ8x",
        "outputId": "521e476b-f675-464a-c851-3057588a5075",
        "colab": {
          "base_uri": "https://localhost:8080/"
        }
      },
      "execution_count": null,
      "outputs": [
        {
          "output_type": "stream",
          "name": "stdout",
          "text": [
            "Layer 0 (input) to 1:\n",
            "Weight from input 0 to node 0: Var(v=-0.1658, grad=0.0000) and bias Var(v=0.0000, grad=0.0000)\n",
            "Weight from input 0 to node 1: Var(v=-0.1353, grad=0.0000) and bias Var(v=0.0000, grad=0.0000)\n",
            "Weight from input 0 to node 2: Var(v=0.0734, grad=0.0000) and bias Var(v=0.0000, grad=0.0000)\n",
            "Weight from input 0 to node 3: Var(v=0.1848, grad=0.0000) and bias Var(v=0.0000, grad=0.0000)\n",
            "Weight from input 0 to node 4: Var(v=-0.0763, grad=0.0000) and bias Var(v=0.0000, grad=0.0000)\n",
            "Layer 1 to 2 (output):\n",
            "Weight from input 0 to node 0: Var(v=-0.0516, grad=0.0000) and bias Var(v=0.0000, grad=0.0000)\n",
            "Weight from input 1 to node 0: Var(v=0.0301, grad=0.0000) and bias Var(v=0.0000, grad=0.0000)\n",
            "Weight from input 2 to node 0: Var(v=-0.0098, grad=0.0000) and bias Var(v=0.0000, grad=0.0000)\n",
            "Weight from input 3 to node 0: Var(v=0.0291, grad=0.0000) and bias Var(v=0.0000, grad=0.0000)\n",
            "Weight from input 4 to node 0: Var(v=0.0411, grad=0.0000) and bias Var(v=0.0000, grad=0.0000)\n"
          ]
        }
      ]
    },
    {
      "cell_type": "markdown",
      "metadata": {
        "id": "_79HOAXrFtHK"
      },
      "source": [
        "## Visualization\n",
        "\n",
        "Now that we have defined our activation functions we can visualize them to see what they look like:"
      ]
    },
    {
      "cell_type": "code",
      "execution_count": null,
      "metadata": {
        "id": "1FcylHqLTl-Z",
        "outputId": "64fec0bc-45f2-44f9-bf64-0f75a23582a1",
        "colab": {
          "base_uri": "https://localhost:8080/",
          "height": 282
        }
      },
      "outputs": [
        {
          "output_type": "execute_result",
          "data": {
            "text/plain": [
              "[<matplotlib.lines.Line2D at 0x7f1d411220d0>]"
            ]
          },
          "metadata": {},
          "execution_count": 20
        },
        {
          "output_type": "display_data",
          "data": {
            "text/plain": [
              "<Figure size 432x288 with 1 Axes>"
            ],
            "image/png": "[encoded data removed]"
          },
          "metadata": {
            "needs_background": "light"
          }
        }
      ],
      "source": [
        "x = np.linspace(-6, 6, 100)\n",
        "\n",
        "# convert from Var to ndarray  \n",
        "def Var_to_nparray(x):\n",
        "  y = np.zeros((len(x),len(x[0])))\n",
        "  for i in range(len(x)):\n",
        "    for j in range(len(x[0])):\n",
        "      y[i,j] = x[i][j].v\n",
        "  return y\n",
        "\n",
        "# define 1-1 network with weight = 1 and relu activation \n",
        "NN = [ DenseLayer(1, 1, lambda x: x.relu(), initializer = ConstantInitializer(1.0)) ] \n",
        "y = Var_to_nparray(forward(nparray_to_Var(x), NN))\n",
        "\n",
        "#y = Var_to_nparray(relu(nparray_to_Var(x)))\n",
        "plt.plot(x,y)"
      ]
    },
    {
      "cell_type": "code",
      "execution_count": null,
      "metadata": {
        "id": "oOL2UolJFtHL",
        "outputId": "8cebbe4a-c022-495e-a27a-7b2229934849",
        "colab": {
          "base_uri": "https://localhost:8080/",
          "height": 341
        }
      },
      "outputs": [
        {
          "output_type": "display_data",
          "data": {
            "text/plain": [
              "<Figure size 360x360 with 1 Axes>"
            ],
            "image/png": "[encoded data removed]"
          },
          "metadata": {
            "needs_background": "light"
          }
        }
      ],
      "source": [
        "# Testing all activation layers\n",
        "\n",
        "x = np.linspace(-6, 6, 100)\n",
        "units = {\n",
        "    \"identity\": lambda x: x.identity(),\n",
        "    #\"sigmoid\": lambda x: x.sigmoid(),  <- uncomment before sharing\n",
        "    \"relu\": lambda x: x.relu(),\n",
        "    #\"tanh\": lambda x: x.tanh() <- uncomment before sharing\n",
        "}\n",
        "\n",
        "plt.figure(figsize=(5, 5))\n",
        "[plt.plot(x, Var_to_nparray(forward(nparray_to_Var(x), [DenseLayer(1, 1, unit, initializer = ConstantInitializer(1.0))]) ), label=unit_name, lw=2) for unit_name, unit in units.items()] # unit(nparray_to_Var(x))), label=unit_name, lw=2) for unit_name, unit in units.items()]\n",
        "plt.legend(loc=2, fontsize=16)\n",
        "plt.title('Our activation functions', fontsize=20)\n",
        "plt.ylim([-2, 5])\n",
        "plt.xlim([-6, 6])\n",
        "plt.show()"
      ]
    },
    {
      "cell_type": "markdown",
      "metadata": {
        "id": "b-jdEl-7FtGs"
      },
      "source": [
        "# Advanced initialization schemes\n",
        "\n",
        "If we are not careful with initialization, the signals we propagate forward ($a^{(l)}$, $l=1,\\ldots,L$) and backward ($\\delta^l$, $l=L,L-1,\\ldots,1$) can blow up or shrink to zero. A statistical analysis of the variance of the signals for different activation functions can be found in these two papers: [Glorot initialization](http://proceedings.mlr.press/v9/glorot10a/glorot10a.pdf) and [He initialization](https://arxiv.org/pdf/1502.01852v1.pdf). \n",
        "\n",
        "The result of the analyses are proposals for how to make the initialization such that the variance of the signals (forward and backward) are kept approxmimatly constant when propagating from layer to layer. The exact expressions depend upon the non-linear activation function used. In Glorot initialization, the aim is to keep both the forward and backward variances constant whereas He only aims at keeping the variance in the forward pass constant.\n",
        "\n",
        "We define $n_{in}$ and $n_{out}$ as the number of input units and output units of a particular layer. \n",
        "\n",
        "The Glorot initialization has the form: \n",
        "\n",
        "$$w_{ij} \\sim N \\bigg( 0, \\, \\frac{2 \\alpha }{n_{in} + n_{out}} \\bigg) \\ . $$\n",
        "\n",
        "where $N(\\mu,\\sigma^2)$ is a Gaussian distribution with mean $\\mu$ and variance $\\sigma^2$ and $\\alpha$ is a parameter that depends upon the activation function used. For $\\tanh$, $\\alpha=1$ and for Rectified Linear Unit (ReLU) activations, $\\alpha=2$. (It is also possible to use a uniform distribution for initialization, see [this blog post](https://mmuratarat.github.io/2019-02-25/xavier-glorot-he-weight-init).) \n",
        "\n",
        "The He initialization is very similar\n",
        "\n",
        "$$w_{ij} \\sim N \\bigg( 0, \\, \\frac{\\alpha}{n_{in}} \\bigg) \\ . $$"
      ]
    },
    {
      "cell_type": "markdown",
      "metadata": {
        "id": "mqeyab9qFtGs"
      },
      "source": [
        "## Exercise i) Glorot and He initialization\n",
        " \n",
        "Using the Initializer class, implement functions that implement Glorot and He \n",
        "\n",
        "Explain briefly how you would test numerically that these initializations have the sought after property. Hint: See plots in Glorot paper.\n",
        "\n",
        "Comment: If you want to be more advanced then try to make a universal initializer taking both the activation function and type (Glorot or He) as argument."
      ]
    },
    {
      "cell_type": "markdown",
      "source": [
        "**Answer (i)**\n",
        "\n",
        "Below is the code snippet of the attempt at implementing the Glorot and He initialization schemes. These are also found implemented in the Initializer class from before.\n",
        "\n",
        "A numerical test would simply be to plot the activation values of each layer, which should result in very alike distributions around 0 mean (see figure 6 of the Glorot paper). Additionally, if it holds, the ratio between ${\\mathbf z^i}$ to ${\\mathbf z^{i+1}}$ should be around 0.8, and 0.5 for the more common method ($1/\\sqrt(n)$) (see the Glorot paper section 4.2.2)."
      ],
      "metadata": {
        "id": "zfJAtlNrr9H2"
      }
    },
    {
      "cell_type": "code",
      "execution_count": null,
      "metadata": {
        "id": "Qyk01CgaFtGt"
      },
      "outputs": [],
      "source": [
        "## Glorot\n",
        "def DenseLayer_Glorot_tanh(n_in: int, n_out: int):\n",
        "  std = 2/(n_in+n_out) # <- replace with proper initialization\n",
        "  return DenseLayer(n_in, n_out, lambda x: x.tanh(), initializer = NormalInitializer(std))\n",
        "\n",
        "## He\n",
        "def DenseLayer_He_relu(n_in: int, n_out: int):\n",
        "  std = 2/n_in # <- replace with proper initialization\n",
        "  return DenseLayer(n_in, n_out, lambda x: x.relu(), initializer = NormalInitializer(std))\n",
        "\n",
        "def DenseLayer_init(n_in: int, n_out: int, act_fn, init_type: str=None):\n",
        "  assert init_type in ['Glorot', 'He'], f\"Choose initialization type. Must be either 'Glorot' or 'He'\"\n",
        "  if init_type == 'Glorot':\n",
        "    alpha = 1\n",
        "    std = 2*alpha/(n_in+n_out)\n",
        "  elif init_type == 'He':\n",
        "    alpha = 2\n",
        "    std = alpha/n_in\n",
        "  return DenseLayer(n_in, n_out, act_fn, initializer = NormalInitializer(std))"
      ]
    },
    {
      "cell_type": "markdown",
      "metadata": {
        "id": "-XyXBD37FtHk"
      },
      "source": [
        "## Exercise j) Forward pass unit test\n",
        "\n",
        "Write a bit of code to make a unit test that the forward pass works. This can be done by defining a simple network with for example all weights equal to one (using the ConstantInitializer method) and identity activation functions. \n",
        "\n",
        "Hints: Use the [assert](https://www.w3schools.com/python/ref_keyword_assert.asp), the nparray_to_Var and the Var_to_nparray commands. "
      ]
    },
    {
      "cell_type": "markdown",
      "source": [
        "**Answer (j)**\n",
        "\n",
        "For the unit test a simple 1-2-1 layer network is made, with the ConstantInitializer initializer, and the identity activation function, for both in and out of the hidden layer of 2 nodes. This means the weights will remain 1, and the activation will be the input itself. Therefore the output layer will output half the value of the input, which then will be tested for, seen below."
      ],
      "metadata": {
        "id": "knpMcVWYxpEM"
      }
    },
    {
      "cell_type": "code",
      "execution_count": null,
      "metadata": {
        "id": "k0miqRUAFtHl"
      },
      "outputs": [],
      "source": [
        "UT_NN = [\n",
        "    DenseLayer(1, 2, lambda x: x.identity(), initializer=ConstantInitializer()),\n",
        "    DenseLayer(2, 1, lambda x: x.identity(), initializer=ConstantInitializer())\n",
        "]\n",
        "\n",
        "input_values = Var_to_nparray(x_train[:5])\n",
        "test_nn_results = forward(x_train[:5], UT_NN)\n",
        "adjusted_test_nn_results = Var_to_nparray([[i[0]*Var(0.5)] for i in test_nn_results])\n",
        "assert all(input_values == adjusted_test_nn_results)"
      ]
    },
    {
      "cell_type": "markdown",
      "metadata": {
        "id": "faCxhfFnFtHp"
      },
      "source": [
        "# Loss functions\n",
        "\n",
        "We are only missing a loss function to we need to define a loss function and its derivative with respect to the output of the neural network $y$"
      ]
    },
    {
      "cell_type": "code",
      "execution_count": null,
      "metadata": {
        "id": "I2eDYKvAFtHq"
      },
      "outputs": [],
      "source": [
        "def squared_loss(t, y):\n",
        "  \n",
        "  # add check that sizes agree\n",
        "  \n",
        "  def squared_loss_single(t, y):\n",
        "    Loss = Var(0.0)\n",
        "    for i in range(len(t)): # sum over outputs\n",
        "      Loss += (t[i]-y[i]) ** 2\n",
        "    return Loss\n",
        "\n",
        "  Loss = Var(0.0)\n",
        "  for n in range(len(t)): # sum over training data\n",
        "    Loss += squared_loss_single(t[n],y[n])\n",
        "  return Loss"
      ]
    },
    {
      "cell_type": "markdown",
      "metadata": {
        "id": "SrwSJ2UWFtHu"
      },
      "source": [
        "## Exercise k) Implement cross entropy loss\n",
        "\n",
        "Insert code below to implement cross-entropy loss for general dimensionality of $t$. Use a logits formulation:\n",
        "$$\n",
        "\\rm{Loss} = - \\sum_i t_i \\, log \\, p_i \n",
        "$$\n",
        "with $p$ given by the the softmax function in terms of the logits $h$:\n",
        "$$\n",
        "p_i = \\frac{\\exp(h_i)}{\\sum_{i'} \\exp(h_{i'})} .\n",
        "$$\n",
        "Inserting $p$ in the expression for the loss gives\n",
        "$$\n",
        "\\rm{Loss} = - \\sum_i t_i h_i + \\rm{LogSumExp}(h) \\ ,\n",
        "$$\n",
        "where \n",
        "$$\n",
        "\\rm{LogSumExp}(h) = \\log \\sum_i \\exp h_i \\ .\n",
        "$$\n",
        "This is true for $t$ being a one-hot vector. \n",
        "\n",
        "Call the function to convince yourself it works. \n",
        "\n",
        "In practice you want to implement a [numerically stable](https://leimao.github.io/blog/LogSumExp/) version of LogSumExp. But we will not bother about that here.\n",
        "\n",
        "Help: You can add these methods in the Var class:\n",
        "\n",
        "    def exp(self):\n",
        "        return Var(exp(self.v), lambda: [(self, exp(self.v))])\n",
        "    \n",
        "    def log(self):\n",
        "        return Var(log(self.v), lambda: [(self, self.v ** -1)])"
      ]
    },
    {
      "cell_type": "markdown",
      "source": [
        "**Answer (k)**\n",
        "\n",
        "Below is the implemented cross_entropy_loss function. With the aforementioned hint, where an expression for log and exp has been implemented in the Var class, these are used for easier calculation."
      ],
      "metadata": {
        "id": "KfTG1cK8GAj-"
      }
    },
    {
      "cell_type": "code",
      "execution_count": null,
      "metadata": {
        "id": "6nMuxyfzFtHv"
      },
      "outputs": [],
      "source": [
        "def cross_entropy_loss_single(t,h):\n",
        "  Loss_1 = Var(0.0)\n",
        "  Loss_2 = Var(0,0)\n",
        "  for i in range(len(t)):\n",
        "    Loss_1 += -t[i]*h[i]\n",
        "    Loss_2 += h[i].exp()\n",
        "  Loss = Loss_1+Loss_2.log()\n",
        "  return Loss\n"
      ]
    },
    {
      "cell_type": "markdown",
      "metadata": {
        "id": "8fAF5ew4FtHy"
      },
      "source": [
        "# Backward pass\n",
        "\n",
        "Now the magic happens! We get the calculation of the gradients for free. Just do:"
      ]
    },
    {
      "cell_type": "code",
      "execution_count": null,
      "metadata": {
        "id": "iHyfPPI9Qqwu"
      },
      "outputs": [],
      "source": [
        "NN = [\n",
        "    DenseLayer(1, 5, lambda x: x.relu()),\n",
        "    DenseLayer(5, 1, lambda x: x.identity())\n",
        "]\n",
        "\n",
        "output = forward(x_train, NN)\n",
        "\n",
        "Loss = squared_loss(y_train,output)\n",
        "Loss.backward()"
      ]
    },
    {
      "cell_type": "markdown",
      "metadata": {
        "id": "49biIAYKQ1oG"
      },
      "source": [
        "and the gradients will be calculated:"
      ]
    },
    {
      "cell_type": "code",
      "execution_count": null,
      "metadata": {
        "id": "_rGt1bq_Q7uk",
        "outputId": "343ca126-73bf-4162-a51a-2f2352e6b1ee",
        "colab": {
          "base_uri": "https://localhost:8080/"
        }
      },
      "outputs": [
        {
          "output_type": "stream",
          "name": "stdout",
          "text": [
            "Layer 0 \n",
            " Weights: [[Var(v=-0.1118, grad=8.3965), Var(v=0.1118, grad=-14.1131), Var(v=-0.0032, grad=-6.2786), Var(v=0.0234, grad=-4.4722), Var(v=-0.1992, grad=-1.9418)]] Biases: [Var(v=0.0000, grad=-7.6312), Var(v=0.0000, grad=-12.1274), Var(v=0.0000, grad=5.7064), Var(v=0.0000, grad=-3.8429), Var(v=0.0000, grad=1.7648)]\n",
            "Layer 1 \n",
            " Weights: [[Var(v=-0.0880, grad=10.6730)], [Var(v=0.1415, grad=-11.1476)], [Var(v=0.0658, grad=0.3077)], [Var(v=0.0448, grad=-2.3360)], [Var(v=0.0203, grad=19.0110)]] Biases: [Var(v=0.0000, grad=1.0459)]\n"
          ]
        },
        {
          "output_type": "execute_result",
          "data": {
            "text/plain": [
              "[None, None]"
            ]
          },
          "metadata": {},
          "execution_count": 27
        }
      ],
      "source": [
        "[print('Layer', i, '\\n', NN[i]) for i in range(len(NN))] "
      ]
    },
    {
      "cell_type": "markdown",
      "metadata": {
        "id": "D7d7qK0uFtH9"
      },
      "source": [
        "# Backward pass unit test\n",
        "\n",
        "Above we used finite differences to test that Nanograd is actually doing what it is supposed to do. We can in principle try the same for the neural network. But we will trust that the test above is enough."
      ]
    },
    {
      "cell_type": "markdown",
      "metadata": {
        "id": "WgBi8GOSFtIN"
      },
      "source": [
        "# Training and validation\n",
        "\n",
        "We are ready to train some neural networks!\n",
        "\n",
        "We initialize again:"
      ]
    },
    {
      "cell_type": "code",
      "execution_count": null,
      "metadata": {
        "id": "01ePmzBzRtdh"
      },
      "outputs": [],
      "source": [
        "NN = [\n",
        "    DenseLayer(1, 15, lambda x: x.relu()),\n",
        "    DenseLayer(15, 50, lambda x: x.relu()),\n",
        "    DenseLayer(50, 1, lambda x: x.identity())\n",
        "]\n",
        "\n",
        "output = forward(x_train, NN)\n",
        "\n",
        "Loss = squared_loss(y_train,output)\n",
        "Loss.backward()"
      ]
    },
    {
      "cell_type": "markdown",
      "metadata": {
        "id": "10iRPiQ1ISHw"
      },
      "source": [
        "and make an update:\n",
        "\n",
        "We introduce a help function parameters to have a handle in all parameters in the network."
      ]
    },
    {
      "cell_type": "code",
      "execution_count": null,
      "metadata": {
        "id": "dhAI7eyeznia",
        "outputId": "efd88d4e-73e3-4240-a92c-8b02b20f71c8",
        "colab": {
          "base_uri": "https://localhost:8080/"
        }
      },
      "outputs": [
        {
          "output_type": "stream",
          "name": "stdout",
          "text": [
            "Network before update:\n",
            "Layer 0 \n",
            " Weights: [[Var(v=0.0707, grad=1.5568), Var(v=-0.0074, grad=-0.5516), Var(v=0.0985, grad=-0.1432), Var(v=0.0208, grad=-2.7805), Var(v=-0.0195, grad=-1.4268), Var(v=0.0850, grad=-2.1307), Var(v=0.1165, grad=5.2472), Var(v=0.0867, grad=-7.1030), Var(v=-0.0451, grad=-1.0824), Var(v=-0.1418, grad=-0.4218), Var(v=-0.0170, grad=0.9806), Var(v=0.0184, grad=3.3804), Var(v=0.0171, grad=2.5449), Var(v=-0.0794, grad=-3.6178), Var(v=-0.1344, grad=2.9778)]] Biases: [Var(v=0.0000, grad=1.3373), Var(v=0.0000, grad=0.5014), Var(v=0.0000, grad=-0.1230), Var(v=0.0000, grad=-2.3885), Var(v=0.0000, grad=1.2969), Var(v=0.0000, grad=-1.8302), Var(v=0.0000, grad=4.5074), Var(v=0.0000, grad=-6.1015), Var(v=0.0000, grad=0.9838), Var(v=0.0000, grad=0.3834), Var(v=0.0000, grad=-0.8913), Var(v=0.0000, grad=2.9037), Var(v=0.0000, grad=2.1861), Var(v=0.0000, grad=3.2884), Var(v=0.0000, grad=-2.7067)]\n",
            "Layer 1 \n",
            " Weights: [[Var(v=-0.0971, grad=-0.0468), Var(v=-0.0818, grad=0.0000), Var(v=0.0987, grad=-0.6587), Var(v=-0.0376, grad=0.0000), Var(v=0.0256, grad=0.0000), Var(v=0.0713, grad=0.2800), Var(v=0.0842, grad=0.0000), Var(v=0.0765, grad=0.0000), Var(v=0.1612, grad=-1.3124), Var(v=0.0399, grad=-0.5569), Var(v=-0.0180, grad=0.0000), Var(v=-0.0909, grad=0.0000), Var(v=-0.0192, grad=0.0000), Var(v=-0.1631, grad=0.0000), Var(v=-0.0568, grad=0.0000), Var(v=-0.0380, grad=0.0000), Var(v=0.1151, grad=0.0000), Var(v=-0.0294, grad=0.0000), Var(v=-0.0081, grad=0.0000), Var(v=-0.1355, grad=0.0000), Var(v=-0.0173, grad=-0.2230), Var(v=0.0645, grad=0.0000), Var(v=0.0731, grad=0.3356), Var(v=0.1660, grad=0.0000), Var(v=0.0599, grad=0.0000), Var(v=0.0729, grad=0.1079), Var(v=0.0194, grad=0.0000), Var(v=0.1468, grad=-0.3501), Var(v=-0.1299, grad=-1.0438), Var(v=0.0723, grad=-0.2679), Var(v=-0.0353, grad=0.0000), Var(v=0.0638, grad=0.0000), Var(v=-0.0949, grad=0.0000), Var(v=0.1605, grad=0.8512), Var(v=0.1114, grad=1.3319), Var(v=-0.1375, grad=0.0000), Var(v=0.1036, grad=-0.0742), Var(v=-0.0921, grad=0.0000), Var(v=-0.0932, grad=0.0000), Var(v=0.0237, grad=0.9659), Var(v=0.0779, grad=0.0000), Var(v=-0.0141, grad=0.0000), Var(v=-0.0014, grad=0.0000), Var(v=0.0925, grad=0.0000), Var(v=-0.0588, grad=0.0146), Var(v=-0.0903, grad=0.0000), Var(v=0.1455, grad=0.1852), Var(v=0.1982, grad=-0.3040), Var(v=0.0765, grad=0.0000), Var(v=-0.0343, grad=-0.5065)], [Var(v=0.0166, grad=0.0000), Var(v=-0.0152, grad=0.0000), Var(v=-0.0146, grad=0.0000), Var(v=-0.1541, grad=-0.0732), Var(v=-0.0109, grad=0.0000), Var(v=-0.0226, grad=-0.0277), Var(v=-0.0467, grad=-0.0429), Var(v=-0.0452, grad=0.0000), Var(v=0.1183, grad=0.0000), Var(v=0.0044, grad=0.0551), Var(v=0.0437, grad=0.0187), Var(v=0.0845, grad=0.0000), Var(v=-0.0364, grad=0.0000), Var(v=0.0965, grad=0.0000), Var(v=-0.0742, grad=0.0000), Var(v=0.0570, grad=-0.0130), Var(v=-0.0401, grad=-0.0271), Var(v=0.0177, grad=-0.0656), Var(v=0.0904, grad=0.0000), Var(v=0.1452, grad=-0.0201), Var(v=-0.0047, grad=0.0000), Var(v=0.0379, grad=0.0000), Var(v=0.0845, grad=-0.0332), Var(v=0.0867, grad=-0.0911), Var(v=-0.0173, grad=0.0000), Var(v=0.0498, grad=0.0000), Var(v=-0.1587, grad=0.0000), Var(v=0.0918, grad=0.0000), Var(v=0.0742, grad=0.1032), Var(v=-0.1220, grad=0.0000), Var(v=0.0419, grad=0.0051), Var(v=0.0830, grad=0.0000), Var(v=0.0145, grad=0.0173), Var(v=0.0768, grad=0.0000), Var(v=0.0610, grad=0.0000), Var(v=-0.0248, grad=0.0000), Var(v=-0.0110, grad=0.0000), Var(v=-0.0784, grad=0.0000), Var(v=-0.0194, grad=0.0000), Var(v=-0.0231, grad=0.0000), Var(v=0.1683, grad=0.0000), Var(v=-0.1435, grad=0.0000), Var(v=-0.0676, grad=0.0000), Var(v=0.0993, grad=0.0000), Var(v=-0.0768, grad=0.0000), Var(v=-0.0915, grad=0.0390), Var(v=0.1111, grad=-0.0183), Var(v=0.0020, grad=0.0000), Var(v=0.1709, grad=0.0388), Var(v=-0.1117, grad=0.0501)], [Var(v=-0.0134, grad=-0.0651), Var(v=-0.0153, grad=0.0000), Var(v=-0.0418, grad=-0.9174), Var(v=-0.2040, grad=0.0000), Var(v=0.0329, grad=0.0000), Var(v=0.0218, grad=0.3899), Var(v=-0.1663, grad=0.0000), Var(v=0.0821, grad=0.0000), Var(v=-0.0154, grad=-1.8278), Var(v=-0.0759, grad=-0.7757), Var(v=-0.0223, grad=0.0000), Var(v=-0.1066, grad=0.0000), Var(v=-0.0280, grad=0.0000), Var(v=0.1366, grad=0.0000), Var(v=-0.1376, grad=0.0000), Var(v=-0.1523, grad=0.0000), Var(v=-0.1544, grad=0.0000), Var(v=-0.0158, grad=0.0000), Var(v=-0.0168, grad=0.0000), Var(v=-0.0100, grad=0.0000), Var(v=0.1120, grad=-0.3105), Var(v=-0.0687, grad=0.0000), Var(v=0.0336, grad=0.4674), Var(v=0.0377, grad=0.0000), Var(v=-0.1999, grad=0.0000), Var(v=-0.0025, grad=0.1503), Var(v=-0.1033, grad=0.0000), Var(v=-0.0053, grad=-0.4876), Var(v=0.2257, grad=-1.4537), Var(v=0.0876, grad=-0.3731), Var(v=-0.1362, grad=0.0000), Var(v=-0.0816, grad=0.0000), Var(v=0.0192, grad=0.0000), Var(v=0.1063, grad=1.1855), Var(v=0.1198, grad=1.8550), Var(v=-0.0554, grad=0.0000), Var(v=0.0088, grad=-0.1033), Var(v=0.0261, grad=0.0000), Var(v=0.0175, grad=0.0000), Var(v=-0.0330, grad=1.3452), Var(v=0.0272, grad=0.0000), Var(v=-0.0279, grad=0.0000), Var(v=-0.0395, grad=0.0000), Var(v=-0.0330, grad=0.0000), Var(v=0.0661, grad=0.0203), Var(v=0.0976, grad=0.0000), Var(v=0.0222, grad=0.2579), Var(v=-0.0911, grad=-0.4234), Var(v=-0.0420, grad=0.0000), Var(v=0.1697, grad=-0.7055)], [Var(v=-0.0204, grad=-0.0138), Var(v=-0.0191, grad=0.0000), Var(v=0.0581, grad=-0.1941), Var(v=-0.0774, grad=0.0000), Var(v=-0.0527, grad=0.0000), Var(v=-0.0394, grad=0.0825), Var(v=0.0300, grad=0.0000), Var(v=-0.1578, grad=0.0000), Var(v=0.0628, grad=-0.3868), Var(v=-0.0985, grad=-0.1641), Var(v=-0.0253, grad=0.0000), Var(v=-0.1038, grad=0.0000), Var(v=-0.0283, grad=0.0000), Var(v=0.0395, grad=0.0000), Var(v=-0.0671, grad=0.0000), Var(v=-0.0738, grad=0.0000), Var(v=0.0615, grad=0.0000), Var(v=-0.0603, grad=0.0000), Var(v=0.1914, grad=0.0000), Var(v=0.1236, grad=0.0000), Var(v=-0.0312, grad=-0.0657), Var(v=-0.1847, grad=0.0000), Var(v=-0.0767, grad=0.0989), Var(v=0.0223, grad=0.0000), Var(v=-0.0213, grad=0.0000), Var(v=-0.1394, grad=0.0318), Var(v=0.1221, grad=0.0000), Var(v=-0.0270, grad=-0.1032), Var(v=0.1799, grad=-0.3076), Var(v=-0.0710, grad=-0.0789), Var(v=0.0475, grad=0.0000), Var(v=0.2808, grad=0.0000), Var(v=0.0895, grad=0.0000), Var(v=0.1045, grad=0.2508), Var(v=0.0198, grad=0.3925), Var(v=-0.1259, grad=0.0000), Var(v=0.0221, grad=-0.0219), Var(v=0.1007, grad=0.0000), Var(v=0.0383, grad=0.0000), Var(v=0.0193, grad=0.2846), Var(v=0.1204, grad=0.0000), Var(v=0.0134, grad=0.0000), Var(v=-0.0134, grad=0.0000), Var(v=-0.1124, grad=0.0000), Var(v=-0.1937, grad=0.0043), Var(v=-0.0244, grad=0.0000), Var(v=-0.0544, grad=0.0546), Var(v=-0.0306, grad=-0.0896), Var(v=-0.1459, grad=0.0000), Var(v=0.1112, grad=-0.1493)], [Var(v=0.0803, grad=0.0000), Var(v=-0.2505, grad=0.0000), Var(v=-0.0329, grad=0.0000), Var(v=-0.0835, grad=-0.1924), Var(v=0.0146, grad=0.0000), Var(v=0.0140, grad=-0.0728), Var(v=-0.0507, grad=-0.1129), Var(v=0.0398, grad=0.0000), Var(v=-0.0401, grad=0.0000), Var(v=0.1726, grad=0.1449), Var(v=0.0403, grad=0.0492), Var(v=-0.0259, grad=0.0000), Var(v=0.0291, grad=0.0000), Var(v=-0.0077, grad=0.0000), Var(v=0.0297, grad=0.0000), Var(v=0.2235, grad=-0.0341), Var(v=0.0575, grad=-0.0712), Var(v=-0.0235, grad=-0.1726), Var(v=-0.1139, grad=0.0000), Var(v=0.0606, grad=-0.0528), Var(v=0.0954, grad=0.0000), Var(v=0.0862, grad=0.0000), Var(v=-0.0478, grad=-0.0873), Var(v=0.2287, grad=-0.2396), Var(v=0.1619, grad=0.0000), Var(v=0.0299, grad=0.0000), Var(v=0.0782, grad=0.0000), Var(v=0.0021, grad=0.0000), Var(v=0.0631, grad=0.2715), Var(v=0.1126, grad=0.0000), Var(v=-0.0625, grad=0.0134), Var(v=-0.2548, grad=0.0000), Var(v=0.0859, grad=0.0456), Var(v=-0.0443, grad=0.0000), Var(v=-0.1705, grad=0.0000), Var(v=0.0476, grad=0.0000), Var(v=-0.1481, grad=0.0000), Var(v=0.1135, grad=0.0000), Var(v=0.1004, grad=0.0000), Var(v=-0.0548, grad=0.0000), Var(v=0.0980, grad=0.0000), Var(v=0.0469, grad=0.0000), Var(v=0.0618, grad=0.0000), Var(v=-0.2579, grad=0.0000), Var(v=-0.1606, grad=0.0000), Var(v=0.0787, grad=0.1026), Var(v=0.0287, grad=-0.0482), Var(v=-0.0437, grad=0.0000), Var(v=-0.0517, grad=0.1019), Var(v=0.1509, grad=0.1317)], [Var(v=0.2340, grad=-0.0562), Var(v=-0.0048, grad=0.0000), Var(v=-0.0424, grad=-0.7916), Var(v=0.1549, grad=0.0000), Var(v=0.0805, grad=0.0000), Var(v=0.0816, grad=0.3364), Var(v=-0.1295, grad=0.0000), Var(v=-0.1160, grad=0.0000), Var(v=0.0843, grad=-1.5772), Var(v=0.0279, grad=-0.6693), Var(v=-0.0645, grad=0.0000), Var(v=-0.0456, grad=0.0000), Var(v=0.0199, grad=0.0000), Var(v=-0.1568, grad=0.0000), Var(v=-0.1609, grad=0.0000), Var(v=-0.2652, grad=0.0000), Var(v=-0.0132, grad=0.0000), Var(v=-0.2898, grad=0.0000), Var(v=-0.0299, grad=0.0000), Var(v=-0.1338, grad=0.0000), Var(v=0.2506, grad=-0.2679), Var(v=0.1374, grad=0.0000), Var(v=-0.0292, grad=0.4033), Var(v=-0.0610, grad=0.0000), Var(v=0.1782, grad=0.0000), Var(v=0.0354, grad=0.1297), Var(v=-0.2032, grad=0.0000), Var(v=0.0910, grad=-0.4207), Var(v=-0.0109, grad=-1.2543), Var(v=0.0603, grad=-0.3219), Var(v=-0.1172, grad=0.0000), Var(v=-0.0324, grad=0.0000), Var(v=0.0105, grad=0.0000), Var(v=-0.1660, grad=1.0229), Var(v=0.0255, grad=1.6006), Var(v=0.1532, grad=0.0000), Var(v=-0.0236, grad=-0.0891), Var(v=0.0039, grad=0.0000), Var(v=-0.1028, grad=0.0000), Var(v=0.0746, grad=1.1607), Var(v=0.0693, grad=0.0000), Var(v=0.0832, grad=0.0000), Var(v=-0.1277, grad=0.0000), Var(v=-0.0240, grad=0.0000), Var(v=0.0686, grad=0.0175), Var(v=-0.1007, grad=0.0000), Var(v=-0.0194, grad=0.2225), Var(v=-0.0207, grad=-0.3653), Var(v=-0.0397, grad=0.0000), Var(v=-0.1262, grad=-0.6087)], [Var(v=0.1533, grad=-0.0771), Var(v=-0.1909, grad=0.0000), Var(v=0.0064, grad=-1.0853), Var(v=-0.1348, grad=0.0000), Var(v=-0.1039, grad=0.0000), Var(v=0.0410, grad=0.4613), Var(v=-0.0383, grad=0.0000), Var(v=-0.0223, grad=0.0000), Var(v=-0.0838, grad=-2.1623), Var(v=0.0274, grad=-0.9176), Var(v=-0.0797, grad=0.0000), Var(v=0.0431, grad=0.0000), Var(v=-0.2593, grad=0.0000), Var(v=0.1015, grad=0.0000), Var(v=0.0032, grad=0.0000), Var(v=0.0032, grad=0.0000), Var(v=0.1434, grad=0.0000), Var(v=-0.1384, grad=0.0000), Var(v=0.0009, grad=0.0000), Var(v=0.1578, grad=0.0000), Var(v=-0.2506, grad=-0.3673), Var(v=-0.1624, grad=0.0000), Var(v=-0.0828, grad=0.5530), Var(v=-0.0869, grad=0.0000), Var(v=0.0157, grad=0.0000), Var(v=0.1575, grad=0.1778), Var(v=0.1439, grad=0.0000), Var(v=-0.1882, grad=-0.5768), Var(v=-0.0839, grad=-1.7197), Var(v=-0.0687, grad=-0.4414), Var(v=0.1137, grad=0.0000), Var(v=0.0708, grad=0.0000), Var(v=-0.0009, grad=0.0000), Var(v=0.1454, grad=1.4024), Var(v=-0.0478, grad=2.1944), Var(v=-0.2002, grad=0.0000), Var(v=-0.0908, grad=-0.1222), Var(v=-0.0009, grad=0.0000), Var(v=-0.0527, grad=0.0000), Var(v=-0.0113, grad=1.5913), Var(v=-0.0759, grad=0.0000), Var(v=-0.0457, grad=0.0000), Var(v=-0.1553, grad=0.0000), Var(v=-0.1052, grad=0.0000), Var(v=-0.0361, grad=0.0240), Var(v=-0.2503, grad=0.0000), Var(v=0.1226, grad=0.3051), Var(v=0.0668, grad=-0.5009), Var(v=-0.0823, grad=0.0000), Var(v=-0.0029, grad=-0.8346)], [Var(v=0.0978, grad=-0.0573), Var(v=0.0310, grad=0.0000), Var(v=0.1653, grad=-0.8077), Var(v=-0.0316, grad=0.0000), Var(v=0.0000, grad=0.0000), Var(v=0.0495, grad=0.3433), Var(v=-0.0856, grad=0.0000), Var(v=-0.0948, grad=0.0000), Var(v=0.2650, grad=-1.6093), Var(v=0.0260, grad=-0.6829), Var(v=0.0974, grad=0.0000), Var(v=-0.0093, grad=0.0000), Var(v=-0.1406, grad=0.0000), Var(v=-0.1820, grad=0.0000), Var(v=-0.0913, grad=0.0000), Var(v=0.1142, grad=0.0000), Var(v=-0.0923, grad=0.0000), Var(v=0.0549, grad=0.0000), Var(v=-0.0763, grad=0.0000), Var(v=-0.1788, grad=0.0000), Var(v=-0.0385, grad=-0.2734), Var(v=-0.0758, grad=0.0000), Var(v=0.1531, grad=0.4115), Var(v=-0.1099, grad=0.0000), Var(v=-0.0876, grad=0.0000), Var(v=-0.0515, grad=0.1323), Var(v=-0.0717, grad=0.0000), Var(v=0.1961, grad=-0.4293), Var(v=0.1660, grad=-1.2799), Var(v=-0.0421, grad=-0.3285), Var(v=-0.0075, grad=0.0000), Var(v=-0.1084, grad=0.0000), Var(v=-0.0305, grad=0.0000), Var(v=0.0606, grad=1.0437), Var(v=-0.0569, grad=1.6332), Var(v=0.0717, grad=0.0000), Var(v=0.1233, grad=-0.0909), Var(v=-0.0306, grad=0.0000), Var(v=0.0771, grad=0.0000), Var(v=0.1509, grad=1.1843), Var(v=-0.1425, grad=0.0000), Var(v=-0.0456, grad=0.0000), Var(v=-0.2044, grad=0.0000), Var(v=0.0496, grad=0.0000), Var(v=0.0719, grad=0.0179), Var(v=-0.2397, grad=0.0000), Var(v=-0.0479, grad=0.2270), Var(v=-0.0450, grad=-0.3728), Var(v=0.0280, grad=0.0000), Var(v=-0.0345, grad=-0.6211)], [Var(v=-0.1493, grad=0.0000), Var(v=-0.0094, grad=0.0000), Var(v=0.0279, grad=0.0000), Var(v=-0.1554, grad=-0.4463), Var(v=0.0183, grad=0.0000), Var(v=0.0401, grad=-0.1689), Var(v=0.0146, grad=-0.2620), Var(v=0.0084, grad=0.0000), Var(v=-0.0048, grad=0.0000), Var(v=-0.0614, grad=0.3360), Var(v=0.0707, grad=0.1141), Var(v=-0.0277, grad=0.0000), Var(v=-0.0784, grad=0.0000), Var(v=-0.0045, grad=0.0000), Var(v=-0.0334, grad=0.0000), Var(v=0.0519, grad=-0.0790), Var(v=-0.0514, grad=-0.1652), Var(v=0.1380, grad=-0.4004), Var(v=-0.0926, grad=0.0000), Var(v=-0.1449, grad=-0.1225), Var(v=0.0441, grad=0.0000), Var(v=-0.0750, grad=0.0000), Var(v=-0.0127, grad=-0.2025), Var(v=0.1148, grad=-0.5558), Var(v=0.1508, grad=0.0000), Var(v=-0.1059, grad=0.0000), Var(v=-0.1259, grad=0.0000), Var(v=0.0671, grad=0.0000), Var(v=0.0561, grad=0.6297), Var(v=-0.0160, grad=0.0000), Var(v=0.0840, grad=0.0311), Var(v=0.0945, grad=0.0000), Var(v=-0.1072, grad=0.1057), Var(v=-0.0227, grad=0.0000), Var(v=-0.0378, grad=0.0000), Var(v=-0.0495, grad=0.0000), Var(v=-0.0051, grad=0.0000), Var(v=-0.0024, grad=0.0000), Var(v=0.0192, grad=0.0000), Var(v=-0.1614, grad=0.0000), Var(v=0.1553, grad=0.0000), Var(v=0.0017, grad=0.0000), Var(v=-0.0123, grad=0.0000), Var(v=-0.0304, grad=0.0000), Var(v=0.0283, grad=0.0000), Var(v=0.0202, grad=0.2380), Var(v=-0.0722, grad=-0.1117), Var(v=0.0290, grad=0.0000), Var(v=0.1780, grad=0.2364), Var(v=0.0507, grad=0.3056)], [Var(v=-0.1046, grad=0.0000), Var(v=0.0905, grad=0.0000), Var(v=0.1924, grad=0.0000), Var(v=-0.0354, grad=-1.4024), Var(v=-0.1029, grad=0.0000), Var(v=0.0323, grad=-0.5307), Var(v=0.1060, grad=-0.8232), Var(v=-0.2253, grad=0.0000), Var(v=-0.0840, grad=0.0000), Var(v=0.0704, grad=1.0557), Var(v=-0.0585, grad=0.3585), Var(v=-0.1403, grad=0.0000), Var(v=-0.0891, grad=0.0000), Var(v=-0.0783, grad=0.0000), Var(v=-0.0713, grad=0.0000), Var(v=0.0163, grad=-0.2483), Var(v=0.1006, grad=-0.5192), Var(v=0.1224, grad=-1.2582), Var(v=-0.1555, grad=0.0000), Var(v=0.2008, grad=-0.3849), Var(v=-0.0808, grad=0.0000), Var(v=0.0269, grad=0.0000), Var(v=0.0624, grad=-0.6362), Var(v=-0.0888, grad=-1.7465), Var(v=-0.0485, grad=0.0000), Var(v=0.1747, grad=0.0000), Var(v=0.0256, grad=0.0000), Var(v=-0.0642, grad=0.0000), Var(v=0.0814, grad=1.9785), Var(v=-0.0447, grad=0.0000), Var(v=-0.0065, grad=0.0977), Var(v=-0.0675, grad=0.0000), Var(v=-0.0971, grad=0.3322), Var(v=-0.1139, grad=0.0000), Var(v=-0.0812, grad=0.0000), Var(v=-0.0460, grad=0.0000), Var(v=0.0028, grad=0.0000), Var(v=-0.2122, grad=0.0000), Var(v=-0.0795, grad=0.0000), Var(v=-0.0629, grad=0.0000), Var(v=-0.0411, grad=0.0000), Var(v=-0.0270, grad=0.0000), Var(v=-0.0413, grad=0.0000), Var(v=0.0145, grad=0.0000), Var(v=-0.0035, grad=0.0000), Var(v=0.0908, grad=0.7477), Var(v=-0.1145, grad=-0.3510), Var(v=-0.1451, grad=0.0000), Var(v=0.1548, grad=0.7428), Var(v=-0.1227, grad=0.9602)], [Var(v=0.0099, grad=0.0000), Var(v=0.0004, grad=0.0000), Var(v=-0.0394, grad=0.0000), Var(v=0.1820, grad=-0.1678), Var(v=0.1846, grad=0.0000), Var(v=-0.0620, grad=-0.0635), Var(v=0.1078, grad=-0.0985), Var(v=0.0432, grad=0.0000), Var(v=0.0381, grad=0.0000), Var(v=-0.1014, grad=0.1263), Var(v=0.1489, grad=0.0429), Var(v=-0.0496, grad=0.0000), Var(v=0.1385, grad=0.0000), Var(v=0.1088, grad=0.0000), Var(v=0.0396, grad=0.0000), Var(v=0.0100, grad=-0.0297), Var(v=-0.0480, grad=-0.0621), Var(v=-0.0475, grad=-0.1505), Var(v=-0.0611, grad=0.0000), Var(v=-0.1440, grad=-0.0460), Var(v=0.0577, grad=0.0000), Var(v=-0.0702, grad=0.0000), Var(v=-0.1309, grad=-0.0761), Var(v=-0.0246, grad=-0.2089), Var(v=0.0406, grad=0.0000), Var(v=-0.1917, grad=0.0000), Var(v=-0.0796, grad=0.0000), Var(v=-0.1444, grad=0.0000), Var(v=-0.0498, grad=0.2367), Var(v=-0.0463, grad=0.0000), Var(v=-0.1318, grad=0.0117), Var(v=0.0508, grad=0.0000), Var(v=0.1116, grad=0.0397), Var(v=0.1066, grad=0.0000), Var(v=-0.0456, grad=0.0000), Var(v=-0.1112, grad=0.0000), Var(v=-0.0696, grad=0.0000), Var(v=0.0258, grad=0.0000), Var(v=0.0043, grad=0.0000), Var(v=0.0697, grad=0.0000), Var(v=0.0195, grad=0.0000), Var(v=-0.0573, grad=0.0000), Var(v=0.0294, grad=0.0000), Var(v=-0.1059, grad=0.0000), Var(v=-0.1849, grad=0.0000), Var(v=0.1236, grad=0.0894), Var(v=-0.1688, grad=-0.0420), Var(v=0.1353, grad=0.0000), Var(v=-0.1559, grad=0.0889), Var(v=0.0005, grad=0.1149)], [Var(v=0.0302, grad=-0.0121), Var(v=-0.1044, grad=0.0000), Var(v=-0.0485, grad=-0.1711), Var(v=0.0677, grad=0.0000), Var(v=-0.0370, grad=0.0000), Var(v=0.2996, grad=0.0727), Var(v=0.1926, grad=0.0000), Var(v=0.0542, grad=0.0000), Var(v=0.0133, grad=-0.3408), Var(v=0.2319, grad=-0.1446), Var(v=-0.0424, grad=0.0000), Var(v=0.0463, grad=0.0000), Var(v=0.0949, grad=0.0000), Var(v=0.0289, grad=0.0000), Var(v=0.0069, grad=0.0000), Var(v=-0.1416, grad=0.0000), Var(v=-0.1796, grad=0.0000), Var(v=-0.1056, grad=0.0000), Var(v=0.0575, grad=0.0000), Var(v=-0.2440, grad=0.0000), Var(v=0.0432, grad=-0.0579), Var(v=-0.0183, grad=0.0000), Var(v=-0.0484, grad=0.0872), Var(v=0.0793, grad=0.0000), Var(v=0.0855, grad=0.0000), Var(v=-0.0384, grad=0.0280), Var(v=0.0431, grad=0.0000), Var(v=-0.0249, grad=-0.0909), Var(v=-0.1660, grad=-0.2711), Var(v=0.1490, grad=-0.0696), Var(v=-0.1546, grad=0.0000), Var(v=0.0004, grad=0.0000), Var(v=-0.0015, grad=0.0000), Var(v=-0.0156, grad=0.2210), Var(v=0.0720, grad=0.3459), Var(v=-0.1675, grad=0.0000), Var(v=-0.0860, grad=-0.0193), Var(v=0.0703, grad=0.0000), Var(v=0.0368, grad=0.0000), Var(v=0.0568, grad=0.2508), Var(v=0.0649, grad=0.0000), Var(v=-0.0038, grad=0.0000), Var(v=-0.0266, grad=0.0000), Var(v=0.0328, grad=0.0000), Var(v=0.0532, grad=0.0038), Var(v=-0.0293, grad=0.0000), Var(v=-0.0072, grad=0.0481), Var(v=0.0756, grad=-0.0789), Var(v=-0.1200, grad=0.0000), Var(v=-0.0766, grad=-0.1315)], [Var(v=-0.0329, grad=-0.0113), Var(v=-0.0935, grad=0.0000), Var(v=-0.1849, grad=-0.1597), Var(v=-0.1872, grad=0.0000), Var(v=0.0550, grad=0.0000), Var(v=-0.0779, grad=0.0679), Var(v=0.0035, grad=0.0000), Var(v=0.0380, grad=0.0000), Var(v=0.0026, grad=-0.3182), Var(v=-0.0970, grad=-0.1350), Var(v=-0.0368, grad=0.0000), Var(v=-0.2107, grad=0.0000), Var(v=0.1733, grad=0.0000), Var(v=-0.0587, grad=0.0000), Var(v=-0.1151, grad=0.0000), Var(v=-0.1962, grad=0.0000), Var(v=-0.0073, grad=0.0000), Var(v=0.0126, grad=0.0000), Var(v=-0.0573, grad=0.0000), Var(v=-0.0755, grad=0.0000), Var(v=0.1406, grad=-0.0541), Var(v=-0.0205, grad=0.0000), Var(v=-0.0673, grad=0.0814), Var(v=0.0132, grad=0.0000), Var(v=0.0646, grad=0.0000), Var(v=0.0325, grad=0.0262), Var(v=0.0910, grad=0.0000), Var(v=-0.0449, grad=-0.0849), Var(v=-0.1407, grad=-0.2531), Var(v=-0.1624, grad=-0.0650), Var(v=0.0985, grad=0.0000), Var(v=-0.1474, grad=0.0000), Var(v=0.0515, grad=0.0000), Var(v=0.0730, grad=0.2064), Var(v=-0.0629, grad=0.3229), Var(v=0.0151, grad=0.0000), Var(v=-0.1032, grad=-0.0180), Var(v=0.0311, grad=0.0000), Var(v=-0.2070, grad=0.0000), Var(v=-0.0829, grad=0.2342), Var(v=0.0154, grad=0.0000), Var(v=0.0675, grad=0.0000), Var(v=-0.0235, grad=0.0000), Var(v=0.0366, grad=0.0000), Var(v=0.0835, grad=0.0035), Var(v=-0.1237, grad=0.0000), Var(v=-0.2230, grad=0.0449), Var(v=-0.0824, grad=-0.0737), Var(v=0.0121, grad=0.0000), Var(v=0.0370, grad=-0.1228)], [Var(v=-0.0969, grad=0.0000), Var(v=-0.0381, grad=0.0000), Var(v=-0.1720, grad=0.0000), Var(v=-0.0091, grad=-0.7852), Var(v=-0.0806, grad=0.0000), Var(v=0.2101, grad=-0.2971), Var(v=0.0651, grad=-0.4609), Var(v=-0.0471, grad=0.0000), Var(v=0.0121, grad=0.0000), Var(v=0.1612, grad=0.5911), Var(v=0.0295, grad=0.2007), Var(v=-0.0442, grad=0.0000), Var(v=0.0207, grad=0.0000), Var(v=0.1618, grad=0.0000), Var(v=0.1166, grad=0.0000), Var(v=-0.0980, grad=-0.1390), Var(v=0.3344, grad=-0.2907), Var(v=-0.1174, grad=-0.7045), Var(v=0.0625, grad=0.0000), Var(v=-0.1306, grad=-0.2155), Var(v=-0.0761, grad=0.0000), Var(v=0.0372, grad=0.0000), Var(v=-0.1595, grad=-0.3562), Var(v=-0.0432, grad=-0.9779), Var(v=-0.0694, grad=0.0000), Var(v=-0.0919, grad=0.0000), Var(v=0.0525, grad=0.0000), Var(v=-0.0574, grad=0.0000), Var(v=0.0591, grad=1.1078), Var(v=-0.0341, grad=0.0000), Var(v=-0.0593, grad=0.0547), Var(v=-0.1066, grad=0.0000), Var(v=-0.0839, grad=0.1860), Var(v=-0.0215, grad=0.0000), Var(v=-0.0701, grad=0.0000), Var(v=-0.1895, grad=0.0000), Var(v=-0.0535, grad=0.0000), Var(v=-0.0647, grad=0.0000), Var(v=0.0406, grad=0.0000), Var(v=0.0370, grad=0.0000), Var(v=0.1148, grad=0.0000), Var(v=-0.1530, grad=0.0000), Var(v=0.0271, grad=0.0000), Var(v=0.0599, grad=0.0000), Var(v=-0.2028, grad=0.0000), Var(v=0.0211, grad=0.4187), Var(v=0.1105, grad=-0.1965), Var(v=0.0783, grad=0.0000), Var(v=0.1462, grad=0.4159), Var(v=0.0938, grad=0.5376)], [Var(v=-0.0152, grad=0.0000), Var(v=-0.1107, grad=0.0000), Var(v=-0.1185, grad=0.0000), Var(v=0.1679, grad=-1.3295), Var(v=-0.0482, grad=0.0000), Var(v=0.1836, grad=-0.5031), Var(v=0.0524, grad=-0.7804), Var(v=0.0434, grad=0.0000), Var(v=-0.0500, grad=0.0000), Var(v=-0.0306, grad=1.0008), Var(v=0.0001, grad=0.3398), Var(v=-0.0119, grad=0.0000), Var(v=-0.0893, grad=0.0000), Var(v=-0.1019, grad=0.0000), Var(v=-0.1134, grad=0.0000), Var(v=0.0694, grad=-0.2354), Var(v=-0.1449, grad=-0.4922), Var(v=0.0075, grad=-1.1928), Var(v=-0.0735, grad=0.0000), Var(v=0.0022, grad=-0.3649), Var(v=-0.1457, grad=0.0000), Var(v=-0.1133, grad=0.0000), Var(v=0.0726, grad=-0.6031), Var(v=0.1098, grad=-1.6557), Var(v=-0.0757, grad=0.0000), Var(v=-0.1535, grad=0.0000), Var(v=-0.0500, grad=0.0000), Var(v=-0.0825, grad=0.0000), Var(v=-0.0471, grad=1.8757), Var(v=0.0124, grad=0.0000), Var(v=0.1239, grad=0.0926), Var(v=0.0299, grad=0.0000), Var(v=0.1799, grad=0.3149), Var(v=0.0268, grad=0.0000), Var(v=0.0352, grad=0.0000), Var(v=-0.0995, grad=0.0000), Var(v=-0.0064, grad=0.0000), Var(v=0.0819, grad=0.0000), Var(v=-0.1190, grad=0.0000), Var(v=-0.0900, grad=0.0000), Var(v=-0.1282, grad=0.0000), Var(v=0.0010, grad=0.0000), Var(v=-0.1355, grad=0.0000), Var(v=-0.0402, grad=0.0000), Var(v=0.0562, grad=0.0000), Var(v=0.0915, grad=0.7089), Var(v=0.0984, grad=-0.3327), Var(v=0.0740, grad=0.0000), Var(v=0.0391, grad=0.7042), Var(v=0.1403, grad=0.9103)]] Biases: [Var(v=0.0000, grad=-0.5680), Var(v=0.0000, grad=0.0000), Var(v=0.0000, grad=-8.0002), Var(v=0.0000, grad=-8.9900), Var(v=0.0000, grad=0.0000), Var(v=0.0000, grad=-0.0019), Var(v=0.0000, grad=-5.2772), Var(v=0.0000, grad=0.0000), Var(v=0.0000, grad=-15.9392), Var(v=0.0000, grad=0.0038), Var(v=0.0000, grad=2.2981), Var(v=0.0000, grad=0.0000), Var(v=0.0000, grad=0.0000), Var(v=0.0000, grad=0.0000), Var(v=0.0000, grad=0.0000), Var(v=0.0000, grad=-1.5916), Var(v=0.0000, grad=-3.3284), Var(v=0.0000, grad=-8.0660), Var(v=0.0000, grad=0.0000), Var(v=0.0000, grad=-2.4677), Var(v=0.0000, grad=-2.7078), Var(v=0.0000, grad=0.0000), Var(v=0.0000, grad=-0.0023), Var(v=0.0000, grad=-11.1962), Var(v=0.0000, grad=0.0000), Var(v=0.0000, grad=1.3109), Var(v=0.0000, grad=0.0000), Var(v=0.0000, grad=-4.2519), Var(v=0.0000, grad=0.0071), Var(v=0.0000, grad=-3.2537), Var(v=0.0000, grad=0.6265), Var(v=0.0000, grad=0.0000), Var(v=0.0000, grad=2.1297), Var(v=0.0000, grad=10.3378), Var(v=0.0000, grad=16.1761), Var(v=0.0000, grad=0.0000), Var(v=0.0000, grad=-0.9007), Var(v=0.0000, grad=0.0000), Var(v=0.0000, grad=0.0000), Var(v=0.0000, grad=11.7304), Var(v=0.0000, grad=0.0000), Var(v=0.0000, grad=0.0000), Var(v=0.0000, grad=0.0000), Var(v=0.0000, grad=0.0000), Var(v=0.0000, grad=0.1771), Var(v=0.0000, grad=4.7935), Var(v=0.0000, grad=-0.0013), Var(v=0.0000, grad=-3.6921), Var(v=0.0000, grad=4.7616), Var(v=0.0000, grad=0.0034)]\n",
            "Layer 2 \n",
            " Weights: [[Var(v=0.0065, grad=-3.8198)], [Var(v=-0.0288, grad=0.0000)], [Var(v=0.0917, grad=-1.1671)], [Var(v=-0.1030, grad=0.9747)], [Var(v=0.0204, grad=0.0000)], [Var(v=-0.0390, grad=1.7990)], [Var(v=-0.0605, grad=2.7265)], [Var(v=0.1176, grad=0.0000)], [Var(v=0.1827, grad=-3.2356)], [Var(v=0.0775, grad=1.3092)], [Var(v=0.0263, grad=0.0850)], [Var(v=-0.0345, grad=0.0000)], [Var(v=0.0590, grad=0.0000)], [Var(v=0.1214, grad=0.0000)], [Var(v=-0.0826, grad=0.0000)], [Var(v=-0.0182, grad=1.0701)], [Var(v=-0.0381, grad=1.8269)], [Var(v=-0.0924, grad=1.3580)], [Var(v=-0.0808, grad=0.0000)], [Var(v=-0.0283, grad=1.1212)], [Var(v=0.0310, grad=-0.1139)], [Var(v=0.0857, grad=0.0000)], [Var(v=-0.0467, grad=-0.3341)], [Var(v=-0.1283, grad=0.8248)], [Var(v=-0.0656, grad=0.0000)], [Var(v=-0.0150, grad=-1.9052)], [Var(v=0.0037, grad=0.0000)], [Var(v=0.0487, grad=-1.1044)], [Var(v=0.1453, grad=-0.2435)], [Var(v=0.0373, grad=-0.5771)], [Var(v=0.0072, grad=1.1209)], [Var(v=-0.0170, grad=0.0000)], [Var(v=0.0244, grad=0.2485)], [Var(v=-0.1185, grad=-3.3574)], [Var(v=-0.1854, grad=-1.2187)], [Var(v=0.1474, grad=0.0000)], [Var(v=0.0103, grad=-0.3457)], [Var(v=-0.0734, grad=0.0000)], [Var(v=-0.2192, grad=0.0000)], [Var(v=-0.1345, grad=-1.6822)], [Var(v=0.0912, grad=0.0000)], [Var(v=-0.0633, grad=0.0000)], [Var(v=0.0242, grad=0.0000)], [Var(v=-0.0067, grad=0.0000)], [Var(v=-0.0020, grad=-0.8718)], [Var(v=0.0549, grad=2.9490)], [Var(v=-0.0258, grad=-1.5144)], [Var(v=0.0423, grad=-0.6606)], [Var(v=0.0546, grad=4.2687)], [Var(v=0.0705, grad=1.0996)]] Biases: [Var(v=0.0000, grad=0.0486)]\n",
            "\n",
            "Network after update:\n",
            "Layer 0 \n",
            " Weights: [[Var(v=0.0552, grad=1.5568), Var(v=-0.0019, grad=-0.5516), Var(v=0.0999, grad=-0.1432), Var(v=0.0486, grad=-2.7805), Var(v=-0.0052, grad=-1.4268), Var(v=0.1063, grad=-2.1307), Var(v=0.0641, grad=5.2472), Var(v=0.1578, grad=-7.1030), Var(v=-0.0343, grad=-1.0824), Var(v=-0.1376, grad=-0.4218), Var(v=-0.0268, grad=0.9806), Var(v=-0.0154, grad=3.3804), Var(v=-0.0083, grad=2.5449), Var(v=-0.0432, grad=-3.6178), Var(v=-0.1642, grad=2.9778)]] Biases: [Var(v=-0.0134, grad=1.3373), Var(v=-0.0050, grad=0.5014), Var(v=0.0012, grad=-0.1230), Var(v=0.0239, grad=-2.3885), Var(v=-0.0130, grad=1.2969), Var(v=0.0183, grad=-1.8302), Var(v=-0.0451, grad=4.5074), Var(v=0.0610, grad=-6.1015), Var(v=-0.0098, grad=0.9838), Var(v=-0.0038, grad=0.3834), Var(v=0.0089, grad=-0.8913), Var(v=-0.0290, grad=2.9037), Var(v=-0.0219, grad=2.1861), Var(v=-0.0329, grad=3.2884), Var(v=0.0271, grad=-2.7067)]\n",
            "Layer 1 \n",
            " Weights: [[Var(v=-0.0966, grad=-0.0468), Var(v=-0.0818, grad=0.0000), Var(v=0.1053, grad=-0.6587), Var(v=-0.0376, grad=0.0000), Var(v=0.0256, grad=0.0000), Var(v=0.0685, grad=0.2800), Var(v=0.0842, grad=0.0000), Var(v=0.0765, grad=0.0000), Var(v=0.1744, grad=-1.3124), Var(v=0.0454, grad=-0.5569), Var(v=-0.0180, grad=0.0000), Var(v=-0.0909, grad=0.0000), Var(v=-0.0192, grad=0.0000), Var(v=-0.1631, grad=0.0000), Var(v=-0.0568, grad=0.0000), Var(v=-0.0380, grad=0.0000), Var(v=0.1151, grad=0.0000), Var(v=-0.0294, grad=0.0000), Var(v=-0.0081, grad=0.0000), Var(v=-0.1355, grad=0.0000), Var(v=-0.0150, grad=-0.2230), Var(v=0.0645, grad=0.0000), Var(v=0.0697, grad=0.3356), Var(v=0.1660, grad=0.0000), Var(v=0.0599, grad=0.0000), Var(v=0.0719, grad=0.1079), Var(v=0.0194, grad=0.0000), Var(v=0.1503, grad=-0.3501), Var(v=-0.1195, grad=-1.0438), Var(v=0.0750, grad=-0.2679), Var(v=-0.0353, grad=0.0000), Var(v=0.0638, grad=0.0000), Var(v=-0.0949, grad=0.0000), Var(v=0.1520, grad=0.8512), Var(v=0.0981, grad=1.3319), Var(v=-0.1375, grad=0.0000), Var(v=0.1044, grad=-0.0742), Var(v=-0.0921, grad=0.0000), Var(v=-0.0932, grad=0.0000), Var(v=0.0140, grad=0.9659), Var(v=0.0779, grad=0.0000), Var(v=-0.0141, grad=0.0000), Var(v=-0.0014, grad=0.0000), Var(v=0.0925, grad=0.0000), Var(v=-0.0589, grad=0.0146), Var(v=-0.0903, grad=0.0000), Var(v=0.1437, grad=0.1852), Var(v=0.2013, grad=-0.3040), Var(v=0.0765, grad=0.0000), Var(v=-0.0292, grad=-0.5065)], [Var(v=0.0166, grad=0.0000), Var(v=-0.0152, grad=0.0000), Var(v=-0.0146, grad=0.0000), Var(v=-0.1533, grad=-0.0732), Var(v=-0.0109, grad=0.0000), Var(v=-0.0223, grad=-0.0277), Var(v=-0.0463, grad=-0.0429), Var(v=-0.0452, grad=0.0000), Var(v=0.1183, grad=0.0000), Var(v=0.0039, grad=0.0551), Var(v=0.0435, grad=0.0187), Var(v=0.0845, grad=0.0000), Var(v=-0.0364, grad=0.0000), Var(v=0.0965, grad=0.0000), Var(v=-0.0742, grad=0.0000), Var(v=0.0572, grad=-0.0130), Var(v=-0.0398, grad=-0.0271), Var(v=0.0183, grad=-0.0656), Var(v=0.0904, grad=0.0000), Var(v=0.1454, grad=-0.0201), Var(v=-0.0047, grad=0.0000), Var(v=0.0379, grad=0.0000), Var(v=0.0848, grad=-0.0332), Var(v=0.0876, grad=-0.0911), Var(v=-0.0173, grad=0.0000), Var(v=0.0498, grad=0.0000), Var(v=-0.1587, grad=0.0000), Var(v=0.0918, grad=0.0000), Var(v=0.0732, grad=0.1032), Var(v=-0.1220, grad=0.0000), Var(v=0.0419, grad=0.0051), Var(v=0.0830, grad=0.0000), Var(v=0.0143, grad=0.0173), Var(v=0.0768, grad=0.0000), Var(v=0.0610, grad=0.0000), Var(v=-0.0248, grad=0.0000), Var(v=-0.0110, grad=0.0000), Var(v=-0.0784, grad=0.0000), Var(v=-0.0194, grad=0.0000), Var(v=-0.0231, grad=0.0000), Var(v=0.1683, grad=0.0000), Var(v=-0.1435, grad=0.0000), Var(v=-0.0676, grad=0.0000), Var(v=0.0993, grad=0.0000), Var(v=-0.0768, grad=0.0000), Var(v=-0.0918, grad=0.0390), Var(v=0.1113, grad=-0.0183), Var(v=0.0020, grad=0.0000), Var(v=0.1705, grad=0.0388), Var(v=-0.1122, grad=0.0501)], [Var(v=-0.0127, grad=-0.0651), Var(v=-0.0153, grad=0.0000), Var(v=-0.0326, grad=-0.9174), Var(v=-0.2040, grad=0.0000), Var(v=0.0329, grad=0.0000), Var(v=0.0179, grad=0.3899), Var(v=-0.1663, grad=0.0000), Var(v=0.0821, grad=0.0000), Var(v=0.0029, grad=-1.8278), Var(v=-0.0681, grad=-0.7757), Var(v=-0.0223, grad=0.0000), Var(v=-0.1066, grad=0.0000), Var(v=-0.0280, grad=0.0000), Var(v=0.1366, grad=0.0000), Var(v=-0.1376, grad=0.0000), Var(v=-0.1523, grad=0.0000), Var(v=-0.1544, grad=0.0000), Var(v=-0.0158, grad=0.0000), Var(v=-0.0168, grad=0.0000), Var(v=-0.0100, grad=0.0000), Var(v=0.1151, grad=-0.3105), Var(v=-0.0687, grad=0.0000), Var(v=0.0289, grad=0.4674), Var(v=0.0377, grad=0.0000), Var(v=-0.1999, grad=0.0000), Var(v=-0.0040, grad=0.1503), Var(v=-0.1033, grad=0.0000), Var(v=-0.0005, grad=-0.4876), Var(v=0.2403, grad=-1.4537), Var(v=0.0914, grad=-0.3731), Var(v=-0.1362, grad=0.0000), Var(v=-0.0816, grad=0.0000), Var(v=0.0192, grad=0.0000), Var(v=0.0945, grad=1.1855), Var(v=0.1012, grad=1.8550), Var(v=-0.0554, grad=0.0000), Var(v=0.0098, grad=-0.1033), Var(v=0.0261, grad=0.0000), Var(v=0.0175, grad=0.0000), Var(v=-0.0465, grad=1.3452), Var(v=0.0272, grad=0.0000), Var(v=-0.0279, grad=0.0000), Var(v=-0.0395, grad=0.0000), Var(v=-0.0330, grad=0.0000), Var(v=0.0659, grad=0.0203), Var(v=0.0976, grad=0.0000), Var(v=0.0196, grad=0.2579), Var(v=-0.0869, grad=-0.4234), Var(v=-0.0420, grad=0.0000), Var(v=0.1767, grad=-0.7055)], [Var(v=-0.0203, grad=-0.0138), Var(v=-0.0191, grad=0.0000), Var(v=0.0600, grad=-0.1941), Var(v=-0.0774, grad=0.0000), Var(v=-0.0527, grad=0.0000), Var(v=-0.0402, grad=0.0825), Var(v=0.0300, grad=0.0000), Var(v=-0.1578, grad=0.0000), Var(v=0.0667, grad=-0.3868), Var(v=-0.0968, grad=-0.1641), Var(v=-0.0253, grad=0.0000), Var(v=-0.1038, grad=0.0000), Var(v=-0.0283, grad=0.0000), Var(v=0.0395, grad=0.0000), Var(v=-0.0671, grad=0.0000), Var(v=-0.0738, grad=0.0000), Var(v=0.0615, grad=0.0000), Var(v=-0.0603, grad=0.0000), Var(v=0.1914, grad=0.0000), Var(v=0.1236, grad=0.0000), Var(v=-0.0305, grad=-0.0657), Var(v=-0.1847, grad=0.0000), Var(v=-0.0777, grad=0.0989), Var(v=0.0223, grad=0.0000), Var(v=-0.0213, grad=0.0000), Var(v=-0.1397, grad=0.0318), Var(v=0.1221, grad=0.0000), Var(v=-0.0260, grad=-0.1032), Var(v=0.1830, grad=-0.3076), Var(v=-0.0702, grad=-0.0789), Var(v=0.0475, grad=0.0000), Var(v=0.2808, grad=0.0000), Var(v=0.0895, grad=0.0000), Var(v=0.1020, grad=0.2508), Var(v=0.0159, grad=0.3925), Var(v=-0.1259, grad=0.0000), Var(v=0.0223, grad=-0.0219), Var(v=0.1007, grad=0.0000), Var(v=0.0383, grad=0.0000), Var(v=0.0165, grad=0.2846), Var(v=0.1204, grad=0.0000), Var(v=0.0134, grad=0.0000), Var(v=-0.0134, grad=0.0000), Var(v=-0.1124, grad=0.0000), Var(v=-0.1937, grad=0.0043), Var(v=-0.0244, grad=0.0000), Var(v=-0.0550, grad=0.0546), Var(v=-0.0297, grad=-0.0896), Var(v=-0.1459, grad=0.0000), Var(v=0.1127, grad=-0.1493)], [Var(v=0.0803, grad=0.0000), Var(v=-0.2505, grad=0.0000), Var(v=-0.0329, grad=0.0000), Var(v=-0.0816, grad=-0.1924), Var(v=0.0146, grad=0.0000), Var(v=0.0147, grad=-0.0728), Var(v=-0.0495, grad=-0.1129), Var(v=0.0398, grad=0.0000), Var(v=-0.0401, grad=0.0000), Var(v=0.1711, grad=0.1449), Var(v=0.0398, grad=0.0492), Var(v=-0.0259, grad=0.0000), Var(v=0.0291, grad=0.0000), Var(v=-0.0077, grad=0.0000), Var(v=0.0297, grad=0.0000), Var(v=0.2239, grad=-0.0341), Var(v=0.0582, grad=-0.0712), Var(v=-0.0218, grad=-0.1726), Var(v=-0.1139, grad=0.0000), Var(v=0.0611, grad=-0.0528), Var(v=0.0954, grad=0.0000), Var(v=0.0862, grad=0.0000), Var(v=-0.0470, grad=-0.0873), Var(v=0.2311, grad=-0.2396), Var(v=0.1619, grad=0.0000), Var(v=0.0299, grad=0.0000), Var(v=0.0782, grad=0.0000), Var(v=0.0021, grad=0.0000), Var(v=0.0604, grad=0.2715), Var(v=0.1126, grad=0.0000), Var(v=-0.0626, grad=0.0134), Var(v=-0.2548, grad=0.0000), Var(v=0.0854, grad=0.0456), Var(v=-0.0443, grad=0.0000), Var(v=-0.1705, grad=0.0000), Var(v=0.0476, grad=0.0000), Var(v=-0.1481, grad=0.0000), Var(v=0.1135, grad=0.0000), Var(v=0.1004, grad=0.0000), Var(v=-0.0548, grad=0.0000), Var(v=0.0980, grad=0.0000), Var(v=0.0469, grad=0.0000), Var(v=0.0618, grad=0.0000), Var(v=-0.2579, grad=0.0000), Var(v=-0.1606, grad=0.0000), Var(v=0.0777, grad=0.1026), Var(v=0.0292, grad=-0.0482), Var(v=-0.0437, grad=0.0000), Var(v=-0.0527, grad=0.1019), Var(v=0.1495, grad=0.1317)], [Var(v=0.2346, grad=-0.0562), Var(v=-0.0048, grad=0.0000), Var(v=-0.0345, grad=-0.7916), Var(v=0.1549, grad=0.0000), Var(v=0.0805, grad=0.0000), Var(v=0.0782, grad=0.3364), Var(v=-0.1295, grad=0.0000), Var(v=-0.1160, grad=0.0000), Var(v=0.1000, grad=-1.5772), Var(v=0.0346, grad=-0.6693), Var(v=-0.0645, grad=0.0000), Var(v=-0.0456, grad=0.0000), Var(v=0.0199, grad=0.0000), Var(v=-0.1568, grad=0.0000), Var(v=-0.1609, grad=0.0000), Var(v=-0.2652, grad=0.0000), Var(v=-0.0132, grad=0.0000), Var(v=-0.2898, grad=0.0000), Var(v=-0.0299, grad=0.0000), Var(v=-0.1338, grad=0.0000), Var(v=0.2533, grad=-0.2679), Var(v=0.1374, grad=0.0000), Var(v=-0.0332, grad=0.4033), Var(v=-0.0610, grad=0.0000), Var(v=0.1782, grad=0.0000), Var(v=0.0341, grad=0.1297), Var(v=-0.2032, grad=0.0000), Var(v=0.0952, grad=-0.4207), Var(v=0.0017, grad=-1.2543), Var(v=0.0635, grad=-0.3219), Var(v=-0.1172, grad=0.0000), Var(v=-0.0324, grad=0.0000), Var(v=0.0105, grad=0.0000), Var(v=-0.1762, grad=1.0229), Var(v=0.0095, grad=1.6006), Var(v=0.1532, grad=0.0000), Var(v=-0.0228, grad=-0.0891), Var(v=0.0039, grad=0.0000), Var(v=-0.1028, grad=0.0000), Var(v=0.0630, grad=1.1607), Var(v=0.0693, grad=0.0000), Var(v=0.0832, grad=0.0000), Var(v=-0.1277, grad=0.0000), Var(v=-0.0240, grad=0.0000), Var(v=0.0684, grad=0.0175), Var(v=-0.1007, grad=0.0000), Var(v=-0.0216, grad=0.2225), Var(v=-0.0170, grad=-0.3653), Var(v=-0.0397, grad=0.0000), Var(v=-0.1201, grad=-0.6087)], [Var(v=0.1541, grad=-0.0771), Var(v=-0.1909, grad=0.0000), Var(v=0.0172, grad=-1.0853), Var(v=-0.1348, grad=0.0000), Var(v=-0.1039, grad=0.0000), Var(v=0.0363, grad=0.4613), Var(v=-0.0383, grad=0.0000), Var(v=-0.0223, grad=0.0000), Var(v=-0.0622, grad=-2.1623), Var(v=0.0366, grad=-0.9176), Var(v=-0.0797, grad=0.0000), Var(v=0.0431, grad=0.0000), Var(v=-0.2593, grad=0.0000), Var(v=0.1015, grad=0.0000), Var(v=0.0032, grad=0.0000), Var(v=0.0032, grad=0.0000), Var(v=0.1434, grad=0.0000), Var(v=-0.1384, grad=0.0000), Var(v=0.0009, grad=0.0000), Var(v=0.1578, grad=0.0000), Var(v=-0.2469, grad=-0.3673), Var(v=-0.1624, grad=0.0000), Var(v=-0.0883, grad=0.5530), Var(v=-0.0869, grad=0.0000), Var(v=0.0157, grad=0.0000), Var(v=0.1558, grad=0.1778), Var(v=0.1439, grad=0.0000), Var(v=-0.1824, grad=-0.5768), Var(v=-0.0667, grad=-1.7197), Var(v=-0.0643, grad=-0.4414), Var(v=0.1137, grad=0.0000), Var(v=0.0708, grad=0.0000), Var(v=-0.0009, grad=0.0000), Var(v=0.1314, grad=1.4024), Var(v=-0.0697, grad=2.1944), Var(v=-0.2002, grad=0.0000), Var(v=-0.0896, grad=-0.1222), Var(v=-0.0009, grad=0.0000), Var(v=-0.0527, grad=0.0000), Var(v=-0.0272, grad=1.5913), Var(v=-0.0759, grad=0.0000), Var(v=-0.0457, grad=0.0000), Var(v=-0.1553, grad=0.0000), Var(v=-0.1052, grad=0.0000), Var(v=-0.0364, grad=0.0240), Var(v=-0.2503, grad=0.0000), Var(v=0.1196, grad=0.3051), Var(v=0.0718, grad=-0.5009), Var(v=-0.0823, grad=0.0000), Var(v=0.0054, grad=-0.8346)], [Var(v=0.0984, grad=-0.0573), Var(v=0.0310, grad=0.0000), Var(v=0.1734, grad=-0.8077), Var(v=-0.0316, grad=0.0000), Var(v=0.0000, grad=0.0000), Var(v=0.0460, grad=0.3433), Var(v=-0.0856, grad=0.0000), Var(v=-0.0948, grad=0.0000), Var(v=0.2811, grad=-1.6093), Var(v=0.0329, grad=-0.6829), Var(v=0.0974, grad=0.0000), Var(v=-0.0093, grad=0.0000), Var(v=-0.1406, grad=0.0000), Var(v=-0.1820, grad=0.0000), Var(v=-0.0913, grad=0.0000), Var(v=0.1142, grad=0.0000), Var(v=-0.0923, grad=0.0000), Var(v=0.0549, grad=0.0000), Var(v=-0.0763, grad=0.0000), Var(v=-0.1788, grad=0.0000), Var(v=-0.0357, grad=-0.2734), Var(v=-0.0758, grad=0.0000), Var(v=0.1490, grad=0.4115), Var(v=-0.1099, grad=0.0000), Var(v=-0.0876, grad=0.0000), Var(v=-0.0528, grad=0.1323), Var(v=-0.0717, grad=0.0000), Var(v=0.2004, grad=-0.4293), Var(v=0.1788, grad=-1.2799), Var(v=-0.0389, grad=-0.3285), Var(v=-0.0075, grad=0.0000), Var(v=-0.1084, grad=0.0000), Var(v=-0.0305, grad=0.0000), Var(v=0.0501, grad=1.0437), Var(v=-0.0732, grad=1.6332), Var(v=0.0717, grad=0.0000), Var(v=0.1242, grad=-0.0909), Var(v=-0.0306, grad=0.0000), Var(v=0.0771, grad=0.0000), Var(v=0.1391, grad=1.1843), Var(v=-0.1425, grad=0.0000), Var(v=-0.0456, grad=0.0000), Var(v=-0.2044, grad=0.0000), Var(v=0.0496, grad=0.0000), Var(v=0.0718, grad=0.0179), Var(v=-0.2397, grad=0.0000), Var(v=-0.0501, grad=0.2270), Var(v=-0.0413, grad=-0.3728), Var(v=0.0280, grad=0.0000), Var(v=-0.0283, grad=-0.6211)], [Var(v=-0.1493, grad=0.0000), Var(v=-0.0094, grad=0.0000), Var(v=0.0279, grad=0.0000), Var(v=-0.1509, grad=-0.4463), Var(v=0.0183, grad=0.0000), Var(v=0.0418, grad=-0.1689), Var(v=0.0172, grad=-0.2620), Var(v=0.0084, grad=0.0000), Var(v=-0.0048, grad=0.0000), Var(v=-0.0647, grad=0.3360), Var(v=0.0696, grad=0.1141), Var(v=-0.0277, grad=0.0000), Var(v=-0.0784, grad=0.0000), Var(v=-0.0045, grad=0.0000), Var(v=-0.0334, grad=0.0000), Var(v=0.0527, grad=-0.0790), Var(v=-0.0498, grad=-0.1652), Var(v=0.1420, grad=-0.4004), Var(v=-0.0926, grad=0.0000), Var(v=-0.1437, grad=-0.1225), Var(v=0.0441, grad=0.0000), Var(v=-0.0750, grad=0.0000), Var(v=-0.0107, grad=-0.2025), Var(v=0.1204, grad=-0.5558), Var(v=0.1508, grad=0.0000), Var(v=-0.1059, grad=0.0000), Var(v=-0.1259, grad=0.0000), Var(v=0.0671, grad=0.0000), Var(v=0.0498, grad=0.6297), Var(v=-0.0160, grad=0.0000), Var(v=0.0837, grad=0.0311), Var(v=0.0945, grad=0.0000), Var(v=-0.1083, grad=0.1057), Var(v=-0.0227, grad=0.0000), Var(v=-0.0378, grad=0.0000), Var(v=-0.0495, grad=0.0000), Var(v=-0.0051, grad=0.0000), Var(v=-0.0024, grad=0.0000), Var(v=0.0192, grad=0.0000), Var(v=-0.1614, grad=0.0000), Var(v=0.1553, grad=0.0000), Var(v=0.0017, grad=0.0000), Var(v=-0.0123, grad=0.0000), Var(v=-0.0304, grad=0.0000), Var(v=0.0283, grad=0.0000), Var(v=0.0178, grad=0.2380), Var(v=-0.0711, grad=-0.1117), Var(v=0.0290, grad=0.0000), Var(v=0.1756, grad=0.2364), Var(v=0.0477, grad=0.3056)], [Var(v=-0.1046, grad=0.0000), Var(v=0.0905, grad=0.0000), Var(v=0.1924, grad=0.0000), Var(v=-0.0213, grad=-1.4024), Var(v=-0.1029, grad=0.0000), Var(v=0.0376, grad=-0.5307), Var(v=0.1142, grad=-0.8232), Var(v=-0.2253, grad=0.0000), Var(v=-0.0840, grad=0.0000), Var(v=0.0598, grad=1.0557), Var(v=-0.0621, grad=0.3585), Var(v=-0.1403, grad=0.0000), Var(v=-0.0891, grad=0.0000), Var(v=-0.0783, grad=0.0000), Var(v=-0.0713, grad=0.0000), Var(v=0.0187, grad=-0.2483), Var(v=0.1058, grad=-0.5192), Var(v=0.1350, grad=-1.2582), Var(v=-0.1555, grad=0.0000), Var(v=0.2047, grad=-0.3849), Var(v=-0.0808, grad=0.0000), Var(v=0.0269, grad=0.0000), Var(v=0.0687, grad=-0.6362), Var(v=-0.0714, grad=-1.7465), Var(v=-0.0485, grad=0.0000), Var(v=0.1747, grad=0.0000), Var(v=0.0256, grad=0.0000), Var(v=-0.0642, grad=0.0000), Var(v=0.0616, grad=1.9785), Var(v=-0.0447, grad=0.0000), Var(v=-0.0075, grad=0.0977), Var(v=-0.0675, grad=0.0000), Var(v=-0.1004, grad=0.3322), Var(v=-0.1139, grad=0.0000), Var(v=-0.0812, grad=0.0000), Var(v=-0.0460, grad=0.0000), Var(v=0.0028, grad=0.0000), Var(v=-0.2122, grad=0.0000), Var(v=-0.0795, grad=0.0000), Var(v=-0.0629, grad=0.0000), Var(v=-0.0411, grad=0.0000), Var(v=-0.0270, grad=0.0000), Var(v=-0.0413, grad=0.0000), Var(v=0.0145, grad=0.0000), Var(v=-0.0035, grad=0.0000), Var(v=0.0834, grad=0.7477), Var(v=-0.1110, grad=-0.3510), Var(v=-0.1451, grad=0.0000), Var(v=0.1473, grad=0.7428), Var(v=-0.1323, grad=0.9602)], [Var(v=0.0099, grad=0.0000), Var(v=0.0004, grad=0.0000), Var(v=-0.0394, grad=0.0000), Var(v=0.1837, grad=-0.1678), Var(v=0.1846, grad=0.0000), Var(v=-0.0614, grad=-0.0635), Var(v=0.1088, grad=-0.0985), Var(v=0.0432, grad=0.0000), Var(v=0.0381, grad=0.0000), Var(v=-0.1027, grad=0.1263), Var(v=0.1484, grad=0.0429), Var(v=-0.0496, grad=0.0000), Var(v=0.1385, grad=0.0000), Var(v=0.1088, grad=0.0000), Var(v=0.0396, grad=0.0000), Var(v=0.0103, grad=-0.0297), Var(v=-0.0474, grad=-0.0621), Var(v=-0.0460, grad=-0.1505), Var(v=-0.0611, grad=0.0000), Var(v=-0.1436, grad=-0.0460), Var(v=0.0577, grad=0.0000), Var(v=-0.0702, grad=0.0000), Var(v=-0.1301, grad=-0.0761), Var(v=-0.0225, grad=-0.2089), Var(v=0.0406, grad=0.0000), Var(v=-0.1917, grad=0.0000), Var(v=-0.0796, grad=0.0000), Var(v=-0.1444, grad=0.0000), Var(v=-0.0522, grad=0.2367), Var(v=-0.0463, grad=0.0000), Var(v=-0.1319, grad=0.0117), Var(v=0.0508, grad=0.0000), Var(v=0.1112, grad=0.0397), Var(v=0.1066, grad=0.0000), Var(v=-0.0456, grad=0.0000), Var(v=-0.1112, grad=0.0000), Var(v=-0.0696, grad=0.0000), Var(v=0.0258, grad=0.0000), Var(v=0.0043, grad=0.0000), Var(v=0.0697, grad=0.0000), Var(v=0.0195, grad=0.0000), Var(v=-0.0573, grad=0.0000), Var(v=0.0294, grad=0.0000), Var(v=-0.1059, grad=0.0000), Var(v=-0.1849, grad=0.0000), Var(v=0.1227, grad=0.0894), Var(v=-0.1684, grad=-0.0420), Var(v=0.1353, grad=0.0000), Var(v=-0.1568, grad=0.0889), Var(v=-0.0007, grad=0.1149)], [Var(v=0.0303, grad=-0.0121), Var(v=-0.1044, grad=0.0000), Var(v=-0.0468, grad=-0.1711), Var(v=0.0677, grad=0.0000), Var(v=-0.0370, grad=0.0000), Var(v=0.2989, grad=0.0727), Var(v=0.1926, grad=0.0000), Var(v=0.0542, grad=0.0000), Var(v=0.0167, grad=-0.3408), Var(v=0.2334, grad=-0.1446), Var(v=-0.0424, grad=0.0000), Var(v=0.0463, grad=0.0000), Var(v=0.0949, grad=0.0000), Var(v=0.0289, grad=0.0000), Var(v=0.0069, grad=0.0000), Var(v=-0.1416, grad=0.0000), Var(v=-0.1796, grad=0.0000), Var(v=-0.1056, grad=0.0000), Var(v=0.0575, grad=0.0000), Var(v=-0.2440, grad=0.0000), Var(v=0.0437, grad=-0.0579), Var(v=-0.0183, grad=0.0000), Var(v=-0.0492, grad=0.0872), Var(v=0.0793, grad=0.0000), Var(v=0.0855, grad=0.0000), Var(v=-0.0387, grad=0.0280), Var(v=0.0431, grad=0.0000), Var(v=-0.0240, grad=-0.0909), Var(v=-0.1633, grad=-0.2711), Var(v=0.1497, grad=-0.0696), Var(v=-0.1546, grad=0.0000), Var(v=0.0004, grad=0.0000), Var(v=-0.0015, grad=0.0000), Var(v=-0.0178, grad=0.2210), Var(v=0.0685, grad=0.3459), Var(v=-0.1675, grad=0.0000), Var(v=-0.0858, grad=-0.0193), Var(v=0.0703, grad=0.0000), Var(v=0.0368, grad=0.0000), Var(v=0.0543, grad=0.2508), Var(v=0.0649, grad=0.0000), Var(v=-0.0038, grad=0.0000), Var(v=-0.0266, grad=0.0000), Var(v=0.0328, grad=0.0000), Var(v=0.0532, grad=0.0038), Var(v=-0.0293, grad=0.0000), Var(v=-0.0077, grad=0.0481), Var(v=0.0764, grad=-0.0789), Var(v=-0.1200, grad=0.0000), Var(v=-0.0753, grad=-0.1315)], [Var(v=-0.0328, grad=-0.0113), Var(v=-0.0935, grad=0.0000), Var(v=-0.1833, grad=-0.1597), Var(v=-0.1872, grad=0.0000), Var(v=0.0550, grad=0.0000), Var(v=-0.0786, grad=0.0679), Var(v=0.0035, grad=0.0000), Var(v=0.0380, grad=0.0000), Var(v=0.0058, grad=-0.3182), Var(v=-0.0957, grad=-0.1350), Var(v=-0.0368, grad=0.0000), Var(v=-0.2107, grad=0.0000), Var(v=0.1733, grad=0.0000), Var(v=-0.0587, grad=0.0000), Var(v=-0.1151, grad=0.0000), Var(v=-0.1962, grad=0.0000), Var(v=-0.0073, grad=0.0000), Var(v=0.0126, grad=0.0000), Var(v=-0.0573, grad=0.0000), Var(v=-0.0755, grad=0.0000), Var(v=0.1412, grad=-0.0541), Var(v=-0.0205, grad=0.0000), Var(v=-0.0681, grad=0.0814), Var(v=0.0132, grad=0.0000), Var(v=0.0646, grad=0.0000), Var(v=0.0322, grad=0.0262), Var(v=0.0910, grad=0.0000), Var(v=-0.0440, grad=-0.0849), Var(v=-0.1382, grad=-0.2531), Var(v=-0.1617, grad=-0.0650), Var(v=0.0985, grad=0.0000), Var(v=-0.1474, grad=0.0000), Var(v=0.0515, grad=0.0000), Var(v=0.0710, grad=0.2064), Var(v=-0.0661, grad=0.3229), Var(v=0.0151, grad=0.0000), Var(v=-0.1030, grad=-0.0180), Var(v=0.0311, grad=0.0000), Var(v=-0.2070, grad=0.0000), Var(v=-0.0853, grad=0.2342), Var(v=0.0154, grad=0.0000), Var(v=0.0675, grad=0.0000), Var(v=-0.0235, grad=0.0000), Var(v=0.0366, grad=0.0000), Var(v=0.0835, grad=0.0035), Var(v=-0.1237, grad=0.0000), Var(v=-0.2234, grad=0.0449), Var(v=-0.0817, grad=-0.0737), Var(v=0.0121, grad=0.0000), Var(v=0.0382, grad=-0.1228)], [Var(v=-0.0969, grad=0.0000), Var(v=-0.0381, grad=0.0000), Var(v=-0.1720, grad=0.0000), Var(v=-0.0013, grad=-0.7852), Var(v=-0.0806, grad=0.0000), Var(v=0.2130, grad=-0.2971), Var(v=0.0697, grad=-0.4609), Var(v=-0.0471, grad=0.0000), Var(v=0.0121, grad=0.0000), Var(v=0.1553, grad=0.5911), Var(v=0.0274, grad=0.2007), Var(v=-0.0442, grad=0.0000), Var(v=0.0207, grad=0.0000), Var(v=0.1618, grad=0.0000), Var(v=0.1166, grad=0.0000), Var(v=-0.0966, grad=-0.1390), Var(v=0.3374, grad=-0.2907), Var(v=-0.1104, grad=-0.7045), Var(v=0.0625, grad=0.0000), Var(v=-0.1284, grad=-0.2155), Var(v=-0.0761, grad=0.0000), Var(v=0.0372, grad=0.0000), Var(v=-0.1559, grad=-0.3562), Var(v=-0.0334, grad=-0.9779), Var(v=-0.0694, grad=0.0000), Var(v=-0.0919, grad=0.0000), Var(v=0.0525, grad=0.0000), Var(v=-0.0574, grad=0.0000), Var(v=0.0480, grad=1.1078), Var(v=-0.0341, grad=0.0000), Var(v=-0.0598, grad=0.0547), Var(v=-0.1066, grad=0.0000), Var(v=-0.0858, grad=0.1860), Var(v=-0.0215, grad=0.0000), Var(v=-0.0701, grad=0.0000), Var(v=-0.1895, grad=0.0000), Var(v=-0.0535, grad=0.0000), Var(v=-0.0647, grad=0.0000), Var(v=0.0406, grad=0.0000), Var(v=0.0370, grad=0.0000), Var(v=0.1148, grad=0.0000), Var(v=-0.1530, grad=0.0000), Var(v=0.0271, grad=0.0000), Var(v=0.0599, grad=0.0000), Var(v=-0.2028, grad=0.0000), Var(v=0.0169, grad=0.4187), Var(v=0.1124, grad=-0.1965), Var(v=0.0783, grad=0.0000), Var(v=0.1421, grad=0.4159), Var(v=0.0884, grad=0.5376)], [Var(v=-0.0152, grad=0.0000), Var(v=-0.1107, grad=0.0000), Var(v=-0.1185, grad=0.0000), Var(v=0.1812, grad=-1.3295), Var(v=-0.0482, grad=0.0000), Var(v=0.1886, grad=-0.5031), Var(v=0.0602, grad=-0.7804), Var(v=0.0434, grad=0.0000), Var(v=-0.0500, grad=0.0000), Var(v=-0.0406, grad=1.0008), Var(v=-0.0032, grad=0.3398), Var(v=-0.0119, grad=0.0000), Var(v=-0.0893, grad=0.0000), Var(v=-0.1019, grad=0.0000), Var(v=-0.1134, grad=0.0000), Var(v=0.0718, grad=-0.2354), Var(v=-0.1400, grad=-0.4922), Var(v=0.0194, grad=-1.1928), Var(v=-0.0735, grad=0.0000), Var(v=0.0059, grad=-0.3649), Var(v=-0.1457, grad=0.0000), Var(v=-0.1133, grad=0.0000), Var(v=0.0786, grad=-0.6031), Var(v=0.1264, grad=-1.6557), Var(v=-0.0757, grad=0.0000), Var(v=-0.1535, grad=0.0000), Var(v=-0.0500, grad=0.0000), Var(v=-0.0825, grad=0.0000), Var(v=-0.0658, grad=1.8757), Var(v=0.0124, grad=0.0000), Var(v=0.1230, grad=0.0926), Var(v=0.0299, grad=0.0000), Var(v=0.1767, grad=0.3149), Var(v=0.0268, grad=0.0000), Var(v=0.0352, grad=0.0000), Var(v=-0.0995, grad=0.0000), Var(v=-0.0064, grad=0.0000), Var(v=0.0819, grad=0.0000), Var(v=-0.1190, grad=0.0000), Var(v=-0.0900, grad=0.0000), Var(v=-0.1282, grad=0.0000), Var(v=0.0010, grad=0.0000), Var(v=-0.1355, grad=0.0000), Var(v=-0.0402, grad=0.0000), Var(v=0.0562, grad=0.0000), Var(v=0.0844, grad=0.7089), Var(v=0.1017, grad=-0.3327), Var(v=0.0740, grad=0.0000), Var(v=0.0321, grad=0.7042), Var(v=0.1312, grad=0.9103)]] Biases: [Var(v=0.0057, grad=-0.5680), Var(v=0.0000, grad=0.0000), Var(v=0.0800, grad=-8.0002), Var(v=0.0899, grad=-8.9900), Var(v=0.0000, grad=0.0000), Var(v=0.0000, grad=-0.0019), Var(v=0.0528, grad=-5.2772), Var(v=0.0000, grad=0.0000), Var(v=0.1594, grad=-15.9392), Var(v=-0.0000, grad=0.0038), Var(v=-0.0230, grad=2.2981), Var(v=0.0000, grad=0.0000), Var(v=0.0000, grad=0.0000), Var(v=0.0000, grad=0.0000), Var(v=0.0000, grad=0.0000), Var(v=0.0159, grad=-1.5916), Var(v=0.0333, grad=-3.3284), Var(v=0.0807, grad=-8.0660), Var(v=0.0000, grad=0.0000), Var(v=0.0247, grad=-2.4677), Var(v=0.0271, grad=-2.7078), Var(v=0.0000, grad=0.0000), Var(v=0.0000, grad=-0.0023), Var(v=0.1120, grad=-11.1962), Var(v=0.0000, grad=0.0000), Var(v=-0.0131, grad=1.3109), Var(v=0.0000, grad=0.0000), Var(v=0.0425, grad=-4.2519), Var(v=-0.0001, grad=0.0071), Var(v=0.0325, grad=-3.2537), Var(v=-0.0063, grad=0.6265), Var(v=0.0000, grad=0.0000), Var(v=-0.0213, grad=2.1297), Var(v=-0.1034, grad=10.3378), Var(v=-0.1618, grad=16.1761), Var(v=0.0000, grad=0.0000), Var(v=0.0090, grad=-0.9007), Var(v=0.0000, grad=0.0000), Var(v=0.0000, grad=0.0000), Var(v=-0.1173, grad=11.7304), Var(v=0.0000, grad=0.0000), Var(v=0.0000, grad=0.0000), Var(v=0.0000, grad=0.0000), Var(v=0.0000, grad=0.0000), Var(v=-0.0018, grad=0.1771), Var(v=-0.0479, grad=4.7935), Var(v=0.0000, grad=-0.0013), Var(v=0.0369, grad=-3.6921), Var(v=-0.0476, grad=4.7616), Var(v=-0.0000, grad=0.0034)]\n",
            "Layer 2 \n",
            " Weights: [[Var(v=0.0447, grad=-3.8198)], [Var(v=-0.0288, grad=0.0000)], [Var(v=0.1034, grad=-1.1671)], [Var(v=-0.1128, grad=0.9747)], [Var(v=0.0204, grad=0.0000)], [Var(v=-0.0570, grad=1.7990)], [Var(v=-0.0877, grad=2.7265)], [Var(v=0.1176, grad=0.0000)], [Var(v=0.2151, grad=-3.2356)], [Var(v=0.0645, grad=1.3092)], [Var(v=0.0255, grad=0.0850)], [Var(v=-0.0345, grad=0.0000)], [Var(v=0.0590, grad=0.0000)], [Var(v=0.1214, grad=0.0000)], [Var(v=-0.0826, grad=0.0000)], [Var(v=-0.0289, grad=1.0701)], [Var(v=-0.0564, grad=1.8269)], [Var(v=-0.1060, grad=1.3580)], [Var(v=-0.0808, grad=0.0000)], [Var(v=-0.0395, grad=1.1212)], [Var(v=0.0322, grad=-0.1139)], [Var(v=0.0857, grad=0.0000)], [Var(v=-0.0434, grad=-0.3341)], [Var(v=-0.1365, grad=0.8248)], [Var(v=-0.0656, grad=0.0000)], [Var(v=0.0040, grad=-1.9052)], [Var(v=0.0037, grad=0.0000)], [Var(v=0.0598, grad=-1.1044)], [Var(v=0.1478, grad=-0.2435)], [Var(v=0.0431, grad=-0.5771)], [Var(v=-0.0040, grad=1.1209)], [Var(v=-0.0170, grad=0.0000)], [Var(v=0.0219, grad=0.2485)], [Var(v=-0.0849, grad=-3.3574)], [Var(v=-0.1733, grad=-1.2187)], [Var(v=0.1474, grad=0.0000)], [Var(v=0.0138, grad=-0.3457)], [Var(v=-0.0734, grad=0.0000)], [Var(v=-0.2192, grad=0.0000)], [Var(v=-0.1177, grad=-1.6822)], [Var(v=0.0912, grad=0.0000)], [Var(v=-0.0633, grad=0.0000)], [Var(v=0.0242, grad=0.0000)], [Var(v=-0.0067, grad=0.0000)], [Var(v=0.0067, grad=-0.8718)], [Var(v=0.0254, grad=2.9490)], [Var(v=-0.0106, grad=-1.5144)], [Var(v=0.0489, grad=-0.6606)], [Var(v=0.0119, grad=4.2687)], [Var(v=0.0595, grad=1.0996)]] Biases: [Var(v=-0.0005, grad=0.0486)]\n",
            "\n",
            "Network after zeroing gradients:\n",
            "Layer 0 \n",
            " Weights: [[Var(v=0.0552, grad=0.0000), Var(v=-0.0019, grad=0.0000), Var(v=0.0999, grad=0.0000), Var(v=0.0486, grad=0.0000), Var(v=-0.0052, grad=0.0000), Var(v=0.1063, grad=0.0000), Var(v=0.0641, grad=0.0000), Var(v=0.1578, grad=0.0000), Var(v=-0.0343, grad=0.0000), Var(v=-0.1376, grad=0.0000), Var(v=-0.0268, grad=0.0000), Var(v=-0.0154, grad=0.0000), Var(v=-0.0083, grad=0.0000), Var(v=-0.0432, grad=0.0000), Var(v=-0.1642, grad=0.0000)]] Biases: [Var(v=-0.0134, grad=0.0000), Var(v=-0.0050, grad=0.0000), Var(v=0.0012, grad=0.0000), Var(v=0.0239, grad=0.0000), Var(v=-0.0130, grad=0.0000), Var(v=0.0183, grad=0.0000), Var(v=-0.0451, grad=0.0000), Var(v=0.0610, grad=0.0000), Var(v=-0.0098, grad=0.0000), Var(v=-0.0038, grad=0.0000), Var(v=0.0089, grad=0.0000), Var(v=-0.0290, grad=0.0000), Var(v=-0.0219, grad=0.0000), Var(v=-0.0329, grad=0.0000), Var(v=0.0271, grad=0.0000)]\n",
            "Layer 1 \n",
            " Weights: [[Var(v=-0.0966, grad=0.0000), Var(v=-0.0818, grad=0.0000), Var(v=0.1053, grad=0.0000), Var(v=-0.0376, grad=0.0000), Var(v=0.0256, grad=0.0000), Var(v=0.0685, grad=0.0000), Var(v=0.0842, grad=0.0000), Var(v=0.0765, grad=0.0000), Var(v=0.1744, grad=0.0000), Var(v=0.0454, grad=0.0000), Var(v=-0.0180, grad=0.0000), Var(v=-0.0909, grad=0.0000), Var(v=-0.0192, grad=0.0000), Var(v=-0.1631, grad=0.0000), Var(v=-0.0568, grad=0.0000), Var(v=-0.0380, grad=0.0000), Var(v=0.1151, grad=0.0000), Var(v=-0.0294, grad=0.0000), Var(v=-0.0081, grad=0.0000), Var(v=-0.1355, grad=0.0000), Var(v=-0.0150, grad=0.0000), Var(v=0.0645, grad=0.0000), Var(v=0.0697, grad=0.0000), Var(v=0.1660, grad=0.0000), Var(v=0.0599, grad=0.0000), Var(v=0.0719, grad=0.0000), Var(v=0.0194, grad=0.0000), Var(v=0.1503, grad=0.0000), Var(v=-0.1195, grad=0.0000), Var(v=0.0750, grad=0.0000), Var(v=-0.0353, grad=0.0000), Var(v=0.0638, grad=0.0000), Var(v=-0.0949, grad=0.0000), Var(v=0.1520, grad=0.0000), Var(v=0.0981, grad=0.0000), Var(v=-0.1375, grad=0.0000), Var(v=0.1044, grad=0.0000), Var(v=-0.0921, grad=0.0000), Var(v=-0.0932, grad=0.0000), Var(v=0.0140, grad=0.0000), Var(v=0.0779, grad=0.0000), Var(v=-0.0141, grad=0.0000), Var(v=-0.0014, grad=0.0000), Var(v=0.0925, grad=0.0000), Var(v=-0.0589, grad=0.0000), Var(v=-0.0903, grad=0.0000), Var(v=0.1437, grad=0.0000), Var(v=0.2013, grad=0.0000), Var(v=0.0765, grad=0.0000), Var(v=-0.0292, grad=0.0000)], [Var(v=0.0166, grad=0.0000), Var(v=-0.0152, grad=0.0000), Var(v=-0.0146, grad=0.0000), Var(v=-0.1533, grad=0.0000), Var(v=-0.0109, grad=0.0000), Var(v=-0.0223, grad=0.0000), Var(v=-0.0463, grad=0.0000), Var(v=-0.0452, grad=0.0000), Var(v=0.1183, grad=0.0000), Var(v=0.0039, grad=0.0000), Var(v=0.0435, grad=0.0000), Var(v=0.0845, grad=0.0000), Var(v=-0.0364, grad=0.0000), Var(v=0.0965, grad=0.0000), Var(v=-0.0742, grad=0.0000), Var(v=0.0572, grad=0.0000), Var(v=-0.0398, grad=0.0000), Var(v=0.0183, grad=0.0000), Var(v=0.0904, grad=0.0000), Var(v=0.1454, grad=0.0000), Var(v=-0.0047, grad=0.0000), Var(v=0.0379, grad=0.0000), Var(v=0.0848, grad=0.0000), Var(v=0.0876, grad=0.0000), Var(v=-0.0173, grad=0.0000), Var(v=0.0498, grad=0.0000), Var(v=-0.1587, grad=0.0000), Var(v=0.0918, grad=0.0000), Var(v=0.0732, grad=0.0000), Var(v=-0.1220, grad=0.0000), Var(v=0.0419, grad=0.0000), Var(v=0.0830, grad=0.0000), Var(v=0.0143, grad=0.0000), Var(v=0.0768, grad=0.0000), Var(v=0.0610, grad=0.0000), Var(v=-0.0248, grad=0.0000), Var(v=-0.0110, grad=0.0000), Var(v=-0.0784, grad=0.0000), Var(v=-0.0194, grad=0.0000), Var(v=-0.0231, grad=0.0000), Var(v=0.1683, grad=0.0000), Var(v=-0.1435, grad=0.0000), Var(v=-0.0676, grad=0.0000), Var(v=0.0993, grad=0.0000), Var(v=-0.0768, grad=0.0000), Var(v=-0.0918, grad=0.0000), Var(v=0.1113, grad=0.0000), Var(v=0.0020, grad=0.0000), Var(v=0.1705, grad=0.0000), Var(v=-0.1122, grad=0.0000)], [Var(v=-0.0127, grad=0.0000), Var(v=-0.0153, grad=0.0000), Var(v=-0.0326, grad=0.0000), Var(v=-0.2040, grad=0.0000), Var(v=0.0329, grad=0.0000), Var(v=0.0179, grad=0.0000), Var(v=-0.1663, grad=0.0000), Var(v=0.0821, grad=0.0000), Var(v=0.0029, grad=0.0000), Var(v=-0.0681, grad=0.0000), Var(v=-0.0223, grad=0.0000), Var(v=-0.1066, grad=0.0000), Var(v=-0.0280, grad=0.0000), Var(v=0.1366, grad=0.0000), Var(v=-0.1376, grad=0.0000), Var(v=-0.1523, grad=0.0000), Var(v=-0.1544, grad=0.0000), Var(v=-0.0158, grad=0.0000), Var(v=-0.0168, grad=0.0000), Var(v=-0.0100, grad=0.0000), Var(v=0.1151, grad=0.0000), Var(v=-0.0687, grad=0.0000), Var(v=0.0289, grad=0.0000), Var(v=0.0377, grad=0.0000), Var(v=-0.1999, grad=0.0000), Var(v=-0.0040, grad=0.0000), Var(v=-0.1033, grad=0.0000), Var(v=-0.0005, grad=0.0000), Var(v=0.2403, grad=0.0000), Var(v=0.0914, grad=0.0000), Var(v=-0.1362, grad=0.0000), Var(v=-0.0816, grad=0.0000), Var(v=0.0192, grad=0.0000), Var(v=0.0945, grad=0.0000), Var(v=0.1012, grad=0.0000), Var(v=-0.0554, grad=0.0000), Var(v=0.0098, grad=0.0000), Var(v=0.0261, grad=0.0000), Var(v=0.0175, grad=0.0000), Var(v=-0.0465, grad=0.0000), Var(v=0.0272, grad=0.0000), Var(v=-0.0279, grad=0.0000), Var(v=-0.0395, grad=0.0000), Var(v=-0.0330, grad=0.0000), Var(v=0.0659, grad=0.0000), Var(v=0.0976, grad=0.0000), Var(v=0.0196, grad=0.0000), Var(v=-0.0869, grad=0.0000), Var(v=-0.0420, grad=0.0000), Var(v=0.1767, grad=0.0000)], [Var(v=-0.0203, grad=0.0000), Var(v=-0.0191, grad=0.0000), Var(v=0.0600, grad=0.0000), Var(v=-0.0774, grad=0.0000), Var(v=-0.0527, grad=0.0000), Var(v=-0.0402, grad=0.0000), Var(v=0.0300, grad=0.0000), Var(v=-0.1578, grad=0.0000), Var(v=0.0667, grad=0.0000), Var(v=-0.0968, grad=0.0000), Var(v=-0.0253, grad=0.0000), Var(v=-0.1038, grad=0.0000), Var(v=-0.0283, grad=0.0000), Var(v=0.0395, grad=0.0000), Var(v=-0.0671, grad=0.0000), Var(v=-0.0738, grad=0.0000), Var(v=0.0615, grad=0.0000), Var(v=-0.0603, grad=0.0000), Var(v=0.1914, grad=0.0000), Var(v=0.1236, grad=0.0000), Var(v=-0.0305, grad=0.0000), Var(v=-0.1847, grad=0.0000), Var(v=-0.0777, grad=0.0000), Var(v=0.0223, grad=0.0000), Var(v=-0.0213, grad=0.0000), Var(v=-0.1397, grad=0.0000), Var(v=0.1221, grad=0.0000), Var(v=-0.0260, grad=0.0000), Var(v=0.1830, grad=0.0000), Var(v=-0.0702, grad=0.0000), Var(v=0.0475, grad=0.0000), Var(v=0.2808, grad=0.0000), Var(v=0.0895, grad=0.0000), Var(v=0.1020, grad=0.0000), Var(v=0.0159, grad=0.0000), Var(v=-0.1259, grad=0.0000), Var(v=0.0223, grad=0.0000), Var(v=0.1007, grad=0.0000), Var(v=0.0383, grad=0.0000), Var(v=0.0165, grad=0.0000), Var(v=0.1204, grad=0.0000), Var(v=0.0134, grad=0.0000), Var(v=-0.0134, grad=0.0000), Var(v=-0.1124, grad=0.0000), Var(v=-0.1937, grad=0.0000), Var(v=-0.0244, grad=0.0000), Var(v=-0.0550, grad=0.0000), Var(v=-0.0297, grad=0.0000), Var(v=-0.1459, grad=0.0000), Var(v=0.1127, grad=0.0000)], [Var(v=0.0803, grad=0.0000), Var(v=-0.2505, grad=0.0000), Var(v=-0.0329, grad=0.0000), Var(v=-0.0816, grad=0.0000), Var(v=0.0146, grad=0.0000), Var(v=0.0147, grad=0.0000), Var(v=-0.0495, grad=0.0000), Var(v=0.0398, grad=0.0000), Var(v=-0.0401, grad=0.0000), Var(v=0.1711, grad=0.0000), Var(v=0.0398, grad=0.0000), Var(v=-0.0259, grad=0.0000), Var(v=0.0291, grad=0.0000), Var(v=-0.0077, grad=0.0000), Var(v=0.0297, grad=0.0000), Var(v=0.2239, grad=0.0000), Var(v=0.0582, grad=0.0000), Var(v=-0.0218, grad=0.0000), Var(v=-0.1139, grad=0.0000), Var(v=0.0611, grad=0.0000), Var(v=0.0954, grad=0.0000), Var(v=0.0862, grad=0.0000), Var(v=-0.0470, grad=0.0000), Var(v=0.2311, grad=0.0000), Var(v=0.1619, grad=0.0000), Var(v=0.0299, grad=0.0000), Var(v=0.0782, grad=0.0000), Var(v=0.0021, grad=0.0000), Var(v=0.0604, grad=0.0000), Var(v=0.1126, grad=0.0000), Var(v=-0.0626, grad=0.0000), Var(v=-0.2548, grad=0.0000), Var(v=0.0854, grad=0.0000), Var(v=-0.0443, grad=0.0000), Var(v=-0.1705, grad=0.0000), Var(v=0.0476, grad=0.0000), Var(v=-0.1481, grad=0.0000), Var(v=0.1135, grad=0.0000), Var(v=0.1004, grad=0.0000), Var(v=-0.0548, grad=0.0000), Var(v=0.0980, grad=0.0000), Var(v=0.0469, grad=0.0000), Var(v=0.0618, grad=0.0000), Var(v=-0.2579, grad=0.0000), Var(v=-0.1606, grad=0.0000), Var(v=0.0777, grad=0.0000), Var(v=0.0292, grad=0.0000), Var(v=-0.0437, grad=0.0000), Var(v=-0.0527, grad=0.0000), Var(v=0.1495, grad=0.0000)], [Var(v=0.2346, grad=0.0000), Var(v=-0.0048, grad=0.0000), Var(v=-0.0345, grad=0.0000), Var(v=0.1549, grad=0.0000), Var(v=0.0805, grad=0.0000), Var(v=0.0782, grad=0.0000), Var(v=-0.1295, grad=0.0000), Var(v=-0.1160, grad=0.0000), Var(v=0.1000, grad=0.0000), Var(v=0.0346, grad=0.0000), Var(v=-0.0645, grad=0.0000), Var(v=-0.0456, grad=0.0000), Var(v=0.0199, grad=0.0000), Var(v=-0.1568, grad=0.0000), Var(v=-0.1609, grad=0.0000), Var(v=-0.2652, grad=0.0000), Var(v=-0.0132, grad=0.0000), Var(v=-0.2898, grad=0.0000), Var(v=-0.0299, grad=0.0000), Var(v=-0.1338, grad=0.0000), Var(v=0.2533, grad=0.0000), Var(v=0.1374, grad=0.0000), Var(v=-0.0332, grad=0.0000), Var(v=-0.0610, grad=0.0000), Var(v=0.1782, grad=0.0000), Var(v=0.0341, grad=0.0000), Var(v=-0.2032, grad=0.0000), Var(v=0.0952, grad=0.0000), Var(v=0.0017, grad=0.0000), Var(v=0.0635, grad=0.0000), Var(v=-0.1172, grad=0.0000), Var(v=-0.0324, grad=0.0000), Var(v=0.0105, grad=0.0000), Var(v=-0.1762, grad=0.0000), Var(v=0.0095, grad=0.0000), Var(v=0.1532, grad=0.0000), Var(v=-0.0228, grad=0.0000), Var(v=0.0039, grad=0.0000), Var(v=-0.1028, grad=0.0000), Var(v=0.0630, grad=0.0000), Var(v=0.0693, grad=0.0000), Var(v=0.0832, grad=0.0000), Var(v=-0.1277, grad=0.0000), Var(v=-0.0240, grad=0.0000), Var(v=0.0684, grad=0.0000), Var(v=-0.1007, grad=0.0000), Var(v=-0.0216, grad=0.0000), Var(v=-0.0170, grad=0.0000), Var(v=-0.0397, grad=0.0000), Var(v=-0.1201, grad=0.0000)], [Var(v=0.1541, grad=0.0000), Var(v=-0.1909, grad=0.0000), Var(v=0.0172, grad=0.0000), Var(v=-0.1348, grad=0.0000), Var(v=-0.1039, grad=0.0000), Var(v=0.0363, grad=0.0000), Var(v=-0.0383, grad=0.0000), Var(v=-0.0223, grad=0.0000), Var(v=-0.0622, grad=0.0000), Var(v=0.0366, grad=0.0000), Var(v=-0.0797, grad=0.0000), Var(v=0.0431, grad=0.0000), Var(v=-0.2593, grad=0.0000), Var(v=0.1015, grad=0.0000), Var(v=0.0032, grad=0.0000), Var(v=0.0032, grad=0.0000), Var(v=0.1434, grad=0.0000), Var(v=-0.1384, grad=0.0000), Var(v=0.0009, grad=0.0000), Var(v=0.1578, grad=0.0000), Var(v=-0.2469, grad=0.0000), Var(v=-0.1624, grad=0.0000), Var(v=-0.0883, grad=0.0000), Var(v=-0.0869, grad=0.0000), Var(v=0.0157, grad=0.0000), Var(v=0.1558, grad=0.0000), Var(v=0.1439, grad=0.0000), Var(v=-0.1824, grad=0.0000), Var(v=-0.0667, grad=0.0000), Var(v=-0.0643, grad=0.0000), Var(v=0.1137, grad=0.0000), Var(v=0.0708, grad=0.0000), Var(v=-0.0009, grad=0.0000), Var(v=0.1314, grad=0.0000), Var(v=-0.0697, grad=0.0000), Var(v=-0.2002, grad=0.0000), Var(v=-0.0896, grad=0.0000), Var(v=-0.0009, grad=0.0000), Var(v=-0.0527, grad=0.0000), Var(v=-0.0272, grad=0.0000), Var(v=-0.0759, grad=0.0000), Var(v=-0.0457, grad=0.0000), Var(v=-0.1553, grad=0.0000), Var(v=-0.1052, grad=0.0000), Var(v=-0.0364, grad=0.0000), Var(v=-0.2503, grad=0.0000), Var(v=0.1196, grad=0.0000), Var(v=0.0718, grad=0.0000), Var(v=-0.0823, grad=0.0000), Var(v=0.0054, grad=0.0000)], [Var(v=0.0984, grad=0.0000), Var(v=0.0310, grad=0.0000), Var(v=0.1734, grad=0.0000), Var(v=-0.0316, grad=0.0000), Var(v=0.0000, grad=0.0000), Var(v=0.0460, grad=0.0000), Var(v=-0.0856, grad=0.0000), Var(v=-0.0948, grad=0.0000), Var(v=0.2811, grad=0.0000), Var(v=0.0329, grad=0.0000), Var(v=0.0974, grad=0.0000), Var(v=-0.0093, grad=0.0000), Var(v=-0.1406, grad=0.0000), Var(v=-0.1820, grad=0.0000), Var(v=-0.0913, grad=0.0000), Var(v=0.1142, grad=0.0000), Var(v=-0.0923, grad=0.0000), Var(v=0.0549, grad=0.0000), Var(v=-0.0763, grad=0.0000), Var(v=-0.1788, grad=0.0000), Var(v=-0.0357, grad=0.0000), Var(v=-0.0758, grad=0.0000), Var(v=0.1490, grad=0.0000), Var(v=-0.1099, grad=0.0000), Var(v=-0.0876, grad=0.0000), Var(v=-0.0528, grad=0.0000), Var(v=-0.0717, grad=0.0000), Var(v=0.2004, grad=0.0000), Var(v=0.1788, grad=0.0000), Var(v=-0.0389, grad=0.0000), Var(v=-0.0075, grad=0.0000), Var(v=-0.1084, grad=0.0000), Var(v=-0.0305, grad=0.0000), Var(v=0.0501, grad=0.0000), Var(v=-0.0732, grad=0.0000), Var(v=0.0717, grad=0.0000), Var(v=0.1242, grad=0.0000), Var(v=-0.0306, grad=0.0000), Var(v=0.0771, grad=0.0000), Var(v=0.1391, grad=0.0000), Var(v=-0.1425, grad=0.0000), Var(v=-0.0456, grad=0.0000), Var(v=-0.2044, grad=0.0000), Var(v=0.0496, grad=0.0000), Var(v=0.0718, grad=0.0000), Var(v=-0.2397, grad=0.0000), Var(v=-0.0501, grad=0.0000), Var(v=-0.0413, grad=0.0000), Var(v=0.0280, grad=0.0000), Var(v=-0.0283, grad=0.0000)], [Var(v=-0.1493, grad=0.0000), Var(v=-0.0094, grad=0.0000), Var(v=0.0279, grad=0.0000), Var(v=-0.1509, grad=0.0000), Var(v=0.0183, grad=0.0000), Var(v=0.0418, grad=0.0000), Var(v=0.0172, grad=0.0000), Var(v=0.0084, grad=0.0000), Var(v=-0.0048, grad=0.0000), Var(v=-0.0647, grad=0.0000), Var(v=0.0696, grad=0.0000), Var(v=-0.0277, grad=0.0000), Var(v=-0.0784, grad=0.0000), Var(v=-0.0045, grad=0.0000), Var(v=-0.0334, grad=0.0000), Var(v=0.0527, grad=0.0000), Var(v=-0.0498, grad=0.0000), Var(v=0.1420, grad=0.0000), Var(v=-0.0926, grad=0.0000), Var(v=-0.1437, grad=0.0000), Var(v=0.0441, grad=0.0000), Var(v=-0.0750, grad=0.0000), Var(v=-0.0107, grad=0.0000), Var(v=0.1204, grad=0.0000), Var(v=0.1508, grad=0.0000), Var(v=-0.1059, grad=0.0000), Var(v=-0.1259, grad=0.0000), Var(v=0.0671, grad=0.0000), Var(v=0.0498, grad=0.0000), Var(v=-0.0160, grad=0.0000), Var(v=0.0837, grad=0.0000), Var(v=0.0945, grad=0.0000), Var(v=-0.1083, grad=0.0000), Var(v=-0.0227, grad=0.0000), Var(v=-0.0378, grad=0.0000), Var(v=-0.0495, grad=0.0000), Var(v=-0.0051, grad=0.0000), Var(v=-0.0024, grad=0.0000), Var(v=0.0192, grad=0.0000), Var(v=-0.1614, grad=0.0000), Var(v=0.1553, grad=0.0000), Var(v=0.0017, grad=0.0000), Var(v=-0.0123, grad=0.0000), Var(v=-0.0304, grad=0.0000), Var(v=0.0283, grad=0.0000), Var(v=0.0178, grad=0.0000), Var(v=-0.0711, grad=0.0000), Var(v=0.0290, grad=0.0000), Var(v=0.1756, grad=0.0000), Var(v=0.0477, grad=0.0000)], [Var(v=-0.1046, grad=0.0000), Var(v=0.0905, grad=0.0000), Var(v=0.1924, grad=0.0000), Var(v=-0.0213, grad=0.0000), Var(v=-0.1029, grad=0.0000), Var(v=0.0376, grad=0.0000), Var(v=0.1142, grad=0.0000), Var(v=-0.2253, grad=0.0000), Var(v=-0.0840, grad=0.0000), Var(v=0.0598, grad=0.0000), Var(v=-0.0621, grad=0.0000), Var(v=-0.1403, grad=0.0000), Var(v=-0.0891, grad=0.0000), Var(v=-0.0783, grad=0.0000), Var(v=-0.0713, grad=0.0000), Var(v=0.0187, grad=0.0000), Var(v=0.1058, grad=0.0000), Var(v=0.1350, grad=0.0000), Var(v=-0.1555, grad=0.0000), Var(v=0.2047, grad=0.0000), Var(v=-0.0808, grad=0.0000), Var(v=0.0269, grad=0.0000), Var(v=0.0687, grad=0.0000), Var(v=-0.0714, grad=0.0000), Var(v=-0.0485, grad=0.0000), Var(v=0.1747, grad=0.0000), Var(v=0.0256, grad=0.0000), Var(v=-0.0642, grad=0.0000), Var(v=0.0616, grad=0.0000), Var(v=-0.0447, grad=0.0000), Var(v=-0.0075, grad=0.0000), Var(v=-0.0675, grad=0.0000), Var(v=-0.1004, grad=0.0000), Var(v=-0.1139, grad=0.0000), Var(v=-0.0812, grad=0.0000), Var(v=-0.0460, grad=0.0000), Var(v=0.0028, grad=0.0000), Var(v=-0.2122, grad=0.0000), Var(v=-0.0795, grad=0.0000), Var(v=-0.0629, grad=0.0000), Var(v=-0.0411, grad=0.0000), Var(v=-0.0270, grad=0.0000), Var(v=-0.0413, grad=0.0000), Var(v=0.0145, grad=0.0000), Var(v=-0.0035, grad=0.0000), Var(v=0.0834, grad=0.0000), Var(v=-0.1110, grad=0.0000), Var(v=-0.1451, grad=0.0000), Var(v=0.1473, grad=0.0000), Var(v=-0.1323, grad=0.0000)], [Var(v=0.0099, grad=0.0000), Var(v=0.0004, grad=0.0000), Var(v=-0.0394, grad=0.0000), Var(v=0.1837, grad=0.0000), Var(v=0.1846, grad=0.0000), Var(v=-0.0614, grad=0.0000), Var(v=0.1088, grad=0.0000), Var(v=0.0432, grad=0.0000), Var(v=0.0381, grad=0.0000), Var(v=-0.1027, grad=0.0000), Var(v=0.1484, grad=0.0000), Var(v=-0.0496, grad=0.0000), Var(v=0.1385, grad=0.0000), Var(v=0.1088, grad=0.0000), Var(v=0.0396, grad=0.0000), Var(v=0.0103, grad=0.0000), Var(v=-0.0474, grad=0.0000), Var(v=-0.0460, grad=0.0000), Var(v=-0.0611, grad=0.0000), Var(v=-0.1436, grad=0.0000), Var(v=0.0577, grad=0.0000), Var(v=-0.0702, grad=0.0000), Var(v=-0.1301, grad=0.0000), Var(v=-0.0225, grad=0.0000), Var(v=0.0406, grad=0.0000), Var(v=-0.1917, grad=0.0000), Var(v=-0.0796, grad=0.0000), Var(v=-0.1444, grad=0.0000), Var(v=-0.0522, grad=0.0000), Var(v=-0.0463, grad=0.0000), Var(v=-0.1319, grad=0.0000), Var(v=0.0508, grad=0.0000), Var(v=0.1112, grad=0.0000), Var(v=0.1066, grad=0.0000), Var(v=-0.0456, grad=0.0000), Var(v=-0.1112, grad=0.0000), Var(v=-0.0696, grad=0.0000), Var(v=0.0258, grad=0.0000), Var(v=0.0043, grad=0.0000), Var(v=0.0697, grad=0.0000), Var(v=0.0195, grad=0.0000), Var(v=-0.0573, grad=0.0000), Var(v=0.0294, grad=0.0000), Var(v=-0.1059, grad=0.0000), Var(v=-0.1849, grad=0.0000), Var(v=0.1227, grad=0.0000), Var(v=-0.1684, grad=0.0000), Var(v=0.1353, grad=0.0000), Var(v=-0.1568, grad=0.0000), Var(v=-0.0007, grad=0.0000)], [Var(v=0.0303, grad=0.0000), Var(v=-0.1044, grad=0.0000), Var(v=-0.0468, grad=0.0000), Var(v=0.0677, grad=0.0000), Var(v=-0.0370, grad=0.0000), Var(v=0.2989, grad=0.0000), Var(v=0.1926, grad=0.0000), Var(v=0.0542, grad=0.0000), Var(v=0.0167, grad=0.0000), Var(v=0.2334, grad=0.0000), Var(v=-0.0424, grad=0.0000), Var(v=0.0463, grad=0.0000), Var(v=0.0949, grad=0.0000), Var(v=0.0289, grad=0.0000), Var(v=0.0069, grad=0.0000), Var(v=-0.1416, grad=0.0000), Var(v=-0.1796, grad=0.0000), Var(v=-0.1056, grad=0.0000), Var(v=0.0575, grad=0.0000), Var(v=-0.2440, grad=0.0000), Var(v=0.0437, grad=0.0000), Var(v=-0.0183, grad=0.0000), Var(v=-0.0492, grad=0.0000), Var(v=0.0793, grad=0.0000), Var(v=0.0855, grad=0.0000), Var(v=-0.0387, grad=0.0000), Var(v=0.0431, grad=0.0000), Var(v=-0.0240, grad=0.0000), Var(v=-0.1633, grad=0.0000), Var(v=0.1497, grad=0.0000), Var(v=-0.1546, grad=0.0000), Var(v=0.0004, grad=0.0000), Var(v=-0.0015, grad=0.0000), Var(v=-0.0178, grad=0.0000), Var(v=0.0685, grad=0.0000), Var(v=-0.1675, grad=0.0000), Var(v=-0.0858, grad=0.0000), Var(v=0.0703, grad=0.0000), Var(v=0.0368, grad=0.0000), Var(v=0.0543, grad=0.0000), Var(v=0.0649, grad=0.0000), Var(v=-0.0038, grad=0.0000), Var(v=-0.0266, grad=0.0000), Var(v=0.0328, grad=0.0000), Var(v=0.0532, grad=0.0000), Var(v=-0.0293, grad=0.0000), Var(v=-0.0077, grad=0.0000), Var(v=0.0764, grad=0.0000), Var(v=-0.1200, grad=0.0000), Var(v=-0.0753, grad=0.0000)], [Var(v=-0.0328, grad=0.0000), Var(v=-0.0935, grad=0.0000), Var(v=-0.1833, grad=0.0000), Var(v=-0.1872, grad=0.0000), Var(v=0.0550, grad=0.0000), Var(v=-0.0786, grad=0.0000), Var(v=0.0035, grad=0.0000), Var(v=0.0380, grad=0.0000), Var(v=0.0058, grad=0.0000), Var(v=-0.0957, grad=0.0000), Var(v=-0.0368, grad=0.0000), Var(v=-0.2107, grad=0.0000), Var(v=0.1733, grad=0.0000), Var(v=-0.0587, grad=0.0000), Var(v=-0.1151, grad=0.0000), Var(v=-0.1962, grad=0.0000), Var(v=-0.0073, grad=0.0000), Var(v=0.0126, grad=0.0000), Var(v=-0.0573, grad=0.0000), Var(v=-0.0755, grad=0.0000), Var(v=0.1412, grad=0.0000), Var(v=-0.0205, grad=0.0000), Var(v=-0.0681, grad=0.0000), Var(v=0.0132, grad=0.0000), Var(v=0.0646, grad=0.0000), Var(v=0.0322, grad=0.0000), Var(v=0.0910, grad=0.0000), Var(v=-0.0440, grad=0.0000), Var(v=-0.1382, grad=0.0000), Var(v=-0.1617, grad=0.0000), Var(v=0.0985, grad=0.0000), Var(v=-0.1474, grad=0.0000), Var(v=0.0515, grad=0.0000), Var(v=0.0710, grad=0.0000), Var(v=-0.0661, grad=0.0000), Var(v=0.0151, grad=0.0000), Var(v=-0.1030, grad=0.0000), Var(v=0.0311, grad=0.0000), Var(v=-0.2070, grad=0.0000), Var(v=-0.0853, grad=0.0000), Var(v=0.0154, grad=0.0000), Var(v=0.0675, grad=0.0000), Var(v=-0.0235, grad=0.0000), Var(v=0.0366, grad=0.0000), Var(v=0.0835, grad=0.0000), Var(v=-0.1237, grad=0.0000), Var(v=-0.2234, grad=0.0000), Var(v=-0.0817, grad=0.0000), Var(v=0.0121, grad=0.0000), Var(v=0.0382, grad=0.0000)], [Var(v=-0.0969, grad=0.0000), Var(v=-0.0381, grad=0.0000), Var(v=-0.1720, grad=0.0000), Var(v=-0.0013, grad=0.0000), Var(v=-0.0806, grad=0.0000), Var(v=0.2130, grad=0.0000), Var(v=0.0697, grad=0.0000), Var(v=-0.0471, grad=0.0000), Var(v=0.0121, grad=0.0000), Var(v=0.1553, grad=0.0000), Var(v=0.0274, grad=0.0000), Var(v=-0.0442, grad=0.0000), Var(v=0.0207, grad=0.0000), Var(v=0.1618, grad=0.0000), Var(v=0.1166, grad=0.0000), Var(v=-0.0966, grad=0.0000), Var(v=0.3374, grad=0.0000), Var(v=-0.1104, grad=0.0000), Var(v=0.0625, grad=0.0000), Var(v=-0.1284, grad=0.0000), Var(v=-0.0761, grad=0.0000), Var(v=0.0372, grad=0.0000), Var(v=-0.1559, grad=0.0000), Var(v=-0.0334, grad=0.0000), Var(v=-0.0694, grad=0.0000), Var(v=-0.0919, grad=0.0000), Var(v=0.0525, grad=0.0000), Var(v=-0.0574, grad=0.0000), Var(v=0.0480, grad=0.0000), Var(v=-0.0341, grad=0.0000), Var(v=-0.0598, grad=0.0000), Var(v=-0.1066, grad=0.0000), Var(v=-0.0858, grad=0.0000), Var(v=-0.0215, grad=0.0000), Var(v=-0.0701, grad=0.0000), Var(v=-0.1895, grad=0.0000), Var(v=-0.0535, grad=0.0000), Var(v=-0.0647, grad=0.0000), Var(v=0.0406, grad=0.0000), Var(v=0.0370, grad=0.0000), Var(v=0.1148, grad=0.0000), Var(v=-0.1530, grad=0.0000), Var(v=0.0271, grad=0.0000), Var(v=0.0599, grad=0.0000), Var(v=-0.2028, grad=0.0000), Var(v=0.0169, grad=0.0000), Var(v=0.1124, grad=0.0000), Var(v=0.0783, grad=0.0000), Var(v=0.1421, grad=0.0000), Var(v=0.0884, grad=0.0000)], [Var(v=-0.0152, grad=0.0000), Var(v=-0.1107, grad=0.0000), Var(v=-0.1185, grad=0.0000), Var(v=0.1812, grad=0.0000), Var(v=-0.0482, grad=0.0000), Var(v=0.1886, grad=0.0000), Var(v=0.0602, grad=0.0000), Var(v=0.0434, grad=0.0000), Var(v=-0.0500, grad=0.0000), Var(v=-0.0406, grad=0.0000), Var(v=-0.0032, grad=0.0000), Var(v=-0.0119, grad=0.0000), Var(v=-0.0893, grad=0.0000), Var(v=-0.1019, grad=0.0000), Var(v=-0.1134, grad=0.0000), Var(v=0.0718, grad=0.0000), Var(v=-0.1400, grad=0.0000), Var(v=0.0194, grad=0.0000), Var(v=-0.0735, grad=0.0000), Var(v=0.0059, grad=0.0000), Var(v=-0.1457, grad=0.0000), Var(v=-0.1133, grad=0.0000), Var(v=0.0786, grad=0.0000), Var(v=0.1264, grad=0.0000), Var(v=-0.0757, grad=0.0000), Var(v=-0.1535, grad=0.0000), Var(v=-0.0500, grad=0.0000), Var(v=-0.0825, grad=0.0000), Var(v=-0.0658, grad=0.0000), Var(v=0.0124, grad=0.0000), Var(v=0.1230, grad=0.0000), Var(v=0.0299, grad=0.0000), Var(v=0.1767, grad=0.0000), Var(v=0.0268, grad=0.0000), Var(v=0.0352, grad=0.0000), Var(v=-0.0995, grad=0.0000), Var(v=-0.0064, grad=0.0000), Var(v=0.0819, grad=0.0000), Var(v=-0.1190, grad=0.0000), Var(v=-0.0900, grad=0.0000), Var(v=-0.1282, grad=0.0000), Var(v=0.0010, grad=0.0000), Var(v=-0.1355, grad=0.0000), Var(v=-0.0402, grad=0.0000), Var(v=0.0562, grad=0.0000), Var(v=0.0844, grad=0.0000), Var(v=0.1017, grad=0.0000), Var(v=0.0740, grad=0.0000), Var(v=0.0321, grad=0.0000), Var(v=0.1312, grad=0.0000)]] Biases: [Var(v=0.0057, grad=0.0000), Var(v=0.0000, grad=0.0000), Var(v=0.0800, grad=0.0000), Var(v=0.0899, grad=0.0000), Var(v=0.0000, grad=0.0000), Var(v=0.0000, grad=0.0000), Var(v=0.0528, grad=0.0000), Var(v=0.0000, grad=0.0000), Var(v=0.1594, grad=0.0000), Var(v=-0.0000, grad=0.0000), Var(v=-0.0230, grad=0.0000), Var(v=0.0000, grad=0.0000), Var(v=0.0000, grad=0.0000), Var(v=0.0000, grad=0.0000), Var(v=0.0000, grad=0.0000), Var(v=0.0159, grad=0.0000), Var(v=0.0333, grad=0.0000), Var(v=0.0807, grad=0.0000), Var(v=0.0000, grad=0.0000), Var(v=0.0247, grad=0.0000), Var(v=0.0271, grad=0.0000), Var(v=0.0000, grad=0.0000), Var(v=0.0000, grad=0.0000), Var(v=0.1120, grad=0.0000), Var(v=0.0000, grad=0.0000), Var(v=-0.0131, grad=0.0000), Var(v=0.0000, grad=0.0000), Var(v=0.0425, grad=0.0000), Var(v=-0.0001, grad=0.0000), Var(v=0.0325, grad=0.0000), Var(v=-0.0063, grad=0.0000), Var(v=0.0000, grad=0.0000), Var(v=-0.0213, grad=0.0000), Var(v=-0.1034, grad=0.0000), Var(v=-0.1618, grad=0.0000), Var(v=0.0000, grad=0.0000), Var(v=0.0090, grad=0.0000), Var(v=0.0000, grad=0.0000), Var(v=0.0000, grad=0.0000), Var(v=-0.1173, grad=0.0000), Var(v=0.0000, grad=0.0000), Var(v=0.0000, grad=0.0000), Var(v=0.0000, grad=0.0000), Var(v=0.0000, grad=0.0000), Var(v=-0.0018, grad=0.0000), Var(v=-0.0479, grad=0.0000), Var(v=0.0000, grad=0.0000), Var(v=0.0369, grad=0.0000), Var(v=-0.0476, grad=0.0000), Var(v=-0.0000, grad=0.0000)]\n",
            "Layer 2 \n",
            " Weights: [[Var(v=0.0447, grad=0.0000)], [Var(v=-0.0288, grad=0.0000)], [Var(v=0.1034, grad=0.0000)], [Var(v=-0.1128, grad=0.0000)], [Var(v=0.0204, grad=0.0000)], [Var(v=-0.0570, grad=0.0000)], [Var(v=-0.0877, grad=0.0000)], [Var(v=0.1176, grad=0.0000)], [Var(v=0.2151, grad=0.0000)], [Var(v=0.0645, grad=0.0000)], [Var(v=0.0255, grad=0.0000)], [Var(v=-0.0345, grad=0.0000)], [Var(v=0.0590, grad=0.0000)], [Var(v=0.1214, grad=0.0000)], [Var(v=-0.0826, grad=0.0000)], [Var(v=-0.0289, grad=0.0000)], [Var(v=-0.0564, grad=0.0000)], [Var(v=-0.1060, grad=0.0000)], [Var(v=-0.0808, grad=0.0000)], [Var(v=-0.0395, grad=0.0000)], [Var(v=0.0322, grad=0.0000)], [Var(v=0.0857, grad=0.0000)], [Var(v=-0.0434, grad=0.0000)], [Var(v=-0.1365, grad=0.0000)], [Var(v=-0.0656, grad=0.0000)], [Var(v=0.0040, grad=0.0000)], [Var(v=0.0037, grad=0.0000)], [Var(v=0.0598, grad=0.0000)], [Var(v=0.1478, grad=0.0000)], [Var(v=0.0431, grad=0.0000)], [Var(v=-0.0040, grad=0.0000)], [Var(v=-0.0170, grad=0.0000)], [Var(v=0.0219, grad=0.0000)], [Var(v=-0.0849, grad=0.0000)], [Var(v=-0.1733, grad=0.0000)], [Var(v=0.1474, grad=0.0000)], [Var(v=0.0138, grad=0.0000)], [Var(v=-0.0734, grad=0.0000)], [Var(v=-0.2192, grad=0.0000)], [Var(v=-0.1177, grad=0.0000)], [Var(v=0.0912, grad=0.0000)], [Var(v=-0.0633, grad=0.0000)], [Var(v=0.0242, grad=0.0000)], [Var(v=-0.0067, grad=0.0000)], [Var(v=0.0067, grad=0.0000)], [Var(v=0.0254, grad=0.0000)], [Var(v=-0.0106, grad=0.0000)], [Var(v=0.0489, grad=0.0000)], [Var(v=0.0119, grad=0.0000)], [Var(v=0.0595, grad=0.0000)]] Biases: [Var(v=-0.0005, grad=0.0000)]\n"
          ]
        },
        {
          "output_type": "execute_result",
          "data": {
            "text/plain": [
              "[None, None, None]"
            ]
          },
          "metadata": {},
          "execution_count": 29
        }
      ],
      "source": [
        "print('Network before update:')\n",
        "[print('Layer', i, '\\n', NN[i]) for i in range(len(NN))] \n",
        "\n",
        "def parameters(network):\n",
        "  params = []\n",
        "  for layer in range(len(network)):\n",
        "    params += network[layer].parameters()\n",
        "  return params\n",
        "\n",
        "def update_parameters(params, learning_rate=0.01):\n",
        "  for p in params:\n",
        "    p.v -= learning_rate*p.grad\n",
        "\n",
        "def zero_gradients(params):\n",
        "  for p in params:\n",
        "    p.grad = 0.0\n",
        "\n",
        "update_parameters(parameters(NN))\n",
        "\n",
        "print('\\nNetwork after update:')\n",
        "[print('Layer', i, '\\n', NN[i]) for i in range(len(NN))] \n",
        "\n",
        "zero_gradients(parameters(NN))\n",
        "\n",
        "print('\\nNetwork after zeroing gradients:')\n",
        "[print('Layer', i, '\\n', NN[i]) for i in range(len(NN))] "
      ]
    },
    {
      "cell_type": "code",
      "execution_count": null,
      "metadata": {
        "id": "woWYpdw6FtIO"
      },
      "outputs": [],
      "source": [
        "# Initialize an arbitrary neural network\n",
        "NN = [\n",
        "    DenseLayer(1, 8, lambda x: x.relu()),\n",
        "    DenseLayer(8, 1, lambda x: x.identity())\n",
        "]\n",
        "\n",
        "# Recommended hyper-parameters for 3-D: \n",
        "#NN = [\n",
        "#    DenseLayer(3, 16, lambda x: x.relu()),\n",
        "#    DenseLayer(16, 1, lambda x: x.identity())\n",
        "#]\n",
        "\n",
        "\n",
        "### Notice that, when we switch from tanh to relu activation, we decrease the learning rate. This is due the stability of the gradients \n",
        "## of the activation functions."
      ]
    },
    {
      "cell_type": "code",
      "execution_count": null,
      "metadata": {
        "id": "mdqaqYBVFtIR"
      },
      "outputs": [],
      "source": [
        "# Initialize training hyperparameters\n",
        "EPOCHS = 200\n",
        "LEARN_R = 2e-3 "
      ]
    },
    {
      "cell_type": "code",
      "execution_count": null,
      "metadata": {
        "id": "5kfg76GMFtIW",
        "scrolled": true,
        "outputId": "c2c4423f-1010-47fa-c547-6088a3f45227",
        "colab": {
          "base_uri": "https://localhost:8080/"
        }
      },
      "outputs": [
        {
          "output_type": "stream",
          "name": "stdout",
          "text": [
            "   0 ( 0.00%) Train loss: 102.428 \t Validation loss: 100.613\n",
            "  10 ( 5.00%) Train loss: 18.569 \t Validation loss: 13.483\n",
            "  20 (10.00%) Train loss: 14.248 \t Validation loss: 10.621\n",
            "  30 (15.00%) Train loss: 13.858 \t Validation loss: 10.370\n",
            "  40 (20.00%) Train loss: 13.492 \t Validation loss: 10.119\n",
            "  50 (25.00%) Train loss: 13.004 \t Validation loss: 9.807\n",
            "  60 (30.00%) Train loss: 12.589 \t Validation loss: 9.532\n",
            "  70 (35.00%) Train loss: 12.332 \t Validation loss: 9.350\n",
            "  80 (40.00%) Train loss: 12.182 \t Validation loss: 9.248\n",
            "  90 (45.00%) Train loss: 12.059 \t Validation loss: 9.168\n",
            " 100 (50.00%) Train loss: 11.988 \t Validation loss: 9.152\n",
            " 110 (55.00%) Train loss: 11.946 \t Validation loss: 9.137\n",
            " 120 (60.00%) Train loss: 11.922 \t Validation loss: 9.121\n",
            " 130 (65.00%) Train loss: 11.909 \t Validation loss: 9.101\n",
            " 140 (70.00%) Train loss: 11.901 \t Validation loss: 9.085\n",
            " 150 (75.00%) Train loss: 11.897 \t Validation loss: 9.074\n",
            " 160 (80.00%) Train loss: 11.895 \t Validation loss: 9.064\n",
            " 170 (85.00%) Train loss: 11.894 \t Validation loss: 9.057\n",
            " 180 (90.00%) Train loss: 11.893 \t Validation loss: 9.052\n",
            " 190 (95.00%) Train loss: 11.893 \t Validation loss: 9.049\n"
          ]
        }
      ],
      "source": [
        "train_loss = []\n",
        "val_loss = []\n",
        "\n",
        "for e in range(EPOCHS):\n",
        "     \n",
        "    # Forward pass and loss computation\n",
        "    Loss = squared_loss(y_train, forward(x_train, NN))\n",
        "\n",
        "    # Backward pass\n",
        "    Loss.backward()\n",
        "    \n",
        "    # gradient descent update\n",
        "    update_parameters(parameters(NN), LEARN_R)\n",
        "    zero_gradients(parameters(NN))\n",
        "    \n",
        "    # Training loss\n",
        "    train_loss.append(Loss.v)\n",
        "    \n",
        "    # Validation\n",
        "    Loss_validation = squared_loss(y_validation, forward(x_validation, NN))\n",
        "    val_loss.append(Loss_validation.v)\n",
        "    \n",
        "    if e%10==0:\n",
        "        print(\"{:4d}\".format(e),\n",
        "              \"({:5.2f}%)\".format(e/EPOCHS*100), \n",
        "              \"Train loss: {:4.3f} \\t Validation loss: {:4.3f}\".format(train_loss[-1], val_loss[-1]))\n",
        "        \n"
      ]
    },
    {
      "cell_type": "code",
      "execution_count": null,
      "metadata": {
        "id": "VetyRWFwFtIY",
        "outputId": "60261729-75b8-4dc6-8f68-229c5c60a90a",
        "colab": {
          "base_uri": "https://localhost:8080/",
          "height": 265
        }
      },
      "outputs": [
        {
          "output_type": "display_data",
          "data": {
            "text/plain": [
              "<Figure size 432x288 with 1 Axes>"
            ],
            "image/png": "[encoded data removed]"
          },
          "metadata": {
            "needs_background": "light"
          }
        }
      ],
      "source": [
        "plt.plot(range(len(train_loss)), train_loss);\n",
        "plt.plot(range(len(val_loss)), val_loss);"
      ]
    },
    {
      "cell_type": "markdown",
      "metadata": {
        "id": "8OgmIrM9FtIb"
      },
      "source": [
        "# Testing\n",
        "\n",
        "We have kept the calculation of the test error separate in order to emphasize that you should not use the test set in optimization."
      ]
    },
    {
      "cell_type": "code",
      "execution_count": null,
      "metadata": {
        "id": "HmNi7S-vFtIc"
      },
      "outputs": [],
      "source": [
        "output_test = forward(x_test, NN)"
      ]
    },
    {
      "cell_type": "code",
      "execution_count": null,
      "metadata": {
        "id": "7mmJOTSEFtIf",
        "outputId": "a35fb1db-aec8-49e0-93e2-40f0fb8e1e46",
        "colab": {
          "base_uri": "https://localhost:8080/",
          "height": 314
        }
      },
      "outputs": [
        {
          "output_type": "stream",
          "name": "stdout",
          "text": [
            "Test loss:  9.837\n"
          ]
        },
        {
          "output_type": "display_data",
          "data": {
            "text/plain": [
              "<Figure size 432x288 with 1 Axes>"
            ],
            "image/png": "[encoded data removed]"
          },
          "metadata": {
            "needs_background": "light"
          }
        }
      ],
      "source": [
        "y_test_np = Var_to_nparray(y_test)\n",
        "plt.scatter(y_test_np, Var_to_nparray(output_test));\n",
        "plt.plot([np.min(y_test_np), np.max(y_test_np)], [np.min(y_test_np), np.max(y_test_np)], color='k');\n",
        "plt.xlabel(\"y\");\n",
        "plt.ylabel(\"$\\hat{y}$\");\n",
        "plt.title(\"Model prediction vs real in the test set, the close to the line the better\")\n",
        "plt.grid(True);\n",
        "plt.axis('equal');\n",
        "plt.tight_layout();\n",
        "\n",
        "Loss_test = squared_loss(y_test, forward(x_test, NN))\n",
        "\n",
        "print(\"Test loss:  {:4.3f}\".format(Loss_test.v))"
      ]
    },
    {
      "cell_type": "code",
      "execution_count": null,
      "metadata": {
        "id": "ODi0WlmQFtIh",
        "outputId": "824047c3-4396-4f01-f599-a01f45e3af36",
        "colab": {
          "base_uri": "https://localhost:8080/",
          "height": 279
        }
      },
      "outputs": [
        {
          "output_type": "display_data",
          "data": {
            "text/plain": [
              "<Figure size 432x288 with 1 Axes>"
            ],
            "image/png": "[encoded data removed]"
          },
          "metadata": {
            "needs_background": "light"
          }
        }
      ],
      "source": [
        "x_test_np = Var_to_nparray(x_test)\n",
        "x_train_np = Var_to_nparray(x_train)\n",
        "y_train_np = Var_to_nparray(y_train)\n",
        "if D1:\n",
        "    plt.scatter(x_train_np, y_train_np, label=\"train data\");\n",
        "    plt.scatter(x_test_np, Var_to_nparray(output_test), label=\"test prediction\");\n",
        "    plt.scatter(x_test_np, y_test_np, label=\"test data\");\n",
        "    plt.legend();\n",
        "    plt.xlabel(\"x\");\n",
        "    plt.ylabel(\"y\");\n",
        "else:\n",
        "    plt.scatter(x_train_np[:,1], y_train, label=\"train data\");\n",
        "    plt.scatter(x_test_np[:,1], Var_to_nparray(output_test), label=\"test data prediction\");\n",
        "    plt.scatter(x_test_np[:,1], y_test_np, label=\"test data\");\n",
        "    plt.legend();\n",
        "    plt.xlabel(\"x\");\n",
        "    plt.ylabel(\"y\");"
      ]
    },
    {
      "cell_type": "markdown",
      "metadata": {
        "id": "zTBAmjsAFtIk"
      },
      "source": [
        "## Exercise l) Show overfitting, underfitting and just right fitting\n",
        "\n",
        "Vary the architecture and other things to show clear signs of overfitting (=training loss significantly lower than test loss) and underfitting (=not fitting enoung to training data so that test performance is also hurt).\n",
        "\n",
        "See also if you can get a good compromise which leads to a low validation loss. \n",
        "\n",
        "For this problem do you see any big difference between validation and test loss? The answer here will probably be no. Discuss cases where it is important to keep the two separate.\n",
        "\n",
        "_Insert written answer here._\n"
      ]
    },
    {
      "cell_type": "markdown",
      "source": [
        "**Answer (l)**\n",
        "\n",
        "To show a case of overfitting, underfitting and 'just right' fitting, 3 networks are proposed. All three networks will be 1 input, 8 node hidden layer, and 1 output. With relu and identity activation functions. Same as the previous case.\n",
        "\n",
        "Other parameters could be used to exemplify these cases, but the parameter being focused for this showcase, is the number of epochs a model will go through during training.\n",
        "\n",
        "1. **Underfitting** For underfitting, the network will be trained through 10 epochs with a learning rate of 2e-3, meaning the network will barely see the data, which should result in an underfit. On the showcase of the models with the data, at the end, this is mostly noticable at the ends of the plot (green).\n",
        "\n",
        "2. **Just right** For the just right case, the previous case is used, of 200 epochs with a learning rate of 2e-3.\n",
        "\n",
        "3. **Overfitting** Finally, for the overfitting case, the network undergoes 10000 epochs with a learning rate of 2e-3. The overfit isn't particularly noticable on the plot showcase. Where it is noticable, however, is in the reported iterations during the training of the model. In the early 2000 epochs, the validation error reaches a minimum. But as the model moves on further, the training error keeps decreasing, but the validation error increases from the previous mentioned minimum. This suggests an overfitting model."
      ],
      "metadata": {
        "id": "yfMqcW5UJnB-"
      }
    },
    {
      "cell_type": "code",
      "execution_count": null,
      "metadata": {
        "id": "tQZCn2dxFtIl",
        "outputId": "1eb483b2-1d38-4581-d3df-f06c07ed7823",
        "colab": {
          "base_uri": "https://localhost:8080/"
        }
      },
      "outputs": [
        {
          "output_type": "stream",
          "name": "stdout",
          "text": [
            "   0 ( 0.00%) Train loss: 108.994 \t Validation loss: 105.526\n",
            "   0 ( 0.00%) Train loss: 103.939 \t Validation loss: 101.666\n",
            "  10 ( 5.00%) Train loss: 26.686 \t Validation loss: 19.362\n",
            "  20 (10.00%) Train loss: 15.551 \t Validation loss: 11.497\n",
            "  30 (15.00%) Train loss: 14.337 \t Validation loss: 10.642\n",
            "  40 (20.00%) Train loss: 13.957 \t Validation loss: 10.390\n",
            "  50 (25.00%) Train loss: 13.598 \t Validation loss: 10.216\n",
            "  60 (30.00%) Train loss: 13.171 \t Validation loss: 9.987\n",
            "  70 (35.00%) Train loss: 12.690 \t Validation loss: 9.682\n",
            "  80 (40.00%) Train loss: 12.362 \t Validation loss: 9.460\n",
            "  90 (45.00%) Train loss: 12.164 \t Validation loss: 9.359\n",
            " 100 (50.00%) Train loss: 12.056 \t Validation loss: 9.330\n",
            " 110 (55.00%) Train loss: 11.985 \t Validation loss: 9.266\n",
            " 120 (60.00%) Train loss: 11.935 \t Validation loss: 9.197\n",
            " 130 (65.00%) Train loss: 11.915 \t Validation loss: 9.160\n",
            " 140 (70.00%) Train loss: 11.904 \t Validation loss: 9.130\n",
            " 150 (75.00%) Train loss: 11.898 \t Validation loss: 9.108\n",
            " 160 (80.00%) Train loss: 11.895 \t Validation loss: 9.093\n",
            " 170 (85.00%) Train loss: 11.893 \t Validation loss: 9.080\n",
            " 180 (90.00%) Train loss: 11.892 \t Validation loss: 9.073\n",
            " 190 (95.00%) Train loss: 11.892 \t Validation loss: 9.065\n",
            "   0 ( 0.00%) Train loss: 100.240 \t Validation loss: 99.480\n",
            "  10 ( 0.10%) Train loss: 15.962 \t Validation loss: 12.055\n",
            "  20 ( 0.20%) Train loss: 13.565 \t Validation loss: 10.298\n",
            "  30 ( 0.30%) Train loss: 13.071 \t Validation loss: 9.866\n",
            "  40 ( 0.40%) Train loss: 12.778 \t Validation loss: 9.575\n",
            "  50 ( 0.50%) Train loss: 12.584 \t Validation loss: 9.349\n",
            "  60 ( 0.60%) Train loss: 12.400 \t Validation loss: 9.161\n",
            "  70 ( 0.70%) Train loss: 12.254 \t Validation loss: 9.003\n",
            "  80 ( 0.80%) Train loss: 12.122 \t Validation loss: 8.907\n",
            "  90 ( 0.90%) Train loss: 12.009 \t Validation loss: 8.854\n",
            " 100 ( 1.00%) Train loss: 11.960 \t Validation loss: 8.851\n",
            " 110 ( 1.10%) Train loss: 11.930 \t Validation loss: 8.871\n",
            " 120 ( 1.20%) Train loss: 11.912 \t Validation loss: 8.892\n",
            " 130 ( 1.30%) Train loss: 11.902 \t Validation loss: 8.911\n",
            " 140 ( 1.40%) Train loss: 11.897 \t Validation loss: 8.928\n",
            " 150 ( 1.50%) Train loss: 11.895 \t Validation loss: 8.939\n",
            " 160 ( 1.60%) Train loss: 11.893 \t Validation loss: 8.948\n",
            " 170 ( 1.70%) Train loss: 11.892 \t Validation loss: 8.955\n",
            " 180 ( 1.80%) Train loss: 11.892 \t Validation loss: 8.961\n",
            " 190 ( 1.90%) Train loss: 11.891 \t Validation loss: 8.965\n",
            " 200 ( 2.00%) Train loss: 11.891 \t Validation loss: 8.966\n",
            " 210 ( 2.10%) Train loss: 11.890 \t Validation loss: 8.967\n",
            " 220 ( 2.20%) Train loss: 11.890 \t Validation loss: 8.967\n",
            " 230 ( 2.30%) Train loss: 11.890 \t Validation loss: 8.967\n",
            " 240 ( 2.40%) Train loss: 11.890 \t Validation loss: 8.967\n",
            " 250 ( 2.50%) Train loss: 11.889 \t Validation loss: 8.966\n",
            " 260 ( 2.60%) Train loss: 11.889 \t Validation loss: 8.965\n",
            " 270 ( 2.70%) Train loss: 11.889 \t Validation loss: 8.963\n",
            " 280 ( 2.80%) Train loss: 11.888 \t Validation loss: 8.962\n",
            " 290 ( 2.90%) Train loss: 11.888 \t Validation loss: 8.961\n",
            " 300 ( 3.00%) Train loss: 11.887 \t Validation loss: 8.960\n",
            " 310 ( 3.10%) Train loss: 11.887 \t Validation loss: 8.958\n",
            " 320 ( 3.20%) Train loss: 11.886 \t Validation loss: 8.956\n",
            " 330 ( 3.30%) Train loss: 11.886 \t Validation loss: 8.955\n",
            " 340 ( 3.40%) Train loss: 11.885 \t Validation loss: 8.953\n",
            " 350 ( 3.50%) Train loss: 11.885 \t Validation loss: 8.951\n",
            " 360 ( 3.60%) Train loss: 11.884 \t Validation loss: 8.950\n",
            " 370 ( 3.70%) Train loss: 11.883 \t Validation loss: 8.947\n",
            " 380 ( 3.80%) Train loss: 11.883 \t Validation loss: 8.945\n",
            " 390 ( 3.90%) Train loss: 11.882 \t Validation loss: 8.942\n",
            " 400 ( 4.00%) Train loss: 11.880 \t Validation loss: 8.938\n",
            " 410 ( 4.10%) Train loss: 11.878 \t Validation loss: 8.933\n",
            " 420 ( 4.20%) Train loss: 11.876 \t Validation loss: 8.928\n",
            " 430 ( 4.30%) Train loss: 11.873 \t Validation loss: 8.923\n",
            " 440 ( 4.40%) Train loss: 11.864 \t Validation loss: 8.910\n",
            " 450 ( 4.50%) Train loss: 11.839 \t Validation loss: 8.890\n",
            " 460 ( 4.60%) Train loss: 11.813 \t Validation loss: 8.867\n",
            " 470 ( 4.70%) Train loss: 11.786 \t Validation loss: 8.851\n",
            " 480 ( 4.80%) Train loss: 11.774 \t Validation loss: 8.844\n",
            " 490 ( 4.90%) Train loss: 11.766 \t Validation loss: 8.840\n",
            " 500 ( 5.00%) Train loss: 11.757 \t Validation loss: 8.835\n",
            " 510 ( 5.10%) Train loss: 11.747 \t Validation loss: 8.830\n",
            " 520 ( 5.20%) Train loss: 11.738 \t Validation loss: 8.823\n",
            " 530 ( 5.30%) Train loss: 11.727 \t Validation loss: 8.815\n",
            " 540 ( 5.40%) Train loss: 11.716 \t Validation loss: 8.807\n",
            " 550 ( 5.50%) Train loss: 11.704 \t Validation loss: 8.796\n",
            " 560 ( 5.60%) Train loss: 11.692 \t Validation loss: 8.788\n",
            " 570 ( 5.70%) Train loss: 11.679 \t Validation loss: 8.779\n",
            " 580 ( 5.80%) Train loss: 11.665 \t Validation loss: 8.770\n",
            " 590 ( 5.90%) Train loss: 11.650 \t Validation loss: 8.760\n",
            " 600 ( 6.00%) Train loss: 11.635 \t Validation loss: 8.752\n",
            " 610 ( 6.10%) Train loss: 11.619 \t Validation loss: 8.741\n",
            " 620 ( 6.20%) Train loss: 11.602 \t Validation loss: 8.729\n",
            " 630 ( 6.30%) Train loss: 11.584 \t Validation loss: 8.715\n",
            " 640 ( 6.40%) Train loss: 11.565 \t Validation loss: 8.703\n",
            " 650 ( 6.50%) Train loss: 11.546 \t Validation loss: 8.689\n",
            " 660 ( 6.60%) Train loss: 11.525 \t Validation loss: 8.672\n",
            " 670 ( 6.70%) Train loss: 11.504 \t Validation loss: 8.656\n",
            " 680 ( 6.80%) Train loss: 11.482 \t Validation loss: 8.637\n",
            " 690 ( 6.90%) Train loss: 11.458 \t Validation loss: 8.620\n",
            " 700 ( 7.00%) Train loss: 11.434 \t Validation loss: 8.602\n",
            " 710 ( 7.10%) Train loss: 11.408 \t Validation loss: 8.585\n",
            " 720 ( 7.20%) Train loss: 11.382 \t Validation loss: 8.564\n",
            " 730 ( 7.30%) Train loss: 11.355 \t Validation loss: 8.542\n",
            " 740 ( 7.40%) Train loss: 11.326 \t Validation loss: 8.519\n",
            " 750 ( 7.50%) Train loss: 11.296 \t Validation loss: 8.494\n",
            " 760 ( 7.60%) Train loss: 11.265 \t Validation loss: 8.469\n",
            " 770 ( 7.70%) Train loss: 11.233 \t Validation loss: 8.442\n",
            " 780 ( 7.80%) Train loss: 11.199 \t Validation loss: 8.414\n",
            " 790 ( 7.90%) Train loss: 11.164 \t Validation loss: 8.385\n",
            " 800 ( 8.00%) Train loss: 11.128 \t Validation loss: 8.355\n",
            " 810 ( 8.10%) Train loss: 11.091 \t Validation loss: 8.325\n",
            " 820 ( 8.20%) Train loss: 11.052 \t Validation loss: 8.292\n",
            " 830 ( 8.30%) Train loss: 11.012 \t Validation loss: 8.261\n",
            " 840 ( 8.40%) Train loss: 10.970 \t Validation loss: 8.227\n",
            " 850 ( 8.50%) Train loss: 10.927 \t Validation loss: 8.192\n",
            " 860 ( 8.60%) Train loss: 10.883 \t Validation loss: 8.155\n",
            " 870 ( 8.70%) Train loss: 10.838 \t Validation loss: 8.128\n",
            " 880 ( 8.80%) Train loss: 10.792 \t Validation loss: 8.094\n",
            " 890 ( 8.90%) Train loss: 10.744 \t Validation loss: 8.053\n",
            " 900 ( 9.00%) Train loss: 10.696 \t Validation loss: 8.019\n",
            " 910 ( 9.10%) Train loss: 10.647 \t Validation loss: 7.989\n",
            " 920 ( 9.20%) Train loss: 10.596 \t Validation loss: 7.963\n",
            " 930 ( 9.30%) Train loss: 10.544 \t Validation loss: 7.938\n",
            " 940 ( 9.40%) Train loss: 10.492 \t Validation loss: 7.914\n",
            " 950 ( 9.50%) Train loss: 10.438 \t Validation loss: 7.889\n",
            " 960 ( 9.60%) Train loss: 10.383 \t Validation loss: 7.864\n",
            " 970 ( 9.70%) Train loss: 10.328 \t Validation loss: 7.851\n",
            " 980 ( 9.80%) Train loss: 10.272 \t Validation loss: 7.837\n",
            " 990 ( 9.90%) Train loss: 10.215 \t Validation loss: 7.821\n",
            "1000 (10.00%) Train loss: 10.157 \t Validation loss: 7.813\n",
            "1010 (10.10%) Train loss: 10.099 \t Validation loss: 7.806\n",
            "1020 (10.20%) Train loss: 10.041 \t Validation loss: 7.799\n",
            "1030 (10.30%) Train loss: 9.982 \t Validation loss: 7.784\n",
            "1040 (10.40%) Train loss: 9.924 \t Validation loss: 7.786\n",
            "1050 (10.50%) Train loss: 9.865 \t Validation loss: 7.782\n",
            "1060 (10.60%) Train loss: 9.807 \t Validation loss: 7.781\n",
            "1070 (10.70%) Train loss: 9.750 \t Validation loss: 7.785\n",
            "1080 (10.80%) Train loss: 9.699 \t Validation loss: 7.766\n",
            "1090 (10.90%) Train loss: 9.651 \t Validation loss: 7.759\n",
            "1100 (11.00%) Train loss: 9.605 \t Validation loss: 7.755\n",
            "1110 (11.10%) Train loss: 9.560 \t Validation loss: 7.753\n",
            "1120 (11.20%) Train loss: 9.516 \t Validation loss: 7.751\n",
            "1130 (11.30%) Train loss: 9.472 \t Validation loss: 7.746\n",
            "1140 (11.40%) Train loss: 9.425 \t Validation loss: 7.751\n",
            "1150 (11.50%) Train loss: 9.379 \t Validation loss: 7.753\n",
            "1160 (11.60%) Train loss: 9.332 \t Validation loss: 7.751\n",
            "1170 (11.70%) Train loss: 9.288 \t Validation loss: 7.759\n",
            "1180 (11.80%) Train loss: 9.247 \t Validation loss: 7.759\n",
            "1190 (11.90%) Train loss: 9.203 \t Validation loss: 7.727\n",
            "1200 (12.00%) Train loss: 9.161 \t Validation loss: 7.692\n",
            "1210 (12.10%) Train loss: 9.111 \t Validation loss: 7.647\n",
            "1220 (12.20%) Train loss: 9.065 \t Validation loss: 7.623\n",
            "1230 (12.30%) Train loss: 9.018 \t Validation loss: 7.582\n",
            "1240 (12.40%) Train loss: 8.969 \t Validation loss: 7.559\n",
            "1250 (12.50%) Train loss: 8.924 \t Validation loss: 7.528\n",
            "1260 (12.60%) Train loss: 8.880 \t Validation loss: 7.509\n",
            "1270 (12.70%) Train loss: 8.845 \t Validation loss: 7.512\n",
            "1280 (12.80%) Train loss: 8.818 \t Validation loss: 7.522\n",
            "1290 (12.90%) Train loss: 8.793 \t Validation loss: 7.527\n",
            "1300 (13.00%) Train loss: 8.770 \t Validation loss: 7.532\n",
            "1310 (13.10%) Train loss: 8.749 \t Validation loss: 7.540\n",
            "1320 (13.20%) Train loss: 8.730 \t Validation loss: 7.542\n",
            "1330 (13.30%) Train loss: 8.711 \t Validation loss: 7.556\n",
            "1340 (13.40%) Train loss: 8.692 \t Validation loss: 7.558\n",
            "1350 (13.50%) Train loss: 8.677 \t Validation loss: 7.571\n",
            "1360 (13.60%) Train loss: 8.662 \t Validation loss: 7.576\n",
            "1370 (13.70%) Train loss: 8.646 \t Validation loss: 7.579\n",
            "1380 (13.80%) Train loss: 8.630 \t Validation loss: 7.579\n",
            "1390 (13.90%) Train loss: 8.614 \t Validation loss: 7.579\n",
            "1400 (14.00%) Train loss: 8.598 \t Validation loss: 7.575\n",
            "1410 (14.10%) Train loss: 8.582 \t Validation loss: 7.571\n",
            "1420 (14.20%) Train loss: 8.567 \t Validation loss: 7.572\n",
            "1430 (14.30%) Train loss: 8.556 \t Validation loss: 7.576\n",
            "1440 (14.40%) Train loss: 8.546 \t Validation loss: 7.579\n",
            "1450 (14.50%) Train loss: 8.536 \t Validation loss: 7.583\n",
            "1460 (14.60%) Train loss: 8.526 \t Validation loss: 7.587\n",
            "1470 (14.70%) Train loss: 8.517 \t Validation loss: 7.592\n",
            "1480 (14.80%) Train loss: 8.509 \t Validation loss: 7.597\n",
            "1490 (14.90%) Train loss: 8.501 \t Validation loss: 7.602\n",
            "1500 (15.00%) Train loss: 8.493 \t Validation loss: 7.607\n",
            "1510 (15.10%) Train loss: 8.486 \t Validation loss: 7.612\n",
            "1520 (15.20%) Train loss: 8.479 \t Validation loss: 7.618\n",
            "1530 (15.30%) Train loss: 8.473 \t Validation loss: 7.626\n",
            "1540 (15.40%) Train loss: 8.467 \t Validation loss: 7.631\n",
            "1550 (15.50%) Train loss: 8.461 \t Validation loss: 7.639\n",
            "1560 (15.60%) Train loss: 8.456 \t Validation loss: 7.646\n",
            "1570 (15.70%) Train loss: 8.451 \t Validation loss: 7.654\n",
            "1580 (15.80%) Train loss: 8.447 \t Validation loss: 7.657\n",
            "1590 (15.90%) Train loss: 8.442 \t Validation loss: 7.662\n",
            "1600 (16.00%) Train loss: 8.438 \t Validation loss: 7.668\n",
            "1610 (16.10%) Train loss: 8.434 \t Validation loss: 7.672\n",
            "1620 (16.20%) Train loss: 8.430 \t Validation loss: 7.677\n",
            "1630 (16.30%) Train loss: 8.427 \t Validation loss: 7.682\n",
            "1640 (16.40%) Train loss: 8.423 \t Validation loss: 7.686\n",
            "1650 (16.50%) Train loss: 8.420 \t Validation loss: 7.691\n",
            "1660 (16.60%) Train loss: 8.417 \t Validation loss: 7.697\n",
            "1670 (16.70%) Train loss: 8.414 \t Validation loss: 7.702\n",
            "1680 (16.80%) Train loss: 8.411 \t Validation loss: 7.707\n",
            "1690 (16.90%) Train loss: 8.408 \t Validation loss: 7.710\n",
            "1700 (17.00%) Train loss: 8.406 \t Validation loss: 7.714\n",
            "1710 (17.10%) Train loss: 8.403 \t Validation loss: 7.720\n",
            "1720 (17.20%) Train loss: 8.401 \t Validation loss: 7.725\n",
            "1730 (17.30%) Train loss: 8.389 \t Validation loss: 7.727\n",
            "1740 (17.40%) Train loss: 8.386 \t Validation loss: 7.726\n",
            "1750 (17.50%) Train loss: 8.383 \t Validation loss: 7.732\n",
            "1760 (17.60%) Train loss: 8.380 \t Validation loss: 7.737\n",
            "1770 (17.70%) Train loss: 8.378 \t Validation loss: 7.741\n",
            "1780 (17.80%) Train loss: 8.375 \t Validation loss: 7.748\n",
            "1790 (17.90%) Train loss: 8.373 \t Validation loss: 7.751\n",
            "1800 (18.00%) Train loss: 8.371 \t Validation loss: 7.757\n",
            "1810 (18.10%) Train loss: 8.369 \t Validation loss: 7.762\n",
            "1820 (18.20%) Train loss: 8.367 \t Validation loss: 7.766\n",
            "1830 (18.30%) Train loss: 8.365 \t Validation loss: 7.770\n",
            "1840 (18.40%) Train loss: 8.363 \t Validation loss: 7.774\n",
            "1850 (18.50%) Train loss: 8.361 \t Validation loss: 7.779\n",
            "1860 (18.60%) Train loss: 8.359 \t Validation loss: 7.784\n",
            "1870 (18.70%) Train loss: 8.357 \t Validation loss: 7.787\n",
            "1880 (18.80%) Train loss: 8.355 \t Validation loss: 7.790\n",
            "1890 (18.90%) Train loss: 8.353 \t Validation loss: 7.796\n",
            "1900 (19.00%) Train loss: 8.352 \t Validation loss: 7.799\n",
            "1910 (19.10%) Train loss: 8.350 \t Validation loss: 7.805\n",
            "1920 (19.20%) Train loss: 8.348 \t Validation loss: 7.810\n",
            "1930 (19.30%) Train loss: 8.347 \t Validation loss: 7.814\n",
            "1940 (19.40%) Train loss: 8.345 \t Validation loss: 7.819\n",
            "1950 (19.50%) Train loss: 8.344 \t Validation loss: 7.823\n",
            "1960 (19.60%) Train loss: 8.343 \t Validation loss: 7.827\n",
            "1970 (19.70%) Train loss: 8.341 \t Validation loss: 7.831\n",
            "1980 (19.80%) Train loss: 8.340 \t Validation loss: 7.835\n",
            "1990 (19.90%) Train loss: 8.339 \t Validation loss: 7.840\n",
            "2000 (20.00%) Train loss: 8.338 \t Validation loss: 7.844\n",
            "2010 (20.10%) Train loss: 8.336 \t Validation loss: 7.850\n",
            "2020 (20.20%) Train loss: 8.335 \t Validation loss: 7.854\n",
            "2030 (20.30%) Train loss: 8.334 \t Validation loss: 7.860\n",
            "2040 (20.40%) Train loss: 8.333 \t Validation loss: 7.865\n",
            "2050 (20.50%) Train loss: 8.332 \t Validation loss: 7.870\n",
            "2060 (20.60%) Train loss: 8.332 \t Validation loss: 7.876\n",
            "2070 (20.70%) Train loss: 8.331 \t Validation loss: 7.881\n",
            "2080 (20.80%) Train loss: 8.330 \t Validation loss: 7.886\n",
            "2090 (20.90%) Train loss: 8.329 \t Validation loss: 7.890\n",
            "2100 (21.00%) Train loss: 8.328 \t Validation loss: 7.894\n",
            "2110 (21.10%) Train loss: 8.328 \t Validation loss: 7.899\n",
            "2120 (21.20%) Train loss: 8.327 \t Validation loss: 7.903\n",
            "2130 (21.30%) Train loss: 8.326 \t Validation loss: 7.906\n",
            "2140 (21.40%) Train loss: 8.325 \t Validation loss: 7.911\n",
            "2150 (21.50%) Train loss: 8.325 \t Validation loss: 7.914\n",
            "2160 (21.60%) Train loss: 8.324 \t Validation loss: 7.918\n",
            "2170 (21.70%) Train loss: 8.323 \t Validation loss: 7.921\n",
            "2180 (21.80%) Train loss: 8.323 \t Validation loss: 7.925\n",
            "2190 (21.90%) Train loss: 8.322 \t Validation loss: 7.929\n",
            "2200 (22.00%) Train loss: 8.322 \t Validation loss: 7.932\n",
            "2210 (22.10%) Train loss: 8.321 \t Validation loss: 7.936\n",
            "2220 (22.20%) Train loss: 8.321 \t Validation loss: 7.939\n",
            "2230 (22.30%) Train loss: 8.320 \t Validation loss: 7.943\n",
            "2240 (22.40%) Train loss: 8.320 \t Validation loss: 7.945\n",
            "2250 (22.50%) Train loss: 8.319 \t Validation loss: 7.949\n",
            "2260 (22.60%) Train loss: 8.319 \t Validation loss: 7.953\n",
            "2270 (22.70%) Train loss: 8.318 \t Validation loss: 7.958\n",
            "2280 (22.80%) Train loss: 8.318 \t Validation loss: 7.960\n",
            "2290 (22.90%) Train loss: 8.318 \t Validation loss: 7.964\n",
            "2300 (23.00%) Train loss: 8.317 \t Validation loss: 7.968\n",
            "2310 (23.10%) Train loss: 8.317 \t Validation loss: 7.969\n",
            "2320 (23.20%) Train loss: 8.316 \t Validation loss: 7.975\n",
            "2330 (23.30%) Train loss: 8.316 \t Validation loss: 7.978\n",
            "2340 (23.40%) Train loss: 8.316 \t Validation loss: 7.981\n",
            "2350 (23.50%) Train loss: 8.316 \t Validation loss: 7.984\n",
            "2360 (23.60%) Train loss: 8.315 \t Validation loss: 7.988\n",
            "2370 (23.70%) Train loss: 8.315 \t Validation loss: 7.988\n",
            "2380 (23.80%) Train loss: 8.315 \t Validation loss: 7.993\n",
            "2390 (23.90%) Train loss: 8.314 \t Validation loss: 7.995\n",
            "2400 (24.00%) Train loss: 8.314 \t Validation loss: 8.003\n",
            "2410 (24.10%) Train loss: 8.314 \t Validation loss: 8.002\n",
            "2420 (24.20%) Train loss: 8.314 \t Validation loss: 8.006\n",
            "2430 (24.30%) Train loss: 8.314 \t Validation loss: 8.007\n",
            "2440 (24.40%) Train loss: 8.314 \t Validation loss: 8.011\n",
            "2450 (24.50%) Train loss: 8.313 \t Validation loss: 8.016\n",
            "2460 (24.60%) Train loss: 8.313 \t Validation loss: 8.015\n",
            "2470 (24.70%) Train loss: 8.313 \t Validation loss: 8.016\n",
            "2480 (24.80%) Train loss: 8.313 \t Validation loss: 8.021\n",
            "2490 (24.90%) Train loss: 8.313 \t Validation loss: 8.021\n",
            "2500 (25.00%) Train loss: 8.313 \t Validation loss: 8.026\n",
            "2510 (25.10%) Train loss: 8.312 \t Validation loss: 8.029\n",
            "2520 (25.20%) Train loss: 8.312 \t Validation loss: 8.033\n",
            "2530 (25.30%) Train loss: 8.312 \t Validation loss: 8.034\n",
            "2540 (25.40%) Train loss: 8.312 \t Validation loss: 8.038\n",
            "2550 (25.50%) Train loss: 8.312 \t Validation loss: 8.037\n",
            "2560 (25.60%) Train loss: 8.312 \t Validation loss: 8.039\n",
            "2570 (25.70%) Train loss: 8.312 \t Validation loss: 8.041\n",
            "2580 (25.80%) Train loss: 8.311 \t Validation loss: 8.042\n",
            "2590 (25.90%) Train loss: 8.311 \t Validation loss: 8.044\n",
            "2600 (26.00%) Train loss: 8.311 \t Validation loss: 8.043\n",
            "2610 (26.10%) Train loss: 8.311 \t Validation loss: 8.050\n",
            "2620 (26.20%) Train loss: 8.311 \t Validation loss: 8.051\n",
            "2630 (26.30%) Train loss: 8.311 \t Validation loss: 8.052\n",
            "2640 (26.40%) Train loss: 8.311 \t Validation loss: 8.051\n",
            "2650 (26.50%) Train loss: 8.311 \t Validation loss: 8.056\n",
            "2660 (26.60%) Train loss: 8.311 \t Validation loss: 8.057\n",
            "2670 (26.70%) Train loss: 8.311 \t Validation loss: 8.063\n",
            "2680 (26.80%) Train loss: 8.311 \t Validation loss: 8.061\n",
            "2690 (26.90%) Train loss: 8.311 \t Validation loss: 8.059\n",
            "2700 (27.00%) Train loss: 8.311 \t Validation loss: 8.062\n",
            "2710 (27.10%) Train loss: 8.310 \t Validation loss: 8.062\n",
            "2720 (27.20%) Train loss: 8.311 \t Validation loss: 8.065\n",
            "2730 (27.30%) Train loss: 8.310 \t Validation loss: 8.065\n",
            "2740 (27.40%) Train loss: 8.310 \t Validation loss: 8.070\n",
            "2750 (27.50%) Train loss: 8.310 \t Validation loss: 8.070\n",
            "2760 (27.60%) Train loss: 8.310 \t Validation loss: 8.072\n",
            "2770 (27.70%) Train loss: 8.310 \t Validation loss: 8.077\n",
            "2780 (27.80%) Train loss: 8.310 \t Validation loss: 8.074\n",
            "2790 (27.90%) Train loss: 8.310 \t Validation loss: 8.076\n",
            "2800 (28.00%) Train loss: 8.310 \t Validation loss: 8.077\n",
            "2810 (28.10%) Train loss: 8.310 \t Validation loss: 8.078\n",
            "2820 (28.20%) Train loss: 8.310 \t Validation loss: 8.080\n",
            "2830 (28.30%) Train loss: 8.310 \t Validation loss: 8.080\n",
            "2840 (28.40%) Train loss: 8.310 \t Validation loss: 8.082\n",
            "2850 (28.50%) Train loss: 8.310 \t Validation loss: 8.083\n",
            "2860 (28.60%) Train loss: 8.310 \t Validation loss: 8.087\n",
            "2870 (28.70%) Train loss: 8.310 \t Validation loss: 8.085\n",
            "2880 (28.80%) Train loss: 8.310 \t Validation loss: 8.086\n",
            "2890 (28.90%) Train loss: 8.310 \t Validation loss: 8.085\n",
            "2900 (29.00%) Train loss: 8.310 \t Validation loss: 8.087\n",
            "2910 (29.10%) Train loss: 8.310 \t Validation loss: 8.093\n",
            "2920 (29.20%) Train loss: 8.310 \t Validation loss: 8.094\n",
            "2930 (29.30%) Train loss: 8.310 \t Validation loss: 8.090\n",
            "2940 (29.40%) Train loss: 8.310 \t Validation loss: 8.091\n",
            "2950 (29.50%) Train loss: 8.310 \t Validation loss: 8.093\n",
            "2960 (29.60%) Train loss: 8.310 \t Validation loss: 8.092\n",
            "2970 (29.70%) Train loss: 8.310 \t Validation loss: 8.095\n",
            "2980 (29.80%) Train loss: 8.310 \t Validation loss: 8.096\n",
            "2990 (29.90%) Train loss: 8.310 \t Validation loss: 8.097\n",
            "3000 (30.00%) Train loss: 8.310 \t Validation loss: 8.100\n",
            "3010 (30.10%) Train loss: 8.310 \t Validation loss: 8.099\n",
            "3020 (30.20%) Train loss: 8.310 \t Validation loss: 8.100\n",
            "3030 (30.30%) Train loss: 8.310 \t Validation loss: 8.103\n",
            "3040 (30.40%) Train loss: 8.310 \t Validation loss: 8.104\n",
            "3050 (30.50%) Train loss: 8.310 \t Validation loss: 8.103\n",
            "3060 (30.60%) Train loss: 8.310 \t Validation loss: 8.103\n",
            "3070 (30.70%) Train loss: 8.310 \t Validation loss: 8.106\n",
            "3080 (30.80%) Train loss: 8.310 \t Validation loss: 8.106\n",
            "3090 (30.90%) Train loss: 8.310 \t Validation loss: 8.105\n",
            "3100 (31.00%) Train loss: 8.310 \t Validation loss: 8.107\n",
            "3110 (31.10%) Train loss: 8.310 \t Validation loss: 8.105\n",
            "3120 (31.20%) Train loss: 8.310 \t Validation loss: 8.106\n",
            "3130 (31.30%) Train loss: 8.310 \t Validation loss: 8.104\n",
            "3140 (31.40%) Train loss: 8.310 \t Validation loss: 8.107\n",
            "3150 (31.50%) Train loss: 8.309 \t Validation loss: 8.107\n",
            "3160 (31.60%) Train loss: 8.309 \t Validation loss: 8.107\n",
            "3170 (31.70%) Train loss: 8.309 \t Validation loss: 8.105\n",
            "3180 (31.80%) Train loss: 8.309 \t Validation loss: 8.108\n",
            "3190 (31.90%) Train loss: 8.309 \t Validation loss: 8.113\n",
            "3200 (32.00%) Train loss: 8.309 \t Validation loss: 8.111\n",
            "3210 (32.10%) Train loss: 8.310 \t Validation loss: 8.111\n",
            "3220 (32.20%) Train loss: 8.309 \t Validation loss: 8.111\n",
            "3230 (32.30%) Train loss: 8.309 \t Validation loss: 8.109\n",
            "3240 (32.40%) Train loss: 8.309 \t Validation loss: 8.111\n",
            "3250 (32.50%) Train loss: 8.309 \t Validation loss: 8.112\n",
            "3260 (32.60%) Train loss: 8.309 \t Validation loss: 8.114\n",
            "3270 (32.70%) Train loss: 8.310 \t Validation loss: 8.114\n",
            "3280 (32.80%) Train loss: 8.310 \t Validation loss: 8.113\n",
            "3290 (32.90%) Train loss: 8.309 \t Validation loss: 8.111\n",
            "3300 (33.00%) Train loss: 8.309 \t Validation loss: 8.114\n",
            "3310 (33.10%) Train loss: 8.309 \t Validation loss: 8.118\n",
            "3320 (33.20%) Train loss: 8.309 \t Validation loss: 8.116\n",
            "3330 (33.30%) Train loss: 8.309 \t Validation loss: 8.116\n",
            "3340 (33.40%) Train loss: 8.309 \t Validation loss: 8.115\n",
            "3350 (33.50%) Train loss: 8.309 \t Validation loss: 8.113\n",
            "3360 (33.60%) Train loss: 8.309 \t Validation loss: 8.120\n",
            "3370 (33.70%) Train loss: 8.310 \t Validation loss: 8.115\n",
            "3380 (33.80%) Train loss: 8.309 \t Validation loss: 8.117\n",
            "3390 (33.90%) Train loss: 8.309 \t Validation loss: 8.117\n",
            "3400 (34.00%) Train loss: 8.309 \t Validation loss: 8.119\n",
            "3410 (34.10%) Train loss: 8.309 \t Validation loss: 8.118\n",
            "3420 (34.20%) Train loss: 8.309 \t Validation loss: 8.118\n",
            "3430 (34.30%) Train loss: 8.309 \t Validation loss: 8.116\n",
            "3440 (34.40%) Train loss: 8.309 \t Validation loss: 8.122\n",
            "3450 (34.50%) Train loss: 8.309 \t Validation loss: 8.117\n",
            "3460 (34.60%) Train loss: 8.309 \t Validation loss: 8.119\n",
            "3470 (34.70%) Train loss: 8.309 \t Validation loss: 8.124\n",
            "3480 (34.80%) Train loss: 8.310 \t Validation loss: 8.121\n",
            "3490 (34.90%) Train loss: 8.309 \t Validation loss: 8.120\n",
            "3500 (35.00%) Train loss: 8.309 \t Validation loss: 8.122\n",
            "3510 (35.10%) Train loss: 8.309 \t Validation loss: 8.121\n",
            "3520 (35.20%) Train loss: 8.309 \t Validation loss: 8.119\n",
            "3530 (35.30%) Train loss: 8.309 \t Validation loss: 8.121\n",
            "3540 (35.40%) Train loss: 8.309 \t Validation loss: 8.124\n",
            "3550 (35.50%) Train loss: 8.309 \t Validation loss: 8.120\n",
            "3560 (35.60%) Train loss: 8.309 \t Validation loss: 8.121\n",
            "3570 (35.70%) Train loss: 8.309 \t Validation loss: 8.124\n",
            "3580 (35.80%) Train loss: 8.309 \t Validation loss: 8.123\n",
            "3590 (35.90%) Train loss: 8.309 \t Validation loss: 8.122\n",
            "3600 (36.00%) Train loss: 8.309 \t Validation loss: 8.124\n",
            "3610 (36.10%) Train loss: 8.309 \t Validation loss: 8.123\n",
            "3620 (36.20%) Train loss: 8.309 \t Validation loss: 8.122\n",
            "3630 (36.30%) Train loss: 8.309 \t Validation loss: 8.125\n",
            "3640 (36.40%) Train loss: 8.309 \t Validation loss: 8.124\n",
            "3650 (36.50%) Train loss: 8.309 \t Validation loss: 8.123\n",
            "3660 (36.60%) Train loss: 8.309 \t Validation loss: 8.125\n",
            "3670 (36.70%) Train loss: 8.309 \t Validation loss: 8.124\n",
            "3680 (36.80%) Train loss: 8.309 \t Validation loss: 8.122\n",
            "3690 (36.90%) Train loss: 8.309 \t Validation loss: 8.128\n",
            "3700 (37.00%) Train loss: 8.309 \t Validation loss: 8.123\n",
            "3710 (37.10%) Train loss: 8.309 \t Validation loss: 8.124\n",
            "3720 (37.20%) Train loss: 8.309 \t Validation loss: 8.126\n",
            "3730 (37.30%) Train loss: 8.309 \t Validation loss: 8.125\n",
            "3740 (37.40%) Train loss: 8.309 \t Validation loss: 8.124\n",
            "3750 (37.50%) Train loss: 8.309 \t Validation loss: 8.127\n",
            "3760 (37.60%) Train loss: 8.309 \t Validation loss: 8.126\n",
            "3770 (37.70%) Train loss: 8.309 \t Validation loss: 8.125\n",
            "3780 (37.80%) Train loss: 8.309 \t Validation loss: 8.127\n",
            "3790 (37.90%) Train loss: 8.309 \t Validation loss: 8.126\n",
            "3800 (38.00%) Train loss: 8.309 \t Validation loss: 8.124\n",
            "3810 (38.10%) Train loss: 8.309 \t Validation loss: 8.129\n",
            "3820 (38.20%) Train loss: 8.309 \t Validation loss: 8.124\n",
            "3830 (38.30%) Train loss: 8.309 \t Validation loss: 8.130\n",
            "3840 (38.40%) Train loss: 8.309 \t Validation loss: 8.125\n",
            "3850 (38.50%) Train loss: 8.309 \t Validation loss: 8.126\n",
            "3860 (38.60%) Train loss: 8.309 \t Validation loss: 8.128\n",
            "3870 (38.70%) Train loss: 8.309 \t Validation loss: 8.127\n",
            "3880 (38.80%) Train loss: 8.309 \t Validation loss: 8.127\n",
            "3890 (38.90%) Train loss: 8.309 \t Validation loss: 8.128\n",
            "3900 (39.00%) Train loss: 8.309 \t Validation loss: 8.127\n",
            "3910 (39.10%) Train loss: 8.309 \t Validation loss: 8.127\n",
            "3920 (39.20%) Train loss: 8.310 \t Validation loss: 8.126\n",
            "3930 (39.30%) Train loss: 8.309 \t Validation loss: 8.127\n",
            "3940 (39.40%) Train loss: 8.309 \t Validation loss: 8.129\n",
            "3950 (39.50%) Train loss: 8.309 \t Validation loss: 8.128\n",
            "3960 (39.60%) Train loss: 8.309 \t Validation loss: 8.128\n",
            "3970 (39.70%) Train loss: 8.309 \t Validation loss: 8.128\n",
            "3980 (39.80%) Train loss: 8.309 \t Validation loss: 8.127\n",
            "3990 (39.90%) Train loss: 8.309 \t Validation loss: 8.131\n",
            "4000 (40.00%) Train loss: 8.309 \t Validation loss: 8.128\n",
            "4010 (40.10%) Train loss: 8.309 \t Validation loss: 8.128\n",
            "4020 (40.20%) Train loss: 8.309 \t Validation loss: 8.127\n",
            "4030 (40.30%) Train loss: 8.309 \t Validation loss: 8.128\n",
            "4040 (40.40%) Train loss: 8.309 \t Validation loss: 8.130\n",
            "4050 (40.50%) Train loss: 8.309 \t Validation loss: 8.128\n",
            "4060 (40.60%) Train loss: 8.309 \t Validation loss: 8.128\n",
            "4070 (40.70%) Train loss: 8.309 \t Validation loss: 8.129\n",
            "4080 (40.80%) Train loss: 8.309 \t Validation loss: 8.128\n",
            "4090 (40.90%) Train loss: 8.309 \t Validation loss: 8.130\n",
            "4100 (41.00%) Train loss: 8.309 \t Validation loss: 8.129\n",
            "4110 (41.10%) Train loss: 8.309 \t Validation loss: 8.131\n",
            "4120 (41.20%) Train loss: 8.309 \t Validation loss: 8.129\n",
            "4130 (41.30%) Train loss: 8.309 \t Validation loss: 8.127\n",
            "4140 (41.40%) Train loss: 8.309 \t Validation loss: 8.132\n",
            "4150 (41.50%) Train loss: 8.309 \t Validation loss: 8.127\n",
            "4160 (41.60%) Train loss: 8.309 \t Validation loss: 8.132\n",
            "4170 (41.70%) Train loss: 8.309 \t Validation loss: 8.127\n",
            "4180 (41.80%) Train loss: 8.309 \t Validation loss: 8.129\n",
            "4190 (41.90%) Train loss: 8.309 \t Validation loss: 8.128\n",
            "4200 (42.00%) Train loss: 8.309 \t Validation loss: 8.128\n",
            "4210 (42.10%) Train loss: 8.309 \t Validation loss: 8.130\n",
            "4220 (42.20%) Train loss: 8.309 \t Validation loss: 8.129\n",
            "4230 (42.30%) Train loss: 8.309 \t Validation loss: 8.133\n",
            "4240 (42.40%) Train loss: 8.309 \t Validation loss: 8.130\n",
            "4250 (42.50%) Train loss: 8.309 \t Validation loss: 8.129\n",
            "4260 (42.60%) Train loss: 8.309 \t Validation loss: 8.130\n",
            "4270 (42.70%) Train loss: 8.309 \t Validation loss: 8.129\n",
            "4280 (42.80%) Train loss: 8.309 \t Validation loss: 8.131\n",
            "4290 (42.90%) Train loss: 8.309 \t Validation loss: 8.130\n",
            "4300 (43.00%) Train loss: 8.309 \t Validation loss: 8.127\n",
            "4310 (43.10%) Train loss: 8.309 \t Validation loss: 8.130\n",
            "4320 (43.20%) Train loss: 8.309 \t Validation loss: 8.129\n",
            "4330 (43.30%) Train loss: 8.309 \t Validation loss: 8.133\n",
            "4340 (43.40%) Train loss: 8.309 \t Validation loss: 8.128\n",
            "4350 (43.50%) Train loss: 8.309 \t Validation loss: 8.133\n",
            "4360 (43.60%) Train loss: 8.309 \t Validation loss: 8.128\n",
            "4370 (43.70%) Train loss: 8.309 \t Validation loss: 8.130\n",
            "4380 (43.80%) Train loss: 8.309 \t Validation loss: 8.128\n",
            "4390 (43.90%) Train loss: 8.309 \t Validation loss: 8.130\n",
            "4400 (44.00%) Train loss: 8.309 \t Validation loss: 8.131\n",
            "4410 (44.10%) Train loss: 8.309 \t Validation loss: 8.130\n",
            "4420 (44.20%) Train loss: 8.309 \t Validation loss: 8.131\n",
            "4430 (44.30%) Train loss: 8.309 \t Validation loss: 8.130\n",
            "4440 (44.40%) Train loss: 8.309 \t Validation loss: 8.130\n",
            "4450 (44.50%) Train loss: 8.309 \t Validation loss: 8.131\n",
            "4460 (44.60%) Train loss: 8.309 \t Validation loss: 8.130\n",
            "4470 (44.70%) Train loss: 8.309 \t Validation loss: 8.131\n",
            "4480 (44.80%) Train loss: 8.309 \t Validation loss: 8.130\n",
            "4490 (44.90%) Train loss: 8.309 \t Validation loss: 8.132\n",
            "4500 (45.00%) Train loss: 8.309 \t Validation loss: 8.130\n",
            "4510 (45.10%) Train loss: 8.309 \t Validation loss: 8.128\n",
            "4520 (45.20%) Train loss: 8.309 \t Validation loss: 8.131\n",
            "4530 (45.30%) Train loss: 8.309 \t Validation loss: 8.128\n",
            "4540 (45.40%) Train loss: 8.309 \t Validation loss: 8.133\n",
            "4550 (45.50%) Train loss: 8.309 \t Validation loss: 8.128\n",
            "4560 (45.60%) Train loss: 8.309 \t Validation loss: 8.134\n",
            "4570 (45.70%) Train loss: 8.309 \t Validation loss: 8.128\n",
            "4580 (45.80%) Train loss: 8.309 \t Validation loss: 8.134\n",
            "4590 (45.90%) Train loss: 8.309 \t Validation loss: 8.128\n",
            "4600 (46.00%) Train loss: 8.309 \t Validation loss: 8.130\n",
            "4610 (46.10%) Train loss: 8.309 \t Validation loss: 8.129\n",
            "4620 (46.20%) Train loss: 8.309 \t Validation loss: 8.130\n",
            "4630 (46.30%) Train loss: 8.309 \t Validation loss: 8.131\n",
            "4640 (46.40%) Train loss: 8.309 \t Validation loss: 8.130\n",
            "4650 (46.50%) Train loss: 8.309 \t Validation loss: 8.132\n",
            "4660 (46.60%) Train loss: 8.309 \t Validation loss: 8.130\n",
            "4670 (46.70%) Train loss: 8.309 \t Validation loss: 8.130\n",
            "4680 (46.80%) Train loss: 8.309 \t Validation loss: 8.131\n",
            "4690 (46.90%) Train loss: 8.309 \t Validation loss: 8.130\n",
            "4700 (47.00%) Train loss: 8.309 \t Validation loss: 8.131\n",
            "4710 (47.10%) Train loss: 8.309 \t Validation loss: 8.130\n",
            "4720 (47.20%) Train loss: 8.309 \t Validation loss: 8.132\n",
            "4730 (47.30%) Train loss: 8.309 \t Validation loss: 8.130\n",
            "4740 (47.40%) Train loss: 8.309 \t Validation loss: 8.133\n",
            "4750 (47.50%) Train loss: 8.309 \t Validation loss: 8.131\n",
            "4760 (47.60%) Train loss: 8.309 \t Validation loss: 8.128\n",
            "4770 (47.70%) Train loss: 8.309 \t Validation loss: 8.131\n",
            "4780 (47.80%) Train loss: 8.309 \t Validation loss: 8.129\n",
            "4790 (47.90%) Train loss: 8.309 \t Validation loss: 8.134\n",
            "4800 (48.00%) Train loss: 8.309 \t Validation loss: 8.129\n",
            "4810 (48.10%) Train loss: 8.309 \t Validation loss: 8.134\n",
            "4820 (48.20%) Train loss: 8.309 \t Validation loss: 8.129\n",
            "4830 (48.30%) Train loss: 8.309 \t Validation loss: 8.134\n",
            "4840 (48.40%) Train loss: 8.309 \t Validation loss: 8.129\n",
            "4850 (48.50%) Train loss: 8.309 \t Validation loss: 8.135\n",
            "4860 (48.60%) Train loss: 8.309 \t Validation loss: 8.131\n",
            "4870 (48.70%) Train loss: 8.309 \t Validation loss: 8.131\n",
            "4880 (48.80%) Train loss: 8.309 \t Validation loss: 8.132\n",
            "4890 (48.90%) Train loss: 8.309 \t Validation loss: 8.131\n",
            "4900 (49.00%) Train loss: 8.309 \t Validation loss: 8.132\n",
            "4910 (49.10%) Train loss: 8.309 \t Validation loss: 8.131\n",
            "4920 (49.20%) Train loss: 8.309 \t Validation loss: 8.133\n",
            "4930 (49.30%) Train loss: 8.309 \t Validation loss: 8.131\n",
            "4940 (49.40%) Train loss: 8.309 \t Validation loss: 8.131\n",
            "4950 (49.50%) Train loss: 8.309 \t Validation loss: 8.132\n",
            "4960 (49.60%) Train loss: 8.309 \t Validation loss: 8.131\n",
            "4970 (49.70%) Train loss: 8.309 \t Validation loss: 8.132\n",
            "4980 (49.80%) Train loss: 8.309 \t Validation loss: 8.131\n",
            "4990 (49.90%) Train loss: 8.309 \t Validation loss: 8.132\n",
            "5000 (50.00%) Train loss: 8.309 \t Validation loss: 8.131\n",
            "5010 (50.10%) Train loss: 8.309 \t Validation loss: 8.133\n",
            "5020 (50.20%) Train loss: 8.309 \t Validation loss: 8.131\n",
            "5030 (50.30%) Train loss: 8.309 \t Validation loss: 8.129\n",
            "5040 (50.40%) Train loss: 8.309 \t Validation loss: 8.131\n",
            "5050 (50.50%) Train loss: 8.309 \t Validation loss: 8.129\n",
            "5060 (50.60%) Train loss: 8.309 \t Validation loss: 8.134\n",
            "5070 (50.70%) Train loss: 8.309 \t Validation loss: 8.129\n",
            "5080 (50.80%) Train loss: 8.309 \t Validation loss: 8.134\n",
            "5090 (50.90%) Train loss: 8.309 \t Validation loss: 8.129\n",
            "5100 (51.00%) Train loss: 8.309 \t Validation loss: 8.134\n",
            "5110 (51.10%) Train loss: 8.309 \t Validation loss: 8.131\n",
            "5120 (51.20%) Train loss: 8.309 \t Validation loss: 8.135\n",
            "5130 (51.30%) Train loss: 8.309 \t Validation loss: 8.131\n",
            "5140 (51.40%) Train loss: 8.309 \t Validation loss: 8.131\n",
            "5150 (51.50%) Train loss: 8.309 \t Validation loss: 8.130\n",
            "5160 (51.60%) Train loss: 8.309 \t Validation loss: 8.131\n",
            "5170 (51.70%) Train loss: 8.309 \t Validation loss: 8.132\n",
            "5180 (51.80%) Train loss: 8.309 \t Validation loss: 8.131\n",
            "5190 (51.90%) Train loss: 8.309 \t Validation loss: 8.132\n",
            "5200 (52.00%) Train loss: 8.309 \t Validation loss: 8.131\n",
            "5210 (52.10%) Train loss: 8.309 \t Validation loss: 8.135\n",
            "5220 (52.20%) Train loss: 8.309 \t Validation loss: 8.131\n",
            "5230 (52.30%) Train loss: 8.309 \t Validation loss: 8.131\n",
            "5240 (52.40%) Train loss: 8.310 \t Validation loss: 8.130\n",
            "5250 (52.50%) Train loss: 8.309 \t Validation loss: 8.131\n",
            "5260 (52.60%) Train loss: 8.309 \t Validation loss: 8.132\n",
            "5270 (52.70%) Train loss: 8.309 \t Validation loss: 8.131\n",
            "5280 (52.80%) Train loss: 8.309 \t Validation loss: 8.132\n",
            "5290 (52.90%) Train loss: 8.309 \t Validation loss: 8.131\n",
            "5300 (53.00%) Train loss: 8.309 \t Validation loss: 8.133\n",
            "5310 (53.10%) Train loss: 8.309 \t Validation loss: 8.131\n",
            "5320 (53.20%) Train loss: 8.309 \t Validation loss: 8.131\n",
            "5330 (53.30%) Train loss: 8.309 \t Validation loss: 8.131\n",
            "5340 (53.40%) Train loss: 8.309 \t Validation loss: 8.131\n",
            "5350 (53.50%) Train loss: 8.309 \t Validation loss: 8.132\n",
            "5360 (53.60%) Train loss: 8.309 \t Validation loss: 8.131\n",
            "5370 (53.70%) Train loss: 8.309 \t Validation loss: 8.134\n",
            "5380 (53.80%) Train loss: 8.309 \t Validation loss: 8.132\n",
            "5390 (53.90%) Train loss: 8.309 \t Validation loss: 8.132\n",
            "5400 (54.00%) Train loss: 8.309 \t Validation loss: 8.131\n",
            "5410 (54.10%) Train loss: 8.309 \t Validation loss: 8.135\n",
            "5420 (54.20%) Train loss: 8.309 \t Validation loss: 8.131\n",
            "5430 (54.30%) Train loss: 8.309 \t Validation loss: 8.131\n",
            "5440 (54.40%) Train loss: 8.309 \t Validation loss: 8.130\n",
            "5450 (54.50%) Train loss: 8.309 \t Validation loss: 8.131\n",
            "5460 (54.60%) Train loss: 8.309 \t Validation loss: 8.132\n",
            "5470 (54.70%) Train loss: 8.309 \t Validation loss: 8.131\n",
            "5480 (54.80%) Train loss: 8.309 \t Validation loss: 8.133\n",
            "5490 (54.90%) Train loss: 8.309 \t Validation loss: 8.131\n",
            "5500 (55.00%) Train loss: 8.309 \t Validation loss: 8.135\n",
            "5510 (55.10%) Train loss: 8.309 \t Validation loss: 8.131\n",
            "5520 (55.20%) Train loss: 8.309 \t Validation loss: 8.131\n",
            "5530 (55.30%) Train loss: 8.309 \t Validation loss: 8.132\n",
            "5540 (55.40%) Train loss: 8.309 \t Validation loss: 8.131\n",
            "5550 (55.50%) Train loss: 8.309 \t Validation loss: 8.132\n",
            "5560 (55.60%) Train loss: 8.309 \t Validation loss: 8.131\n",
            "5570 (55.70%) Train loss: 8.309 \t Validation loss: 8.132\n",
            "5580 (55.80%) Train loss: 8.309 \t Validation loss: 8.131\n",
            "5590 (55.90%) Train loss: 8.309 \t Validation loss: 8.133\n",
            "5600 (56.00%) Train loss: 8.309 \t Validation loss: 8.131\n",
            "5610 (56.10%) Train loss: 8.309 \t Validation loss: 8.131\n",
            "5620 (56.20%) Train loss: 8.309 \t Validation loss: 8.131\n",
            "5630 (56.30%) Train loss: 8.309 \t Validation loss: 8.131\n",
            "5640 (56.40%) Train loss: 8.309 \t Validation loss: 8.132\n",
            "5650 (56.50%) Train loss: 8.309 \t Validation loss: 8.131\n",
            "5660 (56.60%) Train loss: 8.309 \t Validation loss: 8.134\n",
            "5670 (56.70%) Train loss: 8.309 \t Validation loss: 8.132\n",
            "5680 (56.80%) Train loss: 8.309 \t Validation loss: 8.133\n",
            "5690 (56.90%) Train loss: 8.309 \t Validation loss: 8.131\n",
            "5700 (57.00%) Train loss: 8.309 \t Validation loss: 8.135\n",
            "5710 (57.10%) Train loss: 8.309 \t Validation loss: 8.131\n",
            "5720 (57.20%) Train loss: 8.309 \t Validation loss: 8.131\n",
            "5730 (57.30%) Train loss: 8.309 \t Validation loss: 8.132\n",
            "5740 (57.40%) Train loss: 8.309 \t Validation loss: 8.131\n",
            "5750 (57.50%) Train loss: 8.309 \t Validation loss: 8.132\n",
            "5760 (57.60%) Train loss: 8.309 \t Validation loss: 8.131\n",
            "5770 (57.70%) Train loss: 8.309 \t Validation loss: 8.132\n",
            "5780 (57.80%) Train loss: 8.309 \t Validation loss: 8.131\n",
            "5790 (57.90%) Train loss: 8.309 \t Validation loss: 8.135\n",
            "5800 (58.00%) Train loss: 8.309 \t Validation loss: 8.131\n",
            "5810 (58.10%) Train loss: 8.309 \t Validation loss: 8.131\n",
            "5820 (58.20%) Train loss: 8.309 \t Validation loss: 8.130\n",
            "5830 (58.30%) Train loss: 8.309 \t Validation loss: 8.131\n",
            "5840 (58.40%) Train loss: 8.309 \t Validation loss: 8.132\n",
            "5850 (58.50%) Train loss: 8.309 \t Validation loss: 8.132\n",
            "5860 (58.60%) Train loss: 8.309 \t Validation loss: 8.133\n",
            "5870 (58.70%) Train loss: 8.309 \t Validation loss: 8.131\n",
            "5880 (58.80%) Train loss: 8.309 \t Validation loss: 8.133\n",
            "5890 (58.90%) Train loss: 8.309 \t Validation loss: 8.131\n",
            "5900 (59.00%) Train loss: 8.309 \t Validation loss: 8.131\n",
            "5910 (59.10%) Train loss: 8.309 \t Validation loss: 8.131\n",
            "5920 (59.20%) Train loss: 8.309 \t Validation loss: 8.131\n",
            "5930 (59.30%) Train loss: 8.309 \t Validation loss: 8.130\n",
            "5940 (59.40%) Train loss: 8.309 \t Validation loss: 8.131\n",
            "5950 (59.50%) Train loss: 8.309 \t Validation loss: 8.132\n",
            "5960 (59.60%) Train loss: 8.309 \t Validation loss: 8.132\n",
            "5970 (59.70%) Train loss: 8.309 \t Validation loss: 8.133\n",
            "5980 (59.80%) Train loss: 8.309 \t Validation loss: 8.132\n",
            "5990 (59.90%) Train loss: 8.309 \t Validation loss: 8.133\n",
            "6000 (60.00%) Train loss: 8.309 \t Validation loss: 8.131\n",
            "6010 (60.10%) Train loss: 8.309 \t Validation loss: 8.131\n",
            "6020 (60.20%) Train loss: 8.309 \t Validation loss: 8.132\n",
            "6030 (60.30%) Train loss: 8.309 \t Validation loss: 8.131\n",
            "6040 (60.40%) Train loss: 8.309 \t Validation loss: 8.132\n",
            "6050 (60.50%) Train loss: 8.309 \t Validation loss: 8.131\n",
            "6060 (60.60%) Train loss: 8.309 \t Validation loss: 8.132\n",
            "6070 (60.70%) Train loss: 8.309 \t Validation loss: 8.132\n",
            "6080 (60.80%) Train loss: 8.309 \t Validation loss: 8.133\n",
            "6090 (60.90%) Train loss: 8.309 \t Validation loss: 8.131\n",
            "6100 (61.00%) Train loss: 8.309 \t Validation loss: 8.130\n",
            "6110 (61.10%) Train loss: 8.309 \t Validation loss: 8.132\n",
            "6120 (61.20%) Train loss: 8.309 \t Validation loss: 8.131\n",
            "6130 (61.30%) Train loss: 8.309 \t Validation loss: 8.134\n",
            "6140 (61.40%) Train loss: 8.309 \t Validation loss: 8.131\n",
            "6150 (61.50%) Train loss: 8.309 \t Validation loss: 8.135\n",
            "6160 (61.60%) Train loss: 8.309 \t Validation loss: 8.132\n",
            "6170 (61.70%) Train loss: 8.309 \t Validation loss: 8.135\n",
            "6180 (61.80%) Train loss: 8.309 \t Validation loss: 8.129\n",
            "6190 (61.90%) Train loss: 8.309 \t Validation loss: 8.135\n",
            "6200 (62.00%) Train loss: 8.309 \t Validation loss: 8.129\n",
            "6210 (62.10%) Train loss: 8.309 \t Validation loss: 8.131\n",
            "6220 (62.20%) Train loss: 8.309 \t Validation loss: 8.130\n",
            "6230 (62.30%) Train loss: 8.309 \t Validation loss: 8.131\n",
            "6240 (62.40%) Train loss: 8.309 \t Validation loss: 8.130\n",
            "6250 (62.50%) Train loss: 8.309 \t Validation loss: 8.131\n",
            "6260 (62.60%) Train loss: 8.309 \t Validation loss: 8.132\n",
            "6270 (62.70%) Train loss: 8.309 \t Validation loss: 8.132\n",
            "6280 (62.80%) Train loss: 8.309 \t Validation loss: 8.132\n",
            "6290 (62.90%) Train loss: 8.309 \t Validation loss: 8.132\n",
            "6300 (63.00%) Train loss: 8.309 \t Validation loss: 8.135\n",
            "6310 (63.10%) Train loss: 8.309 \t Validation loss: 8.131\n",
            "6320 (63.20%) Train loss: 8.309 \t Validation loss: 8.130\n",
            "6330 (63.30%) Train loss: 8.309 \t Validation loss: 8.130\n",
            "6340 (63.40%) Train loss: 8.309 \t Validation loss: 8.131\n",
            "6350 (63.50%) Train loss: 8.309 \t Validation loss: 8.132\n",
            "6360 (63.60%) Train loss: 8.309 \t Validation loss: 8.132\n",
            "6370 (63.70%) Train loss: 8.309 \t Validation loss: 8.132\n",
            "6380 (63.80%) Train loss: 8.309 \t Validation loss: 8.132\n",
            "6390 (63.90%) Train loss: 8.309 \t Validation loss: 8.133\n",
            "6400 (64.00%) Train loss: 8.309 \t Validation loss: 8.132\n",
            "6410 (64.10%) Train loss: 8.309 \t Validation loss: 8.131\n",
            "6420 (64.20%) Train loss: 8.309 \t Validation loss: 8.132\n",
            "6430 (64.30%) Train loss: 8.309 \t Validation loss: 8.131\n",
            "6440 (64.40%) Train loss: 8.309 \t Validation loss: 8.134\n",
            "6450 (64.50%) Train loss: 8.309 \t Validation loss: 8.131\n",
            "6460 (64.60%) Train loss: 8.309 \t Validation loss: 8.134\n",
            "6470 (64.70%) Train loss: 8.309 \t Validation loss: 8.132\n",
            "6480 (64.80%) Train loss: 8.309 \t Validation loss: 8.135\n",
            "6490 (64.90%) Train loss: 8.309 \t Validation loss: 8.130\n",
            "6500 (65.00%) Train loss: 8.309 \t Validation loss: 8.135\n",
            "6510 (65.10%) Train loss: 8.309 \t Validation loss: 8.130\n",
            "6520 (65.20%) Train loss: 8.309 \t Validation loss: 8.131\n",
            "6530 (65.30%) Train loss: 8.309 \t Validation loss: 8.129\n",
            "6540 (65.40%) Train loss: 8.309 \t Validation loss: 8.131\n",
            "6550 (65.50%) Train loss: 8.309 \t Validation loss: 8.132\n",
            "6560 (65.60%) Train loss: 8.309 \t Validation loss: 8.131\n",
            "6570 (65.70%) Train loss: 8.309 \t Validation loss: 8.132\n",
            "6580 (65.80%) Train loss: 8.309 \t Validation loss: 8.132\n",
            "6590 (65.90%) Train loss: 8.309 \t Validation loss: 8.133\n",
            "6600 (66.00%) Train loss: 8.309 \t Validation loss: 8.132\n",
            "6610 (66.10%) Train loss: 8.309 \t Validation loss: 8.135\n",
            "6620 (66.20%) Train loss: 8.309 \t Validation loss: 8.132\n",
            "6630 (66.30%) Train loss: 8.309 \t Validation loss: 8.130\n",
            "6640 (66.40%) Train loss: 8.309 \t Validation loss: 8.132\n",
            "6650 (66.50%) Train loss: 8.309 \t Validation loss: 8.131\n",
            "6660 (66.60%) Train loss: 8.309 \t Validation loss: 8.132\n",
            "6670 (66.70%) Train loss: 8.309 \t Validation loss: 8.132\n",
            "6680 (66.80%) Train loss: 8.309 \t Validation loss: 8.133\n",
            "6690 (66.90%) Train loss: 8.309 \t Validation loss: 8.132\n",
            "6700 (67.00%) Train loss: 8.309 \t Validation loss: 8.133\n",
            "6710 (67.10%) Train loss: 8.309 \t Validation loss: 8.131\n",
            "6720 (67.20%) Train loss: 8.309 \t Validation loss: 8.129\n",
            "6730 (67.30%) Train loss: 8.309 \t Validation loss: 8.132\n",
            "6740 (67.40%) Train loss: 8.309 \t Validation loss: 8.129\n",
            "6750 (67.50%) Train loss: 8.309 \t Validation loss: 8.134\n",
            "6760 (67.60%) Train loss: 8.309 \t Validation loss: 8.129\n",
            "6770 (67.70%) Train loss: 8.309 \t Validation loss: 8.134\n",
            "6780 (67.80%) Train loss: 8.309 \t Validation loss: 8.130\n",
            "6790 (67.90%) Train loss: 8.309 \t Validation loss: 8.135\n",
            "6800 (68.00%) Train loss: 8.309 \t Validation loss: 8.130\n",
            "6810 (68.10%) Train loss: 8.309 \t Validation loss: 8.135\n",
            "6820 (68.20%) Train loss: 8.309 \t Validation loss: 8.130\n",
            "6830 (68.30%) Train loss: 8.309 \t Validation loss: 8.130\n",
            "6840 (68.40%) Train loss: 8.309 \t Validation loss: 8.132\n",
            "6850 (68.50%) Train loss: 8.309 \t Validation loss: 8.131\n",
            "6860 (68.60%) Train loss: 8.309 \t Validation loss: 8.132\n",
            "6870 (68.70%) Train loss: 8.309 \t Validation loss: 8.131\n",
            "6880 (68.80%) Train loss: 8.309 \t Validation loss: 8.132\n",
            "6890 (68.90%) Train loss: 8.309 \t Validation loss: 8.132\n",
            "6900 (69.00%) Train loss: 8.309 \t Validation loss: 8.133\n",
            "6910 (69.10%) Train loss: 8.309 \t Validation loss: 8.132\n",
            "6920 (69.20%) Train loss: 8.309 \t Validation loss: 8.130\n",
            "6930 (69.30%) Train loss: 8.309 \t Validation loss: 8.132\n",
            "6940 (69.40%) Train loss: 8.309 \t Validation loss: 8.130\n",
            "6950 (69.50%) Train loss: 8.309 \t Validation loss: 8.132\n",
            "6960 (69.60%) Train loss: 8.309 \t Validation loss: 8.131\n",
            "6970 (69.70%) Train loss: 8.309 \t Validation loss: 8.132\n",
            "6980 (69.80%) Train loss: 8.309 \t Validation loss: 8.132\n",
            "6990 (69.90%) Train loss: 8.309 \t Validation loss: 8.133\n",
            "7000 (70.00%) Train loss: 8.309 \t Validation loss: 8.132\n",
            "7010 (70.10%) Train loss: 8.309 \t Validation loss: 8.133\n",
            "7020 (70.20%) Train loss: 8.309 \t Validation loss: 8.132\n",
            "7030 (70.30%) Train loss: 8.309 \t Validation loss: 8.128\n",
            "7040 (70.40%) Train loss: 8.309 \t Validation loss: 8.132\n",
            "7050 (70.50%) Train loss: 8.309 \t Validation loss: 8.129\n",
            "7060 (70.60%) Train loss: 8.309 \t Validation loss: 8.132\n",
            "7070 (70.70%) Train loss: 8.309 \t Validation loss: 8.131\n",
            "7080 (70.80%) Train loss: 8.309 \t Validation loss: 8.134\n",
            "7090 (70.90%) Train loss: 8.309 \t Validation loss: 8.132\n",
            "7100 (71.00%) Train loss: 8.309 \t Validation loss: 8.134\n",
            "7110 (71.10%) Train loss: 8.309 \t Validation loss: 8.132\n",
            "7120 (71.20%) Train loss: 8.309 \t Validation loss: 8.135\n",
            "7130 (71.30%) Train loss: 8.309 \t Validation loss: 8.132\n",
            "7140 (71.40%) Train loss: 8.309 \t Validation loss: 8.130\n",
            "7150 (71.50%) Train loss: 8.309 \t Validation loss: 8.130\n",
            "7160 (71.60%) Train loss: 8.309 \t Validation loss: 8.131\n",
            "7170 (71.70%) Train loss: 8.309 \t Validation loss: 8.132\n",
            "7180 (71.80%) Train loss: 8.309 \t Validation loss: 8.131\n",
            "7190 (71.90%) Train loss: 8.309 \t Validation loss: 8.132\n",
            "7200 (72.00%) Train loss: 8.309 \t Validation loss: 8.132\n",
            "7210 (72.10%) Train loss: 8.309 \t Validation loss: 8.133\n",
            "7220 (72.20%) Train loss: 8.309 \t Validation loss: 8.132\n",
            "7230 (72.30%) Train loss: 8.309 \t Validation loss: 8.130\n",
            "7240 (72.40%) Train loss: 8.309 \t Validation loss: 8.132\n",
            "7250 (72.50%) Train loss: 8.309 \t Validation loss: 8.131\n",
            "7260 (72.60%) Train loss: 8.309 \t Validation loss: 8.132\n",
            "7270 (72.70%) Train loss: 8.309 \t Validation loss: 8.131\n",
            "7280 (72.80%) Train loss: 8.309 \t Validation loss: 8.132\n",
            "7290 (72.90%) Train loss: 8.309 \t Validation loss: 8.132\n",
            "7300 (73.00%) Train loss: 8.309 \t Validation loss: 8.132\n",
            "7310 (73.10%) Train loss: 8.309 \t Validation loss: 8.132\n",
            "7320 (73.20%) Train loss: 8.309 \t Validation loss: 8.133\n",
            "7330 (73.30%) Train loss: 8.309 \t Validation loss: 8.132\n",
            "7340 (73.40%) Train loss: 8.309 \t Validation loss: 8.131\n",
            "7350 (73.50%) Train loss: 8.309 \t Validation loss: 8.132\n",
            "7360 (73.60%) Train loss: 8.309 \t Validation loss: 8.131\n",
            "7370 (73.70%) Train loss: 8.309 \t Validation loss: 8.132\n",
            "7380 (73.80%) Train loss: 8.309 \t Validation loss: 8.131\n",
            "7390 (73.90%) Train loss: 8.309 \t Validation loss: 8.134\n",
            "7400 (74.00%) Train loss: 8.309 \t Validation loss: 8.132\n",
            "7410 (74.10%) Train loss: 8.309 \t Validation loss: 8.134\n",
            "7420 (74.20%) Train loss: 8.309 \t Validation loss: 8.132\n",
            "7430 (74.30%) Train loss: 8.309 \t Validation loss: 8.135\n",
            "7440 (74.40%) Train loss: 8.309 \t Validation loss: 8.132\n",
            "7450 (74.50%) Train loss: 8.309 \t Validation loss: 8.130\n",
            "7460 (74.60%) Train loss: 8.309 \t Validation loss: 8.132\n",
            "7470 (74.70%) Train loss: 8.309 \t Validation loss: 8.131\n",
            "7480 (74.80%) Train loss: 8.309 \t Validation loss: 8.132\n",
            "7490 (74.90%) Train loss: 8.309 \t Validation loss: 8.132\n",
            "7500 (75.00%) Train loss: 8.309 \t Validation loss: 8.132\n",
            "7510 (75.10%) Train loss: 8.309 \t Validation loss: 8.132\n",
            "7520 (75.20%) Train loss: 8.309 \t Validation loss: 8.135\n",
            "7530 (75.30%) Train loss: 8.309 \t Validation loss: 8.132\n",
            "7540 (75.40%) Train loss: 8.309 \t Validation loss: 8.130\n",
            "7550 (75.50%) Train loss: 8.309 \t Validation loss: 8.133\n",
            "7560 (75.60%) Train loss: 8.309 \t Validation loss: 8.131\n",
            "7570 (75.70%) Train loss: 8.309 \t Validation loss: 8.132\n",
            "7580 (75.80%) Train loss: 8.309 \t Validation loss: 8.131\n",
            "7590 (75.90%) Train loss: 8.309 \t Validation loss: 8.132\n",
            "7600 (76.00%) Train loss: 8.309 \t Validation loss: 8.132\n",
            "7610 (76.10%) Train loss: 8.309 \t Validation loss: 8.133\n",
            "7620 (76.20%) Train loss: 8.309 \t Validation loss: 8.132\n",
            "7630 (76.30%) Train loss: 8.309 \t Validation loss: 8.131\n",
            "7640 (76.40%) Train loss: 8.309 \t Validation loss: 8.132\n",
            "7650 (76.50%) Train loss: 8.309 \t Validation loss: 8.131\n",
            "7660 (76.60%) Train loss: 8.309 \t Validation loss: 8.132\n",
            "7670 (76.70%) Train loss: 8.309 \t Validation loss: 8.131\n",
            "7680 (76.80%) Train loss: 8.309 \t Validation loss: 8.134\n",
            "7690 (76.90%) Train loss: 8.309 \t Validation loss: 8.131\n",
            "7700 (77.00%) Train loss: 8.309 \t Validation loss: 8.133\n",
            "7710 (77.10%) Train loss: 8.309 \t Validation loss: 8.132\n",
            "7720 (77.20%) Train loss: 8.309 \t Validation loss: 8.133\n",
            "7730 (77.30%) Train loss: 8.309 \t Validation loss: 8.132\n",
            "7740 (77.40%) Train loss: 8.309 \t Validation loss: 8.130\n",
            "7750 (77.50%) Train loss: 8.309 \t Validation loss: 8.132\n",
            "7760 (77.60%) Train loss: 8.309 \t Validation loss: 8.131\n",
            "7770 (77.70%) Train loss: 8.309 \t Validation loss: 8.133\n",
            "7780 (77.80%) Train loss: 8.309 \t Validation loss: 8.131\n",
            "7790 (77.90%) Train loss: 8.309 \t Validation loss: 8.132\n",
            "7800 (78.00%) Train loss: 8.309 \t Validation loss: 8.131\n",
            "7810 (78.10%) Train loss: 8.309 \t Validation loss: 8.133\n",
            "7820 (78.20%) Train loss: 8.309 \t Validation loss: 8.132\n",
            "7830 (78.30%) Train loss: 8.309 \t Validation loss: 8.135\n",
            "7840 (78.40%) Train loss: 8.309 \t Validation loss: 8.132\n",
            "7850 (78.50%) Train loss: 8.309 \t Validation loss: 8.130\n",
            "7860 (78.60%) Train loss: 8.309 \t Validation loss: 8.130\n",
            "7870 (78.70%) Train loss: 8.309 \t Validation loss: 8.131\n",
            "7880 (78.80%) Train loss: 8.309 \t Validation loss: 8.135\n",
            "7890 (78.90%) Train loss: 8.309 \t Validation loss: 8.131\n",
            "7900 (79.00%) Train loss: 8.309 \t Validation loss: 8.134\n",
            "7910 (79.10%) Train loss: 8.309 \t Validation loss: 8.131\n",
            "7920 (79.20%) Train loss: 8.309 \t Validation loss: 8.135\n",
            "7930 (79.30%) Train loss: 8.309 \t Validation loss: 8.130\n",
            "7940 (79.40%) Train loss: 8.309 \t Validation loss: 8.135\n",
            "7950 (79.50%) Train loss: 8.309 \t Validation loss: 8.130\n",
            "7960 (79.60%) Train loss: 8.309 \t Validation loss: 8.131\n",
            "7970 (79.70%) Train loss: 8.309 \t Validation loss: 8.130\n",
            "7980 (79.80%) Train loss: 8.309 \t Validation loss: 8.131\n",
            "7990 (79.90%) Train loss: 8.309 \t Validation loss: 8.133\n",
            "8000 (80.00%) Train loss: 8.309 \t Validation loss: 8.131\n",
            "8010 (80.10%) Train loss: 8.309 \t Validation loss: 8.133\n",
            "8020 (80.20%) Train loss: 8.309 \t Validation loss: 8.131\n",
            "8030 (80.30%) Train loss: 8.309 \t Validation loss: 8.133\n",
            "8040 (80.40%) Train loss: 8.309 \t Validation loss: 8.132\n",
            "8050 (80.50%) Train loss: 8.309 \t Validation loss: 8.135\n",
            "8060 (80.60%) Train loss: 8.309 \t Validation loss: 8.132\n",
            "8070 (80.70%) Train loss: 8.309 \t Validation loss: 8.130\n",
            "8080 (80.80%) Train loss: 8.309 \t Validation loss: 8.130\n",
            "8090 (80.90%) Train loss: 8.309 \t Validation loss: 8.131\n",
            "8100 (81.00%) Train loss: 8.309 \t Validation loss: 8.133\n",
            "8110 (81.10%) Train loss: 8.309 \t Validation loss: 8.131\n",
            "8120 (81.20%) Train loss: 8.309 \t Validation loss: 8.132\n",
            "8130 (81.30%) Train loss: 8.309 \t Validation loss: 8.131\n",
            "8140 (81.40%) Train loss: 8.309 \t Validation loss: 8.133\n",
            "8150 (81.50%) Train loss: 8.309 \t Validation loss: 8.132\n",
            "8160 (81.60%) Train loss: 8.309 \t Validation loss: 8.130\n",
            "8170 (81.70%) Train loss: 8.309 \t Validation loss: 8.132\n",
            "8180 (81.80%) Train loss: 8.309 \t Validation loss: 8.130\n",
            "8190 (81.90%) Train loss: 8.309 \t Validation loss: 8.133\n",
            "8200 (82.00%) Train loss: 8.309 \t Validation loss: 8.131\n",
            "8210 (82.10%) Train loss: 8.309 \t Validation loss: 8.132\n",
            "8220 (82.20%) Train loss: 8.309 \t Validation loss: 8.131\n",
            "8230 (82.30%) Train loss: 8.309 \t Validation loss: 8.133\n",
            "8240 (82.40%) Train loss: 8.309 \t Validation loss: 8.132\n",
            "8250 (82.50%) Train loss: 8.309 \t Validation loss: 8.133\n",
            "8260 (82.60%) Train loss: 8.309 \t Validation loss: 8.132\n",
            "8270 (82.70%) Train loss: 8.309 \t Validation loss: 8.131\n",
            "8280 (82.80%) Train loss: 8.309 \t Validation loss: 8.132\n",
            "8290 (82.90%) Train loss: 8.309 \t Validation loss: 8.131\n",
            "8300 (83.00%) Train loss: 8.309 \t Validation loss: 8.132\n",
            "8310 (83.10%) Train loss: 8.309 \t Validation loss: 8.131\n",
            "8320 (83.20%) Train loss: 8.309 \t Validation loss: 8.133\n",
            "8330 (83.30%) Train loss: 8.309 \t Validation loss: 8.131\n",
            "8340 (83.40%) Train loss: 8.309 \t Validation loss: 8.132\n",
            "8350 (83.50%) Train loss: 8.309 \t Validation loss: 8.131\n",
            "8360 (83.60%) Train loss: 8.309 \t Validation loss: 8.135\n",
            "8370 (83.70%) Train loss: 8.309 \t Validation loss: 8.132\n",
            "8380 (83.80%) Train loss: 8.309 \t Validation loss: 8.130\n",
            "8390 (83.90%) Train loss: 8.309 \t Validation loss: 8.132\n",
            "8400 (84.00%) Train loss: 8.309 \t Validation loss: 8.130\n",
            "8410 (84.10%) Train loss: 8.309 \t Validation loss: 8.133\n",
            "8420 (84.20%) Train loss: 8.309 \t Validation loss: 8.131\n",
            "8430 (84.30%) Train loss: 8.309 \t Validation loss: 8.133\n",
            "8440 (84.40%) Train loss: 8.309 \t Validation loss: 8.131\n",
            "8450 (84.50%) Train loss: 8.309 \t Validation loss: 8.133\n",
            "8460 (84.60%) Train loss: 8.309 \t Validation loss: 8.131\n",
            "8470 (84.70%) Train loss: 8.309 \t Validation loss: 8.130\n",
            "8480 (84.80%) Train loss: 8.309 \t Validation loss: 8.132\n",
            "8490 (84.90%) Train loss: 8.309 \t Validation loss: 8.130\n",
            "8500 (85.00%) Train loss: 8.309 \t Validation loss: 8.133\n",
            "8510 (85.10%) Train loss: 8.309 \t Validation loss: 8.131\n",
            "8520 (85.20%) Train loss: 8.309 \t Validation loss: 8.133\n",
            "8530 (85.30%) Train loss: 8.309 \t Validation loss: 8.131\n",
            "8540 (85.40%) Train loss: 8.309 \t Validation loss: 8.132\n",
            "8550 (85.50%) Train loss: 8.309 \t Validation loss: 8.131\n",
            "8560 (85.60%) Train loss: 8.309 \t Validation loss: 8.133\n",
            "8570 (85.70%) Train loss: 8.309 \t Validation loss: 8.132\n",
            "8580 (85.80%) Train loss: 8.309 \t Validation loss: 8.129\n",
            "8590 (85.90%) Train loss: 8.309 \t Validation loss: 8.132\n",
            "8600 (86.00%) Train loss: 8.309 \t Validation loss: 8.129\n",
            "8610 (86.10%) Train loss: 8.309 \t Validation loss: 8.135\n",
            "8620 (86.20%) Train loss: 8.309 \t Validation loss: 8.129\n",
            "8630 (86.30%) Train loss: 8.309 \t Validation loss: 8.135\n",
            "8640 (86.40%) Train loss: 8.309 \t Validation loss: 8.129\n",
            "8650 (86.50%) Train loss: 8.309 \t Validation loss: 8.134\n",
            "8660 (86.60%) Train loss: 8.309 \t Validation loss: 8.129\n",
            "8670 (86.70%) Train loss: 8.309 \t Validation loss: 8.135\n",
            "8680 (86.80%) Train loss: 8.309 \t Validation loss: 8.130\n",
            "8690 (86.90%) Train loss: 8.309 \t Validation loss: 8.130\n",
            "8700 (87.00%) Train loss: 8.309 \t Validation loss: 8.130\n",
            "8710 (87.10%) Train loss: 8.309 \t Validation loss: 8.131\n",
            "8720 (87.20%) Train loss: 8.309 \t Validation loss: 8.133\n",
            "8730 (87.30%) Train loss: 8.309 \t Validation loss: 8.131\n",
            "8740 (87.40%) Train loss: 8.309 \t Validation loss: 8.133\n",
            "8750 (87.50%) Train loss: 8.309 \t Validation loss: 8.131\n",
            "8760 (87.60%) Train loss: 8.309 \t Validation loss: 8.132\n",
            "8770 (87.70%) Train loss: 8.309 \t Validation loss: 8.131\n",
            "8780 (87.80%) Train loss: 8.309 \t Validation loss: 8.135\n",
            "8790 (87.90%) Train loss: 8.309 \t Validation loss: 8.132\n",
            "8800 (88.00%) Train loss: 8.309 \t Validation loss: 8.130\n",
            "8810 (88.10%) Train loss: 8.309 \t Validation loss: 8.130\n",
            "8820 (88.20%) Train loss: 8.309 \t Validation loss: 8.131\n",
            "8830 (88.30%) Train loss: 8.309 \t Validation loss: 8.133\n",
            "8840 (88.40%) Train loss: 8.309 \t Validation loss: 8.131\n",
            "8850 (88.50%) Train loss: 8.309 \t Validation loss: 8.133\n",
            "8860 (88.60%) Train loss: 8.309 \t Validation loss: 8.131\n",
            "8870 (88.70%) Train loss: 8.309 \t Validation loss: 8.133\n",
            "8880 (88.80%) Train loss: 8.309 \t Validation loss: 8.132\n",
            "8890 (88.90%) Train loss: 8.309 \t Validation loss: 8.130\n",
            "8900 (89.00%) Train loss: 8.309 \t Validation loss: 8.132\n",
            "8910 (89.10%) Train loss: 8.309 \t Validation loss: 8.131\n",
            "8920 (89.20%) Train loss: 8.309 \t Validation loss: 8.133\n",
            "8930 (89.30%) Train loss: 8.309 \t Validation loss: 8.131\n",
            "8940 (89.40%) Train loss: 8.309 \t Validation loss: 8.133\n",
            "8950 (89.50%) Train loss: 8.309 \t Validation loss: 8.131\n",
            "8960 (89.60%) Train loss: 8.309 \t Validation loss: 8.132\n",
            "8970 (89.70%) Train loss: 8.309 \t Validation loss: 8.131\n",
            "8980 (89.80%) Train loss: 8.309 \t Validation loss: 8.135\n",
            "8990 (89.90%) Train loss: 8.309 \t Validation loss: 8.130\n",
            "9000 (90.00%) Train loss: 8.309 \t Validation loss: 8.135\n",
            "9010 (90.10%) Train loss: 8.309 \t Validation loss: 8.130\n",
            "9020 (90.20%) Train loss: 8.309 \t Validation loss: 8.130\n",
            "9030 (90.30%) Train loss: 8.309 \t Validation loss: 8.131\n",
            "9040 (90.40%) Train loss: 8.309 \t Validation loss: 8.131\n",
            "9050 (90.50%) Train loss: 8.309 \t Validation loss: 8.133\n",
            "9060 (90.60%) Train loss: 8.309 \t Validation loss: 8.131\n",
            "9070 (90.70%) Train loss: 8.309 \t Validation loss: 8.133\n",
            "9080 (90.80%) Train loss: 8.309 \t Validation loss: 8.131\n",
            "9090 (90.90%) Train loss: 8.309 \t Validation loss: 8.133\n",
            "9100 (91.00%) Train loss: 8.309 \t Validation loss: 8.132\n",
            "9110 (91.10%) Train loss: 8.309 \t Validation loss: 8.130\n",
            "9120 (91.20%) Train loss: 8.309 \t Validation loss: 8.132\n",
            "9130 (91.30%) Train loss: 8.309 \t Validation loss: 8.130\n",
            "9140 (91.40%) Train loss: 8.309 \t Validation loss: 8.133\n",
            "9150 (91.50%) Train loss: 8.309 \t Validation loss: 8.131\n",
            "9160 (91.60%) Train loss: 8.309 \t Validation loss: 8.133\n",
            "9170 (91.70%) Train loss: 8.309 \t Validation loss: 8.131\n",
            "9180 (91.80%) Train loss: 8.309 \t Validation loss: 8.132\n",
            "9190 (91.90%) Train loss: 8.309 \t Validation loss: 8.131\n",
            "9200 (92.00%) Train loss: 8.309 \t Validation loss: 8.135\n",
            "9210 (92.10%) Train loss: 8.309 \t Validation loss: 8.132\n",
            "9220 (92.20%) Train loss: 8.309 \t Validation loss: 8.130\n",
            "9230 (92.30%) Train loss: 8.309 \t Validation loss: 8.130\n",
            "9240 (92.40%) Train loss: 8.309 \t Validation loss: 8.131\n",
            "9250 (92.50%) Train loss: 8.309 \t Validation loss: 8.133\n",
            "9260 (92.60%) Train loss: 8.309 \t Validation loss: 8.131\n",
            "9270 (92.70%) Train loss: 8.309 \t Validation loss: 8.133\n",
            "9280 (92.80%) Train loss: 8.309 \t Validation loss: 8.131\n",
            "9290 (92.90%) Train loss: 8.309 \t Validation loss: 8.133\n",
            "9300 (93.00%) Train loss: 8.309 \t Validation loss: 8.132\n",
            "9310 (93.10%) Train loss: 8.309 \t Validation loss: 8.128\n",
            "9320 (93.20%) Train loss: 8.309 \t Validation loss: 8.132\n",
            "9330 (93.30%) Train loss: 8.309 \t Validation loss: 8.129\n",
            "9340 (93.40%) Train loss: 8.309 \t Validation loss: 8.132\n",
            "9350 (93.50%) Train loss: 8.309 \t Validation loss: 8.129\n",
            "9360 (93.60%) Train loss: 8.309 \t Validation loss: 8.135\n",
            "9370 (93.70%) Train loss: 8.309 \t Validation loss: 8.131\n",
            "9380 (93.80%) Train loss: 8.309 \t Validation loss: 8.135\n",
            "9390 (93.90%) Train loss: 8.309 \t Validation loss: 8.131\n",
            "9400 (94.00%) Train loss: 8.309 \t Validation loss: 8.134\n",
            "9410 (94.10%) Train loss: 8.309 \t Validation loss: 8.132\n",
            "9420 (94.20%) Train loss: 8.309 \t Validation loss: 8.130\n",
            "9430 (94.30%) Train loss: 8.309 \t Validation loss: 8.132\n",
            "9440 (94.40%) Train loss: 8.309 \t Validation loss: 8.131\n",
            "9450 (94.50%) Train loss: 8.309 \t Validation loss: 8.130\n",
            "9460 (94.60%) Train loss: 8.309 \t Validation loss: 8.131\n",
            "9470 (94.70%) Train loss: 8.309 \t Validation loss: 8.133\n",
            "9480 (94.80%) Train loss: 8.309 \t Validation loss: 8.131\n",
            "9490 (94.90%) Train loss: 8.309 \t Validation loss: 8.133\n",
            "9500 (95.00%) Train loss: 8.309 \t Validation loss: 8.131\n",
            "9510 (95.10%) Train loss: 8.309 \t Validation loss: 8.135\n",
            "9520 (95.20%) Train loss: 8.309 \t Validation loss: 8.132\n",
            "9530 (95.30%) Train loss: 8.309 \t Validation loss: 8.130\n",
            "9540 (95.40%) Train loss: 8.309 \t Validation loss: 8.130\n",
            "9550 (95.50%) Train loss: 8.309 \t Validation loss: 8.131\n",
            "9560 (95.60%) Train loss: 8.309 \t Validation loss: 8.133\n",
            "9570 (95.70%) Train loss: 8.309 \t Validation loss: 8.131\n",
            "9580 (95.80%) Train loss: 8.309 \t Validation loss: 8.133\n",
            "9590 (95.90%) Train loss: 8.309 \t Validation loss: 8.131\n",
            "9600 (96.00%) Train loss: 8.309 \t Validation loss: 8.133\n",
            "9610 (96.10%) Train loss: 8.309 \t Validation loss: 8.132\n",
            "9620 (96.20%) Train loss: 8.309 \t Validation loss: 8.130\n",
            "9630 (96.30%) Train loss: 8.309 \t Validation loss: 8.132\n",
            "9640 (96.40%) Train loss: 8.309 \t Validation loss: 8.130\n",
            "9650 (96.50%) Train loss: 8.309 \t Validation loss: 8.135\n",
            "9660 (96.60%) Train loss: 8.309 \t Validation loss: 8.131\n",
            "9670 (96.70%) Train loss: 8.309 \t Validation loss: 8.135\n",
            "9680 (96.80%) Train loss: 8.309 \t Validation loss: 8.131\n",
            "9690 (96.90%) Train loss: 8.309 \t Validation loss: 8.135\n",
            "9700 (97.00%) Train loss: 8.309 \t Validation loss: 8.129\n",
            "9710 (97.10%) Train loss: 8.309 \t Validation loss: 8.135\n",
            "9720 (97.20%) Train loss: 8.309 \t Validation loss: 8.130\n",
            "9730 (97.30%) Train loss: 8.309 \t Validation loss: 8.135\n",
            "9740 (97.40%) Train loss: 8.309 \t Validation loss: 8.130\n",
            "9750 (97.50%) Train loss: 8.309 \t Validation loss: 8.131\n",
            "9760 (97.60%) Train loss: 8.309 \t Validation loss: 8.130\n",
            "9770 (97.70%) Train loss: 8.309 \t Validation loss: 8.131\n",
            "9780 (97.80%) Train loss: 8.309 \t Validation loss: 8.133\n",
            "9790 (97.90%) Train loss: 8.309 \t Validation loss: 8.131\n",
            "9800 (98.00%) Train loss: 8.309 \t Validation loss: 8.133\n",
            "9810 (98.10%) Train loss: 8.309 \t Validation loss: 8.131\n",
            "9820 (98.20%) Train loss: 8.309 \t Validation loss: 8.133\n",
            "9830 (98.30%) Train loss: 8.309 \t Validation loss: 8.132\n",
            "9840 (98.40%) Train loss: 8.309 \t Validation loss: 8.130\n",
            "9850 (98.50%) Train loss: 8.309 \t Validation loss: 8.132\n",
            "9860 (98.60%) Train loss: 8.309 \t Validation loss: 8.130\n",
            "9870 (98.70%) Train loss: 8.309 \t Validation loss: 8.133\n",
            "9880 (98.80%) Train loss: 8.309 \t Validation loss: 8.131\n",
            "9890 (98.90%) Train loss: 8.309 \t Validation loss: 8.133\n",
            "9900 (99.00%) Train loss: 8.309 \t Validation loss: 8.131\n",
            "9910 (99.10%) Train loss: 8.309 \t Validation loss: 8.133\n",
            "9920 (99.20%) Train loss: 8.309 \t Validation loss: 8.131\n",
            "9930 (99.30%) Train loss: 8.309 \t Validation loss: 8.130\n",
            "9940 (99.40%) Train loss: 8.309 \t Validation loss: 8.132\n",
            "9950 (99.50%) Train loss: 8.309 \t Validation loss: 8.130\n",
            "9960 (99.60%) Train loss: 8.309 \t Validation loss: 8.133\n",
            "9970 (99.70%) Train loss: 8.309 \t Validation loss: 8.131\n",
            "9980 (99.80%) Train loss: 8.309 \t Validation loss: 8.133\n",
            "9990 (99.90%) Train loss: 8.309 \t Validation loss: 8.131\n"
          ]
        }
      ],
      "source": [
        "params = [(10, 2e-3), (200,2e-3), (10000, 2e-3)]\n",
        "NNs = []\n",
        "train_losses = []\n",
        "val_losses = []\n",
        "for (EPOCHS, LEARN_R) in params:\n",
        "  NN = [\n",
        "    DenseLayer(1, 8, lambda x: x.relu()),\n",
        "    DenseLayer(8, 1, lambda x: x.identity())\n",
        "]\n",
        "  train_loss = []\n",
        "  val_loss = []\n",
        "\n",
        "  for e in range(EPOCHS):\n",
        "      \n",
        "      # Forward pass and loss computation\n",
        "      Loss = squared_loss(y_train, forward(x_train, NN))\n",
        "\n",
        "      # Backward pass\n",
        "      Loss.backward()\n",
        "      \n",
        "      # gradient descent update\n",
        "      update_parameters(parameters(NN), LEARN_R)\n",
        "      zero_gradients(parameters(NN))\n",
        "      \n",
        "      # Training loss\n",
        "      train_loss.append(Loss.v)\n",
        "      \n",
        "      # Validation\n",
        "      Loss_validation = squared_loss(y_validation, forward(x_validation, NN))\n",
        "      val_loss.append(Loss_validation.v)\n",
        "      \n",
        "      if e%10==0:\n",
        "          print(\"{:4d}\".format(e),\n",
        "                \"({:5.2f}%)\".format(e/EPOCHS*100), \n",
        "                \"Train loss: {:4.3f} \\t Validation loss: {:4.3f}\".format(train_loss[-1], val_loss[-1]))\n",
        "  NNs.append(NN)\n",
        "  train_losses.append(train_loss)\n",
        "  val_losses.append(val_loss)"
      ]
    },
    {
      "cell_type": "code",
      "source": [
        "types = ['Underfitting', 'Just right', 'Overfitting']\n",
        "output_tests = []\n",
        "for i in range(len(NNs)):\n",
        "  output_tests.append(forward(x_test, NNs[i]))\n",
        "  plt.plot(range(len(train_losses[i])), train_losses[i], label=f'{types[i]} - Train loss');\n",
        "  plt.plot(range(len(val_losses[i])), val_losses[i], label=f'{types[i]} - Validation loss');\n",
        "plt.legend()"
      ],
      "metadata": {
        "id": "_4k-YvV8x2RX",
        "outputId": "15196c31-4b8a-4b81-d066-020c12bd4d2b",
        "colab": {
          "base_uri": "https://localhost:8080/",
          "height": 282
        }
      },
      "execution_count": null,
      "outputs": [
        {
          "output_type": "execute_result",
          "data": {
            "text/plain": [
              "<matplotlib.legend.Legend at 0x7f1d39572590>"
            ]
          },
          "metadata": {},
          "execution_count": 38
        },
        {
          "output_type": "display_data",
          "data": {
            "text/plain": [
              "<Figure size 432x288 with 1 Axes>"
            ],
            "image/png": "[encoded data removed]"
          },
          "metadata": {
            "needs_background": "light"
          }
        }
      ]
    },
    {
      "cell_type": "code",
      "source": [
        "x_test_np = Var_to_nparray(x_test)\n",
        "x_train_np = Var_to_nparray(x_train)\n",
        "y_train_np = Var_to_nparray(y_train)\n",
        "if D1:\n",
        "    plt.scatter(x_train_np, y_train_np, label=\"train data\");\n",
        "    plt.scatter(x_test_np, y_test_np, label=\"test data\");\n",
        "    for x in range(len(output_tests)):\n",
        "      plt.scatter(x_test_np, Var_to_nparray(output_tests[x]), label=f\"{types[x]} - test prediction\");\n",
        "    plt.legend();\n",
        "    plt.xlabel(\"x\");\n",
        "    plt.ylabel(\"y\");\n",
        "else:\n",
        "    plt.scatter(x_train_np[:,1], y_train, label=\"train data\");\n",
        "    for x in range(len(output_tests)):\n",
        "      plt.scatter(x_test_np[:,1], Var_to_nparray(output_tests[x]), label=f\"{types[x]} - test data prediction\");\n",
        "    plt.scatter(x_test_np[:,1], y_test_np, label=\"test data\");\n",
        "    plt.legend();\n",
        "    plt.xlabel(\"x\");\n",
        "    plt.ylabel(\"y\");"
      ],
      "metadata": {
        "id": "sRiVGCt8C94-",
        "outputId": "bc1b188f-8582-49df-f10c-cc2f84f9191e",
        "colab": {
          "base_uri": "https://localhost:8080/",
          "height": 279
        }
      },
      "execution_count": null,
      "outputs": [
        {
          "output_type": "display_data",
          "data": {
            "text/plain": [
              "<Figure size 432x288 with 1 Axes>"
            ],
            "image/png": "[encoded data removed]"
          },
          "metadata": {
            "needs_background": "light"
          }
        }
      ]
    },
    {
      "cell_type": "markdown",
      "metadata": {
        "id": "fYPZP-eTFtIo"
      },
      "source": [
        "# Next steps - classification\n",
        "\n",
        "It is straight forward to extend what we have done to classification. \n",
        "\n",
        "For numerical stability it is better to make softmax and cross-entropy as one function so we write the cross entropy loss as a function of the logits we talked about last week. \n",
        "\n",
        "Next week we will see how to perform classification in PyTorch."
      ]
    },
    {
      "cell_type": "markdown",
      "metadata": {
        "id": "qsVPul3QFtIo"
      },
      "source": [
        "## Exercise m) optional - Implement backpropagation for classification\n",
        "\n",
        "Should be possible with very few lines of code. :-)"
      ]
    },
    {
      "cell_type": "code",
      "execution_count": null,
      "metadata": {
        "id": "oC8QrI2tFtIp"
      },
      "outputs": [],
      "source": [
        "# Just add code."
      ]
    },
    {
      "cell_type": "markdown",
      "metadata": {
        "id": "APqhJv3tta1O"
      },
      "source": [
        "## Exercise n) optional - Introduce a NeuralNetwork class\n",
        "\n",
        "The functions we applied on the neural network (parameters, update_parameters and zero_gradients) can more naturally be included as methods in a NeuralNetwork class. Make such a class and modify the code to use it. "
      ]
    },
    {
      "cell_type": "code",
      "execution_count": null,
      "metadata": {
        "id": "Dqfnor1ouMLq"
      },
      "outputs": [],
      "source": [
        "# just add some code"
      ]
    }
  ],
  "metadata": {
    "anaconda-cloud": {},
    "colab": {
      "collapsed_sections": [
        "U4057_ljNvWB",
        "p_8n_SKnIW2F",
        "oLrGJytZFtGm",
        "jpIZPBpNI0pO",
        "_79HOAXrFtHK",
        "mqeyab9qFtGs",
        "-XyXBD37FtHk",
        "SrwSJ2UWFtHu",
        "zTBAmjsAFtIk",
        "qsVPul3QFtIo",
        "APqhJv3tta1O"
      ],
      "name": "2.1-EXE-FNN-AutoDif-Nanograd.ipynb",
      "provenance": []
    },
    "kernelspec": {
      "display_name": "Python 3 (ipykernel)",
      "language": "python",
      "name": "python3"
    },
    "language_info": {
      "codemirror_mode": {
        "name": "ipython",
        "version": 3
      },
      "file_extension": ".py",
      "mimetype": "text/x-python",
      "name": "python",
      "nbconvert_exporter": "python",
      "pygments_lexer": "ipython3",
      "version": "3.8.12"
    }
  },
  "nbformat": 4,
  "nbformat_minor": 0
}