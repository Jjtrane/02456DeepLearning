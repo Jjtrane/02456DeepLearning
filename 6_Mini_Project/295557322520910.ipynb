{
  "cells": [
    {
      "cell_type": "markdown",
      "metadata": {
        "id": "5ofwHWYV_vw2"
      },
      "source": [
        "# Kaggle Leaf Classification Challenge\n"
      ]
    },
    {
      "cell_type": "code",
      "execution_count": null,
      "metadata": {
        "colab": {
          "base_uri": "https://localhost:8080/"
        },
        "id": "MId4KABv_vw7",
        "outputId": "5bfa756c-8929-442b-f0e8-8543aa53a8fe"
      },
      "outputs": [
        {
          "output_type": "stream",
          "name": "stdout",
          "text": [
            "Looking in indexes: https://pypi.org/simple, https://us-python.pkg.dev/colab-wheels/public/simple/\n",
            "Requirement already satisfied: pandas in /usr/local/lib/python3.7/dist-packages (1.3.5)\n",
            "Requirement already satisfied: numpy>=1.17.3 in /usr/local/lib/python3.7/dist-packages (from pandas) (1.21.6)\n",
            "Requirement already satisfied: python-dateutil>=2.7.3 in /usr/local/lib/python3.7/dist-packages (from pandas) (2.8.2)\n",
            "Requirement already satisfied: pytz>=2017.3 in /usr/local/lib/python3.7/dist-packages (from pandas) (2022.2.1)\n",
            "Requirement already satisfied: six>=1.5 in /usr/local/lib/python3.7/dist-packages (from python-dateutil>=2.7.3->pandas) (1.15.0)\n"
          ]
        }
      ],
      "source": [
        "## Install pandas if you don't already have it (uncomment line below)\n",
        "\n",
        "! pip install pandas"
      ]
    },
    {
      "cell_type": "code",
      "execution_count": null,
      "metadata": {
        "id": "aLQJD2SR_vw-"
      },
      "outputs": [],
      "source": [
        "%matplotlib inline\n",
        "import matplotlib\n",
        "import numpy as np\n",
        "import pandas as pd\n",
        "import matplotlib.pyplot as plt\n",
        "import glob\n",
        "import os\n",
        "\n",
        "from IPython.display import clear_output\n",
        "from skimage.io import imread\n",
        "from skimage.transform import resize\n",
        "\n",
        "#import data_utils\n",
        "\n",
        "#import sys\n",
        "#sys.path.append(os.path.join('.', '..')) # Allow us to import shared custom \n",
        "#                                         # libraries, like utils.py"
      ]
    },
    {
      "cell_type": "code",
      "source": [
        "pip install keras\n"
      ],
      "metadata": {
        "colab": {
          "base_uri": "https://localhost:8080/"
        },
        "id": "H07LWdnuNHt2",
        "outputId": "aa68efa8-de30-466c-aa6b-f83218d68997"
      },
      "execution_count": null,
      "outputs": [
        {
          "output_type": "stream",
          "name": "stdout",
          "text": [
            "Looking in indexes: https://pypi.org/simple, https://us-python.pkg.dev/colab-wheels/public/simple/\n",
            "Requirement already satisfied: keras in /usr/local/lib/python3.7/dist-packages (2.8.0)\n"
          ]
        }
      ]
    },
    {
      "cell_type": "code",
      "source": [
        "import data_utils"
      ],
      "metadata": {
        "id": "7ociC940M_j_"
      },
      "execution_count": null,
      "outputs": []
    },
    {
      "cell_type": "markdown",
      "metadata": {
        "id": "JXG4QHko_vw_"
      },
      "source": [
        "# Tying everything together\n",
        "\n",
        "Now that you have learned about the most common network architectures, it is time to combine them into a more advanced model. \n",
        "It often happens that you have a combination of data that cannot easily be modeled by any single one of these types of network. Knowing how to divide the data into the right subsets, and then build a network that handles each subset efficiently can mean the difference between a great model and an unusable one. \n",
        "\n",
        "In this notebook, we will work on the **Kaggle Leaf Classification Challenge**, a data science competition from [`kaggle.com`](https://www.kaggle.com/) that contains several different kinds of data.\n",
        "We will download the data, visualize it, and train a classifier.\n",
        "A simple network with poor performance is provided for you as a starting point, but it is up to you use what you have learnt to improve the results.\n",
        "\n",
        "\n",
        "## Kaggle challenge\n",
        "\n",
        "Kaggle is a website to participate in real-world challenges.\n",
        "Most competitions on Kaggle have a dataset, an accuracy metric and a leaderboard to compare submissions.\n",
        "You can read more about Kaggle public datasets [here](https://www.kaggle.com/datasets).\n",
        "\n",
        "We will undertake the [_Leaf Classification_](https://www.kaggle.com/c/leaf-classification) challenge. We report here the description of the dataset:\n",
        "\n",
        "> The dataset consists of approximately 1,584 images of leaf specimens which have been converted to binary black leaves against white backgrounds. \n",
        "Three sets of features are also provided per image: a shape contiguous descriptor, an interior texture histogram, and a ﬁne-scale margin histogram. For each feature, a 64-attribute vector is given per leaf sample.\n"
      ]
    },
    {
      "cell_type": "markdown",
      "metadata": {
        "id": "nySGj2Ya_vxA"
      },
      "source": [
        "# Get set up\n",
        "\n",
        "**NB**: You will need a Kaggle account for this exercise!\n",
        "\n",
        "1. Go to [Kaggle](https://www.kaggle.com/), create an account\n",
        "2. [Download the dataset](https://www.kaggle.com/c/leaf-classification/data)\n",
        "3. Unpack the dataset in the current directory. Structure should be as follows:\n",
        "```\n",
        "02456-deep-learning-with-PyTorch\\4_Mini_Project\n",
        "--> sample_submission.csv\n",
        "--> test.csv\n",
        "--> train.csv\n",
        "--> images\n",
        "--> --> 1.jpg\n",
        "--> --> 2.jpg\n",
        "--> --> 3.jpg\n",
        "--> --> ...\n",
        "```\n",
        "\n",
        "# Upload data to colab\n",
        "If you're running this notebook on google colab, you'll need to upload `data_utils.py` that we provide as well as the data you've just downloaded from kaggle to colab. Small files like `data_utils.py` you can simply upload via the folder icon to the left. Files that are uploaded like this, however, will be deleted every time the session ends. For big files like the kaggle data folder it's therefore better to:\n",
        "\n",
        "1. upload the data to google drive\n",
        "2. mount the google drive (see cell below)"
      ]
    },
    {
      "cell_type": "code",
      "execution_count": null,
      "metadata": {
        "colab": {
          "base_uri": "https://localhost:8080/"
        },
        "id": "aY0myqZG_vxB",
        "outputId": "8ea450cb-fc73-4bec-be5b-9388f9888e04"
      },
      "outputs": [
        {
          "output_type": "stream",
          "name": "stdout",
          "text": [
            "Mounted at /content/drive\n"
          ]
        }
      ],
      "source": [
        "from google.colab import drive\n",
        "drive.mount('/content/drive')"
      ]
    },
    {
      "cell_type": "code",
      "source": [
        "!ls"
      ],
      "metadata": {
        "colab": {
          "base_uri": "https://localhost:8080/"
        },
        "id": "DFf6785wDZ68",
        "outputId": "54607af8-23be-45f9-e7ca-bc4c158bb7e8"
      },
      "execution_count": null,
      "outputs": [
        {
          "output_type": "stream",
          "name": "stdout",
          "text": [
            "MyDrive  Shareddrives\n"
          ]
        }
      ]
    },
    {
      "cell_type": "markdown",
      "metadata": {
        "id": "oqJh9zLj_vxC"
      },
      "source": [
        "After going through a quick authorization process you should now have access to the uploaded file via colab. We can check the location of our data as follows:"
      ]
    },
    {
      "cell_type": "code",
      "execution_count": null,
      "metadata": {
        "colab": {
          "base_uri": "https://localhost:8080/"
        },
        "id": "3QTM78WY_vxD",
        "outputId": "bc685c61-6717-4eb3-8604-76b02adf4876"
      },
      "outputs": [
        {
          "output_type": "stream",
          "name": "stdout",
          "text": [
            " 3.semester\n",
            "'62053 Introduction to Entrepreneurship'\n",
            " Amrou.gdoc\n",
            " BachelorProject\n",
            " BackToCampus.gsheet\n",
            "'co creation notes.gdoc'\n",
            "'Colab Notebooks'\n",
            "'Conference application.gdoc'\n",
            "'cover letter.gdoc'\n",
            "'Cover letter.gdoc'\n",
            " DSB.gform\n",
            "'DSC06932k (1).jpg'\n",
            " DSC06932k.jpg\n",
            " GoGreen.gslides\n",
            " Group14.gslides\n",
            "'Group 47 BeGreen .gslides'\n",
            " Hult\n",
            "'Hult Prize - 2021 2022 Tala.gdoc'\n",
            "'Hult Prize DTU 40k sponsership.gsheet'\n",
            "'Hult Prize Report - CD Tala Azrak'\n",
            "'Hult Prize Schaduale - Cirkeldiagram 1.gsheet'\n",
            "'Hult Prize Schaduale - Linjediagram 1.gsheet'\n",
            "'Hult Prize Special awards.gdoc'\n",
            " Human-centeredAI\n",
            " klage.gdoc\n",
            "'Kopi af College Interview Tips by Slidesgo.gslides'\n",
            "'Kopi af Hult Prize OnCampus .gslides'\n",
            "'Kopi af Hult Prize v2.gsheet'\n",
            "'Kopi af Refugee incubator.gslides'\n",
            "'Kopi af Techitas Women in Tech Tala.gdoc'\n",
            "'Kopi af Training Infographics by Slidesgo.gslides'\n",
            "'Kopi af Train & Railway Engineering Research Poster by Slidesgo.gslides'\n",
            " leaf-classification\n",
            " legat2022\n",
            "'Machine Learning project 2 (1).ipynb'\n",
            "'Machine Learning project 2.ipynb'\n",
            " Motiviation.gdoc\n",
            " Nordic.gdoc\n",
            "'Organizing Committee - Hult Prize at DTU.gform'\n",
            " others\n",
            " pas1.pdf\n",
            "'Photos '\n",
            "'Portfolio Tala.gdoc'\n",
            " Portfolio_Tala.gdoc\n",
            " React\n",
            "'Refugee incubator'\n",
            "'Refugee incubator.gslides'\n",
            "'Refugee Next  (1).pdf'\n",
            "'Refugee Next.gdoc'\n",
            "'Refugee Next .pdf'\n",
            "'Refugee Next pitch deck .pdf'\n",
            "'rita .gdoc'\n",
            " RunYOLOv7.ipynb\n",
            "'Smart cities.gslides'\n",
            "'Social media posts.gsheet'\n",
            " TalaPfizer.pdf\n",
            " turkey\n",
            "'Unavngivet projekt.gscript'\n",
            "'Unavngivet regneark.gsheet'\n",
            " Untitled\n",
            " Untitled0.ipynb\n",
            "'Untitled (1)'\n",
            " Untitled1.ipynb\n"
          ]
        }
      ],
      "source": [
        "!ls drive/'My Drive'"
      ]
    },
    {
      "cell_type": "markdown",
      "metadata": {
        "id": "8hb_pE6S_vxE"
      },
      "source": [
        "Let's save the path for later use. Just replace this with your local path if you're not running on colab."
      ]
    },
    {
      "cell_type": "code",
      "execution_count": null,
      "metadata": {
        "id": "N_FFTNGL_vxF"
      },
      "outputs": [],
      "source": [
        "drive_path = 'drive/My Drive/leaf-classification'\n",
        "# local_path = ''  # if you're folder structure is as defined above and you want to run locally"
      ]
    },
    {
      "cell_type": "markdown",
      "metadata": {
        "id": "T9kWuLFm_vxF"
      },
      "source": [
        "# Visualizing the data\n",
        "\n",
        "First we start out by looking at the images. \n",
        "You need to load them first!\n",
        "Then we load in the training data, which is in CSV format. For this, we use [pandas](https://pandas.pydata.org/).\n",
        "Pandas is useful for data analysis, but we don't suggest using it in any production code."
      ]
    },
    {
      "cell_type": "code",
      "execution_count": null,
      "metadata": {
        "colab": {
          "base_uri": "https://localhost:8080/"
        },
        "id": "BdQEYDS4_vxG",
        "outputId": "8b8bf55a-3622-4d2d-ef06-4def2e0101c3"
      },
      "outputs": [
        {
          "output_type": "stream",
          "name": "stdout",
          "text": [
            "Total Observations:\t 1584\n"
          ]
        }
      ],
      "source": [
        "image_paths = glob.glob((drive_path+\"/images/*.jpg\"))\n",
        "print(\"Total Observations:\\t\", len(image_paths))\n",
        "\n",
        "# now loading the train.csv to find features for each training point\n",
        "train = pd.read_csv(drive_path+'/train.csv')\n",
        "train_images = [drive_path+'/images/{}.jpg'.format(i) for i in train.id.values]\n",
        "\n",
        "# now loading the test.csv\n",
        "test = pd.read_csv((drive_path+'/test.csv'))"
      ]
    },
    {
      "cell_type": "markdown",
      "metadata": {
        "id": "KpEtnR20_vxG"
      },
      "source": [
        "## Exercise 1\n",
        "\n",
        "1.1) How many samples do we have for training and test? Do we have the same information for training and test data? How many samples do we have for each species?\n",
        "\n",
        "**Hint**: You might want to use .shape, .columns, pd.unique() and .symmetric_difference().\n"
      ]
    },
    {
      "cell_type": "code",
      "execution_count": null,
      "metadata": {
        "colab": {
          "base_uri": "https://localhost:8080/"
        },
        "id": "IEOlW-Gx_vxH",
        "outputId": "2425e9cf-c3a7-4537-d9d6-8d926b854635"
      },
      "outputs": [
        {
          "output_type": "stream",
          "name": "stdout",
          "text": [
            "Index(['id', 'species', 'margin1', 'margin2', 'margin3', 'margin4', 'margin5',\n",
            "       'margin6', 'margin7', 'margin8',\n",
            "       ...\n",
            "       'texture55', 'texture56', 'texture57', 'texture58', 'texture59',\n",
            "       'texture60', 'texture61', 'texture62', 'texture63', 'texture64'],\n",
            "      dtype='object', length=194)\n",
            "(990, 194)\n"
          ]
        }
      ],
      "source": [
        "# Your code here:\n",
        "print(train.columns)\n",
        "print(train.shape)"
      ]
    },
    {
      "cell_type": "code",
      "source": [
        "train_pd =pd.DataFrame(data=train)\n",
        "train_pd.species.unique()"
      ],
      "metadata": {
        "colab": {
          "base_uri": "https://localhost:8080/"
        },
        "id": "KB7TE69KGhET",
        "outputId": "1c4ba8db-e016-44eb-fc27-69ea2305e502"
      },
      "execution_count": null,
      "outputs": [
        {
          "output_type": "execute_result",
          "data": {
            "text/plain": [
              "array(['Acer_Opalus', 'Pterocarya_Stenoptera', 'Quercus_Hartwissiana',\n",
              "       'Tilia_Tomentosa', 'Quercus_Variabilis', 'Magnolia_Salicifolia',\n",
              "       'Quercus_Canariensis', 'Quercus_Rubra', 'Quercus_Brantii',\n",
              "       'Salix_Fragilis', 'Zelkova_Serrata', 'Betula_Austrosinensis',\n",
              "       'Quercus_Pontica', 'Quercus_Afares', 'Quercus_Coccifera',\n",
              "       'Fagus_Sylvatica', 'Phildelphus', 'Acer_Palmatum',\n",
              "       'Quercus_Pubescens', 'Populus_Adenopoda', 'Quercus_Trojana',\n",
              "       'Alnus_Sieboldiana', 'Quercus_Ilex', 'Arundinaria_Simonii',\n",
              "       'Acer_Platanoids', 'Quercus_Phillyraeoides', 'Cornus_Chinensis',\n",
              "       'Liriodendron_Tulipifera', 'Cytisus_Battandieri',\n",
              "       'Rhododendron_x_Russellianum', 'Alnus_Rubra',\n",
              "       'Eucalyptus_Glaucescens', 'Cercis_Siliquastrum',\n",
              "       'Cotinus_Coggygria', 'Celtis_Koraiensis', 'Quercus_Crassifolia',\n",
              "       'Quercus_Kewensis', 'Cornus_Controversa', 'Quercus_Pyrenaica',\n",
              "       'Callicarpa_Bodinieri', 'Quercus_Alnifolia', 'Acer_Saccharinum',\n",
              "       'Prunus_X_Shmittii', 'Prunus_Avium', 'Quercus_Greggii',\n",
              "       'Quercus_Suber', 'Quercus_Dolicholepis', 'Ilex_Cornuta',\n",
              "       'Tilia_Oliveri', 'Quercus_Semecarpifolia', 'Quercus_Texana',\n",
              "       'Ginkgo_Biloba', 'Liquidambar_Styraciflua', 'Quercus_Phellos',\n",
              "       'Quercus_Palustris', 'Alnus_Maximowiczii', 'Quercus_Agrifolia',\n",
              "       'Acer_Pictum', 'Acer_Rufinerve', 'Lithocarpus_Cleistocarpus',\n",
              "       'Viburnum_x_Rhytidophylloides', 'Ilex_Aquifolium',\n",
              "       'Acer_Circinatum', 'Quercus_Coccinea', 'Quercus_Cerris',\n",
              "       'Quercus_Chrysolepis', 'Eucalyptus_Neglecta', 'Tilia_Platyphyllos',\n",
              "       'Alnus_Cordata', 'Populus_Nigra', 'Acer_Capillipes',\n",
              "       'Magnolia_Heptapeta', 'Acer_Mono', 'Cornus_Macrophylla',\n",
              "       'Crataegus_Monogyna', 'Quercus_x_Turneri', 'Quercus_Castaneifolia',\n",
              "       'Lithocarpus_Edulis', 'Populus_Grandidentata', 'Acer_Rubrum',\n",
              "       'Quercus_Imbricaria', 'Eucalyptus_Urnigera', 'Quercus_Crassipes',\n",
              "       'Viburnum_Tinus', 'Morus_Nigra', 'Quercus_Vulcanica',\n",
              "       'Alnus_Viridis', 'Betula_Pendula', 'Olea_Europaea',\n",
              "       'Quercus_Ellipsoidalis', 'Quercus_x_Hispanica',\n",
              "       'Quercus_Shumardii', 'Quercus_Rhysophylla', 'Castanea_Sativa',\n",
              "       'Ulmus_Bergmanniana', 'Quercus_Nigra', 'Salix_Intergra',\n",
              "       'Quercus_Infectoria_sub', 'Sorbus_Aria'], dtype=object)"
            ]
          },
          "metadata": {},
          "execution_count": 41
        }
      ]
    },
    {
      "cell_type": "code",
      "source": [],
      "metadata": {
        "colab": {
          "base_uri": "https://localhost:8080/"
        },
        "id": "oF0nsOGcH3Zu",
        "outputId": "55a253fd-83b8-4051-dbef-404be4d09f38"
      },
      "execution_count": null,
      "outputs": [
        {
          "output_type": "execute_result",
          "data": {
            "text/plain": [
              "{'Acer_Capillipes',\n",
              " 'Acer_Circinatum',\n",
              " 'Acer_Mono',\n",
              " 'Acer_Opalus',\n",
              " 'Acer_Palmatum',\n",
              " 'Acer_Pictum',\n",
              " 'Acer_Platanoids',\n",
              " 'Acer_Rubrum',\n",
              " 'Acer_Rufinerve',\n",
              " 'Acer_Saccharinum',\n",
              " 'Alnus_Cordata',\n",
              " 'Alnus_Maximowiczii',\n",
              " 'Alnus_Rubra',\n",
              " 'Alnus_Sieboldiana',\n",
              " 'Alnus_Viridis',\n",
              " 'Arundinaria_Simonii',\n",
              " 'Betula_Austrosinensis',\n",
              " 'Betula_Pendula',\n",
              " 'Callicarpa_Bodinieri',\n",
              " 'Castanea_Sativa',\n",
              " 'Celtis_Koraiensis',\n",
              " 'Cercis_Siliquastrum',\n",
              " 'Cornus_Chinensis',\n",
              " 'Cornus_Controversa',\n",
              " 'Cornus_Macrophylla',\n",
              " 'Cotinus_Coggygria',\n",
              " 'Crataegus_Monogyna',\n",
              " 'Cytisus_Battandieri',\n",
              " 'Eucalyptus_Glaucescens',\n",
              " 'Eucalyptus_Neglecta',\n",
              " 'Eucalyptus_Urnigera',\n",
              " 'Fagus_Sylvatica',\n",
              " 'Ginkgo_Biloba',\n",
              " 'Ilex_Aquifolium',\n",
              " 'Ilex_Cornuta',\n",
              " 'Liquidambar_Styraciflua',\n",
              " 'Liriodendron_Tulipifera',\n",
              " 'Lithocarpus_Cleistocarpus',\n",
              " 'Lithocarpus_Edulis',\n",
              " 'Magnolia_Heptapeta',\n",
              " 'Magnolia_Salicifolia',\n",
              " 'Morus_Nigra',\n",
              " 'Olea_Europaea',\n",
              " 'Phildelphus',\n",
              " 'Populus_Adenopoda',\n",
              " 'Populus_Grandidentata',\n",
              " 'Populus_Nigra',\n",
              " 'Prunus_Avium',\n",
              " 'Prunus_X_Shmittii',\n",
              " 'Pterocarya_Stenoptera',\n",
              " 'Quercus_Afares',\n",
              " 'Quercus_Agrifolia',\n",
              " 'Quercus_Alnifolia',\n",
              " 'Quercus_Brantii',\n",
              " 'Quercus_Canariensis',\n",
              " 'Quercus_Castaneifolia',\n",
              " 'Quercus_Cerris',\n",
              " 'Quercus_Chrysolepis',\n",
              " 'Quercus_Coccifera',\n",
              " 'Quercus_Coccinea',\n",
              " 'Quercus_Crassifolia',\n",
              " 'Quercus_Crassipes',\n",
              " 'Quercus_Dolicholepis',\n",
              " 'Quercus_Ellipsoidalis',\n",
              " 'Quercus_Greggii',\n",
              " 'Quercus_Hartwissiana',\n",
              " 'Quercus_Ilex',\n",
              " 'Quercus_Imbricaria',\n",
              " 'Quercus_Infectoria_sub',\n",
              " 'Quercus_Kewensis',\n",
              " 'Quercus_Nigra',\n",
              " 'Quercus_Palustris',\n",
              " 'Quercus_Phellos',\n",
              " 'Quercus_Phillyraeoides',\n",
              " 'Quercus_Pontica',\n",
              " 'Quercus_Pubescens',\n",
              " 'Quercus_Pyrenaica',\n",
              " 'Quercus_Rhysophylla',\n",
              " 'Quercus_Rubra',\n",
              " 'Quercus_Semecarpifolia',\n",
              " 'Quercus_Shumardii',\n",
              " 'Quercus_Suber',\n",
              " 'Quercus_Texana',\n",
              " 'Quercus_Trojana',\n",
              " 'Quercus_Variabilis',\n",
              " 'Quercus_Vulcanica',\n",
              " 'Quercus_x_Hispanica',\n",
              " 'Quercus_x_Turneri',\n",
              " 'Rhododendron_x_Russellianum',\n",
              " 'Salix_Fragilis',\n",
              " 'Salix_Intergra',\n",
              " 'Sorbus_Aria',\n",
              " 'Tilia_Oliveri',\n",
              " 'Tilia_Platyphyllos',\n",
              " 'Tilia_Tomentosa',\n",
              " 'Ulmus_Bergmanniana',\n",
              " 'Viburnum_Tinus',\n",
              " 'Viburnum_x_Rhytidophylloides',\n",
              " 'Zelkova_Serrata'}"
            ]
          },
          "metadata": {},
          "execution_count": 53
        }
      ]
    },
    {
      "cell_type": "code",
      "source": [
        "set(train_pd.species).symmetric_difference(set(train_pd.margin1))"
      ],
      "metadata": {
        "colab": {
          "base_uri": "https://localhost:8080/"
        },
        "id": "wCGyRYZOG0Gn",
        "outputId": "eafb2281-a04d-4b23-f068-c76ef6bb0134"
      },
      "execution_count": null,
      "outputs": [
        {
          "output_type": "execute_result",
          "data": {
            "text/plain": [
              "{0.0,\n",
              " 0.001953,\n",
              " 0.003906,\n",
              " 0.005859,\n",
              " 0.007812,\n",
              " 0.009766,\n",
              " 0.011719,\n",
              " 0.013672,\n",
              " 0.015625,\n",
              " 0.017578,\n",
              " 0.019531,\n",
              " 0.021484,\n",
              " 0.023438,\n",
              " 0.025391,\n",
              " 0.027344,\n",
              " 0.029297,\n",
              " 0.03125,\n",
              " 0.033203,\n",
              " 0.035156,\n",
              " 0.037109,\n",
              " 0.039062,\n",
              " 0.041016,\n",
              " 0.042969,\n",
              " 0.044922,\n",
              " 0.046875,\n",
              " 0.048828,\n",
              " 0.050781,\n",
              " 0.052734,\n",
              " 0.054688,\n",
              " 0.056641,\n",
              " 0.058594,\n",
              " 0.060547,\n",
              " 0.0625,\n",
              " 0.064453,\n",
              " 0.066406,\n",
              " 0.068359,\n",
              " 0.070312,\n",
              " 0.072266,\n",
              " 0.074219,\n",
              " 0.076172,\n",
              " 0.078125,\n",
              " 0.080078,\n",
              " 0.082031,\n",
              " 0.083984,\n",
              " 0.085938,\n",
              " 0.087891,\n",
              " 'Acer_Capillipes',\n",
              " 'Acer_Circinatum',\n",
              " 'Acer_Mono',\n",
              " 'Acer_Opalus',\n",
              " 'Acer_Palmatum',\n",
              " 'Acer_Pictum',\n",
              " 'Acer_Platanoids',\n",
              " 'Acer_Rubrum',\n",
              " 'Acer_Rufinerve',\n",
              " 'Acer_Saccharinum',\n",
              " 'Alnus_Cordata',\n",
              " 'Alnus_Maximowiczii',\n",
              " 'Alnus_Rubra',\n",
              " 'Alnus_Sieboldiana',\n",
              " 'Alnus_Viridis',\n",
              " 'Arundinaria_Simonii',\n",
              " 'Betula_Austrosinensis',\n",
              " 'Betula_Pendula',\n",
              " 'Callicarpa_Bodinieri',\n",
              " 'Castanea_Sativa',\n",
              " 'Celtis_Koraiensis',\n",
              " 'Cercis_Siliquastrum',\n",
              " 'Cornus_Chinensis',\n",
              " 'Cornus_Controversa',\n",
              " 'Cornus_Macrophylla',\n",
              " 'Cotinus_Coggygria',\n",
              " 'Crataegus_Monogyna',\n",
              " 'Cytisus_Battandieri',\n",
              " 'Eucalyptus_Glaucescens',\n",
              " 'Eucalyptus_Neglecta',\n",
              " 'Eucalyptus_Urnigera',\n",
              " 'Fagus_Sylvatica',\n",
              " 'Ginkgo_Biloba',\n",
              " 'Ilex_Aquifolium',\n",
              " 'Ilex_Cornuta',\n",
              " 'Liquidambar_Styraciflua',\n",
              " 'Liriodendron_Tulipifera',\n",
              " 'Lithocarpus_Cleistocarpus',\n",
              " 'Lithocarpus_Edulis',\n",
              " 'Magnolia_Heptapeta',\n",
              " 'Magnolia_Salicifolia',\n",
              " 'Morus_Nigra',\n",
              " 'Olea_Europaea',\n",
              " 'Phildelphus',\n",
              " 'Populus_Adenopoda',\n",
              " 'Populus_Grandidentata',\n",
              " 'Populus_Nigra',\n",
              " 'Prunus_Avium',\n",
              " 'Prunus_X_Shmittii',\n",
              " 'Pterocarya_Stenoptera',\n",
              " 'Quercus_Afares',\n",
              " 'Quercus_Agrifolia',\n",
              " 'Quercus_Alnifolia',\n",
              " 'Quercus_Brantii',\n",
              " 'Quercus_Canariensis',\n",
              " 'Quercus_Castaneifolia',\n",
              " 'Quercus_Cerris',\n",
              " 'Quercus_Chrysolepis',\n",
              " 'Quercus_Coccifera',\n",
              " 'Quercus_Coccinea',\n",
              " 'Quercus_Crassifolia',\n",
              " 'Quercus_Crassipes',\n",
              " 'Quercus_Dolicholepis',\n",
              " 'Quercus_Ellipsoidalis',\n",
              " 'Quercus_Greggii',\n",
              " 'Quercus_Hartwissiana',\n",
              " 'Quercus_Ilex',\n",
              " 'Quercus_Imbricaria',\n",
              " 'Quercus_Infectoria_sub',\n",
              " 'Quercus_Kewensis',\n",
              " 'Quercus_Nigra',\n",
              " 'Quercus_Palustris',\n",
              " 'Quercus_Phellos',\n",
              " 'Quercus_Phillyraeoides',\n",
              " 'Quercus_Pontica',\n",
              " 'Quercus_Pubescens',\n",
              " 'Quercus_Pyrenaica',\n",
              " 'Quercus_Rhysophylla',\n",
              " 'Quercus_Rubra',\n",
              " 'Quercus_Semecarpifolia',\n",
              " 'Quercus_Shumardii',\n",
              " 'Quercus_Suber',\n",
              " 'Quercus_Texana',\n",
              " 'Quercus_Trojana',\n",
              " 'Quercus_Variabilis',\n",
              " 'Quercus_Vulcanica',\n",
              " 'Quercus_x_Hispanica',\n",
              " 'Quercus_x_Turneri',\n",
              " 'Rhododendron_x_Russellianum',\n",
              " 'Salix_Fragilis',\n",
              " 'Salix_Intergra',\n",
              " 'Sorbus_Aria',\n",
              " 'Tilia_Oliveri',\n",
              " 'Tilia_Platyphyllos',\n",
              " 'Tilia_Tomentosa',\n",
              " 'Ulmus_Bergmanniana',\n",
              " 'Viburnum_Tinus',\n",
              " 'Viburnum_x_Rhytidophylloides',\n",
              " 'Zelkova_Serrata'}"
            ]
          },
          "metadata": {},
          "execution_count": 54
        }
      ]
    },
    {
      "cell_type": "code",
      "source": [
        "test.columns \n",
        "test_pd =pd.DataFrame(data=test)\n",
        "test_pd"
      ],
      "metadata": {
        "colab": {
          "base_uri": "https://localhost:8080/",
          "height": 488
        },
        "id": "31--JFFLE06A",
        "outputId": "c6b6c13b-8fbd-4c47-e810-d777533e2bcd"
      },
      "execution_count": null,
      "outputs": [
        {
          "output_type": "execute_result",
          "data": {
            "text/plain": [
              "       id   margin1   margin2   margin3   margin4   margin5   margin6  \\\n",
              "0       4  0.019531  0.009766  0.078125  0.011719  0.003906  0.015625   \n",
              "1       7  0.007812  0.005859  0.064453  0.009766  0.003906  0.013672   \n",
              "2       9  0.000000  0.000000  0.001953  0.021484  0.041016  0.000000   \n",
              "3      12  0.000000  0.000000  0.009766  0.011719  0.017578  0.000000   \n",
              "4      13  0.001953  0.000000  0.015625  0.009766  0.039062  0.000000   \n",
              "..    ...       ...       ...       ...       ...       ...       ...   \n",
              "589  1576  0.000000  0.000000  0.003906  0.015625  0.041016  0.000000   \n",
              "590  1577  0.000000  0.003906  0.003906  0.005859  0.017578  0.000000   \n",
              "591  1579  0.017578  0.029297  0.015625  0.013672  0.003906  0.015625   \n",
              "592  1580  0.013672  0.009766  0.060547  0.025391  0.035156  0.025391   \n",
              "593  1583  0.000000  0.117190  0.000000  0.019531  0.000000  0.136720   \n",
              "\n",
              "      margin7   margin8   margin9  ...  texture55  texture56  texture57  \\\n",
              "0    0.005859  0.000000  0.005859  ...   0.006836   0.000000   0.015625   \n",
              "1    0.007812  0.000000  0.033203  ...   0.000000   0.000000   0.006836   \n",
              "2    0.023438  0.000000  0.011719  ...   0.128910   0.000000   0.000977   \n",
              "3    0.003906  0.000000  0.003906  ...   0.012695   0.015625   0.002930   \n",
              "4    0.009766  0.000000  0.005859  ...   0.000000   0.042969   0.016602   \n",
              "..        ...       ...       ...  ...        ...        ...        ...   \n",
              "589  0.017578  0.000000  0.005859  ...   0.098633   0.000000   0.004883   \n",
              "590  0.017578  0.005859  0.000000  ...   0.012695   0.004883   0.004883   \n",
              "591  0.025391  0.000000  0.000000  ...   0.073242   0.000000   0.028320   \n",
              "592  0.039062  0.000000  0.003906  ...   0.003906   0.000000   0.000977   \n",
              "593  0.001953  0.005859  0.000000  ...   0.107420   0.012695   0.016602   \n",
              "\n",
              "     texture58  texture59  texture60  texture61  texture62  texture63  \\\n",
              "0     0.000977   0.015625        0.0        0.0   0.000000   0.003906   \n",
              "1     0.001953   0.013672        0.0        0.0   0.000977   0.037109   \n",
              "2     0.000000   0.000000        0.0        0.0   0.015625   0.000000   \n",
              "3     0.036133   0.013672        0.0        0.0   0.089844   0.000000   \n",
              "4     0.010742   0.041016        0.0        0.0   0.007812   0.009766   \n",
              "..         ...        ...        ...        ...        ...        ...   \n",
              "589   0.000000   0.003906        0.0        0.0   0.018555   0.000000   \n",
              "590   0.002930   0.009766        0.0        0.0   0.090820   0.000000   \n",
              "591   0.000000   0.001953        0.0        0.0   0.000000   0.042969   \n",
              "592   0.000000   0.011719        0.0        0.0   0.000000   0.011719   \n",
              "593   0.000977   0.004883        0.0        0.0   0.015625   0.000000   \n",
              "\n",
              "     texture64  \n",
              "0     0.053711  \n",
              "1     0.044922  \n",
              "2     0.000000  \n",
              "3     0.008789  \n",
              "4     0.007812  \n",
              "..         ...  \n",
              "589   0.000977  \n",
              "590   0.016602  \n",
              "591   0.006836  \n",
              "592   0.018555  \n",
              "593   0.017578  \n",
              "\n",
              "[594 rows x 193 columns]"
            ],
            "text/html": [
              "\n",
              "  <div id=\"df-b148ae0f-eca7-4ed1-879d-518f560842f1\">\n",
              "    <div class=\"colab-df-container\">\n",
              "      <div>\n",
              "<style scoped>\n",
              "    .dataframe tbody tr th:only-of-type {\n",
              "        vertical-align: middle;\n",
              "    }\n",
              "\n",
              "    .dataframe tbody tr th {\n",
              "        vertical-align: top;\n",
              "    }\n",
              "\n",
              "    .dataframe thead th {\n",
              "        text-align: right;\n",
              "    }\n",
              "</style>\n",
              "<table border=\"1\" class=\"dataframe\">\n",
              "  <thead>\n",
              "    <tr style=\"text-align: right;\">\n",
              "      <th></th>\n",
              "      <th>id</th>\n",
              "      <th>margin1</th>\n",
              "      <th>margin2</th>\n",
              "      <th>margin3</th>\n",
              "      <th>margin4</th>\n",
              "      <th>margin5</th>\n",
              "      <th>margin6</th>\n",
              "      <th>margin7</th>\n",
              "      <th>margin8</th>\n",
              "      <th>margin9</th>\n",
              "      <th>...</th>\n",
              "      <th>texture55</th>\n",
              "      <th>texture56</th>\n",
              "      <th>texture57</th>\n",
              "      <th>texture58</th>\n",
              "      <th>texture59</th>\n",
              "      <th>texture60</th>\n",
              "      <th>texture61</th>\n",
              "      <th>texture62</th>\n",
              "      <th>texture63</th>\n",
              "      <th>texture64</th>\n",
              "    </tr>\n",
              "  </thead>\n",
              "  <tbody>\n",
              "    <tr>\n",
              "      <th>0</th>\n",
              "      <td>4</td>\n",
              "      <td>0.019531</td>\n",
              "      <td>0.009766</td>\n",
              "      <td>0.078125</td>\n",
              "      <td>0.011719</td>\n",
              "      <td>0.003906</td>\n",
              "      <td>0.015625</td>\n",
              "      <td>0.005859</td>\n",
              "      <td>0.000000</td>\n",
              "      <td>0.005859</td>\n",
              "      <td>...</td>\n",
              "      <td>0.006836</td>\n",
              "      <td>0.000000</td>\n",
              "      <td>0.015625</td>\n",
              "      <td>0.000977</td>\n",
              "      <td>0.015625</td>\n",
              "      <td>0.0</td>\n",
              "      <td>0.0</td>\n",
              "      <td>0.000000</td>\n",
              "      <td>0.003906</td>\n",
              "      <td>0.053711</td>\n",
              "    </tr>\n",
              "    <tr>\n",
              "      <th>1</th>\n",
              "      <td>7</td>\n",
              "      <td>0.007812</td>\n",
              "      <td>0.005859</td>\n",
              "      <td>0.064453</td>\n",
              "      <td>0.009766</td>\n",
              "      <td>0.003906</td>\n",
              "      <td>0.013672</td>\n",
              "      <td>0.007812</td>\n",
              "      <td>0.000000</td>\n",
              "      <td>0.033203</td>\n",
              "      <td>...</td>\n",
              "      <td>0.000000</td>\n",
              "      <td>0.000000</td>\n",
              "      <td>0.006836</td>\n",
              "      <td>0.001953</td>\n",
              "      <td>0.013672</td>\n",
              "      <td>0.0</td>\n",
              "      <td>0.0</td>\n",
              "      <td>0.000977</td>\n",
              "      <td>0.037109</td>\n",
              "      <td>0.044922</td>\n",
              "    </tr>\n",
              "    <tr>\n",
              "      <th>2</th>\n",
              "      <td>9</td>\n",
              "      <td>0.000000</td>\n",
              "      <td>0.000000</td>\n",
              "      <td>0.001953</td>\n",
              "      <td>0.021484</td>\n",
              "      <td>0.041016</td>\n",
              "      <td>0.000000</td>\n",
              "      <td>0.023438</td>\n",
              "      <td>0.000000</td>\n",
              "      <td>0.011719</td>\n",
              "      <td>...</td>\n",
              "      <td>0.128910</td>\n",
              "      <td>0.000000</td>\n",
              "      <td>0.000977</td>\n",
              "      <td>0.000000</td>\n",
              "      <td>0.000000</td>\n",
              "      <td>0.0</td>\n",
              "      <td>0.0</td>\n",
              "      <td>0.015625</td>\n",
              "      <td>0.000000</td>\n",
              "      <td>0.000000</td>\n",
              "    </tr>\n",
              "    <tr>\n",
              "      <th>3</th>\n",
              "      <td>12</td>\n",
              "      <td>0.000000</td>\n",
              "      <td>0.000000</td>\n",
              "      <td>0.009766</td>\n",
              "      <td>0.011719</td>\n",
              "      <td>0.017578</td>\n",
              "      <td>0.000000</td>\n",
              "      <td>0.003906</td>\n",
              "      <td>0.000000</td>\n",
              "      <td>0.003906</td>\n",
              "      <td>...</td>\n",
              "      <td>0.012695</td>\n",
              "      <td>0.015625</td>\n",
              "      <td>0.002930</td>\n",
              "      <td>0.036133</td>\n",
              "      <td>0.013672</td>\n",
              "      <td>0.0</td>\n",
              "      <td>0.0</td>\n",
              "      <td>0.089844</td>\n",
              "      <td>0.000000</td>\n",
              "      <td>0.008789</td>\n",
              "    </tr>\n",
              "    <tr>\n",
              "      <th>4</th>\n",
              "      <td>13</td>\n",
              "      <td>0.001953</td>\n",
              "      <td>0.000000</td>\n",
              "      <td>0.015625</td>\n",
              "      <td>0.009766</td>\n",
              "      <td>0.039062</td>\n",
              "      <td>0.000000</td>\n",
              "      <td>0.009766</td>\n",
              "      <td>0.000000</td>\n",
              "      <td>0.005859</td>\n",
              "      <td>...</td>\n",
              "      <td>0.000000</td>\n",
              "      <td>0.042969</td>\n",
              "      <td>0.016602</td>\n",
              "      <td>0.010742</td>\n",
              "      <td>0.041016</td>\n",
              "      <td>0.0</td>\n",
              "      <td>0.0</td>\n",
              "      <td>0.007812</td>\n",
              "      <td>0.009766</td>\n",
              "      <td>0.007812</td>\n",
              "    </tr>\n",
              "    <tr>\n",
              "      <th>...</th>\n",
              "      <td>...</td>\n",
              "      <td>...</td>\n",
              "      <td>...</td>\n",
              "      <td>...</td>\n",
              "      <td>...</td>\n",
              "      <td>...</td>\n",
              "      <td>...</td>\n",
              "      <td>...</td>\n",
              "      <td>...</td>\n",
              "      <td>...</td>\n",
              "      <td>...</td>\n",
              "      <td>...</td>\n",
              "      <td>...</td>\n",
              "      <td>...</td>\n",
              "      <td>...</td>\n",
              "      <td>...</td>\n",
              "      <td>...</td>\n",
              "      <td>...</td>\n",
              "      <td>...</td>\n",
              "      <td>...</td>\n",
              "      <td>...</td>\n",
              "    </tr>\n",
              "    <tr>\n",
              "      <th>589</th>\n",
              "      <td>1576</td>\n",
              "      <td>0.000000</td>\n",
              "      <td>0.000000</td>\n",
              "      <td>0.003906</td>\n",
              "      <td>0.015625</td>\n",
              "      <td>0.041016</td>\n",
              "      <td>0.000000</td>\n",
              "      <td>0.017578</td>\n",
              "      <td>0.000000</td>\n",
              "      <td>0.005859</td>\n",
              "      <td>...</td>\n",
              "      <td>0.098633</td>\n",
              "      <td>0.000000</td>\n",
              "      <td>0.004883</td>\n",
              "      <td>0.000000</td>\n",
              "      <td>0.003906</td>\n",
              "      <td>0.0</td>\n",
              "      <td>0.0</td>\n",
              "      <td>0.018555</td>\n",
              "      <td>0.000000</td>\n",
              "      <td>0.000977</td>\n",
              "    </tr>\n",
              "    <tr>\n",
              "      <th>590</th>\n",
              "      <td>1577</td>\n",
              "      <td>0.000000</td>\n",
              "      <td>0.003906</td>\n",
              "      <td>0.003906</td>\n",
              "      <td>0.005859</td>\n",
              "      <td>0.017578</td>\n",
              "      <td>0.000000</td>\n",
              "      <td>0.017578</td>\n",
              "      <td>0.005859</td>\n",
              "      <td>0.000000</td>\n",
              "      <td>...</td>\n",
              "      <td>0.012695</td>\n",
              "      <td>0.004883</td>\n",
              "      <td>0.004883</td>\n",
              "      <td>0.002930</td>\n",
              "      <td>0.009766</td>\n",
              "      <td>0.0</td>\n",
              "      <td>0.0</td>\n",
              "      <td>0.090820</td>\n",
              "      <td>0.000000</td>\n",
              "      <td>0.016602</td>\n",
              "    </tr>\n",
              "    <tr>\n",
              "      <th>591</th>\n",
              "      <td>1579</td>\n",
              "      <td>0.017578</td>\n",
              "      <td>0.029297</td>\n",
              "      <td>0.015625</td>\n",
              "      <td>0.013672</td>\n",
              "      <td>0.003906</td>\n",
              "      <td>0.015625</td>\n",
              "      <td>0.025391</td>\n",
              "      <td>0.000000</td>\n",
              "      <td>0.000000</td>\n",
              "      <td>...</td>\n",
              "      <td>0.073242</td>\n",
              "      <td>0.000000</td>\n",
              "      <td>0.028320</td>\n",
              "      <td>0.000000</td>\n",
              "      <td>0.001953</td>\n",
              "      <td>0.0</td>\n",
              "      <td>0.0</td>\n",
              "      <td>0.000000</td>\n",
              "      <td>0.042969</td>\n",
              "      <td>0.006836</td>\n",
              "    </tr>\n",
              "    <tr>\n",
              "      <th>592</th>\n",
              "      <td>1580</td>\n",
              "      <td>0.013672</td>\n",
              "      <td>0.009766</td>\n",
              "      <td>0.060547</td>\n",
              "      <td>0.025391</td>\n",
              "      <td>0.035156</td>\n",
              "      <td>0.025391</td>\n",
              "      <td>0.039062</td>\n",
              "      <td>0.000000</td>\n",
              "      <td>0.003906</td>\n",
              "      <td>...</td>\n",
              "      <td>0.003906</td>\n",
              "      <td>0.000000</td>\n",
              "      <td>0.000977</td>\n",
              "      <td>0.000000</td>\n",
              "      <td>0.011719</td>\n",
              "      <td>0.0</td>\n",
              "      <td>0.0</td>\n",
              "      <td>0.000000</td>\n",
              "      <td>0.011719</td>\n",
              "      <td>0.018555</td>\n",
              "    </tr>\n",
              "    <tr>\n",
              "      <th>593</th>\n",
              "      <td>1583</td>\n",
              "      <td>0.000000</td>\n",
              "      <td>0.117190</td>\n",
              "      <td>0.000000</td>\n",
              "      <td>0.019531</td>\n",
              "      <td>0.000000</td>\n",
              "      <td>0.136720</td>\n",
              "      <td>0.001953</td>\n",
              "      <td>0.005859</td>\n",
              "      <td>0.000000</td>\n",
              "      <td>...</td>\n",
              "      <td>0.107420</td>\n",
              "      <td>0.012695</td>\n",
              "      <td>0.016602</td>\n",
              "      <td>0.000977</td>\n",
              "      <td>0.004883</td>\n",
              "      <td>0.0</td>\n",
              "      <td>0.0</td>\n",
              "      <td>0.015625</td>\n",
              "      <td>0.000000</td>\n",
              "      <td>0.017578</td>\n",
              "    </tr>\n",
              "  </tbody>\n",
              "</table>\n",
              "<p>594 rows × 193 columns</p>\n",
              "</div>\n",
              "      <button class=\"colab-df-convert\" onclick=\"convertToInteractive('df-b148ae0f-eca7-4ed1-879d-518f560842f1')\"\n",
              "              title=\"Convert this dataframe to an interactive table.\"\n",
              "              style=\"display:none;\">\n",
              "        \n",
              "  <svg xmlns=\"http://www.w3.org/2000/svg\" height=\"24px\"viewBox=\"0 0 24 24\"\n",
              "       width=\"24px\">\n",
              "    <path d=\"M0 0h24v24H0V0z\" fill=\"none\"/>\n",
              "    <path d=\"M18.56 5.44l.94 2.06.94-2.06 2.06-.94-2.06-.94-.94-2.06-.94 2.06-2.06.94zm-11 1L8.5 8.5l.94-2.06 2.06-.94-2.06-.94L8.5 2.5l-.94 2.06-2.06.94zm10 10l.94 2.06.94-2.06 2.06-.94-2.06-.94-.94-2.06-.94 2.06-2.06.94z\"/><path d=\"M17.41 7.96l-1.37-1.37c-.4-.4-.92-.59-1.43-.59-.52 0-1.04.2-1.43.59L10.3 9.45l-7.72 7.72c-.78.78-.78 2.05 0 2.83L4 21.41c.39.39.9.59 1.41.59.51 0 1.02-.2 1.41-.59l7.78-7.78 2.81-2.81c.8-.78.8-2.07 0-2.86zM5.41 20L4 18.59l7.72-7.72 1.47 1.35L5.41 20z\"/>\n",
              "  </svg>\n",
              "      </button>\n",
              "      \n",
              "  <style>\n",
              "    .colab-df-container {\n",
              "      display:flex;\n",
              "      flex-wrap:wrap;\n",
              "      gap: 12px;\n",
              "    }\n",
              "\n",
              "    .colab-df-convert {\n",
              "      background-color: #E8F0FE;\n",
              "      border: none;\n",
              "      border-radius: 50%;\n",
              "      cursor: pointer;\n",
              "      display: none;\n",
              "      fill: #1967D2;\n",
              "      height: 32px;\n",
              "      padding: 0 0 0 0;\n",
              "      width: 32px;\n",
              "    }\n",
              "\n",
              "    .colab-df-convert:hover {\n",
              "      background-color: #E2EBFA;\n",
              "      box-shadow: 0px 1px 2px rgba(60, 64, 67, 0.3), 0px 1px 3px 1px rgba(60, 64, 67, 0.15);\n",
              "      fill: #174EA6;\n",
              "    }\n",
              "\n",
              "    [theme=dark] .colab-df-convert {\n",
              "      background-color: #3B4455;\n",
              "      fill: #D2E3FC;\n",
              "    }\n",
              "\n",
              "    [theme=dark] .colab-df-convert:hover {\n",
              "      background-color: #434B5C;\n",
              "      box-shadow: 0px 1px 3px 1px rgba(0, 0, 0, 0.15);\n",
              "      filter: drop-shadow(0px 1px 2px rgba(0, 0, 0, 0.3));\n",
              "      fill: #FFFFFF;\n",
              "    }\n",
              "  </style>\n",
              "\n",
              "      <script>\n",
              "        const buttonEl =\n",
              "          document.querySelector('#df-b148ae0f-eca7-4ed1-879d-518f560842f1 button.colab-df-convert');\n",
              "        buttonEl.style.display =\n",
              "          google.colab.kernel.accessAllowed ? 'block' : 'none';\n",
              "\n",
              "        async function convertToInteractive(key) {\n",
              "          const element = document.querySelector('#df-b148ae0f-eca7-4ed1-879d-518f560842f1');\n",
              "          const dataTable =\n",
              "            await google.colab.kernel.invokeFunction('convertToInteractive',\n",
              "                                                     [key], {});\n",
              "          if (!dataTable) return;\n",
              "\n",
              "          const docLinkHtml = 'Like what you see? Visit the ' +\n",
              "            '<a target=\"_blank\" href=https://colab.research.google.com/notebooks/data_table.ipynb>data table notebook</a>'\n",
              "            + ' to learn more about interactive tables.';\n",
              "          element.innerHTML = '';\n",
              "          dataTable['output_type'] = 'display_data';\n",
              "          await google.colab.output.renderOutput(dataTable, element);\n",
              "          const docLink = document.createElement('div');\n",
              "          docLink.innerHTML = docLinkHtml;\n",
              "          element.appendChild(docLink);\n",
              "        }\n",
              "      </script>\n",
              "    </div>\n",
              "  </div>\n",
              "  "
            ]
          },
          "metadata": {},
          "execution_count": 56
        }
      ]
    },
    {
      "cell_type": "markdown",
      "metadata": {
        "id": "jWnWyxmX_vxH"
      },
      "source": [
        " * **Answer:**"
      ]
    },
    {
      "cell_type": "markdown",
      "metadata": {
        "id": "Wb1tkZKH_vxI"
      },
      "source": [
        "With our training data and images loaded into memory.\n",
        "It is time to take a look at the data.\n",
        "Trying to classify leaves does not sound like a particularly difficult or interesting problem.\n",
        "We have probably all had teachers forcing us to do it on field trips as children.\n",
        "\n",
        "But try to take a look at **all** the different categories and come up with a system that discerns **all** types of leaves from each other. (In fact, distinguishing crops from weed using AI is already a thing: [weed-killing AI](https://www.cnbc.com/2018/06/04/weed-killing-ai-robot.html).)"
      ]
    },
    {
      "cell_type": "code",
      "execution_count": null,
      "metadata": {
        "colab": {
          "base_uri": "https://localhost:8080/",
          "height": 349
        },
        "id": "r8UJGeOt_vxJ",
        "outputId": "68f48479-d165-4b23-d591-baaebf1f6cf7"
      },
      "outputs": [
        {
          "output_type": "display_data",
          "data": {
            "text/plain": [
              "<Figure size 576x576 with 1 Axes>"
            ],
            "image/png": "[encoded data removed]"
          },
          "metadata": {
            "needs_background": "light"
          }
        }
      ],
      "source": [
        "# First we find an example of each species in order to visualize it\n",
        "species = np.array(sorted(train.species.unique()))\n",
        "species_examples = [np.random.choice(train[train.species == s].id.values) for s in species]\n",
        "\n",
        "# Then we gather its index in our list of images in order to find the correct image\n",
        "indexes = [image_paths.index(drive_path + '/images/{}.jpg'.format(i)) for i in species_examples]\n",
        "\n",
        "# Display the first image\n",
        "plt.figure(figsize=(8, 8))\n",
        "image = imread(image_paths[indexes[0]], as_gray=True)\n",
        "plt.imshow(image, cmap='gray')\n",
        "plt.title(\"%s\" % (species[0]))\n",
        "plt.axis('off')\n",
        "plt.show()"
      ]
    },
    {
      "cell_type": "markdown",
      "metadata": {
        "id": "ihc9oIV7_vxJ"
      },
      "source": [
        "## Exercise 2\n",
        "2.1) In general it is a good approach to visualize an image for each category to get a better feeling of the task. You should now write some code to show 1 image from each category. You might want to use plt.subplot()."
      ]
    },
    {
      "cell_type": "code",
      "source": [
        "indexes[0:3]"
      ],
      "metadata": {
        "colab": {
          "base_uri": "https://localhost:8080/"
        },
        "id": "9RFV0P1CJ1Yy",
        "outputId": "8d2cc542-f9d8-465b-81ad-e57f55a98ca1"
      },
      "execution_count": null,
      "outputs": [
        {
          "output_type": "execute_result",
          "data": {
            "text/plain": [
              "[438, 1003, 868]"
            ]
          },
          "metadata": {},
          "execution_count": 68
        }
      ]
    },
    {
      "cell_type": "code",
      "execution_count": null,
      "metadata": {
        "colab": {
          "base_uri": "https://localhost:8080/",
          "height": 312
        },
        "id": "65iypGdv_vxK",
        "outputId": "0d384ffa-49c6-442c-966c-639e5d951377"
      },
      "outputs": [
        {
          "output_type": "execute_result",
          "data": {
            "text/plain": [
              "Text(0.5, 0.98, 'Vertically stacked subplots')"
            ]
          },
          "metadata": {},
          "execution_count": 76
        },
        {
          "output_type": "display_data",
          "data": {
            "text/plain": [
              "<Figure size 432x288 with 10 Axes>"
            ],
            "image/png": "[encoded data removed]"
          },
          "metadata": {
            "needs_background": "light"
          }
        }
      ],
      "source": [
        "# Now plot 1 image from each category\n",
        "\n",
        "\n",
        "fig, axs = plt.subplots(10)\n",
        "for i in range(2):\n",
        "  image = imread(image_paths[indexes[i]], as_gray=True)\n",
        "  #plt.imshow(image, cmap='gray' )\n",
        "  axs[i].contourf(image, cmap=\"gray\")\n",
        "  axs[i].set_title(str(250+i))\n",
        "fig.suptitle('Vertically stacked subplots')\n"
      ]
    },
    {
      "cell_type": "code",
      "source": [
        "fig, axs = plt.subplots(10,10, figsize=(15, 15), facecolor='w', edgecolor='k')\n",
        "fig.subplots_adjust(hspace = .5, wspace=.001)\n",
        "\n",
        "axs = axs.ravel()\n",
        "\n",
        "for i in range(len(indexes)):\n",
        "  image = imread(image_paths[indexes[i]], as_gray=True)\n",
        "  axs[i].contourf(image, cmap=\"gray\")\n",
        "  axs[i].set_title(str(250+i))\n"
      ],
      "metadata": {
        "colab": {
          "base_uri": "https://localhost:8080/",
          "height": 879
        },
        "id": "MFJQ2NDOKwRC",
        "outputId": "e3d165cd-4fa6-4b0f-dc67-f71ae320884e"
      },
      "execution_count": null,
      "outputs": [
        {
          "output_type": "display_data",
          "data": {
            "text/plain": [
              "<Figure size 1080x1080 with 100 Axes>"
            ],
            "image/png": "[encoded data removed]"
          },
          "metadata": {}
        }
      ]
    },
    {
      "cell_type": "markdown",
      "metadata": {
        "id": "qyL0U_jl_vxK"
      },
      "source": [
        "As you can see, classifying leaves is actually a very tough problem.\n",
        "What makes it even worse is that we cannot use all the image data we have available.\n",
        "In order to decrease the amount of computation needed, we need to reduce the size of the images as much as possible.\n",
        "On top of that, our neural network usually only accepts fixed-size input tensors.\n",
        "This means we will have to change the shape of the images so that they all have the same sizes.\n",
        "\n",
        "\n",
        "Resizing is problematic because it alters the shape of the leaves, and for some of them, this is their most distinctive feature. Take a look at `Salix_Intergra` in the bottom left corner.\n",
        "Describing this leaf without taking its shape into account seems extremely difficult.\n",
        "\n",
        "Therefore we will \n",
        "1. first pad all the images into squares, and\n",
        "2. then resize them."
      ]
    },
    {
      "cell_type": "code",
      "source": [],
      "metadata": {
        "id": "BwuEQTSPMzjn"
      },
      "execution_count": null,
      "outputs": []
    },
    {
      "cell_type": "markdown",
      "metadata": {
        "id": "25QIM7k2_vxK"
      },
      "source": [
        "## Exercise 3\n",
        "\n",
        "3.1) **Find an appropriate image size**. Test various resizings of the image until you have found the smallest resizing of the image where you \"can still differentiate between the images\".\n",
        "How small is too small should ultimately be determined by an actual test, but what makes sense visually is probably a good place to start.\n",
        "Change the `image_size = (?, ?)` parameter below, and note your choice.\n",
        " * **Answer:**\n"
      ]
    },
    {
      "cell_type": "code",
      "execution_count": null,
      "metadata": {
        "id": "nBdiYX6z_vxL",
        "colab": {
          "base_uri": "https://localhost:8080/",
          "height": 403
        },
        "outputId": "52cb2f72-7839-44eb-99ca-6266488512f5"
      },
      "outputs": [
        {
          "output_type": "display_data",
          "data": {
            "text/plain": [
              "<Figure size 1296x432 with 12 Axes>"
            ],
            "image/png": "[encoded data removed]"
          },
          "metadata": {
            "needs_background": "light"
          }
        }
      ],
      "source": [
        "## Image pre-processing\n",
        "image_size =(15,15)# <-- YOUR CODE HERE\n",
        "# Amount of images\n",
        "amount = 5\n",
        "image_sample = np.random.choice(train_images, amount)\n",
        "\n",
        "# Define figure size\n",
        "fig = plt.figure(figsize=(18, 6))\n",
        "\n",
        "# Save original images in the figure\n",
        "ax = plt.subplot(2, amount + 1, 1)\n",
        "txt = ax.text(0.4, 0.5, 'Original', fontsize=20)\n",
        "txt.set_clip_on(False)\n",
        "plt.axis('off')\n",
        "for i, path in enumerate(image_sample):\n",
        "    plt.subplot(2, amount + 1, i + 2)\n",
        "    image = imread(path, as_gray=True)    \n",
        "    plt.imshow(image, cmap='gray')\n",
        "    _id = int(path.split('/')[-1].split('.')[0])\n",
        "    plt.title(\"{0}\\nshape: {1}\".format(train[train.id == _id].species.values[0], image.shape))\n",
        "    plt.axis('off')\n",
        "    \n",
        "# Save resized images in the figure\n",
        "ax = plt.subplot(2, amount + 1, len(image_sample) + 2)\n",
        "txt = ax.text(0.4, 0.5, 'Resized', fontsize=20)\n",
        "txt.set_clip_on(False)\n",
        "plt.axis('off')\n",
        "for i, path in enumerate(image_sample):\n",
        "    i += len(image_sample) + 3\n",
        "    plt.subplot(2, amount + 1, i)\n",
        "    image = imread(path, as_gray=True)\n",
        "    image = data_utils.pad2square(image)  # Make the image square\n",
        "    image = resize(image, output_shape=image_size, mode='reflect', anti_aliasing=True)  # resizes the image\n",
        "    plt.imshow(image, cmap='gray')\n",
        "\n",
        "# Show plot\n",
        "plt.show()"
      ]
    },
    {
      "cell_type": "markdown",
      "source": [
        "by increasing the image size parameter the image gets more defined as the original one, we decided to use it as 15,15 "
      ],
      "metadata": {
        "id": "uNarKGgdOsSo"
      }
    },
    {
      "cell_type": "markdown",
      "metadata": {
        "id": "WNKJhhUs_vxM"
      },
      "source": [
        "## Investigating the other features\n",
        "\n",
        "Now that we have looked at the image data we have available, it is time to take a look at the other available features. Below we choose a random subset of the training data, and visualize the 3 types of available features:\n",
        "* margin\n",
        "* shape\n",
        "* texture\n",
        "\n",
        "Run it a few times to try and get an understanding of how the features differ from species to species."
      ]
    },
    {
      "cell_type": "code",
      "execution_count": null,
      "metadata": {
        "id": "BvrGNlQR_vxM",
        "colab": {
          "base_uri": "https://localhost:8080/",
          "height": 429
        },
        "outputId": "5a4914f4-cb7f-4d77-bc1b-e47940cad662"
      },
      "outputs": [
        {
          "output_type": "display_data",
          "data": {
            "text/plain": [
              "<Figure size 1512x504 with 20 Axes>"
            ],
            "image/png": "[encoded data removed]"
          },
          "metadata": {
            "needs_background": "light"
          }
        }
      ],
      "source": [
        "# Extract features\n",
        "X = train.values\n",
        "species = X[:, 1:2]\n",
        "margin = X[:, 2:66]\n",
        "shape = X[:, 66:130]\n",
        "texture = X[:, 130:]\n",
        "\n",
        "# Let us plot some of the features\n",
        "plt.figure(figsize=(21,7)) # Set the plot size\n",
        "amount = 5                 # Choose the amount of images we want to show at a time\n",
        "\n",
        "for i, idx in enumerate(np.random.choice(range(len(train)), amount)):\n",
        "    ax = plt.subplot(amount,4,1+i*4)\n",
        "    txt = ax.text(0.2, 0.2, species[idx][0], fontsize=20)\n",
        "    txt.set_clip_on(False)\n",
        "    plt.axis('off')\n",
        "    if i == 0:\n",
        "        plt.title('Species', fontsize=20)\n",
        "    plt.subplot(amount,4,2+i*4)\n",
        "    plt.plot(margin[idx])\n",
        "    if i == 0:\n",
        "        plt.title('Margin', fontsize=20)\n",
        "    plt.axis('off')\n",
        "    plt.subplot(amount,4,3+i*4)\n",
        "    plt.plot(shape[idx])\n",
        "    if i == 0:\n",
        "        plt.title('Shape', fontsize=20)\n",
        "    plt.axis('off')\n",
        "    plt.subplot(amount,4,4+i*4)\n",
        "    plt.plot(texture[idx])\n",
        "    if i == 0:\n",
        "        plt.title('Texture', fontsize=20)\n",
        "    plt.axis('off')\n",
        "\n",
        "plt.tight_layout()\n",
        "plt.show()"
      ]
    },
    {
      "cell_type": "markdown",
      "metadata": {
        "id": "-FFqlxPs_vxN"
      },
      "source": [
        "## Exercise 4\n",
        "So far we have learned about feed forward neural networks (FFNN), convolutional neural networks (CNN), recurrent neural networks (RNN), and transformers.\n",
        "\n",
        "4.1) How could the `image`, `Margin`, `Shape` and `Texture` be used for classification, i.e. what kind of network type would you use for each of them, and why?\n",
        " * **Answer:**\n",
        " "
      ]
    },
    {
      "cell_type": "markdown",
      "source": [
        "we would use 2D CNN for the images, for Shape we use RNN as it has the same pattern. For texture and margin we also use RNN, however FFNN could also be used here. "
      ],
      "metadata": {
        "id": "F_g4hgqERmIj"
      }
    },
    {
      "cell_type": "markdown",
      "metadata": {
        "id": "Dri8pHw5_vxN"
      },
      "source": [
        "# Managing the data\n",
        "\n",
        "The details of the code in this section isn't that important.\n",
        "It simply manages the data in a nice way - so it is a good place to come back and look for inspiration when you will work on your own projects.\n",
        "\n",
        "\n",
        "## Defining the data loader"
      ]
    },
    {
      "cell_type": "markdown",
      "metadata": {
        "id": "xLJJdLIn_vxO"
      },
      "source": [
        "## Exercise 5 \n",
        "5.1) As a part of the data loader, we should specify the shape of the images, number of classes, and the number of features for the three feature types: margin, shape and texture. Define the three variables in the code below."
      ]
    },
    {
      "cell_type": "code",
      "execution_count": null,
      "metadata": {
        "id": "RY19docx_vxO"
      },
      "outputs": [],
      "source": [
        "# The image shape should be of the format (height, width, channels)\n",
        "IMAGE_SHAPE = (15,10,1) # <-- Your answer here\n",
        "NUM_CLASSES = len(indexes)  # <-- Your answer here \n",
        "\n",
        "# For all three feature types margin, shape, and texture, we have NUM_FEATURES for each type.\n",
        "NUM_FEATURES = len(species)  # <-- Your answer here"
      ]
    },
    {
      "cell_type": "code",
      "execution_count": null,
      "metadata": {
        "id": "nAoaZ5s-_vxO",
        "colab": {
          "base_uri": "https://localhost:8080/"
        },
        "outputId": "041bb1fd-1b40-44d3-f875-df5f5916c278"
      },
      "outputs": [
        {
          "output_type": "stream",
          "name": "stdout",
          "text": [
            "Loading training data\n",
            "\t0 of 990\n",
            "\t100 of 990\n",
            "\t200 of 990\n",
            "\t300 of 990\n",
            "\t400 of 990\n",
            "\t500 of 990\n",
            "\t600 of 990\n",
            "\t700 of 990\n",
            "\t800 of 990\n",
            "\t900 of 990\n",
            "Loading test data\n",
            "\t0 of 594\n",
            "\t100 of 594\n",
            "\t200 of 594\n",
            "\t300 of 594\n",
            "\t400 of 594\n",
            "\t500 of 594\n",
            "\n",
            "@@@Shape checking of data sets@@@\n",
            "TRAIN\n",
            "\timages\t(990, 15, 10, 1)0.279057\n",
            "\tmargins\t(990, 64)\t0.015625\n",
            "\tshapes\t(990, 64)\t0.000607\n",
            "\ttextures(990, 64)\t0.015625\n",
            "\tts\t 990\n",
            "\twhile training, batch_generator will onehot encode ts to (batch_size, num_classes)\n",
            "TEST\n",
            "\timages\t(594, 15, 10, 1)\t0.279360\n",
            "\tmargins\t(594, 64)\t0.015625\n",
            "\tshapes\t(594, 64)\t0.000604\n",
            "\ttextures(594, 64)\t0.015625\n",
            "\tids\t594\n"
          ]
        }
      ],
      "source": [
        "# Paths to data\n",
        "TRAIN_PATH = drive_path + \"/train.csv\" \n",
        "TEST_PATH = drive_path + \"/test.csv\" \n",
        "IMAGE_PATHS = glob.glob(drive_path + \"/images/*.jpg\")\n",
        "\n",
        "# train holds both X (input) and t (target/truth)\n",
        "data = data_utils.load_data(train_path=TRAIN_PATH, \n",
        "                            test_path=TEST_PATH,\n",
        "                            image_paths=IMAGE_PATHS,\n",
        "                            image_shape=IMAGE_SHAPE[:2])\n",
        "# to visualize the size of the dimensions of the data\n",
        "print(\"\\n@@@Shape checking of data sets@@@\")\n",
        "print(\"TRAIN\")\n",
        "print(\"\\timages\\t%s%f\" % (data.train['images'].shape, data.train['images'].mean()))\n",
        "print(\"\\tmargins\\t%s\\t%f\" % (data.train['margins'].shape, data.train['margins'].mean()))\n",
        "print(\"\\tshapes\\t%s\\t%f\" % (data.train['shapes'].shape, data.train['shapes'].mean()))\n",
        "print(\"\\ttextures%s\\t%f\" % (data.train['textures'].shape, data.train['textures'].mean()))\n",
        "print(\"\\tts\\t %s\" % (data.train['ts'].shape))\n",
        "print(\"\\twhile training, batch_generator will onehot encode ts to (batch_size, num_classes)\")\n",
        "print(\"TEST\")\n",
        "print(\"\\timages\\t%s\\t%f\" % (data.test['images'].shape, data.test['images'].mean())) \n",
        "print(\"\\tmargins\\t%s\\t%f\" % (data.test['margins'].shape, data.test['margins'].mean()))\n",
        "print(\"\\tshapes\\t%s\\t%f\" % (data.test['shapes'].shape, data.test['shapes'].mean()))\n",
        "print(\"\\ttextures%s\\t%f\" % (data.test['textures'].shape, data.test['textures'].mean()))\n",
        "print(\"\\tids\\t%s\" % (data.test['ids'].shape))"
      ]
    },
    {
      "cell_type": "markdown",
      "metadata": {
        "id": "4E_Nd9lz_vxO"
      },
      "source": [
        "#### Do you want to load your data quickly next time?\n",
        "In the above cell the data is loaded, reshaped and stored as an object. If you want load this object quickly next time you should go for pickle. Pickle does effectively write an object into a character stream, so it can be loaded fastly next time. Simply replace `drive_path` with you `local_path` if you're not using colab. "
      ]
    },
    {
      "cell_type": "code",
      "execution_count": null,
      "metadata": {
        "id": "MSv88uOx_vxP"
      },
      "outputs": [],
      "source": [
        "# import pickle\n",
        "\n",
        "# # Dump the data into a pickle file\n",
        "# with open(drive_path + '/data.pickle', 'wb') as f:\n",
        "#     pickle.dump(data, f)"
      ]
    },
    {
      "cell_type": "code",
      "execution_count": null,
      "metadata": {
        "id": "JtJF_LVs_vxP"
      },
      "outputs": [],
      "source": [
        "# # Load the data from a pickle file\n",
        "# with open(drive_path + '/data.pickle', 'rb') as f:\n",
        "#     data = pickle.load(f)"
      ]
    },
    {
      "cell_type": "markdown",
      "metadata": {
        "id": "goaKzDhd_vxP"
      },
      "source": [
        "## Batch Generator\n",
        "\n",
        "While training, we will not directly access the entire dataset, instead we have a `batch_generator` function to give us inputs aligned with their targets/ids in a size that our model can handle in memory (batch\\_size).\n",
        "\n",
        "Furthermore, the `batch_generator` also handles validation splitting.\n",
        "\n",
        "## Exercise 6\n",
        "6.1) Explain shortly why the size of batches is important. You should comment on how the size of batches affect the memory, training speed, and the estimates of the gradients.\n",
        "Choose a reasonable batch size the `batch_size = ?` parameter below, and note your choice.\n",
        "\n",
        " * **Answer:**"
      ]
    },
    {
      "cell_type": "code",
      "execution_count": null,
      "metadata": {
        "id": "-ULdCGSe_vxP",
        "colab": {
          "base_uri": "https://localhost:8080/"
        },
        "outputId": "07f1f841-be4a-4db2-a15c-9d1e63791473"
      },
      "outputs": [
        {
          "output_type": "stream",
          "name": "stdout",
          "text": [
            "TRAIN\n",
            "\timages, (10, 15, 10, 1)\n",
            "\tmargins, (10, 64)\n",
            "\tshapes, (10, 64)\n",
            "\ttextures, (10, 64)\n",
            "\tts, (10, 99)\n",
            "\n",
            "VALID\n",
            "\timages, (10, 15, 10, 1)\n",
            "\tmargins, (10, 64)\n",
            "\tshapes, (10, 64)\n",
            "\ttextures, (10, 64)\n",
            "\tts, (10, 99)\n",
            "\n",
            "TEST\n",
            "\timages, (10, 15, 10, 1)\n",
            "\tmargins, (10, 64)\n",
            "\tshapes, (10, 64)\n",
            "\ttextures, (10, 64)\n",
            "\tids, 10\n"
          ]
        }
      ],
      "source": [
        "batch_size = 32 \n",
        "dummy_batch_gen = data_utils.batch_generator(data, batch_size=batch_size, num_classes=NUM_CLASSES, num_iterations=5e3, seed=42)\n",
        "train_batch = next(dummy_batch_gen.gen_train())\n",
        "valid_batch, i = next(dummy_batch_gen.gen_valid())\n",
        "test_batch, i = next(dummy_batch_gen.gen_test())\n",
        "\n",
        "print(\"TRAIN\")\n",
        "print(\"\\timages,\", train_batch['images'].shape)\n",
        "print(\"\\tmargins,\", train_batch['margins'].shape)\n",
        "print(\"\\tshapes,\", train_batch['shapes'].shape)\n",
        "print(\"\\ttextures,\", train_batch['textures'].shape)\n",
        "print(\"\\tts,\", train_batch['ts'].shape)\n",
        "print()\n",
        "print(\"VALID\")\n",
        "print(\"\\timages,\", valid_batch['images'].shape)\n",
        "print(\"\\tmargins,\", valid_batch['margins'].shape)\n",
        "print(\"\\tshapes,\", valid_batch['shapes'].shape)\n",
        "print(\"\\ttextures,\", valid_batch['textures'].shape)\n",
        "print(\"\\tts,\", valid_batch['ts'].shape)\n",
        "print()\n",
        "print(\"TEST\")\n",
        "print(\"\\timages,\", test_batch['images'].shape)\n",
        "print(\"\\tmargins,\", test_batch['margins'].shape)\n",
        "print(\"\\tshapes,\", test_batch['shapes'].shape)\n",
        "print(\"\\ttextures,\", test_batch['textures'].shape)\n",
        "print(\"\\tids,\", len(test_batch['ids']))"
      ]
    },
    {
      "cell_type": "markdown",
      "source": [
        "We will use a batch size of 32 as it fits to the dataset size in our case and as it genrates less noise in the gradients "
      ],
      "metadata": {
        "id": "-t7Nj1GiYTOE"
      }
    },
    {
      "cell_type": "markdown",
      "metadata": {
        "id": "L3ajAgBQ_vxQ"
      },
      "source": [
        "# Build the model"
      ]
    },
    {
      "cell_type": "code",
      "execution_count": 134,
      "metadata": {
        "id": "iPRH268b_vxQ"
      },
      "outputs": [],
      "source": [
        "# Load functions\n",
        "import torch\n",
        "from torch.autograd import Variable\n",
        "import torch.nn as nn\n",
        "import torch.optim as optim\n",
        "from torch.nn import Linear, GRU, Conv2d, Dropout, MaxPool2d, BatchNorm1d,Sequential, Softmax, ReLU,BatchNorm2d\n",
        "from torch.nn.functional import relu, elu, relu6, sigmoid, tanh, softmax"
      ]
    },
    {
      "cell_type": "code",
      "execution_count": 135,
      "metadata": {
        "id": "DOy0i9Kr_vxQ",
        "colab": {
          "base_uri": "https://localhost:8080/"
        },
        "outputId": "efb3c4f6-2bd6-40cd-df58-00479a0405aa"
      },
      "outputs": [
        {
          "output_type": "stream",
          "name": "stdout",
          "text": [
            "No GPU available.\n"
          ]
        }
      ],
      "source": [
        "use_cuda = torch.cuda.is_available()\n",
        "print(\"Running GPU.\") if use_cuda else print(\"No GPU available.\")\n",
        "\n",
        "\n",
        "def get_variable(x):\n",
        "    \"\"\" Converts tensors to cuda, if available. \"\"\"\n",
        "    if use_cuda:\n",
        "        return x.cuda()\n",
        "    return x\n",
        "\n",
        "\n",
        "def get_numpy(x):\n",
        "    \"\"\" Get numpy array for both cuda and not. \"\"\"\n",
        "    if use_cuda:\n",
        "        return x.cpu().data.numpy()\n",
        "    return x.data.numpy()"
      ]
    },
    {
      "cell_type": "markdown",
      "metadata": {
        "id": "QUoc1Bqz_vxQ"
      },
      "source": [
        "## Exercise 7\n",
        "7.1)  Now you must define the network architecture. It is always a good idea to start simple. We recommend you to start with a mix of a convolutional layer (maybe followed by max pooling layer), a recurrent layer, and a linear output layer such that we use all the features.  \n",
        "\n",
        "When you build the model you should be aware of the dimensions of the input and output for your different layers. The function`permute` and `view` will be very useful to rearrange your dimensions."
      ]
    },
    {
      "cell_type": "code",
      "execution_count": 136,
      "metadata": {
        "id": "nIY9sW0f_vxR",
        "colab": {
          "base_uri": "https://localhost:8080/"
        },
        "outputId": "cf425631-f6e0-4fe9-9557-b61f7b3e79a8"
      },
      "outputs": [
        {
          "output_type": "stream",
          "name": "stdout",
          "text": [
            "Net(\n",
            "  (cnn): Sequential(\n",
            "    (0): BatchNorm2d(1, eps=1e-05, momentum=0.1, affine=False, track_running_stats=True)\n",
            "    (1): Dropout(p=0.5, inplace=False)\n",
            "    (2): Conv2d(1, 32, kernel_size=(3, 3), stride=(1, 1), padding=(1, 1))\n",
            "    (3): ReLU()\n",
            "    (4): BatchNorm2d(32, eps=1e-05, momentum=0.1, affine=False, track_running_stats=True)\n",
            "    (5): Dropout(p=0.3, inplace=False)\n",
            "    (6): Conv2d(32, 128, kernel_size=(3, 3), stride=(1, 1), padding=(1, 1))\n",
            "    (7): ReLU()\n",
            "    (8): MaxPool2d(kernel_size=2, stride=2, padding=0, dilation=1, ceil_mode=False)\n",
            "  )\n",
            "  (rnn): GRU(1, 16, num_layers=128, dropout=0.2)\n",
            "  (ffnn): Sequential(\n",
            "    (0): BatchNorm1d(512, eps=1e-05, momentum=0.1, affine=True, track_running_stats=True)\n",
            "    (1): Linear(in_features=512, out_features=256, bias=True)\n",
            "    (2): ReLU()\n",
            "    (3): BatchNorm1d(256, eps=1e-05, momentum=0.1, affine=True, track_running_stats=True)\n",
            "    (4): Dropout(p=0.5, inplace=False)\n",
            "    (5): Linear(in_features=256, out_features=128, bias=True)\n",
            "    (6): ReLU()\n",
            "    (7): BatchNorm1d(128, eps=1e-05, momentum=0.1, affine=True, track_running_stats=True)\n",
            "    (8): Dropout(p=0.3, inplace=False)\n",
            "    (9): Linear(in_features=128, out_features=99, bias=True)\n",
            "  )\n",
            "  (softmax): Softmax(dim=1)\n",
            ")\n"
          ]
        }
      ],
      "source": [
        "height, width, channels = IMAGE_SHAPE\n",
        "\n",
        "conv_out_channels =  32 # <-- Filters in your convolutional layer\n",
        "kernel_size = 3      # <-- Kernel size\n",
        "conv_stride = 1      # <-- Stride\n",
        "conv_pad    = 1      # <-- Padding\n",
        " \n",
        "# Keep track of features to output layer\n",
        "features_cat_size = 128 # <-- Number of features concatenated before output layer\n",
        "\n",
        "class Net(nn.Module):\n",
        "    def __init__(self):\n",
        "        super(Net, self).__init__()\n",
        "\n",
        "        # Exercise 3.1: Improving the network\n",
        "        # >> YOUR CODE HERE <<\n",
        "        self.cnn = Sequential(\n",
        "            BatchNorm2d(channels, affine=False),\n",
        "            Dropout(p=0.5),\n",
        "            Conv2d(in_channels=channels,\n",
        "            out_channels=conv_out_channels,\n",
        "            kernel_size=kernel_size,\n",
        "            stride=conv_stride,\n",
        "            padding=conv_pad), \n",
        "            ReLU(),\n",
        "\n",
        "            BatchNorm2d(conv_out_channels, affine=False),\n",
        "            Dropout(p=0.3),\n",
        "            Conv2d(in_channels=conv_out_channels,\n",
        "            out_channels=conv_out_channels*4,\n",
        "            kernel_size=kernel_size,\n",
        "            stride=conv_stride,\n",
        "            padding=conv_pad),\n",
        "            ReLU(),\n",
        "            MaxPool2d(kernel_size=2, stride=2)) \n",
        "        \n",
        "        # Exercise: Add a recurrent unit like and RNN or GRU\n",
        "        # >> YOUR CODE HERE <<\n",
        "        self.rnn = nn.GRU(1, 16, conv_out_channels*4, dropout=0.2)\n",
        "        \n",
        "        self.ffnn = Sequential(\n",
        "            BatchNorm1d(num_features=512),\n",
        "            Linear(in_features=512, out_features=256), \n",
        "            ReLU(),\n",
        "            BatchNorm1d(num_features=256),\n",
        "            Dropout(p=0.5),\n",
        "            Linear(in_features=256, out_features=features_cat_size), \n",
        "            ReLU(),\n",
        "            BatchNorm1d(num_features=features_cat_size),\n",
        "            Dropout(p=0.3),\n",
        "            Linear(in_features=128, out_features=NUM_CLASSES))\n",
        "\n",
        "        self.softmax = Softmax(dim=1)\n",
        "\n",
        "    def forward(self, x_img, x_margin, x_shape, x_texture):\n",
        "        features = []\n",
        "        out = {}\n",
        "        \n",
        "        ## Convolutional layer ##\n",
        "        #1 - Change dimensions to fit the convolutional layer \n",
        "        #2 - Apply Conv2d\n",
        "        #3 - Use an activation function\n",
        "        #4 - Change dimensions s.t. the features can be used in the final FFNN output layer\n",
        "        \n",
        "        # >> YOUR CODE HERE <<\n",
        "        #1\n",
        "        batches, w, h, ch = x_img.shape\n",
        "        x_img = x_img.view(batches, ch, w, h)\n",
        "        #2\n",
        "        features_img = self.cnn(x_img)\n",
        "        #3\n",
        "        features_img = relu(features_img)\n",
        "        #4\n",
        "        features_img = features_img[:, :, 0, 0]\n",
        "\n",
        "        # Append features to the list \"features\"\n",
        "        features.append(features_img)\n",
        "        \n",
        "        ## Use concatenated leaf features for FFNN ##\n",
        "        x = torch.cat((x_margin, x_shape, x_texture), dim=1)  # if you want to use features as feature vectors\n",
        "        features_vector = x\n",
        "        features.append(features_vector)\n",
        "        \n",
        "        \n",
        "        ## Use concatenated leaf features for RNN ##\n",
        "        #1 - Change dimensions to fit GRU\n",
        "        #2 - Apply GRU\n",
        "        #3 - Change dimensions s.t. the features can be used in the final FFNN output layer\n",
        "\n",
        "        # >> YOUR CODE HERE <<\n",
        "        #1\n",
        "        features_rnn = features_vector.unsqueeze(-1)\n",
        "        #2\n",
        "        features_rnn = self.rnn(features_rnn)\n",
        "        #3\n",
        "        features_rnn = torch.cat(features_rnn)\n",
        "        features_rnn = features_rnn[0:batches,:,0]\n",
        "        \n",
        "        # Append features to the list \"features\"\n",
        "        features.append(features_rnn)\n",
        "        \n",
        "        \n",
        "        ## Output layer where all features are in use ##\n",
        "        features_final = torch.cat(features, dim=1)\n",
        "\n",
        "        features_ffnn = features_final.reshape(features_final.size(0), -1)\n",
        "        features_ffnn = self.ffnn(features_final)\n",
        "        \n",
        "        out['out'] = self.softmax(features_ffnn) \n",
        "        return out\n",
        "\n",
        "net = Net()\n",
        "if use_cuda:\n",
        "    net.cuda()\n",
        "print(net)"
      ]
    },
    {
      "cell_type": "markdown",
      "metadata": {
        "id": "9Z4Hde3p_vxR"
      },
      "source": [
        "# Build the cost function"
      ]
    },
    {
      "cell_type": "markdown",
      "metadata": {
        "id": "sBFHokeb_vxR"
      },
      "source": [
        "## Exercise 8\n",
        "8.1) Since this is a classification task we will use the cross-entropy loss. Define the cross-entropy loss as the loss function in the code below."
      ]
    },
    {
      "cell_type": "code",
      "execution_count": 129,
      "metadata": {
        "id": "WF7QhlSd_vxR"
      },
      "outputs": [],
      "source": [
        "LEARNING_RATE = 0.001\n",
        "criterion = nn.CrossEntropyLoss()\n",
        "        # <-- Your code here.   \n",
        "\n",
        "# weight_decay is equal to L2 regularization\n",
        "optimizer = optim.Adam(net.parameters(), lr=LEARNING_RATE)\n",
        "\n",
        "def accuracy(ys, ts):\n",
        "    predictions = torch.max(ys, 1)[1]\n",
        "    correct_prediction = torch.eq(predictions, ts)\n",
        "    return torch.mean(correct_prediction.float())"
      ]
    },
    {
      "cell_type": "markdown",
      "metadata": {
        "id": "OcgOXOo2_vxS"
      },
      "source": [
        "## Test network\n",
        "\n",
        "#### Debugging \n",
        "The following cell might cause you some errors - try these suggestions before you try anyting else.\n",
        "\n",
        "* **Your kernel keeps dying** on the line below it is most likely because you run out of memory.\n",
        "The two most likely solutions are \n",
        " 1. reduce the image size further\n",
        " 1. change your network architecture such that it uses less resources\n",
        "\n",
        "* **`RuntimeError: size mismatch, m1: [??? x ???], m2: [??? x ???]`** \n",
        " 1. `features_cat_size` must match the actual output of the network i.e. the second dimension in `m1`.\n",
        "\n",
        "* **Training is very slow**. This is most likely caused by the images. \n",
        " 1. Try and reduce the size of the images further, or reduce the dimensions of the network using either pooling or strides.\n"
      ]
    },
    {
      "cell_type": "code",
      "execution_count": null,
      "metadata": {
        "id": "K28PKMiq_vxS"
      },
      "outputs": [],
      "source": [
        "_img_shape = tuple([batch_size] + list(IMAGE_SHAPE))\n",
        "_feature_shape = (batch_size, NUM_FEATURES)\n",
        "\n",
        "def randnorm(size):\n",
        "    return np.random.normal(0, 1, size).astype('float32')\n",
        "\n",
        "# dummy data\n",
        "_x_image = get_variable(Variable(torch.from_numpy(randnorm(_img_shape))))\n",
        "_x_margin = get_variable(Variable(torch.from_numpy(randnorm(_feature_shape))))\n",
        "_x_shape = get_variable(Variable(torch.from_numpy(randnorm(_feature_shape))))\n",
        "_x_texture = get_variable(Variable(torch.from_numpy(randnorm(_feature_shape))))\n",
        "\n",
        "# test the forward pass\n",
        "output = net(x_img=_x_image, x_margin=_x_margin, x_shape=_x_shape, x_texture=_x_texture)\n",
        "output['out']"
      ]
    },
    {
      "cell_type": "markdown",
      "metadata": {
        "id": "uaHodZoK_vxS"
      },
      "source": [
        "# Train"
      ]
    },
    {
      "cell_type": "code",
      "execution_count": null,
      "metadata": {
        "id": "VGIp8cco_vxS"
      },
      "outputs": [],
      "source": [
        "# Setup settings for training \n",
        "VALIDATION_SIZE = 0.1 # 0.1 is ~ 100 samples for validation\n",
        "max_iter = 1000\n",
        "log_every = 100\n",
        "eval_every = 100\n",
        "\n",
        "# Function to get label\n",
        "def get_labels(batch):\n",
        "    return get_variable(Variable(torch.from_numpy(batch['ts']).long()))\n",
        "\n",
        "# Function to get input\n",
        "def get_input(batch):\n",
        "    return {\n",
        "        'x_img': get_variable(Variable(torch.from_numpy(batch['images']))),\n",
        "        'x_margin': get_variable(Variable(torch.from_numpy(batch['margins']))),\n",
        "        'x_shape': get_variable(Variable(torch.from_numpy(batch['shapes']))),\n",
        "        'x_texture': get_variable(Variable(torch.from_numpy(batch['textures'])))\n",
        "    }\n",
        "\n",
        "# Initialize lists for training and validation\n",
        "train_iter = []\n",
        "train_loss, train_accs = [], []\n",
        "valid_iter = []\n",
        "valid_loss, valid_accs = [], []\n",
        "\n",
        "# Generate batches\n",
        "batch_gen = data_utils.batch_generator(data,\n",
        "                                       batch_size=batch_size,\n",
        "                                       num_classes=NUM_CLASSES,\n",
        "                                       num_iterations=max_iter,\n",
        "                                       seed=42,\n",
        "                                       val_size=VALIDATION_SIZE)\n",
        "\n",
        "# Train network\n",
        "net.train()\n",
        "for i, batch_train in enumerate(batch_gen.gen_train()):\n",
        "    if i % eval_every == 0:\n",
        "        \n",
        "        # Do the validaiton\n",
        "        net.eval()\n",
        "        val_losses, val_accs, val_lengths = 0, 0, 0\n",
        "        for batch_valid, num in batch_gen.gen_valid():\n",
        "            output = net(**get_input(batch_valid))\n",
        "            labels_argmax = torch.max(get_labels(batch_valid), 1)[1]\n",
        "            val_losses += criterion(output['out'], labels_argmax) * num\n",
        "            val_accs += accuracy(output['out'], labels_argmax) * num\n",
        "            val_lengths += num\n",
        "\n",
        "        # Divide by the total accumulated batch sizes\n",
        "        val_losses /= val_lengths\n",
        "        val_accs /= val_lengths\n",
        "        valid_loss.append(get_numpy(val_losses))\n",
        "        valid_accs.append(get_numpy(val_accs))\n",
        "        valid_iter.append(i)\n",
        "#         print(\"Valid, it: {} loss: {:.2f} accs: {:.2f}\\n\".format(i, valid_loss[-1], valid_accs[-1]))\n",
        "        net.train()\n",
        "    \n",
        "    # Train network\n",
        "    output = net(**get_input(batch_train))\n",
        "    labels_argmax = torch.max(get_labels(batch_train), 1)[1]\n",
        "    batch_loss = criterion(output['out'], labels_argmax)\n",
        "    \n",
        "    train_iter.append(i)\n",
        "    train_loss.append(float(get_numpy(batch_loss)))\n",
        "    train_accs.append(float(get_numpy(accuracy(output['out'], labels_argmax))))\n",
        "    \n",
        "    optimizer.zero_grad()\n",
        "    batch_loss.backward()\n",
        "    optimizer.step()\n",
        "    \n",
        "    # Log i figure\n",
        "    if i % log_every == 0:\n",
        "        fig = plt.figure(figsize=(12,4))\n",
        "        plt.subplot(1, 2, 1)\n",
        "        plt.plot(train_iter, train_loss, label='train_loss')\n",
        "        plt.plot(valid_iter, valid_loss, label='valid_loss')\n",
        "        plt.legend()\n",
        "\n",
        "        plt.subplot(1, 2, 2)\n",
        "        plt.plot(train_iter, train_accs, label='train_accs')\n",
        "        plt.plot(valid_iter, valid_accs, label='valid_accs')\n",
        "        plt.legend()\n",
        "        plt.show()\n",
        "        clear_output(wait=True)\n",
        "#         print(\"Train, it: {} loss: {:.2f} accs: {:.2f}\".format(i, train_loss[-1], train_accs[-1]))\n",
        "        \n",
        "    if max_iter < i:\n",
        "        break"
      ]
    },
    {
      "cell_type": "markdown",
      "metadata": {
        "id": "9hq_wdJP_vxT"
      },
      "source": [
        "## Exercise 9\n",
        "\n",
        "**Tip** This is a very small dataset (number of observations) compared to the number of features.\n",
        "This means that overfitting may be an issue, and sometimes fancy tricks won't do any good. \n",
        "Keep that in mind, and always start simple.\n",
        "\n",
        "**3.1) Improve the network**, and get as high a validation score as you can. \n",
        "When trying to improve the network nothing is sacred. You can try various learning rates, batch sizes, validation sizes, etc. \n",
        "And most importantly, the validation set is very small (only 1 sample per class), etc.\n",
        "\n",
        "To get you off to a good start we have created a list of **things you might want to try**:\n",
        "* Add more layers (mostly fully connected and convolutional)\n",
        "* Increase or decrease the batch size \n",
        "* Use dropout (a lot - e.g. between the convolutional layers)\n",
        "* Use batch normalization (a lot)\n",
        "* Try with L2 regularization (weight decay)\n",
        "* Use only the image for training (with CNN) - comment on the increased time between iterations.\n",
        "* Change the image size to be bigger or smaller\n",
        "* Try other combinations of FFN, CNN, RNN parts in various ways (bigger is not always better)\n",
        "\n",
        "If your network is not performing as well as you would like it to, [here](http://theorangeduck.com/page/neural-network-not-working) is a great explanation of what might have gone wrong.\n",
        "\n",
        "\n",
        "**3.2) Improve Kaggle score**. Once happy try to get the best score on Kaggle for this dataset as you can (**upload** instructions below)\n",
        "You can upload your solution multiple times as you progress.\n",
        "A very good implementation would get a score between $0.04$ to $0.06$ (the smaller the better), try and see if you can get there, and explain what might have gone wrong if you can't. \n",
        "\n",
        "\n",
        "**3.3) Reflect on the process**, and how you got to your final design and discuss your final results. \n",
        "What worked, and what didn't?\n",
        "Include at least the following: \n",
        "* Description of the final architecture\n",
        "* Description of the training parameters\n",
        "* Description of the final results (Kaggle and validation)\n",
        "\n",
        "**Answer:**\n"
      ]
    },
    {
      "cell_type": "markdown",
      "metadata": {
        "id": "ezNdmG8i_vxT"
      },
      "source": [
        "# Submission to Kaggle\n",
        "\n",
        "First we have to make test set predictions, then we have to place the output in the submission file and then upload to Kaggle to get our score! You can upload up to 5 submissions per day."
      ]
    },
    {
      "cell_type": "code",
      "execution_count": null,
      "metadata": {
        "id": "7uK0NqwV_vxT"
      },
      "outputs": [],
      "source": [
        "# GET PREDICTIONS\n",
        "# containers to collect ids and predictions\n",
        "ids_test, preds_test = [], []\n",
        "net.eval()\n",
        "# run like with validation\n",
        "for batch_test, num in batch_gen.gen_test():\n",
        "    output = net(**get_input(batch_test))\n",
        "    y_out = output['out'].data\n",
        "\n",
        "    ids_test += batch_test['ids']\n",
        "    if num!=len(y_out):\n",
        "        # in case of the last batch, num will be less than batch_size\n",
        "        y_out = y_out[:num]\n",
        "    preds_test.append(y_out)\n",
        "preds_test = np.concatenate(preds_test, axis=0)\n",
        "assert len(ids_test) == len(preds_test)"
      ]
    },
    {
      "cell_type": "markdown",
      "metadata": {
        "id": "hd5jUDK5_vxU"
      },
      "source": [
        "## Make submission file"
      ]
    },
    {
      "cell_type": "code",
      "execution_count": null,
      "metadata": {
        "scrolled": true,
        "id": "ozMv5cgr_vxU"
      },
      "outputs": [],
      "source": [
        "preds_df = pd.DataFrame(preds_test, columns=data.le.classes_)\n",
        "ids_test_df = pd.DataFrame(ids_test, columns=[\"id\"])\n",
        "submission = pd.concat([ids_test_df, preds_df], axis=1)\n",
        "submission.to_csv(drive_path + 'submission.csv', index=False)\n",
        "\n",
        "# below prints the submission, can be removed and replaced with code block below\n",
        "submission.head(5)"
      ]
    },
    {
      "cell_type": "markdown",
      "metadata": {
        "id": "SLBU7nob_vxU"
      },
      "source": [
        "## Upload submission\n",
        "\n",
        "1. Go to [`https://www.kaggle.com/c/leaf-classification/submit`](https://www.kaggle.com/c/leaf-classification/submit)\n",
        "3. Click or drop your submission here (writing a description is good practice)\n",
        "4. Submit and look at where you are on the leaderboard.\n",
        "\n",
        "Success! "
      ]
    }
  ],
  "metadata": {
    "anaconda-cloud": {},
    "kernelspec": {
      "display_name": "Python 3 (ipykernel)",
      "language": "python",
      "name": "python3"
    },
    "language_info": {
      "codemirror_mode": {
        "name": "ipython",
        "version": 3
      },
      "file_extension": ".py",
      "mimetype": "text/x-python",
      "name": "python",
      "nbconvert_exporter": "python",
      "pygments_lexer": "ipython3",
      "version": "3.8.12"
    },
    "colab": {
      "provenance": [],
      "collapsed_sections": []
    }
  },
  "nbformat": 4,
  "nbformat_minor": 0
}